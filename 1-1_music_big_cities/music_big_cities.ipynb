{
 "cells": [
  {
   "cell_type": "markdown",
   "metadata": {
    "id": "E0vqbgi9ay0H"
   },
   "source": [
    "# Яндекс.Музыка"
   ]
  },
  {
   "cell_type": "markdown",
   "metadata": {
    "id": "VUC88oWjTJw2"
   },
   "source": [
    "На данных Яндекс.Музыки сравним поведение пользователей двух столиц.\n",
    "\n",
    "**Цель исследования** — проверьте три гипотезы:\n",
    "1. Активность пользователей зависит от дня недели. Причём в Москве и Петербурге это проявляется по-разному.\n",
    "2. В понедельник утром в Москве преобладают одни жанры, а в Петербурге — другие. Так же и вечером пятницы преобладают разные жанры — в зависимости от города. \n",
    "3. Москва и Петербург предпочитают разные жанры музыки. В Москве чаще слушают поп-музыку, в Петербурге — русский рэп.\n",
    "\n",
    "**Ход исследования**\n",
    "\n",
    "Данные о поведении пользователей из предоставленных файлов. О качестве данных ничего не известно. Поэтому перед проверкой гипотез понадобится обзор данных. "
   ]
  },
  {
   "cell_type": "markdown",
   "metadata": {
    "id": "Ml1hmfXC_Zcs"
   },
   "source": [
    "## Обзор данных\n",
    "\n",
    "Составьте первое представление о данных Яндекс.Музыки.\n",
    "\n",
    "\n"
   ]
  },
  {
   "cell_type": "markdown",
   "metadata": {
    "id": "57eAOGIz_Zcs"
   },
   "source": [
    "Основной инструмент аналитика — `pandas`. Импортируйте эту библиотеку."
   ]
  },
  {
   "cell_type": "code",
   "execution_count": 1,
   "metadata": {
    "id": "AXN7PHPN_Zcs"
   },
   "outputs": [],
   "source": [
    "import pandas as pd # импорт библиотеки pandas"
   ]
  },
  {
   "cell_type": "markdown",
   "metadata": {
    "id": "SG23P8tt_Zcs"
   },
   "source": [
    "Прочитайте файл `yandex_music_project.csv` из папки `/datasets` и сохраните его в переменной `df`:"
   ]
  },
  {
   "cell_type": "code",
   "execution_count": null,
   "metadata": {
    "id": "fFVu7vqh_Zct"
   },
   "outputs": [],
   "source": [
    "df = pd.read_csv('data.csv') # чтение файла с данными и сохранение в df"
   ]
  },
  {
   "cell_type": "markdown",
   "metadata": {
    "id": "rDoOMd3uTqnZ"
   },
   "source": [
    "Выведем на экран первые десять строк таблицы:"
   ]
  },
  {
   "cell_type": "code",
   "execution_count": 3,
   "metadata": {
    "id": "oWTVX3gW_Zct"
   },
   "outputs": [
    {
     "data": {
      "text/html": [
       "<div>\n",
       "<style scoped>\n",
       "    .dataframe tbody tr th:only-of-type {\n",
       "        vertical-align: middle;\n",
       "    }\n",
       "\n",
       "    .dataframe tbody tr th {\n",
       "        vertical-align: top;\n",
       "    }\n",
       "\n",
       "    .dataframe thead th {\n",
       "        text-align: right;\n",
       "    }\n",
       "</style>\n",
       "<table border=\"1\" class=\"dataframe\">\n",
       "  <thead>\n",
       "    <tr style=\"text-align: right;\">\n",
       "      <th></th>\n",
       "      <th>userID</th>\n",
       "      <th>Track</th>\n",
       "      <th>artist</th>\n",
       "      <th>genre</th>\n",
       "      <th>City</th>\n",
       "      <th>time</th>\n",
       "      <th>Day</th>\n",
       "    </tr>\n",
       "  </thead>\n",
       "  <tbody>\n",
       "    <tr>\n",
       "      <td>0</td>\n",
       "      <td>FFB692EC</td>\n",
       "      <td>Kamigata To Boots</td>\n",
       "      <td>The Mass Missile</td>\n",
       "      <td>rock</td>\n",
       "      <td>Saint-Petersburg</td>\n",
       "      <td>20:28:33</td>\n",
       "      <td>Wednesday</td>\n",
       "    </tr>\n",
       "    <tr>\n",
       "      <td>1</td>\n",
       "      <td>55204538</td>\n",
       "      <td>Delayed Because of Accident</td>\n",
       "      <td>Andreas Rönnberg</td>\n",
       "      <td>rock</td>\n",
       "      <td>Moscow</td>\n",
       "      <td>14:07:09</td>\n",
       "      <td>Friday</td>\n",
       "    </tr>\n",
       "    <tr>\n",
       "      <td>2</td>\n",
       "      <td>20EC38</td>\n",
       "      <td>Funiculì funiculà</td>\n",
       "      <td>Mario Lanza</td>\n",
       "      <td>pop</td>\n",
       "      <td>Saint-Petersburg</td>\n",
       "      <td>20:58:07</td>\n",
       "      <td>Wednesday</td>\n",
       "    </tr>\n",
       "    <tr>\n",
       "      <td>3</td>\n",
       "      <td>A3DD03C9</td>\n",
       "      <td>Dragons in the Sunset</td>\n",
       "      <td>Fire + Ice</td>\n",
       "      <td>folk</td>\n",
       "      <td>Saint-Petersburg</td>\n",
       "      <td>08:37:09</td>\n",
       "      <td>Monday</td>\n",
       "    </tr>\n",
       "    <tr>\n",
       "      <td>4</td>\n",
       "      <td>E2DC1FAE</td>\n",
       "      <td>Soul People</td>\n",
       "      <td>Space Echo</td>\n",
       "      <td>dance</td>\n",
       "      <td>Moscow</td>\n",
       "      <td>08:34:34</td>\n",
       "      <td>Monday</td>\n",
       "    </tr>\n",
       "    <tr>\n",
       "      <td>5</td>\n",
       "      <td>842029A1</td>\n",
       "      <td>Преданная</td>\n",
       "      <td>IMPERVTOR</td>\n",
       "      <td>rusrap</td>\n",
       "      <td>Saint-Petersburg</td>\n",
       "      <td>13:09:41</td>\n",
       "      <td>Friday</td>\n",
       "    </tr>\n",
       "    <tr>\n",
       "      <td>6</td>\n",
       "      <td>4CB90AA5</td>\n",
       "      <td>True</td>\n",
       "      <td>Roman Messer</td>\n",
       "      <td>dance</td>\n",
       "      <td>Moscow</td>\n",
       "      <td>13:00:07</td>\n",
       "      <td>Wednesday</td>\n",
       "    </tr>\n",
       "    <tr>\n",
       "      <td>7</td>\n",
       "      <td>F03E1C1F</td>\n",
       "      <td>Feeling This Way</td>\n",
       "      <td>Polina Griffith</td>\n",
       "      <td>dance</td>\n",
       "      <td>Moscow</td>\n",
       "      <td>20:47:49</td>\n",
       "      <td>Wednesday</td>\n",
       "    </tr>\n",
       "    <tr>\n",
       "      <td>8</td>\n",
       "      <td>8FA1D3BE</td>\n",
       "      <td>И вновь продолжается бой</td>\n",
       "      <td>NaN</td>\n",
       "      <td>ruspop</td>\n",
       "      <td>Moscow</td>\n",
       "      <td>09:17:40</td>\n",
       "      <td>Friday</td>\n",
       "    </tr>\n",
       "    <tr>\n",
       "      <td>9</td>\n",
       "      <td>E772D5C0</td>\n",
       "      <td>Pessimist</td>\n",
       "      <td>NaN</td>\n",
       "      <td>dance</td>\n",
       "      <td>Saint-Petersburg</td>\n",
       "      <td>21:20:49</td>\n",
       "      <td>Wednesday</td>\n",
       "    </tr>\n",
       "  </tbody>\n",
       "</table>\n",
       "</div>"
      ],
      "text/plain": [
       "     userID                        Track            artist   genre  \\\n",
       "0  FFB692EC            Kamigata To Boots  The Mass Missile    rock   \n",
       "1  55204538  Delayed Because of Accident  Andreas Rönnberg    rock   \n",
       "2    20EC38            Funiculì funiculà       Mario Lanza     pop   \n",
       "3  A3DD03C9        Dragons in the Sunset        Fire + Ice    folk   \n",
       "4  E2DC1FAE                  Soul People        Space Echo   dance   \n",
       "5  842029A1                    Преданная         IMPERVTOR  rusrap   \n",
       "6  4CB90AA5                         True      Roman Messer   dance   \n",
       "7  F03E1C1F             Feeling This Way   Polina Griffith   dance   \n",
       "8  8FA1D3BE     И вновь продолжается бой               NaN  ruspop   \n",
       "9  E772D5C0                    Pessimist               NaN   dance   \n",
       "\n",
       "             City        time        Day  \n",
       "0  Saint-Petersburg  20:28:33  Wednesday  \n",
       "1            Moscow  14:07:09     Friday  \n",
       "2  Saint-Petersburg  20:58:07  Wednesday  \n",
       "3  Saint-Petersburg  08:37:09     Monday  \n",
       "4            Moscow  08:34:34     Monday  \n",
       "5  Saint-Petersburg  13:09:41     Friday  \n",
       "6            Moscow  13:00:07  Wednesday  \n",
       "7            Moscow  20:47:49  Wednesday  \n",
       "8            Moscow  09:17:40     Friday  \n",
       "9  Saint-Petersburg  21:20:49  Wednesday  "
      ]
     },
     "metadata": {},
     "output_type": "display_data"
    }
   ],
   "source": [
    "display(df.head(10)) # получение первых 10 строк таблицы df"
   ]
  },
  {
   "cell_type": "markdown",
   "metadata": {
    "id": "EO73Kwic_Zct"
   },
   "source": [
    "Одной командой получить общую информацию о таблице:"
   ]
  },
  {
   "cell_type": "code",
   "execution_count": 4,
   "metadata": {
    "id": "DSf2kIb-_Zct"
   },
   "outputs": [
    {
     "name": "stdout",
     "output_type": "stream",
     "text": [
      "<class 'pandas.core.frame.DataFrame'>\n",
      "RangeIndex: 65079 entries, 0 to 65078\n",
      "Data columns (total 7 columns):\n",
      "  userID    65079 non-null object\n",
      "Track       63848 non-null object\n",
      "artist      57876 non-null object\n",
      "genre       63881 non-null object\n",
      "  City      65079 non-null object\n",
      "time        65079 non-null object\n",
      "Day         65079 non-null object\n",
      "dtypes: object(7)\n",
      "memory usage: 3.5+ MB\n"
     ]
    }
   ],
   "source": [
    "df.info() # получение общей информации о данных в таблице df"
   ]
  },
  {
   "cell_type": "markdown",
   "metadata": {
    "id": "TaQ2Iwbr_Zct"
   },
   "source": [
    "Итак, в таблице семь столбцов. Тип данных во всех столбцах — `object`.\n",
    "\n",
    "Согласно документации к данным:\n",
    "* `userID` — идентификатор пользователя;\n",
    "* `Track` — название трека;  \n",
    "* `artist` — имя исполнителя;\n",
    "* `genre` — название жанра;\n",
    "* `City` — город пользователя;\n",
    "* `time` — время начала прослушивания;\n",
    "* `Day` — день недели.\n",
    "\n",
    "В названиях колонок видны три нарушения стиля:\n",
    "1. Строчные буквы сочетаются с прописными.\n",
    "2. Встречаются пробелы.\n",
    "3. Не учтено правило \"хорошего стиля\", для исправления необходимо написать заголовок в \"змеином регистре\". #Найдите ещё одну проблему в названии колонок и опишите её в этом пункте.\n",
    "\n",
    "\n",
    "\n",
    "Количество значений в столбцах различается. Значит, в данных есть пропущенные значения.\n"
   ]
  },
  {
   "cell_type": "markdown",
   "metadata": {
    "id": "MCB6-dXG_Zct"
   },
   "source": [
    "**Выводы**\n",
    "\n",
    "В каждой строке таблицы — данные о прослушанном треке. Часть колонок описывает саму композицию: название, исполнителя и жанр. Остальные данные рассказывают о пользователе: из какого он города, когда он слушал музыку. \n",
    "\n",
    "Предварительно можно утверждать, что, данных достаточно для проверки гипотез. Но встречаются пропуски в данных, а в названиях колонок — расхождения с хорошим стилем.\n",
    "\n",
    "Чтобы двигаться дальше, нужно устранить проблемы в данных."
   ]
  },
  {
   "cell_type": "markdown",
   "metadata": {
    "id": "SjYF6Ub9_Zct"
   },
   "source": [
    "## Предобработка данных\n",
    "Исправим стиль в заголовках столбцов, исключим пропуски. Затем проверем данные на дубликаты."
   ]
  },
  {
   "cell_type": "markdown",
   "metadata": {
    "id": "dIaKXr29_Zct"
   },
   "source": [
    "### Стиль заголовков\n",
    "Выведем на экран названия столбцов:"
   ]
  },
  {
   "cell_type": "code",
   "execution_count": 5,
   "metadata": {
    "id": "oKOTdF_Q_Zct"
   },
   "outputs": [
    {
     "data": {
      "text/plain": [
       "Index(['  userID', 'Track', 'artist', 'genre', '  City  ', 'time', 'Day'], dtype='object')"
      ]
     },
     "metadata": {},
     "output_type": "display_data"
    }
   ],
   "source": [
    "display(df.columns) # перечень названий столбцов таблицы df"
   ]
  },
  {
   "cell_type": "markdown",
   "metadata": {
    "id": "zj5534cv_Zct"
   },
   "source": [
    "Приведем названия столбцов в соответствие с хорошим стилем:\n",
    "* несколько слов в названии запишите в «змеином_регистре»,\n",
    "* все символы сделайте строчными,\n",
    "* устраните пробелы.\n",
    "\n",
    "Для этого переименуйте колонки так:\n",
    "* `'  userID'` → `'user_id'`;\n",
    "* `'Track'` → `'track'`;\n",
    "* `'  City  '` → `'city'`;\n",
    "* `'Day'` → `'day'`."
   ]
  },
  {
   "cell_type": "code",
   "execution_count": 6,
   "metadata": {
    "id": "ISlFqs5y_Zct"
   },
   "outputs": [],
   "source": [
    "df = df.rename(columns = {'  userID':'user_id', 'Track':'track', '  City  ':'city', 'Day':'day'}) # переименование столбцов"
   ]
  },
  {
   "cell_type": "markdown",
   "metadata": {
    "id": "1dqbh00J_Zct"
   },
   "source": [
    "Проверьте результат. Для этого ещё раз выведите на экран названия столбцов:"
   ]
  },
  {
   "cell_type": "code",
   "execution_count": 7,
   "metadata": {
    "id": "d4NOAmTW_Zct"
   },
   "outputs": [
    {
     "data": {
      "text/plain": [
       "Index(['user_id', 'track', 'artist', 'genre', 'city', 'time', 'day'], dtype='object')"
      ]
     },
     "metadata": {},
     "output_type": "display_data"
    }
   ],
   "source": [
    "display(df.columns) # проверка результатов - перечень названий столбцов"
   ]
  },
  {
   "cell_type": "markdown",
   "metadata": {
    "id": "5ISfbcfY_Zct"
   },
   "source": [
    "### Пропуски значений\n",
    "Сначала посчитаем, сколько в таблице пропущенных значений. Для этого достаточно двух методов `pandas`:"
   ]
  },
  {
   "cell_type": "code",
   "execution_count": 8,
   "metadata": {
    "id": "RskX29qr_Zct"
   },
   "outputs": [
    {
     "data": {
      "text/plain": [
       "user_id       0\n",
       "track      1231\n",
       "artist     7203\n",
       "genre      1198\n",
       "city          0\n",
       "time          0\n",
       "day           0\n",
       "dtype: int64"
      ]
     },
     "execution_count": 8,
     "metadata": {},
     "output_type": "execute_result"
    }
   ],
   "source": [
    "df.isna().sum() # подсчёт пропусков"
   ]
  },
  {
   "cell_type": "markdown",
   "metadata": {
    "id": "qubhgnlO_Zct"
   },
   "source": [
    "Не все пропущенные значения влияют на исследование. Так в `track` и `artist` пропуски не важны для вашей работы. Достаточно заменить их явными обозначениями.\n",
    "\n",
    "Но пропуски в `genre` могут помешать сравнению музыкальных вкусов в Москве и Санкт-Петербурге. На практике было бы правильно установить причину пропусков и восстановить данные. Такой возможности нет в учебном проекте. Придётся:\n",
    "* заполнить и эти пропуски явными обозначениями,\n",
    "* оценить, насколько они повредят расчётам. "
   ]
  },
  {
   "cell_type": "markdown",
   "metadata": {
    "id": "fSv2laPA_Zct"
   },
   "source": [
    "Заменим пропущенные значения в столбцах `track`, `artist` и `genre` на строку `'unknown'`. Для этого создадим список `columns_to_replace`, переберем его элементы циклом `for` и для каждого столбца выполните замену пропущенных значений:"
   ]
  },
  {
   "cell_type": "code",
   "execution_count": 9,
   "metadata": {
    "id": "KplB5qWs_Zct"
   },
   "outputs": [],
   "source": [
    "columns_to_replace = ['track', 'artist', 'genre']  # перебор названий столбцов в цикле и замена пропущенных значений на 'unknown'\n",
    "for item in columns_to_replace:\n",
    "    df[item] = df[item].fillna('unknown')"
   ]
  },
  {
   "cell_type": "markdown",
   "metadata": {
    "id": "Ilsm-MZo_Zct"
   },
   "source": [
    "Убедимся, что в таблице не осталось пропусков. Для этого ещё раз посчитаем пропущенные значения."
   ]
  },
  {
   "cell_type": "code",
   "execution_count": 10,
   "metadata": {
    "id": "Tq4nYRX4_Zct"
   },
   "outputs": [
    {
     "data": {
      "text/plain": [
       "user_id    0\n",
       "track      0\n",
       "artist     0\n",
       "genre      0\n",
       "city       0\n",
       "time       0\n",
       "day        0\n",
       "dtype: int64"
      ]
     },
     "execution_count": 10,
     "metadata": {},
     "output_type": "execute_result"
    }
   ],
   "source": [
    "df.isna().sum() # подсчёт пропусков"
   ]
  },
  {
   "cell_type": "markdown",
   "metadata": {
    "id": "BWKRtBJ3_Zct"
   },
   "source": [
    "### Дубликаты\n",
    "Посчитаем явные дубликаты в таблице одной командой:"
   ]
  },
  {
   "cell_type": "code",
   "execution_count": 11,
   "metadata": {
    "id": "36eES_S0_Zct"
   },
   "outputs": [
    {
     "data": {
      "text/plain": [
       "3826"
      ]
     },
     "execution_count": 11,
     "metadata": {},
     "output_type": "execute_result"
    }
   ],
   "source": [
    "df.duplicated().sum() # подсчёт явных дубликатов"
   ]
  },
  {
   "cell_type": "markdown",
   "metadata": {
    "id": "Ot25h6XR_Zct"
   },
   "source": [
    "Вызовем специальный метод `pandas`, чтобы удалить явные дубликаты:"
   ]
  },
  {
   "cell_type": "code",
   "execution_count": 12,
   "metadata": {
    "id": "exFHq6tt_Zct"
   },
   "outputs": [],
   "source": [
    "df = df.drop_duplicates().reset_index(drop=True) # удаление явных дубликатов (с удалением старых индексов и формированием новых)"
   ]
  },
  {
   "cell_type": "markdown",
   "metadata": {
    "id": "Im2YwBEG_Zct"
   },
   "source": [
    "Ещё раз посчитаем явные дубликаты в таблице — убедимся, что полностью от них избавились:"
   ]
  },
  {
   "cell_type": "code",
   "execution_count": 13,
   "metadata": {
    "id": "-8PuNWQ0_Zct"
   },
   "outputs": [
    {
     "data": {
      "text/plain": [
       "0"
      ]
     },
     "execution_count": 13,
     "metadata": {},
     "output_type": "execute_result"
    }
   ],
   "source": [
    "df.duplicated().sum() # проверка на отсутствие дубликатов"
   ]
  },
  {
   "cell_type": "markdown",
   "metadata": {
    "id": "QlFBsxAr_Zct"
   },
   "source": [
    "Теперь избавимся от неявных дубликатов в колонке `genre`. Например, название одного и того же жанра может быть записано немного по-разному. Такие ошибки тоже повлияют на результат исследования."
   ]
  },
  {
   "cell_type": "markdown",
   "metadata": {
    "id": "eSjWwsOh_Zct"
   },
   "source": [
    "Выведем на экран список уникальных названий жанров, отсортированный в алфавитном порядке. Для этого:\n",
    "* извлечем нужный столбец датафрейма, \n",
    "* применим к нему метод сортировки,\n",
    "* для отсортированного столбца вызовим метод, который вернёт уникальные значения из столбца."
   ]
  },
  {
   "cell_type": "code",
   "execution_count": 14,
   "metadata": {
    "id": "JIUcqzZN_Zct"
   },
   "outputs": [
    {
     "data": {
      "text/plain": [
       "array(['acid', 'acoustic', 'action', 'adult', 'africa', 'afrikaans',\n",
       "       'alternative', 'alternativepunk', 'ambient', 'americana',\n",
       "       'animated', 'anime', 'arabesk', 'arabic', 'arena',\n",
       "       'argentinetango', 'art', 'audiobook', 'author', 'avantgarde',\n",
       "       'axé', 'baile', 'balkan', 'beats', 'bigroom', 'black', 'bluegrass',\n",
       "       'blues', 'bollywood', 'bossa', 'brazilian', 'breakbeat', 'breaks',\n",
       "       'broadway', 'cantautori', 'cantopop', 'canzone', 'caribbean',\n",
       "       'caucasian', 'celtic', 'chamber', 'chanson', 'children', 'chill',\n",
       "       'chinese', 'choral', 'christian', 'christmas', 'classical',\n",
       "       'classicmetal', 'club', 'colombian', 'comedy', 'conjazz',\n",
       "       'contemporary', 'country', 'cuban', 'dance', 'dancehall',\n",
       "       'dancepop', 'dark', 'death', 'deep', 'deutschrock', 'deutschspr',\n",
       "       'dirty', 'disco', 'dnb', 'documentary', 'downbeat', 'downtempo',\n",
       "       'drum', 'dub', 'dubstep', 'eastern', 'easy', 'electronic',\n",
       "       'electropop', 'emo', 'entehno', 'epicmetal', 'estrada', 'ethnic',\n",
       "       'eurofolk', 'european', 'experimental', 'extrememetal', 'fado',\n",
       "       'fairytail', 'film', 'fitness', 'flamenco', 'folk', 'folklore',\n",
       "       'folkmetal', 'folkrock', 'folktronica', 'forró', 'frankreich',\n",
       "       'französisch', 'french', 'funk', 'future', 'gangsta', 'garage',\n",
       "       'german', 'ghazal', 'gitarre', 'glitch', 'gospel', 'gothic',\n",
       "       'grime', 'grunge', 'gypsy', 'handsup', \"hard'n'heavy\", 'hardcore',\n",
       "       'hardstyle', 'hardtechno', 'hip', 'hip-hop', 'hiphop',\n",
       "       'historisch', 'holiday', 'hop', 'horror', 'house', 'hymn', 'idm',\n",
       "       'independent', 'indian', 'indie', 'indipop', 'industrial',\n",
       "       'inspirational', 'instrumental', 'international', 'irish', 'jam',\n",
       "       'japanese', 'jazz', 'jewish', 'jpop', 'jungle', 'k-pop',\n",
       "       'karadeniz', 'karaoke', 'kayokyoku', 'korean', 'laiko', 'latin',\n",
       "       'latino', 'leftfield', 'local', 'lounge', 'loungeelectronic',\n",
       "       'lovers', 'malaysian', 'mandopop', 'marschmusik', 'meditative',\n",
       "       'mediterranean', 'melodic', 'metal', 'metalcore', 'mexican',\n",
       "       'middle', 'minimal', 'miscellaneous', 'modern', 'mood', 'mpb',\n",
       "       'muslim', 'native', 'neoklassik', 'neue', 'new', 'newage',\n",
       "       'newwave', 'nu', 'nujazz', 'numetal', 'oceania', 'old', 'opera',\n",
       "       'orchestral', 'other', 'piano', 'podcasts', 'pop', 'popdance',\n",
       "       'popelectronic', 'popeurodance', 'poprussian', 'post',\n",
       "       'posthardcore', 'postrock', 'power', 'progmetal', 'progressive',\n",
       "       'psychedelic', 'punjabi', 'punk', 'quebecois', 'ragga', 'ram',\n",
       "       'rancheras', 'rap', 'rave', 'reggae', 'reggaeton', 'regional',\n",
       "       'relax', 'religious', 'retro', 'rhythm', 'rnb', 'rnr', 'rock',\n",
       "       'rockabilly', 'rockalternative', 'rockindie', 'rockother',\n",
       "       'romance', 'roots', 'ruspop', 'rusrap', 'rusrock', 'russian',\n",
       "       'salsa', 'samba', 'scenic', 'schlager', 'self', 'sertanejo',\n",
       "       'shanson', 'shoegazing', 'showtunes', 'singer', 'ska', 'skarock',\n",
       "       'slow', 'smooth', 'soft', 'soul', 'soulful', 'sound', 'soundtrack',\n",
       "       'southern', 'specialty', 'speech', 'spiritual', 'sport',\n",
       "       'stonerrock', 'surf', 'swing', 'synthpop', 'synthrock',\n",
       "       'sängerportrait', 'tango', 'tanzorchester', 'taraftar', 'tatar',\n",
       "       'tech', 'techno', 'teen', 'thrash', 'top', 'traditional',\n",
       "       'tradjazz', 'trance', 'tribal', 'trip', 'triphop', 'tropical',\n",
       "       'türk', 'türkçe', 'ukrrock', 'unknown', 'urban', 'uzbek',\n",
       "       'variété', 'vi', 'videogame', 'vocal', 'western', 'world',\n",
       "       'worldbeat', 'ïîï', 'электроника'], dtype=object)"
      ]
     },
     "metadata": {},
     "output_type": "display_data"
    }
   ],
   "source": [
    "# Просмотр уникальных названий жанров\n",
    "sorted_df = df.sort_values(by='genre')\n",
    "#display(sorted_df)\n",
    "sorted_df = sorted_df['genre'].unique()\n",
    "\n",
    "display(sorted_df)"
   ]
  },
  {
   "cell_type": "markdown",
   "metadata": {
    "id": "qej-Qmuo_Zct"
   },
   "source": [
    "Просмотрим список и найдем неявные дубликаты названия `hiphop`. Это могут быть названия с ошибками или альтернативные названия того же жанра.\n",
    "\n",
    "Найдем следующие неявные дубликаты:\n",
    "* *hip*,\n",
    "* *hop*,\n",
    "* *hip-hop*.\n",
    "\n",
    "Чтобы очистить от них таблицу, напишим функцию `replace_wrong_genres()` с двумя параметрами: \n",
    "* `wrong_genres` — список дубликатов,\n",
    "* `correct_genre` — строка с правильным значением.\n",
    "\n",
    "Функция должна исправить колонку `genre` в таблице `df`: заменить каждое значение из списка `wrong_genres` на значение из `correct_genre`."
   ]
  },
  {
   "cell_type": "markdown",
   "metadata": {
    "id": "aDoBJxbA_Zct"
   },
   "source": [
    "Вызовим `replace_wrong_genres()` и передадим ей такие аргументы, чтобы она устранила неявные дубликаты: вместо `hip`, `hop` и `hip-hop` в таблице должно быть значение `hiphop`:"
   ]
  },
  {
   "cell_type": "code",
   "execution_count": 16,
   "metadata": {
    "id": "YN5i2hpmSo09"
   },
   "outputs": [
    {
     "data": {
      "text/html": [
       "<div>\n",
       "<style scoped>\n",
       "    .dataframe tbody tr th:only-of-type {\n",
       "        vertical-align: middle;\n",
       "    }\n",
       "\n",
       "    .dataframe tbody tr th {\n",
       "        vertical-align: top;\n",
       "    }\n",
       "\n",
       "    .dataframe thead th {\n",
       "        text-align: right;\n",
       "    }\n",
       "</style>\n",
       "<table border=\"1\" class=\"dataframe\">\n",
       "  <thead>\n",
       "    <tr style=\"text-align: right;\">\n",
       "      <th></th>\n",
       "      <th>user_id</th>\n",
       "      <th>track</th>\n",
       "      <th>artist</th>\n",
       "      <th>genre</th>\n",
       "      <th>city</th>\n",
       "      <th>time</th>\n",
       "      <th>day</th>\n",
       "    </tr>\n",
       "  </thead>\n",
       "  <tbody>\n",
       "    <tr>\n",
       "      <td>0</td>\n",
       "      <td>FFB692EC</td>\n",
       "      <td>Kamigata To Boots</td>\n",
       "      <td>The Mass Missile</td>\n",
       "      <td>rock</td>\n",
       "      <td>Saint-Petersburg</td>\n",
       "      <td>20:28:33</td>\n",
       "      <td>Wednesday</td>\n",
       "    </tr>\n",
       "    <tr>\n",
       "      <td>1</td>\n",
       "      <td>55204538</td>\n",
       "      <td>Delayed Because of Accident</td>\n",
       "      <td>Andreas Rönnberg</td>\n",
       "      <td>rock</td>\n",
       "      <td>Moscow</td>\n",
       "      <td>14:07:09</td>\n",
       "      <td>Friday</td>\n",
       "    </tr>\n",
       "    <tr>\n",
       "      <td>2</td>\n",
       "      <td>20EC38</td>\n",
       "      <td>Funiculì funiculà</td>\n",
       "      <td>Mario Lanza</td>\n",
       "      <td>pop</td>\n",
       "      <td>Saint-Petersburg</td>\n",
       "      <td>20:58:07</td>\n",
       "      <td>Wednesday</td>\n",
       "    </tr>\n",
       "    <tr>\n",
       "      <td>3</td>\n",
       "      <td>A3DD03C9</td>\n",
       "      <td>Dragons in the Sunset</td>\n",
       "      <td>Fire + Ice</td>\n",
       "      <td>folk</td>\n",
       "      <td>Saint-Petersburg</td>\n",
       "      <td>08:37:09</td>\n",
       "      <td>Monday</td>\n",
       "    </tr>\n",
       "    <tr>\n",
       "      <td>4</td>\n",
       "      <td>E2DC1FAE</td>\n",
       "      <td>Soul People</td>\n",
       "      <td>Space Echo</td>\n",
       "      <td>dance</td>\n",
       "      <td>Moscow</td>\n",
       "      <td>08:34:34</td>\n",
       "      <td>Monday</td>\n",
       "    </tr>\n",
       "    <tr>\n",
       "      <td>...</td>\n",
       "      <td>...</td>\n",
       "      <td>...</td>\n",
       "      <td>...</td>\n",
       "      <td>...</td>\n",
       "      <td>...</td>\n",
       "      <td>...</td>\n",
       "      <td>...</td>\n",
       "    </tr>\n",
       "    <tr>\n",
       "      <td>61248</td>\n",
       "      <td>729CBB09</td>\n",
       "      <td>My Name</td>\n",
       "      <td>McLean</td>\n",
       "      <td>rnb</td>\n",
       "      <td>Moscow</td>\n",
       "      <td>13:32:28</td>\n",
       "      <td>Wednesday</td>\n",
       "    </tr>\n",
       "    <tr>\n",
       "      <td>61249</td>\n",
       "      <td>D08D4A55</td>\n",
       "      <td>Maybe One Day (feat. Black Spade)</td>\n",
       "      <td>Blu &amp; Exile</td>\n",
       "      <td>hiphop</td>\n",
       "      <td>Saint-Petersburg</td>\n",
       "      <td>10:00:00</td>\n",
       "      <td>Monday</td>\n",
       "    </tr>\n",
       "    <tr>\n",
       "      <td>61250</td>\n",
       "      <td>C5E3A0D5</td>\n",
       "      <td>Jalopiina</td>\n",
       "      <td>unknown</td>\n",
       "      <td>industrial</td>\n",
       "      <td>Moscow</td>\n",
       "      <td>20:09:26</td>\n",
       "      <td>Friday</td>\n",
       "    </tr>\n",
       "    <tr>\n",
       "      <td>61251</td>\n",
       "      <td>321D0506</td>\n",
       "      <td>Freight Train</td>\n",
       "      <td>Chas McDevitt</td>\n",
       "      <td>rock</td>\n",
       "      <td>Moscow</td>\n",
       "      <td>21:43:59</td>\n",
       "      <td>Friday</td>\n",
       "    </tr>\n",
       "    <tr>\n",
       "      <td>61252</td>\n",
       "      <td>3A64EF84</td>\n",
       "      <td>Tell Me Sweet Little Lies</td>\n",
       "      <td>Monica Lopez</td>\n",
       "      <td>country</td>\n",
       "      <td>Moscow</td>\n",
       "      <td>21:59:46</td>\n",
       "      <td>Friday</td>\n",
       "    </tr>\n",
       "  </tbody>\n",
       "</table>\n",
       "<p>61253 rows × 7 columns</p>\n",
       "</div>"
      ],
      "text/plain": [
       "        user_id                              track            artist  \\\n",
       "0      FFB692EC                  Kamigata To Boots  The Mass Missile   \n",
       "1      55204538        Delayed Because of Accident  Andreas Rönnberg   \n",
       "2        20EC38                  Funiculì funiculà       Mario Lanza   \n",
       "3      A3DD03C9              Dragons in the Sunset        Fire + Ice   \n",
       "4      E2DC1FAE                        Soul People        Space Echo   \n",
       "...         ...                                ...               ...   \n",
       "61248  729CBB09                            My Name            McLean   \n",
       "61249  D08D4A55  Maybe One Day (feat. Black Spade)       Blu & Exile   \n",
       "61250  C5E3A0D5                          Jalopiina           unknown   \n",
       "61251  321D0506                      Freight Train     Chas McDevitt   \n",
       "61252  3A64EF84          Tell Me Sweet Little Lies      Monica Lopez   \n",
       "\n",
       "            genre              city      time        day  \n",
       "0            rock  Saint-Petersburg  20:28:33  Wednesday  \n",
       "1            rock            Moscow  14:07:09     Friday  \n",
       "2             pop  Saint-Petersburg  20:58:07  Wednesday  \n",
       "3            folk  Saint-Petersburg  08:37:09     Monday  \n",
       "4           dance            Moscow  08:34:34     Monday  \n",
       "...           ...               ...       ...        ...  \n",
       "61248         rnb            Moscow  13:32:28  Wednesday  \n",
       "61249      hiphop  Saint-Petersburg  10:00:00     Monday  \n",
       "61250  industrial            Moscow  20:09:26     Friday  \n",
       "61251        rock            Moscow  21:43:59     Friday  \n",
       "61252     country            Moscow  21:59:46     Friday  \n",
       "\n",
       "[61253 rows x 7 columns]"
      ]
     },
     "execution_count": 16,
     "metadata": {},
     "output_type": "execute_result"
    }
   ],
   "source": [
    "wrong_genres = ['hip', 'hop', 'hip-hop']\n",
    "correct_genre = 'hiphop'\n",
    "\n",
    "replace_wrong_genres(wrong_genres, correct_genre)   # Устранение неявных дубликатов"
   ]
  },
  {
   "cell_type": "markdown",
   "metadata": {
    "id": "zQKF16_RG15m"
   },
   "source": [
    "Проверим, что заменили неправильные названия:\n",
    "\n",
    "*   hip\n",
    "*   hop\n",
    "*   hip-hop\n",
    "\n",
    "Выведим отсортированный список уникальных значений столбца `genre`:"
   ]
  },
  {
   "cell_type": "code",
   "execution_count": 17,
   "metadata": {
    "id": "wvixALnFG15m",
    "scrolled": true
   },
   "outputs": [
    {
     "data": {
      "text/plain": [
       "array(['acid', 'acoustic', 'action', 'adult', 'africa', 'afrikaans',\n",
       "       'alternative', 'alternativepunk', 'ambient', 'americana',\n",
       "       'animated', 'anime', 'arabesk', 'arabic', 'arena',\n",
       "       'argentinetango', 'art', 'audiobook', 'author', 'avantgarde',\n",
       "       'axé', 'baile', 'balkan', 'beats', 'bigroom', 'black', 'bluegrass',\n",
       "       'blues', 'bollywood', 'bossa', 'brazilian', 'breakbeat', 'breaks',\n",
       "       'broadway', 'cantautori', 'cantopop', 'canzone', 'caribbean',\n",
       "       'caucasian', 'celtic', 'chamber', 'chanson', 'children', 'chill',\n",
       "       'chinese', 'choral', 'christian', 'christmas', 'classical',\n",
       "       'classicmetal', 'club', 'colombian', 'comedy', 'conjazz',\n",
       "       'contemporary', 'country', 'cuban', 'dance', 'dancehall',\n",
       "       'dancepop', 'dark', 'death', 'deep', 'deutschrock', 'deutschspr',\n",
       "       'dirty', 'disco', 'dnb', 'documentary', 'downbeat', 'downtempo',\n",
       "       'drum', 'dub', 'dubstep', 'eastern', 'easy', 'electronic',\n",
       "       'electropop', 'emo', 'entehno', 'epicmetal', 'estrada', 'ethnic',\n",
       "       'eurofolk', 'european', 'experimental', 'extrememetal', 'fado',\n",
       "       'fairytail', 'film', 'fitness', 'flamenco', 'folk', 'folklore',\n",
       "       'folkmetal', 'folkrock', 'folktronica', 'forró', 'frankreich',\n",
       "       'französisch', 'french', 'funk', 'future', 'gangsta', 'garage',\n",
       "       'german', 'ghazal', 'gitarre', 'glitch', 'gospel', 'gothic',\n",
       "       'grime', 'grunge', 'gypsy', 'handsup', \"hard'n'heavy\", 'hardcore',\n",
       "       'hardstyle', 'hardtechno', 'hiphop', 'historisch', 'holiday',\n",
       "       'horror', 'house', 'hymn', 'idm', 'independent', 'indian', 'indie',\n",
       "       'indipop', 'industrial', 'inspirational', 'instrumental',\n",
       "       'international', 'irish', 'jam', 'japanese', 'jazz', 'jewish',\n",
       "       'jpop', 'jungle', 'k-pop', 'karadeniz', 'karaoke', 'kayokyoku',\n",
       "       'korean', 'laiko', 'latin', 'latino', 'leftfield', 'local',\n",
       "       'lounge', 'loungeelectronic', 'lovers', 'malaysian', 'mandopop',\n",
       "       'marschmusik', 'meditative', 'mediterranean', 'melodic', 'metal',\n",
       "       'metalcore', 'mexican', 'middle', 'minimal', 'miscellaneous',\n",
       "       'modern', 'mood', 'mpb', 'muslim', 'native', 'neoklassik', 'neue',\n",
       "       'new', 'newage', 'newwave', 'nu', 'nujazz', 'numetal', 'oceania',\n",
       "       'old', 'opera', 'orchestral', 'other', 'piano', 'podcasts', 'pop',\n",
       "       'popdance', 'popelectronic', 'popeurodance', 'poprussian', 'post',\n",
       "       'posthardcore', 'postrock', 'power', 'progmetal', 'progressive',\n",
       "       'psychedelic', 'punjabi', 'punk', 'quebecois', 'ragga', 'ram',\n",
       "       'rancheras', 'rap', 'rave', 'reggae', 'reggaeton', 'regional',\n",
       "       'relax', 'religious', 'retro', 'rhythm', 'rnb', 'rnr', 'rock',\n",
       "       'rockabilly', 'rockalternative', 'rockindie', 'rockother',\n",
       "       'romance', 'roots', 'ruspop', 'rusrap', 'rusrock', 'russian',\n",
       "       'salsa', 'samba', 'scenic', 'schlager', 'self', 'sertanejo',\n",
       "       'shanson', 'shoegazing', 'showtunes', 'singer', 'ska', 'skarock',\n",
       "       'slow', 'smooth', 'soft', 'soul', 'soulful', 'sound', 'soundtrack',\n",
       "       'southern', 'specialty', 'speech', 'spiritual', 'sport',\n",
       "       'stonerrock', 'surf', 'swing', 'synthpop', 'synthrock',\n",
       "       'sängerportrait', 'tango', 'tanzorchester', 'taraftar', 'tatar',\n",
       "       'tech', 'techno', 'teen', 'thrash', 'top', 'traditional',\n",
       "       'tradjazz', 'trance', 'tribal', 'trip', 'triphop', 'tropical',\n",
       "       'türk', 'türkçe', 'ukrrock', 'unknown', 'urban', 'uzbek',\n",
       "       'variété', 'vi', 'videogame', 'vocal', 'western', 'world',\n",
       "       'worldbeat', 'ïîï', 'электроника'], dtype=object)"
      ]
     },
     "metadata": {},
     "output_type": "display_data"
    }
   ],
   "source": [
    "# Просмотр уникальных названий жанров\n",
    "sorted_df = df.sort_values(by='genre')\n",
    "#display(sorted_df)\n",
    "sorted_df = sorted_df['genre'].unique()\n",
    "\n",
    "display(sorted_df)# Проверка на неявные дубликаты"
   ]
  },
  {
   "cell_type": "markdown",
   "metadata": {
    "id": "jz6a9-7HQUDd"
   },
   "source": [
    "**Выводы**\n",
    "\n",
    "Предобработка обнаружила три проблемы в данных:\n",
    "\n",
    "- нарушения в стиле заголовков,\n",
    "- пропущенные значения,\n",
    "- дубликаты — явные и неявные.\n",
    "\n",
    "Исправили заголовки, чтобы упростить работу с таблицей. Без дубликатов исследование станет более точным.\n",
    "\n",
    "Пропущенные значения заменили на `'unknown'`. Ещё предстоит увидеть, не повредят ли исследованию пропуски в колонке `genre`.\n",
    "\n",
    "Теперь можно перейти к проверке гипотез. "
   ]
  },
  {
   "cell_type": "markdown",
   "metadata": {
    "id": "WttZHXH0SqKk"
   },
   "source": [
    "## Проверка гипотез"
   ]
  },
  {
   "cell_type": "markdown",
   "metadata": {
    "id": "Im936VVi_Zcu"
   },
   "source": [
    "### Сравнение поведения пользователей двух столиц"
   ]
  },
  {
   "cell_type": "markdown",
   "metadata": {
    "id": "nwt_MuaL_Zcu"
   },
   "source": [
    "Первая гипотеза утверждает, что пользователи по-разному слушают музыку в Москве и Санкт-Петербурге. Проверимм это предположение по данным о трёх днях недели — понедельнике, среде и пятнице. Для этого:\n",
    "\n",
    "* Разделим пользователей Москвы и Санкт-Петербурга\n",
    "* Сравним, сколько треков послушала каждая группа пользователей в понедельник, среду и пятницу.\n"
   ]
  },
  {
   "cell_type": "markdown",
   "metadata": {
    "id": "8Dw_YMmT_Zcu"
   },
   "source": [
    "Для тренировки сначала выполним каждый из расчётов по отдельности. \n",
    "\n",
    "Оценим активность пользователей в каждом городе. Сгруппируем данные по городу и посчитайте прослушивания в каждой группе.\n",
    "\n"
   ]
  },
  {
   "cell_type": "code",
   "execution_count": 39,
   "metadata": {
    "id": "0_Qs96oh_Zcu"
   },
   "outputs": [
    {
     "data": {
      "text/html": [
       "<div>\n",
       "<style scoped>\n",
       "    .dataframe tbody tr th:only-of-type {\n",
       "        vertical-align: middle;\n",
       "    }\n",
       "\n",
       "    .dataframe tbody tr th {\n",
       "        vertical-align: top;\n",
       "    }\n",
       "\n",
       "    .dataframe thead th {\n",
       "        text-align: right;\n",
       "    }\n",
       "</style>\n",
       "<table border=\"1\" class=\"dataframe\">\n",
       "  <thead>\n",
       "    <tr style=\"text-align: right;\">\n",
       "      <th></th>\n",
       "      <th>city</th>\n",
       "      <th>track</th>\n",
       "    </tr>\n",
       "    <tr>\n",
       "      <th>city</th>\n",
       "      <th></th>\n",
       "      <th></th>\n",
       "    </tr>\n",
       "  </thead>\n",
       "  <tbody>\n",
       "    <tr>\n",
       "      <td>Moscow</td>\n",
       "      <td>42741</td>\n",
       "      <td>42741</td>\n",
       "    </tr>\n",
       "    <tr>\n",
       "      <td>Saint-Petersburg</td>\n",
       "      <td>18512</td>\n",
       "      <td>18512</td>\n",
       "    </tr>\n",
       "  </tbody>\n",
       "</table>\n",
       "</div>"
      ],
      "text/plain": [
       "                   city  track\n",
       "city                          \n",
       "Moscow            42741  42741\n",
       "Saint-Petersburg  18512  18512"
      ]
     },
     "metadata": {},
     "output_type": "display_data"
    }
   ],
   "source": [
    "#moscow_total_track = df.groupby('city').count() # Подсчёт прослушиваний в каждом городе\n",
    "#piter_total_track = df.groupby('city').sum()\n",
    "display(df.groupby('city')['city', 'track'].count())"
   ]
  },
  {
   "cell_type": "markdown",
   "metadata": {
    "id": "dzli3w8o_Zcu"
   },
   "source": [
    "В Москве прослушиваний больше, чем в Петербурге. Из этого не следует, что московские пользователи чаще слушают музыку. Просто самих пользователей в Москве больше.\n",
    "\n",
    "Теперь сгруппируем данные по дню недели и подсчитайте прослушивания в понедельник, среду и пятницу. Учтем, что в данных есть информация только о прослушиваниях только за эти дни.\n"
   ]
  },
  {
   "cell_type": "code",
   "execution_count": 49,
   "metadata": {
    "id": "uZMKjiJz_Zcu"
   },
   "outputs": [
    {
     "data": {
      "text/plain": [
       "day\n",
       "Friday       21840\n",
       "Monday       21354\n",
       "Wednesday    18059\n",
       "Name: track, dtype: int64"
      ]
     },
     "execution_count": 49,
     "metadata": {},
     "output_type": "execute_result"
    }
   ],
   "source": [
    "#part_of_df = df[['day', 'track']]\n",
    "#print(part_of_df[part_of_df['day'] == 'Monday']['day'].count()) # monday_total_track =  Подсчёт прослушиваний в каждый из трёх дней\n",
    "#print(part_of_df[part_of_df['day'] == 'Wednesday']['day'].count()) # wednesday_total_track = \n",
    "#print(part_of_df[part_of_df['day'] == 'Friday']['day'].count()) # friday_total_track = \n",
    "\n",
    "df.groupby('day')['track'].count()"
   ]
  },
  {
   "cell_type": "markdown",
   "metadata": {
    "id": "cC2tNrlL_Zcu"
   },
   "source": [
    "В среднем пользователи из двух городов менее активны по средам. Но картина может измениться, если рассмотреть каждый город в отдельности."
   ]
  },
  {
   "cell_type": "markdown",
   "metadata": {
    "id": "POzs8bGa_Zcu"
   },
   "source": [
    "Напишем функцию, которая объединит два эти расчёта.\n",
    "\n",
    "Создадим функцию `number_tracks()`, которая посчитает прослушивания для заданного дня и города. Ей понадобятся два параметра:\n",
    "* день недели,\n",
    "* название города.\n",
    "\n",
    "В функции сохраним в переменную строки исходной таблицы, у которых значение:\n",
    "  * в колонке `day` равно параметру `day`,\n",
    "  * в колонке `city` равно параметру `city`.\n",
    "\n",
    "Для этого применим последовательную фильтрацию с логической индексацией.\n",
    "\n",
    "Затем посчитаем значения в столбце `user_id` получившейся таблицы. Результат сохраним в новую переменную. Вернем эту переменную из функции."
   ]
  },
  {
   "cell_type": "code",
   "execution_count": 20,
   "metadata": {
    "id": "Nz3GdQB1_Zcu"
   },
   "outputs": [],
   "source": [
    "# <создание функции number_tracks()>\n",
    "def number_tracks(day, city): # Объявляется функция с двумя параметрами: day, city.\n",
    "    track_list = df[(df['day'] == day) & (df['city'] == city)] # В переменной track_list сохраняются те строки таблицы df, для которых \n",
    "# значение в столбце 'day' равно параметру day и одновременно значение\n",
    "# в столбце 'city' равно параметру city (используйте последовательную фильтрацию\n",
    "# с помощью логической индексации).\n",
    "    track_list_count = track_list['user_id'].count() # В переменной track_list_count сохраняется число значений столбца 'user_id',\n",
    "# рассчитанное методом count() для таблицы track_list.\n",
    "    return track_list_count # Функция возвращает число - значение track_list_count.\n",
    "\n",
    "# Функция для подсчёта прослушиваний для конкретного города и дня.\n",
    "# С помощью последовательной фильтрации с логической индексацией она \n",
    "# сначала получит из исходной таблицы строки с нужным днём,\n",
    "# затем из результата отфильтрует строки с нужным городом,\n",
    "# методом count() посчитает количество значений в колонке user_id. \n",
    "# Это количество функция вернёт в качестве результата"
   ]
  },
  {
   "cell_type": "markdown",
   "metadata": {
    "id": "ytf7xFrFJQ2r"
   },
   "source": [
    "Вызовим `number_tracks()` шесть раз, меняя значение параметров — так, чтобы получить данные для каждого города в каждый из трёх дней."
   ]
  },
  {
   "cell_type": "code",
   "execution_count": 21,
   "metadata": {
    "id": "rJcRATNQ_Zcu"
   },
   "outputs": [
    {
     "data": {
      "text/plain": [
       "15740"
      ]
     },
     "execution_count": 21,
     "metadata": {},
     "output_type": "execute_result"
    }
   ],
   "source": [
    "number_tracks('Monday', 'Moscow') # количество прослушиваний в Москве по понедельникам"
   ]
  },
  {
   "cell_type": "code",
   "execution_count": 22,
   "metadata": {
    "id": "hq_ncZ5T_Zcu"
   },
   "outputs": [
    {
     "data": {
      "text/plain": [
       "5614"
      ]
     },
     "execution_count": 22,
     "metadata": {},
     "output_type": "execute_result"
    }
   ],
   "source": [
    "number_tracks('Monday', 'Saint-Petersburg') # количество прослушиваний в Санкт-Петербурге по понедельникам"
   ]
  },
  {
   "cell_type": "code",
   "execution_count": 23,
   "metadata": {
    "id": "_NTy2VPU_Zcu"
   },
   "outputs": [
    {
     "data": {
      "text/plain": [
       "11056"
      ]
     },
     "execution_count": 23,
     "metadata": {},
     "output_type": "execute_result"
    }
   ],
   "source": [
    "number_tracks('Wednesday', 'Moscow') # количество прослушиваний в Москве по средам"
   ]
  },
  {
   "cell_type": "code",
   "execution_count": 24,
   "metadata": {
    "id": "j2y3TAwo_Zcu"
   },
   "outputs": [
    {
     "data": {
      "text/plain": [
       "7003"
      ]
     },
     "execution_count": 24,
     "metadata": {},
     "output_type": "execute_result"
    }
   ],
   "source": [
    "number_tracks('Wednesday', 'Saint-Petersburg') # количество прослушиваний в Санкт-Петербурге по средам"
   ]
  },
  {
   "cell_type": "code",
   "execution_count": 25,
   "metadata": {
    "id": "vYDw5u_K_Zcu"
   },
   "outputs": [
    {
     "data": {
      "text/plain": [
       "15945"
      ]
     },
     "execution_count": 25,
     "metadata": {},
     "output_type": "execute_result"
    }
   ],
   "source": [
    "number_tracks('Friday', 'Moscow') # количество прослушиваний в Москве по пятницам"
   ]
  },
  {
   "cell_type": "code",
   "execution_count": 26,
   "metadata": {
    "id": "8_yzFtW3_Zcu"
   },
   "outputs": [
    {
     "data": {
      "text/plain": [
       "5895"
      ]
     },
     "execution_count": 26,
     "metadata": {},
     "output_type": "execute_result"
    }
   ],
   "source": [
    "number_tracks('Friday', 'Saint-Petersburg') # количество прослушиваний в Санкт-Петербурге по пятницам"
   ]
  },
  {
   "cell_type": "markdown",
   "metadata": {
    "id": "7QXffbO-_Zcu"
   },
   "source": [
    "Создадим c помощью конструктора `pd.DataFrame` таблицу, где\n",
    "* названия колонок — `['city', 'monday', 'wednesday', 'friday']`;\n",
    "* данные — результаты, которые вы получили с помощью `number_tracks`."
   ]
  },
  {
   "cell_type": "code",
   "execution_count": 27,
   "metadata": {
    "id": "APAcLpOr_Zcu"
   },
   "outputs": [
    {
     "data": {
      "text/html": [
       "<div>\n",
       "<style scoped>\n",
       "    .dataframe tbody tr th:only-of-type {\n",
       "        vertical-align: middle;\n",
       "    }\n",
       "\n",
       "    .dataframe tbody tr th {\n",
       "        vertical-align: top;\n",
       "    }\n",
       "\n",
       "    .dataframe thead th {\n",
       "        text-align: right;\n",
       "    }\n",
       "</style>\n",
       "<table border=\"1\" class=\"dataframe\">\n",
       "  <thead>\n",
       "    <tr style=\"text-align: right;\">\n",
       "      <th></th>\n",
       "      <th>city</th>\n",
       "      <th>monday</th>\n",
       "      <th>wednesday</th>\n",
       "      <th>friday</th>\n",
       "    </tr>\n",
       "  </thead>\n",
       "  <tbody>\n",
       "    <tr>\n",
       "      <td>0</td>\n",
       "      <td>Moscow</td>\n",
       "      <td>15740</td>\n",
       "      <td>11056</td>\n",
       "      <td>15945</td>\n",
       "    </tr>\n",
       "    <tr>\n",
       "      <td>1</td>\n",
       "      <td>Saint-Petersburg</td>\n",
       "      <td>5614</td>\n",
       "      <td>7003</td>\n",
       "      <td>5895</td>\n",
       "    </tr>\n",
       "  </tbody>\n",
       "</table>\n",
       "</div>"
      ],
      "text/plain": [
       "               city  monday  wednesday  friday\n",
       "0            Moscow   15740      11056   15945\n",
       "1  Saint-Petersburg    5614       7003    5895"
      ]
     },
     "metadata": {},
     "output_type": "display_data"
    }
   ],
   "source": [
    " # Таблица с результатами\n",
    "data = [['Moscow',15740,11056,15945],['Saint-Petersburg',5614,7003,5895]]\n",
    "columns = ['city', 'monday', 'wednesday', 'friday']\n",
    "result = pd.DataFrame(data=data, columns=columns)\n",
    "display(result)"
   ]
  },
  {
   "cell_type": "markdown",
   "metadata": {
    "id": "-EgPIHYu_Zcu"
   },
   "source": [
    "**Выводы**\n",
    "\n",
    "Данные показывают разницу поведения пользователей:\n",
    "\n",
    "- В Москве пик прослушиваний приходится на понедельник и пятницу, а в среду заметен спад.\n",
    "- В Петербурге, наоборот, больше слушают музыку по средам. Активность в понедельник и пятницу здесь почти в равной мере уступает среде.\n",
    "\n",
    "Значит, данные говорят в пользу первой гипотезы."
   ]
  },
  {
   "cell_type": "markdown",
   "metadata": {
    "id": "atZAxtq4_Zcu"
   },
   "source": [
    "### Музыка в начале и в конце недели"
   ]
  },
  {
   "cell_type": "markdown",
   "metadata": {
    "id": "eXrQqXFH_Zcu"
   },
   "source": [
    "Согласно второй гипотезе, утром в понедельник в Москве преобладают одни жанры, а в Петербурге — другие. Так же и вечером пятницы преобладают разные жанры — в зависимости от города."
   ]
  },
  {
   "cell_type": "markdown",
   "metadata": {
    "id": "S8UcW6Hw_Zcu"
   },
   "source": [
    "Сохраним таблицы с данными в две переменные:\n",
    "* по Москве — в `moscow_general`;\n",
    "* по Санкт-Петербургу — в `spb_general`."
   ]
  },
  {
   "cell_type": "code",
   "execution_count": 28,
   "metadata": {
    "id": "qeaFfM_P_Zcu"
   },
   "outputs": [],
   "source": [
    "moscow_general = df[df['city'] == 'Moscow'] # получение таблицы moscow_general из тех строк таблицы df, \n",
    "# для которых значение в столбце 'city' равно 'Moscow'\n"
   ]
  },
  {
   "cell_type": "code",
   "execution_count": 29,
   "metadata": {
    "id": "ORaVRKto_Zcu"
   },
   "outputs": [],
   "source": [
    "spb_general = df[df['city'] == 'Saint-Petersburg'] # получение таблицы spb_general из тех строк таблицы df,\n",
    "# для которых значение в столбце 'city' равно 'Saint-Petersburg'\n"
   ]
  },
  {
   "cell_type": "markdown",
   "metadata": {
    "id": "MEJV-CX2_Zcu"
   },
   "source": [
    "Создадим функцию `genre_weekday()` с четырьмя параметрами:\n",
    "* таблица (датафрейм) с данными,\n",
    "* день недели,\n",
    "* начальная временная метка в формате 'hh:mm', \n",
    "* последняя временная метка в формате 'hh:mm'.\n",
    "\n",
    "Функция должна вернуть информацию о топ-10 жанров тех треков, которые прослушивали в указанный день, в промежутке между двумя отметками времени."
   ]
  },
  {
   "cell_type": "code",
   "execution_count": 30,
   "metadata": {
    "id": "laJT9BYl_Zcu"
   },
   "outputs": [],
   "source": [
    "def genre_weekday(table, day, time1, time2):\n",
    "    # Объявление функции genre_weekday() с параметрами table, day, time1, time2,\n",
    "# которая возвращает информацию о самых популярных жанрах в указанный день в\n",
    "# заданное время:\n",
    "# 1) в переменную genre_df сохраняются те строки переданного датафрейма table, для\n",
    "#    которых одновременно:\n",
    "#    - значение в столбце day равно значению аргумента day\n",
    "#    - значение в столбце time больше значения аргумента time1\n",
    "#    - значение в столбце time меньше значения аргумента time2\n",
    "#    Используйте последовательную фильтрацию с помощью логической индексации.\n",
    "    genre_df = table[(table['day'] == day) & (table['time'] > time1) & (table['time'] < time2)]\n",
    "# 2) сгруппировать датафрейм genre_df по столбцу genre, взять один из его\n",
    "#    столбцов и посчитать методом count() количество записей для каждого из\n",
    "#    присутствующих жанров, получившийся Series записать в переменную\n",
    "#    genre_df_count\n",
    "    genre_df_count = genre_df.groupby('genre')['artist'].count()\n",
    "# 3) отсортировать genre_df_count по убыванию встречаемости и сохранить\n",
    "#    в переменную genre_df_sorted\n",
    "    genre_df_sorted = genre_df_count.sort_values( ascending=False).head(10)\n",
    "# 4) вернуть Series из 10 первых значений genre_df_sorted, это будут топ-10\n",
    "#    популярных жанров (в указанный день, в заданное время)\n",
    "    return genre_df_sorted"
   ]
  },
  {
   "cell_type": "markdown",
   "metadata": {
    "id": "la2s2_PF_Zcu"
   },
   "source": [
    "Cравним результаты функции `genre_weekday()` для Москвы и Санкт-Петербурга в понедельник утром (с 7:00 до 11:00) и в пятницу вечером (с 17:00 до 23:00):"
   ]
  },
  {
   "cell_type": "code",
   "execution_count": 31,
   "metadata": {
    "id": "yz7itPUQ_Zcu"
   },
   "outputs": [
    {
     "data": {
      "text/plain": [
       "genre\n",
       "pop            781\n",
       "dance          549\n",
       "electronic     480\n",
       "rock           474\n",
       "hiphop         286\n",
       "ruspop         186\n",
       "world          181\n",
       "rusrap         175\n",
       "alternative    164\n",
       "unknown        161\n",
       "Name: artist, dtype: int64"
      ]
     },
     "execution_count": 31,
     "metadata": {},
     "output_type": "execute_result"
    }
   ],
   "source": [
    "genre_weekday(moscow_general, 'Monday', '07:00', '11:00') # вызов функции для утра понедельника в Москве (вместо df — таблица moscow_general)\n",
    "# объекты, хранящие время, являются строками и сравниваются как строки\n",
    "# пример вызова: genre_weekday(moscow_general, 'Monday', '07:00', '11:00')"
   ]
  },
  {
   "cell_type": "code",
   "execution_count": 32,
   "metadata": {
    "id": "kwUcHPdy_Zcu"
   },
   "outputs": [
    {
     "data": {
      "text/plain": [
       "genre\n",
       "pop            218\n",
       "dance          182\n",
       "rock           162\n",
       "electronic     147\n",
       "hiphop          80\n",
       "ruspop          64\n",
       "alternative     58\n",
       "rusrap          55\n",
       "jazz            44\n",
       "classical       40\n",
       "Name: artist, dtype: int64"
      ]
     },
     "execution_count": 32,
     "metadata": {},
     "output_type": "execute_result"
    }
   ],
   "source": [
    "genre_weekday(spb_general, 'Monday', '07:00', '11:00') # вызов функции для утра понедельника в Петербурге (вместо df — таблица spb_general)"
   ]
  },
  {
   "cell_type": "code",
   "execution_count": 33,
   "metadata": {
    "id": "EzXVRE1o_Zcu"
   },
   "outputs": [
    {
     "data": {
      "text/plain": [
       "genre\n",
       "pop            365\n",
       "rock           287\n",
       "dance          259\n",
       "electronic     227\n",
       "hiphop         145\n",
       "world          112\n",
       "ruspop          90\n",
       "alternative     82\n",
       "rusrap          79\n",
       "classical       75\n",
       "Name: artist, dtype: int64"
      ]
     },
     "execution_count": 33,
     "metadata": {},
     "output_type": "execute_result"
    }
   ],
   "source": [
    "genre_weekday(moscow_general, 'Friday', '18:00', '21:00') # вызов функции для вечера пятницы в Москве"
   ]
  },
  {
   "cell_type": "code",
   "execution_count": 34,
   "metadata": {
    "id": "JZaEKu5v_Zcu"
   },
   "outputs": [
    {
     "data": {
      "text/plain": [
       "genre\n",
       "rock           126\n",
       "pop            120\n",
       "dance          111\n",
       "electronic      94\n",
       "hiphop          50\n",
       "jazz            39\n",
       "unknown         33\n",
       "alternative     32\n",
       "classical       32\n",
       "world           29\n",
       "Name: artist, dtype: int64"
      ]
     },
     "execution_count": 34,
     "metadata": {},
     "output_type": "execute_result"
    }
   ],
   "source": [
    "genre_weekday(spb_general, 'Friday', '18:00', '21:00') # вызов функции для вечера пятницы в Петербурге"
   ]
  },
  {
   "cell_type": "markdown",
   "metadata": {
    "id": "wrCe4MNX_Zcu"
   },
   "source": [
    "**Выводы**\n",
    "\n",
    "Если сравнить топ-10 жанров в понедельник утром, можно сделать такие выводы:\n",
    "\n",
    "1. В Москве и Петербурге слушают похожую музыку. Единственное отличие — в московский рейтинг вошёл жанр “world”, а в петербургский — джаз и классика.\n",
    "\n",
    "2. В Москве пропущенных значений оказалось так много, что значение `'unknown'` заняло десятое место среди самых популярных жанров. Значит, пропущенные значения занимают существенную долю в данных и угрожают достоверности исследования.\n",
    "\n",
    "Вечер пятницы не меняет эту картину. Некоторые жанры поднимаются немного выше, другие спускаются, но в целом топ-10 остаётся тем же самым.\n",
    "\n",
    "Таким образом, вторая гипотеза подтвердилась лишь частично:\n",
    "* Пользователи слушают похожую музыку в начале недели и в конце.\n",
    "* Разница между Москвой и Петербургом не слишком выражена. В Москве чаще слушают русскую популярную музыку, в Петербурге — джаз.\n",
    "\n",
    "Однако пропуски в данных ставят под сомнение этот результат. В Москве их так много, что рейтинг топ-10 мог бы выглядеть иначе, если бы не утерянные  данные о жанрах."
   ]
  },
  {
   "cell_type": "markdown",
   "metadata": {
    "id": "JolODAqr_Zcu"
   },
   "source": [
    "### Жанровые предпочтения в Москве и Петербурге\n",
    "\n",
    "Гипотеза: Петербург — столица рэпа, музыку этого жанра там слушают чаще, чем в Москве.  А Москва — город контрастов, в котором, тем не менее, преобладает поп-музыка."
   ]
  },
  {
   "cell_type": "markdown",
   "metadata": {
    "id": "DlegSvaT_Zcu"
   },
   "source": [
    "Сгруппируем таблицу `moscow_general` по жанру и посчитайте прослушивания треков каждого жанра методом `count()`. Затем отсортируем результат в порядке убывания и сохраните его в таблице `moscow_genres`."
   ]
  },
  {
   "cell_type": "code",
   "execution_count": 52,
   "metadata": {
    "id": "r19lIPke_Zcu"
   },
   "outputs": [],
   "source": [
    "moscow_genres = moscow_general.groupby('genre').count() # одной строкой: группировка таблицы moscow_general по столбцу 'genre', \n",
    "# подсчёт числа значений 'genre' в этой группировке методом count(), \n",
    "moscow_genres = moscow_genres.sort_values(by='track',ascending=False) # сортировка получившегося Series в порядке убывания и сохранение в moscow_genres"
   ]
  },
  {
   "cell_type": "markdown",
   "metadata": {
    "id": "6kMuomxTiIr8"
   },
   "source": [
    "Выведим на экран первые десять строк `moscow_genres`:"
   ]
  },
  {
   "cell_type": "code",
   "execution_count": 54,
   "metadata": {
    "id": "WhCSooF8_Zcv"
   },
   "outputs": [
    {
     "data": {
      "text/plain": [
       "genre\n",
       "pop            5892\n",
       "dance          4435\n",
       "rock           3965\n",
       "electronic     3786\n",
       "hiphop         2096\n",
       "classical      1616\n",
       "world          1432\n",
       "alternative    1379\n",
       "ruspop         1372\n",
       "rusrap         1161\n",
       "Name: track, dtype: int64"
      ]
     },
     "metadata": {},
     "output_type": "display_data"
    }
   ],
   "source": [
    "display(moscow_genres['track'].head(10)) # просмотр первых 10 строк moscow_genres"
   ]
  },
  {
   "cell_type": "markdown",
   "metadata": {
    "id": "cnPG2vnN_Zcv"
   },
   "source": [
    "Теперь повторим то же и для Петербурга.\n",
    "\n",
    "Сгруппируем таблицу `spb_general` по жанру. Посчитаем прослушивания треков каждого жанра. Результат отсортируем в порядке убывания и сохраните в таблице `spb_genres`:\n"
   ]
  },
  {
   "cell_type": "code",
   "execution_count": 37,
   "metadata": {
    "id": "gluLIpE7_Zcv"
   },
   "outputs": [],
   "source": [
    "spb_genres = spb_general.groupby('genre').count() # одной строкой: группировка таблицы spb_general по столбцу 'genre', \n",
    "# подсчёт числа значений 'genre' в этой группировке методом count(), \n",
    "spb_genres = spb_genres.sort_values(by='track',ascending=False)# сортировка получившегося Series в порядке убывания и сохранение в spb_genres"
   ]
  },
  {
   "cell_type": "markdown",
   "metadata": {
    "id": "5Doha_ODgyQ8"
   },
   "source": [
    "Выведим на экран первые десять строк `spb_genres`:"
   ]
  },
  {
   "cell_type": "code",
   "execution_count": 55,
   "metadata": {
    "id": "uaGJHjVU_Zcv"
   },
   "outputs": [
    {
     "data": {
      "text/plain": [
       "genre\n",
       "pop            2431\n",
       "dance          1932\n",
       "rock           1879\n",
       "electronic     1736\n",
       "hiphop          960\n",
       "alternative     649\n",
       "classical       646\n",
       "rusrap          564\n",
       "ruspop          538\n",
       "world           515\n",
       "Name: track, dtype: int64"
      ]
     },
     "metadata": {},
     "output_type": "display_data"
    }
   ],
   "source": [
    "display(spb_genres['track'].head(10)) # просмотр первых 10 строк spb_genres"
   ]
  },
  {
   "cell_type": "markdown",
   "metadata": {
    "id": "RY51YJYu_Zcv"
   },
   "source": [
    "**Выводы**"
   ]
  },
  {
   "cell_type": "markdown",
   "metadata": {
    "id": "nVhnJEm__Zcv"
   },
   "source": [
    "Гипотеза частично подтвердилась:\n",
    "* Поп-музыка — самый популярный жанр в Москве, как и предполагала гипотеза. Более того, в топ-10 жанров встречается близкий жанр — русская популярная музыка.\n",
    "* Вопреки ожиданиям, рэп одинаково популярен в Москве и Петербурге. \n"
   ]
  },
  {
   "cell_type": "markdown",
   "metadata": {
    "id": "ykKQ0N65_Zcv"
   },
   "source": [
    "## Итоги исследования"
   ]
  },
  {
   "cell_type": "markdown",
   "metadata": {
    "id": "tjUwbHb3_Zcv"
   },
   "source": [
    "Мы проверили три гипотезы и установили:\n",
    "\n",
    "1. День недели по-разному влияет на активность пользователей в Москве и Петербурге. \n",
    "\n",
    "Первая гипотеза полностью подтвердилась.\n",
    "\n",
    "2. Музыкальные предпочтения не сильно меняются в течение недели — будь то Москва или Петербург. Небольшие различия заметны в начале недели, по понедельникам:\n",
    "* в Москве слушают музыку жанра “world”,\n",
    "* в Петербурге — джаз и классику.\n",
    "\n",
    "Таким образом, вторая гипотеза подтвердилась лишь отчасти. Этот результат мог оказаться иным, если бы не пропуски в данных.\n",
    "\n",
    "3. Во вкусах пользователей Москвы и Петербурга больше общего чем различий. Вопреки ожиданиям, предпочтения жанров в Петербурге напоминают московские.\n",
    "\n",
    "Третья гипотеза не подтвердилась. Если различия в предпочтениях и существуют, на основной массе пользователей они незаметны.\n",
    "\n",
    "**На практике исследования содержат проверки статистических гипотез.**\n",
    "Из данных одного сервиса не всегда можно сделать вывод о всех жителях города.\n",
    "Проверки статистических гипотез покажут, насколько они достоверны, исходя из имеющихся данных. \n",
    "С методами проверок гипотез вы ещё познакомитесь в следующих темах."
   ]
  }
 ],
 "metadata": {
  "ExecuteTimeLog": [
   {
    "duration": 604,
    "start_time": "2022-01-30T14:06:26.044Z"
   },
   {
    "duration": 163,
    "start_time": "2022-01-30T14:07:41.348Z"
   },
   {
    "duration": 153,
    "start_time": "2022-01-30T14:08:05.375Z"
   },
   {
    "duration": 385,
    "start_time": "2022-01-30T14:08:33.219Z"
   },
   {
    "duration": 147,
    "start_time": "2022-01-30T14:09:08.860Z"
   },
   {
    "duration": 149,
    "start_time": "2022-01-30T14:09:13.130Z"
   },
   {
    "duration": 11,
    "start_time": "2022-01-30T14:09:18.907Z"
   },
   {
    "duration": 8,
    "start_time": "2022-01-30T14:09:41.115Z"
   },
   {
    "duration": 10,
    "start_time": "2022-01-30T14:15:18.886Z"
   },
   {
    "duration": 5,
    "start_time": "2022-01-30T14:17:13.784Z"
   },
   {
    "duration": 69,
    "start_time": "2022-01-30T14:29:31.194Z"
   },
   {
    "duration": 84,
    "start_time": "2022-01-30T14:29:45.687Z"
   },
   {
    "duration": 76,
    "start_time": "2022-01-30T14:30:01.187Z"
   },
   {
    "duration": 31,
    "start_time": "2022-01-30T14:30:13.739Z"
   },
   {
    "duration": 27,
    "start_time": "2022-01-30T14:31:00.590Z"
   },
   {
    "duration": 25,
    "start_time": "2022-01-30T14:31:26.028Z"
   },
   {
    "duration": 4,
    "start_time": "2022-01-30T14:32:16.476Z"
   },
   {
    "duration": 16,
    "start_time": "2022-01-30T14:32:45.615Z"
   },
   {
    "duration": 4,
    "start_time": "2022-01-30T14:32:53.693Z"
   },
   {
    "duration": 25,
    "start_time": "2022-01-30T14:32:58.952Z"
   },
   {
    "duration": 4,
    "start_time": "2022-01-30T14:33:06.951Z"
   },
   {
    "duration": 4,
    "start_time": "2022-01-30T14:33:09.504Z"
   },
   {
    "duration": 223,
    "start_time": "2022-01-30T14:56:36.900Z"
   },
   {
    "duration": 24,
    "start_time": "2022-01-30T14:56:48.791Z"
   },
   {
    "duration": 35,
    "start_time": "2022-01-30T15:03:59.411Z"
   },
   {
    "duration": 33,
    "start_time": "2022-01-30T15:04:01.965Z"
   },
   {
    "duration": 9,
    "start_time": "2022-01-30T15:04:55.001Z"
   },
   {
    "duration": 25,
    "start_time": "2022-01-30T15:05:24.415Z"
   },
   {
    "duration": 2703,
    "start_time": "2022-01-30T15:06:46.794Z"
   },
   {
    "duration": 2696,
    "start_time": "2022-01-30T15:07:08.253Z"
   },
   {
    "duration": 2764,
    "start_time": "2022-01-30T15:08:12.225Z"
   },
   {
    "duration": 8,
    "start_time": "2022-01-30T15:09:02.261Z"
   },
   {
    "duration": 2794,
    "start_time": "2022-01-30T15:09:41.647Z"
   },
   {
    "duration": 2837,
    "start_time": "2022-01-30T15:11:14.381Z"
   },
   {
    "duration": -15382,
    "start_time": "2022-01-30T15:11:32.603Z"
   },
   {
    "duration": 2880,
    "start_time": "2022-01-30T15:11:44.572Z"
   },
   {
    "duration": 9,
    "start_time": "2022-01-30T15:12:35.599Z"
   },
   {
    "duration": 2732,
    "start_time": "2022-01-30T15:13:55.744Z"
   },
   {
    "duration": 2899,
    "start_time": "2022-01-30T15:19:51.688Z"
   },
   {
    "duration": 9,
    "start_time": "2022-01-30T15:20:01.569Z"
   },
   {
    "duration": 2796,
    "start_time": "2022-01-30T15:20:38.256Z"
   },
   {
    "duration": 8,
    "start_time": "2022-01-30T15:20:44.628Z"
   },
   {
    "duration": 2720,
    "start_time": "2022-01-30T15:29:43.459Z"
   },
   {
    "duration": 2880,
    "start_time": "2022-01-30T15:30:44.160Z"
   },
   {
    "duration": 2808,
    "start_time": "2022-01-30T15:31:06.040Z"
   },
   {
    "duration": 3310,
    "start_time": "2022-01-30T15:31:17.646Z"
   },
   {
    "duration": 2859,
    "start_time": "2022-01-30T15:31:34.066Z"
   },
   {
    "duration": 2841,
    "start_time": "2022-01-30T15:31:43.830Z"
   },
   {
    "duration": 11308,
    "start_time": "2022-01-30T15:35:34.139Z"
   },
   {
    "duration": 6773,
    "start_time": "2022-01-30T15:36:05.499Z"
   },
   {
    "duration": 3128,
    "start_time": "2022-01-30T15:58:47.051Z"
   },
   {
    "duration": 3111,
    "start_time": "2022-01-30T15:59:19.708Z"
   },
   {
    "duration": 2928,
    "start_time": "2022-01-30T15:59:33.607Z"
   },
   {
    "duration": 2969,
    "start_time": "2022-01-30T16:03:02.498Z"
   },
   {
    "duration": 2875,
    "start_time": "2022-01-30T16:03:27.791Z"
   },
   {
    "duration": 8,
    "start_time": "2022-01-30T16:03:38.134Z"
   },
   {
    "duration": 2988,
    "start_time": "2022-01-30T16:03:47.470Z"
   },
   {
    "duration": 2834,
    "start_time": "2022-01-30T16:20:49.177Z"
   },
   {
    "duration": 2738,
    "start_time": "2022-01-30T16:23:42.277Z"
   },
   {
    "duration": 2967,
    "start_time": "2022-01-30T16:23:54.799Z"
   },
   {
    "duration": 3048,
    "start_time": "2022-01-30T16:28:04.106Z"
   },
   {
    "duration": 229,
    "start_time": "2022-01-30T16:28:42.302Z"
   },
   {
    "duration": 238,
    "start_time": "2022-01-30T16:28:55.106Z"
   },
   {
    "duration": 10,
    "start_time": "2022-01-30T16:29:13.208Z"
   },
   {
    "duration": 225,
    "start_time": "2022-01-30T16:29:24.874Z"
   },
   {
    "duration": 7,
    "start_time": "2022-01-30T16:29:33.406Z"
   },
   {
    "duration": 218,
    "start_time": "2022-01-30T16:29:47.121Z"
   },
   {
    "duration": 215,
    "start_time": "2022-01-30T16:29:51.688Z"
   },
   {
    "duration": 207,
    "start_time": "2022-01-30T16:29:58.928Z"
   },
   {
    "duration": 202,
    "start_time": "2022-01-30T16:30:06.618Z"
   },
   {
    "duration": 3,
    "start_time": "2022-01-30T16:30:15.423Z"
   },
   {
    "duration": 155,
    "start_time": "2022-01-30T16:30:19.396Z"
   },
   {
    "duration": 12,
    "start_time": "2022-01-30T16:30:26.285Z"
   },
   {
    "duration": 11,
    "start_time": "2022-01-30T16:30:28.224Z"
   },
   {
    "duration": 9,
    "start_time": "2022-01-30T16:30:31.787Z"
   },
   {
    "duration": 5,
    "start_time": "2022-01-30T16:30:47.058Z"
   },
   {
    "duration": 4,
    "start_time": "2022-01-30T16:30:49.070Z"
   },
   {
    "duration": 31,
    "start_time": "2022-01-30T16:30:55.533Z"
   },
   {
    "duration": 25,
    "start_time": "2022-01-30T16:31:07.758Z"
   },
   {
    "duration": 25,
    "start_time": "2022-01-30T16:31:09.478Z"
   },
   {
    "duration": 4,
    "start_time": "2022-01-30T16:31:16.235Z"
   },
   {
    "duration": 5,
    "start_time": "2022-01-30T16:31:17.811Z"
   },
   {
    "duration": 41,
    "start_time": "2022-01-30T16:31:21.424Z"
   },
   {
    "duration": 44,
    "start_time": "2022-01-30T16:31:27.018Z"
   },
   {
    "duration": 9,
    "start_time": "2022-01-30T16:31:32.749Z"
   },
   {
    "duration": 6112,
    "start_time": "2022-01-30T16:31:53.816Z"
   },
   {
    "duration": 5298,
    "start_time": "2022-01-30T16:33:19.268Z"
   },
   {
    "duration": 5287,
    "start_time": "2022-01-30T16:33:36.120Z"
   },
   {
    "duration": 5456,
    "start_time": "2022-01-30T16:33:46.795Z"
   },
   {
    "duration": 27,
    "start_time": "2022-01-30T16:40:12.958Z"
   },
   {
    "duration": -1069,
    "start_time": "2022-01-30T16:40:43.055Z"
   },
   {
    "duration": -1075,
    "start_time": "2022-01-30T16:40:43.062Z"
   },
   {
    "duration": 5823,
    "start_time": "2022-01-30T16:40:46.965Z"
   },
   {
    "duration": 635,
    "start_time": "2022-01-30T16:45:31.484Z"
   },
   {
    "duration": 156,
    "start_time": "2022-01-30T16:45:32.121Z"
   },
   {
    "duration": 27,
    "start_time": "2022-01-30T16:45:32.279Z"
   },
   {
    "duration": 12,
    "start_time": "2022-01-30T16:45:32.308Z"
   },
   {
    "duration": 9,
    "start_time": "2022-01-30T16:45:32.322Z"
   },
   {
    "duration": 48,
    "start_time": "2022-01-30T16:45:32.333Z"
   },
   {
    "duration": 4,
    "start_time": "2022-01-30T16:45:32.383Z"
   },
   {
    "duration": 25,
    "start_time": "2022-01-30T16:45:32.400Z"
   },
   {
    "duration": 5533,
    "start_time": "2022-01-30T16:45:32.427Z"
   },
   {
    "duration": -1055,
    "start_time": "2022-01-30T16:45:39.018Z"
   },
   {
    "duration": -1098,
    "start_time": "2022-01-30T16:45:39.062Z"
   },
   {
    "duration": -1112,
    "start_time": "2022-01-30T16:45:39.077Z"
   },
   {
    "duration": -1162,
    "start_time": "2022-01-30T16:45:39.128Z"
   },
   {
    "duration": -1175,
    "start_time": "2022-01-30T16:45:39.142Z"
   },
   {
    "duration": -1208,
    "start_time": "2022-01-30T16:45:39.176Z"
   },
   {
    "duration": -1215,
    "start_time": "2022-01-30T16:45:39.184Z"
   },
   {
    "duration": -1241,
    "start_time": "2022-01-30T16:45:39.211Z"
   },
   {
    "duration": -1265,
    "start_time": "2022-01-30T16:45:39.236Z"
   },
   {
    "duration": -1287,
    "start_time": "2022-01-30T16:45:39.259Z"
   },
   {
    "duration": -1311,
    "start_time": "2022-01-30T16:45:39.284Z"
   },
   {
    "duration": -1336,
    "start_time": "2022-01-30T16:45:39.310Z"
   },
   {
    "duration": -1361,
    "start_time": "2022-01-30T16:45:39.336Z"
   },
   {
    "duration": -1392,
    "start_time": "2022-01-30T16:45:39.368Z"
   },
   {
    "duration": -1397,
    "start_time": "2022-01-30T16:45:39.375Z"
   },
   {
    "duration": -1422,
    "start_time": "2022-01-30T16:45:39.401Z"
   },
   {
    "duration": -1439,
    "start_time": "2022-01-30T16:45:39.419Z"
   },
   {
    "duration": -1463,
    "start_time": "2022-01-30T16:45:39.444Z"
   },
   {
    "duration": -1475,
    "start_time": "2022-01-30T16:45:39.457Z"
   },
   {
    "duration": -1493,
    "start_time": "2022-01-30T16:45:39.476Z"
   },
   {
    "duration": -1526,
    "start_time": "2022-01-30T16:45:39.510Z"
   },
   {
    "duration": -1532,
    "start_time": "2022-01-30T16:45:39.517Z"
   },
   {
    "duration": -1548,
    "start_time": "2022-01-30T16:45:39.534Z"
   },
   {
    "duration": -1575,
    "start_time": "2022-01-30T16:45:39.562Z"
   },
   {
    "duration": -1604,
    "start_time": "2022-01-30T16:45:39.592Z"
   },
   {
    "duration": -1611,
    "start_time": "2022-01-30T16:45:39.600Z"
   },
   {
    "duration": -1629,
    "start_time": "2022-01-30T16:45:39.619Z"
   },
   {
    "duration": -1661,
    "start_time": "2022-01-30T16:45:39.652Z"
   },
   {
    "duration": -1680,
    "start_time": "2022-01-30T16:45:39.673Z"
   },
   {
    "duration": 640,
    "start_time": "2022-01-30T16:47:11.378Z"
   },
   {
    "duration": 152,
    "start_time": "2022-01-30T16:47:12.020Z"
   },
   {
    "duration": 25,
    "start_time": "2022-01-30T16:47:12.175Z"
   },
   {
    "duration": 9,
    "start_time": "2022-01-30T16:47:12.202Z"
   },
   {
    "duration": 7,
    "start_time": "2022-01-30T16:47:12.213Z"
   },
   {
    "duration": 32,
    "start_time": "2022-01-30T16:47:12.222Z"
   },
   {
    "duration": 4,
    "start_time": "2022-01-30T16:47:12.257Z"
   },
   {
    "duration": 27,
    "start_time": "2022-01-30T16:47:12.299Z"
   },
   {
    "duration": 5925,
    "start_time": "2022-01-30T16:47:12.329Z"
   },
   {
    "duration": -1151,
    "start_time": "2022-01-30T16:47:19.409Z"
   },
   {
    "duration": -1164,
    "start_time": "2022-01-30T16:47:19.423Z"
   },
   {
    "duration": -1171,
    "start_time": "2022-01-30T16:47:19.431Z"
   },
   {
    "duration": -1178,
    "start_time": "2022-01-30T16:47:19.440Z"
   },
   {
    "duration": -1186,
    "start_time": "2022-01-30T16:47:19.449Z"
   },
   {
    "duration": -1191,
    "start_time": "2022-01-30T16:47:19.454Z"
   },
   {
    "duration": -1193,
    "start_time": "2022-01-30T16:47:19.457Z"
   },
   {
    "duration": -1201,
    "start_time": "2022-01-30T16:47:19.466Z"
   },
   {
    "duration": -1216,
    "start_time": "2022-01-30T16:47:19.482Z"
   },
   {
    "duration": -1222,
    "start_time": "2022-01-30T16:47:19.489Z"
   },
   {
    "duration": -1241,
    "start_time": "2022-01-30T16:47:19.509Z"
   },
   {
    "duration": -1255,
    "start_time": "2022-01-30T16:47:19.524Z"
   },
   {
    "duration": -1260,
    "start_time": "2022-01-30T16:47:19.530Z"
   },
   {
    "duration": -1268,
    "start_time": "2022-01-30T16:47:19.539Z"
   },
   {
    "duration": -1275,
    "start_time": "2022-01-30T16:47:19.547Z"
   },
   {
    "duration": -1292,
    "start_time": "2022-01-30T16:47:19.565Z"
   },
   {
    "duration": -1299,
    "start_time": "2022-01-30T16:47:19.573Z"
   },
   {
    "duration": -1310,
    "start_time": "2022-01-30T16:47:19.585Z"
   },
   {
    "duration": -1313,
    "start_time": "2022-01-30T16:47:19.589Z"
   },
   {
    "duration": -1320,
    "start_time": "2022-01-30T16:47:19.597Z"
   },
   {
    "duration": -1328,
    "start_time": "2022-01-30T16:47:19.606Z"
   },
   {
    "duration": -1337,
    "start_time": "2022-01-30T16:47:19.615Z"
   },
   {
    "duration": -1343,
    "start_time": "2022-01-30T16:47:19.622Z"
   },
   {
    "duration": -1350,
    "start_time": "2022-01-30T16:47:19.630Z"
   },
   {
    "duration": -1356,
    "start_time": "2022-01-30T16:47:19.637Z"
   },
   {
    "duration": -1363,
    "start_time": "2022-01-30T16:47:19.645Z"
   },
   {
    "duration": -1365,
    "start_time": "2022-01-30T16:47:19.648Z"
   },
   {
    "duration": -1373,
    "start_time": "2022-01-30T16:47:19.657Z"
   },
   {
    "duration": -1379,
    "start_time": "2022-01-30T16:47:19.664Z"
   },
   {
    "duration": 671,
    "start_time": "2022-01-30T16:47:42.500Z"
   },
   {
    "duration": 148,
    "start_time": "2022-01-30T16:47:43.173Z"
   },
   {
    "duration": 18,
    "start_time": "2022-01-30T16:47:43.324Z"
   },
   {
    "duration": 10,
    "start_time": "2022-01-30T16:47:43.344Z"
   },
   {
    "duration": 6,
    "start_time": "2022-01-30T16:47:43.356Z"
   },
   {
    "duration": 53,
    "start_time": "2022-01-30T16:47:43.363Z"
   },
   {
    "duration": 5,
    "start_time": "2022-01-30T16:47:43.418Z"
   },
   {
    "duration": 26,
    "start_time": "2022-01-30T16:47:43.425Z"
   },
   {
    "duration": 7602,
    "start_time": "2022-01-30T16:47:43.454Z"
   },
   {
    "duration": -1156,
    "start_time": "2022-01-30T16:47:52.215Z"
   },
   {
    "duration": -1165,
    "start_time": "2022-01-30T16:47:52.225Z"
   },
   {
    "duration": -1172,
    "start_time": "2022-01-30T16:47:52.233Z"
   },
   {
    "duration": -1178,
    "start_time": "2022-01-30T16:47:52.240Z"
   },
   {
    "duration": -1182,
    "start_time": "2022-01-30T16:47:52.245Z"
   },
   {
    "duration": -1188,
    "start_time": "2022-01-30T16:47:52.252Z"
   },
   {
    "duration": -1192,
    "start_time": "2022-01-30T16:47:52.257Z"
   },
   {
    "duration": -1198,
    "start_time": "2022-01-30T16:47:52.264Z"
   },
   {
    "duration": -1211,
    "start_time": "2022-01-30T16:47:52.277Z"
   },
   {
    "duration": -1216,
    "start_time": "2022-01-30T16:47:52.283Z"
   },
   {
    "duration": -1220,
    "start_time": "2022-01-30T16:47:52.288Z"
   },
   {
    "duration": -1225,
    "start_time": "2022-01-30T16:47:52.294Z"
   },
   {
    "duration": -1229,
    "start_time": "2022-01-30T16:47:52.299Z"
   },
   {
    "duration": -1232,
    "start_time": "2022-01-30T16:47:52.303Z"
   },
   {
    "duration": -1234,
    "start_time": "2022-01-30T16:47:52.306Z"
   },
   {
    "duration": -1237,
    "start_time": "2022-01-30T16:47:52.310Z"
   },
   {
    "duration": -1240,
    "start_time": "2022-01-30T16:47:52.313Z"
   },
   {
    "duration": -1243,
    "start_time": "2022-01-30T16:47:52.317Z"
   },
   {
    "duration": -1246,
    "start_time": "2022-01-30T16:47:52.321Z"
   },
   {
    "duration": -1249,
    "start_time": "2022-01-30T16:47:52.325Z"
   },
   {
    "duration": -1251,
    "start_time": "2022-01-30T16:47:52.328Z"
   },
   {
    "duration": -1254,
    "start_time": "2022-01-30T16:47:52.332Z"
   },
   {
    "duration": -1256,
    "start_time": "2022-01-30T16:47:52.335Z"
   },
   {
    "duration": -1260,
    "start_time": "2022-01-30T16:47:52.340Z"
   },
   {
    "duration": -1263,
    "start_time": "2022-01-30T16:47:52.343Z"
   },
   {
    "duration": -1266,
    "start_time": "2022-01-30T16:47:52.347Z"
   },
   {
    "duration": -1267,
    "start_time": "2022-01-30T16:47:52.350Z"
   },
   {
    "duration": -1270,
    "start_time": "2022-01-30T16:47:52.355Z"
   },
   {
    "duration": -1272,
    "start_time": "2022-01-30T16:47:52.359Z"
   },
   {
    "duration": 5568,
    "start_time": "2022-01-30T16:49:22.466Z"
   },
   {
    "duration": 66,
    "start_time": "2022-01-30T16:49:54.759Z"
   },
   {
    "duration": 5752,
    "start_time": "2022-01-30T16:50:10.410Z"
   },
   {
    "duration": 24,
    "start_time": "2022-01-30T16:50:16.455Z"
   },
   {
    "duration": 6093,
    "start_time": "2022-01-30T16:50:59.258Z"
   },
   {
    "duration": 45,
    "start_time": "2022-01-30T16:51:18.063Z"
   },
   {
    "duration": 23,
    "start_time": "2022-01-30T16:51:36.103Z"
   },
   {
    "duration": 69,
    "start_time": "2022-01-30T16:52:13.451Z"
   },
   {
    "duration": 24,
    "start_time": "2022-01-30T16:52:50.921Z"
   },
   {
    "duration": 602,
    "start_time": "2022-01-30T16:53:00.664Z"
   },
   {
    "duration": 153,
    "start_time": "2022-01-30T16:53:01.270Z"
   },
   {
    "duration": 19,
    "start_time": "2022-01-30T16:53:01.425Z"
   },
   {
    "duration": 17,
    "start_time": "2022-01-30T16:53:01.446Z"
   },
   {
    "duration": 10,
    "start_time": "2022-01-30T16:53:01.465Z"
   },
   {
    "duration": 45,
    "start_time": "2022-01-30T16:53:01.477Z"
   },
   {
    "duration": 4,
    "start_time": "2022-01-30T16:53:01.524Z"
   },
   {
    "duration": 30,
    "start_time": "2022-01-30T16:53:01.530Z"
   },
   {
    "duration": 85,
    "start_time": "2022-01-30T16:53:01.563Z"
   },
   {
    "duration": -1165,
    "start_time": "2022-01-30T16:53:02.815Z"
   },
   {
    "duration": -1168,
    "start_time": "2022-01-30T16:53:02.820Z"
   },
   {
    "duration": -1172,
    "start_time": "2022-01-30T16:53:02.825Z"
   },
   {
    "duration": -1177,
    "start_time": "2022-01-30T16:53:02.831Z"
   },
   {
    "duration": -1180,
    "start_time": "2022-01-30T16:53:02.835Z"
   },
   {
    "duration": -1184,
    "start_time": "2022-01-30T16:53:02.840Z"
   },
   {
    "duration": -1186,
    "start_time": "2022-01-30T16:53:02.843Z"
   },
   {
    "duration": -1188,
    "start_time": "2022-01-30T16:53:02.846Z"
   },
   {
    "duration": -1191,
    "start_time": "2022-01-30T16:53:02.850Z"
   },
   {
    "duration": -1192,
    "start_time": "2022-01-30T16:53:02.853Z"
   },
   {
    "duration": -1220,
    "start_time": "2022-01-30T16:53:02.882Z"
   },
   {
    "duration": -1237,
    "start_time": "2022-01-30T16:53:02.900Z"
   },
   {
    "duration": -1244,
    "start_time": "2022-01-30T16:53:02.909Z"
   },
   {
    "duration": -1250,
    "start_time": "2022-01-30T16:53:02.916Z"
   },
   {
    "duration": -1254,
    "start_time": "2022-01-30T16:53:02.921Z"
   },
   {
    "duration": -1259,
    "start_time": "2022-01-30T16:53:02.927Z"
   },
   {
    "duration": -1264,
    "start_time": "2022-01-30T16:53:02.933Z"
   },
   {
    "duration": -1268,
    "start_time": "2022-01-30T16:53:02.938Z"
   },
   {
    "duration": -1272,
    "start_time": "2022-01-30T16:53:02.943Z"
   },
   {
    "duration": -1277,
    "start_time": "2022-01-30T16:53:02.949Z"
   },
   {
    "duration": -1281,
    "start_time": "2022-01-30T16:53:02.955Z"
   },
   {
    "duration": -1285,
    "start_time": "2022-01-30T16:53:02.960Z"
   },
   {
    "duration": -1289,
    "start_time": "2022-01-30T16:53:02.965Z"
   },
   {
    "duration": -1311,
    "start_time": "2022-01-30T16:53:02.988Z"
   },
   {
    "duration": -1315,
    "start_time": "2022-01-30T16:53:02.993Z"
   },
   {
    "duration": -1317,
    "start_time": "2022-01-30T16:53:02.997Z"
   },
   {
    "duration": -1319,
    "start_time": "2022-01-30T16:53:03.000Z"
   },
   {
    "duration": -1321,
    "start_time": "2022-01-30T16:53:03.003Z"
   },
   {
    "duration": -1324,
    "start_time": "2022-01-30T16:53:03.007Z"
   },
   {
    "duration": 6719,
    "start_time": "2022-01-30T16:53:24.722Z"
   },
   {
    "duration": 5683,
    "start_time": "2022-01-30T16:53:47.863Z"
   },
   {
    "duration": 7089,
    "start_time": "2022-01-30T16:54:05.979Z"
   },
   {
    "duration": 664,
    "start_time": "2022-01-30T16:54:21.893Z"
   },
   {
    "duration": 149,
    "start_time": "2022-01-30T16:54:22.560Z"
   },
   {
    "duration": 18,
    "start_time": "2022-01-30T16:54:22.711Z"
   },
   {
    "duration": 14,
    "start_time": "2022-01-30T16:54:22.730Z"
   },
   {
    "duration": 18,
    "start_time": "2022-01-30T16:54:22.746Z"
   },
   {
    "duration": 41,
    "start_time": "2022-01-30T16:54:22.765Z"
   },
   {
    "duration": 7,
    "start_time": "2022-01-30T16:54:22.808Z"
   },
   {
    "duration": 31,
    "start_time": "2022-01-30T16:54:22.818Z"
   },
   {
    "duration": 6049,
    "start_time": "2022-01-30T16:54:22.851Z"
   },
   {
    "duration": -1132,
    "start_time": "2022-01-30T16:54:30.035Z"
   },
   {
    "duration": -1154,
    "start_time": "2022-01-30T16:54:30.058Z"
   },
   {
    "duration": -1169,
    "start_time": "2022-01-30T16:54:30.075Z"
   },
   {
    "duration": -1174,
    "start_time": "2022-01-30T16:54:30.081Z"
   },
   {
    "duration": -1199,
    "start_time": "2022-01-30T16:54:30.107Z"
   },
   {
    "duration": -1205,
    "start_time": "2022-01-30T16:54:30.114Z"
   },
   {
    "duration": -1231,
    "start_time": "2022-01-30T16:54:30.141Z"
   },
   {
    "duration": -1262,
    "start_time": "2022-01-30T16:54:30.173Z"
   },
   {
    "duration": -1268,
    "start_time": "2022-01-30T16:54:30.180Z"
   },
   {
    "duration": -1294,
    "start_time": "2022-01-30T16:54:30.207Z"
   },
   {
    "duration": -1300,
    "start_time": "2022-01-30T16:54:30.214Z"
   },
   {
    "duration": -1315,
    "start_time": "2022-01-30T16:54:30.230Z"
   },
   {
    "duration": -1349,
    "start_time": "2022-01-30T16:54:30.265Z"
   },
   {
    "duration": -1355,
    "start_time": "2022-01-30T16:54:30.272Z"
   },
   {
    "duration": -1381,
    "start_time": "2022-01-30T16:54:30.299Z"
   },
   {
    "duration": -1392,
    "start_time": "2022-01-30T16:54:30.311Z"
   },
   {
    "duration": -1403,
    "start_time": "2022-01-30T16:54:30.323Z"
   },
   {
    "duration": -1415,
    "start_time": "2022-01-30T16:54:30.336Z"
   },
   {
    "duration": -1438,
    "start_time": "2022-01-30T16:54:30.360Z"
   },
   {
    "duration": -1442,
    "start_time": "2022-01-30T16:54:30.365Z"
   },
   {
    "duration": -1458,
    "start_time": "2022-01-30T16:54:30.382Z"
   },
   {
    "duration": -1465,
    "start_time": "2022-01-30T16:54:30.390Z"
   },
   {
    "duration": -1473,
    "start_time": "2022-01-30T16:54:30.400Z"
   },
   {
    "duration": -1475,
    "start_time": "2022-01-30T16:54:30.403Z"
   },
   {
    "duration": -1484,
    "start_time": "2022-01-30T16:54:30.414Z"
   },
   {
    "duration": -1501,
    "start_time": "2022-01-30T16:54:30.432Z"
   },
   {
    "duration": -1532,
    "start_time": "2022-01-30T16:54:30.465Z"
   },
   {
    "duration": -1548,
    "start_time": "2022-01-30T16:54:30.482Z"
   },
   {
    "duration": -1581,
    "start_time": "2022-01-30T16:54:30.517Z"
   },
   {
    "duration": 5323,
    "start_time": "2022-01-30T16:55:57.333Z"
   },
   {
    "duration": 149,
    "start_time": "2022-01-30T16:56:15.050Z"
   },
   {
    "duration": 25,
    "start_time": "2022-01-30T16:56:22.618Z"
   },
   {
    "duration": 5552,
    "start_time": "2022-01-30T16:56:42.171Z"
   },
   {
    "duration": 6067,
    "start_time": "2022-01-30T16:59:42.319Z"
   },
   {
    "duration": 5741,
    "start_time": "2022-01-30T17:00:45.826Z"
   },
   {
    "duration": 634,
    "start_time": "2022-01-30T17:01:00.686Z"
   },
   {
    "duration": 153,
    "start_time": "2022-01-30T17:01:01.322Z"
   },
   {
    "duration": 17,
    "start_time": "2022-01-30T17:01:01.477Z"
   },
   {
    "duration": 17,
    "start_time": "2022-01-30T17:01:01.499Z"
   },
   {
    "duration": 8,
    "start_time": "2022-01-30T17:01:01.518Z"
   },
   {
    "duration": 36,
    "start_time": "2022-01-30T17:01:01.527Z"
   },
   {
    "duration": 11,
    "start_time": "2022-01-30T17:01:01.565Z"
   },
   {
    "duration": 40,
    "start_time": "2022-01-30T17:01:01.578Z"
   },
   {
    "duration": 5991,
    "start_time": "2022-01-30T17:01:01.621Z"
   },
   {
    "duration": -1253,
    "start_time": "2022-01-30T17:01:08.868Z"
   },
   {
    "duration": -1267,
    "start_time": "2022-01-30T17:01:08.883Z"
   },
   {
    "duration": -1298,
    "start_time": "2022-01-30T17:01:08.915Z"
   },
   {
    "duration": -1304,
    "start_time": "2022-01-30T17:01:08.922Z"
   },
   {
    "duration": -1322,
    "start_time": "2022-01-30T17:01:08.941Z"
   },
   {
    "duration": -1353,
    "start_time": "2022-01-30T17:01:08.973Z"
   },
   {
    "duration": -1359,
    "start_time": "2022-01-30T17:01:08.981Z"
   },
   {
    "duration": -1375,
    "start_time": "2022-01-30T17:01:08.998Z"
   },
   {
    "duration": -1400,
    "start_time": "2022-01-30T17:01:09.024Z"
   },
   {
    "duration": -1405,
    "start_time": "2022-01-30T17:01:09.031Z"
   },
   {
    "duration": -1438,
    "start_time": "2022-01-30T17:01:09.064Z"
   },
   {
    "duration": -1455,
    "start_time": "2022-01-30T17:01:09.082Z"
   },
   {
    "duration": -1485,
    "start_time": "2022-01-30T17:01:09.113Z"
   },
   {
    "duration": -1492,
    "start_time": "2022-01-30T17:01:09.121Z"
   },
   {
    "duration": -1511,
    "start_time": "2022-01-30T17:01:09.141Z"
   },
   {
    "duration": -1533,
    "start_time": "2022-01-30T17:01:09.164Z"
   },
   {
    "duration": -1559,
    "start_time": "2022-01-30T17:01:09.191Z"
   },
   {
    "duration": -1583,
    "start_time": "2022-01-30T17:01:09.216Z"
   },
   {
    "duration": -1607,
    "start_time": "2022-01-30T17:01:09.241Z"
   },
   {
    "duration": -1632,
    "start_time": "2022-01-30T17:01:09.267Z"
   },
   {
    "duration": -1654,
    "start_time": "2022-01-30T17:01:09.291Z"
   },
   {
    "duration": -1666,
    "start_time": "2022-01-30T17:01:09.304Z"
   },
   {
    "duration": -1685,
    "start_time": "2022-01-30T17:01:09.324Z"
   },
   {
    "duration": -1690,
    "start_time": "2022-01-30T17:01:09.330Z"
   },
   {
    "duration": -1707,
    "start_time": "2022-01-30T17:01:09.349Z"
   },
   {
    "duration": -1723,
    "start_time": "2022-01-30T17:01:09.366Z"
   },
   {
    "duration": -1736,
    "start_time": "2022-01-30T17:01:09.380Z"
   },
   {
    "duration": -1746,
    "start_time": "2022-01-30T17:01:09.391Z"
   },
   {
    "duration": -1765,
    "start_time": "2022-01-30T17:01:09.411Z"
   },
   {
    "duration": 3,
    "start_time": "2022-01-30T17:03:14.679Z"
   },
   {
    "duration": 2,
    "start_time": "2022-01-30T17:03:19.254Z"
   },
   {
    "duration": 150,
    "start_time": "2022-01-30T17:03:20.410Z"
   },
   {
    "duration": 154,
    "start_time": "2022-01-30T17:03:22.974Z"
   },
   {
    "duration": 2,
    "start_time": "2022-01-30T17:03:28.808Z"
   },
   {
    "duration": 3,
    "start_time": "2022-01-30T17:03:30.370Z"
   },
   {
    "duration": 157,
    "start_time": "2022-01-30T17:03:33.935Z"
   },
   {
    "duration": 151,
    "start_time": "2022-01-30T17:03:35.908Z"
   },
   {
    "duration": 148,
    "start_time": "2022-01-30T17:03:37.305Z"
   },
   {
    "duration": 12,
    "start_time": "2022-01-30T17:03:40.327Z"
   },
   {
    "duration": 9,
    "start_time": "2022-01-30T17:03:44.129Z"
   },
   {
    "duration": 4,
    "start_time": "2022-01-30T17:03:50.963Z"
   },
   {
    "duration": 20,
    "start_time": "2022-01-30T17:03:55.278Z"
   },
   {
    "duration": 4,
    "start_time": "2022-01-30T17:03:58.970Z"
   },
   {
    "duration": 26,
    "start_time": "2022-01-30T17:04:01.649Z"
   },
   {
    "duration": 5597,
    "start_time": "2022-01-30T17:04:04.138Z"
   },
   {
    "duration": 686,
    "start_time": "2022-01-30T17:05:55.096Z"
   },
   {
    "duration": 152,
    "start_time": "2022-01-30T17:05:55.784Z"
   },
   {
    "duration": 18,
    "start_time": "2022-01-30T17:05:55.938Z"
   },
   {
    "duration": 8,
    "start_time": "2022-01-30T17:05:55.958Z"
   },
   {
    "duration": 6,
    "start_time": "2022-01-30T17:05:55.968Z"
   },
   {
    "duration": 55,
    "start_time": "2022-01-30T17:05:55.976Z"
   },
   {
    "duration": 7,
    "start_time": "2022-01-30T17:05:56.034Z"
   },
   {
    "duration": 26,
    "start_time": "2022-01-30T17:05:56.043Z"
   },
   {
    "duration": 6504,
    "start_time": "2022-01-30T17:05:56.071Z"
   },
   {
    "duration": -1535,
    "start_time": "2022-01-30T17:06:04.114Z"
   },
   {
    "duration": -1540,
    "start_time": "2022-01-30T17:06:04.121Z"
   },
   {
    "duration": -1544,
    "start_time": "2022-01-30T17:06:04.126Z"
   },
   {
    "duration": -1546,
    "start_time": "2022-01-30T17:06:04.129Z"
   },
   {
    "duration": -1548,
    "start_time": "2022-01-30T17:06:04.132Z"
   },
   {
    "duration": -1549,
    "start_time": "2022-01-30T17:06:04.135Z"
   },
   {
    "duration": -1557,
    "start_time": "2022-01-30T17:06:04.144Z"
   },
   {
    "duration": -1580,
    "start_time": "2022-01-30T17:06:04.168Z"
   },
   {
    "duration": -1581,
    "start_time": "2022-01-30T17:06:04.171Z"
   },
   {
    "duration": -1583,
    "start_time": "2022-01-30T17:06:04.174Z"
   },
   {
    "duration": -1586,
    "start_time": "2022-01-30T17:06:04.178Z"
   },
   {
    "duration": -1587,
    "start_time": "2022-01-30T17:06:04.180Z"
   },
   {
    "duration": -1589,
    "start_time": "2022-01-30T17:06:04.183Z"
   },
   {
    "duration": -1746,
    "start_time": "2022-01-30T17:06:04.341Z"
   },
   {
    "duration": -1765,
    "start_time": "2022-01-30T17:06:04.362Z"
   },
   {
    "duration": -1767,
    "start_time": "2022-01-30T17:06:04.365Z"
   },
   {
    "duration": -1769,
    "start_time": "2022-01-30T17:06:04.368Z"
   },
   {
    "duration": -1770,
    "start_time": "2022-01-30T17:06:04.370Z"
   },
   {
    "duration": -1773,
    "start_time": "2022-01-30T17:06:04.374Z"
   },
   {
    "duration": -1775,
    "start_time": "2022-01-30T17:06:04.377Z"
   },
   {
    "duration": -1776,
    "start_time": "2022-01-30T17:06:04.379Z"
   },
   {
    "duration": -1777,
    "start_time": "2022-01-30T17:06:04.381Z"
   },
   {
    "duration": -1779,
    "start_time": "2022-01-30T17:06:04.384Z"
   },
   {
    "duration": -1780,
    "start_time": "2022-01-30T17:06:04.386Z"
   },
   {
    "duration": -1781,
    "start_time": "2022-01-30T17:06:04.389Z"
   },
   {
    "duration": -1783,
    "start_time": "2022-01-30T17:06:04.392Z"
   },
   {
    "duration": -1836,
    "start_time": "2022-01-30T17:06:04.446Z"
   },
   {
    "duration": -1839,
    "start_time": "2022-01-30T17:06:04.450Z"
   },
   {
    "duration": -1850,
    "start_time": "2022-01-30T17:06:04.462Z"
   },
   {
    "duration": 6019,
    "start_time": "2022-01-30T17:06:14.972Z"
   },
   {
    "duration": 5742,
    "start_time": "2022-01-30T17:06:26.798Z"
   },
   {
    "duration": 5514,
    "start_time": "2022-01-30T17:07:00.806Z"
   },
   {
    "duration": 5472,
    "start_time": "2022-01-30T17:07:12.034Z"
   },
   {
    "duration": 5752,
    "start_time": "2022-01-30T17:09:03.945Z"
   },
   {
    "duration": 31,
    "start_time": "2022-01-30T17:09:46.113Z"
   },
   {
    "duration": 4,
    "start_time": "2022-01-30T17:09:53.362Z"
   },
   {
    "duration": 4,
    "start_time": "2022-01-30T17:10:16.295Z"
   },
   {
    "duration": 26,
    "start_time": "2022-01-30T17:10:37.824Z"
   },
   {
    "duration": 27,
    "start_time": "2022-01-30T17:10:40.478Z"
   },
   {
    "duration": 4,
    "start_time": "2022-01-30T17:10:44.939Z"
   },
   {
    "duration": 255,
    "start_time": "2022-01-30T17:22:36.419Z"
   },
   {
    "duration": 17,
    "start_time": "2022-01-30T17:23:03.072Z"
   },
   {
    "duration": 632,
    "start_time": "2022-01-30T17:23:20.603Z"
   },
   {
    "duration": 153,
    "start_time": "2022-01-30T17:23:21.237Z"
   },
   {
    "duration": 21,
    "start_time": "2022-01-30T17:23:21.395Z"
   },
   {
    "duration": 53,
    "start_time": "2022-01-30T17:23:21.418Z"
   },
   {
    "duration": 9,
    "start_time": "2022-01-30T17:23:21.472Z"
   },
   {
    "duration": 34,
    "start_time": "2022-01-30T17:23:21.483Z"
   },
   {
    "duration": 4,
    "start_time": "2022-01-30T17:23:21.519Z"
   },
   {
    "duration": 26,
    "start_time": "2022-01-30T17:23:21.525Z"
   },
   {
    "duration": 16,
    "start_time": "2022-01-30T17:23:21.553Z"
   },
   {
    "duration": 45,
    "start_time": "2022-01-30T17:23:21.570Z"
   },
   {
    "duration": 11,
    "start_time": "2022-01-30T17:23:21.617Z"
   },
   {
    "duration": 9,
    "start_time": "2022-01-30T17:23:21.630Z"
   },
   {
    "duration": 16,
    "start_time": "2022-01-30T17:23:21.640Z"
   },
   {
    "duration": 7,
    "start_time": "2022-01-30T17:23:21.658Z"
   },
   {
    "duration": 8,
    "start_time": "2022-01-30T17:23:21.667Z"
   },
   {
    "duration": 11,
    "start_time": "2022-01-30T17:23:21.677Z"
   },
   {
    "duration": 6,
    "start_time": "2022-01-30T17:23:21.690Z"
   },
   {
    "duration": 5,
    "start_time": "2022-01-30T17:23:21.698Z"
   },
   {
    "duration": 5,
    "start_time": "2022-01-30T17:23:21.705Z"
   },
   {
    "duration": 6,
    "start_time": "2022-01-30T17:23:21.712Z"
   },
   {
    "duration": 14,
    "start_time": "2022-01-30T17:23:21.720Z"
   },
   {
    "duration": 5,
    "start_time": "2022-01-30T17:23:21.736Z"
   },
   {
    "duration": 12,
    "start_time": "2022-01-30T17:23:21.743Z"
   },
   {
    "duration": 8,
    "start_time": "2022-01-30T17:23:21.756Z"
   },
   {
    "duration": 9,
    "start_time": "2022-01-30T17:23:21.766Z"
   },
   {
    "duration": 10,
    "start_time": "2022-01-30T17:23:21.778Z"
   },
   {
    "duration": 5,
    "start_time": "2022-01-30T17:23:21.790Z"
   },
   {
    "duration": 8,
    "start_time": "2022-01-30T17:23:21.797Z"
   },
   {
    "duration": 5,
    "start_time": "2022-01-30T17:23:21.807Z"
   },
   {
    "duration": 5,
    "start_time": "2022-01-30T17:23:21.814Z"
   },
   {
    "duration": 9,
    "start_time": "2022-01-30T17:23:21.821Z"
   },
   {
    "duration": 5,
    "start_time": "2022-01-30T17:23:21.832Z"
   },
   {
    "duration": 9,
    "start_time": "2022-01-30T17:23:21.839Z"
   },
   {
    "duration": 6,
    "start_time": "2022-01-30T17:23:21.850Z"
   },
   {
    "duration": 7,
    "start_time": "2022-01-30T17:23:21.857Z"
   },
   {
    "duration": 7,
    "start_time": "2022-01-30T17:23:21.866Z"
   },
   {
    "duration": 6,
    "start_time": "2022-01-30T17:23:21.874Z"
   },
   {
    "duration": 6,
    "start_time": "2022-01-30T17:23:21.882Z"
   },
   {
    "duration": 24,
    "start_time": "2022-01-30T17:23:40.108Z"
   },
   {
    "duration": 29,
    "start_time": "2022-01-30T17:24:17.532Z"
   },
   {
    "duration": 16,
    "start_time": "2022-01-30T17:24:31.571Z"
   },
   {
    "duration": 31,
    "start_time": "2022-01-30T17:24:42.423Z"
   },
   {
    "duration": 27,
    "start_time": "2022-01-30T17:26:28.745Z"
   },
   {
    "duration": 4,
    "start_time": "2022-01-30T17:26:34.556Z"
   },
   {
    "duration": 29,
    "start_time": "2022-01-30T17:26:44.008Z"
   },
   {
    "duration": 15,
    "start_time": "2022-01-30T17:26:49.424Z"
   },
   {
    "duration": 24,
    "start_time": "2022-01-30T17:26:59.465Z"
   },
   {
    "duration": 25,
    "start_time": "2022-01-30T17:28:40.658Z"
   },
   {
    "duration": 4,
    "start_time": "2022-01-30T17:28:44.299Z"
   },
   {
    "duration": 25,
    "start_time": "2022-01-30T17:28:55.298Z"
   },
   {
    "duration": 7,
    "start_time": "2022-01-30T17:29:01.996Z"
   },
   {
    "duration": 292,
    "start_time": "2022-01-30T17:29:26.118Z"
   },
   {
    "duration": 249,
    "start_time": "2022-01-30T17:29:34.032Z"
   },
   {
    "duration": 26,
    "start_time": "2022-01-30T17:29:42.491Z"
   },
   {
    "duration": 4,
    "start_time": "2022-01-30T17:30:05.905Z"
   },
   {
    "duration": 4,
    "start_time": "2022-01-30T17:30:13.293Z"
   },
   {
    "duration": 27,
    "start_time": "2022-01-30T17:30:17.647Z"
   },
   {
    "duration": 27,
    "start_time": "2022-01-30T17:30:23.962Z"
   },
   {
    "duration": 4,
    "start_time": "2022-01-30T17:30:36.451Z"
   },
   {
    "duration": 642,
    "start_time": "2022-01-30T17:30:43.899Z"
   },
   {
    "duration": 151,
    "start_time": "2022-01-30T17:30:44.543Z"
   },
   {
    "duration": 18,
    "start_time": "2022-01-30T17:30:44.696Z"
   },
   {
    "duration": 29,
    "start_time": "2022-01-30T17:30:44.715Z"
   },
   {
    "duration": 22,
    "start_time": "2022-01-30T17:30:44.746Z"
   },
   {
    "duration": 50,
    "start_time": "2022-01-30T17:30:44.769Z"
   },
   {
    "duration": 15,
    "start_time": "2022-01-30T17:30:44.820Z"
   },
   {
    "duration": 45,
    "start_time": "2022-01-30T17:30:44.836Z"
   },
   {
    "duration": 36,
    "start_time": "2022-01-30T17:30:44.883Z"
   },
   {
    "duration": 40,
    "start_time": "2022-01-30T17:30:44.922Z"
   },
   {
    "duration": 14,
    "start_time": "2022-01-30T17:30:44.964Z"
   },
   {
    "duration": 31,
    "start_time": "2022-01-30T17:30:44.980Z"
   },
   {
    "duration": 28,
    "start_time": "2022-01-30T17:30:45.013Z"
   },
   {
    "duration": 42,
    "start_time": "2022-01-30T17:30:45.043Z"
   },
   {
    "duration": 20,
    "start_time": "2022-01-30T17:30:45.087Z"
   },
   {
    "duration": 12,
    "start_time": "2022-01-30T17:30:45.110Z"
   },
   {
    "duration": 10,
    "start_time": "2022-01-30T17:30:45.124Z"
   },
   {
    "duration": 16,
    "start_time": "2022-01-30T17:30:45.136Z"
   },
   {
    "duration": 19,
    "start_time": "2022-01-30T17:30:45.155Z"
   },
   {
    "duration": 18,
    "start_time": "2022-01-30T17:30:45.176Z"
   },
   {
    "duration": 26,
    "start_time": "2022-01-30T17:30:45.196Z"
   },
   {
    "duration": 19,
    "start_time": "2022-01-30T17:30:45.224Z"
   },
   {
    "duration": 18,
    "start_time": "2022-01-30T17:30:45.246Z"
   },
   {
    "duration": 19,
    "start_time": "2022-01-30T17:30:45.267Z"
   },
   {
    "duration": 15,
    "start_time": "2022-01-30T17:30:45.289Z"
   },
   {
    "duration": 16,
    "start_time": "2022-01-30T17:30:45.306Z"
   },
   {
    "duration": 16,
    "start_time": "2022-01-30T17:30:45.327Z"
   },
   {
    "duration": 17,
    "start_time": "2022-01-30T17:30:45.346Z"
   },
   {
    "duration": 10,
    "start_time": "2022-01-30T17:30:45.366Z"
   },
   {
    "duration": 28,
    "start_time": "2022-01-30T17:30:45.379Z"
   },
   {
    "duration": 22,
    "start_time": "2022-01-30T17:30:45.409Z"
   },
   {
    "duration": 10,
    "start_time": "2022-01-30T17:30:45.433Z"
   },
   {
    "duration": 14,
    "start_time": "2022-01-30T17:30:45.445Z"
   },
   {
    "duration": 6,
    "start_time": "2022-01-30T17:30:45.461Z"
   },
   {
    "duration": 7,
    "start_time": "2022-01-30T17:30:45.469Z"
   },
   {
    "duration": 8,
    "start_time": "2022-01-30T17:30:45.478Z"
   },
   {
    "duration": 7,
    "start_time": "2022-01-30T17:30:45.487Z"
   },
   {
    "duration": 6,
    "start_time": "2022-01-30T17:30:45.495Z"
   },
   {
    "duration": 583,
    "start_time": "2022-01-30T17:31:50.061Z"
   },
   {
    "duration": 159,
    "start_time": "2022-01-30T17:31:50.646Z"
   },
   {
    "duration": 22,
    "start_time": "2022-01-30T17:31:50.807Z"
   },
   {
    "duration": 9,
    "start_time": "2022-01-30T17:31:50.831Z"
   },
   {
    "duration": 6,
    "start_time": "2022-01-30T17:31:50.843Z"
   },
   {
    "duration": 74,
    "start_time": "2022-01-30T17:31:50.851Z"
   },
   {
    "duration": 6,
    "start_time": "2022-01-30T17:31:50.927Z"
   },
   {
    "duration": 38,
    "start_time": "2022-01-30T17:31:50.935Z"
   },
   {
    "duration": 34,
    "start_time": "2022-01-30T17:31:50.977Z"
   },
   {
    "duration": 31,
    "start_time": "2022-01-30T17:31:51.013Z"
   },
   {
    "duration": 6,
    "start_time": "2022-01-30T17:31:51.045Z"
   },
   {
    "duration": 5,
    "start_time": "2022-01-30T17:31:51.053Z"
   },
   {
    "duration": 5,
    "start_time": "2022-01-30T17:31:51.060Z"
   },
   {
    "duration": 7,
    "start_time": "2022-01-30T17:31:51.067Z"
   },
   {
    "duration": 5,
    "start_time": "2022-01-30T17:31:51.076Z"
   },
   {
    "duration": 3,
    "start_time": "2022-01-30T17:31:51.099Z"
   },
   {
    "duration": 6,
    "start_time": "2022-01-30T17:31:51.103Z"
   },
   {
    "duration": 7,
    "start_time": "2022-01-30T17:31:51.110Z"
   },
   {
    "duration": 10,
    "start_time": "2022-01-30T17:31:51.119Z"
   },
   {
    "duration": 5,
    "start_time": "2022-01-30T17:31:51.131Z"
   },
   {
    "duration": 9,
    "start_time": "2022-01-30T17:31:51.138Z"
   },
   {
    "duration": 17,
    "start_time": "2022-01-30T17:31:51.149Z"
   },
   {
    "duration": 6,
    "start_time": "2022-01-30T17:31:51.168Z"
   },
   {
    "duration": 8,
    "start_time": "2022-01-30T17:31:51.176Z"
   },
   {
    "duration": 8,
    "start_time": "2022-01-30T17:31:51.185Z"
   },
   {
    "duration": 9,
    "start_time": "2022-01-30T17:31:51.195Z"
   },
   {
    "duration": 3,
    "start_time": "2022-01-30T17:31:51.208Z"
   },
   {
    "duration": 4,
    "start_time": "2022-01-30T17:31:51.214Z"
   },
   {
    "duration": 6,
    "start_time": "2022-01-30T17:31:51.220Z"
   },
   {
    "duration": 5,
    "start_time": "2022-01-30T17:31:51.228Z"
   },
   {
    "duration": 6,
    "start_time": "2022-01-30T17:31:51.236Z"
   },
   {
    "duration": 9,
    "start_time": "2022-01-30T17:31:51.244Z"
   },
   {
    "duration": 9,
    "start_time": "2022-01-30T17:31:51.255Z"
   },
   {
    "duration": 5,
    "start_time": "2022-01-30T17:31:51.266Z"
   },
   {
    "duration": 6,
    "start_time": "2022-01-30T17:31:51.273Z"
   },
   {
    "duration": 4,
    "start_time": "2022-01-30T17:31:51.281Z"
   },
   {
    "duration": 2,
    "start_time": "2022-01-30T17:31:51.299Z"
   },
   {
    "duration": 5,
    "start_time": "2022-01-30T17:31:51.303Z"
   },
   {
    "duration": 5,
    "start_time": "2022-01-30T17:31:59.549Z"
   },
   {
    "duration": 28,
    "start_time": "2022-01-30T17:32:04.830Z"
   },
   {
    "duration": 4,
    "start_time": "2022-01-30T17:32:28.698Z"
   },
   {
    "duration": 37,
    "start_time": "2022-01-30T17:32:43.818Z"
   },
   {
    "duration": 4,
    "start_time": "2022-01-30T17:32:48.579Z"
   },
   {
    "duration": 597,
    "start_time": "2022-01-30T17:33:19.922Z"
   },
   {
    "duration": 147,
    "start_time": "2022-01-30T17:33:20.521Z"
   },
   {
    "duration": 18,
    "start_time": "2022-01-30T17:33:20.670Z"
   },
   {
    "duration": 9,
    "start_time": "2022-01-30T17:33:20.699Z"
   },
   {
    "duration": 7,
    "start_time": "2022-01-30T17:33:20.710Z"
   },
   {
    "duration": 33,
    "start_time": "2022-01-30T17:33:20.718Z"
   },
   {
    "duration": 4,
    "start_time": "2022-01-30T17:33:20.753Z"
   },
   {
    "duration": 51,
    "start_time": "2022-01-30T17:33:20.760Z"
   },
   {
    "duration": 20,
    "start_time": "2022-01-30T17:33:20.813Z"
   },
   {
    "duration": 37,
    "start_time": "2022-01-30T17:33:20.835Z"
   },
   {
    "duration": 5,
    "start_time": "2022-01-30T17:33:20.874Z"
   },
   {
    "duration": 3,
    "start_time": "2022-01-30T17:33:20.899Z"
   },
   {
    "duration": 5,
    "start_time": "2022-01-30T17:33:20.904Z"
   },
   {
    "duration": 8,
    "start_time": "2022-01-30T17:33:20.911Z"
   },
   {
    "duration": 6,
    "start_time": "2022-01-30T17:33:20.921Z"
   },
   {
    "duration": 5,
    "start_time": "2022-01-30T17:33:20.928Z"
   },
   {
    "duration": 7,
    "start_time": "2022-01-30T17:33:20.935Z"
   },
   {
    "duration": 6,
    "start_time": "2022-01-30T17:33:20.943Z"
   },
   {
    "duration": 5,
    "start_time": "2022-01-30T17:33:20.951Z"
   },
   {
    "duration": 4,
    "start_time": "2022-01-30T17:33:20.958Z"
   },
   {
    "duration": 7,
    "start_time": "2022-01-30T17:33:20.964Z"
   },
   {
    "duration": 8,
    "start_time": "2022-01-30T17:33:20.973Z"
   },
   {
    "duration": 2,
    "start_time": "2022-01-30T17:33:21.001Z"
   },
   {
    "duration": 10,
    "start_time": "2022-01-30T17:33:21.005Z"
   },
   {
    "duration": 8,
    "start_time": "2022-01-30T17:33:21.016Z"
   },
   {
    "duration": 7,
    "start_time": "2022-01-30T17:33:21.026Z"
   },
   {
    "duration": 5,
    "start_time": "2022-01-30T17:33:21.035Z"
   },
   {
    "duration": 5,
    "start_time": "2022-01-30T17:33:21.042Z"
   },
   {
    "duration": 6,
    "start_time": "2022-01-30T17:33:21.048Z"
   },
   {
    "duration": 6,
    "start_time": "2022-01-30T17:33:21.056Z"
   },
   {
    "duration": 10,
    "start_time": "2022-01-30T17:33:21.064Z"
   },
   {
    "duration": 5,
    "start_time": "2022-01-30T17:33:21.076Z"
   },
   {
    "duration": 16,
    "start_time": "2022-01-30T17:33:21.083Z"
   },
   {
    "duration": 5,
    "start_time": "2022-01-30T17:33:21.101Z"
   },
   {
    "duration": 5,
    "start_time": "2022-01-30T17:33:21.107Z"
   },
   {
    "duration": 7,
    "start_time": "2022-01-30T17:33:21.113Z"
   },
   {
    "duration": 5,
    "start_time": "2022-01-30T17:33:21.121Z"
   },
   {
    "duration": 4,
    "start_time": "2022-01-30T17:33:21.128Z"
   },
   {
    "duration": 307,
    "start_time": "2022-01-30T19:02:52.139Z"
   },
   {
    "duration": 532,
    "start_time": "2022-01-30T19:03:03.852Z"
   },
   {
    "duration": 121,
    "start_time": "2022-01-30T19:03:09.215Z"
   },
   {
    "duration": 14,
    "start_time": "2022-01-30T19:03:11.366Z"
   },
   {
    "duration": 8,
    "start_time": "2022-01-30T19:03:16.068Z"
   },
   {
    "duration": 4,
    "start_time": "2022-01-30T19:03:26.193Z"
   },
   {
    "duration": 26,
    "start_time": "2022-01-30T19:03:31.884Z"
   },
   {
    "duration": 23,
    "start_time": "2022-01-30T19:05:00.041Z"
   },
   {
    "duration": 3,
    "start_time": "2022-01-30T19:05:07.278Z"
   },
   {
    "duration": 13,
    "start_time": "2022-01-30T19:05:24.377Z"
   },
   {
    "duration": 15,
    "start_time": "2022-01-30T19:05:28.448Z"
   },
   {
    "duration": 17,
    "start_time": "2022-01-30T19:05:32.931Z"
   },
   {
    "duration": 4,
    "start_time": "2022-01-30T19:05:38.483Z"
   },
   {
    "duration": 21,
    "start_time": "2022-01-30T19:05:51.354Z"
   },
   {
    "duration": -596,
    "start_time": "2022-01-30T19:06:06.846Z"
   },
   {
    "duration": 20,
    "start_time": "2022-01-30T19:06:10.416Z"
   },
   {
    "duration": 13,
    "start_time": "2022-01-30T19:06:22.911Z"
   },
   {
    "duration": 12,
    "start_time": "2022-01-30T19:08:46.330Z"
   },
   {
    "duration": 21,
    "start_time": "2022-01-30T19:08:52.842Z"
   },
   {
    "duration": 83,
    "start_time": "2022-01-30T19:14:57.582Z"
   },
   {
    "duration": 96,
    "start_time": "2022-01-30T19:16:25.930Z"
   },
   {
    "duration": 267,
    "start_time": "2022-01-30T19:16:51.668Z"
   },
   {
    "duration": 51,
    "start_time": "2022-01-30T19:17:17.896Z"
   },
   {
    "duration": 45,
    "start_time": "2022-01-30T19:17:36.668Z"
   },
   {
    "duration": 316,
    "start_time": "2022-01-30T19:23:08.961Z"
   },
   {
    "duration": 304,
    "start_time": "2022-01-30T19:24:09.069Z"
   },
   {
    "duration": 268,
    "start_time": "2022-01-30T19:24:52.044Z"
   },
   {
    "duration": 7,
    "start_time": "2022-01-30T19:26:05.124Z"
   },
   {
    "duration": 294,
    "start_time": "2022-01-30T19:26:33.264Z"
   },
   {
    "duration": 289,
    "start_time": "2022-01-30T19:27:30.764Z"
   },
   {
    "duration": 298,
    "start_time": "2022-01-30T19:30:40.812Z"
   },
   {
    "duration": 284,
    "start_time": "2022-01-30T19:30:56.151Z"
   },
   {
    "duration": 46,
    "start_time": "2022-01-30T19:31:20.706Z"
   },
   {
    "duration": 48,
    "start_time": "2022-01-30T19:31:44.174Z"
   },
   {
    "duration": 44,
    "start_time": "2022-01-30T19:32:03.698Z"
   },
   {
    "duration": 43,
    "start_time": "2022-01-30T19:32:10.288Z"
   },
   {
    "duration": 104,
    "start_time": "2022-01-30T19:59:11.151Z"
   },
   {
    "duration": 98,
    "start_time": "2022-01-30T19:59:53.004Z"
   },
   {
    "duration": 137,
    "start_time": "2022-01-30T20:00:11.584Z"
   },
   {
    "duration": 94,
    "start_time": "2022-01-30T20:08:08.042Z"
   },
   {
    "duration": 105,
    "start_time": "2022-01-30T20:08:22.102Z"
   },
   {
    "duration": 3,
    "start_time": "2022-01-30T20:20:04.619Z"
   },
   {
    "duration": 402,
    "start_time": "2022-01-30T20:22:39.943Z"
   },
   {
    "duration": 8064,
    "start_time": "2022-01-30T20:22:57.025Z"
   },
   {
    "duration": 18,
    "start_time": "2022-01-30T20:23:40.967Z"
   },
   {
    "duration": 50,
    "start_time": "2022-01-30T20:25:12.344Z"
   },
   {
    "duration": 17,
    "start_time": "2022-01-30T20:26:10.990Z"
   },
   {
    "duration": 43,
    "start_time": "2022-01-30T20:26:52.629Z"
   },
   {
    "duration": 15,
    "start_time": "2022-01-30T20:27:21.428Z"
   },
   {
    "duration": 44,
    "start_time": "2022-01-30T20:27:26.816Z"
   },
   {
    "duration": 373,
    "start_time": "2022-01-31T16:27:43.453Z"
   },
   {
    "duration": 296,
    "start_time": "2022-01-31T16:27:50.415Z"
   },
   {
    "duration": 760,
    "start_time": "2022-01-31T16:28:05.011Z"
   },
   {
    "duration": 204,
    "start_time": "2022-01-31T16:28:05.774Z"
   },
   {
    "duration": 27,
    "start_time": "2022-01-31T16:28:05.985Z"
   },
   {
    "duration": 15,
    "start_time": "2022-01-31T16:28:06.015Z"
   },
   {
    "duration": 38,
    "start_time": "2022-01-31T16:28:06.033Z"
   },
   {
    "duration": 45,
    "start_time": "2022-01-31T16:28:06.074Z"
   },
   {
    "duration": 10,
    "start_time": "2022-01-31T16:28:06.122Z"
   },
   {
    "duration": 33,
    "start_time": "2022-01-31T16:28:06.171Z"
   },
   {
    "duration": 7974,
    "start_time": "2022-01-31T16:28:06.207Z"
   },
   {
    "duration": -72,
    "start_time": "2022-01-31T16:28:14.260Z"
   },
   {
    "duration": -80,
    "start_time": "2022-01-31T16:28:14.270Z"
   },
   {
    "duration": -90,
    "start_time": "2022-01-31T16:28:14.282Z"
   },
   {
    "duration": -91,
    "start_time": "2022-01-31T16:28:14.285Z"
   },
   {
    "duration": -94,
    "start_time": "2022-01-31T16:28:14.290Z"
   },
   {
    "duration": -98,
    "start_time": "2022-01-31T16:28:14.297Z"
   },
   {
    "duration": -100,
    "start_time": "2022-01-31T16:28:14.301Z"
   },
   {
    "duration": -104,
    "start_time": "2022-01-31T16:28:14.307Z"
   },
   {
    "duration": -104,
    "start_time": "2022-01-31T16:28:14.311Z"
   },
   {
    "duration": -108,
    "start_time": "2022-01-31T16:28:14.318Z"
   },
   {
    "duration": -114,
    "start_time": "2022-01-31T16:28:14.326Z"
   },
   {
    "duration": -142,
    "start_time": "2022-01-31T16:28:14.356Z"
   },
   {
    "duration": -153,
    "start_time": "2022-01-31T16:28:14.369Z"
   },
   {
    "duration": -155,
    "start_time": "2022-01-31T16:28:14.373Z"
   },
   {
    "duration": -157,
    "start_time": "2022-01-31T16:28:14.377Z"
   },
   {
    "duration": -159,
    "start_time": "2022-01-31T16:28:14.382Z"
   },
   {
    "duration": -177,
    "start_time": "2022-01-31T16:28:14.402Z"
   },
   {
    "duration": -139,
    "start_time": "2022-01-31T16:28:14.407Z"
   },
   {
    "duration": -140,
    "start_time": "2022-01-31T16:28:14.411Z"
   },
   {
    "duration": -143,
    "start_time": "2022-01-31T16:28:14.416Z"
   },
   {
    "duration": -146,
    "start_time": "2022-01-31T16:28:14.420Z"
   },
   {
    "duration": -149,
    "start_time": "2022-01-31T16:28:14.425Z"
   },
   {
    "duration": -230,
    "start_time": "2022-01-31T16:28:14.507Z"
   },
   {
    "duration": -233,
    "start_time": "2022-01-31T16:28:14.512Z"
   },
   {
    "duration": -238,
    "start_time": "2022-01-31T16:28:14.518Z"
   },
   {
    "duration": -241,
    "start_time": "2022-01-31T16:28:14.523Z"
   },
   {
    "duration": -244,
    "start_time": "2022-01-31T16:28:14.527Z"
   },
   {
    "duration": -247,
    "start_time": "2022-01-31T16:28:14.531Z"
   },
   {
    "duration": -250,
    "start_time": "2022-01-31T16:28:14.536Z"
   },
   {
    "duration": 343,
    "start_time": "2022-01-31T16:28:17.459Z"
   },
   {
    "duration": 319,
    "start_time": "2022-01-31T16:29:09.874Z"
   },
   {
    "duration": 325,
    "start_time": "2022-01-31T16:32:20.002Z"
   },
   {
    "duration": 367,
    "start_time": "2022-01-31T16:33:27.469Z"
   },
   {
    "duration": 264,
    "start_time": "2022-01-31T19:12:51.158Z"
   },
   {
    "duration": 670,
    "start_time": "2022-01-31T19:13:19.080Z"
   },
   {
    "duration": 179,
    "start_time": "2022-01-31T19:13:19.752Z"
   },
   {
    "duration": 25,
    "start_time": "2022-01-31T19:13:19.934Z"
   },
   {
    "duration": 18,
    "start_time": "2022-01-31T19:13:19.961Z"
   },
   {
    "duration": 21,
    "start_time": "2022-01-31T19:13:19.981Z"
   },
   {
    "duration": 41,
    "start_time": "2022-01-31T19:13:20.004Z"
   },
   {
    "duration": 10,
    "start_time": "2022-01-31T19:13:20.047Z"
   },
   {
    "duration": 54,
    "start_time": "2022-01-31T19:13:20.061Z"
   },
   {
    "duration": 5343,
    "start_time": "2022-01-31T19:13:20.118Z"
   },
   {
    "duration": -798,
    "start_time": "2022-01-31T19:13:26.262Z"
   },
   {
    "duration": -803,
    "start_time": "2022-01-31T19:13:26.268Z"
   },
   {
    "duration": -808,
    "start_time": "2022-01-31T19:13:26.274Z"
   },
   {
    "duration": -812,
    "start_time": "2022-01-31T19:13:26.279Z"
   },
   {
    "duration": -815,
    "start_time": "2022-01-31T19:13:26.283Z"
   },
   {
    "duration": -821,
    "start_time": "2022-01-31T19:13:26.290Z"
   },
   {
    "duration": -826,
    "start_time": "2022-01-31T19:13:26.296Z"
   },
   {
    "duration": -830,
    "start_time": "2022-01-31T19:13:26.302Z"
   },
   {
    "duration": -836,
    "start_time": "2022-01-31T19:13:26.309Z"
   },
   {
    "duration": -848,
    "start_time": "2022-01-31T19:13:26.322Z"
   },
   {
    "duration": -852,
    "start_time": "2022-01-31T19:13:26.327Z"
   },
   {
    "duration": -856,
    "start_time": "2022-01-31T19:13:26.332Z"
   },
   {
    "duration": -857,
    "start_time": "2022-01-31T19:13:26.335Z"
   },
   {
    "duration": -861,
    "start_time": "2022-01-31T19:13:26.340Z"
   },
   {
    "duration": -862,
    "start_time": "2022-01-31T19:13:26.343Z"
   },
   {
    "duration": -866,
    "start_time": "2022-01-31T19:13:26.348Z"
   },
   {
    "duration": -869,
    "start_time": "2022-01-31T19:13:26.352Z"
   },
   {
    "duration": -876,
    "start_time": "2022-01-31T19:13:26.361Z"
   },
   {
    "duration": -879,
    "start_time": "2022-01-31T19:13:26.366Z"
   },
   {
    "duration": -882,
    "start_time": "2022-01-31T19:13:26.370Z"
   },
   {
    "duration": -887,
    "start_time": "2022-01-31T19:13:26.377Z"
   },
   {
    "duration": -890,
    "start_time": "2022-01-31T19:13:26.382Z"
   },
   {
    "duration": -892,
    "start_time": "2022-01-31T19:13:26.385Z"
   },
   {
    "duration": -895,
    "start_time": "2022-01-31T19:13:26.390Z"
   },
   {
    "duration": -896,
    "start_time": "2022-01-31T19:13:26.393Z"
   },
   {
    "duration": -901,
    "start_time": "2022-01-31T19:13:26.399Z"
   },
   {
    "duration": -902,
    "start_time": "2022-01-31T19:13:26.402Z"
   },
   {
    "duration": -905,
    "start_time": "2022-01-31T19:13:26.407Z"
   },
   {
    "duration": -908,
    "start_time": "2022-01-31T19:13:26.411Z"
   },
   {
    "duration": 231,
    "start_time": "2022-01-31T19:13:25.855Z"
   },
   {
    "duration": 219,
    "start_time": "2022-01-31T19:13:40.748Z"
   },
   {
    "duration": 215,
    "start_time": "2022-01-31T19:13:47.834Z"
   },
   {
    "duration": 224,
    "start_time": "2022-01-31T19:15:16.742Z"
   },
   {
    "duration": 254,
    "start_time": "2022-01-31T19:15:20.129Z"
   },
   {
    "duration": 214,
    "start_time": "2022-01-31T19:15:28.486Z"
   },
   {
    "duration": 3,
    "start_time": "2022-01-31T19:15:45.055Z"
   },
   {
    "duration": 1203,
    "start_time": "2022-01-31T19:15:45.061Z"
   },
   {
    "duration": 11,
    "start_time": "2022-01-31T19:15:46.266Z"
   },
   {
    "duration": 20,
    "start_time": "2022-01-31T19:15:46.279Z"
   },
   {
    "duration": 3,
    "start_time": "2022-01-31T19:15:46.301Z"
   },
   {
    "duration": 36,
    "start_time": "2022-01-31T19:15:46.306Z"
   },
   {
    "duration": 4,
    "start_time": "2022-01-31T19:15:46.344Z"
   },
   {
    "duration": 49,
    "start_time": "2022-01-31T19:15:46.350Z"
   },
   {
    "duration": 9854,
    "start_time": "2022-01-31T19:15:46.402Z"
   },
   {
    "duration": -768,
    "start_time": "2022-01-31T19:15:57.026Z"
   },
   {
    "duration": -769,
    "start_time": "2022-01-31T19:15:57.029Z"
   },
   {
    "duration": -772,
    "start_time": "2022-01-31T19:15:57.033Z"
   },
   {
    "duration": -775,
    "start_time": "2022-01-31T19:15:57.037Z"
   },
   {
    "duration": -778,
    "start_time": "2022-01-31T19:15:57.041Z"
   },
   {
    "duration": -781,
    "start_time": "2022-01-31T19:15:57.045Z"
   },
   {
    "duration": -786,
    "start_time": "2022-01-31T19:15:57.051Z"
   },
   {
    "duration": -789,
    "start_time": "2022-01-31T19:15:57.055Z"
   },
   {
    "duration": -806,
    "start_time": "2022-01-31T19:15:57.073Z"
   },
   {
    "duration": -810,
    "start_time": "2022-01-31T19:15:57.078Z"
   },
   {
    "duration": -815,
    "start_time": "2022-01-31T19:15:57.084Z"
   },
   {
    "duration": -817,
    "start_time": "2022-01-31T19:15:57.087Z"
   },
   {
    "duration": -821,
    "start_time": "2022-01-31T19:15:57.092Z"
   },
   {
    "duration": -825,
    "start_time": "2022-01-31T19:15:57.097Z"
   },
   {
    "duration": -829,
    "start_time": "2022-01-31T19:15:57.102Z"
   },
   {
    "duration": -831,
    "start_time": "2022-01-31T19:15:57.105Z"
   },
   {
    "duration": -835,
    "start_time": "2022-01-31T19:15:57.110Z"
   },
   {
    "duration": -839,
    "start_time": "2022-01-31T19:15:57.114Z"
   },
   {
    "duration": -856,
    "start_time": "2022-01-31T19:15:57.132Z"
   },
   {
    "duration": -860,
    "start_time": "2022-01-31T19:15:57.137Z"
   },
   {
    "duration": -864,
    "start_time": "2022-01-31T19:15:57.142Z"
   },
   {
    "duration": -868,
    "start_time": "2022-01-31T19:15:57.147Z"
   },
   {
    "duration": -873,
    "start_time": "2022-01-31T19:15:57.153Z"
   },
   {
    "duration": -878,
    "start_time": "2022-01-31T19:15:57.159Z"
   },
   {
    "duration": -882,
    "start_time": "2022-01-31T19:15:57.165Z"
   },
   {
    "duration": -889,
    "start_time": "2022-01-31T19:15:57.173Z"
   },
   {
    "duration": -895,
    "start_time": "2022-01-31T19:15:57.180Z"
   },
   {
    "duration": -902,
    "start_time": "2022-01-31T19:15:57.188Z"
   },
   {
    "duration": -908,
    "start_time": "2022-01-31T19:15:57.195Z"
   },
   {
    "duration": 25,
    "start_time": "2022-01-31T19:15:56.311Z"
   },
   {
    "duration": 5494,
    "start_time": "2022-01-31T19:16:03.912Z"
   },
   {
    "duration": 6906,
    "start_time": "2022-01-31T19:16:17.891Z"
   },
   {
    "duration": 5323,
    "start_time": "2022-01-31T19:16:33.043Z"
   },
   {
    "duration": 25,
    "start_time": "2022-01-31T19:16:43.682Z"
   },
   {
    "duration": 5687,
    "start_time": "2022-01-31T19:17:00.067Z"
   },
   {
    "duration": 4,
    "start_time": "2022-01-31T19:17:13.527Z"
   },
   {
    "duration": 205,
    "start_time": "2022-01-31T19:17:25.533Z"
   },
   {
    "duration": 213,
    "start_time": "2022-01-31T19:17:30.183Z"
   },
   {
    "duration": 221,
    "start_time": "2022-01-31T19:17:31.406Z"
   },
   {
    "duration": 9,
    "start_time": "2022-01-31T19:19:51.509Z"
   },
   {
    "duration": 10,
    "start_time": "2022-01-31T19:20:05.190Z"
   },
   {
    "duration": 8,
    "start_time": "2022-01-31T19:20:35.707Z"
   },
   {
    "duration": 8,
    "start_time": "2022-01-31T19:20:47.138Z"
   },
   {
    "duration": 8,
    "start_time": "2022-01-31T19:20:55.351Z"
   },
   {
    "duration": 615,
    "start_time": "2022-01-31T19:21:18.194Z"
   },
   {
    "duration": 144,
    "start_time": "2022-01-31T19:21:18.810Z"
   },
   {
    "duration": 20,
    "start_time": "2022-01-31T19:21:18.956Z"
   },
   {
    "duration": 22,
    "start_time": "2022-01-31T19:21:18.979Z"
   },
   {
    "duration": 7,
    "start_time": "2022-01-31T19:21:19.003Z"
   },
   {
    "duration": 15,
    "start_time": "2022-01-31T19:21:19.012Z"
   },
   {
    "duration": 313,
    "start_time": "2022-01-31T19:21:19.029Z"
   },
   {
    "duration": -732,
    "start_time": "2022-01-31T19:21:20.078Z"
   },
   {
    "duration": -738,
    "start_time": "2022-01-31T19:21:20.085Z"
   },
   {
    "duration": -744,
    "start_time": "2022-01-31T19:21:20.092Z"
   },
   {
    "duration": -750,
    "start_time": "2022-01-31T19:21:20.100Z"
   },
   {
    "duration": -754,
    "start_time": "2022-01-31T19:21:20.106Z"
   },
   {
    "duration": -760,
    "start_time": "2022-01-31T19:21:20.113Z"
   },
   {
    "duration": -765,
    "start_time": "2022-01-31T19:21:20.120Z"
   },
   {
    "duration": -777,
    "start_time": "2022-01-31T19:21:20.133Z"
   },
   {
    "duration": -781,
    "start_time": "2022-01-31T19:21:20.139Z"
   },
   {
    "duration": -786,
    "start_time": "2022-01-31T19:21:20.146Z"
   },
   {
    "duration": -792,
    "start_time": "2022-01-31T19:21:20.153Z"
   },
   {
    "duration": -799,
    "start_time": "2022-01-31T19:21:20.162Z"
   },
   {
    "duration": -806,
    "start_time": "2022-01-31T19:21:20.171Z"
   },
   {
    "duration": -811,
    "start_time": "2022-01-31T19:21:20.177Z"
   },
   {
    "duration": -815,
    "start_time": "2022-01-31T19:21:20.182Z"
   },
   {
    "duration": -819,
    "start_time": "2022-01-31T19:21:20.188Z"
   },
   {
    "duration": -823,
    "start_time": "2022-01-31T19:21:20.193Z"
   },
   {
    "duration": -828,
    "start_time": "2022-01-31T19:21:20.199Z"
   },
   {
    "duration": -829,
    "start_time": "2022-01-31T19:21:20.202Z"
   },
   {
    "duration": -831,
    "start_time": "2022-01-31T19:21:20.205Z"
   },
   {
    "duration": -833,
    "start_time": "2022-01-31T19:21:20.209Z"
   },
   {
    "duration": -836,
    "start_time": "2022-01-31T19:21:20.213Z"
   },
   {
    "duration": -840,
    "start_time": "2022-01-31T19:21:20.218Z"
   },
   {
    "duration": -841,
    "start_time": "2022-01-31T19:21:20.221Z"
   },
   {
    "duration": -845,
    "start_time": "2022-01-31T19:21:20.226Z"
   },
   {
    "duration": -840,
    "start_time": "2022-01-31T19:21:20.237Z"
   },
   {
    "duration": -844,
    "start_time": "2022-01-31T19:21:20.243Z"
   },
   {
    "duration": -848,
    "start_time": "2022-01-31T19:21:20.249Z"
   },
   {
    "duration": -851,
    "start_time": "2022-01-31T19:21:20.253Z"
   },
   {
    "duration": -853,
    "start_time": "2022-01-31T19:21:20.257Z"
   },
   {
    "duration": -855,
    "start_time": "2022-01-31T19:21:20.260Z"
   },
   {
    "duration": 4,
    "start_time": "2022-01-31T19:21:35.425Z"
   },
   {
    "duration": 4,
    "start_time": "2022-01-31T19:21:38.140Z"
   },
   {
    "duration": 14,
    "start_time": "2022-01-31T19:31:10.695Z"
   },
   {
    "duration": 220,
    "start_time": "2022-01-31T19:31:15.546Z"
   },
   {
    "duration": 217,
    "start_time": "2022-01-31T19:31:27.221Z"
   },
   {
    "duration": 212,
    "start_time": "2022-01-31T19:32:14.151Z"
   },
   {
    "duration": 233,
    "start_time": "2022-01-31T19:32:52.432Z"
   },
   {
    "duration": 201,
    "start_time": "2022-01-31T19:33:17.925Z"
   },
   {
    "duration": 269,
    "start_time": "2022-01-31T19:33:25.081Z"
   },
   {
    "duration": 2,
    "start_time": "2022-01-31T19:33:30.203Z"
   },
   {
    "duration": 161,
    "start_time": "2022-01-31T19:33:34.052Z"
   },
   {
    "duration": 10,
    "start_time": "2022-01-31T19:33:39.524Z"
   },
   {
    "duration": 9,
    "start_time": "2022-01-31T19:33:45.051Z"
   },
   {
    "duration": 4,
    "start_time": "2022-01-31T19:33:51.825Z"
   },
   {
    "duration": 23,
    "start_time": "2022-01-31T19:34:02.233Z"
   },
   {
    "duration": 19,
    "start_time": "2022-01-31T19:34:11.517Z"
   },
   {
    "duration": 4,
    "start_time": "2022-01-31T19:34:17.797Z"
   },
   {
    "duration": 27,
    "start_time": "2022-01-31T19:34:28.268Z"
   },
   {
    "duration": 208,
    "start_time": "2022-01-31T19:34:33.377Z"
   },
   {
    "duration": 210,
    "start_time": "2022-01-31T19:34:42.617Z"
   },
   {
    "duration": 213,
    "start_time": "2022-01-31T19:35:56.879Z"
   },
   {
    "duration": 370,
    "start_time": "2022-01-31T19:36:32.248Z"
   },
   {
    "duration": 598,
    "start_time": "2022-01-31T19:36:39.265Z"
   },
   {
    "duration": 148,
    "start_time": "2022-01-31T19:36:39.865Z"
   },
   {
    "duration": 17,
    "start_time": "2022-01-31T19:36:40.015Z"
   },
   {
    "duration": 13,
    "start_time": "2022-01-31T19:36:40.035Z"
   },
   {
    "duration": 7,
    "start_time": "2022-01-31T19:36:40.050Z"
   },
   {
    "duration": 42,
    "start_time": "2022-01-31T19:36:40.058Z"
   },
   {
    "duration": 5,
    "start_time": "2022-01-31T19:36:40.102Z"
   },
   {
    "duration": 48,
    "start_time": "2022-01-31T19:36:40.111Z"
   },
   {
    "duration": 50,
    "start_time": "2022-01-31T19:36:40.162Z"
   },
   {
    "duration": 29,
    "start_time": "2022-01-31T19:36:40.214Z"
   },
   {
    "duration": 80,
    "start_time": "2022-01-31T19:36:40.246Z"
   },
   {
    "duration": 92,
    "start_time": "2022-01-31T19:36:40.328Z"
   },
   {
    "duration": 56,
    "start_time": "2022-01-31T19:36:40.422Z"
   },
   {
    "duration": 67,
    "start_time": "2022-01-31T19:36:40.480Z"
   },
   {
    "duration": 3,
    "start_time": "2022-01-31T19:36:40.550Z"
   },
   {
    "duration": 24,
    "start_time": "2022-01-31T19:36:40.555Z"
   },
   {
    "duration": 54,
    "start_time": "2022-01-31T19:36:40.599Z"
   },
   {
    "duration": 54,
    "start_time": "2022-01-31T19:36:40.655Z"
   },
   {
    "duration": 3,
    "start_time": "2022-01-31T19:36:40.711Z"
   },
   {
    "duration": 6,
    "start_time": "2022-01-31T19:36:40.717Z"
   },
   {
    "duration": 8,
    "start_time": "2022-01-31T19:36:40.724Z"
   },
   {
    "duration": 7,
    "start_time": "2022-01-31T19:36:40.733Z"
   },
   {
    "duration": 3,
    "start_time": "2022-01-31T19:36:40.744Z"
   },
   {
    "duration": 8,
    "start_time": "2022-01-31T19:36:40.749Z"
   },
   {
    "duration": 6,
    "start_time": "2022-01-31T19:36:40.759Z"
   },
   {
    "duration": 10,
    "start_time": "2022-01-31T19:36:40.767Z"
   },
   {
    "duration": 3,
    "start_time": "2022-01-31T19:36:40.799Z"
   },
   {
    "duration": 5,
    "start_time": "2022-01-31T19:36:40.804Z"
   },
   {
    "duration": 8,
    "start_time": "2022-01-31T19:36:40.811Z"
   },
   {
    "duration": 6,
    "start_time": "2022-01-31T19:36:40.821Z"
   },
   {
    "duration": 7,
    "start_time": "2022-01-31T19:36:40.829Z"
   },
   {
    "duration": 6,
    "start_time": "2022-01-31T19:36:40.838Z"
   },
   {
    "duration": 7,
    "start_time": "2022-01-31T19:36:40.846Z"
   },
   {
    "duration": 5,
    "start_time": "2022-01-31T19:36:40.854Z"
   },
   {
    "duration": 5,
    "start_time": "2022-01-31T19:36:40.861Z"
   },
   {
    "duration": 31,
    "start_time": "2022-01-31T19:36:40.868Z"
   },
   {
    "duration": 3,
    "start_time": "2022-01-31T19:36:40.900Z"
   },
   {
    "duration": 7,
    "start_time": "2022-01-31T19:36:40.905Z"
   },
   {
    "duration": 22,
    "start_time": "2022-01-31T19:36:51.472Z"
   },
   {
    "duration": 17,
    "start_time": "2022-01-31T19:36:54.809Z"
   },
   {
    "duration": 23,
    "start_time": "2022-01-31T19:37:05.705Z"
   },
   {
    "duration": 52,
    "start_time": "2022-01-31T19:37:10.202Z"
   },
   {
    "duration": 62,
    "start_time": "2022-01-31T19:37:17.579Z"
   },
   {
    "duration": 53,
    "start_time": "2022-01-31T19:37:21.475Z"
   },
   {
    "duration": 52,
    "start_time": "2022-01-31T19:37:26.994Z"
   },
   {
    "duration": 23,
    "start_time": "2022-01-31T19:37:33.805Z"
   },
   {
    "duration": 28,
    "start_time": "2022-01-31T19:37:35.767Z"
   },
   {
    "duration": 25,
    "start_time": "2022-01-31T19:37:57.418Z"
   },
   {
    "duration": 23,
    "start_time": "2022-01-31T19:38:05.497Z"
   },
   {
    "duration": 4,
    "start_time": "2022-01-31T19:38:34.292Z"
   },
   {
    "duration": 145,
    "start_time": "2022-01-31T19:38:37.529Z"
   },
   {
    "duration": 11,
    "start_time": "2022-01-31T19:38:41.198Z"
   },
   {
    "duration": 8,
    "start_time": "2022-01-31T19:38:45.289Z"
   },
   {
    "duration": 4,
    "start_time": "2022-01-31T19:38:51.950Z"
   },
   {
    "duration": 16,
    "start_time": "2022-01-31T19:38:55.674Z"
   },
   {
    "duration": 5,
    "start_time": "2022-01-31T19:38:58.945Z"
   },
   {
    "duration": 27,
    "start_time": "2022-01-31T19:39:04.503Z"
   },
   {
    "duration": 21,
    "start_time": "2022-01-31T19:39:08.403Z"
   },
   {
    "duration": 25,
    "start_time": "2022-01-31T19:39:11.665Z"
   },
   {
    "duration": 60,
    "start_time": "2022-01-31T19:39:18.470Z"
   },
   {
    "duration": 66,
    "start_time": "2022-01-31T19:39:23.720Z"
   },
   {
    "duration": 55,
    "start_time": "2022-01-31T19:39:33.651Z"
   },
   {
    "duration": 52,
    "start_time": "2022-01-31T19:39:43.189Z"
   },
   {
    "duration": 4,
    "start_time": "2022-01-31T19:39:52.785Z"
   },
   {
    "duration": 35,
    "start_time": "2022-01-31T19:39:56.787Z"
   },
   {
    "duration": 56,
    "start_time": "2022-01-31T19:40:02.016Z"
   },
   {
    "duration": 19,
    "start_time": "2022-01-31T19:46:49.889Z"
   },
   {
    "duration": 282,
    "start_time": "2022-01-31T19:47:32.858Z"
   },
   {
    "duration": 244,
    "start_time": "2022-01-31T19:48:14.101Z"
   },
   {
    "duration": 242,
    "start_time": "2022-01-31T19:48:27.113Z"
   },
   {
    "duration": 27,
    "start_time": "2022-01-31T19:49:20.310Z"
   },
   {
    "duration": 27,
    "start_time": "2022-01-31T19:50:57.396Z"
   },
   {
    "duration": 23,
    "start_time": "2022-01-31T19:52:20.903Z"
   },
   {
    "duration": 23,
    "start_time": "2022-01-31T19:53:41.807Z"
   },
   {
    "duration": 134,
    "start_time": "2022-01-31T19:54:48.068Z"
   },
   {
    "duration": 23,
    "start_time": "2022-01-31T19:55:25.735Z"
   },
   {
    "duration": 27,
    "start_time": "2022-01-31T19:55:47.157Z"
   },
   {
    "duration": 27,
    "start_time": "2022-01-31T19:55:52.245Z"
   },
   {
    "duration": 248,
    "start_time": "2022-01-31T20:13:18.343Z"
   },
   {
    "duration": 222,
    "start_time": "2022-01-31T20:15:31.150Z"
   },
   {
    "duration": 4,
    "start_time": "2022-01-31T20:15:37.681Z"
   },
   {
    "duration": 218,
    "start_time": "2022-01-31T20:15:45.230Z"
   },
   {
    "duration": 4,
    "start_time": "2022-01-31T20:15:52.470Z"
   },
   {
    "duration": 217,
    "start_time": "2022-01-31T20:15:57.885Z"
   },
   {
    "duration": 3,
    "start_time": "2022-01-31T20:16:44.787Z"
   },
   {
    "duration": 210,
    "start_time": "2022-01-31T20:16:48.686Z"
   },
   {
    "duration": 3,
    "start_time": "2022-01-31T20:24:07.436Z"
   },
   {
    "duration": 163,
    "start_time": "2022-01-31T20:24:10.483Z"
   },
   {
    "duration": 12,
    "start_time": "2022-01-31T20:24:12.670Z"
   },
   {
    "duration": 9,
    "start_time": "2022-01-31T20:24:14.957Z"
   },
   {
    "duration": 6,
    "start_time": "2022-01-31T20:24:19.129Z"
   },
   {
    "duration": 27,
    "start_time": "2022-01-31T20:24:22.651Z"
   },
   {
    "duration": 6,
    "start_time": "2022-01-31T20:24:25.178Z"
   },
   {
    "duration": 36,
    "start_time": "2022-01-31T20:24:30.261Z"
   },
   {
    "duration": 25,
    "start_time": "2022-01-31T20:24:34.142Z"
   },
   {
    "duration": 27,
    "start_time": "2022-01-31T20:24:36.244Z"
   },
   {
    "duration": 79,
    "start_time": "2022-01-31T20:24:38.849Z"
   },
   {
    "duration": 91,
    "start_time": "2022-01-31T20:24:40.617Z"
   },
   {
    "duration": 59,
    "start_time": "2022-01-31T20:24:41.999Z"
   },
   {
    "duration": 60,
    "start_time": "2022-01-31T20:24:45.014Z"
   },
   {
    "duration": 3,
    "start_time": "2022-01-31T20:24:48.445Z"
   },
   {
    "duration": 24,
    "start_time": "2022-01-31T20:24:50.043Z"
   },
   {
    "duration": 58,
    "start_time": "2022-01-31T20:24:52.580Z"
   },
   {
    "duration": 35,
    "start_time": "2022-01-31T20:24:56.960Z"
   },
   {
    "duration": 29,
    "start_time": "2022-01-31T20:24:59.511Z"
   },
   {
    "duration": 5,
    "start_time": "2022-01-31T20:25:03.151Z"
   },
   {
    "duration": 212,
    "start_time": "2022-01-31T20:25:19.929Z"
   },
   {
    "duration": 18,
    "start_time": "2022-01-31T20:26:04.719Z"
   },
   {
    "duration": 18,
    "start_time": "2022-01-31T20:26:22.182Z"
   },
   {
    "duration": 19,
    "start_time": "2022-01-31T20:26:36.904Z"
   },
   {
    "duration": 18,
    "start_time": "2022-01-31T20:26:50.573Z"
   },
   {
    "duration": 26,
    "start_time": "2022-01-31T20:27:35.595Z"
   },
   {
    "duration": 23,
    "start_time": "2022-01-31T20:27:51.494Z"
   },
   {
    "duration": 28,
    "start_time": "2022-01-31T20:28:08.248Z"
   },
   {
    "duration": 16,
    "start_time": "2022-01-31T20:28:21.129Z"
   },
   {
    "duration": 16,
    "start_time": "2022-01-31T20:28:30.959Z"
   },
   {
    "duration": 17,
    "start_time": "2022-01-31T20:28:36.176Z"
   },
   {
    "duration": 15,
    "start_time": "2022-01-31T20:28:43.768Z"
   },
   {
    "duration": 2,
    "start_time": "2022-01-31T20:28:51.376Z"
   },
   {
    "duration": 17,
    "start_time": "2022-01-31T20:29:00.772Z"
   },
   {
    "duration": 18,
    "start_time": "2022-01-31T20:29:15.015Z"
   },
   {
    "duration": 18,
    "start_time": "2022-01-31T20:29:26.015Z"
   },
   {
    "duration": 18,
    "start_time": "2022-01-31T20:29:40.654Z"
   },
   {
    "duration": 5,
    "start_time": "2022-01-31T20:38:22.551Z"
   },
   {
    "duration": 9,
    "start_time": "2022-01-31T20:38:39.565Z"
   },
   {
    "duration": 231,
    "start_time": "2022-01-31T20:42:31.399Z"
   },
   {
    "duration": 69,
    "start_time": "2022-01-31T20:42:56.184Z"
   },
   {
    "duration": 68,
    "start_time": "2022-01-31T20:43:12.605Z"
   },
   {
    "duration": 226,
    "start_time": "2022-01-31T20:43:23.746Z"
   },
   {
    "duration": 12,
    "start_time": "2022-01-31T20:43:35.236Z"
   },
   {
    "duration": 9,
    "start_time": "2022-01-31T20:44:35.399Z"
   },
   {
    "duration": 5,
    "start_time": "2022-01-31T21:03:05.792Z"
   },
   {
    "duration": 442,
    "start_time": "2022-01-31T21:04:54.235Z"
   },
   {
    "duration": 4,
    "start_time": "2022-01-31T21:05:49.086Z"
   },
   {
    "duration": 440,
    "start_time": "2022-01-31T21:05:52.086Z"
   },
   {
    "duration": 4,
    "start_time": "2022-01-31T21:07:52.561Z"
   },
   {
    "duration": 429,
    "start_time": "2022-01-31T21:07:55.205Z"
   },
   {
    "duration": 4,
    "start_time": "2022-01-31T21:10:02.067Z"
   },
   {
    "duration": 445,
    "start_time": "2022-01-31T21:10:09.226Z"
   },
   {
    "duration": 4,
    "start_time": "2022-01-31T21:11:03.322Z"
   },
   {
    "duration": 4,
    "start_time": "2022-01-31T21:13:13.996Z"
   },
   {
    "duration": 444,
    "start_time": "2022-01-31T21:13:18.237Z"
   },
   {
    "duration": 4,
    "start_time": "2022-01-31T21:13:38.473Z"
   },
   {
    "duration": 4,
    "start_time": "2022-01-31T21:13:51.137Z"
   },
   {
    "duration": 540,
    "start_time": "2022-01-31T21:13:53.685Z"
   },
   {
    "duration": 4,
    "start_time": "2022-01-31T21:17:15.723Z"
   },
   {
    "duration": 4,
    "start_time": "2022-01-31T21:17:19.064Z"
   },
   {
    "duration": 4,
    "start_time": "2022-01-31T21:17:23.437Z"
   },
   {
    "duration": 432,
    "start_time": "2022-01-31T21:17:27.913Z"
   },
   {
    "duration": 5,
    "start_time": "2022-01-31T21:18:10.960Z"
   },
   {
    "duration": 447,
    "start_time": "2022-01-31T21:18:15.667Z"
   },
   {
    "duration": 4,
    "start_time": "2022-01-31T21:18:28.713Z"
   },
   {
    "duration": 420,
    "start_time": "2022-01-31T21:18:32.804Z"
   },
   {
    "duration": 206,
    "start_time": "2022-01-31T21:19:57.371Z"
   },
   {
    "duration": 4,
    "start_time": "2022-01-31T21:20:35.345Z"
   },
   {
    "duration": 5,
    "start_time": "2022-01-31T21:23:26.273Z"
   },
   {
    "duration": 4,
    "start_time": "2022-01-31T21:23:47.676Z"
   },
   {
    "duration": 906,
    "start_time": "2022-01-31T21:23:49.631Z"
   },
   {
    "duration": 5,
    "start_time": "2022-01-31T21:26:12.702Z"
   },
   {
    "duration": 4,
    "start_time": "2022-01-31T21:26:27.295Z"
   },
   {
    "duration": 457,
    "start_time": "2022-01-31T21:26:32.872Z"
   },
   {
    "duration": 3,
    "start_time": "2022-01-31T21:26:40.593Z"
   },
   {
    "duration": 715,
    "start_time": "2022-02-01T05:34:37.071Z"
   },
   {
    "duration": 179,
    "start_time": "2022-02-01T05:34:38.648Z"
   },
   {
    "duration": 26,
    "start_time": "2022-02-01T05:34:40.128Z"
   },
   {
    "duration": 12,
    "start_time": "2022-02-01T05:34:42.489Z"
   },
   {
    "duration": 6,
    "start_time": "2022-02-01T05:34:45.448Z"
   },
   {
    "duration": 24,
    "start_time": "2022-02-01T05:34:48.432Z"
   },
   {
    "duration": 6,
    "start_time": "2022-02-01T05:34:49.728Z"
   },
   {
    "duration": 31,
    "start_time": "2022-02-01T05:34:54.041Z"
   },
   {
    "duration": 23,
    "start_time": "2022-02-01T05:34:58.169Z"
   },
   {
    "duration": 33,
    "start_time": "2022-02-01T05:35:02.689Z"
   },
   {
    "duration": 79,
    "start_time": "2022-02-01T05:35:04.585Z"
   },
   {
    "duration": 101,
    "start_time": "2022-02-01T05:35:05.681Z"
   },
   {
    "duration": 76,
    "start_time": "2022-02-01T05:35:06.593Z"
   },
   {
    "duration": 72,
    "start_time": "2022-02-01T05:35:08.713Z"
   },
   {
    "duration": 5,
    "start_time": "2022-02-01T05:35:11.344Z"
   },
   {
    "duration": 28,
    "start_time": "2022-02-01T05:35:13.577Z"
   },
   {
    "duration": 72,
    "start_time": "2022-02-01T05:35:19.330Z"
   },
   {
    "duration": 48,
    "start_time": "2022-02-01T05:35:23.489Z"
   },
   {
    "duration": 31,
    "start_time": "2022-02-01T05:35:26.290Z"
   },
   {
    "duration": 4,
    "start_time": "2022-02-01T05:35:27.930Z"
   },
   {
    "duration": 21,
    "start_time": "2022-02-01T05:35:32.122Z"
   },
   {
    "duration": 18,
    "start_time": "2022-02-01T05:35:32.938Z"
   },
   {
    "duration": 35,
    "start_time": "2022-02-01T05:35:33.718Z"
   },
   {
    "duration": 17,
    "start_time": "2022-02-01T05:35:34.578Z"
   },
   {
    "duration": 19,
    "start_time": "2022-02-01T05:35:35.370Z"
   },
   {
    "duration": 18,
    "start_time": "2022-02-01T05:35:36.154Z"
   },
   {
    "duration": 12,
    "start_time": "2022-02-01T05:35:37.930Z"
   },
   {
    "duration": 16,
    "start_time": "2022-02-01T05:35:40.290Z"
   },
   {
    "duration": 12,
    "start_time": "2022-02-01T05:35:41.139Z"
   },
   {
    "duration": 5,
    "start_time": "2022-02-01T05:35:42.643Z"
   },
   {
    "duration": 591,
    "start_time": "2022-02-01T05:35:44.690Z"
   },
   {
    "duration": 5,
    "start_time": "2022-02-01T05:35:59.052Z"
   },
   {
    "duration": 6,
    "start_time": "2022-02-01T05:36:03.100Z"
   },
   {
    "duration": 35,
    "start_time": "2022-02-01T05:36:04.924Z"
   },
   {
    "duration": 28,
    "start_time": "2022-02-01T05:37:23.438Z"
   },
   {
    "duration": 32,
    "start_time": "2022-02-01T05:38:35.505Z"
   },
   {
    "duration": 26,
    "start_time": "2022-02-01T05:38:48.433Z"
   },
   {
    "duration": 25,
    "start_time": "2022-02-01T05:39:03.659Z"
   },
   {
    "duration": 6,
    "start_time": "2022-02-01T05:40:16.278Z"
   },
   {
    "duration": 537,
    "start_time": "2022-02-01T05:40:18.878Z"
   },
   {
    "duration": 98,
    "start_time": "2022-02-01T05:40:44.190Z"
   },
   {
    "duration": 6,
    "start_time": "2022-02-01T05:40:52.583Z"
   },
   {
    "duration": 513,
    "start_time": "2022-02-01T05:40:57.014Z"
   },
   {
    "duration": 9,
    "start_time": "2022-02-01T05:41:09.385Z"
   },
   {
    "duration": 51,
    "start_time": "2022-02-01T05:41:10.456Z"
   },
   {
    "duration": 5,
    "start_time": "2022-02-01T05:41:29.465Z"
   },
   {
    "duration": 38,
    "start_time": "2022-02-01T05:41:31.216Z"
   },
   {
    "duration": 32,
    "start_time": "2022-02-01T05:41:49.426Z"
   },
   {
    "duration": 33,
    "start_time": "2022-02-01T05:41:51.465Z"
   },
   {
    "duration": 27,
    "start_time": "2022-02-01T05:41:53.168Z"
   },
   {
    "duration": 5,
    "start_time": "2022-02-01T05:44:27.335Z"
   },
   {
    "duration": 34,
    "start_time": "2022-02-01T05:44:28.974Z"
   },
   {
    "duration": 7,
    "start_time": "2022-02-01T05:44:34.032Z"
   },
   {
    "duration": 523,
    "start_time": "2022-02-01T05:44:34.983Z"
   },
   {
    "duration": 6,
    "start_time": "2022-02-01T05:44:58.456Z"
   },
   {
    "duration": 872,
    "start_time": "2022-02-01T05:44:59.736Z"
   },
   {
    "duration": 7,
    "start_time": "2022-02-01T05:45:21.889Z"
   },
   {
    "duration": 474,
    "start_time": "2022-02-01T05:45:23.193Z"
   },
   {
    "duration": 6,
    "start_time": "2022-02-01T05:45:36.354Z"
   },
   {
    "duration": 583,
    "start_time": "2022-02-01T05:45:37.793Z"
   },
   {
    "duration": 6,
    "start_time": "2022-02-01T05:46:41.100Z"
   },
   {
    "duration": 39,
    "start_time": "2022-02-01T05:46:42.556Z"
   },
   {
    "duration": 6,
    "start_time": "2022-02-01T05:47:12.653Z"
   },
   {
    "duration": 35,
    "start_time": "2022-02-01T05:47:13.300Z"
   },
   {
    "duration": 37,
    "start_time": "2022-02-01T05:47:30.501Z"
   },
   {
    "duration": 7,
    "start_time": "2022-02-01T05:47:32.334Z"
   },
   {
    "duration": 509,
    "start_time": "2022-02-01T05:47:33.462Z"
   },
   {
    "duration": 6,
    "start_time": "2022-02-01T05:47:55.726Z"
   },
   {
    "duration": 36,
    "start_time": "2022-02-01T05:47:56.703Z"
   },
   {
    "duration": 6,
    "start_time": "2022-02-01T05:48:08.958Z"
   },
   {
    "duration": 36,
    "start_time": "2022-02-01T05:48:09.983Z"
   },
   {
    "duration": 5,
    "start_time": "2022-02-01T05:48:16.624Z"
   },
   {
    "duration": 554,
    "start_time": "2022-02-01T05:48:17.615Z"
   },
   {
    "duration": 7,
    "start_time": "2022-02-01T05:55:49.841Z"
   },
   {
    "duration": 463,
    "start_time": "2022-02-01T05:55:51.057Z"
   },
   {
    "duration": 8,
    "start_time": "2022-02-01T05:57:39.862Z"
   },
   {
    "duration": 43,
    "start_time": "2022-02-01T05:57:41.540Z"
   },
   {
    "duration": 29,
    "start_time": "2022-02-01T05:57:44.210Z"
   },
   {
    "duration": 34,
    "start_time": "2022-02-01T05:57:45.996Z"
   },
   {
    "duration": 26,
    "start_time": "2022-02-01T05:57:47.461Z"
   },
   {
    "duration": 227,
    "start_time": "2022-02-01T06:00:56.204Z"
   },
   {
    "duration": 86,
    "start_time": "2022-02-01T06:01:42.038Z"
   },
   {
    "duration": 236,
    "start_time": "2022-02-01T06:02:20.223Z"
   },
   {
    "duration": 17,
    "start_time": "2022-02-01T06:02:27.262Z"
   },
   {
    "duration": 45,
    "start_time": "2022-02-01T06:03:05.353Z"
   },
   {
    "duration": 16,
    "start_time": "2022-02-01T06:03:06.767Z"
   },
   {
    "duration": 6,
    "start_time": "2022-02-01T06:03:18.314Z"
   },
   {
    "duration": 40,
    "start_time": "2022-02-01T06:03:20.114Z"
   },
   {
    "duration": 7,
    "start_time": "2022-02-01T06:03:29.738Z"
   },
   {
    "duration": 494,
    "start_time": "2022-02-01T06:03:30.938Z"
   },
   {
    "duration": 6,
    "start_time": "2022-02-01T06:04:27.116Z"
   },
   {
    "duration": 6,
    "start_time": "2022-02-01T06:04:44.134Z"
   },
   {
    "duration": 26,
    "start_time": "2022-02-01T06:04:45.213Z"
   },
   {
    "duration": 18,
    "start_time": "2022-02-01T06:05:00.661Z"
   },
   {
    "duration": 24,
    "start_time": "2022-02-01T06:05:02.470Z"
   },
   {
    "duration": 19,
    "start_time": "2022-02-01T06:05:05.566Z"
   },
   {
    "duration": 72,
    "start_time": "2022-02-01T06:05:59.832Z"
   },
   {
    "duration": 17,
    "start_time": "2022-02-01T06:06:01.391Z"
   },
   {
    "duration": 75,
    "start_time": "2022-02-01T06:06:07.040Z"
   },
   {
    "duration": 16,
    "start_time": "2022-02-01T06:06:08.528Z"
   },
   {
    "duration": 30,
    "start_time": "2022-02-01T06:07:54.509Z"
   },
   {
    "duration": 13,
    "start_time": "2022-02-01T06:07:59.106Z"
   },
   {
    "duration": 17,
    "start_time": "2022-02-01T06:08:41.294Z"
   },
   {
    "duration": 17,
    "start_time": "2022-02-01T06:08:54.694Z"
   },
   {
    "duration": 12,
    "start_time": "2022-02-01T06:08:55.637Z"
   },
   {
    "duration": 32,
    "start_time": "2022-02-01T06:09:50.793Z"
   },
   {
    "duration": 17,
    "start_time": "2022-02-01T06:09:52.096Z"
   },
   {
    "duration": 18,
    "start_time": "2022-02-01T06:09:59.312Z"
   },
   {
    "duration": 13,
    "start_time": "2022-02-01T06:10:00.264Z"
   },
   {
    "duration": 889,
    "start_time": "2022-02-10T12:52:43.093Z"
   },
   {
    "duration": 203,
    "start_time": "2022-02-10T12:52:43.985Z"
   },
   {
    "duration": 35,
    "start_time": "2022-02-10T12:52:44.191Z"
   },
   {
    "duration": 23,
    "start_time": "2022-02-10T12:52:44.230Z"
   },
   {
    "duration": 6,
    "start_time": "2022-02-10T12:52:46.458Z"
   },
   {
    "duration": 26,
    "start_time": "2022-02-10T12:52:46.764Z"
   },
   {
    "duration": 5,
    "start_time": "2022-02-10T12:52:47.098Z"
   },
   {
    "duration": 31,
    "start_time": "2022-02-10T12:52:47.580Z"
   },
   {
    "duration": 22,
    "start_time": "2022-02-10T12:52:48.079Z"
   },
   {
    "duration": 39,
    "start_time": "2022-02-10T12:52:48.404Z"
   },
   {
    "duration": 105,
    "start_time": "2022-02-10T12:52:48.900Z"
   },
   {
    "duration": 100,
    "start_time": "2022-02-10T12:52:49.221Z"
   },
   {
    "duration": 73,
    "start_time": "2022-02-10T12:52:49.740Z"
   },
   {
    "duration": 77,
    "start_time": "2022-02-10T12:52:50.420Z"
   },
   {
    "duration": 4,
    "start_time": "2022-02-10T12:52:50.944Z"
   },
   {
    "duration": 29,
    "start_time": "2022-02-10T12:52:51.446Z"
   },
   {
    "duration": 106,
    "start_time": "2022-02-10T12:52:51.811Z"
   },
   {
    "duration": 44,
    "start_time": "2022-02-10T12:52:53.119Z"
   },
   {
    "duration": 31,
    "start_time": "2022-02-10T12:52:54.337Z"
   },
   {
    "duration": 5,
    "start_time": "2022-02-10T12:52:55.031Z"
   },
   {
    "duration": 24,
    "start_time": "2022-02-10T12:52:56.124Z"
   },
   {
    "duration": 19,
    "start_time": "2022-02-10T12:52:57.937Z"
   },
   {
    "duration": 27,
    "start_time": "2022-02-10T12:52:57.960Z"
   },
   {
    "duration": 38,
    "start_time": "2022-02-10T12:52:57.991Z"
   },
   {
    "duration": 21,
    "start_time": "2022-02-10T12:52:58.032Z"
   },
   {
    "duration": 21,
    "start_time": "2022-02-10T12:52:58.056Z"
   },
   {
    "duration": 44,
    "start_time": "2022-02-10T12:52:58.079Z"
   },
   {
    "duration": 16,
    "start_time": "2022-02-10T12:52:59.282Z"
   },
   {
    "duration": 17,
    "start_time": "2022-02-10T12:52:59.721Z"
   },
   {
    "duration": 6,
    "start_time": "2022-02-10T12:53:00.926Z"
   },
   {
    "duration": 7,
    "start_time": "2022-02-10T12:53:07.770Z"
   },
   {
    "duration": 27,
    "start_time": "2022-02-10T12:53:08.698Z"
   },
   {
    "duration": 18,
    "start_time": "2022-02-10T12:53:09.302Z"
   },
   {
    "duration": 33,
    "start_time": "2022-02-10T12:53:10.055Z"
   },
   {
    "duration": 18,
    "start_time": "2022-02-10T12:53:10.632Z"
   },
   {
    "duration": 6,
    "start_time": "2022-02-10T12:53:23.823Z"
   },
   {
    "duration": 33,
    "start_time": "2022-02-10T12:53:24.582Z"
   },
   {
    "duration": 22,
    "start_time": "2022-02-10T12:53:24.851Z"
   },
   {
    "duration": 34,
    "start_time": "2022-02-10T12:53:26.432Z"
   },
   {
    "duration": 18,
    "start_time": "2022-02-10T12:53:26.654Z"
   },
   {
    "duration": 739,
    "start_time": "2022-02-11T19:22:09.152Z"
   },
   {
    "duration": 181,
    "start_time": "2022-02-11T19:22:09.894Z"
   },
   {
    "duration": 25,
    "start_time": "2022-02-11T19:22:10.078Z"
   },
   {
    "duration": 56,
    "start_time": "2022-02-11T19:22:10.106Z"
   },
   {
    "duration": 6,
    "start_time": "2022-02-11T19:22:10.164Z"
   },
   {
    "duration": 27,
    "start_time": "2022-02-11T19:22:10.172Z"
   },
   {
    "duration": 32,
    "start_time": "2022-02-11T19:22:10.202Z"
   },
   {
    "duration": 41,
    "start_time": "2022-02-11T19:22:10.236Z"
   },
   {
    "duration": 22,
    "start_time": "2022-02-11T19:22:10.281Z"
   },
   {
    "duration": 52,
    "start_time": "2022-02-11T19:22:10.306Z"
   },
   {
    "duration": 100,
    "start_time": "2022-02-11T19:22:10.361Z"
   },
   {
    "duration": 96,
    "start_time": "2022-02-11T19:22:10.463Z"
   },
   {
    "duration": 80,
    "start_time": "2022-02-11T19:22:10.561Z"
   },
   {
    "duration": 73,
    "start_time": "2022-02-11T19:22:10.643Z"
   },
   {
    "duration": 5,
    "start_time": "2022-02-11T19:22:10.731Z"
   },
   {
    "duration": 30,
    "start_time": "2022-02-11T19:22:10.739Z"
   },
   {
    "duration": 104,
    "start_time": "2022-02-11T19:22:10.772Z"
   },
   {
    "duration": 56,
    "start_time": "2022-02-11T19:22:10.878Z"
   },
   {
    "duration": 30,
    "start_time": "2022-02-11T19:22:10.936Z"
   },
   {
    "duration": 6,
    "start_time": "2022-02-11T19:22:10.968Z"
   },
   {
    "duration": 37,
    "start_time": "2022-02-11T19:22:10.976Z"
   },
   {
    "duration": 30,
    "start_time": "2022-02-11T19:22:11.015Z"
   },
   {
    "duration": 21,
    "start_time": "2022-02-11T19:22:11.047Z"
   },
   {
    "duration": 20,
    "start_time": "2022-02-11T19:22:11.070Z"
   },
   {
    "duration": 50,
    "start_time": "2022-02-11T19:22:11.092Z"
   },
   {
    "duration": 18,
    "start_time": "2022-02-11T19:22:11.145Z"
   },
   {
    "duration": 12,
    "start_time": "2022-02-11T19:22:11.168Z"
   },
   {
    "duration": 15,
    "start_time": "2022-02-11T19:22:11.182Z"
   },
   {
    "duration": 43,
    "start_time": "2022-02-11T19:22:11.199Z"
   },
   {
    "duration": 5,
    "start_time": "2022-02-11T19:22:11.245Z"
   },
   {
    "duration": 30,
    "start_time": "2022-02-11T19:22:11.252Z"
   },
   {
    "duration": 15,
    "start_time": "2022-02-11T19:22:11.285Z"
   },
   {
    "duration": 54,
    "start_time": "2022-02-11T19:22:11.302Z"
   },
   {
    "duration": 17,
    "start_time": "2022-02-11T19:22:11.359Z"
   },
   {
    "duration": 56,
    "start_time": "2022-02-11T19:22:11.379Z"
   },
   {
    "duration": 12,
    "start_time": "2022-02-11T19:22:11.438Z"
   },
   {
    "duration": 18,
    "start_time": "2022-02-11T19:22:11.452Z"
   },
   {
    "duration": 12,
    "start_time": "2022-02-11T19:22:11.473Z"
   },
   {
    "duration": 24,
    "start_time": "2022-02-11T19:29:56.516Z"
   },
   {
    "duration": 25,
    "start_time": "2022-02-11T19:31:26.238Z"
   },
   {
    "duration": 48,
    "start_time": "2022-02-11T19:31:37.085Z"
   },
   {
    "duration": 406,
    "start_time": "2022-02-11T19:32:25.840Z"
   },
   {
    "duration": 50,
    "start_time": "2022-02-11T19:32:34.509Z"
   },
   {
    "duration": 42,
    "start_time": "2022-02-11T19:33:05.782Z"
   },
   {
    "duration": 331,
    "start_time": "2022-02-11T19:34:01.754Z"
   },
   {
    "duration": 67,
    "start_time": "2022-02-11T19:34:38.398Z"
   },
   {
    "duration": 43,
    "start_time": "2022-02-11T19:34:54.994Z"
   },
   {
    "duration": 17,
    "start_time": "2022-02-11T19:35:31.261Z"
   },
   {
    "duration": 17,
    "start_time": "2022-02-11T19:35:43.707Z"
   },
   {
    "duration": 102,
    "start_time": "2022-02-11T19:38:07.068Z"
   },
   {
    "duration": 278,
    "start_time": "2022-02-11T19:38:55.798Z"
   },
   {
    "duration": 33,
    "start_time": "2022-02-11T19:39:29.632Z"
   },
   {
    "duration": 12,
    "start_time": "2022-02-11T19:39:35.159Z"
   },
   {
    "duration": 6,
    "start_time": "2022-02-11T19:39:48.226Z"
   },
   {
    "duration": 6,
    "start_time": "2022-02-11T19:40:27.396Z"
   }
  ],
  "colab": {
   "collapsed_sections": [
    "E0vqbgi9ay0H",
    "VUC88oWjTJw2"
   ],
   "name": "yandex_music_project_2021.2.ipynb",
   "provenance": []
  },
  "kernelspec": {
   "display_name": "Python 3 (ipykernel)",
   "language": "python",
   "name": "python3"
  },
  "language_info": {
   "codemirror_mode": {
    "name": "ipython",
    "version": 3
   },
   "file_extension": ".py",
   "mimetype": "text/x-python",
   "name": "python",
   "nbconvert_exporter": "python",
   "pygments_lexer": "ipython3",
   "version": "3.9.5"
  },
  "toc": {
   "base_numbering": 1,
   "nav_menu": {},
   "number_sections": true,
   "sideBar": true,
   "skip_h1_title": true,
   "title_cell": "Table of Contents",
   "title_sidebar": "Contents",
   "toc_cell": false,
   "toc_position": {
    "height": "calc(100% - 180px)",
    "left": "10px",
    "top": "150px",
    "width": "165px"
   },
   "toc_section_display": true,
   "toc_window_display": true
  }
 },
 "nbformat": 4,
 "nbformat_minor": 1
}
