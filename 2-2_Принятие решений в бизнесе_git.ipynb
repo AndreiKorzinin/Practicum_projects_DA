{
 "cells": [
  {
   "cell_type": "markdown",
   "id": "716d6266",
   "metadata": {},
   "source": [
    "# Самостоятельный проект. \n",
    "## Тема принятие решений в бизнесе."
   ]
  },
  {
   "cell_type": "markdown",
   "id": "8aea3386",
   "metadata": {},
   "source": [
    "Проект разбит на две части, в первой необходимо выполнить приоритизацию гипотез, а во второй - анализ А/В теста.\n",
    "\n",
    "# Часть 1. Приоритизация гипотез.\n",
    "\n",
    "Приоритизацию гипотез будем выполнять фреймворками ICE и RICE. Так же проверим наличие изменений результатов в зависимости от выполняемого метода."
   ]
  },
  {
   "cell_type": "markdown",
   "id": "7d426ae9",
   "metadata": {},
   "source": [
    "### Описание файла с данными по гипотезам:"
   ]
  },
  {
   "cell_type": "markdown",
   "id": "22fcd564",
   "metadata": {},
   "source": [
    "- Hypothesis — краткое описание гипотезы;\n",
    "- Reach — охват пользователей по 10-балльной шкале;\n",
    "- Impact — влияние на пользователей по 10-балльной шкале;\n",
    "- Confidence — уверенность в гипотезе по 10-балльной шкале;\n",
    "- Efforts — затраты ресурсов на проверку гипотезы по 10-балльной шкале. Чем больше значение Efforts, тем дороже проверка гипотезы."
   ]
  },
  {
   "cell_type": "code",
   "execution_count": 1,
   "id": "4645633c",
   "metadata": {},
   "outputs": [],
   "source": [
    "#Загрузим необходимые библиотеки.\n",
    "\n",
    "import numpy as np\n",
    "import pandas as pd\n",
    "import seaborn as sns\n",
    "import matplotlib.pyplot as plt\n",
    "import os\n",
    "from scipy import stats as st\n",
    "import re\n",
    "from datetime import datetime, timedelta\n",
    "import datetime as dt\n",
    "\n",
    "import scipy.stats as stats\n",
    "import datetime as dt"
   ]
  },
  {
   "cell_type": "code",
   "execution_count": 2,
   "id": "11e0d46d",
   "metadata": {},
   "outputs": [],
   "source": [
    "#Загружаем все данные по работе с проектом\n",
    "\n",
    "try:\n",
    "    hypothesis = pd.read_csv('\\\\Users\\\\Home\\\\Documents\\\\Yandex\\\\2 модуль\\\\проект №3 Принятие решений в бизнесе\\\\hypothesis.csv') # Локальный путь\n",
    "    orders = pd.read_csv('\\\\Users\\\\Home\\\\Documents\\\\Yandex\\\\2 модуль\\\\проект №3 Принятие решений в бизнесе\\\\orders.csv')\n",
    "    visitors = pd.read_csv('\\\\Users\\\\Home\\\\Documents\\\\Yandex\\\\2 модуль\\\\проект №3 Принятие решений в бизнесе\\\\visitors.csv')\n",
    "\n",
    "except:\n",
    "    hypothesis = pd.read_csv('/datasets/hypothesis.csv') # Серверный путь\n",
    "    orders = pd.read_csv('/datasets/orders.csv')\n",
    "    visitors = pd.read_csv('/datasets/visitors.csv')\n"
   ]
  },
  {
   "cell_type": "code",
   "execution_count": 3,
   "id": "8ed68790",
   "metadata": {},
   "outputs": [
    {
     "data": {
      "text/html": [
       "<div>\n",
       "<style scoped>\n",
       "    .dataframe tbody tr th:only-of-type {\n",
       "        vertical-align: middle;\n",
       "    }\n",
       "\n",
       "    .dataframe tbody tr th {\n",
       "        vertical-align: top;\n",
       "    }\n",
       "\n",
       "    .dataframe thead th {\n",
       "        text-align: right;\n",
       "    }\n",
       "</style>\n",
       "<table border=\"1\" class=\"dataframe\">\n",
       "  <thead>\n",
       "    <tr style=\"text-align: right;\">\n",
       "      <th></th>\n",
       "      <th>Hypothesis</th>\n",
       "      <th>Reach</th>\n",
       "      <th>Impact</th>\n",
       "      <th>Confidence</th>\n",
       "      <th>Efforts</th>\n",
       "    </tr>\n",
       "  </thead>\n",
       "  <tbody>\n",
       "    <tr>\n",
       "      <th>0</th>\n",
       "      <td>Добавить два новых канала привлечения трафика,...</td>\n",
       "      <td>3</td>\n",
       "      <td>10</td>\n",
       "      <td>8</td>\n",
       "      <td>6</td>\n",
       "    </tr>\n",
       "    <tr>\n",
       "      <th>1</th>\n",
       "      <td>Запустить собственную службу доставки, что сок...</td>\n",
       "      <td>2</td>\n",
       "      <td>5</td>\n",
       "      <td>4</td>\n",
       "      <td>10</td>\n",
       "    </tr>\n",
       "    <tr>\n",
       "      <th>2</th>\n",
       "      <td>Добавить блоки рекомендаций товаров на сайт ин...</td>\n",
       "      <td>8</td>\n",
       "      <td>3</td>\n",
       "      <td>7</td>\n",
       "      <td>3</td>\n",
       "    </tr>\n",
       "    <tr>\n",
       "      <th>3</th>\n",
       "      <td>Изменить структура категорий, что увеличит кон...</td>\n",
       "      <td>8</td>\n",
       "      <td>3</td>\n",
       "      <td>3</td>\n",
       "      <td>8</td>\n",
       "    </tr>\n",
       "    <tr>\n",
       "      <th>4</th>\n",
       "      <td>Изменить цвет фона главной страницы, чтобы уве...</td>\n",
       "      <td>3</td>\n",
       "      <td>1</td>\n",
       "      <td>1</td>\n",
       "      <td>1</td>\n",
       "    </tr>\n",
       "  </tbody>\n",
       "</table>\n",
       "</div>"
      ],
      "text/plain": [
       "                                          Hypothesis  Reach  Impact  \\\n",
       "0  Добавить два новых канала привлечения трафика,...      3      10   \n",
       "1  Запустить собственную службу доставки, что сок...      2       5   \n",
       "2  Добавить блоки рекомендаций товаров на сайт ин...      8       3   \n",
       "3  Изменить структура категорий, что увеличит кон...      8       3   \n",
       "4  Изменить цвет фона главной страницы, чтобы уве...      3       1   \n",
       "\n",
       "   Confidence  Efforts  \n",
       "0           8        6  \n",
       "1           4       10  \n",
       "2           7        3  \n",
       "3           3        8  \n",
       "4           1        1  "
      ]
     },
     "metadata": {},
     "output_type": "display_data"
    },
    {
     "data": {
      "text/html": [
       "<div>\n",
       "<style scoped>\n",
       "    .dataframe tbody tr th:only-of-type {\n",
       "        vertical-align: middle;\n",
       "    }\n",
       "\n",
       "    .dataframe tbody tr th {\n",
       "        vertical-align: top;\n",
       "    }\n",
       "\n",
       "    .dataframe thead th {\n",
       "        text-align: right;\n",
       "    }\n",
       "</style>\n",
       "<table border=\"1\" class=\"dataframe\">\n",
       "  <thead>\n",
       "    <tr style=\"text-align: right;\">\n",
       "      <th></th>\n",
       "      <th>transactionId</th>\n",
       "      <th>visitorId</th>\n",
       "      <th>date</th>\n",
       "      <th>revenue</th>\n",
       "      <th>group</th>\n",
       "    </tr>\n",
       "  </thead>\n",
       "  <tbody>\n",
       "    <tr>\n",
       "      <th>0</th>\n",
       "      <td>3667963787</td>\n",
       "      <td>3312258926</td>\n",
       "      <td>2019-08-15</td>\n",
       "      <td>1650</td>\n",
       "      <td>B</td>\n",
       "    </tr>\n",
       "    <tr>\n",
       "      <th>1</th>\n",
       "      <td>2804400009</td>\n",
       "      <td>3642806036</td>\n",
       "      <td>2019-08-15</td>\n",
       "      <td>730</td>\n",
       "      <td>B</td>\n",
       "    </tr>\n",
       "    <tr>\n",
       "      <th>2</th>\n",
       "      <td>2961555356</td>\n",
       "      <td>4069496402</td>\n",
       "      <td>2019-08-15</td>\n",
       "      <td>400</td>\n",
       "      <td>A</td>\n",
       "    </tr>\n",
       "    <tr>\n",
       "      <th>3</th>\n",
       "      <td>3797467345</td>\n",
       "      <td>1196621759</td>\n",
       "      <td>2019-08-15</td>\n",
       "      <td>9759</td>\n",
       "      <td>B</td>\n",
       "    </tr>\n",
       "    <tr>\n",
       "      <th>4</th>\n",
       "      <td>2282983706</td>\n",
       "      <td>2322279887</td>\n",
       "      <td>2019-08-15</td>\n",
       "      <td>2308</td>\n",
       "      <td>B</td>\n",
       "    </tr>\n",
       "  </tbody>\n",
       "</table>\n",
       "</div>"
      ],
      "text/plain": [
       "   transactionId   visitorId        date  revenue group\n",
       "0     3667963787  3312258926  2019-08-15     1650     B\n",
       "1     2804400009  3642806036  2019-08-15      730     B\n",
       "2     2961555356  4069496402  2019-08-15      400     A\n",
       "3     3797467345  1196621759  2019-08-15     9759     B\n",
       "4     2282983706  2322279887  2019-08-15     2308     B"
      ]
     },
     "metadata": {},
     "output_type": "display_data"
    },
    {
     "data": {
      "text/html": [
       "<div>\n",
       "<style scoped>\n",
       "    .dataframe tbody tr th:only-of-type {\n",
       "        vertical-align: middle;\n",
       "    }\n",
       "\n",
       "    .dataframe tbody tr th {\n",
       "        vertical-align: top;\n",
       "    }\n",
       "\n",
       "    .dataframe thead th {\n",
       "        text-align: right;\n",
       "    }\n",
       "</style>\n",
       "<table border=\"1\" class=\"dataframe\">\n",
       "  <thead>\n",
       "    <tr style=\"text-align: right;\">\n",
       "      <th></th>\n",
       "      <th>date</th>\n",
       "      <th>group</th>\n",
       "      <th>visitors</th>\n",
       "    </tr>\n",
       "  </thead>\n",
       "  <tbody>\n",
       "    <tr>\n",
       "      <th>0</th>\n",
       "      <td>2019-08-01</td>\n",
       "      <td>A</td>\n",
       "      <td>719</td>\n",
       "    </tr>\n",
       "    <tr>\n",
       "      <th>1</th>\n",
       "      <td>2019-08-02</td>\n",
       "      <td>A</td>\n",
       "      <td>619</td>\n",
       "    </tr>\n",
       "    <tr>\n",
       "      <th>2</th>\n",
       "      <td>2019-08-03</td>\n",
       "      <td>A</td>\n",
       "      <td>507</td>\n",
       "    </tr>\n",
       "    <tr>\n",
       "      <th>3</th>\n",
       "      <td>2019-08-04</td>\n",
       "      <td>A</td>\n",
       "      <td>717</td>\n",
       "    </tr>\n",
       "    <tr>\n",
       "      <th>4</th>\n",
       "      <td>2019-08-05</td>\n",
       "      <td>A</td>\n",
       "      <td>756</td>\n",
       "    </tr>\n",
       "  </tbody>\n",
       "</table>\n",
       "</div>"
      ],
      "text/plain": [
       "         date group  visitors\n",
       "0  2019-08-01     A       719\n",
       "1  2019-08-02     A       619\n",
       "2  2019-08-03     A       507\n",
       "3  2019-08-04     A       717\n",
       "4  2019-08-05     A       756"
      ]
     },
     "metadata": {},
     "output_type": "display_data"
    }
   ],
   "source": [
    "display(hypothesis.head())\n",
    "display(orders.head())\n",
    "display(visitors.head())"
   ]
  },
  {
   "cell_type": "markdown",
   "id": "83658f21",
   "metadata": {},
   "source": [
    "### Выполним проверку таблицы hypothesis на дубликаты и пропуски"
   ]
  },
  {
   "cell_type": "code",
   "execution_count": 4,
   "id": "e04f2b40",
   "metadata": {},
   "outputs": [],
   "source": [
    "# Напишем функцию для проверки наличия дубликатов и пропусков\n",
    "\n",
    "def check_dup_nan(dataframe):\n",
    "    df = dataframe\n",
    "    list_col = list(df.columns)\n",
    "    print('Количество задублированных строк в дата сете:', df.duplicated().sum(), 'шт.')\n",
    "    print('')\n",
    "    summa = 0\n",
    "    for col in list_col:\n",
    "        print('Кол-во пропусков в столбеце:  ', col, '-', df[col].isna().sum(), 'шт.', \n",
    "             '  тип данных:', df[col].dtypes)\n",
    "        summa += df[col].isna().sum()\n",
    "    print('===================================================================')\n",
    "    check_marker = df.duplicated().sum() + summa\n",
    "    if check_marker == 0:\n",
    "        print('Пропусков и дубликатов строк не обнаружено.')\n",
    "    else:\n",
    "        print('Ошибки в данных! Требуется обратить внимание.')"
   ]
  },
  {
   "cell_type": "code",
   "execution_count": 5,
   "id": "ef2cc133",
   "metadata": {},
   "outputs": [
    {
     "name": "stdout",
     "output_type": "stream",
     "text": [
      "Количество задублированных строк в дата сете: 0 шт.\n",
      "\n",
      "Кол-во пропусков в столбеце:   Hypothesis - 0 шт.   тип данных: object\n",
      "Кол-во пропусков в столбеце:   Reach - 0 шт.   тип данных: int64\n",
      "Кол-во пропусков в столбеце:   Impact - 0 шт.   тип данных: int64\n",
      "Кол-во пропусков в столбеце:   Confidence - 0 шт.   тип данных: int64\n",
      "Кол-во пропусков в столбеце:   Efforts - 0 шт.   тип данных: int64\n",
      "===================================================================\n",
      "Пропусков и дубликатов строк не обнаружено.\n"
     ]
    }
   ],
   "source": [
    "check_dup_nan(hypothesis)"
   ]
  },
  {
   "cell_type": "markdown",
   "id": "383747c8",
   "metadata": {},
   "source": [
    "В этой таблице заголовки столбцов начинаются с заглавной буквы, изменим это на нижний регистр."
   ]
  },
  {
   "cell_type": "markdown",
   "id": "9183b683",
   "metadata": {},
   "source": [
    "## Приведем данные таблицы hypothesis к \"красивому\" виду."
   ]
  },
  {
   "cell_type": "code",
   "execution_count": 6,
   "id": "3704707b",
   "metadata": {},
   "outputs": [],
   "source": [
    "# Напишем функцию для изменения регистра названий столбцов на нижний и замены пробелов на прочерк\n",
    "def columns_ok(data):\n",
    "    columns = data.columns\n",
    "    columns = [re.sub(r'([A-Z])', r' \\1', x) for x in columns]\n",
    "    columns = [re.sub(' ', '_', x.lower()) for x in columns]\n",
    "    columns = [re.sub('^(_)', '', x.lower()) for x in columns]\n",
    "    data.set_axis(columns, axis = 'columns', inplace=True)\n",
    "    return data"
   ]
  },
  {
   "cell_type": "code",
   "execution_count": 7,
   "id": "b38580d1",
   "metadata": {},
   "outputs": [
    {
     "data": {
      "text/html": [
       "<div>\n",
       "<style scoped>\n",
       "    .dataframe tbody tr th:only-of-type {\n",
       "        vertical-align: middle;\n",
       "    }\n",
       "\n",
       "    .dataframe tbody tr th {\n",
       "        vertical-align: top;\n",
       "    }\n",
       "\n",
       "    .dataframe thead th {\n",
       "        text-align: right;\n",
       "    }\n",
       "</style>\n",
       "<table border=\"1\" class=\"dataframe\">\n",
       "  <thead>\n",
       "    <tr style=\"text-align: right;\">\n",
       "      <th></th>\n",
       "      <th>hypothesis</th>\n",
       "      <th>reach</th>\n",
       "      <th>impact</th>\n",
       "      <th>confidence</th>\n",
       "      <th>efforts</th>\n",
       "    </tr>\n",
       "  </thead>\n",
       "  <tbody>\n",
       "    <tr>\n",
       "      <th>0</th>\n",
       "      <td>Добавить два новых канала привлечения трафика,...</td>\n",
       "      <td>3</td>\n",
       "      <td>10</td>\n",
       "      <td>8</td>\n",
       "      <td>6</td>\n",
       "    </tr>\n",
       "    <tr>\n",
       "      <th>1</th>\n",
       "      <td>Запустить собственную службу доставки, что сок...</td>\n",
       "      <td>2</td>\n",
       "      <td>5</td>\n",
       "      <td>4</td>\n",
       "      <td>10</td>\n",
       "    </tr>\n",
       "    <tr>\n",
       "      <th>2</th>\n",
       "      <td>Добавить блоки рекомендаций товаров на сайт ин...</td>\n",
       "      <td>8</td>\n",
       "      <td>3</td>\n",
       "      <td>7</td>\n",
       "      <td>3</td>\n",
       "    </tr>\n",
       "    <tr>\n",
       "      <th>3</th>\n",
       "      <td>Изменить структура категорий, что увеличит кон...</td>\n",
       "      <td>8</td>\n",
       "      <td>3</td>\n",
       "      <td>3</td>\n",
       "      <td>8</td>\n",
       "    </tr>\n",
       "    <tr>\n",
       "      <th>4</th>\n",
       "      <td>Изменить цвет фона главной страницы, чтобы уве...</td>\n",
       "      <td>3</td>\n",
       "      <td>1</td>\n",
       "      <td>1</td>\n",
       "      <td>1</td>\n",
       "    </tr>\n",
       "    <tr>\n",
       "      <th>5</th>\n",
       "      <td>Добавить страницу отзывов клиентов о магазине,...</td>\n",
       "      <td>3</td>\n",
       "      <td>2</td>\n",
       "      <td>2</td>\n",
       "      <td>3</td>\n",
       "    </tr>\n",
       "    <tr>\n",
       "      <th>6</th>\n",
       "      <td>Показать на главной странице баннеры с актуаль...</td>\n",
       "      <td>5</td>\n",
       "      <td>3</td>\n",
       "      <td>8</td>\n",
       "      <td>3</td>\n",
       "    </tr>\n",
       "    <tr>\n",
       "      <th>7</th>\n",
       "      <td>Добавить форму подписки на все основные страни...</td>\n",
       "      <td>10</td>\n",
       "      <td>7</td>\n",
       "      <td>8</td>\n",
       "      <td>5</td>\n",
       "    </tr>\n",
       "    <tr>\n",
       "      <th>8</th>\n",
       "      <td>Запустить акцию, дающую скидку на товар в день...</td>\n",
       "      <td>1</td>\n",
       "      <td>9</td>\n",
       "      <td>9</td>\n",
       "      <td>5</td>\n",
       "    </tr>\n",
       "  </tbody>\n",
       "</table>\n",
       "</div>"
      ],
      "text/plain": [
       "                                          hypothesis  reach  impact  \\\n",
       "0  Добавить два новых канала привлечения трафика,...      3      10   \n",
       "1  Запустить собственную службу доставки, что сок...      2       5   \n",
       "2  Добавить блоки рекомендаций товаров на сайт ин...      8       3   \n",
       "3  Изменить структура категорий, что увеличит кон...      8       3   \n",
       "4  Изменить цвет фона главной страницы, чтобы уве...      3       1   \n",
       "5  Добавить страницу отзывов клиентов о магазине,...      3       2   \n",
       "6  Показать на главной странице баннеры с актуаль...      5       3   \n",
       "7  Добавить форму подписки на все основные страни...     10       7   \n",
       "8  Запустить акцию, дающую скидку на товар в день...      1       9   \n",
       "\n",
       "   confidence  efforts  \n",
       "0           8        6  \n",
       "1           4       10  \n",
       "2           7        3  \n",
       "3           3        8  \n",
       "4           1        1  \n",
       "5           2        3  \n",
       "6           8        3  \n",
       "7           8        5  \n",
       "8           9        5  "
      ]
     },
     "execution_count": 7,
     "metadata": {},
     "output_type": "execute_result"
    }
   ],
   "source": [
    "columns_ok(hypothesis)"
   ]
  },
  {
   "cell_type": "code",
   "execution_count": 8,
   "id": "e4093062",
   "metadata": {},
   "outputs": [
    {
     "data": {
      "text/html": [
       "<div>\n",
       "<style scoped>\n",
       "    .dataframe tbody tr th:only-of-type {\n",
       "        vertical-align: middle;\n",
       "    }\n",
       "\n",
       "    .dataframe tbody tr th {\n",
       "        vertical-align: top;\n",
       "    }\n",
       "\n",
       "    .dataframe thead th {\n",
       "        text-align: right;\n",
       "    }\n",
       "</style>\n",
       "<table border=\"1\" class=\"dataframe\">\n",
       "  <thead>\n",
       "    <tr style=\"text-align: right;\">\n",
       "      <th></th>\n",
       "      <th>hypothesis</th>\n",
       "      <th>reach</th>\n",
       "      <th>impact</th>\n",
       "      <th>confidence</th>\n",
       "      <th>efforts</th>\n",
       "    </tr>\n",
       "  </thead>\n",
       "  <tbody>\n",
       "    <tr>\n",
       "      <th>0</th>\n",
       "      <td>Добавить два новых канала привлечения трафика, что позволит привлекать на 30% больше пользователей</td>\n",
       "      <td>3</td>\n",
       "      <td>10</td>\n",
       "      <td>8</td>\n",
       "      <td>6</td>\n",
       "    </tr>\n",
       "    <tr>\n",
       "      <th>1</th>\n",
       "      <td>Запустить собственную службу доставки, что сократит срок доставки заказов</td>\n",
       "      <td>2</td>\n",
       "      <td>5</td>\n",
       "      <td>4</td>\n",
       "      <td>10</td>\n",
       "    </tr>\n",
       "    <tr>\n",
       "      <th>2</th>\n",
       "      <td>Добавить блоки рекомендаций товаров на сайт интернет магазина, чтобы повысить конверсию и средний чек заказа</td>\n",
       "      <td>8</td>\n",
       "      <td>3</td>\n",
       "      <td>7</td>\n",
       "      <td>3</td>\n",
       "    </tr>\n",
       "    <tr>\n",
       "      <th>3</th>\n",
       "      <td>Изменить структура категорий, что увеличит конверсию, т.к. пользователи быстрее найдут нужный товар</td>\n",
       "      <td>8</td>\n",
       "      <td>3</td>\n",
       "      <td>3</td>\n",
       "      <td>8</td>\n",
       "    </tr>\n",
       "    <tr>\n",
       "      <th>4</th>\n",
       "      <td>Изменить цвет фона главной страницы, чтобы увеличить вовлеченность пользователей</td>\n",
       "      <td>3</td>\n",
       "      <td>1</td>\n",
       "      <td>1</td>\n",
       "      <td>1</td>\n",
       "    </tr>\n",
       "    <tr>\n",
       "      <th>5</th>\n",
       "      <td>Добавить страницу отзывов клиентов о магазине, что позволит увеличить количество заказов</td>\n",
       "      <td>3</td>\n",
       "      <td>2</td>\n",
       "      <td>2</td>\n",
       "      <td>3</td>\n",
       "    </tr>\n",
       "    <tr>\n",
       "      <th>6</th>\n",
       "      <td>Показать на главной странице баннеры с актуальными акциями и распродажами, чтобы увеличить конверсию</td>\n",
       "      <td>5</td>\n",
       "      <td>3</td>\n",
       "      <td>8</td>\n",
       "      <td>3</td>\n",
       "    </tr>\n",
       "    <tr>\n",
       "      <th>7</th>\n",
       "      <td>Добавить форму подписки на все основные страницы, чтобы собрать базу клиентов для email-рассылок</td>\n",
       "      <td>10</td>\n",
       "      <td>7</td>\n",
       "      <td>8</td>\n",
       "      <td>5</td>\n",
       "    </tr>\n",
       "    <tr>\n",
       "      <th>8</th>\n",
       "      <td>Запустить акцию, дающую скидку на товар в день рождения</td>\n",
       "      <td>1</td>\n",
       "      <td>9</td>\n",
       "      <td>9</td>\n",
       "      <td>5</td>\n",
       "    </tr>\n",
       "  </tbody>\n",
       "</table>\n",
       "</div>"
      ],
      "text/plain": [
       "                                                                                                     hypothesis  \\\n",
       "0            Добавить два новых канала привлечения трафика, что позволит привлекать на 30% больше пользователей   \n",
       "1                                     Запустить собственную службу доставки, что сократит срок доставки заказов   \n",
       "2  Добавить блоки рекомендаций товаров на сайт интернет магазина, чтобы повысить конверсию и средний чек заказа   \n",
       "3           Изменить структура категорий, что увеличит конверсию, т.к. пользователи быстрее найдут нужный товар   \n",
       "4                              Изменить цвет фона главной страницы, чтобы увеличить вовлеченность пользователей   \n",
       "5                      Добавить страницу отзывов клиентов о магазине, что позволит увеличить количество заказов   \n",
       "6          Показать на главной странице баннеры с актуальными акциями и распродажами, чтобы увеличить конверсию   \n",
       "7              Добавить форму подписки на все основные страницы, чтобы собрать базу клиентов для email-рассылок   \n",
       "8                                                       Запустить акцию, дающую скидку на товар в день рождения   \n",
       "\n",
       "   reach  impact  confidence  efforts  \n",
       "0      3      10           8        6  \n",
       "1      2       5           4       10  \n",
       "2      8       3           7        3  \n",
       "3      8       3           3        8  \n",
       "4      3       1           1        1  \n",
       "5      3       2           2        3  \n",
       "6      5       3           8        3  \n",
       "7     10       7           8        5  \n",
       "8      1       9           9        5  "
      ]
     },
     "execution_count": 8,
     "metadata": {},
     "output_type": "execute_result"
    }
   ],
   "source": [
    "pd.options.display.max_colwidth = 130\n",
    "columns_ok(hypothesis)"
   ]
  },
  {
   "cell_type": "markdown",
   "id": "d90ba9f7",
   "metadata": {},
   "source": [
    "## Получим таблицы по гипотезам с параметрами приоритизации."
   ]
  },
  {
   "cell_type": "code",
   "execution_count": 9,
   "id": "000e1e08",
   "metadata": {},
   "outputs": [
    {
     "data": {
      "text/html": [
       "<div>\n",
       "<style scoped>\n",
       "    .dataframe tbody tr th:only-of-type {\n",
       "        vertical-align: middle;\n",
       "    }\n",
       "\n",
       "    .dataframe tbody tr th {\n",
       "        vertical-align: top;\n",
       "    }\n",
       "\n",
       "    .dataframe thead th {\n",
       "        text-align: right;\n",
       "    }\n",
       "</style>\n",
       "<table border=\"1\" class=\"dataframe\">\n",
       "  <thead>\n",
       "    <tr style=\"text-align: right;\">\n",
       "      <th></th>\n",
       "      <th>hypothesis</th>\n",
       "      <th>ice</th>\n",
       "    </tr>\n",
       "  </thead>\n",
       "  <tbody>\n",
       "    <tr>\n",
       "      <th>0</th>\n",
       "      <td>Запустить акцию, дающую скидку на товар в день рождения</td>\n",
       "      <td>16.20</td>\n",
       "    </tr>\n",
       "    <tr>\n",
       "      <th>1</th>\n",
       "      <td>Добавить два новых канала привлечения трафика, что позволит привлекать на 30% больше пользователей</td>\n",
       "      <td>13.33</td>\n",
       "    </tr>\n",
       "    <tr>\n",
       "      <th>2</th>\n",
       "      <td>Добавить форму подписки на все основные страницы, чтобы собрать базу клиентов для email-рассылок</td>\n",
       "      <td>11.20</td>\n",
       "    </tr>\n",
       "    <tr>\n",
       "      <th>3</th>\n",
       "      <td>Показать на главной странице баннеры с актуальными акциями и распродажами, чтобы увеличить конверсию</td>\n",
       "      <td>8.00</td>\n",
       "    </tr>\n",
       "    <tr>\n",
       "      <th>4</th>\n",
       "      <td>Добавить блоки рекомендаций товаров на сайт интернет магазина, чтобы повысить конверсию и средний чек заказа</td>\n",
       "      <td>7.00</td>\n",
       "    </tr>\n",
       "    <tr>\n",
       "      <th>5</th>\n",
       "      <td>Запустить собственную службу доставки, что сократит срок доставки заказов</td>\n",
       "      <td>2.00</td>\n",
       "    </tr>\n",
       "    <tr>\n",
       "      <th>6</th>\n",
       "      <td>Добавить страницу отзывов клиентов о магазине, что позволит увеличить количество заказов</td>\n",
       "      <td>1.33</td>\n",
       "    </tr>\n",
       "    <tr>\n",
       "      <th>7</th>\n",
       "      <td>Изменить структура категорий, что увеличит конверсию, т.к. пользователи быстрее найдут нужный товар</td>\n",
       "      <td>1.12</td>\n",
       "    </tr>\n",
       "    <tr>\n",
       "      <th>8</th>\n",
       "      <td>Изменить цвет фона главной страницы, чтобы увеличить вовлеченность пользователей</td>\n",
       "      <td>1.00</td>\n",
       "    </tr>\n",
       "  </tbody>\n",
       "</table>\n",
       "</div>"
      ],
      "text/plain": [
       "                                                                                                     hypothesis  \\\n",
       "0                                                       Запустить акцию, дающую скидку на товар в день рождения   \n",
       "1            Добавить два новых канала привлечения трафика, что позволит привлекать на 30% больше пользователей   \n",
       "2              Добавить форму подписки на все основные страницы, чтобы собрать базу клиентов для email-рассылок   \n",
       "3          Показать на главной странице баннеры с актуальными акциями и распродажами, чтобы увеличить конверсию   \n",
       "4  Добавить блоки рекомендаций товаров на сайт интернет магазина, чтобы повысить конверсию и средний чек заказа   \n",
       "5                                     Запустить собственную службу доставки, что сократит срок доставки заказов   \n",
       "6                      Добавить страницу отзывов клиентов о магазине, что позволит увеличить количество заказов   \n",
       "7           Изменить структура категорий, что увеличит конверсию, т.к. пользователи быстрее найдут нужный товар   \n",
       "8                              Изменить цвет фона главной страницы, чтобы увеличить вовлеченность пользователей   \n",
       "\n",
       "     ice  \n",
       "0  16.20  \n",
       "1  13.33  \n",
       "2  11.20  \n",
       "3   8.00  \n",
       "4   7.00  \n",
       "5   2.00  \n",
       "6   1.33  \n",
       "7   1.12  \n",
       "8   1.00  "
      ]
     },
     "execution_count": 9,
     "metadata": {},
     "output_type": "execute_result"
    }
   ],
   "source": [
    "df = hypothesis\n",
    "df['ice'] = round((df['impact'] * df['confidence']) / df['efforts'], 2)\n",
    "df_ice = df.sort_values(by='ice', ascending=False, ignore_index=True)[['hypothesis', 'ice']]\n",
    "df_ice"
   ]
  },
  {
   "cell_type": "code",
   "execution_count": 10,
   "id": "4a8057ea",
   "metadata": {},
   "outputs": [
    {
     "data": {
      "text/html": [
       "<div>\n",
       "<style scoped>\n",
       "    .dataframe tbody tr th:only-of-type {\n",
       "        vertical-align: middle;\n",
       "    }\n",
       "\n",
       "    .dataframe tbody tr th {\n",
       "        vertical-align: top;\n",
       "    }\n",
       "\n",
       "    .dataframe thead th {\n",
       "        text-align: right;\n",
       "    }\n",
       "</style>\n",
       "<table border=\"1\" class=\"dataframe\">\n",
       "  <thead>\n",
       "    <tr style=\"text-align: right;\">\n",
       "      <th></th>\n",
       "      <th>hypothesis</th>\n",
       "      <th>rice</th>\n",
       "    </tr>\n",
       "  </thead>\n",
       "  <tbody>\n",
       "    <tr>\n",
       "      <th>0</th>\n",
       "      <td>Добавить форму подписки на все основные страницы, чтобы собрать базу клиентов для email-рассылок</td>\n",
       "      <td>112.0</td>\n",
       "    </tr>\n",
       "    <tr>\n",
       "      <th>1</th>\n",
       "      <td>Добавить блоки рекомендаций товаров на сайт интернет магазина, чтобы повысить конверсию и средний чек заказа</td>\n",
       "      <td>56.0</td>\n",
       "    </tr>\n",
       "    <tr>\n",
       "      <th>2</th>\n",
       "      <td>Добавить два новых канала привлечения трафика, что позволит привлекать на 30% больше пользователей</td>\n",
       "      <td>40.0</td>\n",
       "    </tr>\n",
       "    <tr>\n",
       "      <th>3</th>\n",
       "      <td>Показать на главной странице баннеры с актуальными акциями и распродажами, чтобы увеличить конверсию</td>\n",
       "      <td>40.0</td>\n",
       "    </tr>\n",
       "    <tr>\n",
       "      <th>4</th>\n",
       "      <td>Запустить акцию, дающую скидку на товар в день рождения</td>\n",
       "      <td>16.2</td>\n",
       "    </tr>\n",
       "    <tr>\n",
       "      <th>5</th>\n",
       "      <td>Изменить структура категорий, что увеличит конверсию, т.к. пользователи быстрее найдут нужный товар</td>\n",
       "      <td>9.0</td>\n",
       "    </tr>\n",
       "    <tr>\n",
       "      <th>6</th>\n",
       "      <td>Запустить собственную службу доставки, что сократит срок доставки заказов</td>\n",
       "      <td>4.0</td>\n",
       "    </tr>\n",
       "    <tr>\n",
       "      <th>7</th>\n",
       "      <td>Добавить страницу отзывов клиентов о магазине, что позволит увеличить количество заказов</td>\n",
       "      <td>4.0</td>\n",
       "    </tr>\n",
       "    <tr>\n",
       "      <th>8</th>\n",
       "      <td>Изменить цвет фона главной страницы, чтобы увеличить вовлеченность пользователей</td>\n",
       "      <td>3.0</td>\n",
       "    </tr>\n",
       "  </tbody>\n",
       "</table>\n",
       "</div>"
      ],
      "text/plain": [
       "                                                                                                     hypothesis  \\\n",
       "0              Добавить форму подписки на все основные страницы, чтобы собрать базу клиентов для email-рассылок   \n",
       "1  Добавить блоки рекомендаций товаров на сайт интернет магазина, чтобы повысить конверсию и средний чек заказа   \n",
       "2            Добавить два новых канала привлечения трафика, что позволит привлекать на 30% больше пользователей   \n",
       "3          Показать на главной странице баннеры с актуальными акциями и распродажами, чтобы увеличить конверсию   \n",
       "4                                                       Запустить акцию, дающую скидку на товар в день рождения   \n",
       "5           Изменить структура категорий, что увеличит конверсию, т.к. пользователи быстрее найдут нужный товар   \n",
       "6                                     Запустить собственную службу доставки, что сократит срок доставки заказов   \n",
       "7                      Добавить страницу отзывов клиентов о магазине, что позволит увеличить количество заказов   \n",
       "8                              Изменить цвет фона главной страницы, чтобы увеличить вовлеченность пользователей   \n",
       "\n",
       "    rice  \n",
       "0  112.0  \n",
       "1   56.0  \n",
       "2   40.0  \n",
       "3   40.0  \n",
       "4   16.2  \n",
       "5    9.0  \n",
       "6    4.0  \n",
       "7    4.0  \n",
       "8    3.0  "
      ]
     },
     "execution_count": 10,
     "metadata": {},
     "output_type": "execute_result"
    }
   ],
   "source": [
    "df = hypothesis\n",
    "df['rice'] = (df['reach'] * df['impact'] * df['confidence']) / df['efforts']\n",
    "df_rice = df.sort_values(by='rice', ascending=False, ignore_index=True)[['hypothesis', 'rice', 'reach']]\n",
    "df_rice[['hypothesis', 'rice']]"
   ]
  },
  {
   "cell_type": "markdown",
   "id": "57151eab",
   "metadata": {},
   "source": [
    "## Объеденим обе таблицы для наглядного сравнения."
   ]
  },
  {
   "cell_type": "code",
   "execution_count": 11,
   "id": "3e638a76",
   "metadata": {},
   "outputs": [
    {
     "data": {
      "text/html": [
       "<div>\n",
       "<style scoped>\n",
       "    .dataframe tbody tr th:only-of-type {\n",
       "        vertical-align: middle;\n",
       "    }\n",
       "\n",
       "    .dataframe tbody tr th {\n",
       "        vertical-align: top;\n",
       "    }\n",
       "\n",
       "    .dataframe thead th {\n",
       "        text-align: right;\n",
       "    }\n",
       "</style>\n",
       "<table border=\"1\" class=\"dataframe\">\n",
       "  <thead>\n",
       "    <tr style=\"text-align: right;\">\n",
       "      <th></th>\n",
       "      <th>hypothesis</th>\n",
       "      <th>ice</th>\n",
       "      <th>rice</th>\n",
       "      <th>reach</th>\n",
       "    </tr>\n",
       "  </thead>\n",
       "  <tbody>\n",
       "    <tr>\n",
       "      <th>0</th>\n",
       "      <td>Добавить форму подписки на все основные страницы, чтобы собрать базу клиентов для email-рассылок</td>\n",
       "      <td>11.20</td>\n",
       "      <td>112.0</td>\n",
       "      <td>10</td>\n",
       "    </tr>\n",
       "    <tr>\n",
       "      <th>1</th>\n",
       "      <td>Добавить блоки рекомендаций товаров на сайт интернет магазина, чтобы повысить конверсию и средний чек заказа</td>\n",
       "      <td>7.00</td>\n",
       "      <td>56.0</td>\n",
       "      <td>8</td>\n",
       "    </tr>\n",
       "    <tr>\n",
       "      <th>2</th>\n",
       "      <td>Добавить два новых канала привлечения трафика, что позволит привлекать на 30% больше пользователей</td>\n",
       "      <td>13.33</td>\n",
       "      <td>40.0</td>\n",
       "      <td>3</td>\n",
       "    </tr>\n",
       "    <tr>\n",
       "      <th>3</th>\n",
       "      <td>Показать на главной странице баннеры с актуальными акциями и распродажами, чтобы увеличить конверсию</td>\n",
       "      <td>8.00</td>\n",
       "      <td>40.0</td>\n",
       "      <td>5</td>\n",
       "    </tr>\n",
       "    <tr>\n",
       "      <th>4</th>\n",
       "      <td>Запустить акцию, дающую скидку на товар в день рождения</td>\n",
       "      <td>16.20</td>\n",
       "      <td>16.2</td>\n",
       "      <td>1</td>\n",
       "    </tr>\n",
       "    <tr>\n",
       "      <th>5</th>\n",
       "      <td>Изменить структура категорий, что увеличит конверсию, т.к. пользователи быстрее найдут нужный товар</td>\n",
       "      <td>1.12</td>\n",
       "      <td>9.0</td>\n",
       "      <td>8</td>\n",
       "    </tr>\n",
       "    <tr>\n",
       "      <th>6</th>\n",
       "      <td>Запустить собственную службу доставки, что сократит срок доставки заказов</td>\n",
       "      <td>2.00</td>\n",
       "      <td>4.0</td>\n",
       "      <td>2</td>\n",
       "    </tr>\n",
       "    <tr>\n",
       "      <th>7</th>\n",
       "      <td>Добавить страницу отзывов клиентов о магазине, что позволит увеличить количество заказов</td>\n",
       "      <td>1.33</td>\n",
       "      <td>4.0</td>\n",
       "      <td>3</td>\n",
       "    </tr>\n",
       "    <tr>\n",
       "      <th>8</th>\n",
       "      <td>Изменить цвет фона главной страницы, чтобы увеличить вовлеченность пользователей</td>\n",
       "      <td>1.00</td>\n",
       "      <td>3.0</td>\n",
       "      <td>3</td>\n",
       "    </tr>\n",
       "  </tbody>\n",
       "</table>\n",
       "</div>"
      ],
      "text/plain": [
       "                                                                                                     hypothesis  \\\n",
       "0              Добавить форму подписки на все основные страницы, чтобы собрать базу клиентов для email-рассылок   \n",
       "1  Добавить блоки рекомендаций товаров на сайт интернет магазина, чтобы повысить конверсию и средний чек заказа   \n",
       "2            Добавить два новых канала привлечения трафика, что позволит привлекать на 30% больше пользователей   \n",
       "3          Показать на главной странице баннеры с актуальными акциями и распродажами, чтобы увеличить конверсию   \n",
       "4                                                       Запустить акцию, дающую скидку на товар в день рождения   \n",
       "5           Изменить структура категорий, что увеличит конверсию, т.к. пользователи быстрее найдут нужный товар   \n",
       "6                                     Запустить собственную службу доставки, что сократит срок доставки заказов   \n",
       "7                      Добавить страницу отзывов клиентов о магазине, что позволит увеличить количество заказов   \n",
       "8                              Изменить цвет фона главной страницы, чтобы увеличить вовлеченность пользователей   \n",
       "\n",
       "     ice   rice  reach  \n",
       "0  11.20  112.0     10  \n",
       "1   7.00   56.0      8  \n",
       "2  13.33   40.0      3  \n",
       "3   8.00   40.0      5  \n",
       "4  16.20   16.2      1  \n",
       "5   1.12    9.0      8  \n",
       "6   2.00    4.0      2  \n",
       "7   1.33    4.0      3  \n",
       "8   1.00    3.0      3  "
      ]
     },
     "execution_count": 11,
     "metadata": {},
     "output_type": "execute_result"
    }
   ],
   "source": [
    "compare_df = df_ice.merge(df_rice, left_on='hypothesis', right_on='hypothesis')[['hypothesis', 'ice', 'rice', 'reach']].sort_values(by='rice',ignore_index=True , ascending=False)\n",
    "compare_df"
   ]
  },
  {
   "cell_type": "code",
   "execution_count": 12,
   "id": "2b9c70ea",
   "metadata": {},
   "outputs": [
    {
     "data": {
      "text/html": [
       "<style  type=\"text/css\" >\n",
       "#T_197de_row0_col1{\n",
       "            width:  10em;\n",
       "             height:  80%;\n",
       "            background:  linear-gradient(90deg,#d65f5f 67.1%, transparent 67.1%);\n",
       "        }#T_197de_row0_col2,#T_197de_row4_col1{\n",
       "            width:  10em;\n",
       "             height:  80%;\n",
       "            background:  linear-gradient(90deg,#d65f5f 100.0%, transparent 100.0%);\n",
       "        }#T_197de_row1_col1{\n",
       "            width:  10em;\n",
       "             height:  80%;\n",
       "            background:  linear-gradient(90deg,#d65f5f 39.5%, transparent 39.5%);\n",
       "        }#T_197de_row1_col2{\n",
       "            width:  10em;\n",
       "             height:  80%;\n",
       "            background:  linear-gradient(90deg,#d65f5f 48.6%, transparent 48.6%);\n",
       "        }#T_197de_row2_col1{\n",
       "            width:  10em;\n",
       "             height:  80%;\n",
       "            background:  linear-gradient(90deg,#d65f5f 81.1%, transparent 81.1%);\n",
       "        }#T_197de_row2_col2,#T_197de_row3_col2{\n",
       "            width:  10em;\n",
       "             height:  80%;\n",
       "            background:  linear-gradient(90deg,#d65f5f 33.9%, transparent 33.9%);\n",
       "        }#T_197de_row3_col1{\n",
       "            width:  10em;\n",
       "             height:  80%;\n",
       "            background:  linear-gradient(90deg,#d65f5f 46.1%, transparent 46.1%);\n",
       "        }#T_197de_row4_col2{\n",
       "            width:  10em;\n",
       "             height:  80%;\n",
       "            background:  linear-gradient(90deg,#d65f5f 12.1%, transparent 12.1%);\n",
       "        }#T_197de_row5_col1{\n",
       "            width:  10em;\n",
       "             height:  80%;\n",
       "            background:  linear-gradient(90deg,#d65f5f 0.8%, transparent 0.8%);\n",
       "        }#T_197de_row5_col2{\n",
       "            width:  10em;\n",
       "             height:  80%;\n",
       "            background:  linear-gradient(90deg,#d65f5f 5.5%, transparent 5.5%);\n",
       "        }#T_197de_row6_col1{\n",
       "            width:  10em;\n",
       "             height:  80%;\n",
       "            background:  linear-gradient(90deg,#d65f5f 6.6%, transparent 6.6%);\n",
       "        }#T_197de_row6_col2,#T_197de_row7_col2{\n",
       "            width:  10em;\n",
       "             height:  80%;\n",
       "            background:  linear-gradient(90deg,#d65f5f 0.9%, transparent 0.9%);\n",
       "        }#T_197de_row7_col1{\n",
       "            width:  10em;\n",
       "             height:  80%;\n",
       "            background:  linear-gradient(90deg,#d65f5f 2.2%, transparent 2.2%);\n",
       "        }#T_197de_row8_col1,#T_197de_row8_col2{\n",
       "            width:  10em;\n",
       "             height:  80%;\n",
       "        }</style><table id=\"T_197de_\" ><thead>    <tr>        <th class=\"blank level0\" ></th>        <th class=\"col_heading level0 col0\" >hypothesis</th>        <th class=\"col_heading level0 col1\" >ice</th>        <th class=\"col_heading level0 col2\" >rice</th>        <th class=\"col_heading level0 col3\" >reach</th>    </tr></thead><tbody>\n",
       "                <tr>\n",
       "                        <th id=\"T_197de_level0_row0\" class=\"row_heading level0 row0\" >0</th>\n",
       "                        <td id=\"T_197de_row0_col0\" class=\"data row0 col0\" >Добавить форму подписки на все основные страницы, чтобы собрать базу клиентов для email-рассылок</td>\n",
       "                        <td id=\"T_197de_row0_col1\" class=\"data row0 col1\" >11.200000</td>\n",
       "                        <td id=\"T_197de_row0_col2\" class=\"data row0 col2\" >112.000000</td>\n",
       "                        <td id=\"T_197de_row0_col3\" class=\"data row0 col3\" >10</td>\n",
       "            </tr>\n",
       "            <tr>\n",
       "                        <th id=\"T_197de_level0_row1\" class=\"row_heading level0 row1\" >1</th>\n",
       "                        <td id=\"T_197de_row1_col0\" class=\"data row1 col0\" >Добавить блоки рекомендаций товаров на сайт интернет магазина, чтобы повысить конверсию и средний чек заказа</td>\n",
       "                        <td id=\"T_197de_row1_col1\" class=\"data row1 col1\" >7.000000</td>\n",
       "                        <td id=\"T_197de_row1_col2\" class=\"data row1 col2\" >56.000000</td>\n",
       "                        <td id=\"T_197de_row1_col3\" class=\"data row1 col3\" >8</td>\n",
       "            </tr>\n",
       "            <tr>\n",
       "                        <th id=\"T_197de_level0_row2\" class=\"row_heading level0 row2\" >2</th>\n",
       "                        <td id=\"T_197de_row2_col0\" class=\"data row2 col0\" >Добавить два новых канала привлечения трафика, что позволит привлекать на 30% больше пользователей</td>\n",
       "                        <td id=\"T_197de_row2_col1\" class=\"data row2 col1\" >13.330000</td>\n",
       "                        <td id=\"T_197de_row2_col2\" class=\"data row2 col2\" >40.000000</td>\n",
       "                        <td id=\"T_197de_row2_col3\" class=\"data row2 col3\" >3</td>\n",
       "            </tr>\n",
       "            <tr>\n",
       "                        <th id=\"T_197de_level0_row3\" class=\"row_heading level0 row3\" >3</th>\n",
       "                        <td id=\"T_197de_row3_col0\" class=\"data row3 col0\" >Показать на главной странице баннеры с актуальными акциями и распродажами, чтобы увеличить конверсию</td>\n",
       "                        <td id=\"T_197de_row3_col1\" class=\"data row3 col1\" >8.000000</td>\n",
       "                        <td id=\"T_197de_row3_col2\" class=\"data row3 col2\" >40.000000</td>\n",
       "                        <td id=\"T_197de_row3_col3\" class=\"data row3 col3\" >5</td>\n",
       "            </tr>\n",
       "            <tr>\n",
       "                        <th id=\"T_197de_level0_row4\" class=\"row_heading level0 row4\" >4</th>\n",
       "                        <td id=\"T_197de_row4_col0\" class=\"data row4 col0\" >Запустить акцию, дающую скидку на товар в день рождения</td>\n",
       "                        <td id=\"T_197de_row4_col1\" class=\"data row4 col1\" >16.200000</td>\n",
       "                        <td id=\"T_197de_row4_col2\" class=\"data row4 col2\" >16.200000</td>\n",
       "                        <td id=\"T_197de_row4_col3\" class=\"data row4 col3\" >1</td>\n",
       "            </tr>\n",
       "            <tr>\n",
       "                        <th id=\"T_197de_level0_row5\" class=\"row_heading level0 row5\" >5</th>\n",
       "                        <td id=\"T_197de_row5_col0\" class=\"data row5 col0\" >Изменить структура категорий, что увеличит конверсию, т.к. пользователи быстрее найдут нужный товар</td>\n",
       "                        <td id=\"T_197de_row5_col1\" class=\"data row5 col1\" >1.120000</td>\n",
       "                        <td id=\"T_197de_row5_col2\" class=\"data row5 col2\" >9.000000</td>\n",
       "                        <td id=\"T_197de_row5_col3\" class=\"data row5 col3\" >8</td>\n",
       "            </tr>\n",
       "            <tr>\n",
       "                        <th id=\"T_197de_level0_row6\" class=\"row_heading level0 row6\" >6</th>\n",
       "                        <td id=\"T_197de_row6_col0\" class=\"data row6 col0\" >Запустить собственную службу доставки, что сократит срок доставки заказов</td>\n",
       "                        <td id=\"T_197de_row6_col1\" class=\"data row6 col1\" >2.000000</td>\n",
       "                        <td id=\"T_197de_row6_col2\" class=\"data row6 col2\" >4.000000</td>\n",
       "                        <td id=\"T_197de_row6_col3\" class=\"data row6 col3\" >2</td>\n",
       "            </tr>\n",
       "            <tr>\n",
       "                        <th id=\"T_197de_level0_row7\" class=\"row_heading level0 row7\" >7</th>\n",
       "                        <td id=\"T_197de_row7_col0\" class=\"data row7 col0\" >Добавить страницу отзывов клиентов о магазине, что позволит увеличить количество заказов</td>\n",
       "                        <td id=\"T_197de_row7_col1\" class=\"data row7 col1\" >1.330000</td>\n",
       "                        <td id=\"T_197de_row7_col2\" class=\"data row7 col2\" >4.000000</td>\n",
       "                        <td id=\"T_197de_row7_col3\" class=\"data row7 col3\" >3</td>\n",
       "            </tr>\n",
       "            <tr>\n",
       "                        <th id=\"T_197de_level0_row8\" class=\"row_heading level0 row8\" >8</th>\n",
       "                        <td id=\"T_197de_row8_col0\" class=\"data row8 col0\" >Изменить цвет фона главной страницы, чтобы увеличить вовлеченность пользователей</td>\n",
       "                        <td id=\"T_197de_row8_col1\" class=\"data row8 col1\" >1.000000</td>\n",
       "                        <td id=\"T_197de_row8_col2\" class=\"data row8 col2\" >3.000000</td>\n",
       "                        <td id=\"T_197de_row8_col3\" class=\"data row8 col3\" >3</td>\n",
       "            </tr>\n",
       "    </tbody></table>"
      ],
      "text/plain": [
       "<pandas.io.formats.style.Styler at 0x7fb1fb5519a0>"
      ]
     },
     "execution_count": 12,
     "metadata": {},
     "output_type": "execute_result"
    }
   ],
   "source": [
    "compare_df.style.bar(subset=['ice', 'rice'], color='#d65f5f')"
   ]
  },
  {
   "cell_type": "code",
   "execution_count": 13,
   "id": "57f96b07",
   "metadata": {},
   "outputs": [
    {
     "name": "stdout",
     "output_type": "stream",
     "text": [
      "Первые три гипотезы приоритезированные по методу ICE: \n",
      " - Запустить акцию, дающую скидку на товар в день рождения\n",
      " - Добавить два новых канала привлечения трафика, что позволит привлекать на 30% больше пользователей\n",
      " - Добавить форму подписки на все основные страницы, чтобы собрать базу клиентов для email-рассылок\n",
      "\n",
      "Первые три гипотезы приоритезированные по методу RICE: \n",
      " - Добавить форму подписки на все основные страницы, чтобы собрать базу клиентов для email-рассылок\n",
      " - Добавить блоки рекомендаций товаров на сайт интернет магазина, чтобы повысить конверсию и средний чек заказа\n",
      " - Добавить два новых канала привлечения трафика, что позволит привлекать на 30% больше пользователей\n"
     ]
    }
   ],
   "source": [
    "a = list(df_ice['hypothesis'].head(3))\n",
    "print('Первые три гипотезы приоритезированные по методу ICE:', '\\n -','\\n - '.join(map(str,a)))\n",
    "print('')\n",
    "b = list(df_rice['hypothesis'].head(3))\n",
    "print('Первые три гипотезы приоритезированные по методу RICE:', '\\n -','\\n - '.join(map(str,b)))"
   ]
  },
  {
   "cell_type": "markdown",
   "id": "0b918774",
   "metadata": {},
   "source": [
    "## Выводы:\n",
    "В зависимости от применяемого метода, приоритизация гипотез меняется. Это происходит из-за того, что в методе RICE появляется дополнительный множитель - 'reach'('охват'). И чем больше значение этого множителя, тем более высокий итоговый балл получит данная гипоттеза."
   ]
  },
  {
   "cell_type": "markdown",
   "id": "b6ff3dfd",
   "metadata": {},
   "source": [
    "# Часть 2. Анализ A/B-теста"
   ]
  },
  {
   "cell_type": "markdown",
   "id": "ac0482bd",
   "metadata": {},
   "source": [
    "По заданию мы имеем результаты проведенного А/В тестирования в интернет - магазине. Необходимо провести анализ результатов и предоставить выводы."
   ]
  },
  {
   "cell_type": "markdown",
   "id": "3f050bf1",
   "metadata": {},
   "source": [
    "### Описание файлов с данными с результатами А/В-теста:"
   ]
  },
  {
   "cell_type": "markdown",
   "id": "83892bd6",
   "metadata": {},
   "source": [
    "файл orders:\n",
    "- transactionId — идентификатор заказа;\n",
    "- visitorId — идентификатор пользователя, совершившего заказ;\n",
    "- date — дата, когда был совершён заказ;\n",
    "- revenue — выручка заказа;\n",
    "- group — группа A/B-теста, в которую попал заказ.\n",
    "\n",
    "файл visitors:\n",
    "- date — дата;\n",
    "- group — группа A/B-теста;\n",
    "- visitors — количество пользователей в указанную дату в указанной группе A/B-теста"
   ]
  },
  {
   "cell_type": "markdown",
   "id": "2393bd4f",
   "metadata": {},
   "source": [
    "### 2.1 Выполним проверку таблиц на дубликаты и пропуски"
   ]
  },
  {
   "cell_type": "code",
   "execution_count": 14,
   "id": "2fa6854a",
   "metadata": {},
   "outputs": [
    {
     "name": "stdout",
     "output_type": "stream",
     "text": [
      "Количество задублированных строк в дата сете: 0 шт.\n",
      "\n",
      "Кол-во пропусков в столбеце:   transactionId - 0 шт.   тип данных: int64\n",
      "Кол-во пропусков в столбеце:   visitorId - 0 шт.   тип данных: int64\n",
      "Кол-во пропусков в столбеце:   date - 0 шт.   тип данных: object\n",
      "Кол-во пропусков в столбеце:   revenue - 0 шт.   тип данных: int64\n",
      "Кол-во пропусков в столбеце:   group - 0 шт.   тип данных: object\n",
      "===================================================================\n",
      "Пропусков и дубликатов строк не обнаружено.\n"
     ]
    }
   ],
   "source": [
    "check_dup_nan(orders)"
   ]
  },
  {
   "cell_type": "markdown",
   "id": "71d4ca29",
   "metadata": {},
   "source": [
    "Названия столбцов написаны с применением заглавных букв, исправим это."
   ]
  },
  {
   "cell_type": "code",
   "execution_count": 15,
   "id": "8ceea274",
   "metadata": {},
   "outputs": [
    {
     "name": "stdout",
     "output_type": "stream",
     "text": [
      "Количество задублированных строк в дата сете: 0 шт.\n",
      "\n",
      "Кол-во пропусков в столбеце:   date - 0 шт.   тип данных: object\n",
      "Кол-во пропусков в столбеце:   group - 0 шт.   тип данных: object\n",
      "Кол-во пропусков в столбеце:   visitors - 0 шт.   тип данных: int64\n",
      "===================================================================\n",
      "Пропусков и дубликатов строк не обнаружено.\n"
     ]
    }
   ],
   "source": [
    "check_dup_nan(visitors)"
   ]
  },
  {
   "cell_type": "markdown",
   "id": "16f05b3e",
   "metadata": {},
   "source": [
    "### 2.2 Приведем заголовки таблиц к \"красивому\" виду."
   ]
  },
  {
   "cell_type": "code",
   "execution_count": 16,
   "id": "3c4f88aa",
   "metadata": {},
   "outputs": [
    {
     "data": {
      "text/html": [
       "<div>\n",
       "<style scoped>\n",
       "    .dataframe tbody tr th:only-of-type {\n",
       "        vertical-align: middle;\n",
       "    }\n",
       "\n",
       "    .dataframe tbody tr th {\n",
       "        vertical-align: top;\n",
       "    }\n",
       "\n",
       "    .dataframe thead th {\n",
       "        text-align: right;\n",
       "    }\n",
       "</style>\n",
       "<table border=\"1\" class=\"dataframe\">\n",
       "  <thead>\n",
       "    <tr style=\"text-align: right;\">\n",
       "      <th></th>\n",
       "      <th>transaction_id</th>\n",
       "      <th>visitor_id</th>\n",
       "      <th>date</th>\n",
       "      <th>revenue</th>\n",
       "      <th>group</th>\n",
       "    </tr>\n",
       "  </thead>\n",
       "  <tbody>\n",
       "    <tr>\n",
       "      <th>0</th>\n",
       "      <td>3667963787</td>\n",
       "      <td>3312258926</td>\n",
       "      <td>2019-08-15</td>\n",
       "      <td>1650</td>\n",
       "      <td>B</td>\n",
       "    </tr>\n",
       "    <tr>\n",
       "      <th>1</th>\n",
       "      <td>2804400009</td>\n",
       "      <td>3642806036</td>\n",
       "      <td>2019-08-15</td>\n",
       "      <td>730</td>\n",
       "      <td>B</td>\n",
       "    </tr>\n",
       "    <tr>\n",
       "      <th>2</th>\n",
       "      <td>2961555356</td>\n",
       "      <td>4069496402</td>\n",
       "      <td>2019-08-15</td>\n",
       "      <td>400</td>\n",
       "      <td>A</td>\n",
       "    </tr>\n",
       "    <tr>\n",
       "      <th>3</th>\n",
       "      <td>3797467345</td>\n",
       "      <td>1196621759</td>\n",
       "      <td>2019-08-15</td>\n",
       "      <td>9759</td>\n",
       "      <td>B</td>\n",
       "    </tr>\n",
       "    <tr>\n",
       "      <th>4</th>\n",
       "      <td>2282983706</td>\n",
       "      <td>2322279887</td>\n",
       "      <td>2019-08-15</td>\n",
       "      <td>2308</td>\n",
       "      <td>B</td>\n",
       "    </tr>\n",
       "  </tbody>\n",
       "</table>\n",
       "</div>"
      ],
      "text/plain": [
       "   transaction_id  visitor_id        date  revenue group\n",
       "0      3667963787  3312258926  2019-08-15     1650     B\n",
       "1      2804400009  3642806036  2019-08-15      730     B\n",
       "2      2961555356  4069496402  2019-08-15      400     A\n",
       "3      3797467345  1196621759  2019-08-15     9759     B\n",
       "4      2282983706  2322279887  2019-08-15     2308     B"
      ]
     },
     "execution_count": 16,
     "metadata": {},
     "output_type": "execute_result"
    }
   ],
   "source": [
    "columns_ok(orders)\n",
    "orders.head()"
   ]
  },
  {
   "cell_type": "markdown",
   "id": "8a2b1dfa",
   "metadata": {},
   "source": [
    "### Определим количество групп в тесте."
   ]
  },
  {
   "cell_type": "code",
   "execution_count": 17,
   "id": "72d5c32b",
   "metadata": {},
   "outputs": [
    {
     "data": {
      "text/plain": [
       "array(['A', 'B'], dtype=object)"
      ]
     },
     "execution_count": 17,
     "metadata": {},
     "output_type": "execute_result"
    }
   ],
   "source": [
    "visitors['group'].unique()"
   ]
  },
  {
   "cell_type": "code",
   "execution_count": 18,
   "id": "211c48ba",
   "metadata": {},
   "outputs": [
    {
     "data": {
      "text/plain": [
       "array(['B', 'A'], dtype=object)"
      ]
     },
     "execution_count": 18,
     "metadata": {},
     "output_type": "execute_result"
    }
   ],
   "source": [
    "orders['group'].unique()"
   ]
  },
  {
   "cell_type": "markdown",
   "id": "77ec6526",
   "metadata": {},
   "source": [
    "Количество групп учавствующих в тесте - 2 шт."
   ]
  },
  {
   "cell_type": "markdown",
   "id": "bd0f6de1",
   "metadata": {},
   "source": [
    "### Определим дату начала и окончания теста."
   ]
  },
  {
   "cell_type": "code",
   "execution_count": 19,
   "id": "6433af22",
   "metadata": {},
   "outputs": [
    {
     "data": {
      "text/plain": [
       "'2019-08-31'"
      ]
     },
     "execution_count": 19,
     "metadata": {},
     "output_type": "execute_result"
    }
   ],
   "source": [
    "orders['date'].max()"
   ]
  },
  {
   "cell_type": "code",
   "execution_count": 20,
   "id": "c196269f",
   "metadata": {},
   "outputs": [
    {
     "data": {
      "text/plain": [
       "'2019-08-31'"
      ]
     },
     "execution_count": 20,
     "metadata": {},
     "output_type": "execute_result"
    }
   ],
   "source": [
    "visitors['date'].max()"
   ]
  },
  {
   "cell_type": "code",
   "execution_count": 21,
   "id": "f657ee37",
   "metadata": {},
   "outputs": [
    {
     "data": {
      "text/plain": [
       "'2019-08-01'"
      ]
     },
     "execution_count": 21,
     "metadata": {},
     "output_type": "execute_result"
    }
   ],
   "source": [
    "orders['date'].min()"
   ]
  },
  {
   "cell_type": "code",
   "execution_count": 22,
   "id": "888f9c25",
   "metadata": {},
   "outputs": [
    {
     "data": {
      "text/plain": [
       "'2019-08-01'"
      ]
     },
     "execution_count": 22,
     "metadata": {},
     "output_type": "execute_result"
    }
   ],
   "source": [
    "visitors['date'].min()"
   ]
  },
  {
   "cell_type": "markdown",
   "id": "74781a56",
   "metadata": {},
   "source": [
    "Максимальные и минимальные даты в обоих дата сетах совпадают."
   ]
  },
  {
   "cell_type": "code",
   "execution_count": 23,
   "id": "eb128ea5",
   "metadata": {},
   "outputs": [
    {
     "name": "stdout",
     "output_type": "stream",
     "text": [
      "Дата начала теста: 2019-08-01\n",
      "Дата окончания теста: 2019-08-31\n"
     ]
    }
   ],
   "source": [
    "print('Дата начала теста:',orders['date'].min())\n",
    "print('Дата окончания теста:',orders['date'].max())"
   ]
  },
  {
   "cell_type": "markdown",
   "id": "87bb3cd6",
   "metadata": {},
   "source": [
    "### Определим количество пользователей в каждой группе."
   ]
  },
  {
   "cell_type": "code",
   "execution_count": 24,
   "id": "9866728e",
   "metadata": {},
   "outputs": [
    {
     "data": {
      "text/plain": [
       "Index(['transaction_id', 'visitor_id', 'date', 'revenue', 'group'], dtype='object')"
      ]
     },
     "execution_count": 24,
     "metadata": {},
     "output_type": "execute_result"
    }
   ],
   "source": [
    "orders.columns"
   ]
  },
  {
   "cell_type": "code",
   "execution_count": 25,
   "id": "5f513c67",
   "metadata": {},
   "outputs": [
    {
     "name": "stdout",
     "output_type": "stream",
     "text": [
      "Кол-во уникальных пользователей в группе \"А\": 503\n",
      "Кол-во уникальных пользователей в группе \"В\": 586\n"
     ]
    }
   ],
   "source": [
    "print('Кол-во уникальных пользователей в группе \"А\":', orders[orders['group'] == 'A']['visitor_id'].nunique())\n",
    "print('Кол-во уникальных пользователей в группе \"В\":', orders[orders['group'] == 'B']['visitor_id'].nunique())"
   ]
  },
  {
   "cell_type": "markdown",
   "id": "52df0d70",
   "metadata": {},
   "source": [
    "### Определим не попадают ли одни и теже пользователи в обе группы."
   ]
  },
  {
   "cell_type": "code",
   "execution_count": 26,
   "id": "12196861",
   "metadata": {},
   "outputs": [],
   "source": [
    "# Напишем функцию которая сравнивает поэлементно два списка, списки это уникальные пользователи группы А и В\n",
    "\n",
    "def check(l1, l2, print_list=False):\n",
    "    list_duplicates = []\n",
    "    for nums in l1:\n",
    "        if nums in l2:\n",
    "            if print_list:\n",
    "                print(nums)\n",
    "            list_duplicates.append(nums)\n",
    "    return list_duplicates"
   ]
  },
  {
   "cell_type": "code",
   "execution_count": 27,
   "id": "32de512e",
   "metadata": {},
   "outputs": [
    {
     "name": "stdout",
     "output_type": "stream",
     "text": [
      "1\n",
      "2\n",
      "10\n"
     ]
    },
    {
     "data": {
      "text/plain": [
       "[1, 2, 10]"
      ]
     },
     "execution_count": 27,
     "metadata": {},
     "output_type": "execute_result"
    }
   ],
   "source": [
    "# проверим функцию\n",
    "\n",
    "a = np.array([1,2,3,10], int)\n",
    "b = np.array([4,2,1,7,8,9,10], int)\n",
    "\n",
    "check(a, b, True)"
   ]
  },
  {
   "cell_type": "code",
   "execution_count": 28,
   "id": "82d68d46",
   "metadata": {},
   "outputs": [
    {
     "name": "stdout",
     "output_type": "stream",
     "text": [
      "Количество дубликатов: 58\n"
     ]
    }
   ],
   "source": [
    "g_a = orders[orders['group'] == 'A']['visitor_id'].unique()\n",
    "g_b = orders[orders['group'] == 'B']['visitor_id'].unique()\n",
    "\n",
    "list_d = check(g_a, g_b)\n",
    "print('Количество дубликатов:',len(list_d))"
   ]
  },
  {
   "cell_type": "markdown",
   "id": "b634f28b",
   "metadata": {},
   "source": [
    "Т.к. мы имеем 58 человек которые попали в обе группы, то мы должны их удалить из исследования. Нельзя делать выводы при наличии задублированных пользователях, т.к. мы не сможем определить на основе каких именно предоставленных данных эти пользователи сделали свой выбор. \n",
    "Удалим из данных пользователей, которые попали в обе группы."
   ]
  },
  {
   "cell_type": "code",
   "execution_count": 29,
   "id": "33d20bb4",
   "metadata": {},
   "outputs": [
    {
     "name": "stdout",
     "output_type": "stream",
     "text": [
      "Кол-во уникальных пользователей в группе \"А\" в исходных данных: 503\n",
      "Кол-во уникальных пользователей в группе \"А\" после фильтрации: 445\n",
      "Разница: 58\n",
      "\n",
      "Кол-во уникальных пользователей в группе \"В\": 586\n",
      "Кол-во уникальных пользователей в группе \"B\" после фильтрации: 528\n",
      "Разница: 58\n"
     ]
    }
   ],
   "source": [
    "print('Кол-во уникальных пользователей в группе \"А\" в исходных данных:', orders[orders['group'] == 'A']['visitor_id'].nunique())\n",
    "orders_filter = orders[np.logical_not(orders['visitor_id'].isin(list_d))]\n",
    "print('Кол-во уникальных пользователей в группе \"А\" после фильтрации:', orders_filter[orders_filter['group'] == 'A']['visitor_id'].nunique())\n",
    "print('Разница:',orders[orders['group'] == 'A']['visitor_id'].nunique() - orders_filter[orders_filter['group'] == 'A']['visitor_id'].nunique())\n",
    "print('')\n",
    "print('Кол-во уникальных пользователей в группе \"В\":', orders[orders['group'] == 'B']['visitor_id'].nunique())\n",
    "print('Кол-во уникальных пользователей в группе \"B\" после фильтрации:', orders_filter[orders_filter['group'] == 'B']['visitor_id'].nunique())\n",
    "print('Разница:', orders[orders['group'] == 'B']['visitor_id'].nunique() - orders_filter[orders_filter['group'] == 'B']['visitor_id'].nunique())"
   ]
  },
  {
   "cell_type": "markdown",
   "id": "3402bfea",
   "metadata": {},
   "source": [
    "Для простоты использования заменим исходный датасет orders на исправленный без дубликатов orders_filter."
   ]
  },
  {
   "cell_type": "code",
   "execution_count": 30,
   "id": "563ad1ae",
   "metadata": {},
   "outputs": [],
   "source": [
    "orders = orders_filter"
   ]
  },
  {
   "cell_type": "markdown",
   "id": "fd917a57",
   "metadata": {},
   "source": [
    "### 2.3 Соберем таблицы для работы с кумулятивными данными."
   ]
  },
  {
   "cell_type": "code",
   "execution_count": 31,
   "id": "ccdd3532",
   "metadata": {},
   "outputs": [],
   "source": [
    "# т.к. отметки даты имеют формат объектный, то откорректируем формат даты в исходных данных\n",
    "orders['date'] = orders['date'].map(lambda x: dt.datetime.strptime(x, '%Y-%m-%d'))\n",
    "visitors['date'] = visitors['date'].map(lambda x: dt.datetime.strptime(x, '%Y-%m-%d'))"
   ]
  },
  {
   "cell_type": "markdown",
   "id": "e077cbc5",
   "metadata": {},
   "source": [
    "#### 2.3.1 Создадим массив уникальных пар значений дат и групп теста методом drop_duplicates():"
   ]
  },
  {
   "cell_type": "code",
   "execution_count": 32,
   "id": "80070fb1",
   "metadata": {},
   "outputs": [],
   "source": [
    "# создаем массив уникальных пар значений дат и групп теста\n",
    "dates_groups = orders[['date','group']].drop_duplicates()"
   ]
  },
  {
   "cell_type": "code",
   "execution_count": 33,
   "id": "46717e86",
   "metadata": {},
   "outputs": [],
   "source": [
    "orders_aggregated = dates_groups.apply(lambda x: orders[np.logical_and(orders['date'] <= x['date'], orders['group'] == x['group'])]\\\n",
    ".agg({'date' : 'max', 'group' : 'max', 'transaction_id' : 'nunique', 'visitor_id' : 'nunique', 'revenue' : 'sum'}), axis=1).sort_values(by=['date','group'])"
   ]
  },
  {
   "cell_type": "code",
   "execution_count": 34,
   "id": "093b4a37",
   "metadata": {},
   "outputs": [],
   "source": [
    "visitors_aggregated = dates_groups.apply(lambda x: visitors[np.logical_and(visitors['date'] <= x['date'], visitors['group'] == x['group'])]\n",
    ".agg({'date' : 'max', 'group' : 'max', 'visitors' : 'sum'}), axis=1).sort_values(by=['date','group'])"
   ]
  },
  {
   "cell_type": "markdown",
   "id": "80b35e82",
   "metadata": {},
   "source": [
    "#### 2.3.2 Объеденим таблицы"
   ]
  },
  {
   "cell_type": "code",
   "execution_count": 35,
   "id": "03efbc3a",
   "metadata": {},
   "outputs": [
    {
     "data": {
      "text/html": [
       "<div>\n",
       "<style scoped>\n",
       "    .dataframe tbody tr th:only-of-type {\n",
       "        vertical-align: middle;\n",
       "    }\n",
       "\n",
       "    .dataframe tbody tr th {\n",
       "        vertical-align: top;\n",
       "    }\n",
       "\n",
       "    .dataframe thead th {\n",
       "        text-align: right;\n",
       "    }\n",
       "</style>\n",
       "<table border=\"1\" class=\"dataframe\">\n",
       "  <thead>\n",
       "    <tr style=\"text-align: right;\">\n",
       "      <th></th>\n",
       "      <th>date</th>\n",
       "      <th>group</th>\n",
       "      <th>orders</th>\n",
       "      <th>buyers</th>\n",
       "      <th>revenue</th>\n",
       "      <th>visitors</th>\n",
       "    </tr>\n",
       "  </thead>\n",
       "  <tbody>\n",
       "    <tr>\n",
       "      <th>0</th>\n",
       "      <td>2019-08-01</td>\n",
       "      <td>A</td>\n",
       "      <td>23</td>\n",
       "      <td>19</td>\n",
       "      <td>142779</td>\n",
       "      <td>719</td>\n",
       "    </tr>\n",
       "    <tr>\n",
       "      <th>1</th>\n",
       "      <td>2019-08-01</td>\n",
       "      <td>B</td>\n",
       "      <td>17</td>\n",
       "      <td>17</td>\n",
       "      <td>59758</td>\n",
       "      <td>713</td>\n",
       "    </tr>\n",
       "    <tr>\n",
       "      <th>2</th>\n",
       "      <td>2019-08-02</td>\n",
       "      <td>A</td>\n",
       "      <td>42</td>\n",
       "      <td>36</td>\n",
       "      <td>234381</td>\n",
       "      <td>1338</td>\n",
       "    </tr>\n",
       "    <tr>\n",
       "      <th>3</th>\n",
       "      <td>2019-08-02</td>\n",
       "      <td>B</td>\n",
       "      <td>40</td>\n",
       "      <td>39</td>\n",
       "      <td>221801</td>\n",
       "      <td>1294</td>\n",
       "    </tr>\n",
       "    <tr>\n",
       "      <th>4</th>\n",
       "      <td>2019-08-03</td>\n",
       "      <td>A</td>\n",
       "      <td>66</td>\n",
       "      <td>60</td>\n",
       "      <td>346854</td>\n",
       "      <td>1845</td>\n",
       "    </tr>\n",
       "  </tbody>\n",
       "</table>\n",
       "</div>"
      ],
      "text/plain": [
       "        date group  orders  buyers  revenue  visitors\n",
       "0 2019-08-01     A      23      19   142779       719\n",
       "1 2019-08-01     B      17      17    59758       713\n",
       "2 2019-08-02     A      42      36   234381      1338\n",
       "3 2019-08-02     B      40      39   221801      1294\n",
       "4 2019-08-03     A      66      60   346854      1845"
      ]
     },
     "execution_count": 35,
     "metadata": {},
     "output_type": "execute_result"
    }
   ],
   "source": [
    "# объединяем кумулятивные данные в одной таблице и присваиваем ее столбцам понятные названия\n",
    "cumulative_data = orders_aggregated.merge(visitors_aggregated, left_on=['date', 'group'], right_on=['date', 'group'])\n",
    "cumulative_data.columns = ['date', 'group', 'orders', 'buyers', 'revenue', 'visitors']\n",
    "\n",
    "cumulative_data.head(5)"
   ]
  },
  {
   "cell_type": "markdown",
   "id": "d58e910b",
   "metadata": {},
   "source": [
    "### 2.4 Построим графики кумулятивной выручки по дням и группам A/B-тестирования."
   ]
  },
  {
   "cell_type": "code",
   "execution_count": 36,
   "id": "ac42ef1a",
   "metadata": {
    "scrolled": true
   },
   "outputs": [
    {
     "data": {
      "image/png": "[encoded data removed]",
      "text/plain": [
       "<Figure size 432x288 with 1 Axes>"
      ]
     },
     "metadata": {
      "needs_background": "light"
     },
     "output_type": "display_data"
    }
   ],
   "source": [
    "#import matplotlib.pyplot as plt\n",
    "\n",
    "# датафрейм с кумулятивным количеством заказов и кумулятивной выручкой по дням в группе А\n",
    "cumulative_revenue_a = cumulative_data[cumulative_data['group']=='A'][['date','revenue', 'orders']]\n",
    "\n",
    "# датафрейм с кумулятивным количеством заказов и кумулятивной выручкой по дням в группе B\n",
    "cumulative_revenue_b = cumulative_data[cumulative_data['group']=='B'][['date','revenue', 'orders']]\n",
    "\n",
    "# Строим график выручки группы А\n",
    "plt.plot(cumulative_revenue_a['date'], cumulative_revenue_a['revenue'], label='A')\n",
    "\n",
    "# Строим график выручки группы B\n",
    "plt.plot(cumulative_revenue_b['date'], cumulative_revenue_b['revenue'], label='B')\n",
    "\n",
    "plt.suptitle('График кумулятивной выручки по группам A/B-тестирования.') #применил для того что бы получить отступ от графика в одну строку\n",
    "plt.xlabel('Дата')\n",
    "plt.ylabel('Комулятивная выручка')\n",
    "plt.xticks(rotation=60)\n",
    "plt.legend()\n",
    "\n",
    "plt.show()"
   ]
  },
  {
   "cell_type": "markdown",
   "id": "3cf633b6",
   "metadata": {},
   "source": [
    "<div class=\"alert alert-info\" role=\"alert\">\n",
    "<h2>Комментарий студента<a class=\"tocSkip\"></h2>\n",
    "\n",
    "### Новый вывод.\n",
    "График выручки группы А достаточно стабильно растет. Наблюдается один незначительный скачок 13-08-2019. График группы В имеет более выраженные скачки, например - сразу после 05-08-2019 и после 13-08-2019. Так же наблюдается один большой скачок после 17-08-2019. Такие скачки могут говорить о том, что в этих точках резко вырасло число заказов или о наличии в этих точках очень дорогих заказов.\n",
    "    </div>"
   ]
  },
  {
   "cell_type": "markdown",
   "id": "316595eb",
   "metadata": {},
   "source": [
    "График выручки группы А имеет незначительные скачки в середине срока исследования и ближе к концу. График группы В имеет сильный скачок. Такие скачки могут говорить о том, что в этих точках резко вырасло число заказов или о наличии в этих точках очень дорогих заказов."
   ]
  },
  {
   "cell_type": "markdown",
   "id": "f83cdf80",
   "metadata": {},
   "source": [
    "### 2.5 Построим график кумулятивного среднего чека по группам. "
   ]
  },
  {
   "cell_type": "code",
   "execution_count": 37,
   "id": "1ffff228",
   "metadata": {},
   "outputs": [
    {
     "data": {
      "image/png": "[encoded data removed]",
      "text/plain": [
       "<Figure size 432x288 with 1 Axes>"
      ]
     },
     "metadata": {
      "needs_background": "light"
     },
     "output_type": "display_data"
    }
   ],
   "source": [
    "plt.plot(cumulative_revenue_a['date'], cumulative_revenue_a['revenue']/cumulative_revenue_a['orders'], label='A')\n",
    "plt.plot(cumulative_revenue_b['date'], cumulative_revenue_b['revenue']/cumulative_revenue_b['orders'], label='B')\n",
    "\n",
    "plt.title('График кумулятивного среднего чека по группам.')\n",
    "plt.xlabel('Дата')\n",
    "plt.ylabel('Значение среднего чека')\n",
    "plt.xticks(rotation=60)\n",
    "plt.legend()\n",
    "\n",
    "plt.show()"
   ]
  },
  {
   "cell_type": "markdown",
   "id": "a02d389f",
   "metadata": {},
   "source": [
    "Средний чек имеет большое колличество скачков, что по группе А, что по группе В. Так же присутствует самый большой скачок после 17-08-2019 по группе В, который наблюдался в графике по выручке. Это все говорит о наличии крупных заказов в данных."
   ]
  },
  {
   "cell_type": "markdown",
   "id": "efbf886e",
   "metadata": {},
   "source": [
    "### 2.6 Построим график относительного изменения кумулятивного среднего чека группы B к группе A."
   ]
  },
  {
   "cell_type": "code",
   "execution_count": 38,
   "id": "dd68c4a8",
   "metadata": {},
   "outputs": [
    {
     "data": {
      "image/png": "[encoded data removed]",
      "text/plain": [
       "<Figure size 432x288 with 1 Axes>"
      ]
     },
     "metadata": {
      "needs_background": "light"
     },
     "output_type": "display_data"
    }
   ],
   "source": [
    "# собираем данные в одном датафрейме\n",
    "merged_cumulative_revenue = cumulative_revenue_a.merge(cumulative_revenue_b, left_on='date', right_on='date', how='left', suffixes=['A', 'B'])\n",
    "\n",
    "# cтроим отношение средних чеков\n",
    "plt.plot(merged_cumulative_revenue['date'], (merged_cumulative_revenue['revenueB']/merged_cumulative_revenue['ordersB'])/(merged_cumulative_revenue['revenueA']/merged_cumulative_revenue['ordersA'])-1)\n",
    "\n",
    "# добавляем ось X\n",
    "plt.axhline(y=0, color='black', linestyle='--')\n",
    "\n",
    "plt.title('График относительного изменения кумулятивного среднего чека группы B к группе A.')\n",
    "plt.xlabel('Дата')\n",
    "plt.ylabel('Относительное изменение')\n",
    "plt.xticks(rotation=60)\n",
    "#plt.legend()\n",
    "\n",
    "plt.show()"
   ]
  },
  {
   "cell_type": "markdown",
   "id": "32fe00db",
   "metadata": {},
   "source": [
    "На графике видны резкие скачки, это так же может говорить о наличии выбросов в данных."
   ]
  },
  {
   "cell_type": "markdown",
   "id": "4c1e24ba",
   "metadata": {},
   "source": [
    "### 2.7 Построим график кумулятивной конверсии по группам."
   ]
  },
  {
   "cell_type": "code",
   "execution_count": 39,
   "id": "4535ce9f",
   "metadata": {
    "scrolled": true
   },
   "outputs": [
    {
     "data": {
      "image/png": "[encoded data removed]",
      "text/plain": [
       "<Figure size 432x288 with 1 Axes>"
      ]
     },
     "metadata": {
      "needs_background": "light"
     },
     "output_type": "display_data"
    }
   ],
   "source": [
    "# считаем кумулятивную конверсию\n",
    "cumulative_data['conversion'] = cumulative_data['orders']/cumulative_data['visitors']\n",
    "\n",
    "# отделяем данные по группе A\n",
    "cumulative_data_a = cumulative_data[cumulative_data['group']=='A']\n",
    "\n",
    "# отделяем данные по группе B\n",
    "cumulative_data_b = cumulative_data[cumulative_data['group']=='B']\n",
    "\n",
    "# строим графики\n",
    "plt.plot(cumulative_data_a['date'], cumulative_data_a['conversion'], label='A')\n",
    "plt.plot(cumulative_data_b['date'], cumulative_data_b['conversion'], label='B')\n",
    "plt.legend()\n",
    "\n",
    "date_max = cumulative_data['date'].max()\n",
    "date_min = cumulative_data['date'].min()\n",
    "\n",
    "# задаем масштаб осей\n",
    "plt.axis([date_min, date_max, 0.0235, 0.036])\n",
    "\n",
    "plt.title('График кумулятивной конверсии по группам.')\n",
    "plt.xlabel('Дата')\n",
    "plt.ylabel('Конверсия')\n",
    "plt.xticks(rotation=60)\n",
    "plt.legend()\n",
    "\n",
    "plt.show()\n",
    "\n",
    "#print(date_min, date_max)"
   ]
  },
  {
   "cell_type": "markdown",
   "id": "71c07ddd",
   "metadata": {},
   "source": [
    "График получился не симметричным. Возмозно на это влияют выбросы в данных, которые создают \"шумы\". Конверсия группы В больше. Так же можно Заметить, что ближе к концу теста конверсия \"сглаживается\"."
   ]
  },
  {
   "cell_type": "markdown",
   "id": "f9ae509b",
   "metadata": {},
   "source": [
    "### 2.8 Построим график относительного изменения кумулятивной конверсии группы B к группе A."
   ]
  },
  {
   "cell_type": "code",
   "execution_count": 40,
   "id": "73315f52",
   "metadata": {},
   "outputs": [
    {
     "data": {
      "image/png": "[encoded data removed]",
      "text/plain": [
       "<Figure size 432x288 with 1 Axes>"
      ]
     },
     "metadata": {
      "needs_background": "light"
     },
     "output_type": "display_data"
    }
   ],
   "source": [
    "merged_cumulative_conversions = cumulative_data_a[['date','conversion']].merge(cumulative_data_b[['date','conversion']], left_on='date', right_on='date', how='left', suffixes=['A', 'B'])\n",
    "merged_cumulative_conversions.columns = ['date', 'conversion_a', 'conversion_b']\n",
    "plt.plot(merged_cumulative_conversions['date'], merged_cumulative_conversions['conversion_b']/merged_cumulative_conversions['conversion_a']-1, label=\"Относительный прирост конверсии группы B относительно группы A\")\n",
    "plt.legend()\n",
    "\n",
    "plt.axhline(y=0, color='black', linestyle='--')\n",
    "plt.axhline(y=0.158, color='grey', linestyle='--')\n",
    "plt.axis([date_min, date_max, -0.25, 0.25])\n",
    "\n",
    "plt.title('График относительного изменения кумулятивной конверсии группы B к группе A.')\n",
    "plt.xlabel('Дата')\n",
    "plt.ylabel('Относительное изменение')\n",
    "plt.xticks(rotation=60)\n",
    "plt.legend()\n",
    "#plt.grid()\n",
    "plt.grid(axis='x')\n",
    "plt.show()"
   ]
  },
  {
   "cell_type": "markdown",
   "id": "0d70a268",
   "metadata": {},
   "source": [
    "### 2.9 Построим точечный график количества заказов по пользователям."
   ]
  },
  {
   "cell_type": "code",
   "execution_count": 41,
   "id": "3fc44442",
   "metadata": {},
   "outputs": [],
   "source": [
    "#data.head()"
   ]
  },
  {
   "cell_type": "code",
   "execution_count": 42,
   "id": "28be0c24",
   "metadata": {},
   "outputs": [
    {
     "data": {
      "text/html": [
       "<div>\n",
       "<style scoped>\n",
       "    .dataframe tbody tr th:only-of-type {\n",
       "        vertical-align: middle;\n",
       "    }\n",
       "\n",
       "    .dataframe tbody tr th {\n",
       "        vertical-align: top;\n",
       "    }\n",
       "\n",
       "    .dataframe thead th {\n",
       "        text-align: right;\n",
       "    }\n",
       "</style>\n",
       "<table border=\"1\" class=\"dataframe\">\n",
       "  <thead>\n",
       "    <tr style=\"text-align: right;\">\n",
       "      <th></th>\n",
       "      <th>visitor_id</th>\n",
       "      <th>orders</th>\n",
       "    </tr>\n",
       "  </thead>\n",
       "  <tbody>\n",
       "    <tr>\n",
       "      <th>0</th>\n",
       "      <td>3967698036</td>\n",
       "      <td>3</td>\n",
       "    </tr>\n",
       "    <tr>\n",
       "      <th>1</th>\n",
       "      <td>249864742</td>\n",
       "      <td>3</td>\n",
       "    </tr>\n",
       "    <tr>\n",
       "      <th>2</th>\n",
       "      <td>2108163459</td>\n",
       "      <td>3</td>\n",
       "    </tr>\n",
       "    <tr>\n",
       "      <th>3</th>\n",
       "      <td>2988190573</td>\n",
       "      <td>3</td>\n",
       "    </tr>\n",
       "    <tr>\n",
       "      <th>4</th>\n",
       "      <td>3908431265</td>\n",
       "      <td>3</td>\n",
       "    </tr>\n",
       "  </tbody>\n",
       "</table>\n",
       "</div>"
      ],
      "text/plain": [
       "   visitor_id  orders\n",
       "0  3967698036       3\n",
       "1   249864742       3\n",
       "2  2108163459       3\n",
       "3  2988190573       3\n",
       "4  3908431265       3"
      ]
     },
     "execution_count": 42,
     "metadata": {},
     "output_type": "execute_result"
    }
   ],
   "source": [
    "# получим таблицу с общим количеством заказов на одного уникального пользователя\n",
    "orders_by_users = (\n",
    "    orders.groupby('visitor_id', as_index=False)\n",
    "    .agg({'transaction_id': 'nunique'})\n",
    ")\n",
    "\n",
    "orders_by_users.columns = ['visitor_id', 'orders']\n",
    "\n",
    "orders_by_users.sort_values(by='orders', ascending=False, ignore_index=True).head()"
   ]
  },
  {
   "cell_type": "code",
   "execution_count": 43,
   "id": "f5d44e41",
   "metadata": {},
   "outputs": [
    {
     "data": {
      "image/png": "[encoded data removed]",
      "text/plain": [
       "<Figure size 432x288 with 1 Axes>"
      ]
     },
     "metadata": {
      "needs_background": "light"
     },
     "output_type": "display_data"
    }
   ],
   "source": [
    "# Построим гистрограмму распределения количества заказов на одного пользователя.\n",
    "\n",
    "plt.hist(orders_by_users['orders'])\n",
    "plt.title('Гистрограмма распределения количества заказов на одного пользователя')\n",
    "plt.xlabel('Значение')\n",
    "plt.ylabel('Количество')\n",
    "plt.xticks(rotation=60)\n",
    "#plt.legend()\n",
    "#plt.grid()\n",
    "#plt.grid(axis='x')\n",
    "plt.show()"
   ]
  },
  {
   "cell_type": "markdown",
   "id": "ecffabf4",
   "metadata": {},
   "source": [
    "Большая часть покупателей заказали только один раз, но доля заказавших 2-4 раза тоже значительна. Так же есть пользователи сделавшие 11 заказов. Построим точечную диаграмму числа заказов на одного пользователя."
   ]
  },
  {
   "cell_type": "markdown",
   "id": "d743b62d",
   "metadata": {},
   "source": [
    "<div class=\"alert alert-info\" role=\"alert\">\n",
    "<h2>Комментарий студента<a class=\"tocSkip\"></h2>\n",
    "\n",
    "### Новый вывод.\n",
    "Большая часть покупателей заказали только один раз, но доля заказавших 2-3 раза тоже значительна. Построим точечную диаграмму числа заказов на одного пользователя.    </div>"
   ]
  },
  {
   "cell_type": "code",
   "execution_count": 44,
   "id": "89124fe6",
   "metadata": {
    "scrolled": true
   },
   "outputs": [
    {
     "data": {
      "image/png": "[encoded data removed]",
      "text/plain": [
       "<Figure size 432x288 with 1 Axes>"
      ]
     },
     "metadata": {
      "needs_background": "light"
     },
     "output_type": "display_data"
    }
   ],
   "source": [
    "# построим точечную диаграмму числа заказов на одного пользователя.\n",
    "x_values = pd.Series(range(0,len(orders_by_users)))\n",
    "\n",
    "plt.scatter(x_values, orders_by_users['orders'])\n",
    "\n",
    "plt.title('Точечная диаграмму числа заказов на одного пользователя')\n",
    "plt.xlabel('Значение')\n",
    "plt.ylabel('Количество заказов')\n",
    "plt.xticks(rotation=60)\n",
    "#plt.legend()\n",
    "#plt.grid()\n",
    "#plt.grid(axis='x')\n",
    "plt.show()"
   ]
  },
  {
   "cell_type": "markdown",
   "id": "0b529f5e",
   "metadata": {},
   "source": [
    "По графику можно судить что большая часть пользователей сделала одиин заказ, далее доля пользователей сделавших 2 заказа и далее три. Доля пользователей сделавших 4 и более заказов минимальны но пока не понятно каковы эти доли в общем объеме заказов."
   ]
  },
  {
   "cell_type": "markdown",
   "id": "9cabc955",
   "metadata": {},
   "source": [
    "<div class=\"alert alert-info\" role=\"alert\">\n",
    "<h2>Комментарий студента<a class=\"tocSkip\"></h2>\n",
    "\n",
    "### Новый вывод.\n",
    "По графику можно судить что большая часть пользователей сделала одиин заказ, далее доля пользователей сделавших 2 заказа и далее три.\n",
    "    </div>"
   ]
  },
  {
   "cell_type": "markdown",
   "id": "752fda04",
   "metadata": {},
   "source": [
    "### 2.10 Посчитаем 95-й и 99-й перцентили количества заказов на пользователя. Определим границу для определения аномальных пользователей."
   ]
  },
  {
   "cell_type": "code",
   "execution_count": 45,
   "id": "a0d721b1",
   "metadata": {},
   "outputs": [
    {
     "name": "stdout",
     "output_type": "stream",
     "text": [
      "[1. 2.]\n"
     ]
    }
   ],
   "source": [
    "# Определим перцентили количества заказов на одного пользователя:\n",
    "print(np.percentile(orders_by_users['orders'], [95, 99]))"
   ]
  },
  {
   "cell_type": "markdown",
   "id": "57a376a3",
   "metadata": {},
   "source": [
    "Выходит , что не более 5% пользователей оформляли заказ больше чем 2 раза. И не более 1% пользователей оформляли заказ больше чем 4 раза. Даже по графику можно увидеть, что пользователи оформлявшие заказ более двух раз достаточно редки. По этому считаю, что можно выбрать два заказа на одного пользователя за нижнюю границу числа заказов, и отсеять аномальных пользователей по ней."
   ]
  },
  {
   "cell_type": "markdown",
   "id": "2927a99e",
   "metadata": {},
   "source": [
    "<div class=\"alert alert-info\" role=\"alert\">\n",
    "<h2>Комментарий студента<a class=\"tocSkip\"></h2>\n",
    "\n",
    "### Новый вывод.\n",
    "Выходит , что не более 5% пользователей оформляли заказ больше чем 1 раз. И не более 1% пользователей оформляли заказ больше чем 2 раза. Даже по графику можно увидеть, что пользователи оформлявшие заказ два и более раз достаточно редки. По этому считаю, что можно выбрать один заказ на одного пользователя за нижнюю границу числа заказов, и отсеять аномальных пользователей по ней.\n",
    "    </div>"
   ]
  },
  {
   "cell_type": "markdown",
   "id": "db4d8738",
   "metadata": {},
   "source": [
    "### 2.11 Построим точечный график стоимостей заказов. "
   ]
  },
  {
   "cell_type": "markdown",
   "id": "09ab734e",
   "metadata": {},
   "source": [
    "Для начала посмотрим на гистограмму распределения стоимости заказов."
   ]
  },
  {
   "cell_type": "markdown",
   "id": "6fe4be0c",
   "metadata": {},
   "source": []
  },
  {
   "cell_type": "code",
   "execution_count": 46,
   "id": "9a244afa",
   "metadata": {},
   "outputs": [
    {
     "data": {
      "image/png": "[encoded data removed]",
      "text/plain": [
       "<Figure size 432x288 with 1 Axes>"
      ]
     },
     "metadata": {
      "needs_background": "light"
     },
     "output_type": "display_data"
    }
   ],
   "source": [
    "plt.hist(orders['revenue'], bins=100)\n",
    "\n",
    "plt.title('Гистрограмма стоимости заказов на одного пользователя')\n",
    "plt.xlabel('Значение стоимости')\n",
    "plt.ylabel('Количество заказов')\n",
    "plt.xticks(rotation=60)\n",
    "#plt.legend()\n",
    "#plt.grid()\n",
    "plt.show()"
   ]
  },
  {
   "cell_type": "markdown",
   "id": "fda64bb7",
   "metadata": {},
   "source": [
    "Получается не очень информативно, можно лишь сказать, что большая часть заказов находится до 1Е5. \n",
    "\n",
    "Построим точечную диаграмму стоимости заказов на одного пользователя."
   ]
  },
  {
   "cell_type": "markdown",
   "id": "2e65de73",
   "metadata": {},
   "source": [
    "<div class=\"alert alert-info\" role=\"alert\">\n",
    "<h2>Комментарий студента<a class=\"tocSkip\"></h2>\n",
    "\n",
    "### Новый вывод.\n",
    "Доработаем график увеличив количество корзин до 100. Видно что больая часть заказов стремится к минимальной цене, но наличие в данных дорогих заказов не дает рассмотреть график. Построим точечную диаграмму стоимости заказов на одного пользователя.\n",
    "    </div>"
   ]
  },
  {
   "cell_type": "code",
   "execution_count": 47,
   "id": "b5262ca7",
   "metadata": {},
   "outputs": [
    {
     "data": {
      "image/png": "[encoded data removed]",
      "text/plain": [
       "<Figure size 432x288 with 1 Axes>"
      ]
     },
     "metadata": {
      "needs_background": "light"
     },
     "output_type": "display_data"
    }
   ],
   "source": [
    "data = orders\n",
    "x_values = pd.Series(range(0,len(data['revenue'])))\n",
    "plt.scatter(x_values, data['revenue'])\n",
    "\n",
    "plt.suptitle('Точечная диаграмма стоимости заказов на одного пользователя')\n",
    "plt.xlabel('Количество заказов')\n",
    "plt.ylabel('Значение стоимости')\n",
    "plt.xticks(rotation=60)\n",
    "#plt.legend()\n",
    "#plt.grid()\n",
    "#plt.grid(axis='x')\n",
    "plt.show()"
   ]
  },
  {
   "cell_type": "markdown",
   "id": "5e18c2d2",
   "metadata": {},
   "source": [
    "Вот теперь точно видно, что есть один аномально большой заказ стоимостью более 1,2Е6 и еще один не такой но все же выбивающийся из общего числа - 0,2Е6."
   ]
  },
  {
   "cell_type": "code",
   "execution_count": 48,
   "id": "992f1ba8",
   "metadata": {
    "scrolled": false
   },
   "outputs": [
    {
     "data": {
      "image/png": "[encoded data removed]",
      "text/plain": [
       "<Figure size 1080x432 with 2 Axes>"
      ]
     },
     "metadata": {
      "needs_background": "light"
     },
     "output_type": "display_data"
    }
   ],
   "source": [
    "# Построим два графика: первый по всем данным, второй по очищенным\n",
    "# для очищенных данных отфильтруем все заказы менее 200000\n",
    "\n",
    "plt.figure(figsize=(15, 6))\n",
    "\n",
    "ax1 = plt.subplot(1, 2, 1)\n",
    "x_values = pd.Series(range(0,len(data['revenue'])))\n",
    "plt.scatter(x_values, data['revenue'])\n",
    "plt.xlabel('Количество заказов')\n",
    "plt.ylabel('Стоимость заказов')\n",
    "plt.suptitle('Точечные диаграммы стоимости заказов на одного пользователя')\n",
    "plt.title('По грязным данным')\n",
    "\n",
    "ax2 = plt.subplot(1, 2, 2)\n",
    "x_values = pd.Series(range(0,len(data['revenue'][data['revenue'] < 200000])))\n",
    "plt.scatter(x_values, data['revenue'][data['revenue'] < 200000])\n",
    "\n",
    "plt.xlabel('Количество заказов')\n",
    "plt.title('По чистым данным')\n",
    "\n",
    "plt.tight_layout()\n",
    "plt.show()"
   ]
  },
  {
   "cell_type": "markdown",
   "id": "85244d8a",
   "metadata": {},
   "source": [
    "### 2.12 Посчитаем 95-й и 99-й перцентили стоимости заказов. Определим границу для определения аномальных заказов."
   ]
  },
  {
   "cell_type": "code",
   "execution_count": 49,
   "id": "ed35bd6c",
   "metadata": {},
   "outputs": [
    {
     "name": "stdout",
     "output_type": "stream",
     "text": [
      "[26785. 53904.]\n"
     ]
    }
   ],
   "source": [
    "# Определим перцентили стоимости заказов на одного пользователя:\n",
    "print(np.percentile(data['revenue'], [95,99]))"
   ]
  },
  {
   "cell_type": "markdown",
   "id": "ef6a674a",
   "metadata": {},
   "source": [
    "Не более 5% заказов дороже 28000 и не более 1% заказов дороже 58233,2. Я предполагаю, что можно отбросить заказы дороже 28000, т.к. выше приведенный график показывает хорошую кучность и близость заказов к отметке 0,05."
   ]
  },
  {
   "cell_type": "markdown",
   "id": "fa409efb",
   "metadata": {},
   "source": [
    "<div class=\"alert alert-info\" role=\"alert\">\n",
    "<h2>Комментарий студента<a class=\"tocSkip\"></h2>\n",
    "\n",
    "### Новый вывод.\n",
    "Не более 5% заказов дороже 26785 и не более 1% заказов дороже 53904. Я предполагаю, что можно отбросить заказы дороже 26785 т.к. выше приведенный график по чистым данным показывает, что большая часть заказов лежит ниже отметки 30000.\n",
    "    </div>"
   ]
  },
  {
   "cell_type": "markdown",
   "id": "584174e7",
   "metadata": {},
   "source": [
    "### 2.13 Определим статистическую значимость различий в конверсии между группами по «сырым» данным."
   ]
  },
  {
   "cell_type": "markdown",
   "id": "1b7b6d25",
   "metadata": {},
   "source": [
    "#### Сформулируем гипотезы. \n",
    "<b>Нулевая</b>: различий в конверсии между группами нет. <b>Альтернативная</b>: различия в конверсии между группами есть."
   ]
  },
  {
   "cell_type": "code",
   "execution_count": 50,
   "id": "662cf1db",
   "metadata": {},
   "outputs": [
    {
     "data": {
      "text/html": [
       "<div>\n",
       "<style scoped>\n",
       "    .dataframe tbody tr th:only-of-type {\n",
       "        vertical-align: middle;\n",
       "    }\n",
       "\n",
       "    .dataframe tbody tr th {\n",
       "        vertical-align: top;\n",
       "    }\n",
       "\n",
       "    .dataframe thead th {\n",
       "        text-align: right;\n",
       "    }\n",
       "</style>\n",
       "<table border=\"1\" class=\"dataframe\">\n",
       "  <thead>\n",
       "    <tr style=\"text-align: right;\">\n",
       "      <th></th>\n",
       "      <th>date</th>\n",
       "      <th>orders_per_date_a</th>\n",
       "      <th>revenue_per_date_a</th>\n",
       "      <th>orders_per_date_b</th>\n",
       "      <th>revenue_per_date_b</th>\n",
       "      <th>orders_cummulative_a</th>\n",
       "      <th>revenue_cummulative_a</th>\n",
       "      <th>orders_cummulative_b</th>\n",
       "      <th>revenue_cummulative_b</th>\n",
       "      <th>visitors_per_date_a</th>\n",
       "      <th>visitors_per_date_b</th>\n",
       "      <th>visitors_cummulative_a_x</th>\n",
       "      <th>visitors_cummulative_a_y</th>\n",
       "    </tr>\n",
       "  </thead>\n",
       "  <tbody>\n",
       "    <tr>\n",
       "      <th>0</th>\n",
       "      <td>2019-08-01</td>\n",
       "      <td>23</td>\n",
       "      <td>142779</td>\n",
       "      <td>17</td>\n",
       "      <td>59758</td>\n",
       "      <td>23</td>\n",
       "      <td>142779</td>\n",
       "      <td>17</td>\n",
       "      <td>59758</td>\n",
       "      <td>719</td>\n",
       "      <td>713</td>\n",
       "      <td>719</td>\n",
       "      <td>713</td>\n",
       "    </tr>\n",
       "    <tr>\n",
       "      <th>1</th>\n",
       "      <td>2019-08-02</td>\n",
       "      <td>19</td>\n",
       "      <td>91602</td>\n",
       "      <td>23</td>\n",
       "      <td>162043</td>\n",
       "      <td>42</td>\n",
       "      <td>234381</td>\n",
       "      <td>40</td>\n",
       "      <td>221801</td>\n",
       "      <td>619</td>\n",
       "      <td>581</td>\n",
       "      <td>1338</td>\n",
       "      <td>1294</td>\n",
       "    </tr>\n",
       "    <tr>\n",
       "      <th>2</th>\n",
       "      <td>2019-08-03</td>\n",
       "      <td>24</td>\n",
       "      <td>112473</td>\n",
       "      <td>14</td>\n",
       "      <td>67049</td>\n",
       "      <td>66</td>\n",
       "      <td>346854</td>\n",
       "      <td>54</td>\n",
       "      <td>288850</td>\n",
       "      <td>507</td>\n",
       "      <td>509</td>\n",
       "      <td>1845</td>\n",
       "      <td>1803</td>\n",
       "    </tr>\n",
       "    <tr>\n",
       "      <th>3</th>\n",
       "      <td>2019-08-04</td>\n",
       "      <td>11</td>\n",
       "      <td>41176</td>\n",
       "      <td>14</td>\n",
       "      <td>96890</td>\n",
       "      <td>77</td>\n",
       "      <td>388030</td>\n",
       "      <td>68</td>\n",
       "      <td>385740</td>\n",
       "      <td>717</td>\n",
       "      <td>770</td>\n",
       "      <td>2562</td>\n",
       "      <td>2573</td>\n",
       "    </tr>\n",
       "    <tr>\n",
       "      <th>4</th>\n",
       "      <td>2019-08-05</td>\n",
       "      <td>22</td>\n",
       "      <td>86383</td>\n",
       "      <td>21</td>\n",
       "      <td>89908</td>\n",
       "      <td>99</td>\n",
       "      <td>474413</td>\n",
       "      <td>89</td>\n",
       "      <td>475648</td>\n",
       "      <td>756</td>\n",
       "      <td>707</td>\n",
       "      <td>3318</td>\n",
       "      <td>3280</td>\n",
       "    </tr>\n",
       "  </tbody>\n",
       "</table>\n",
       "</div>"
      ],
      "text/plain": [
       "        date  orders_per_date_a  revenue_per_date_a  orders_per_date_b  \\\n",
       "0 2019-08-01                 23              142779                 17   \n",
       "1 2019-08-02                 19               91602                 23   \n",
       "2 2019-08-03                 24              112473                 14   \n",
       "3 2019-08-04                 11               41176                 14   \n",
       "4 2019-08-05                 22               86383                 21   \n",
       "\n",
       "   revenue_per_date_b  orders_cummulative_a  revenue_cummulative_a  \\\n",
       "0               59758                    23                 142779   \n",
       "1              162043                    42                 234381   \n",
       "2               67049                    66                 346854   \n",
       "3               96890                    77                 388030   \n",
       "4               89908                    99                 474413   \n",
       "\n",
       "   orders_cummulative_b  revenue_cummulative_b  visitors_per_date_a  \\\n",
       "0                    17                  59758                  719   \n",
       "1                    40                 221801                  619   \n",
       "2                    54                 288850                  507   \n",
       "3                    68                 385740                  717   \n",
       "4                    89                 475648                  756   \n",
       "\n",
       "   visitors_per_date_b  visitors_cummulative_a_x  visitors_cummulative_a_y  \n",
       "0                  713                       719                       713  \n",
       "1                  581                      1338                      1294  \n",
       "2                  509                      1845                      1803  \n",
       "3                  770                      2562                      2573  \n",
       "4                  707                      3318                      3280  "
      ]
     },
     "execution_count": 50,
     "metadata": {},
     "output_type": "execute_result"
    }
   ],
   "source": [
    "visitors_a_daily = visitors[visitors['group'] == 'A'][['date', 'visitors']]\n",
    "visitors_a_daily.columns = ['date', 'visitors_per_date_a']\n",
    "\n",
    "visitors_a_cummulative = visitors_a_daily.apply(\n",
    "    lambda x: visitors_a_daily[visitors_a_daily['date'] <= x['date']].agg(\n",
    "        {'date': 'max', 'visitors_per_date_a': 'sum'}\n",
    "    ),\n",
    "    axis=1,\n",
    ")\n",
    "visitors_a_cummulative.columns = ['date', 'visitors_cummulative_a']\n",
    "\n",
    "visitors_b_daily = visitors[visitors['group'] == 'B'][['date', 'visitors']]\n",
    "visitors_b_daily.columns = ['date', 'visitors_per_date_b']\n",
    "\n",
    "visitors_b_cummulative = visitors_b_daily.apply(\n",
    "    lambda x: visitors_b_daily[visitors_b_daily['date'] <= x['date']].agg(\n",
    "        {'date': 'max', 'visitors_per_date_b': 'sum'}\n",
    "    ),\n",
    "    axis=1,\n",
    ")\n",
    "visitors_b_cummulative.columns = ['date', 'visitors_cummulative_a']\n",
    "\n",
    "orders_a_daily = (\n",
    "    orders[orders['group'] == 'A'][['date', 'transaction_id', 'visitor_id', 'revenue']]\n",
    "    .groupby('date', as_index=False)\n",
    "    .agg({'transaction_id': pd.Series.nunique, 'revenue': 'sum'})\n",
    ")\n",
    "orders_a_daily.columns = ['date', 'orders_per_date_a', 'revenue_per_date_a']\n",
    "\n",
    "orders_a_cummulative = orders_a_daily.apply(\n",
    "    lambda x: orders_a_daily[orders_a_daily['date'] <= x['date']].agg(\n",
    "        {'date': 'max', 'orders_per_date_a': 'sum', 'revenue_per_date_a': 'sum'}\n",
    "    ),\n",
    "    axis=1,\n",
    ").sort_values(by=['date'])\n",
    "orders_a_cummulative.columns = [\n",
    "    'date',\n",
    "    'orders_cummulative_a',\n",
    "    'revenue_cummulative_a',\n",
    "]\n",
    "\n",
    "orders_b_daily = (\n",
    "    orders[orders['group'] == 'B'][['date', 'transaction_id', 'visitor_id', 'revenue']]\n",
    "    .groupby('date', as_index=False)\n",
    "    .agg({'transaction_id': pd.Series.nunique, 'revenue': 'sum'})\n",
    ")\n",
    "orders_b_daily.columns = ['date', 'orders_per_date_b', 'revenue_per_date_b']\n",
    "\n",
    "orders_b_cummulative = orders_b_daily.apply(\n",
    "    lambda x: orders_b_daily[orders_b_daily['date'] <= x['date']].agg(\n",
    "        {'date': 'max', 'orders_per_date_b': 'sum', 'revenue_per_date_b': 'sum'}\n",
    "    ),\n",
    "    axis=1,\n",
    ").sort_values(by=['date'])\n",
    "orders_b_cummulative.columns = [\n",
    "    'date',\n",
    "    'orders_cummulative_b',\n",
    "    'revenue_cummulative_b',\n",
    "]\n",
    "\n",
    "data = (\n",
    "    orders_a_daily.merge(\n",
    "        orders_b_daily, left_on='date', right_on='date', how='left'\n",
    "    )\n",
    "    .merge(orders_a_cummulative, left_on='date', right_on='date', how='left')\n",
    "    .merge(orders_b_cummulative, left_on='date', right_on='date', how='left')\n",
    "    .merge(visitors_a_daily, left_on='date', right_on='date', how='left')\n",
    "    .merge(visitors_b_daily, left_on='date', right_on='date', how='left')\n",
    "    .merge(visitors_a_cummulative, left_on='date', right_on='date', how='left')\n",
    "    .merge(visitors_b_cummulative, left_on='date', right_on='date', how='left')\n",
    ")\n",
    "\n",
    "data.head()"
   ]
  },
  {
   "cell_type": "code",
   "execution_count": 51,
   "id": "ff3ba88d",
   "metadata": {},
   "outputs": [
    {
     "data": {
      "text/html": [
       "<div>\n",
       "<style scoped>\n",
       "    .dataframe tbody tr th:only-of-type {\n",
       "        vertical-align: middle;\n",
       "    }\n",
       "\n",
       "    .dataframe tbody tr th {\n",
       "        vertical-align: top;\n",
       "    }\n",
       "\n",
       "    .dataframe thead th {\n",
       "        text-align: right;\n",
       "    }\n",
       "</style>\n",
       "<table border=\"1\" class=\"dataframe\">\n",
       "  <thead>\n",
       "    <tr style=\"text-align: right;\">\n",
       "      <th></th>\n",
       "      <th>date</th>\n",
       "      <th>group</th>\n",
       "      <th>orders</th>\n",
       "      <th>buyers</th>\n",
       "      <th>revenue</th>\n",
       "      <th>visitors</th>\n",
       "      <th>conversion</th>\n",
       "    </tr>\n",
       "  </thead>\n",
       "  <tbody>\n",
       "    <tr>\n",
       "      <th>0</th>\n",
       "      <td>2019-08-01</td>\n",
       "      <td>A</td>\n",
       "      <td>23</td>\n",
       "      <td>19</td>\n",
       "      <td>142779</td>\n",
       "      <td>719</td>\n",
       "      <td>0.031989</td>\n",
       "    </tr>\n",
       "    <tr>\n",
       "      <th>2</th>\n",
       "      <td>2019-08-02</td>\n",
       "      <td>A</td>\n",
       "      <td>42</td>\n",
       "      <td>36</td>\n",
       "      <td>234381</td>\n",
       "      <td>1338</td>\n",
       "      <td>0.031390</td>\n",
       "    </tr>\n",
       "    <tr>\n",
       "      <th>4</th>\n",
       "      <td>2019-08-03</td>\n",
       "      <td>A</td>\n",
       "      <td>66</td>\n",
       "      <td>60</td>\n",
       "      <td>346854</td>\n",
       "      <td>1845</td>\n",
       "      <td>0.035772</td>\n",
       "    </tr>\n",
       "    <tr>\n",
       "      <th>6</th>\n",
       "      <td>2019-08-04</td>\n",
       "      <td>A</td>\n",
       "      <td>77</td>\n",
       "      <td>71</td>\n",
       "      <td>388030</td>\n",
       "      <td>2562</td>\n",
       "      <td>0.030055</td>\n",
       "    </tr>\n",
       "    <tr>\n",
       "      <th>8</th>\n",
       "      <td>2019-08-05</td>\n",
       "      <td>A</td>\n",
       "      <td>99</td>\n",
       "      <td>92</td>\n",
       "      <td>474413</td>\n",
       "      <td>3318</td>\n",
       "      <td>0.029837</td>\n",
       "    </tr>\n",
       "  </tbody>\n",
       "</table>\n",
       "</div>"
      ],
      "text/plain": [
       "        date group  orders  buyers  revenue  visitors  conversion\n",
       "0 2019-08-01     A      23      19   142779       719    0.031989\n",
       "2 2019-08-02     A      42      36   234381      1338    0.031390\n",
       "4 2019-08-03     A      66      60   346854      1845    0.035772\n",
       "6 2019-08-04     A      77      71   388030      2562    0.030055\n",
       "8 2019-08-05     A      99      92   474413      3318    0.029837"
      ]
     },
     "execution_count": 51,
     "metadata": {},
     "output_type": "execute_result"
    }
   ],
   "source": [
    "cumulative_data[cumulative_data['group'] == 'A'].head()"
   ]
  },
  {
   "cell_type": "code",
   "execution_count": 52,
   "id": "14561930",
   "metadata": {},
   "outputs": [
    {
     "data": {
      "text/html": [
       "<div>\n",
       "<style scoped>\n",
       "    .dataframe tbody tr th:only-of-type {\n",
       "        vertical-align: middle;\n",
       "    }\n",
       "\n",
       "    .dataframe tbody tr th {\n",
       "        vertical-align: top;\n",
       "    }\n",
       "\n",
       "    .dataframe thead th {\n",
       "        text-align: right;\n",
       "    }\n",
       "</style>\n",
       "<table border=\"1\" class=\"dataframe\">\n",
       "  <thead>\n",
       "    <tr style=\"text-align: right;\">\n",
       "      <th></th>\n",
       "      <th>date</th>\n",
       "      <th>group</th>\n",
       "      <th>orders_cummulative</th>\n",
       "      <th>buyers</th>\n",
       "      <th>revenue_cummulative</th>\n",
       "      <th>visitors_cummulative</th>\n",
       "      <th>conversion</th>\n",
       "    </tr>\n",
       "  </thead>\n",
       "  <tbody>\n",
       "    <tr>\n",
       "      <th>0</th>\n",
       "      <td>2019-08-01</td>\n",
       "      <td>A</td>\n",
       "      <td>23</td>\n",
       "      <td>19</td>\n",
       "      <td>142779</td>\n",
       "      <td>719</td>\n",
       "      <td>0.031989</td>\n",
       "    </tr>\n",
       "    <tr>\n",
       "      <th>1</th>\n",
       "      <td>2019-08-01</td>\n",
       "      <td>B</td>\n",
       "      <td>17</td>\n",
       "      <td>17</td>\n",
       "      <td>59758</td>\n",
       "      <td>713</td>\n",
       "      <td>0.023843</td>\n",
       "    </tr>\n",
       "    <tr>\n",
       "      <th>2</th>\n",
       "      <td>2019-08-02</td>\n",
       "      <td>A</td>\n",
       "      <td>42</td>\n",
       "      <td>36</td>\n",
       "      <td>234381</td>\n",
       "      <td>1338</td>\n",
       "      <td>0.031390</td>\n",
       "    </tr>\n",
       "    <tr>\n",
       "      <th>3</th>\n",
       "      <td>2019-08-02</td>\n",
       "      <td>B</td>\n",
       "      <td>40</td>\n",
       "      <td>39</td>\n",
       "      <td>221801</td>\n",
       "      <td>1294</td>\n",
       "      <td>0.030912</td>\n",
       "    </tr>\n",
       "    <tr>\n",
       "      <th>4</th>\n",
       "      <td>2019-08-03</td>\n",
       "      <td>A</td>\n",
       "      <td>66</td>\n",
       "      <td>60</td>\n",
       "      <td>346854</td>\n",
       "      <td>1845</td>\n",
       "      <td>0.035772</td>\n",
       "    </tr>\n",
       "  </tbody>\n",
       "</table>\n",
       "</div>"
      ],
      "text/plain": [
       "        date group  orders_cummulative  buyers  revenue_cummulative  \\\n",
       "0 2019-08-01     A                  23      19               142779   \n",
       "1 2019-08-01     B                  17      17                59758   \n",
       "2 2019-08-02     A                  42      36               234381   \n",
       "3 2019-08-02     B                  40      39               221801   \n",
       "4 2019-08-03     A                  66      60               346854   \n",
       "\n",
       "   visitors_cummulative  conversion  \n",
       "0                   719    0.031989  \n",
       "1                   713    0.023843  \n",
       "2                  1338    0.031390  \n",
       "3                  1294    0.030912  \n",
       "4                  1845    0.035772  "
      ]
     },
     "execution_count": 52,
     "metadata": {},
     "output_type": "execute_result"
    }
   ],
   "source": [
    "cumulative_data = cumulative_data.rename(columns={'orders': 'orders_cummulative', 'revenue': 'revenue_cummulative', 'visitors': 'visitors_cummulative'})\n",
    "cumulative_data.head()"
   ]
  },
  {
   "cell_type": "markdown",
   "id": "561ed38a",
   "metadata": {},
   "source": [
    "### Обозначения столбцов принятые в таблицы:\n",
    "- date — дата;\n",
    "- orders_per_date_a — количество заказов в выбранную дату в группе A;\n",
    "- revenue_per_date_a — суммарная выручка в выбранную дату в группе A;\n",
    "- orders_per_date_b — количество заказов в выбранную дату в группе B;\n",
    "- revenue_per_date_b — суммарная выручка в выбранную дату в группе B;\n",
    "- orders_cummulative_a — суммарное число заказов до выбранной даты включительно в группе A;\n",
    "- revenue_cummulative_a — суммарная выручка до выбранной даты включительно в группе A;\n",
    "- orders_cummulative_b — суммарное количество заказов до выбранной даты включительно в группе B;\n",
    "- revenue_cummulative_b — суммарная выручка до выбранной даты включительно в группе B;\n",
    "- visitors_per_date_a — количество пользователей в выбранную дату в группе A;\n",
    "- visitors_per_date_b — количество пользователей в выбранную дату в группе B;\n",
    "- visitors_cummulative_a — количество пользователей до выбранной даты включительно в группе A;\n",
    "- visitors_cummulative_b — количество пользователей до выбранной даты включительно в группе B."
   ]
  },
  {
   "cell_type": "markdown",
   "id": "fb3e5386",
   "metadata": {},
   "source": [
    "Для определения статистической значимости различий в конверсии между группами создадим переменные <b>orders_by_users_a</b> и <b>orders_by_users_b</b> со столбцами [<b>'transaction_id', 'orders'</b>]. В них для пользователей, которые заказывали хотя бы 1 раз, укажем число совершённых заказов."
   ]
  },
  {
   "cell_type": "code",
   "execution_count": 53,
   "id": "e81bf983",
   "metadata": {},
   "outputs": [
    {
     "data": {
      "text/html": [
       "<div>\n",
       "<style scoped>\n",
       "    .dataframe tbody tr th:only-of-type {\n",
       "        vertical-align: middle;\n",
       "    }\n",
       "\n",
       "    .dataframe tbody tr th {\n",
       "        vertical-align: top;\n",
       "    }\n",
       "\n",
       "    .dataframe thead th {\n",
       "        text-align: right;\n",
       "    }\n",
       "</style>\n",
       "<table border=\"1\" class=\"dataframe\">\n",
       "  <thead>\n",
       "    <tr style=\"text-align: right;\">\n",
       "      <th></th>\n",
       "      <th>group</th>\n",
       "      <th>visitor_id</th>\n",
       "      <th>orders</th>\n",
       "    </tr>\n",
       "  </thead>\n",
       "  <tbody>\n",
       "    <tr>\n",
       "      <th>0</th>\n",
       "      <td>A</td>\n",
       "      <td>11685486</td>\n",
       "      <td>1</td>\n",
       "    </tr>\n",
       "    <tr>\n",
       "      <th>1</th>\n",
       "      <td>A</td>\n",
       "      <td>54447517</td>\n",
       "      <td>1</td>\n",
       "    </tr>\n",
       "    <tr>\n",
       "      <th>2</th>\n",
       "      <td>A</td>\n",
       "      <td>66685450</td>\n",
       "      <td>1</td>\n",
       "    </tr>\n",
       "    <tr>\n",
       "      <th>3</th>\n",
       "      <td>A</td>\n",
       "      <td>78758296</td>\n",
       "      <td>1</td>\n",
       "    </tr>\n",
       "    <tr>\n",
       "      <th>4</th>\n",
       "      <td>A</td>\n",
       "      <td>85103373</td>\n",
       "      <td>1</td>\n",
       "    </tr>\n",
       "    <tr>\n",
       "      <th>...</th>\n",
       "      <td>...</td>\n",
       "      <td>...</td>\n",
       "      <td>...</td>\n",
       "    </tr>\n",
       "    <tr>\n",
       "      <th>968</th>\n",
       "      <td>B</td>\n",
       "      <td>4251115836</td>\n",
       "      <td>1</td>\n",
       "    </tr>\n",
       "    <tr>\n",
       "      <th>969</th>\n",
       "      <td>B</td>\n",
       "      <td>4258103007</td>\n",
       "      <td>1</td>\n",
       "    </tr>\n",
       "    <tr>\n",
       "      <th>970</th>\n",
       "      <td>B</td>\n",
       "      <td>4279090005</td>\n",
       "      <td>1</td>\n",
       "    </tr>\n",
       "    <tr>\n",
       "      <th>971</th>\n",
       "      <td>B</td>\n",
       "      <td>4281247801</td>\n",
       "      <td>1</td>\n",
       "    </tr>\n",
       "    <tr>\n",
       "      <th>972</th>\n",
       "      <td>B</td>\n",
       "      <td>4283872382</td>\n",
       "      <td>1</td>\n",
       "    </tr>\n",
       "  </tbody>\n",
       "</table>\n",
       "<p>973 rows × 3 columns</p>\n",
       "</div>"
      ],
      "text/plain": [
       "    group  visitor_id  orders\n",
       "0       A    11685486       1\n",
       "1       A    54447517       1\n",
       "2       A    66685450       1\n",
       "3       A    78758296       1\n",
       "4       A    85103373       1\n",
       "..    ...         ...     ...\n",
       "968     B  4251115836       1\n",
       "969     B  4258103007       1\n",
       "970     B  4279090005       1\n",
       "971     B  4281247801       1\n",
       "972     B  4283872382       1\n",
       "\n",
       "[973 rows x 3 columns]"
      ]
     },
     "execution_count": 53,
     "metadata": {},
     "output_type": "execute_result"
    }
   ],
   "source": [
    "temp_t = orders.pivot_table(\n",
    "    values='transaction_id', index=['group','visitor_id'], columns=None, aggfunc='count'\n",
    "    ).reset_index().rename(columns={'transaction_id': 'orders'})\n",
    "temp_t"
   ]
  },
  {
   "cell_type": "code",
   "execution_count": 55,
   "id": "47232908",
   "metadata": {},
   "outputs": [],
   "source": [
    "orders_by_users_a = temp_t[temp_t['group'] == 'A'][['visitor_id','orders']]\n",
    "orders_by_users_b = temp_t[temp_t['group'] == 'B'][['visitor_id','orders']]"
   ]
  },
  {
   "cell_type": "code",
   "execution_count": 56,
   "id": "343c112e",
   "metadata": {},
   "outputs": [
    {
     "name": "stdout",
     "output_type": "stream",
     "text": [
      "p-value = 0.011\n",
      "Cтатистическая значимость различий в конверсии между группами по «сырым» данным = 0.160\n"
     ]
    }
   ],
   "source": [
    "#orders_by_users_a = (\n",
    "#    orders[orders['group'] == 'A']\n",
    "#    .groupby('visitor_id', as_index=False)\n",
    "#    .agg({'transaction_id': pd.Series.nunique})\n",
    "#)\n",
    "#orders_by_users_a.columns = ['visitor_id', 'orders']\n",
    "\n",
    "#orders_by_users_b = (\n",
    "#    orders[orders['group'] == 'B']\n",
    "#    .groupby('visitor_id', as_index=False)\n",
    "#    .agg({'transaction_id': pd.Series.nunique})\n",
    "#)\n",
    "#orders_by_users_b.columns = ['visitor_id', 'orders']\n",
    "\n",
    "sample_a = pd.concat(\n",
    "    [\n",
    "        orders_by_users_a['orders'],\n",
    "        pd.Series(\n",
    "            0,\n",
    "            index=np.arange(\n",
    "                data['visitors_per_date_a'].sum() - len(orders_by_users_a['orders'])\n",
    "            ),\n",
    "            name='orders',\n",
    "        ),\n",
    "    ],\n",
    "    axis=0,\n",
    ")\n",
    "\n",
    "sample_b = pd.concat(\n",
    "    [\n",
    "        orders_by_users_b['orders'],\n",
    "        pd.Series(\n",
    "            0,\n",
    "            index=np.arange(\n",
    "                data['visitors_per_date_b'].sum() - len(orders_by_users_b['orders'])\n",
    "            ),\n",
    "            name='orders',\n",
    "        ),\n",
    "    ],\n",
    "    axis=0,\n",
    ")\n",
    "\n",
    "print(\"p-value = {0:.3f}\".format(stats.mannwhitneyu(sample_a, sample_b)[1]))\n",
    "\n",
    "print(\"Cтатистическая значимость различий в конверсии между группами по «сырым» данным = {0:.3f}\".format(sample_b.mean() / sample_a.mean() - 1))\n",
    " "
   ]
  },
  {
   "cell_type": "markdown",
   "id": "bebc8927",
   "metadata": {},
   "source": [
    "p-value=1.7% что меньше 5% порогового значения. Значит, нулевую гипотезу о том, что статистически значимых различий в конверсии по сырым данным между группами нет, отвергаем. Относительный прирост группы B над группой А составил 13.8%"
   ]
  },
  {
   "cell_type": "markdown",
   "id": "34f9bf2e",
   "metadata": {},
   "source": [
    "<div class=\"alert alert-info\" role=\"alert\">\n",
    "<h2>Комментарий студента<a class=\"tocSkip\"></h2>\n",
    "\n",
    "### Новый вывод.\n",
    "p-value=1.1% что меньше 5% порогового значения. Значит, нулевую гипотезу о том, что статистически значимых различий в конверсии по сырым данным между группами нет, отвергаем. Относительный прирост группы B над группой А составил 16%.\n",
    "</div>"
   ]
  },
  {
   "cell_type": "markdown",
   "id": "b50919fb",
   "metadata": {},
   "source": [
    "### 2.14 Посчитаем статистическую значимость различий в среднем чеке заказа между группами по «сырым» данным."
   ]
  },
  {
   "cell_type": "markdown",
   "id": "414ab6c8",
   "metadata": {},
   "source": [
    "<b>Нулевая гипотеза</b>: различий в среднем чеке между группами нет. <b>Альтернативная гипотеза</b>: различия в среднем чеке между группами есть.\n",
    "\n",
    "Чтобы рассчитать статистическую значимость различий в среднем чеке, передадим критерию mannwhitneyu() данные о выручке с заказов.\n",
    "Найдём относительные различия в среднем чеке между группами:"
   ]
  },
  {
   "cell_type": "code",
   "execution_count": 57,
   "id": "053bc309",
   "metadata": {},
   "outputs": [
    {
     "name": "stdout",
     "output_type": "stream",
     "text": [
      "p-value = 0.829\n",
      "Cтатистическая значимость различий в среднем чеке между группами по «сырым» данным = 0.287\n"
     ]
    }
   ],
   "source": [
    "print('p-value = {0:.3f}'.format(stats.mannwhitneyu(orders[orders['group']=='A']['revenue'], orders[orders['group']=='B']['revenue'])[1]))\n",
    "print('Cтатистическая значимость различий в среднем чеке между группами по «сырым» данным = {0:.3f}'.format(orders[orders['group']=='B']['revenue'].mean()/orders[orders['group']=='A']['revenue'].mean()-1))"
   ]
  },
  {
   "cell_type": "markdown",
   "id": "d54f2532",
   "metadata": {},
   "source": [
    "p-value=72,9% значительно больше 5%. Значит, причин отвергать нулевую гипотезу и считать, что в среднем чеке есть различия, нет. Впрочем, средний чек группы B значительно выше среднего чека группы A."
   ]
  },
  {
   "cell_type": "markdown",
   "id": "e63bec53",
   "metadata": {},
   "source": [
    "<div class=\"alert alert-info\" role=\"alert\">\n",
    "<h2>Комментарий студента<a class=\"tocSkip\"></h2>\n",
    "\n",
    "### Новый вывод.\n",
    "p-value=82,9% значительно больше 5%. Значит, причин отвергать нулевую гипотезу и считать, что в среднем чеке есть различия, нет. Впрочем, средний чек группы B значительно выше среднего чека группы A.\n",
    "    </div>"
   ]
  },
  {
   "cell_type": "markdown",
   "id": "919af2bf",
   "metadata": {},
   "source": [
    "### 2.15 Посчитаем статистическую значимость различий в конверсии между группами по «очищенным» данным."
   ]
  },
  {
   "cell_type": "markdown",
   "id": "3c07eafe",
   "metadata": {},
   "source": [
    "#### 2.15.1 Для начала очистим данные от выбросов."
   ]
  },
  {
   "cell_type": "markdown",
   "id": "2ef4005a",
   "metadata": {},
   "source": [
    "Найденные ранее 95-й и 99-й перцентили средних чеков равны 28000 и 58233,2. А 95-й и 99-й перцентили количества заказов на одного пользователя равны 2 и 4 заказа на пользователя.\n",
    "\n",
    "Примем за аномальных пользователей тех , кто соверщил от 3 заказов и больше. Так же аномальными пользователями будут те, кто соевершил заказ дороже 28000.\n",
    "\n",
    "Сделаем срезы пользователей с числом заказов больше 2 — users_with_many_orders и пользователей, совершивших заказы дороже 28 000 — users_with_expensive_orders. Объединим их в таблице abnormal_users."
   ]
  },
  {
   "cell_type": "code",
   "execution_count": 58,
   "id": "ff9cbc5f",
   "metadata": {},
   "outputs": [
    {
     "name": "stdout",
     "output_type": "stream",
     "text": [
      "71    3967698036\n",
      "72    4003628586\n",
      "73    4009017467\n",
      "74    4133034833\n",
      "75    4278982564\n",
      "Name: visitor_id, dtype: int64\n",
      " \n",
      "Количество аномальных пользователей: 76 шт.\n"
     ]
    }
   ],
   "source": [
    "users_with_many_orders = pd.concat(\n",
    "    [\n",
    "        orders_by_users_a[orders_by_users_a['orders'] > 2]['visitor_id'],\n",
    "        orders_by_users_b[orders_by_users_b['orders'] > 2]['visitor_id'],\n",
    "    ],\n",
    "    axis=0,\n",
    ")\n",
    "users_with_expensive_orders = orders[orders['revenue'] > 20000]['visitor_id']\n",
    "abnormal_users = (\n",
    "    pd.concat([users_with_many_orders, users_with_expensive_orders], axis=0)\n",
    "    .drop_duplicates()\n",
    "    .sort_values(ignore_index=True)\n",
    ")\n",
    "print(abnormal_users.tail(5))\n",
    "print(' ')\n",
    "print('Количество аномальных пользователей:',abnormal_users.shape[0], 'шт.')"
   ]
  },
  {
   "cell_type": "markdown",
   "id": "6e59a623",
   "metadata": {},
   "source": [
    "Мы получили список ID аномальных пользователей, количество которых составляет - 100шт."
   ]
  },
  {
   "cell_type": "markdown",
   "id": "1c99a950",
   "metadata": {},
   "source": [
    "<div class=\"alert alert-info\" role=\"alert\">\n",
    "<h2>Комментарий студента<a class=\"tocSkip\"></h2>\n",
    "\n",
    "### Новый вывод.\n",
    "Мы получили список ID аномальных пользователей, количество которых составляет - 76шт.    </div>"
   ]
  },
  {
   "cell_type": "markdown",
   "id": "b1c3d1c8",
   "metadata": {},
   "source": [
    "#### 2.15.2 Сформулируем гипотезы. \n",
    "<b>Нулевая</b>: различий в конверсии между группами нет. <b>Альтернативная</b>: различия в конверсии между группами есть."
   ]
  },
  {
   "cell_type": "markdown",
   "id": "839bc2c5",
   "metadata": {},
   "source": [
    "Для определения статистической значимости различий в конверсии между группами создадим переменные <b>normal_orders_by_users_a</b> и <b>normal_orders_by_users_b</b> со столбцами [<b>'transaction_id', 'orders'</b>]. В них для пользователей, которые заказывали хотя бы 1 раз, укажем число совершённых заказов."
   ]
  },
  {
   "cell_type": "code",
   "execution_count": 59,
   "id": "75030833",
   "metadata": {},
   "outputs": [
    {
     "name": "stdout",
     "output_type": "stream",
     "text": [
      "p-value = 0.014\n",
      "Cтатистическая значимость различий в конверсии между группами по «очищенным» данным = 0.181\n"
     ]
    }
   ],
   "source": [
    "normal_orders_by_users_a = (\n",
    "    orders[(orders['group'] == 'A') & (~orders['visitor_id'].isin(abnormal_users))]\n",
    "    .groupby('visitor_id', as_index=False)\n",
    "    .agg({'transaction_id': pd.Series.nunique})\n",
    ")\n",
    "normal_orders_by_users_a.columns = ['visitor_id', 'orders']\n",
    "\n",
    "normal_orders_by_users_b = (\n",
    "    orders[(orders['group'] == 'B') & (~orders['visitor_id'].isin(abnormal_users))]\n",
    "    .groupby('visitor_id', as_index=False)\n",
    "    .agg({'transaction_id': pd.Series.nunique})\n",
    ")\n",
    "normal_orders_by_users_b.columns = ['visitor_id', 'orders']\n",
    "\n",
    "sample_a = pd.concat(\n",
    "    [\n",
    "        normal_orders_by_users_a['orders'],\n",
    "        pd.Series(\n",
    "            0,\n",
    "            index=np.arange(\n",
    "                data['visitors_per_date_a'].sum() - len(orders_by_users_a['orders'])\n",
    "            ),\n",
    "            name='orders',\n",
    "        ),\n",
    "    ],\n",
    "    axis=0,\n",
    ")\n",
    "\n",
    "sample_b = pd.concat(\n",
    "    [\n",
    "        normal_orders_by_users_b['orders'],\n",
    "        pd.Series(\n",
    "            0,\n",
    "            index=np.arange(\n",
    "                data['visitors_per_date_b'].sum() - len(orders_by_users_b['orders'])\n",
    "            ),\n",
    "            name='orders',\n",
    "        ),\n",
    "    ],\n",
    "    axis=0,\n",
    ")\n",
    "\n",
    "print(\"p-value = {0:.3f}\".format(stats.mannwhitneyu(sample_a, sample_b)[1]))\n",
    "\n",
    "print(\"Cтатистическая значимость различий в конверсии между группами по «очищенным» данным = {0:.3f}\".format(sample_b.mean() / sample_a.mean() - 1))\n",
    " "
   ]
  },
  {
   "cell_type": "markdown",
   "id": "1fa89d89",
   "metadata": {},
   "source": [
    "p-value=1.8% что меньше 5% порогового значения. Значит, нулевую гипотезу о том, что статистически значимых различий в конверсии между группами нет, отвергаем. Относительный прирост группы B над группой А вырос с 13.8% до 17% после очистки данных."
   ]
  },
  {
   "cell_type": "markdown",
   "id": "eeb0f907",
   "metadata": {},
   "source": [
    "<div class=\"alert alert-info\" role=\"alert\">\n",
    "<h2>Комментарий студента<a class=\"tocSkip\"></h2>\n",
    "\n",
    "### Новый вывод.\n",
    "p-value=1.4% что меньше 5% порогового значения. Значит, нулевую гипотезу о том, что статистически значимых различий в конверсии между группами нет, отвергаем. Относительный прирост группы B над группой А вырос с 13.8% до 18,1% после очистки данных.\n",
    "    </div>"
   ]
  },
  {
   "cell_type": "markdown",
   "id": "63c2a7fa",
   "metadata": {},
   "source": [
    "### 2.16 Посчитаем статистическую значимость различий в среднем чеке заказа между группами по «очищенным» данным."
   ]
  },
  {
   "cell_type": "markdown",
   "id": "716aee38",
   "metadata": {},
   "source": [
    "#### Сформулируем гипотезы. \n",
    "<b>Нулевая</b>: различий в среднем чеке между группами нет. <b>Альтернативная</b>: различия в среднем чеке между группами есть."
   ]
  },
  {
   "cell_type": "code",
   "execution_count": 60,
   "id": "720f0ca9",
   "metadata": {},
   "outputs": [
    {
     "name": "stdout",
     "output_type": "stream",
     "text": [
      "0.617\n",
      "-0.060\n"
     ]
    }
   ],
   "source": [
    "print(\n",
    "    '{0:.3f}'.format(\n",
    "        stats.mannwhitneyu(\n",
    "            orders[\n",
    "                np.logical_and(\n",
    "                    orders['group'] == 'A',\n",
    "                    np.logical_not(orders['visitor_id'].isin(abnormal_users)),\n",
    "                )\n",
    "            ]['revenue'],\n",
    "            orders[\n",
    "                np.logical_and(\n",
    "                    orders['group'] == 'B',\n",
    "                    np.logical_not(orders['visitor_id'].isin(abnormal_users)),\n",
    "                )\n",
    "            ]['revenue'],\n",
    "        )[1]\n",
    "    )\n",
    ")\n",
    "\n",
    "print(\n",
    "    \"{0:.3f}\".format(\n",
    "        orders[\n",
    "            np.logical_and(\n",
    "                orders['group'] == 'B',\n",
    "                np.logical_not(orders['visitor_id'].isin(abnormal_users)),\n",
    "            )\n",
    "        ]['revenue'].mean()\n",
    "        / orders[\n",
    "            np.logical_and(\n",
    "                orders['group'] == 'A',\n",
    "                np.logical_not(orders['visitor_id'].isin(abnormal_users)),\n",
    "            )\n",
    "        ]['revenue'].mean()\n",
    "        - 1\n",
    "    )\n",
    ")"
   ]
  },
  {
   "cell_type": "markdown",
   "id": "cbd2e1fe",
   "metadata": {},
   "source": [
    "p-value с 72,9% упал до 69,8%, но все равно юольше 5%. Значит мы по прежнему не можем отвергать нулевую гипотезу и считать, что в среднем чеке есть различия. Но после очистки данным изменилосо отношение среднего чека группы В к группе А. До очистки данных, средний чек группы B был значительно выше среднего чека группы A - 25.9%, а теперь они поменялись местами. Теперь средний чек группу А больше чека группы В - 3%."
   ]
  },
  {
   "cell_type": "markdown",
   "id": "3d57d328",
   "metadata": {},
   "source": [
    "<div class=\"alert alert-info\" role=\"alert\">\n",
    "<h2>Комментарий студента<a class=\"tocSkip\"></h2>\n",
    "\n",
    "### Новый вывод.\n",
    "p-value с 72,9% упал до 61,7%, но все равно больше 5%. Значит мы по прежнему не можем отвергать нулевую гипотезу и считать, что в среднем чеке есть различия. Но после очистки данным изменилось отношение среднего чека группы В к группе А. До очистки данных, средний чек группы B был значительно выше среднего чека группы A - 25.9%, а теперь они поменялись местами. Теперь средний чек группу А больше чека группы В - 6%.\n",
    "    </div>"
   ]
  },
  {
   "cell_type": "markdown",
   "id": "dd179518",
   "metadata": {},
   "source": [
    "# Резюмируем полученную информацию."
   ]
  },
  {
   "cell_type": "markdown",
   "id": "adb55197",
   "metadata": {},
   "source": [
    "- Имеются статически значимые различия по среднему чеку между группами до и после фильтрации аномалий.\n",
    "\n",
    "- График различия конверсии показывает, что результаты группы В значительно лучше чем группы А:"
   ]
  },
  {
   "cell_type": "markdown",
   "id": "98fbaa5c",
   "metadata": {},
   "source": [
    "<div class=\"alert alert-info\" role=\"alert\">\n",
    "<h2>Комментарий студента<a class=\"tocSkip\"></h2>\n",
    "\n",
    "### Новый вывод.\n",
    "- p-value для среднего чека после очиски данных изменился с 72,9% до 61,7%, но все равно остался больше 5%. Значит мы по прежнему не можем отвергать нулевую гипотезу и считать, что в среднем чеке есть различия. Но после очистки данным изменилось отношение среднего чека группы В к группе А. До очистки данных, средний чек группы B был значительно выше среднего чека группы A - 25.9%, а теперь они поменялись местами. Теперь средний чек группу А больше чека группы В - 6%.\n",
    "- p-value=1.4% для конверсии после очистки данных что меньше 5% - порогового значения. Значит, нулевую гипотезу о том, что статистически значимых различий в конверсии между группами нет, отвергаем. Относительный прирост группы B над группой А вырос с 13.8% до 18,1% после очистки данных.\n",
    "    </div>"
   ]
  },
  {
   "cell_type": "code",
   "execution_count": 61,
   "id": "65649929",
   "metadata": {},
   "outputs": [
    {
     "data": {
      "text/plain": [
       "(18109.0, 18139.0, -0.2, 0.25)"
      ]
     },
     "execution_count": 61,
     "metadata": {},
     "output_type": "execute_result"
    },
    {
     "data": {
      "image/png": "[encoded data removed]",
      "text/plain": [
       "<Figure size 432x288 with 1 Axes>"
      ]
     },
     "metadata": {
      "needs_background": "light"
     },
     "output_type": "display_data"
    }
   ],
   "source": [
    "merged_cumulative_conversions = cumulative_data_a[['date','conversion']].merge(cumulative_data_b[['date','conversion']], left_on='date', right_on='date', how='left', suffixes=['A', 'B'])\n",
    "merged_cumulative_conversions.columns = ['date', 'conversion_a', 'conversion_b']\n",
    "plt.plot(merged_cumulative_conversions['date'], merged_cumulative_conversions['conversion_b']/merged_cumulative_conversions['conversion_a']-1, label=\"Относительный прирост конверсии группы B относительно группы A\")\n",
    "plt.legend()\n",
    "\n",
    "plt.axhline(y=0, color='black', linestyle='--')\n",
    "plt.axhline(y=0.16, color='grey', linestyle='--')\n",
    "plt.axis([date_min, date_max, -0.2, 0.25])"
   ]
  },
  {
   "cell_type": "markdown",
   "id": "c9323511",
   "metadata": {},
   "source": [
    "- График относительного изменения кумулятивного среднего чека группы B к группе A говорит о том, что результаты группы В лучше на 28%:"
   ]
  },
  {
   "cell_type": "code",
   "execution_count": 62,
   "id": "95679ab3",
   "metadata": {},
   "outputs": [
    {
     "data": {
      "text/plain": [
       "<matplotlib.lines.Line2D at 0x7fb1fb359f70>"
      ]
     },
     "execution_count": 62,
     "metadata": {},
     "output_type": "execute_result"
    },
    {
     "data": {
      "image/png": "[encoded data removed]",
      "text/plain": [
       "<Figure size 432x288 with 1 Axes>"
      ]
     },
     "metadata": {
      "needs_background": "light"
     },
     "output_type": "display_data"
    }
   ],
   "source": [
    "# собираем данные в одном датафрейме\n",
    "merged_cumulative_revenue = cumulative_revenue_a.merge(cumulative_revenue_b, left_on='date', right_on='date', how='left', suffixes=['A', 'B'])\n",
    "\n",
    "# cтроим отношение средних чеков\n",
    "plt.plot(merged_cumulative_revenue['date'], (merged_cumulative_revenue['revenueB']/merged_cumulative_revenue['ordersB'])/(merged_cumulative_revenue['revenueA']/merged_cumulative_revenue['ordersA'])-1)\n",
    "\n",
    "# добавляем ось X\n",
    "plt.axhline(y=0, color='black', linestyle='--')\n",
    "plt.axhline(y=0.28, color='grey', linestyle='--')"
   ]
  },
  {
   "cell_type": "markdown",
   "id": "90f6e984",
   "metadata": {},
   "source": [
    "Исходя из выше приведенных результатов можно принять решение об остановки теста и констатировать победу группы В."
   ]
  }
 ],
 "metadata": {
  "ExecuteTimeLog": [
   {
    "duration": 1088,
    "start_time": "2022-06-17T20:40:18.232Z"
   },
   {
    "duration": 77,
    "start_time": "2022-06-17T20:40:19.322Z"
   },
   {
    "duration": 19,
    "start_time": "2022-06-17T20:40:19.401Z"
   },
   {
    "duration": 5,
    "start_time": "2022-06-17T20:40:19.422Z"
   },
   {
    "duration": 17,
    "start_time": "2022-06-17T20:40:19.430Z"
   },
   {
    "duration": 4,
    "start_time": "2022-06-17T20:40:19.448Z"
   },
   {
    "duration": 18,
    "start_time": "2022-06-17T20:40:19.454Z"
   },
   {
    "duration": 31,
    "start_time": "2022-06-17T20:40:19.473Z"
   },
   {
    "duration": 11,
    "start_time": "2022-06-17T20:40:19.506Z"
   },
   {
    "duration": 16,
    "start_time": "2022-06-17T20:40:19.518Z"
   },
   {
    "duration": 6,
    "start_time": "2022-06-17T20:40:19.536Z"
   },
   {
    "duration": 14,
    "start_time": "2022-06-17T20:40:19.543Z"
   },
   {
    "duration": 39,
    "start_time": "2022-06-17T20:40:19.559Z"
   },
   {
    "duration": 8,
    "start_time": "2022-06-17T20:40:19.602Z"
   },
   {
    "duration": 16,
    "start_time": "2022-06-17T20:40:19.611Z"
   },
   {
    "duration": 8,
    "start_time": "2022-06-17T20:40:19.629Z"
   },
   {
    "duration": 171,
    "start_time": "2022-06-17T20:40:19.638Z"
   },
   {
    "duration": 120,
    "start_time": "2022-06-17T20:40:19.811Z"
   },
   {
    "duration": 11,
    "start_time": "2022-06-17T20:40:19.933Z"
   },
   {
    "duration": 255,
    "start_time": "2022-06-17T20:40:19.946Z"
   },
   {
    "duration": 178,
    "start_time": "2022-06-17T20:40:20.203Z"
   },
   {
    "duration": 290,
    "start_time": "2022-06-17T20:40:20.383Z"
   },
   {
    "duration": 168,
    "start_time": "2022-06-17T20:40:20.675Z"
   },
   {
    "duration": 287,
    "start_time": "2022-06-17T20:40:20.845Z"
   },
   {
    "duration": 100,
    "start_time": "2022-06-17T20:40:21.134Z"
   },
   {
    "duration": 0,
    "start_time": "2022-06-17T20:40:21.236Z"
   },
   {
    "duration": 0,
    "start_time": "2022-06-17T20:40:21.237Z"
   },
   {
    "duration": 0,
    "start_time": "2022-06-17T20:40:21.238Z"
   },
   {
    "duration": 0,
    "start_time": "2022-06-17T20:40:21.239Z"
   },
   {
    "duration": 0,
    "start_time": "2022-06-17T20:40:21.240Z"
   },
   {
    "duration": 0,
    "start_time": "2022-06-17T20:40:21.241Z"
   },
   {
    "duration": 0,
    "start_time": "2022-06-17T20:40:21.242Z"
   },
   {
    "duration": 0,
    "start_time": "2022-06-17T20:40:21.243Z"
   },
   {
    "duration": 0,
    "start_time": "2022-06-17T20:40:21.244Z"
   },
   {
    "duration": 0,
    "start_time": "2022-06-17T20:40:21.245Z"
   },
   {
    "duration": 0,
    "start_time": "2022-06-17T20:40:21.246Z"
   },
   {
    "duration": 0,
    "start_time": "2022-06-17T20:40:21.247Z"
   },
   {
    "duration": 0,
    "start_time": "2022-06-17T20:40:21.248Z"
   },
   {
    "duration": 0,
    "start_time": "2022-06-17T20:40:21.249Z"
   },
   {
    "duration": 0,
    "start_time": "2022-06-17T20:40:21.250Z"
   },
   {
    "duration": 4,
    "start_time": "2022-06-17T21:12:07.735Z"
   },
   {
    "duration": 93,
    "start_time": "2022-06-17T21:12:07.740Z"
   },
   {
    "duration": 17,
    "start_time": "2022-06-17T21:12:07.834Z"
   },
   {
    "duration": 4,
    "start_time": "2022-06-17T21:12:07.853Z"
   },
   {
    "duration": 18,
    "start_time": "2022-06-17T21:12:07.859Z"
   },
   {
    "duration": 3,
    "start_time": "2022-06-17T21:12:07.879Z"
   },
   {
    "duration": 12,
    "start_time": "2022-06-17T21:12:07.884Z"
   },
   {
    "duration": 13,
    "start_time": "2022-06-17T21:12:07.897Z"
   },
   {
    "duration": 14,
    "start_time": "2022-06-17T21:12:07.912Z"
   },
   {
    "duration": 23,
    "start_time": "2022-06-17T21:12:07.928Z"
   },
   {
    "duration": 10,
    "start_time": "2022-06-17T21:12:07.953Z"
   },
   {
    "duration": 15,
    "start_time": "2022-06-17T21:12:07.965Z"
   },
   {
    "duration": 18,
    "start_time": "2022-06-17T21:12:07.982Z"
   },
   {
    "duration": 7,
    "start_time": "2022-06-17T21:12:08.002Z"
   },
   {
    "duration": 12,
    "start_time": "2022-06-17T21:12:08.011Z"
   },
   {
    "duration": 8,
    "start_time": "2022-06-17T21:12:08.025Z"
   },
   {
    "duration": 182,
    "start_time": "2022-06-17T21:12:08.035Z"
   },
   {
    "duration": 126,
    "start_time": "2022-06-17T21:12:08.219Z"
   },
   {
    "duration": 13,
    "start_time": "2022-06-17T21:12:08.347Z"
   },
   {
    "duration": 188,
    "start_time": "2022-06-17T21:12:08.361Z"
   },
   {
    "duration": 179,
    "start_time": "2022-06-17T21:12:08.551Z"
   },
   {
    "duration": 367,
    "start_time": "2022-06-17T21:12:08.731Z"
   },
   {
    "duration": 170,
    "start_time": "2022-06-17T21:12:09.099Z"
   },
   {
    "duration": 326,
    "start_time": "2022-06-17T21:12:09.272Z"
   },
   {
    "duration": 8,
    "start_time": "2022-06-17T21:12:09.600Z"
   },
   {
    "duration": 0,
    "start_time": "2022-06-17T21:12:09.610Z"
   },
   {
    "duration": 0,
    "start_time": "2022-06-17T21:12:09.611Z"
   },
   {
    "duration": 0,
    "start_time": "2022-06-17T21:12:09.612Z"
   },
   {
    "duration": 0,
    "start_time": "2022-06-17T21:12:09.614Z"
   },
   {
    "duration": 0,
    "start_time": "2022-06-17T21:12:09.615Z"
   },
   {
    "duration": 0,
    "start_time": "2022-06-17T21:12:09.616Z"
   },
   {
    "duration": 0,
    "start_time": "2022-06-17T21:12:09.617Z"
   },
   {
    "duration": 0,
    "start_time": "2022-06-17T21:12:09.618Z"
   },
   {
    "duration": 0,
    "start_time": "2022-06-17T21:12:09.619Z"
   },
   {
    "duration": 0,
    "start_time": "2022-06-17T21:12:09.620Z"
   },
   {
    "duration": 0,
    "start_time": "2022-06-17T21:12:09.621Z"
   },
   {
    "duration": 0,
    "start_time": "2022-06-17T21:12:09.623Z"
   },
   {
    "duration": 1,
    "start_time": "2022-06-17T21:12:09.623Z"
   },
   {
    "duration": 0,
    "start_time": "2022-06-17T21:12:09.624Z"
   },
   {
    "duration": 0,
    "start_time": "2022-06-17T21:12:09.626Z"
   },
   {
    "duration": 4,
    "start_time": "2022-06-17T21:12:24.167Z"
   },
   {
    "duration": 95,
    "start_time": "2022-06-17T21:12:24.173Z"
   },
   {
    "duration": 16,
    "start_time": "2022-06-17T21:12:24.270Z"
   },
   {
    "duration": 4,
    "start_time": "2022-06-17T21:12:24.288Z"
   },
   {
    "duration": 16,
    "start_time": "2022-06-17T21:12:24.294Z"
   },
   {
    "duration": 4,
    "start_time": "2022-06-17T21:12:24.311Z"
   },
   {
    "duration": 15,
    "start_time": "2022-06-17T21:12:24.317Z"
   },
   {
    "duration": 13,
    "start_time": "2022-06-17T21:12:24.333Z"
   },
   {
    "duration": 18,
    "start_time": "2022-06-17T21:12:24.347Z"
   },
   {
    "duration": 16,
    "start_time": "2022-06-17T21:12:24.366Z"
   },
   {
    "duration": 5,
    "start_time": "2022-06-17T21:12:24.393Z"
   },
   {
    "duration": 14,
    "start_time": "2022-06-17T21:12:24.400Z"
   },
   {
    "duration": 8,
    "start_time": "2022-06-17T21:12:24.415Z"
   },
   {
    "duration": 12,
    "start_time": "2022-06-17T21:12:24.424Z"
   },
   {
    "duration": 16,
    "start_time": "2022-06-17T21:12:24.437Z"
   },
   {
    "duration": 11,
    "start_time": "2022-06-17T21:12:24.455Z"
   },
   {
    "duration": 173,
    "start_time": "2022-06-17T21:12:24.467Z"
   },
   {
    "duration": 123,
    "start_time": "2022-06-17T21:12:24.642Z"
   },
   {
    "duration": 12,
    "start_time": "2022-06-17T21:12:24.766Z"
   },
   {
    "duration": 194,
    "start_time": "2022-06-17T21:12:24.779Z"
   },
   {
    "duration": 178,
    "start_time": "2022-06-17T21:12:24.975Z"
   },
   {
    "duration": 277,
    "start_time": "2022-06-17T21:12:25.154Z"
   },
   {
    "duration": 174,
    "start_time": "2022-06-17T21:12:25.433Z"
   },
   {
    "duration": 291,
    "start_time": "2022-06-17T21:12:25.609Z"
   },
   {
    "duration": 3,
    "start_time": "2022-06-17T21:12:25.902Z"
   },
   {
    "duration": 26,
    "start_time": "2022-06-17T21:12:25.907Z"
   },
   {
    "duration": 123,
    "start_time": "2022-06-17T21:12:25.935Z"
   },
   {
    "duration": 115,
    "start_time": "2022-06-17T21:12:26.060Z"
   },
   {
    "duration": 4,
    "start_time": "2022-06-17T21:12:26.179Z"
   },
   {
    "duration": 141,
    "start_time": "2022-06-17T21:12:26.195Z"
   },
   {
    "duration": 134,
    "start_time": "2022-06-17T21:12:26.338Z"
   },
   {
    "duration": 4,
    "start_time": "2022-06-17T21:12:26.474Z"
   },
   {
    "duration": 318,
    "start_time": "2022-06-17T21:12:26.479Z"
   },
   {
    "duration": 161,
    "start_time": "2022-06-17T21:12:26.798Z"
   },
   {
    "duration": 11,
    "start_time": "2022-06-17T21:12:26.961Z"
   },
   {
    "duration": 25,
    "start_time": "2022-06-17T21:12:26.973Z"
   },
   {
    "duration": 141,
    "start_time": "2022-06-17T21:12:26.999Z"
   },
   {
    "duration": 12,
    "start_time": "2022-06-17T21:12:27.142Z"
   },
   {
    "duration": 326,
    "start_time": "2022-06-17T21:12:27.156Z"
   },
   {
    "duration": 280,
    "start_time": "2022-06-17T21:12:27.484Z"
   },
   {
    "duration": 9,
    "start_time": "2022-06-17T21:13:04.990Z"
   },
   {
    "duration": 11,
    "start_time": "2022-06-17T21:13:07.285Z"
   },
   {
    "duration": 3,
    "start_time": "2022-06-17T21:13:09.119Z"
   },
   {
    "duration": 92,
    "start_time": "2022-06-17T21:13:09.124Z"
   },
   {
    "duration": 17,
    "start_time": "2022-06-17T21:13:09.218Z"
   },
   {
    "duration": 4,
    "start_time": "2022-06-17T21:13:09.237Z"
   },
   {
    "duration": 15,
    "start_time": "2022-06-17T21:13:09.243Z"
   },
   {
    "duration": 4,
    "start_time": "2022-06-17T21:13:09.260Z"
   },
   {
    "duration": 11,
    "start_time": "2022-06-17T21:13:09.265Z"
   },
   {
    "duration": 17,
    "start_time": "2022-06-17T21:13:09.278Z"
   },
   {
    "duration": 11,
    "start_time": "2022-06-17T21:13:09.297Z"
   },
   {
    "duration": 16,
    "start_time": "2022-06-17T21:13:09.309Z"
   },
   {
    "duration": 6,
    "start_time": "2022-06-17T21:13:09.328Z"
   },
   {
    "duration": 12,
    "start_time": "2022-06-17T21:13:09.336Z"
   },
   {
    "duration": 46,
    "start_time": "2022-06-17T21:13:09.350Z"
   },
   {
    "duration": 8,
    "start_time": "2022-06-17T21:13:09.398Z"
   },
   {
    "duration": 15,
    "start_time": "2022-06-17T21:13:09.408Z"
   },
   {
    "duration": 8,
    "start_time": "2022-06-17T21:13:09.424Z"
   },
   {
    "duration": 171,
    "start_time": "2022-06-17T21:13:09.433Z"
   },
   {
    "duration": 129,
    "start_time": "2022-06-17T21:13:09.605Z"
   },
   {
    "duration": 11,
    "start_time": "2022-06-17T21:13:09.736Z"
   },
   {
    "duration": 178,
    "start_time": "2022-06-17T21:13:09.748Z"
   },
   {
    "duration": 182,
    "start_time": "2022-06-17T21:13:09.928Z"
   },
   {
    "duration": 286,
    "start_time": "2022-06-17T21:13:10.111Z"
   },
   {
    "duration": 182,
    "start_time": "2022-06-17T21:13:10.400Z"
   },
   {
    "duration": 335,
    "start_time": "2022-06-17T21:13:10.583Z"
   },
   {
    "duration": 12,
    "start_time": "2022-06-17T21:13:10.920Z"
   },
   {
    "duration": 14,
    "start_time": "2022-06-17T21:13:10.934Z"
   },
   {
    "duration": 121,
    "start_time": "2022-06-17T21:13:10.949Z"
   },
   {
    "duration": 123,
    "start_time": "2022-06-17T21:13:11.071Z"
   },
   {
    "duration": 4,
    "start_time": "2022-06-17T21:13:11.198Z"
   },
   {
    "duration": 135,
    "start_time": "2022-06-17T21:13:11.203Z"
   },
   {
    "duration": 131,
    "start_time": "2022-06-17T21:13:11.340Z"
   },
   {
    "duration": 5,
    "start_time": "2022-06-17T21:13:11.473Z"
   },
   {
    "duration": 222,
    "start_time": "2022-06-17T21:13:11.479Z"
   },
   {
    "duration": 164,
    "start_time": "2022-06-17T21:13:11.702Z"
   },
   {
    "duration": 9,
    "start_time": "2022-06-17T21:13:11.868Z"
   },
   {
    "duration": 17,
    "start_time": "2022-06-17T21:13:11.878Z"
   },
   {
    "duration": 138,
    "start_time": "2022-06-17T21:13:11.897Z"
   },
   {
    "duration": 14,
    "start_time": "2022-06-17T21:13:12.037Z"
   },
   {
    "duration": 327,
    "start_time": "2022-06-17T21:13:12.053Z"
   },
   {
    "duration": 291,
    "start_time": "2022-06-17T21:13:12.381Z"
   },
   {
    "duration": 2,
    "start_time": "2022-06-17T21:13:23.773Z"
   },
   {
    "duration": 453,
    "start_time": "2022-06-17T21:15:27.888Z"
   },
   {
    "duration": 150,
    "start_time": "2022-06-17T21:15:38.812Z"
   },
   {
    "duration": 34,
    "start_time": "2022-06-17T21:25:13.017Z"
   },
   {
    "duration": 1336,
    "start_time": "2022-06-21T05:56:17.362Z"
   },
   {
    "duration": 204,
    "start_time": "2022-06-21T05:56:18.700Z"
   },
   {
    "duration": 21,
    "start_time": "2022-06-21T05:56:20.514Z"
   },
   {
    "duration": 5,
    "start_time": "2022-06-21T05:56:22.433Z"
   },
   {
    "duration": 14,
    "start_time": "2022-06-21T05:56:25.838Z"
   },
   {
    "duration": 4,
    "start_time": "2022-06-21T05:56:28.255Z"
   },
   {
    "duration": 8,
    "start_time": "2022-06-21T05:56:29.132Z"
   },
   {
    "duration": 10,
    "start_time": "2022-06-21T05:56:32.548Z"
   },
   {
    "duration": 12,
    "start_time": "2022-06-21T05:56:34.332Z"
   },
   {
    "duration": 13,
    "start_time": "2022-06-21T05:56:36.301Z"
   },
   {
    "duration": 15,
    "start_time": "2022-06-21T05:56:38.056Z"
   },
   {
    "duration": 54,
    "start_time": "2022-06-21T05:56:40.356Z"
   },
   {
    "duration": 5,
    "start_time": "2022-06-21T05:56:41.494Z"
   },
   {
    "duration": 13,
    "start_time": "2022-06-21T05:56:47.284Z"
   },
   {
    "duration": 8,
    "start_time": "2022-06-21T05:56:48.772Z"
   },
   {
    "duration": 8,
    "start_time": "2022-06-21T05:56:50.024Z"
   },
   {
    "duration": 4,
    "start_time": "2022-06-21T05:56:54.186Z"
   },
   {
    "duration": 5,
    "start_time": "2022-06-21T05:56:54.949Z"
   },
   {
    "duration": 4,
    "start_time": "2022-06-21T05:56:57.200Z"
   },
   {
    "duration": 4,
    "start_time": "2022-06-21T05:56:57.797Z"
   },
   {
    "duration": 4,
    "start_time": "2022-06-21T05:56:58.389Z"
   },
   {
    "duration": 5,
    "start_time": "2022-06-21T05:56:58.921Z"
   },
   {
    "duration": 5,
    "start_time": "2022-06-21T05:56:59.974Z"
   },
   {
    "duration": 4,
    "start_time": "2022-06-21T05:57:01.048Z"
   },
   {
    "duration": 7,
    "start_time": "2022-06-21T05:57:01.530Z"
   },
   {
    "duration": 4,
    "start_time": "2022-06-21T05:57:02.651Z"
   },
   {
    "duration": 5,
    "start_time": "2022-06-21T05:57:03.561Z"
   },
   {
    "duration": 7,
    "start_time": "2022-06-21T05:57:04.195Z"
   },
   {
    "duration": 16,
    "start_time": "2022-06-21T05:57:06.668Z"
   },
   {
    "duration": 3,
    "start_time": "2022-06-21T05:57:08.063Z"
   },
   {
    "duration": 12,
    "start_time": "2022-06-21T05:57:09.527Z"
   },
   {
    "duration": 6,
    "start_time": "2022-06-21T05:57:10.565Z"
   },
   {
    "duration": 152,
    "start_time": "2022-06-21T05:57:11.097Z"
   },
   {
    "duration": 111,
    "start_time": "2022-06-21T05:57:11.734Z"
   },
   {
    "duration": 14,
    "start_time": "2022-06-21T05:57:12.640Z"
   },
   {
    "duration": 249,
    "start_time": "2022-06-21T05:57:13.700Z"
   },
   {
    "duration": 177,
    "start_time": "2022-06-21T05:57:17.727Z"
   },
   {
    "duration": 325,
    "start_time": "2022-06-21T05:57:19.930Z"
   },
   {
    "duration": 176,
    "start_time": "2022-06-21T05:57:22.148Z"
   },
   {
    "duration": 300,
    "start_time": "2022-06-21T05:57:23.852Z"
   },
   {
    "duration": 2,
    "start_time": "2022-06-21T05:57:24.841Z"
   },
   {
    "duration": 12,
    "start_time": "2022-06-21T05:57:25.291Z"
   },
   {
    "duration": 136,
    "start_time": "2022-06-21T05:57:25.535Z"
   },
   {
    "duration": 149,
    "start_time": "2022-06-21T05:57:26.222Z"
   },
   {
    "duration": 4,
    "start_time": "2022-06-21T05:57:27.144Z"
   },
   {
    "duration": 316,
    "start_time": "2022-06-21T05:57:28.430Z"
   },
   {
    "duration": 146,
    "start_time": "2022-06-21T05:57:29.215Z"
   },
   {
    "duration": 402,
    "start_time": "2022-06-21T05:57:29.805Z"
   },
   {
    "duration": 4,
    "start_time": "2022-06-21T05:57:30.209Z"
   },
   {
    "duration": 210,
    "start_time": "2022-06-21T05:57:31.356Z"
   },
   {
    "duration": 10,
    "start_time": "2022-06-21T05:57:31.568Z"
   },
   {
    "duration": 11,
    "start_time": "2022-06-21T05:57:31.737Z"
   },
   {
    "duration": 18,
    "start_time": "2022-06-21T05:57:32.894Z"
   },
   {
    "duration": 7,
    "start_time": "2022-06-21T05:57:33.080Z"
   },
   {
    "duration": 27,
    "start_time": "2022-06-21T05:57:33.275Z"
   },
   {
    "duration": 10,
    "start_time": "2022-06-21T05:57:34.398Z"
   },
   {
    "duration": 10,
    "start_time": "2022-06-21T05:57:35.764Z"
   },
   {
    "duration": 123,
    "start_time": "2022-06-21T05:57:36.752Z"
   },
   {
    "duration": 13,
    "start_time": "2022-06-21T05:57:37.871Z"
   },
   {
    "duration": 263,
    "start_time": "2022-06-21T05:57:39.364Z"
   },
   {
    "duration": 251,
    "start_time": "2022-06-21T05:57:39.780Z"
   },
   {
    "duration": 1301,
    "start_time": "2022-06-21T12:13:15.418Z"
   },
   {
    "duration": 227,
    "start_time": "2022-06-21T12:13:16.721Z"
   },
   {
    "duration": 19,
    "start_time": "2022-06-21T12:13:16.949Z"
   },
   {
    "duration": 4,
    "start_time": "2022-06-21T12:13:16.969Z"
   },
   {
    "duration": 16,
    "start_time": "2022-06-21T12:13:16.975Z"
   },
   {
    "duration": 4,
    "start_time": "2022-06-21T12:13:16.992Z"
   },
   {
    "duration": 10,
    "start_time": "2022-06-21T12:13:16.997Z"
   },
   {
    "duration": 9,
    "start_time": "2022-06-21T12:13:17.008Z"
   },
   {
    "duration": 39,
    "start_time": "2022-06-21T12:13:17.018Z"
   },
   {
    "duration": 11,
    "start_time": "2022-06-21T12:13:17.059Z"
   },
   {
    "duration": 15,
    "start_time": "2022-06-21T12:13:17.072Z"
   },
   {
    "duration": 65,
    "start_time": "2022-06-21T12:13:17.088Z"
   },
   {
    "duration": 4,
    "start_time": "2022-06-21T12:13:17.155Z"
   },
   {
    "duration": 13,
    "start_time": "2022-06-21T12:13:17.161Z"
   },
   {
    "duration": 9,
    "start_time": "2022-06-21T12:13:17.176Z"
   },
   {
    "duration": 8,
    "start_time": "2022-06-21T12:13:17.186Z"
   },
   {
    "duration": 5,
    "start_time": "2022-06-21T12:13:17.196Z"
   },
   {
    "duration": 6,
    "start_time": "2022-06-21T12:13:17.202Z"
   },
   {
    "duration": 45,
    "start_time": "2022-06-21T12:13:17.209Z"
   },
   {
    "duration": 8,
    "start_time": "2022-06-21T12:13:17.255Z"
   },
   {
    "duration": 5,
    "start_time": "2022-06-21T12:13:17.265Z"
   },
   {
    "duration": 5,
    "start_time": "2022-06-21T12:13:17.271Z"
   },
   {
    "duration": 6,
    "start_time": "2022-06-21T12:13:17.278Z"
   },
   {
    "duration": 11,
    "start_time": "2022-06-21T12:13:17.286Z"
   },
   {
    "duration": 21,
    "start_time": "2022-06-21T12:13:17.298Z"
   },
   {
    "duration": 3,
    "start_time": "2022-06-21T12:13:17.320Z"
   },
   {
    "duration": 7,
    "start_time": "2022-06-21T12:13:17.324Z"
   },
   {
    "duration": 24,
    "start_time": "2022-06-21T12:13:17.334Z"
   },
   {
    "duration": 15,
    "start_time": "2022-06-21T12:13:17.359Z"
   },
   {
    "duration": 2,
    "start_time": "2022-06-21T12:13:17.376Z"
   },
   {
    "duration": 13,
    "start_time": "2022-06-21T12:13:17.380Z"
   },
   {
    "duration": 7,
    "start_time": "2022-06-21T12:13:17.394Z"
   },
   {
    "duration": 173,
    "start_time": "2022-06-21T12:13:17.402Z"
   },
   {
    "duration": 121,
    "start_time": "2022-06-21T12:13:17.577Z"
   },
   {
    "duration": 11,
    "start_time": "2022-06-21T12:13:17.699Z"
   },
   {
    "duration": 265,
    "start_time": "2022-06-21T12:13:17.712Z"
   },
   {
    "duration": 221,
    "start_time": "2022-06-21T12:13:17.979Z"
   },
   {
    "duration": 388,
    "start_time": "2022-06-21T12:13:18.201Z"
   },
   {
    "duration": 203,
    "start_time": "2022-06-21T12:13:18.590Z"
   },
   {
    "duration": 283,
    "start_time": "2022-06-21T12:13:18.794Z"
   },
   {
    "duration": 2,
    "start_time": "2022-06-21T12:13:19.078Z"
   },
   {
    "duration": 15,
    "start_time": "2022-06-21T12:13:19.082Z"
   },
   {
    "duration": 144,
    "start_time": "2022-06-21T12:13:19.098Z"
   },
   {
    "duration": 147,
    "start_time": "2022-06-21T12:13:19.252Z"
   },
   {
    "duration": 5,
    "start_time": "2022-06-21T12:13:19.400Z"
   },
   {
    "duration": 326,
    "start_time": "2022-06-21T12:13:19.406Z"
   },
   {
    "duration": 145,
    "start_time": "2022-06-21T12:13:19.734Z"
   },
   {
    "duration": 410,
    "start_time": "2022-06-21T12:13:19.880Z"
   },
   {
    "duration": 4,
    "start_time": "2022-06-21T12:13:20.292Z"
   },
   {
    "duration": 218,
    "start_time": "2022-06-21T12:13:20.297Z"
   },
   {
    "duration": 9,
    "start_time": "2022-06-21T12:13:20.517Z"
   },
   {
    "duration": 14,
    "start_time": "2022-06-21T12:13:20.528Z"
   },
   {
    "duration": 17,
    "start_time": "2022-06-21T12:13:20.552Z"
   },
   {
    "duration": 5,
    "start_time": "2022-06-21T12:13:20.570Z"
   },
   {
    "duration": 6,
    "start_time": "2022-06-21T12:13:20.577Z"
   },
   {
    "duration": 26,
    "start_time": "2022-06-21T12:13:20.584Z"
   },
   {
    "duration": 9,
    "start_time": "2022-06-21T12:13:20.611Z"
   },
   {
    "duration": 34,
    "start_time": "2022-06-21T12:13:20.621Z"
   },
   {
    "duration": 137,
    "start_time": "2022-06-21T12:13:20.656Z"
   },
   {
    "duration": 13,
    "start_time": "2022-06-21T12:13:20.794Z"
   },
   {
    "duration": 326,
    "start_time": "2022-06-21T12:13:20.808Z"
   },
   {
    "duration": 300,
    "start_time": "2022-06-21T12:13:21.135Z"
   }
  ],
  "kernelspec": {
   "display_name": "Python 3 (ipykernel)",
   "language": "python",
   "name": "python3"
  },
  "language_info": {
   "codemirror_mode": {
    "name": "ipython",
    "version": 3
   },
   "file_extension": ".py",
   "mimetype": "text/x-python",
   "name": "python",
   "nbconvert_exporter": "python",
   "pygments_lexer": "ipython3",
   "version": "3.9.5"
  },
  "toc": {
   "base_numbering": 1,
   "nav_menu": {
    "height": "505.99px",
    "width": "434.18px"
   },
   "number_sections": true,
   "sideBar": true,
   "skip_h1_title": true,
   "title_cell": "Table of Contents",
   "title_sidebar": "Contents",
   "toc_cell": false,
   "toc_position": {},
   "toc_section_display": true,
   "toc_window_display": true
  }
 },
 "nbformat": 4,
 "nbformat_minor": 5
}
