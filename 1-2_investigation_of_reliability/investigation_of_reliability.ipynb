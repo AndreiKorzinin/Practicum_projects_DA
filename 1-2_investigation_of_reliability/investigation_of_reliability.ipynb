{
 "cells": [
  {
   "cell_type": "markdown",
   "id": "dececf42",
   "metadata": {},
   "source": [
    "# Исследование надежности заемщиков."
   ]
  },
  {
   "cell_type": "markdown",
   "id": "4df700b2",
   "metadata": {},
   "source": [
    "<div class=\"alert alert-info\">\n",
    "<h2> Комментарий студента</h2>\n",
    "\n",
    "Поставленная задача:\n",
    "Необходимо определить, влияет ли семейное положение и количество детей клиента на факт погашения кредита в срок. Входные данные от банка — статистика о платёжеспособности клиентов.\n",
    "Результаты исследования будут учтены при построении модели кредитного скоринга — специальной системы, которая оценивает способность потенциального заёмщика вернуть кредит банку.\n",
    "\n",
    "Описание данных датасета:\n",
    "\n",
    "1. children — количество детей в семье\n",
    "2. days_employed — общий трудовой стаж в днях\n",
    "3. dob_years — возраст клиента в годах\n",
    "4. education — уровень образования клиента\n",
    "5. education_id — идентификатор уровня образования\n",
    "6. family_status — семейное положение\n",
    "7. family_status_id — идентификатор семейного положения\n",
    "8. gender — пол клиента\n",
    "9. income_type — тип занятости\n",
    "10. debt — имел ли задолженность по возврату кредитов\n",
    "11. total_income — ежемесячный доход\n",
    "12. purpose — цель получения кредита\n",
    "</div>"
   ]
  },
  {
   "cell_type": "markdown",
   "id": "e668298c",
   "metadata": {},
   "source": [
    "### Шаг 1. Обзор данных\n",
    "Импортируем библиотеку 'pandas' и присвоим переменной 'data' датафрейм. Выведем на экран первые пять строчек таблицы."
   ]
  },
  {
   "cell_type": "code",
   "execution_count": 1,
   "id": "17813a54",
   "metadata": {},
   "outputs": [
    {
     "data": {
      "text/html": [
       "<div>\n",
       "<style scoped>\n",
       "    .dataframe tbody tr th:only-of-type {\n",
       "        vertical-align: middle;\n",
       "    }\n",
       "\n",
       "    .dataframe tbody tr th {\n",
       "        vertical-align: top;\n",
       "    }\n",
       "\n",
       "    .dataframe thead th {\n",
       "        text-align: right;\n",
       "    }\n",
       "</style>\n",
       "<table border=\"1\" class=\"dataframe\">\n",
       "  <thead>\n",
       "    <tr style=\"text-align: right;\">\n",
       "      <th></th>\n",
       "      <th>children</th>\n",
       "      <th>days_employed</th>\n",
       "      <th>dob_years</th>\n",
       "      <th>education</th>\n",
       "      <th>education_id</th>\n",
       "      <th>family_status</th>\n",
       "      <th>family_status_id</th>\n",
       "      <th>gender</th>\n",
       "      <th>income_type</th>\n",
       "      <th>debt</th>\n",
       "      <th>total_income</th>\n",
       "      <th>purpose</th>\n",
       "    </tr>\n",
       "  </thead>\n",
       "  <tbody>\n",
       "    <tr>\n",
       "      <td>0</td>\n",
       "      <td>1</td>\n",
       "      <td>-8437.673028</td>\n",
       "      <td>42</td>\n",
       "      <td>высшее</td>\n",
       "      <td>0</td>\n",
       "      <td>женат / замужем</td>\n",
       "      <td>0</td>\n",
       "      <td>F</td>\n",
       "      <td>сотрудник</td>\n",
       "      <td>0</td>\n",
       "      <td>253875.639453</td>\n",
       "      <td>покупка жилья</td>\n",
       "    </tr>\n",
       "    <tr>\n",
       "      <td>1</td>\n",
       "      <td>1</td>\n",
       "      <td>-4024.803754</td>\n",
       "      <td>36</td>\n",
       "      <td>среднее</td>\n",
       "      <td>1</td>\n",
       "      <td>женат / замужем</td>\n",
       "      <td>0</td>\n",
       "      <td>F</td>\n",
       "      <td>сотрудник</td>\n",
       "      <td>0</td>\n",
       "      <td>112080.014102</td>\n",
       "      <td>приобретение автомобиля</td>\n",
       "    </tr>\n",
       "    <tr>\n",
       "      <td>2</td>\n",
       "      <td>0</td>\n",
       "      <td>-5623.422610</td>\n",
       "      <td>33</td>\n",
       "      <td>Среднее</td>\n",
       "      <td>1</td>\n",
       "      <td>женат / замужем</td>\n",
       "      <td>0</td>\n",
       "      <td>M</td>\n",
       "      <td>сотрудник</td>\n",
       "      <td>0</td>\n",
       "      <td>145885.952297</td>\n",
       "      <td>покупка жилья</td>\n",
       "    </tr>\n",
       "    <tr>\n",
       "      <td>3</td>\n",
       "      <td>3</td>\n",
       "      <td>-4124.747207</td>\n",
       "      <td>32</td>\n",
       "      <td>среднее</td>\n",
       "      <td>1</td>\n",
       "      <td>женат / замужем</td>\n",
       "      <td>0</td>\n",
       "      <td>M</td>\n",
       "      <td>сотрудник</td>\n",
       "      <td>0</td>\n",
       "      <td>267628.550329</td>\n",
       "      <td>дополнительное образование</td>\n",
       "    </tr>\n",
       "    <tr>\n",
       "      <td>4</td>\n",
       "      <td>0</td>\n",
       "      <td>340266.072047</td>\n",
       "      <td>53</td>\n",
       "      <td>среднее</td>\n",
       "      <td>1</td>\n",
       "      <td>гражданский брак</td>\n",
       "      <td>1</td>\n",
       "      <td>F</td>\n",
       "      <td>пенсионер</td>\n",
       "      <td>0</td>\n",
       "      <td>158616.077870</td>\n",
       "      <td>сыграть свадьбу</td>\n",
       "    </tr>\n",
       "  </tbody>\n",
       "</table>\n",
       "</div>"
      ],
      "text/plain": [
       "   children  days_employed  dob_years education  education_id  \\\n",
       "0         1   -8437.673028         42    высшее             0   \n",
       "1         1   -4024.803754         36   среднее             1   \n",
       "2         0   -5623.422610         33   Среднее             1   \n",
       "3         3   -4124.747207         32   среднее             1   \n",
       "4         0  340266.072047         53   среднее             1   \n",
       "\n",
       "      family_status  family_status_id gender income_type  debt   total_income  \\\n",
       "0   женат / замужем                 0      F   сотрудник     0  253875.639453   \n",
       "1   женат / замужем                 0      F   сотрудник     0  112080.014102   \n",
       "2   женат / замужем                 0      M   сотрудник     0  145885.952297   \n",
       "3   женат / замужем                 0      M   сотрудник     0  267628.550329   \n",
       "4  гражданский брак                 1      F   пенсионер     0  158616.077870   \n",
       "\n",
       "                      purpose  \n",
       "0               покупка жилья  \n",
       "1     приобретение автомобиля  \n",
       "2               покупка жилья  \n",
       "3  дополнительное образование  \n",
       "4             сыграть свадьбу  "
      ]
     },
     "execution_count": 1,
     "metadata": {},
     "output_type": "execute_result"
    }
   ],
   "source": [
    "import pandas as pd\n",
    "data = pd.read_csv('/datasets/data.csv')\n",
    "data.head()"
   ]
  },
  {
   "cell_type": "markdown",
   "id": "936bb3d0",
   "metadata": {},
   "source": [
    "Посмотрим сводные данные о датафрейме 'data'."
   ]
  },
  {
   "cell_type": "code",
   "execution_count": 2,
   "id": "7c56bd3a",
   "metadata": {},
   "outputs": [
    {
     "name": "stdout",
     "output_type": "stream",
     "text": [
      "<class 'pandas.core.frame.DataFrame'>\n",
      "RangeIndex: 21525 entries, 0 to 21524\n",
      "Data columns (total 12 columns):\n",
      "children            21525 non-null int64\n",
      "days_employed       19351 non-null float64\n",
      "dob_years           21525 non-null int64\n",
      "education           21525 non-null object\n",
      "education_id        21525 non-null int64\n",
      "family_status       21525 non-null object\n",
      "family_status_id    21525 non-null int64\n",
      "gender              21525 non-null object\n",
      "income_type         21525 non-null object\n",
      "debt                21525 non-null int64\n",
      "total_income        19351 non-null float64\n",
      "purpose             21525 non-null object\n",
      "dtypes: float64(2), int64(5), object(5)\n",
      "memory usage: 2.0+ MB\n"
     ]
    }
   ],
   "source": [
    "data.info()"
   ]
  },
  {
   "cell_type": "markdown",
   "id": "b4366f54",
   "metadata": {},
   "source": [
    "Колонки 'days_employed' и 'total_income' содержат значения 'Nan' вместо чисел. Просмотрим эти колонки и удостоверимся в этом."
   ]
  },
  {
   "cell_type": "code",
   "execution_count": 3,
   "id": "bd9cd4fe",
   "metadata": {},
   "outputs": [
    {
     "data": {
      "text/plain": [
       "0        False\n",
       "13951    False\n",
       "13950    False\n",
       "13949    False\n",
       "13948    False\n",
       "         ...  \n",
       "18354     True\n",
       "18355     True\n",
       "18356     True\n",
       "2813      True\n",
       "10762     True\n",
       "Name: days_employed, Length: 21525, dtype: bool"
      ]
     },
     "execution_count": 3,
     "metadata": {},
     "output_type": "execute_result"
    }
   ],
   "source": [
    "data['days_employed'].isna().sort_values()"
   ]
  },
  {
   "cell_type": "code",
   "execution_count": 4,
   "id": "77cc6c56",
   "metadata": {},
   "outputs": [
    {
     "data": {
      "text/plain": [
       "0        False\n",
       "13951    False\n",
       "13950    False\n",
       "13949    False\n",
       "13948    False\n",
       "         ...  \n",
       "18354     True\n",
       "18355     True\n",
       "18356     True\n",
       "2813      True\n",
       "10762     True\n",
       "Name: total_income, Length: 21525, dtype: bool"
      ]
     },
     "execution_count": 4,
     "metadata": {},
     "output_type": "execute_result"
    }
   ],
   "source": [
    "data['total_income'].isna().sort_values()"
   ]
  },
  {
   "cell_type": "markdown",
   "id": "5ff10da2",
   "metadata": {},
   "source": [
    "Столбец 'children' седержит артефакты, в виде значения \"-1\", \"20\"."
   ]
  },
  {
   "cell_type": "code",
   "execution_count": 5,
   "id": "5c443406",
   "metadata": {},
   "outputs": [
    {
     "data": {
      "text/plain": [
       "array([ 1,  0,  3,  2, -1,  4, 20,  5])"
      ]
     },
     "execution_count": 5,
     "metadata": {},
     "output_type": "execute_result"
    }
   ],
   "source": [
    "data['children'].unique()"
   ]
  },
  {
   "cell_type": "markdown",
   "id": "5c0d95c8",
   "metadata": {},
   "source": [
    "Столбец 'days_employed' содержит значения которые соответствуют трудовому стажу юолее 900 лет. Выведу на экран только первую строку этого списка."
   ]
  },
  {
   "cell_type": "code",
   "execution_count": 6,
   "id": "4d323708",
   "metadata": {},
   "outputs": [
    {
     "data": {
      "text/plain": [
       "4    340266.072047\n",
       "Name: days_employed, dtype: float64"
      ]
     },
     "execution_count": 6,
     "metadata": {},
     "output_type": "execute_result"
    }
   ],
   "source": [
    "(data['days_employed'][data['days_employed'] > 900 * 365]).head(1)"
   ]
  },
  {
   "cell_type": "markdown",
   "id": "8ce7c349",
   "metadata": {},
   "source": [
    "Столбец 'dob_years' содержит значения \"0\"."
   ]
  },
  {
   "cell_type": "code",
   "execution_count": 7,
   "id": "95383f98",
   "metadata": {},
   "outputs": [
    {
     "data": {
      "text/plain": [
       "array([ 0, 19, 20, 21, 22, 23, 24, 25, 26, 27, 28, 29, 30, 31, 32, 33, 34,\n",
       "       35, 36, 37, 38, 39, 40, 41, 42, 43, 44, 45, 46, 47, 48, 49, 50, 51,\n",
       "       52, 53, 54, 55, 56, 57, 58, 59, 60, 61, 62, 63, 64, 65, 66, 67, 68,\n",
       "       69, 70, 71, 72, 73, 74, 75])"
      ]
     },
     "execution_count": 7,
     "metadata": {},
     "output_type": "execute_result"
    }
   ],
   "source": [
    "data['dob_years'].sort_values().unique()"
   ]
  },
  {
   "cell_type": "markdown",
   "id": "192bb125",
   "metadata": {},
   "source": [
    "Столбец 'education' содержит неявные дубликаты."
   ]
  },
  {
   "cell_type": "code",
   "execution_count": 8,
   "id": "f03b6757",
   "metadata": {},
   "outputs": [
    {
     "data": {
      "text/plain": [
       "array(['ВЫСШЕЕ', 'Высшее', 'НАЧАЛЬНОЕ', 'НЕОКОНЧЕННОЕ ВЫСШЕЕ',\n",
       "       'Начальное', 'Неоконченное высшее', 'СРЕДНЕЕ', 'Среднее',\n",
       "       'УЧЕНАЯ СТЕПЕНЬ', 'Ученая степень', 'высшее', 'начальное',\n",
       "       'неоконченное высшее', 'среднее', 'ученая степень'], dtype=object)"
      ]
     },
     "execution_count": 8,
     "metadata": {},
     "output_type": "execute_result"
    }
   ],
   "source": [
    "data['education'].sort_values().unique()"
   ]
  },
  {
   "cell_type": "markdown",
   "id": "60850c05",
   "metadata": {},
   "source": [
    "Исходный датафрейм содержит ряд ошибок:\n",
    "1. Колонки 'days_employed' и 'total_income' содержат значения 'Nan' вместо чисел.\n",
    "2. Столбец 'days_employed' содержит отричательные значения.\n",
    "3. Столбец 'children' седержит артефакты, в виде значения \"-1\", \"20\".\n",
    "4. Столбец 'days_employed' содержит значения которые соответствуют трудовому стажу юолее 900 лет.\n",
    "5. Столбец 'dob_years' содержит значения \"0\".\n",
    "6. Столбец 'education' содержит неявные дубликаты."
   ]
  },
  {
   "cell_type": "markdown",
   "id": "db121685",
   "metadata": {},
   "source": [
    "### Шаг 2.1 Проверка данных на аномалии и исправления."
   ]
  },
  {
   "cell_type": "markdown",
   "id": "ff07a47a",
   "metadata": {},
   "source": [
    "#### Столбец 'children'.\n",
    "Проверим уникальные значения столбца 'children'. "
   ]
  },
  {
   "cell_type": "code",
   "execution_count": 9,
   "id": "392366aa",
   "metadata": {},
   "outputs": [
    {
     "data": {
      "text/plain": [
       "array([-1,  0,  1,  2,  3,  4,  5, 20])"
      ]
     },
     "execution_count": 9,
     "metadata": {},
     "output_type": "execute_result"
    }
   ],
   "source": [
    "data['children'].sort_values().unique()"
   ]
  },
  {
   "cell_type": "markdown",
   "id": "900bd7c8",
   "metadata": {},
   "source": [
    "Видно что кол-во детей находится в пределах \"0 - 5\" шт., а значения \"-1\" и \"20\" это явные ошибки. Делаем предположение, что это опечатки и заменяем \"-1\" на \"1\", \"20\" на \"2\". Посмотрим на строки с кол-вом детей 20шт. Никакой  акономерности не прослеживается, еще раз убеждаемся что это \"баг\"."
   ]
  },
  {
   "cell_type": "code",
   "execution_count": 10,
   "id": "33662cdc",
   "metadata": {},
   "outputs": [
    {
     "data": {
      "text/html": [
       "<div>\n",
       "<style scoped>\n",
       "    .dataframe tbody tr th:only-of-type {\n",
       "        vertical-align: middle;\n",
       "    }\n",
       "\n",
       "    .dataframe tbody tr th {\n",
       "        vertical-align: top;\n",
       "    }\n",
       "\n",
       "    .dataframe thead th {\n",
       "        text-align: right;\n",
       "    }\n",
       "</style>\n",
       "<table border=\"1\" class=\"dataframe\">\n",
       "  <thead>\n",
       "    <tr style=\"text-align: right;\">\n",
       "      <th></th>\n",
       "      <th>children</th>\n",
       "      <th>days_employed</th>\n",
       "      <th>dob_years</th>\n",
       "      <th>education</th>\n",
       "      <th>education_id</th>\n",
       "      <th>family_status</th>\n",
       "      <th>family_status_id</th>\n",
       "      <th>gender</th>\n",
       "      <th>income_type</th>\n",
       "      <th>debt</th>\n",
       "      <th>total_income</th>\n",
       "      <th>purpose</th>\n",
       "    </tr>\n",
       "  </thead>\n",
       "  <tbody>\n",
       "    <tr>\n",
       "      <td>606</td>\n",
       "      <td>20</td>\n",
       "      <td>-880.221113</td>\n",
       "      <td>21</td>\n",
       "      <td>среднее</td>\n",
       "      <td>1</td>\n",
       "      <td>женат / замужем</td>\n",
       "      <td>0</td>\n",
       "      <td>M</td>\n",
       "      <td>компаньон</td>\n",
       "      <td>0</td>\n",
       "      <td>145334.865002</td>\n",
       "      <td>покупка жилья</td>\n",
       "    </tr>\n",
       "    <tr>\n",
       "      <td>720</td>\n",
       "      <td>20</td>\n",
       "      <td>-855.595512</td>\n",
       "      <td>44</td>\n",
       "      <td>среднее</td>\n",
       "      <td>1</td>\n",
       "      <td>женат / замужем</td>\n",
       "      <td>0</td>\n",
       "      <td>F</td>\n",
       "      <td>компаньон</td>\n",
       "      <td>0</td>\n",
       "      <td>112998.738649</td>\n",
       "      <td>покупка недвижимости</td>\n",
       "    </tr>\n",
       "    <tr>\n",
       "      <td>1074</td>\n",
       "      <td>20</td>\n",
       "      <td>-3310.411598</td>\n",
       "      <td>56</td>\n",
       "      <td>среднее</td>\n",
       "      <td>1</td>\n",
       "      <td>женат / замужем</td>\n",
       "      <td>0</td>\n",
       "      <td>F</td>\n",
       "      <td>сотрудник</td>\n",
       "      <td>1</td>\n",
       "      <td>229518.537004</td>\n",
       "      <td>получение образования</td>\n",
       "    </tr>\n",
       "    <tr>\n",
       "      <td>2510</td>\n",
       "      <td>20</td>\n",
       "      <td>-2714.161249</td>\n",
       "      <td>59</td>\n",
       "      <td>высшее</td>\n",
       "      <td>0</td>\n",
       "      <td>вдовец / вдова</td>\n",
       "      <td>2</td>\n",
       "      <td>F</td>\n",
       "      <td>сотрудник</td>\n",
       "      <td>0</td>\n",
       "      <td>264474.835577</td>\n",
       "      <td>операции с коммерческой недвижимостью</td>\n",
       "    </tr>\n",
       "    <tr>\n",
       "      <td>2941</td>\n",
       "      <td>20</td>\n",
       "      <td>-2161.591519</td>\n",
       "      <td>0</td>\n",
       "      <td>среднее</td>\n",
       "      <td>1</td>\n",
       "      <td>женат / замужем</td>\n",
       "      <td>0</td>\n",
       "      <td>F</td>\n",
       "      <td>сотрудник</td>\n",
       "      <td>0</td>\n",
       "      <td>199739.941398</td>\n",
       "      <td>на покупку автомобиля</td>\n",
       "    </tr>\n",
       "    <tr>\n",
       "      <td>...</td>\n",
       "      <td>...</td>\n",
       "      <td>...</td>\n",
       "      <td>...</td>\n",
       "      <td>...</td>\n",
       "      <td>...</td>\n",
       "      <td>...</td>\n",
       "      <td>...</td>\n",
       "      <td>...</td>\n",
       "      <td>...</td>\n",
       "      <td>...</td>\n",
       "      <td>...</td>\n",
       "      <td>...</td>\n",
       "    </tr>\n",
       "    <tr>\n",
       "      <td>21008</td>\n",
       "      <td>20</td>\n",
       "      <td>-1240.257910</td>\n",
       "      <td>40</td>\n",
       "      <td>среднее</td>\n",
       "      <td>1</td>\n",
       "      <td>женат / замужем</td>\n",
       "      <td>0</td>\n",
       "      <td>F</td>\n",
       "      <td>сотрудник</td>\n",
       "      <td>1</td>\n",
       "      <td>133524.010303</td>\n",
       "      <td>свой автомобиль</td>\n",
       "    </tr>\n",
       "    <tr>\n",
       "      <td>21325</td>\n",
       "      <td>20</td>\n",
       "      <td>-601.174883</td>\n",
       "      <td>37</td>\n",
       "      <td>среднее</td>\n",
       "      <td>1</td>\n",
       "      <td>женат / замужем</td>\n",
       "      <td>0</td>\n",
       "      <td>F</td>\n",
       "      <td>компаньон</td>\n",
       "      <td>0</td>\n",
       "      <td>102986.065978</td>\n",
       "      <td>профильное образование</td>\n",
       "    </tr>\n",
       "    <tr>\n",
       "      <td>21390</td>\n",
       "      <td>20</td>\n",
       "      <td>NaN</td>\n",
       "      <td>53</td>\n",
       "      <td>среднее</td>\n",
       "      <td>1</td>\n",
       "      <td>женат / замужем</td>\n",
       "      <td>0</td>\n",
       "      <td>M</td>\n",
       "      <td>компаньон</td>\n",
       "      <td>0</td>\n",
       "      <td>NaN</td>\n",
       "      <td>покупка жилой недвижимости</td>\n",
       "    </tr>\n",
       "    <tr>\n",
       "      <td>21404</td>\n",
       "      <td>20</td>\n",
       "      <td>-494.788448</td>\n",
       "      <td>52</td>\n",
       "      <td>среднее</td>\n",
       "      <td>1</td>\n",
       "      <td>женат / замужем</td>\n",
       "      <td>0</td>\n",
       "      <td>M</td>\n",
       "      <td>компаньон</td>\n",
       "      <td>0</td>\n",
       "      <td>156629.683642</td>\n",
       "      <td>операции со своей недвижимостью</td>\n",
       "    </tr>\n",
       "    <tr>\n",
       "      <td>21491</td>\n",
       "      <td>20</td>\n",
       "      <td>-173.954460</td>\n",
       "      <td>27</td>\n",
       "      <td>среднее</td>\n",
       "      <td>1</td>\n",
       "      <td>женат / замужем</td>\n",
       "      <td>0</td>\n",
       "      <td>F</td>\n",
       "      <td>сотрудник</td>\n",
       "      <td>0</td>\n",
       "      <td>155520.899688</td>\n",
       "      <td>на покупку подержанного автомобиля</td>\n",
       "    </tr>\n",
       "  </tbody>\n",
       "</table>\n",
       "<p>76 rows × 12 columns</p>\n",
       "</div>"
      ],
      "text/plain": [
       "       children  days_employed  dob_years education  education_id  \\\n",
       "606          20    -880.221113         21   среднее             1   \n",
       "720          20    -855.595512         44   среднее             1   \n",
       "1074         20   -3310.411598         56   среднее             1   \n",
       "2510         20   -2714.161249         59    высшее             0   \n",
       "2941         20   -2161.591519          0   среднее             1   \n",
       "...         ...            ...        ...       ...           ...   \n",
       "21008        20   -1240.257910         40   среднее             1   \n",
       "21325        20    -601.174883         37   среднее             1   \n",
       "21390        20            NaN         53   среднее             1   \n",
       "21404        20    -494.788448         52   среднее             1   \n",
       "21491        20    -173.954460         27   среднее             1   \n",
       "\n",
       "         family_status  family_status_id gender income_type  debt  \\\n",
       "606    женат / замужем                 0      M   компаньон     0   \n",
       "720    женат / замужем                 0      F   компаньон     0   \n",
       "1074   женат / замужем                 0      F   сотрудник     1   \n",
       "2510    вдовец / вдова                 2      F   сотрудник     0   \n",
       "2941   женат / замужем                 0      F   сотрудник     0   \n",
       "...                ...               ...    ...         ...   ...   \n",
       "21008  женат / замужем                 0      F   сотрудник     1   \n",
       "21325  женат / замужем                 0      F   компаньон     0   \n",
       "21390  женат / замужем                 0      M   компаньон     0   \n",
       "21404  женат / замужем                 0      M   компаньон     0   \n",
       "21491  женат / замужем                 0      F   сотрудник     0   \n",
       "\n",
       "        total_income                                purpose  \n",
       "606    145334.865002                          покупка жилья  \n",
       "720    112998.738649                   покупка недвижимости  \n",
       "1074   229518.537004                  получение образования  \n",
       "2510   264474.835577  операции с коммерческой недвижимостью  \n",
       "2941   199739.941398                  на покупку автомобиля  \n",
       "...              ...                                    ...  \n",
       "21008  133524.010303                        свой автомобиль  \n",
       "21325  102986.065978                 профильное образование  \n",
       "21390            NaN             покупка жилой недвижимости  \n",
       "21404  156629.683642        операции со своей недвижимостью  \n",
       "21491  155520.899688     на покупку подержанного автомобиля  \n",
       "\n",
       "[76 rows x 12 columns]"
      ]
     },
     "execution_count": 10,
     "metadata": {},
     "output_type": "execute_result"
    }
   ],
   "source": [
    "data[data['children'] == 20]"
   ]
  },
  {
   "cell_type": "markdown",
   "id": "12657bfa",
   "metadata": {},
   "source": [
    "Заменим все значения \"-1\" и \"20\" в датафрейме в столбце 'children' на \"1\" и \"2\" соответственно."
   ]
  },
  {
   "cell_type": "code",
   "execution_count": 11,
   "id": "e9a71c15",
   "metadata": {},
   "outputs": [],
   "source": [
    "data['children'] = data['children'].replace(20, 2)\n",
    "data['children'] = data['children'].replace(-1, 1)"
   ]
  },
  {
   "cell_type": "markdown",
   "id": "3547913d",
   "metadata": {},
   "source": [
    "Проверим результат:"
   ]
  },
  {
   "cell_type": "code",
   "execution_count": 12,
   "id": "802af488",
   "metadata": {},
   "outputs": [
    {
     "data": {
      "text/plain": [
       "array([0, 1, 2, 3, 4, 5])"
      ]
     },
     "execution_count": 12,
     "metadata": {},
     "output_type": "execute_result"
    }
   ],
   "source": [
    "data['children'].sort_values().unique()"
   ]
  },
  {
   "cell_type": "markdown",
   "id": "1ab2042d",
   "metadata": {},
   "source": [
    "#### Столбец 'dob_years'."
   ]
  },
  {
   "cell_type": "markdown",
   "id": "8df024fe",
   "metadata": {},
   "source": [
    "Проверим колонку 'dob_years' (возраст клиента в годах) на уникальные значения. "
   ]
  },
  {
   "cell_type": "code",
   "execution_count": 13,
   "id": "d5af7f47",
   "metadata": {},
   "outputs": [
    {
     "data": {
      "text/plain": [
       "array([ 0, 19, 20, 21, 22, 23, 24, 25, 26, 27, 28, 29, 30, 31, 32, 33, 34,\n",
       "       35, 36, 37, 38, 39, 40, 41, 42, 43, 44, 45, 46, 47, 48, 49, 50, 51,\n",
       "       52, 53, 54, 55, 56, 57, 58, 59, 60, 61, 62, 63, 64, 65, 66, 67, 68,\n",
       "       69, 70, 71, 72, 73, 74, 75])"
      ]
     },
     "execution_count": 13,
     "metadata": {},
     "output_type": "execute_result"
    }
   ],
   "source": [
    "data['dob_years'].sort_values().unique()"
   ]
  },
  {
   "cell_type": "markdown",
   "id": "7d608493",
   "metadata": {},
   "source": [
    "В выведенных данных содержится значение \"0\". Посмотрим на строки с этим значением в колонке 'dob_years'."
   ]
  },
  {
   "cell_type": "code",
   "execution_count": 14,
   "id": "cd429bab",
   "metadata": {},
   "outputs": [
    {
     "data": {
      "text/html": [
       "<div>\n",
       "<style scoped>\n",
       "    .dataframe tbody tr th:only-of-type {\n",
       "        vertical-align: middle;\n",
       "    }\n",
       "\n",
       "    .dataframe tbody tr th {\n",
       "        vertical-align: top;\n",
       "    }\n",
       "\n",
       "    .dataframe thead th {\n",
       "        text-align: right;\n",
       "    }\n",
       "</style>\n",
       "<table border=\"1\" class=\"dataframe\">\n",
       "  <thead>\n",
       "    <tr style=\"text-align: right;\">\n",
       "      <th></th>\n",
       "      <th>children</th>\n",
       "      <th>days_employed</th>\n",
       "      <th>dob_years</th>\n",
       "      <th>education</th>\n",
       "      <th>education_id</th>\n",
       "      <th>family_status</th>\n",
       "      <th>family_status_id</th>\n",
       "      <th>gender</th>\n",
       "      <th>income_type</th>\n",
       "      <th>debt</th>\n",
       "      <th>total_income</th>\n",
       "      <th>purpose</th>\n",
       "    </tr>\n",
       "  </thead>\n",
       "  <tbody>\n",
       "    <tr>\n",
       "      <td>99</td>\n",
       "      <td>0</td>\n",
       "      <td>346541.618895</td>\n",
       "      <td>0</td>\n",
       "      <td>Среднее</td>\n",
       "      <td>1</td>\n",
       "      <td>женат / замужем</td>\n",
       "      <td>0</td>\n",
       "      <td>F</td>\n",
       "      <td>пенсионер</td>\n",
       "      <td>0</td>\n",
       "      <td>71291.522491</td>\n",
       "      <td>автомобиль</td>\n",
       "    </tr>\n",
       "    <tr>\n",
       "      <td>149</td>\n",
       "      <td>0</td>\n",
       "      <td>-2664.273168</td>\n",
       "      <td>0</td>\n",
       "      <td>среднее</td>\n",
       "      <td>1</td>\n",
       "      <td>в разводе</td>\n",
       "      <td>3</td>\n",
       "      <td>F</td>\n",
       "      <td>сотрудник</td>\n",
       "      <td>0</td>\n",
       "      <td>70176.435951</td>\n",
       "      <td>операции с жильем</td>\n",
       "    </tr>\n",
       "    <tr>\n",
       "      <td>270</td>\n",
       "      <td>3</td>\n",
       "      <td>-1872.663186</td>\n",
       "      <td>0</td>\n",
       "      <td>среднее</td>\n",
       "      <td>1</td>\n",
       "      <td>женат / замужем</td>\n",
       "      <td>0</td>\n",
       "      <td>F</td>\n",
       "      <td>сотрудник</td>\n",
       "      <td>0</td>\n",
       "      <td>102166.458894</td>\n",
       "      <td>ремонт жилью</td>\n",
       "    </tr>\n",
       "    <tr>\n",
       "      <td>578</td>\n",
       "      <td>0</td>\n",
       "      <td>397856.565013</td>\n",
       "      <td>0</td>\n",
       "      <td>среднее</td>\n",
       "      <td>1</td>\n",
       "      <td>женат / замужем</td>\n",
       "      <td>0</td>\n",
       "      <td>F</td>\n",
       "      <td>пенсионер</td>\n",
       "      <td>0</td>\n",
       "      <td>97620.687042</td>\n",
       "      <td>строительство собственной недвижимости</td>\n",
       "    </tr>\n",
       "    <tr>\n",
       "      <td>1040</td>\n",
       "      <td>0</td>\n",
       "      <td>-1158.029561</td>\n",
       "      <td>0</td>\n",
       "      <td>высшее</td>\n",
       "      <td>0</td>\n",
       "      <td>в разводе</td>\n",
       "      <td>3</td>\n",
       "      <td>F</td>\n",
       "      <td>компаньон</td>\n",
       "      <td>0</td>\n",
       "      <td>303994.134987</td>\n",
       "      <td>свой автомобиль</td>\n",
       "    </tr>\n",
       "    <tr>\n",
       "      <td>1149</td>\n",
       "      <td>0</td>\n",
       "      <td>-934.654854</td>\n",
       "      <td>0</td>\n",
       "      <td>среднее</td>\n",
       "      <td>1</td>\n",
       "      <td>женат / замужем</td>\n",
       "      <td>0</td>\n",
       "      <td>F</td>\n",
       "      <td>компаньон</td>\n",
       "      <td>0</td>\n",
       "      <td>201852.430096</td>\n",
       "      <td>покупка недвижимости</td>\n",
       "    </tr>\n",
       "    <tr>\n",
       "      <td>1175</td>\n",
       "      <td>0</td>\n",
       "      <td>370879.508002</td>\n",
       "      <td>0</td>\n",
       "      <td>среднее</td>\n",
       "      <td>1</td>\n",
       "      <td>женат / замужем</td>\n",
       "      <td>0</td>\n",
       "      <td>F</td>\n",
       "      <td>пенсионер</td>\n",
       "      <td>0</td>\n",
       "      <td>313949.845188</td>\n",
       "      <td>получение дополнительного образования</td>\n",
       "    </tr>\n",
       "    <tr>\n",
       "      <td>1386</td>\n",
       "      <td>0</td>\n",
       "      <td>-5043.219890</td>\n",
       "      <td>0</td>\n",
       "      <td>высшее</td>\n",
       "      <td>0</td>\n",
       "      <td>женат / замужем</td>\n",
       "      <td>0</td>\n",
       "      <td>M</td>\n",
       "      <td>госслужащий</td>\n",
       "      <td>0</td>\n",
       "      <td>240523.618071</td>\n",
       "      <td>сделка с автомобилем</td>\n",
       "    </tr>\n",
       "    <tr>\n",
       "      <td>1890</td>\n",
       "      <td>0</td>\n",
       "      <td>NaN</td>\n",
       "      <td>0</td>\n",
       "      <td>высшее</td>\n",
       "      <td>0</td>\n",
       "      <td>Не женат / не замужем</td>\n",
       "      <td>4</td>\n",
       "      <td>F</td>\n",
       "      <td>сотрудник</td>\n",
       "      <td>0</td>\n",
       "      <td>NaN</td>\n",
       "      <td>жилье</td>\n",
       "    </tr>\n",
       "    <tr>\n",
       "      <td>1898</td>\n",
       "      <td>0</td>\n",
       "      <td>370144.537021</td>\n",
       "      <td>0</td>\n",
       "      <td>среднее</td>\n",
       "      <td>1</td>\n",
       "      <td>вдовец / вдова</td>\n",
       "      <td>2</td>\n",
       "      <td>F</td>\n",
       "      <td>пенсионер</td>\n",
       "      <td>0</td>\n",
       "      <td>127400.268338</td>\n",
       "      <td>на покупку автомобиля</td>\n",
       "    </tr>\n",
       "  </tbody>\n",
       "</table>\n",
       "</div>"
      ],
      "text/plain": [
       "      children  days_employed  dob_years education  education_id  \\\n",
       "99           0  346541.618895          0   Среднее             1   \n",
       "149          0   -2664.273168          0   среднее             1   \n",
       "270          3   -1872.663186          0   среднее             1   \n",
       "578          0  397856.565013          0   среднее             1   \n",
       "1040         0   -1158.029561          0    высшее             0   \n",
       "1149         0    -934.654854          0   среднее             1   \n",
       "1175         0  370879.508002          0   среднее             1   \n",
       "1386         0   -5043.219890          0    высшее             0   \n",
       "1890         0            NaN          0    высшее             0   \n",
       "1898         0  370144.537021          0   среднее             1   \n",
       "\n",
       "              family_status  family_status_id gender  income_type  debt  \\\n",
       "99          женат / замужем                 0      F    пенсионер     0   \n",
       "149               в разводе                 3      F    сотрудник     0   \n",
       "270         женат / замужем                 0      F    сотрудник     0   \n",
       "578         женат / замужем                 0      F    пенсионер     0   \n",
       "1040              в разводе                 3      F    компаньон     0   \n",
       "1149        женат / замужем                 0      F    компаньон     0   \n",
       "1175        женат / замужем                 0      F    пенсионер     0   \n",
       "1386        женат / замужем                 0      M  госслужащий     0   \n",
       "1890  Не женат / не замужем                 4      F    сотрудник     0   \n",
       "1898         вдовец / вдова                 2      F    пенсионер     0   \n",
       "\n",
       "       total_income                                 purpose  \n",
       "99     71291.522491                              автомобиль  \n",
       "149    70176.435951                       операции с жильем  \n",
       "270   102166.458894                            ремонт жилью  \n",
       "578    97620.687042  строительство собственной недвижимости  \n",
       "1040  303994.134987                         свой автомобиль  \n",
       "1149  201852.430096                    покупка недвижимости  \n",
       "1175  313949.845188   получение дополнительного образования  \n",
       "1386  240523.618071                    сделка с автомобилем  \n",
       "1890            NaN                                   жилье  \n",
       "1898  127400.268338                   на покупку автомобиля  "
      ]
     },
     "execution_count": 14,
     "metadata": {},
     "output_type": "execute_result"
    }
   ],
   "source": [
    "(data[data['dob_years'] == 0]).head(10)"
   ]
  },
  {
   "cell_type": "code",
   "execution_count": 15,
   "id": "5f34ccec",
   "metadata": {},
   "outputs": [
    {
     "name": "stdout",
     "output_type": "stream",
     "text": [
      "Кол-во строк в которых возраст клиента равен \"нулю\" составляет: 101 шт. - 0.47 % от общего кол-ва строк ДФ\n"
     ]
    }
   ],
   "source": [
    "print('Кол-во строк в которых возраст клиента равен \"нулю\" составляет:',\n",
    "      len(data[data['dob_years'] == 0]), 'шт.', '-', \n",
    "      round(len(data[data['dob_years'] == 0]) / len(data['dob_years']) *100,\n",
    "            2), '% от общего кол-ва строк ДФ')"
   ]
  },
  {
   "cell_type": "markdown",
   "id": "7d329131",
   "metadata": {},
   "source": [
    "Кол-во строк меньше 0,5%. Это относительно малое значение и можно удалить эти строки т.к. не получится востановить иинформацию по ним."
   ]
  },
  {
   "cell_type": "code",
   "execution_count": 16,
   "id": "a2ebdeb6",
   "metadata": {},
   "outputs": [],
   "source": [
    "data = data[data['dob_years'] != 0]"
   ]
  },
  {
   "cell_type": "markdown",
   "id": "c21d107a",
   "metadata": {},
   "source": [
    "Проверим кол-во строк в которых возраст клиента равен \"0\":"
   ]
  },
  {
   "cell_type": "code",
   "execution_count": 17,
   "id": "917d57ea",
   "metadata": {},
   "outputs": [
    {
     "name": "stdout",
     "output_type": "stream",
     "text": [
      "Кол-во строк в которых возраст клиента равен \"нулю\": 0 шт.\n"
     ]
    }
   ],
   "source": [
    "print('Кол-во строк в которых возраст клиента равен \"нулю\":',\n",
    "      len(data[data['dob_years'] == 0]), 'шт.')"
   ]
  },
  {
   "cell_type": "markdown",
   "id": "b039c358",
   "metadata": {},
   "source": [
    "#### Столбец 'days_employed'"
   ]
  },
  {
   "cell_type": "markdown",
   "id": "44d92ec1",
   "metadata": {},
   "source": [
    "Заменим все отрицательные значения в столбце 'days_employed' на положительные."
   ]
  },
  {
   "cell_type": "code",
   "execution_count": 18,
   "id": "d64a9d9b",
   "metadata": {},
   "outputs": [],
   "source": [
    "data['days_employed'] = data['days_employed'].abs()"
   ]
  },
  {
   "cell_type": "code",
   "execution_count": 19,
   "id": "e6c1c2eb",
   "metadata": {},
   "outputs": [
    {
     "name": "stdout",
     "output_type": "stream",
     "text": [
      "Кол-во отричательных значений в столбце \"days_employed\": 0 шт.\n"
     ]
    }
   ],
   "source": [
    "print('Кол-во отричательных значений в столбце \"days_employed\":',data['days_employed'][data['days_employed'] < 0].count(),'шт.')"
   ]
  },
  {
   "cell_type": "markdown",
   "id": "eb7c782b",
   "metadata": {},
   "source": [
    "Переведем в года занчения столбца 'days_employed' с точностью до десятых. Т.к. далее сортировка будет выполняться по возрастным группам, считаю точность определения лет стажа достаточной."
   ]
  },
  {
   "cell_type": "code",
   "execution_count": 20,
   "id": "bb01b078",
   "metadata": {},
   "outputs": [
    {
     "data": {
      "text/html": [
       "<div>\n",
       "<style scoped>\n",
       "    .dataframe tbody tr th:only-of-type {\n",
       "        vertical-align: middle;\n",
       "    }\n",
       "\n",
       "    .dataframe tbody tr th {\n",
       "        vertical-align: top;\n",
       "    }\n",
       "\n",
       "    .dataframe thead th {\n",
       "        text-align: right;\n",
       "    }\n",
       "</style>\n",
       "<table border=\"1\" class=\"dataframe\">\n",
       "  <thead>\n",
       "    <tr style=\"text-align: right;\">\n",
       "      <th></th>\n",
       "      <th>children</th>\n",
       "      <th>days_employed</th>\n",
       "      <th>dob_years</th>\n",
       "      <th>education</th>\n",
       "      <th>education_id</th>\n",
       "      <th>family_status</th>\n",
       "      <th>family_status_id</th>\n",
       "      <th>gender</th>\n",
       "      <th>income_type</th>\n",
       "      <th>debt</th>\n",
       "      <th>total_income</th>\n",
       "      <th>purpose</th>\n",
       "      <th>years_employed</th>\n",
       "    </tr>\n",
       "  </thead>\n",
       "  <tbody>\n",
       "    <tr>\n",
       "      <td>0</td>\n",
       "      <td>1</td>\n",
       "      <td>8437.673028</td>\n",
       "      <td>42</td>\n",
       "      <td>высшее</td>\n",
       "      <td>0</td>\n",
       "      <td>женат / замужем</td>\n",
       "      <td>0</td>\n",
       "      <td>F</td>\n",
       "      <td>сотрудник</td>\n",
       "      <td>0</td>\n",
       "      <td>253875.639453</td>\n",
       "      <td>покупка жилья</td>\n",
       "      <td>23.1</td>\n",
       "    </tr>\n",
       "    <tr>\n",
       "      <td>1</td>\n",
       "      <td>1</td>\n",
       "      <td>4024.803754</td>\n",
       "      <td>36</td>\n",
       "      <td>среднее</td>\n",
       "      <td>1</td>\n",
       "      <td>женат / замужем</td>\n",
       "      <td>0</td>\n",
       "      <td>F</td>\n",
       "      <td>сотрудник</td>\n",
       "      <td>0</td>\n",
       "      <td>112080.014102</td>\n",
       "      <td>приобретение автомобиля</td>\n",
       "      <td>11.0</td>\n",
       "    </tr>\n",
       "    <tr>\n",
       "      <td>2</td>\n",
       "      <td>0</td>\n",
       "      <td>5623.422610</td>\n",
       "      <td>33</td>\n",
       "      <td>Среднее</td>\n",
       "      <td>1</td>\n",
       "      <td>женат / замужем</td>\n",
       "      <td>0</td>\n",
       "      <td>M</td>\n",
       "      <td>сотрудник</td>\n",
       "      <td>0</td>\n",
       "      <td>145885.952297</td>\n",
       "      <td>покупка жилья</td>\n",
       "      <td>15.4</td>\n",
       "    </tr>\n",
       "    <tr>\n",
       "      <td>3</td>\n",
       "      <td>3</td>\n",
       "      <td>4124.747207</td>\n",
       "      <td>32</td>\n",
       "      <td>среднее</td>\n",
       "      <td>1</td>\n",
       "      <td>женат / замужем</td>\n",
       "      <td>0</td>\n",
       "      <td>M</td>\n",
       "      <td>сотрудник</td>\n",
       "      <td>0</td>\n",
       "      <td>267628.550329</td>\n",
       "      <td>дополнительное образование</td>\n",
       "      <td>11.3</td>\n",
       "    </tr>\n",
       "    <tr>\n",
       "      <td>4</td>\n",
       "      <td>0</td>\n",
       "      <td>340266.072047</td>\n",
       "      <td>53</td>\n",
       "      <td>среднее</td>\n",
       "      <td>1</td>\n",
       "      <td>гражданский брак</td>\n",
       "      <td>1</td>\n",
       "      <td>F</td>\n",
       "      <td>пенсионер</td>\n",
       "      <td>0</td>\n",
       "      <td>158616.077870</td>\n",
       "      <td>сыграть свадьбу</td>\n",
       "      <td>932.2</td>\n",
       "    </tr>\n",
       "    <tr>\n",
       "      <td>...</td>\n",
       "      <td>...</td>\n",
       "      <td>...</td>\n",
       "      <td>...</td>\n",
       "      <td>...</td>\n",
       "      <td>...</td>\n",
       "      <td>...</td>\n",
       "      <td>...</td>\n",
       "      <td>...</td>\n",
       "      <td>...</td>\n",
       "      <td>...</td>\n",
       "      <td>...</td>\n",
       "      <td>...</td>\n",
       "      <td>...</td>\n",
       "    </tr>\n",
       "    <tr>\n",
       "      <td>21520</td>\n",
       "      <td>1</td>\n",
       "      <td>4529.316663</td>\n",
       "      <td>43</td>\n",
       "      <td>среднее</td>\n",
       "      <td>1</td>\n",
       "      <td>гражданский брак</td>\n",
       "      <td>1</td>\n",
       "      <td>F</td>\n",
       "      <td>компаньон</td>\n",
       "      <td>0</td>\n",
       "      <td>224791.862382</td>\n",
       "      <td>операции с жильем</td>\n",
       "      <td>12.4</td>\n",
       "    </tr>\n",
       "    <tr>\n",
       "      <td>21521</td>\n",
       "      <td>0</td>\n",
       "      <td>343937.404131</td>\n",
       "      <td>67</td>\n",
       "      <td>среднее</td>\n",
       "      <td>1</td>\n",
       "      <td>женат / замужем</td>\n",
       "      <td>0</td>\n",
       "      <td>F</td>\n",
       "      <td>пенсионер</td>\n",
       "      <td>0</td>\n",
       "      <td>155999.806512</td>\n",
       "      <td>сделка с автомобилем</td>\n",
       "      <td>942.3</td>\n",
       "    </tr>\n",
       "    <tr>\n",
       "      <td>21522</td>\n",
       "      <td>1</td>\n",
       "      <td>2113.346888</td>\n",
       "      <td>38</td>\n",
       "      <td>среднее</td>\n",
       "      <td>1</td>\n",
       "      <td>гражданский брак</td>\n",
       "      <td>1</td>\n",
       "      <td>M</td>\n",
       "      <td>сотрудник</td>\n",
       "      <td>1</td>\n",
       "      <td>89672.561153</td>\n",
       "      <td>недвижимость</td>\n",
       "      <td>5.8</td>\n",
       "    </tr>\n",
       "    <tr>\n",
       "      <td>21523</td>\n",
       "      <td>3</td>\n",
       "      <td>3112.481705</td>\n",
       "      <td>38</td>\n",
       "      <td>среднее</td>\n",
       "      <td>1</td>\n",
       "      <td>женат / замужем</td>\n",
       "      <td>0</td>\n",
       "      <td>M</td>\n",
       "      <td>сотрудник</td>\n",
       "      <td>1</td>\n",
       "      <td>244093.050500</td>\n",
       "      <td>на покупку своего автомобиля</td>\n",
       "      <td>8.5</td>\n",
       "    </tr>\n",
       "    <tr>\n",
       "      <td>21524</td>\n",
       "      <td>2</td>\n",
       "      <td>1984.507589</td>\n",
       "      <td>40</td>\n",
       "      <td>среднее</td>\n",
       "      <td>1</td>\n",
       "      <td>женат / замужем</td>\n",
       "      <td>0</td>\n",
       "      <td>F</td>\n",
       "      <td>сотрудник</td>\n",
       "      <td>0</td>\n",
       "      <td>82047.418899</td>\n",
       "      <td>на покупку автомобиля</td>\n",
       "      <td>5.4</td>\n",
       "    </tr>\n",
       "  </tbody>\n",
       "</table>\n",
       "<p>21424 rows × 13 columns</p>\n",
       "</div>"
      ],
      "text/plain": [
       "       children  days_employed  dob_years education  education_id  \\\n",
       "0             1    8437.673028         42    высшее             0   \n",
       "1             1    4024.803754         36   среднее             1   \n",
       "2             0    5623.422610         33   Среднее             1   \n",
       "3             3    4124.747207         32   среднее             1   \n",
       "4             0  340266.072047         53   среднее             1   \n",
       "...         ...            ...        ...       ...           ...   \n",
       "21520         1    4529.316663         43   среднее             1   \n",
       "21521         0  343937.404131         67   среднее             1   \n",
       "21522         1    2113.346888         38   среднее             1   \n",
       "21523         3    3112.481705         38   среднее             1   \n",
       "21524         2    1984.507589         40   среднее             1   \n",
       "\n",
       "          family_status  family_status_id gender income_type  debt  \\\n",
       "0       женат / замужем                 0      F   сотрудник     0   \n",
       "1       женат / замужем                 0      F   сотрудник     0   \n",
       "2       женат / замужем                 0      M   сотрудник     0   \n",
       "3       женат / замужем                 0      M   сотрудник     0   \n",
       "4      гражданский брак                 1      F   пенсионер     0   \n",
       "...                 ...               ...    ...         ...   ...   \n",
       "21520  гражданский брак                 1      F   компаньон     0   \n",
       "21521   женат / замужем                 0      F   пенсионер     0   \n",
       "21522  гражданский брак                 1      M   сотрудник     1   \n",
       "21523   женат / замужем                 0      M   сотрудник     1   \n",
       "21524   женат / замужем                 0      F   сотрудник     0   \n",
       "\n",
       "        total_income                       purpose  years_employed  \n",
       "0      253875.639453                 покупка жилья            23.1  \n",
       "1      112080.014102       приобретение автомобиля            11.0  \n",
       "2      145885.952297                 покупка жилья            15.4  \n",
       "3      267628.550329    дополнительное образование            11.3  \n",
       "4      158616.077870               сыграть свадьбу           932.2  \n",
       "...              ...                           ...             ...  \n",
       "21520  224791.862382             операции с жильем            12.4  \n",
       "21521  155999.806512          сделка с автомобилем           942.3  \n",
       "21522   89672.561153                  недвижимость             5.8  \n",
       "21523  244093.050500  на покупку своего автомобиля             8.5  \n",
       "21524   82047.418899         на покупку автомобиля             5.4  \n",
       "\n",
       "[21424 rows x 13 columns]"
      ]
     },
     "metadata": {},
     "output_type": "display_data"
    }
   ],
   "source": [
    "data['years_employed'] = round(data['days_employed'] / 365 , 1)\n",
    "display(data)"
   ]
  },
  {
   "cell_type": "code",
   "execution_count": 21,
   "id": "0a0f46c6",
   "metadata": {},
   "outputs": [
    {
     "name": "stdout",
     "output_type": "stream",
     "text": [
      "Стаж 51 год и менее: 15832 человека - 73.9 %\n",
      "Стаж более 51 года: 3428 человек - 16.0 %\n"
     ]
    }
   ],
   "source": [
    "years_employed = 51\n",
    "employed_until = data[data['years_employed'] <= years_employed]\n",
    "employed_above = data[data['years_employed'] >= years_employed]\n",
    "print('Стаж', years_employed,'год и менее:',\n",
    "      len(employed_until['years_employed']),'человека','-',\n",
    "     round(len(employed_until['years_employed']) / \n",
    "           len(data['years_employed']) * 100,1), '%')\n",
    "print('Стаж более', years_employed, 'года:',\n",
    "      len(employed_above['years_employed']),'человек', '-',\n",
    "     round(len(employed_above['years_employed']) / \n",
    "           len(data['years_employed']) * 100,1), '%')"
   ]
  },
  {
   "cell_type": "markdown",
   "id": "52cd6da4",
   "metadata": {},
   "source": [
    "Стаж в 51 год это пороговое значение, которое отделяет нереальные показатели от реально возможных. Выведем на экран список уникальных знвчений колонки 'eyers_employed'."
   ]
  },
  {
   "cell_type": "code",
   "execution_count": 22,
   "id": "a197bb59",
   "metadata": {},
   "outputs": [
    {
     "data": {
      "text/plain": [
       "array([ 900.6,  900.7,  900.8, ..., 1100.5, 1100.6, 1100.7])"
      ]
     },
     "execution_count": 22,
     "metadata": {},
     "output_type": "execute_result"
    }
   ],
   "source": [
    "employed_above['years_employed'].sort_values().unique()"
   ]
  },
  {
   "cell_type": "markdown",
   "id": "abc4c79e",
   "metadata": {},
   "source": [
    "Посмотрим какие категории людей попали в список с нераельным стажем работы."
   ]
  },
  {
   "cell_type": "code",
   "execution_count": 23,
   "id": "a9eb24d3",
   "metadata": {},
   "outputs": [
    {
     "data": {
      "text/plain": [
       "array(['пенсионер', 'безработный'], dtype=object)"
      ]
     },
     "execution_count": 23,
     "metadata": {},
     "output_type": "execute_result"
    }
   ],
   "source": [
    "employed_above['income_type'].unique()"
   ]
  },
  {
   "cell_type": "markdown",
   "id": "3ee5bfe8",
   "metadata": {},
   "source": [
    "Доля строк велика и удалять их нельзя. Пока оставим эти строки, возможно в дальнейшем заменим их на медианные значения по \"стажу работы\"."
   ]
  },
  {
   "cell_type": "markdown",
   "id": "606f3b35",
   "metadata": {},
   "source": [
    "#### Столбец 'gender'."
   ]
  },
  {
   "cell_type": "markdown",
   "id": "fadf7e55",
   "metadata": {},
   "source": [
    "Посмотрим уникальные значения столбца 'gender'."
   ]
  },
  {
   "cell_type": "code",
   "execution_count": 24,
   "id": "b8a44119",
   "metadata": {},
   "outputs": [
    {
     "name": "stdout",
     "output_type": "stream",
     "text": [
      "['F' 'M' 'XNA']\n"
     ]
    }
   ],
   "source": [
    "print(data['gender'].sort_values().unique())"
   ]
  },
  {
   "cell_type": "markdown",
   "id": "66ad0934",
   "metadata": {},
   "source": [
    "В выборке по 'полу' присутствует одно значение, которое не поддается описанию, оставим пока это без изменений. Выведем эту строчку и проанализируем ее."
   ]
  },
  {
   "cell_type": "code",
   "execution_count": 25,
   "id": "6f4748e2",
   "metadata": {},
   "outputs": [
    {
     "data": {
      "text/html": [
       "<div>\n",
       "<style scoped>\n",
       "    .dataframe tbody tr th:only-of-type {\n",
       "        vertical-align: middle;\n",
       "    }\n",
       "\n",
       "    .dataframe tbody tr th {\n",
       "        vertical-align: top;\n",
       "    }\n",
       "\n",
       "    .dataframe thead th {\n",
       "        text-align: right;\n",
       "    }\n",
       "</style>\n",
       "<table border=\"1\" class=\"dataframe\">\n",
       "  <thead>\n",
       "    <tr style=\"text-align: right;\">\n",
       "      <th></th>\n",
       "      <th>children</th>\n",
       "      <th>days_employed</th>\n",
       "      <th>dob_years</th>\n",
       "      <th>education</th>\n",
       "      <th>education_id</th>\n",
       "      <th>family_status</th>\n",
       "      <th>family_status_id</th>\n",
       "      <th>gender</th>\n",
       "      <th>income_type</th>\n",
       "      <th>debt</th>\n",
       "      <th>total_income</th>\n",
       "      <th>purpose</th>\n",
       "      <th>years_employed</th>\n",
       "    </tr>\n",
       "  </thead>\n",
       "  <tbody>\n",
       "    <tr>\n",
       "      <td>10701</td>\n",
       "      <td>0</td>\n",
       "      <td>2358.600502</td>\n",
       "      <td>24</td>\n",
       "      <td>неоконченное высшее</td>\n",
       "      <td>2</td>\n",
       "      <td>гражданский брак</td>\n",
       "      <td>1</td>\n",
       "      <td>XNA</td>\n",
       "      <td>компаньон</td>\n",
       "      <td>0</td>\n",
       "      <td>203905.157261</td>\n",
       "      <td>покупка недвижимости</td>\n",
       "      <td>6.5</td>\n",
       "    </tr>\n",
       "  </tbody>\n",
       "</table>\n",
       "</div>"
      ],
      "text/plain": [
       "       children  days_employed  dob_years            education  education_id  \\\n",
       "10701         0    2358.600502         24  неоконченное высшее             2   \n",
       "\n",
       "          family_status  family_status_id gender income_type  debt  \\\n",
       "10701  гражданский брак                 1    XNA   компаньон     0   \n",
       "\n",
       "        total_income               purpose  years_employed  \n",
       "10701  203905.157261  покупка недвижимости             6.5  "
      ]
     },
     "execution_count": 25,
     "metadata": {},
     "output_type": "execute_result"
    }
   ],
   "source": [
    "data[data['gender'] == 'XNA']"
   ]
  },
  {
   "cell_type": "markdown",
   "id": "b5e066e5",
   "metadata": {},
   "source": [
    "Больше похоже на ошибку системы при записи данных. Если в дальнейшем придется фильтровать по полу, то удалим эту строку."
   ]
  },
  {
   "cell_type": "markdown",
   "id": "c095e3d6",
   "metadata": {},
   "source": [
    "### Шаг 2.2 Удаление дубликатов."
   ]
  },
  {
   "cell_type": "markdown",
   "id": "4e8c7204",
   "metadata": {},
   "source": [
    "#### Столбец 'education'"
   ]
  },
  {
   "cell_type": "markdown",
   "id": "a271dde3",
   "metadata": {},
   "source": [
    "Выведем на экран уникальные значения колонки 'education'"
   ]
  },
  {
   "cell_type": "code",
   "execution_count": 26,
   "id": "841517d9",
   "metadata": {},
   "outputs": [
    {
     "data": {
      "text/plain": [
       "array(['ВЫСШЕЕ', 'Высшее', 'НАЧАЛЬНОЕ', 'НЕОКОНЧЕННОЕ ВЫСШЕЕ',\n",
       "       'Начальное', 'Неоконченное высшее', 'СРЕДНЕЕ', 'Среднее',\n",
       "       'УЧЕНАЯ СТЕПЕНЬ', 'Ученая степень', 'высшее', 'начальное',\n",
       "       'неоконченное высшее', 'среднее', 'ученая степень'], dtype=object)"
      ]
     },
     "execution_count": 26,
     "metadata": {},
     "output_type": "execute_result"
    }
   ],
   "source": [
    "data['education'].sort_values().unique()"
   ]
  },
  {
   "cell_type": "markdown",
   "id": "1d297b53",
   "metadata": {},
   "source": [
    "Напишем функцию, которая заменит все неявные дубликаты в колонке 'education'"
   ]
  },
  {
   "cell_type": "code",
   "execution_count": 27,
   "id": "601ef1f7",
   "metadata": {},
   "outputs": [],
   "source": [
    "def replace_wrong_education(wrong_education):\n",
    "    for item in wrong_education:\n",
    "        if item == 'ВЫСШЕЕ' or item == 'Высшее':\n",
    "            correct_education = 'высшее'\n",
    "            data['education'] = data['education'].replace(item, correct_education)\n",
    "        if item == 'НАЧАЛЬНОЕ':\n",
    "            correct_education = 'начальное'\n",
    "            data['education'] = data['education'].replace(item, correct_education)\n",
    "        if item == 'НЕОКОНЧЕННОЕ ВЫСШЕЕ' or item == 'Неоконченное высшее':\n",
    "            correct_education = 'неоконченное высшее'\n",
    "            data['education'] = data['education'].replace(item, correct_education)\n",
    "        if item == 'Начальное':\n",
    "            correct_education = 'начальное'\n",
    "            data['education'] = data['education'].replace(item, correct_education)\n",
    "        if item == 'СРЕДНЕЕ' or item == 'Среднее':\n",
    "            correct_education = 'среднее'\n",
    "            data['education'] = data['education'].replace(item, correct_education)\n",
    "        if item == 'УЧЕНАЯ СТЕПЕНЬ' or item == 'Ученая степень':\n",
    "            correct_education = 'ученая степень'\n",
    "            data['education'] = data['education'].replace(item, correct_education)"
   ]
  },
  {
   "cell_type": "code",
   "execution_count": 28,
   "id": "f8f4fb6a",
   "metadata": {},
   "outputs": [
    {
     "data": {
      "text/plain": [
       "array(['высшее', 'начальное', 'неоконченное высшее', 'среднее',\n",
       "       'ученая степень'], dtype=object)"
      ]
     },
     "execution_count": 28,
     "metadata": {},
     "output_type": "execute_result"
    }
   ],
   "source": [
    "wrong_education = data['education']\n",
    "replace_wrong_education(wrong_education)\n",
    "data['education'].sort_values().unique()"
   ]
  },
  {
   "cell_type": "markdown",
   "id": "834f7ffe",
   "metadata": {},
   "source": [
    "Неявные дубликаты отсутствуют."
   ]
  },
  {
   "cell_type": "markdown",
   "id": "a1446b07",
   "metadata": {},
   "source": [
    "#### Столбец 'family_status'"
   ]
  },
  {
   "cell_type": "markdown",
   "id": "21c4c437",
   "metadata": {},
   "source": [
    "Посмотрим уникальные значения столбца 'family_status'."
   ]
  },
  {
   "cell_type": "code",
   "execution_count": 29,
   "id": "2ee471ec",
   "metadata": {},
   "outputs": [
    {
     "name": "stdout",
     "output_type": "stream",
     "text": [
      "['Не женат / не замужем' 'в разводе' 'вдовец / вдова' 'гражданский брак'\n",
      " 'женат / замужем']\n"
     ]
    }
   ],
   "source": [
    "print(data['family_status'].sort_values().unique())"
   ]
  },
  {
   "cell_type": "markdown",
   "id": "1bb7ffc1",
   "metadata": {},
   "source": [
    "Приведем к красивому виду значения в колоннке 'family_status'."
   ]
  },
  {
   "cell_type": "code",
   "execution_count": 30,
   "id": "795afa80",
   "metadata": {},
   "outputs": [],
   "source": [
    "data['family_status'] = data['family_status'].replace('Не женат / не замужем', \n",
    "                                                      'не женат / не замужем')"
   ]
  },
  {
   "cell_type": "markdown",
   "id": "c3e23365",
   "metadata": {},
   "source": [
    "Посмотрим уникальные значения столбца 'family_status'."
   ]
  },
  {
   "cell_type": "code",
   "execution_count": 31,
   "id": "c88736d5",
   "metadata": {},
   "outputs": [
    {
     "name": "stdout",
     "output_type": "stream",
     "text": [
      "['в разводе' 'вдовец / вдова' 'гражданский брак' 'женат / замужем'\n",
      " 'не женат / не замужем']\n"
     ]
    }
   ],
   "source": [
    "print(data['family_status'].sort_values().unique())"
   ]
  },
  {
   "cell_type": "markdown",
   "id": "805664b4",
   "metadata": {},
   "source": [
    "Посмотрим уникальные значения столбца 'family_status_id'."
   ]
  },
  {
   "cell_type": "code",
   "execution_count": 32,
   "id": "180a167e",
   "metadata": {},
   "outputs": [
    {
     "name": "stdout",
     "output_type": "stream",
     "text": [
      "[0 1 2 3 4]\n"
     ]
    }
   ],
   "source": [
    "print(data['family_status_id'].sort_values().unique())"
   ]
  },
  {
   "cell_type": "code",
   "execution_count": 33,
   "id": "db7dee54",
   "metadata": {},
   "outputs": [
    {
     "name": "stdout",
     "output_type": "stream",
     "text": [
      "Кол-во строк дубликатов в таблице data: 71\n"
     ]
    }
   ],
   "source": [
    "print('Кол-во строк дубликатов в таблице data:',data.duplicated().sum()) # подсчёт явных дубликатов"
   ]
  },
  {
   "cell_type": "code",
   "execution_count": 34,
   "id": "7dddbf2d",
   "metadata": {},
   "outputs": [
    {
     "name": "stdout",
     "output_type": "stream",
     "text": [
      "Кол-во строк дубликатов после очистки данных: 0\n"
     ]
    }
   ],
   "source": [
    "#Применим метод \"drop_duplicates\" для удаления явных дубликатов.\n",
    "data.drop_duplicates()\n",
    "#Сбросим индексы в датасете.\n",
    "data = data.dropna().reset_index(drop=True)\n",
    "print('Кол-во строк дубликатов после очистки данных:',data.duplicated().sum()) # подсчёт явных дубликатов"
   ]
  },
  {
   "cell_type": "markdown",
   "id": "06ebfe6d",
   "metadata": {},
   "source": [
    "### Шаг 2.3. Изменение типов данных."
   ]
  },
  {
   "cell_type": "markdown",
   "id": "43ffbc87",
   "metadata": {},
   "source": [
    "#### Столбец 'total_income'."
   ]
  },
  {
   "cell_type": "markdown",
   "id": "573b3eab",
   "metadata": {},
   "source": [
    "Проверим колонку на наличие отрицательных значений."
   ]
  },
  {
   "cell_type": "code",
   "execution_count": 35,
   "id": "c1ddcccb",
   "metadata": {},
   "outputs": [
    {
     "name": "stdout",
     "output_type": "stream",
     "text": [
      "Кол-во отрицательных значений в колонке \"total_income\": 0 шт.\n"
     ]
    }
   ],
   "source": [
    "print('Кол-во отрицательных значений в колонке \"total_income\":',\n",
    "      (data['total_income'][data['total_income'] < 0].count()),'шт.')"
   ]
  },
  {
   "cell_type": "markdown",
   "id": "2a0fb523",
   "metadata": {},
   "source": [
    "Переведем значения столбца 'total_income' к целочисленному виду."
   ]
  },
  {
   "cell_type": "code",
   "execution_count": 36,
   "id": "1a6425bc",
   "metadata": {},
   "outputs": [
    {
     "name": "stdout",
     "output_type": "stream",
     "text": [
      "Исходный тип данных колонки \"total_income\": float64\n"
     ]
    }
   ],
   "source": [
    "print('Исходный тип данных колонки \"total_income\":',data['total_income'].dtypes)"
   ]
  },
  {
   "cell_type": "markdown",
   "id": "e66b2a19",
   "metadata": {},
   "source": [
    "Для начала посчитаем кол-во строк со значением \"0\" и 'Nan'."
   ]
  },
  {
   "cell_type": "code",
   "execution_count": 37,
   "id": "5b1c947d",
   "metadata": {},
   "outputs": [
    {
     "name": "stdout",
     "output_type": "stream",
     "text": [
      "Кол-во строк со значением \"Nan\": 0 шт.\n",
      "Кол-во строк со значением \"0\" в колонке \"total_income\": 0 шт.\n"
     ]
    }
   ],
   "source": [
    "print('Кол-во строк со значением \"Nan\":',data['total_income'].isna().sum(),\n",
    "      'шт.')\n",
    "print('Кол-во строк со значением \"0\" в колонке \"total_income\":',\n",
    "      (data['total_income'][data['total_income'] == 0].count()),'шт.')"
   ]
  },
  {
   "cell_type": "code",
   "execution_count": 38,
   "id": "6a80af76",
   "metadata": {},
   "outputs": [
    {
     "name": "stdout",
     "output_type": "stream",
     "text": [
      "Кол-во строк со значением \"0\": 0 шт.\n"
     ]
    }
   ],
   "source": [
    "data['total_income'] = data['total_income'].fillna(0)\n",
    "print('Кол-во строк со значением \"0\":',\n",
    "      data[data['total_income'] == 0]['total_income'].count(), 'шт.')"
   ]
  },
  {
   "cell_type": "markdown",
   "id": "e62febeb",
   "metadata": {},
   "source": [
    "Произведем замену типа данных колонки 'total_income'."
   ]
  },
  {
   "cell_type": "code",
   "execution_count": 39,
   "id": "61a7f011",
   "metadata": {},
   "outputs": [],
   "source": [
    "data['total_income'] = data['total_income'].astype('int64')"
   ]
  },
  {
   "cell_type": "code",
   "execution_count": 40,
   "id": "523d8148",
   "metadata": {
    "scrolled": false
   },
   "outputs": [
    {
     "name": "stdout",
     "output_type": "stream",
     "text": [
      "<class 'pandas.core.frame.DataFrame'>\n",
      "RangeIndex: 19260 entries, 0 to 19259\n",
      "Data columns (total 13 columns):\n",
      "children            19260 non-null int64\n",
      "days_employed       19260 non-null float64\n",
      "dob_years           19260 non-null int64\n",
      "education           19260 non-null object\n",
      "education_id        19260 non-null int64\n",
      "family_status       19260 non-null object\n",
      "family_status_id    19260 non-null int64\n",
      "gender              19260 non-null object\n",
      "income_type         19260 non-null object\n",
      "debt                19260 non-null int64\n",
      "total_income        19260 non-null int64\n",
      "purpose             19260 non-null object\n",
      "years_employed      19260 non-null float64\n",
      "dtypes: float64(2), int64(6), object(5)\n",
      "memory usage: 1.9+ MB\n"
     ]
    }
   ],
   "source": [
    "data.info()"
   ]
  },
  {
   "cell_type": "markdown",
   "id": "12e66126",
   "metadata": {},
   "source": [
    "В обоих столбцах доля пропущенных значений составляет 10%. Это достаточно болщой процент и удаление такого кол-ва данных повлияет на результат иследования. Поэтому заменим пропуски на медианное значение по столбцу."
   ]
  },
  {
   "cell_type": "markdown",
   "id": "e03d54ac",
   "metadata": {},
   "source": [
    "### Шаг 2.4. Заполнение пропусков."
   ]
  },
  {
   "cell_type": "code",
   "execution_count": 41,
   "id": "faf4e8b1",
   "metadata": {},
   "outputs": [
    {
     "name": "stdout",
     "output_type": "stream",
     "text": [
      "Кол-во строк со значением \"Nan\" в столбце \"days_employed\": 0 шт.\n",
      "Процент испорченных строк: 0.0 %\n"
     ]
    }
   ],
   "source": [
    "#Посчитаем кол-во строк со значением 'Nan' в столбце 'days_employed'.\n",
    "print('Кол-во строк со значением \"Nan\" в столбце \"days_employed\":',\n",
    "      len(data[data['days_employed'].isna()]), 'шт.')\n",
    "\n",
    "#Определим долю этих строк в общем кол-ве строк серии 'days_employed'.\n",
    "print('Процент испорченных строк:', \n",
    "        round(len(data[data['days_employed'].isna()]) / len(data['dob_years']) *\n",
    "        100,2), '%')"
   ]
  },
  {
   "cell_type": "code",
   "execution_count": 42,
   "id": "0068f40e",
   "metadata": {},
   "outputs": [
    {
     "name": "stdout",
     "output_type": "stream",
     "text": [
      "Кол-во строк со значением \"Nan\" в столбце \"years_employed\": 0 шт.\n",
      "Процент испорченных строк: 0.0 %\n"
     ]
    }
   ],
   "source": [
    "#Посчитаем кол-во строк со значением 'Nan' в столбце 'years_employed'.\n",
    "print('Кол-во строк со значением \"Nan\" в столбце \"years_employed\":',\n",
    "      len(data[data['years_employed'].isna()]), 'шт.')\n",
    "\n",
    "#Определим долю этих строк в общем кол-ве строк серии 'days_employed'.\n",
    "print('Процент испорченных строк:', \n",
    "        round(len(data[data['years_employed'].isna()]) / len(data['dob_years']) *\n",
    "        100,2), '%')"
   ]
  },
  {
   "cell_type": "code",
   "execution_count": 43,
   "id": "22e993ab",
   "metadata": {},
   "outputs": [
    {
     "name": "stdout",
     "output_type": "stream",
     "text": [
      "Кол-во строк со значением \"0\" в столбце \"total_income\": 0 шт.\n",
      "Процент испорченных строк: 0.0 %\n"
     ]
    }
   ],
   "source": [
    "#Т.к. в столбце 'total_income' значения 'Nan' заменены на '0',\n",
    "#посчитаем кол-во строк со значением '0' в столбце 'total_income'.\n",
    "print('Кол-во строк со значением \"0\" в столбце \"total_income\":',\n",
    "      len(data[data['total_income'] == 0]), 'шт.')\n",
    "\n",
    "#Определим долю этих строк в общем кол-ве строк серии 'total_income'.\n",
    "print('Процент испорченных строк:', round(len(data[data['total_income'] == 0]) / \n",
    "                                          len(data['dob_years']) * 100,2), '%')"
   ]
  },
  {
   "cell_type": "markdown",
   "id": "1a63dd5c",
   "metadata": {},
   "source": [
    "В обоих столбцах доля пропущенных значений составляет 10%. Это достаточно болщой процент и удаление такого кол-ва данных повлияет на результат иследования. Поэтому заменим пропуски на медианное значение по столбцу."
   ]
  },
  {
   "cell_type": "code",
   "execution_count": 44,
   "id": "fac0a451",
   "metadata": {},
   "outputs": [
    {
     "name": "stdout",
     "output_type": "stream",
     "text": [
      "Значение медианы по столбцу \"days_employed\" составляет: 2197.36\n",
      "Значение медианы по столбцу \"years_employed\" составляет: 6.0\n",
      "Значение медианы по столбцу \"total_income\" составляет: 145011.0\n"
     ]
    }
   ],
   "source": [
    "#Посчитаем медиану по столбцам 'days_employed', 'total_income', 'years_employed'\n",
    "mediana_days_employed = round(data['days_employed'].median(),2)\n",
    "mediana_years_employed = round(data['years_employed'].median(),2)\n",
    "mediana_total_income = round(data['total_income'].median(),2)\n",
    "print('Значение медианы по столбцу \"days_employed\" составляет:',mediana_days_employed)\n",
    "print('Значение медианы по столбцу \"years_employed\" составляет:',mediana_years_employed)\n",
    "print('Значение медианы по столбцу \"total_income\" составляет:', mediana_total_income)"
   ]
  },
  {
   "cell_type": "code",
   "execution_count": 45,
   "id": "885d6371",
   "metadata": {},
   "outputs": [],
   "source": [
    "#Замена пропусков медианным значением\n",
    "data['days_employed'] = data['days_employed'].fillna(value=mediana_days_employed)\n",
    "data['years_employed'] = data['years_employed'].fillna(value=mediana_years_employed)\n",
    "data['total_income'] = data['total_income'].replace(0,mediana_total_income)"
   ]
  },
  {
   "cell_type": "markdown",
   "id": "a8934995",
   "metadata": {},
   "source": [
    "### Шаг 2.5. Формирование дополнительных датафреймов словарей, декомпозиция исходного датафрейма."
   ]
  },
  {
   "cell_type": "markdown",
   "id": "a645a347",
   "metadata": {},
   "source": [
    "Создание датафреймов - словарей 'education_id' и 'family_status_id'."
   ]
  },
  {
   "cell_type": "code",
   "execution_count": 46,
   "id": "5d325cee",
   "metadata": {},
   "outputs": [],
   "source": [
    "education_id = pd.DataFrame(data=data, columns=['education_id', 'education'])\n",
    "family_status_id = pd.DataFrame(data=data, columns=['family_status_id', 'family_status'])"
   ]
  },
  {
   "cell_type": "markdown",
   "id": "1eeb1c44",
   "metadata": {},
   "source": [
    "Удаление столбцов 'education', 'family_status' из исходного датафрейма."
   ]
  },
  {
   "cell_type": "code",
   "execution_count": 47,
   "id": "e748b6f8",
   "metadata": {},
   "outputs": [],
   "source": [
    "data = data.drop(['education', 'family_status'], axis=1)"
   ]
  },
  {
   "cell_type": "code",
   "execution_count": 49,
   "id": "e131cba4",
   "metadata": {},
   "outputs": [
    {
     "name": "stdout",
     "output_type": "stream",
     "text": [
      "Кол-во строк дубликатов в \"education_id\": 19255\n",
      "Кол-во строк дубликатов после очистки данных в \"education_id\": 0\n"
     ]
    },
    {
     "data": {
      "text/html": [
       "<div>\n",
       "<style scoped>\n",
       "    .dataframe tbody tr th:only-of-type {\n",
       "        vertical-align: middle;\n",
       "    }\n",
       "\n",
       "    .dataframe tbody tr th {\n",
       "        vertical-align: top;\n",
       "    }\n",
       "\n",
       "    .dataframe thead th {\n",
       "        text-align: right;\n",
       "    }\n",
       "</style>\n",
       "<table border=\"1\" class=\"dataframe\">\n",
       "  <thead>\n",
       "    <tr style=\"text-align: right;\">\n",
       "      <th></th>\n",
       "      <th>education_id</th>\n",
       "      <th>education</th>\n",
       "    </tr>\n",
       "  </thead>\n",
       "  <tbody>\n",
       "    <tr>\n",
       "      <td>0</td>\n",
       "      <td>0</td>\n",
       "      <td>высшее</td>\n",
       "    </tr>\n",
       "    <tr>\n",
       "      <td>1</td>\n",
       "      <td>1</td>\n",
       "      <td>среднее</td>\n",
       "    </tr>\n",
       "    <tr>\n",
       "      <td>2</td>\n",
       "      <td>2</td>\n",
       "      <td>неоконченное высшее</td>\n",
       "    </tr>\n",
       "    <tr>\n",
       "      <td>3</td>\n",
       "      <td>3</td>\n",
       "      <td>начальное</td>\n",
       "    </tr>\n",
       "    <tr>\n",
       "      <td>4</td>\n",
       "      <td>4</td>\n",
       "      <td>ученая степень</td>\n",
       "    </tr>\n",
       "  </tbody>\n",
       "</table>\n",
       "</div>"
      ],
      "text/plain": [
       "   education_id            education\n",
       "0             0               высшее\n",
       "1             1              среднее\n",
       "2             2  неоконченное высшее\n",
       "3             3            начальное\n",
       "4             4       ученая степень"
      ]
     },
     "execution_count": 49,
     "metadata": {},
     "output_type": "execute_result"
    }
   ],
   "source": [
    "# подсчёт явных дубликатов\n",
    "print('Кол-во строк дубликатов в \"education_id\":',education_id.duplicated().sum())\n",
    "\n",
    "#Применим метод \"drop_duplicates\" для удаления явных дубликатов.\n",
    "education_id = education_id.drop_duplicates()\n",
    "\n",
    "#Сбросим индексы в датасете.\n",
    "education_id = education_id.dropna().reset_index(drop=True)\n",
    "print('Кол-во строк дубликатов после очистки данных в \"education_id\":',education_id.duplicated().sum()) # подсчёт явных дубликатов\n",
    "education_id"
   ]
  },
  {
   "cell_type": "code",
   "execution_count": 50,
   "id": "c93b0c17",
   "metadata": {},
   "outputs": [
    {
     "name": "stdout",
     "output_type": "stream",
     "text": [
      "Кол-во строк дубликатов в \"family_status_id\": 19255\n",
      "Кол-во строк дубликатов после очистки данных в \"family_status_id\": 0\n"
     ]
    },
    {
     "data": {
      "text/html": [
       "<div>\n",
       "<style scoped>\n",
       "    .dataframe tbody tr th:only-of-type {\n",
       "        vertical-align: middle;\n",
       "    }\n",
       "\n",
       "    .dataframe tbody tr th {\n",
       "        vertical-align: top;\n",
       "    }\n",
       "\n",
       "    .dataframe thead th {\n",
       "        text-align: right;\n",
       "    }\n",
       "</style>\n",
       "<table border=\"1\" class=\"dataframe\">\n",
       "  <thead>\n",
       "    <tr style=\"text-align: right;\">\n",
       "      <th></th>\n",
       "      <th>family_status_id</th>\n",
       "      <th>family_status</th>\n",
       "    </tr>\n",
       "  </thead>\n",
       "  <tbody>\n",
       "    <tr>\n",
       "      <td>0</td>\n",
       "      <td>0</td>\n",
       "      <td>женат / замужем</td>\n",
       "    </tr>\n",
       "    <tr>\n",
       "      <td>1</td>\n",
       "      <td>1</td>\n",
       "      <td>гражданский брак</td>\n",
       "    </tr>\n",
       "    <tr>\n",
       "      <td>2</td>\n",
       "      <td>2</td>\n",
       "      <td>вдовец / вдова</td>\n",
       "    </tr>\n",
       "    <tr>\n",
       "      <td>3</td>\n",
       "      <td>3</td>\n",
       "      <td>в разводе</td>\n",
       "    </tr>\n",
       "    <tr>\n",
       "      <td>4</td>\n",
       "      <td>4</td>\n",
       "      <td>не женат / не замужем</td>\n",
       "    </tr>\n",
       "  </tbody>\n",
       "</table>\n",
       "</div>"
      ],
      "text/plain": [
       "   family_status_id          family_status\n",
       "0                 0        женат / замужем\n",
       "1                 1       гражданский брак\n",
       "2                 2         вдовец / вдова\n",
       "3                 3              в разводе\n",
       "4                 4  не женат / не замужем"
      ]
     },
     "execution_count": 50,
     "metadata": {},
     "output_type": "execute_result"
    }
   ],
   "source": [
    "# подсчёт явных дубликатов\n",
    "print('Кол-во строк дубликатов в \"family_status_id\":',family_status_id.duplicated().sum())\n",
    "\n",
    "#Применим метод \"drop_duplicates\" для удаления явных дубликатов.\n",
    "family_status_id = family_status_id.drop_duplicates()\n",
    "\n",
    "#Сбросим индексы в датасете.\n",
    "family_status_id = family_status_id.dropna().reset_index(drop=True)\n",
    "print('Кол-во строк дубликатов после очистки данных в \"family_status_id\":',family_status_id.duplicated().sum()) # подсчёт явных дубликатов\n",
    "family_status_id"
   ]
  },
  {
   "cell_type": "markdown",
   "id": "5e399632",
   "metadata": {},
   "source": [
    "### Шаг 2.6. Категоризация дохода."
   ]
  },
  {
   "cell_type": "markdown",
   "id": "b1a3c8c1",
   "metadata": {},
   "source": [
    "#### Напишем функцию, которая создает новый столбец 'total_income_category' и заполняет категорями в зависимости от значений в столбце 'total_income'."
   ]
  },
  {
   "cell_type": "code",
   "execution_count": 51,
   "id": "9f2a2efa",
   "metadata": {},
   "outputs": [
    {
     "data": {
      "text/plain": [
       "total_income_category\n",
       "A       25\n",
       "B     5015\n",
       "C    13850\n",
       "D      348\n",
       "E       22\n",
       "Name: gender, dtype: int64"
      ]
     },
     "execution_count": 51,
     "metadata": {},
     "output_type": "execute_result"
    }
   ],
   "source": [
    "temp_df = data\n",
    "income = data['total_income']\n",
    "\n",
    "def income_category(total_income):\n",
    "    #total_income = df[df['total_income']]\n",
    "    if 0 <= total_income <= 30000:\n",
    "        return 'E'\n",
    "    if 30001 <= total_income <= 50000:\n",
    "        return 'D'\n",
    "    if 50001 <= total_income <= 200000:\n",
    "        return 'C'\n",
    "    if 200001 <= total_income <= 1000000:\n",
    "        return 'B'\n",
    "    if total_income >= 1000001:\n",
    "        return 'A'\n",
    "\n",
    "data['total_income_category'] = temp_df['total_income'].apply(income_category)\n",
    "data.groupby('total_income_category')['gender'].count()"
   ]
  },
  {
   "cell_type": "markdown",
   "id": "84f3d593",
   "metadata": {},
   "source": [
    "### Шаг 2.7. Категоризация целей кредита."
   ]
  },
  {
   "cell_type": "markdown",
   "id": "dbf22d09",
   "metadata": {},
   "source": []
  },
  {
   "cell_type": "code",
   "execution_count": 52,
   "id": "f01c4097",
   "metadata": {},
   "outputs": [
    {
     "name": "stdout",
     "output_type": "stream",
     "text": [
      "['автомобили' 'автомобиль' 'высшее образование'\n",
      " 'дополнительное образование' 'жилье' 'заняться высшим образованием'\n",
      " 'заняться образованием' 'на покупку автомобиля'\n",
      " 'на покупку подержанного автомобиля' 'на покупку своего автомобиля'\n",
      " 'на проведение свадьбы' 'недвижимость' 'образование' 'операции с жильем'\n",
      " 'операции с коммерческой недвижимостью' 'операции с недвижимостью'\n",
      " 'операции со своей недвижимостью' 'покупка жилой недвижимости'\n",
      " 'покупка жилья' 'покупка жилья для сдачи' 'покупка жилья для семьи'\n",
      " 'покупка коммерческой недвижимости' 'покупка недвижимости'\n",
      " 'покупка своего жилья' 'получение высшего образования'\n",
      " 'получение дополнительного образования' 'получение образования'\n",
      " 'приобретение автомобиля' 'профильное образование' 'ремонт жилью'\n",
      " 'свадьба' 'свой автомобиль' 'сделка с автомобилем'\n",
      " 'сделка с подержанным автомобилем' 'строительство жилой недвижимости'\n",
      " 'строительство недвижимости' 'строительство собственной недвижимости'\n",
      " 'сыграть свадьбу']\n"
     ]
    }
   ],
   "source": [
    "#Посмотрим уникальные значения столбца 'purpose'.\n",
    "print(data['purpose'].sort_values().unique())"
   ]
  },
  {
   "cell_type": "markdown",
   "id": "93031478",
   "metadata": {},
   "source": [
    "#### Напишем функцию, которая создает новый столбец 'purpose_category' и заполняет категорями в зависимости от значений в столбце 'purpose'."
   ]
  },
  {
   "cell_type": "code",
   "execution_count": 53,
   "id": "e6ebe63b",
   "metadata": {},
   "outputs": [
    {
     "data": {
      "text/plain": [
       "purpose_category\n",
       "операции с автомобилем      3875\n",
       "операции с недвижимостью    9719\n",
       "получение образования       3579\n",
       "проведение свадьбы          2087\n",
       "Name: purpose, dtype: int64"
      ]
     },
     "execution_count": 53,
     "metadata": {},
     "output_type": "execute_result"
    }
   ],
   "source": [
    "temp_df = data\n",
    "purpose = data['purpose']\n",
    "\n",
    "def purpose_category(purpose):\n",
    "    if 'жиль' in purpose:\n",
    "        return 'операции с недвижимостью'\n",
    "    if 'недвижимост' in purpose:\n",
    "        return 'операции с недвижимостью'\n",
    "    if 'автомобил' in purpose:\n",
    "        return 'операции с автомобилем'\n",
    "    if 'свадьб' in purpose:\n",
    "        return 'проведение свадьбы'\n",
    "    if 'образовани' in purpose:\n",
    "        return 'получение образования'\n",
    "    \n",
    "data['purpose_category'] = temp_df['purpose'].apply(purpose_category)\n",
    "data.groupby('purpose_category')['purpose'].count()"
   ]
  },
  {
   "cell_type": "markdown",
   "id": "b1551dc1",
   "metadata": {},
   "source": [
    "### Ответы на вопросы."
   ]
  },
  {
   "cell_type": "markdown",
   "id": "57e096e0",
   "metadata": {},
   "source": [
    "##### Вопрос 1: Есть ли зависимость между количеством детей и возвратом кредита в срок?"
   ]
  },
  {
   "cell_type": "code",
   "execution_count": 54,
   "id": "1ebbe565",
   "metadata": {},
   "outputs": [
    {
     "data": {
      "text/plain": [
       "children\n",
       "0    12649\n",
       "1     4372\n",
       "2     1904\n",
       "3      293\n",
       "4       34\n",
       "5        8\n",
       "Name: debt, dtype: int64"
      ]
     },
     "execution_count": 54,
     "metadata": {},
     "output_type": "execute_result"
    }
   ],
   "source": [
    "data.groupby('children')['debt'].count()"
   ]
  },
  {
   "cell_type": "code",
   "execution_count": 55,
   "id": "cbecf816",
   "metadata": {},
   "outputs": [
    {
     "name": "stdout",
     "output_type": "stream",
     "text": [
      "Кол-во заемщиков без детей не имевших задолжности: 11702 человек - 92.51 %\n",
      "Кол-во заемщиков без детей имевших задолжности: 947 человек - 7.49 %\n",
      "------------------------------------------------------------------------\n",
      "Кол-во заемщиков с одним ребенком не имевших задолжности: 3966 человек - 90.71 %\n",
      "Кол-во заемщиков с одним ребенком имевших задолжности: 406 человек - 9.29 %\n",
      "------------------------------------------------------------------------\n",
      "Кол-во заемщиков с двумя детьми не имевших задолжности: 1719 человек - 90.28 %\n",
      "Кол-во заемщиков с двумя детьми имевших задолжности: 185 человек - 9.72 %\n",
      "------------------------------------------------------------------------\n",
      "Кол-во заемщиков с тремя детьми не имевших задолжности: 271 человек - 92.49 %\n",
      "Кол-во заемщиков с тремя детьми имевших задолжности: 22 человек - 7.51 %\n",
      "------------------------------------------------------------------------\n",
      "Кол-во заемщиков с четырьмя детьми не имевших задолжности: 31 человек - 91.18 %\n",
      "Кол-во заемщиков с четырьмя детьми имевших задолжности: 3 человек - 8.82 %\n",
      "------------------------------------------------------------------------\n",
      "Кол-во заемщиков с пятью детьми не имевших задолжности: 8 человек - 100.0 %\n",
      "Кол-во заемщиков с пятью детьми имевших задолжности: 0 человек - 0.0 %\n"
     ]
    }
   ],
   "source": [
    "print('Кол-во заемщиков без детей не имевших задолжности:',\n",
    "      data['children'][(data['children'] == 0) & (data['debt'] == 0)].count(),\n",
    "      'человек',\n",
    "      '-',\n",
    "      round(data['children'][(data['children'] == 0) & (data['debt'] == 0)].count() \n",
    "                                                        / data['children'][data['children'] == 0].count() * 100, 2),\n",
    "      '%')\n",
    "\n",
    "print('Кол-во заемщиков без детей имевших задолжности:',\n",
    "      data['children'][(data['children'] == 0) & (data['debt'] == 1)].count(),\n",
    "      'человек',\n",
    "      '-',\n",
    "      round(data['children'][(data['children'] == 0) & (data['debt'] == 1)].count() \n",
    "                                                        / data['children'][data['children'] == 0].count() * 100, 2),\n",
    "      '%')\n",
    "\n",
    "print('------------------------------------------------------------------------')\n",
    "\n",
    "print('Кол-во заемщиков с одним ребенком не имевших задолжности:',\n",
    "      data['children'][(data['children'] == 1) & (data['debt'] == 0)].count(),\n",
    "      'человек',\n",
    "      '-',\n",
    "      round(data['children'][(data['children'] == 1) & (data['debt'] == 0)].count() \n",
    "                                                        / data['children'][data['children'] == 1].count() * 100, 2),\n",
    "      '%')\n",
    "\n",
    "print('Кол-во заемщиков с одним ребенком имевших задолжности:',\n",
    "      data['children'][(data['children'] == 1) & (data['debt'] == 1)].count(),\n",
    "      'человек',\n",
    "      '-',\n",
    "      round(data['children'][(data['children'] == 1) & (data['debt'] == 1)].count() \n",
    "                                                        / data['children'][data['children'] == 1].count() * 100, 2),\n",
    "      '%')\n",
    "\n",
    "print('------------------------------------------------------------------------')\n",
    "\n",
    "print('Кол-во заемщиков с двумя детьми не имевших задолжности:',\n",
    "      data['children'][(data['children'] == 2) & (data['debt'] == 0)].count(),\n",
    "      'человек',\n",
    "      '-',\n",
    "      round(data['children'][(data['children'] == 2) & (data['debt'] == 0)].count() \n",
    "                                                        / data['children'][data['children'] == 2].count() * 100, 2),\n",
    "      '%')\n",
    "\n",
    "print('Кол-во заемщиков с двумя детьми имевших задолжности:',\n",
    "      data['children'][(data['children'] == 2) & (data['debt'] == 1)].count(),\n",
    "      'человек',\n",
    "      '-',\n",
    "      round(data['children'][(data['children'] == 2) & (data['debt'] == 1)].count() \n",
    "                                                        / data['children'][data['children'] == 2].count() * 100, 2),\n",
    "      '%')\n",
    "\n",
    "print('------------------------------------------------------------------------')\n",
    "\n",
    "print('Кол-во заемщиков с тремя детьми не имевших задолжности:',\n",
    "      data['children'][(data['children'] == 3) & (data['debt'] == 0)].count(),\n",
    "      'человек',\n",
    "      '-',\n",
    "      round(data['children'][(data['children'] == 3) & (data['debt'] == 0)].count() \n",
    "                                                        / data['children'][data['children'] == 3].count() * 100, 2),\n",
    "      '%')\n",
    "\n",
    "print('Кол-во заемщиков с тремя детьми имевших задолжности:',\n",
    "      data['children'][(data['children'] == 3) & (data['debt'] == 1)].count(),\n",
    "      'человек',\n",
    "      '-',\n",
    "      round(data['children'][(data['children'] == 3) & (data['debt'] == 1)].count() \n",
    "                                                        / data['children'][data['children'] == 3].count() * 100, 2),\n",
    "      '%')\n",
    "\n",
    "print('------------------------------------------------------------------------')\n",
    "\n",
    "print('Кол-во заемщиков с четырьмя детьми не имевших задолжности:',\n",
    "      data['children'][(data['children'] == 4) & (data['debt'] == 0)].count(),\n",
    "      'человек',\n",
    "      '-',\n",
    "      round(data['children'][(data['children'] == 4) & (data['debt'] == 0)].count() \n",
    "                                                        / data['children'][data['children'] == 4].count() * 100, 2),\n",
    "      '%')\n",
    "\n",
    "print('Кол-во заемщиков с четырьмя детьми имевших задолжности:',\n",
    "      data['children'][(data['children'] == 4) & (data['debt'] == 1)].count(),\n",
    "      'человек',\n",
    "      '-',\n",
    "      round(data['children'][(data['children'] == 4) & (data['debt'] == 1)].count() \n",
    "                                                        / data['children'][data['children'] == 4].count() * 100, 2),\n",
    "      '%')\n",
    "\n",
    "print('------------------------------------------------------------------------')\n",
    "\n",
    "print('Кол-во заемщиков с пятью детьми не имевших задолжности:',\n",
    "      data['children'][(data['children'] == 5) & (data['debt'] == 0)].count(),\n",
    "      'человек',\n",
    "      '-',\n",
    "      round(data['children'][(data['children'] == 5) & (data['debt'] == 0)].count() \n",
    "                                                        / data['children'][data['children'] == 5].count() * 100, 2),\n",
    "      '%')\n",
    "\n",
    "print('Кол-во заемщиков с пятью детьми имевших задолжности:',\n",
    "      data['children'][(data['children'] == 5) & (data['debt'] == 1)].count(),\n",
    "      'человек',\n",
    "      '-',\n",
    "      round(data['children'][(data['children'] == 5) & (data['debt'] == 1)].count() \n",
    "                                                        / data['children'][data['children'] == 5].count() * 100, 2),\n",
    "      '%')\n"
   ]
  },
  {
   "cell_type": "markdown",
   "id": "e1aeb893",
   "metadata": {},
   "source": [
    "##### Вывод 1: Вывод очевиден, количество человек имевших задолжности по выплате кредитов растет с количеством детей. Группы с тремя и более детьми достаточно малочисленны от общей выборки, и эти данные можно не использовать."
   ]
  },
  {
   "cell_type": "markdown",
   "id": "34df236e",
   "metadata": {},
   "source": []
  },
  {
   "cell_type": "markdown",
   "id": "3bd48f39",
   "metadata": {},
   "source": [
    "##### Вопрос 2: Есть ли зависимость между семейным положением и возвратом кредита в срок?"
   ]
  },
  {
   "cell_type": "code",
   "execution_count": 59,
   "id": "07d7307f",
   "metadata": {},
   "outputs": [
    {
     "data": {
      "text/plain": [
       "array([0, 1, 2, 3, 4])"
      ]
     },
     "execution_count": 59,
     "metadata": {},
     "output_type": "execute_result"
    }
   ],
   "source": [
    "data['family_status_id'].unique()"
   ]
  },
  {
   "cell_type": "code",
   "execution_count": 60,
   "id": "5554c248",
   "metadata": {},
   "outputs": [],
   "source": [
    "def family_status_result(status_id=0):\n",
    "    \n",
    "    idx_series = family_status_id[family_status_id['family_status_id'] == status_id].index\n",
    "    idx = idx_series[0]\n",
    "    family_status = family_status_id.iloc[idx, 1]\n",
    "    \n",
    "    total_user = data['family_status_id'][data['family_status_id'] == status_id].count()\n",
    "    user_wo_debt = data['family_status_id'][(data['family_status_id'] == status_id) & (data['debt'] == 0)].count()\n",
    "    user_w_debt = data['family_status_id'][(data['family_status_id'] == status_id) & (data['debt'] == 1)].count()\n",
    "    \n",
    "    print(f'Кол-во кредиторов с семейным статусом - \"{family_status}\", не имевших задолжности:', user_wo_debt,\n",
    "                                                'человек', '-', round(user_wo_debt / total_user * 100,2), '%')\n",
    "    \n",
    "    print(f'Кол-во кредиторов с семейным статусом - \"{family_status}\", имевших задолжности:', user_w_debt,\n",
    "                                                'человек', '-', round(user_w_debt / total_user * 100,2), '%')"
   ]
  },
  {
   "cell_type": "code",
   "execution_count": 61,
   "id": "54eda2d0",
   "metadata": {},
   "outputs": [
    {
     "name": "stdout",
     "output_type": "stream",
     "text": [
      "Кол-во кредиторов с семейным статусом - \"женат / замужем\", не имевших задолжности: 10256 человек - 92.41 %\n",
      "Кол-во кредиторов с семейным статусом - \"женат / замужем\", имевших задолжности: 842 человек - 7.59 %\n"
     ]
    }
   ],
   "source": [
    "family_status_result(0)"
   ]
  },
  {
   "cell_type": "code",
   "execution_count": 62,
   "id": "726e8b92",
   "metadata": {},
   "outputs": [
    {
     "name": "stdout",
     "output_type": "stream",
     "text": [
      "Кол-во кредиторов с семейным статусом - \"гражданский брак\", не имевших задолжности: 3380 человек - 90.93 %\n",
      "Кол-во кредиторов с семейным статусом - \"гражданский брак\", имевших задолжности: 337 человек - 9.07 %\n"
     ]
    }
   ],
   "source": [
    "family_status_result(1)"
   ]
  },
  {
   "cell_type": "code",
   "execution_count": 63,
   "id": "3c8103ad",
   "metadata": {},
   "outputs": [
    {
     "name": "stdout",
     "output_type": "stream",
     "text": [
      "Кол-во кредиторов с семейным статусом - \"вдовец / вдова\", не имевших задолжности: 806 человек - 93.61 %\n",
      "Кол-во кредиторов с семейным статусом - \"вдовец / вдова\", имевших задолжности: 55 человек - 6.39 %\n"
     ]
    }
   ],
   "source": [
    "family_status_result(2)"
   ]
  },
  {
   "cell_type": "code",
   "execution_count": 64,
   "id": "5d5ce95f",
   "metadata": {},
   "outputs": [
    {
     "name": "stdout",
     "output_type": "stream",
     "text": [
      "Кол-во кредиторов с семейным статусом - \"в разводе\", не имевших задолжности: 998 человек - 92.92 %\n",
      "Кол-во кредиторов с семейным статусом - \"в разводе\", имевших задолжности: 76 человек - 7.08 %\n"
     ]
    }
   ],
   "source": [
    "family_status_result(3)"
   ]
  },
  {
   "cell_type": "code",
   "execution_count": 65,
   "id": "c141964d",
   "metadata": {},
   "outputs": [
    {
     "name": "stdout",
     "output_type": "stream",
     "text": [
      "Кол-во кредиторов с семейным статусом - \"не женат / не замужем\", не имевших задолжности: 2257 человек - 89.92 %\n",
      "Кол-во кредиторов с семейным статусом - \"не женат / не замужем\", имевших задолжности: 253 человек - 10.08 %\n"
     ]
    }
   ],
   "source": [
    "family_status_result(4)"
   ]
  },
  {
   "cell_type": "code",
   "execution_count": 66,
   "id": "70eded06",
   "metadata": {},
   "outputs": [],
   "source": [
    "#Второй вариант решения данной задачи.\n",
    "def function_family_status_result():\n",
    "    for status_id in range(len(data['family_status_id'].unique())):\n",
    "        idx_series = family_status_id[family_status_id['family_status_id'] == status_id].index\n",
    "        idx = idx_series[0]\n",
    "        family_status = family_status_id.iloc[idx, 1]\n",
    "\n",
    "        total_user = data['family_status_id'][data['family_status_id'] == status_id].count()\n",
    "        user_wo_debt = data['family_status_id'][(data['family_status_id'] == status_id) & (data['debt'] == 0)].count()\n",
    "        user_w_debt = data['family_status_id'][(data['family_status_id'] == status_id) & (data['debt'] == 1)].count()\n",
    "\n",
    "        #print(f'Кол-во кредиторов с семейным статусом - \"{family_status}\", не имевших задолжности:', user_wo_debt,\n",
    "                                                    #'человек', '-', round(user_wo_debt / total_user * 100,2), '%')\n",
    "\n",
    "        print(f'Кол-во кредиторов с семейным статусом - \"{family_status}\", имевших задолжности:', user_w_debt,\n",
    "                                                    'человек', '-', round(user_w_debt / total_user * 100,2), '%')\n",
    "        #print('------------------------------------------------------------------------------------------------')"
   ]
  },
  {
   "cell_type": "code",
   "execution_count": 67,
   "id": "9a401e48",
   "metadata": {},
   "outputs": [
    {
     "name": "stdout",
     "output_type": "stream",
     "text": [
      "Кол-во кредиторов с семейным статусом - \"женат / замужем\", имевших задолжности: 842 человек - 7.59 %\n",
      "Кол-во кредиторов с семейным статусом - \"гражданский брак\", имевших задолжности: 337 человек - 9.07 %\n",
      "Кол-во кредиторов с семейным статусом - \"вдовец / вдова\", имевших задолжности: 55 человек - 6.39 %\n",
      "Кол-во кредиторов с семейным статусом - \"в разводе\", имевших задолжности: 76 человек - 7.08 %\n",
      "Кол-во кредиторов с семейным статусом - \"не женат / не замужем\", имевших задолжности: 253 человек - 10.08 %\n"
     ]
    }
   ],
   "source": [
    "function_family_status_result()"
   ]
  },
  {
   "cell_type": "markdown",
   "id": "b90ec9b1",
   "metadata": {},
   "source": []
  },
  {
   "cell_type": "markdown",
   "id": "d5eadadd",
   "metadata": {},
   "source": [
    "##### Вывод 2: Семейное положение влияет на способность людей отдавать кредит в срок. Люди находящиеся в категориях - \"гражданский брак\" и \"не женат / не замужем\" чаще других тмеют проблемы с возвратом кредита в срок."
   ]
  },
  {
   "cell_type": "markdown",
   "id": "50cc0c22",
   "metadata": {},
   "source": [
    "##### Вопрос 3: Есть ли зависимость между уровнем дохода и возвратом кредита в срок?"
   ]
  },
  {
   "cell_type": "code",
   "execution_count": 68,
   "id": "f705c3de",
   "metadata": {},
   "outputs": [],
   "source": [
    "import numpy as np\n",
    "total_income_category = data['total_income_category'].unique()\n",
    "total_income_category = np.sort(total_income_category)\n",
    "\n",
    "def function_total_income():\n",
    "    for income_category in total_income_category:\n",
    "        \n",
    "        massiv = np.array(total_income_category)\n",
    "        index = massiv.tolist().index(income_category)\n",
    "        \n",
    "        category = total_income_category[index]\n",
    "\n",
    "        total_user = data['total_income_category'][data['total_income_category'] == income_category].count()\n",
    "        user_wo_debt = data['total_income_category'][(data['total_income_category'] == income_category) \n",
    "                                                     & (data['debt'] == 0)].count()\n",
    "        user_w_debt = data['total_income_category'][(data['total_income_category'] == income_category) \n",
    "                                                    & (data['debt'] == 1)].count()\n",
    "\n",
    "        #print(f'Кол-во кредиторов с уровнем дохода категории - \"{income_category}\", не имевших задолжности:', user_wo_debt,\n",
    "                                                    #'человек', '-', round(user_wo_debt / total_user * 100,2), '%')\n",
    "\n",
    "        print(f'Кол-во кредиторов с уровнем дохода категории - \"{income_category}\", имевших задолжности:', user_w_debt,\n",
    "                                                    'человек', '-', round(user_w_debt / total_user * 100,2), '%')\n",
    "        #print('------------------------------------------------------------------------------------------------')"
   ]
  },
  {
   "cell_type": "code",
   "execution_count": 69,
   "id": "75f327bb",
   "metadata": {},
   "outputs": [
    {
     "name": "stdout",
     "output_type": "stream",
     "text": [
      "Кол-во кредиторов с уровнем дохода категории - \"A\", имевших задолжности: 2 человек - 8.0 %\n",
      "Кол-во кредиторов с уровнем дохода категории - \"B\", имевших задолжности: 355 человек - 7.08 %\n",
      "Кол-во кредиторов с уровнем дохода категории - \"C\", имевших задолжности: 1183 человек - 8.54 %\n",
      "Кол-во кредиторов с уровнем дохода категории - \"D\", имевших задолжности: 21 человек - 6.03 %\n",
      "Кол-во кредиторов с уровнем дохода категории - \"E\", имевших задолжности: 2 человек - 9.09 %\n"
     ]
    }
   ],
   "source": [
    "function_total_income()"
   ]
  },
  {
   "cell_type": "markdown",
   "id": "97bf12f0",
   "metadata": {},
   "source": []
  },
  {
   "cell_type": "markdown",
   "id": "eb49470e",
   "metadata": {},
   "source": [
    "##### Вывод 3: Линейной закономергости не прослеживается в результатах иследования. В виду того, что категории \"A, D,E\" достаточно малочисленны, можно выделить проблемную категорию с уровнем дохода - категория \"С\"."
   ]
  },
  {
   "cell_type": "markdown",
   "id": "2fdcf52a",
   "metadata": {},
   "source": [
    "##### Вопрос 4: Как разные цели кредита влияют на его возврат в срок?\n"
   ]
  },
  {
   "cell_type": "code",
   "execution_count": 70,
   "id": "052a2ad7",
   "metadata": {},
   "outputs": [],
   "source": [
    "import numpy as np\n",
    "purpose_category = data['purpose_category'].unique()\n",
    "purpose_category = np.sort(purpose_category)\n",
    "\n",
    "def function_purpose_category():\n",
    "    for purpose in purpose_category:\n",
    "        \n",
    "        massiv = np.array(purpose_category)\n",
    "        index = massiv.tolist().index(purpose)\n",
    "        \n",
    "        category = purpose_category[index]\n",
    "\n",
    "        total_user = data['purpose_category'][data['purpose_category'] == purpose].count()\n",
    "        user_wo_debt = data['purpose_category'][(data['purpose_category'] == purpose) \n",
    "                                                     & (data['debt'] == 0)].count()\n",
    "        user_w_debt = data['purpose_category'][(data['purpose_category'] == purpose) \n",
    "                                                    & (data['debt'] == 1)].count()\n",
    "\n",
    "        print(f'Кол-во кредитов на \"{purpose}\", имевших задолжности:', user_w_debt,\n",
    "                                                    'шт.', '-', round(user_w_debt / total_user * 100,2), '%')"
   ]
  },
  {
   "cell_type": "code",
   "execution_count": 71,
   "id": "187334f9",
   "metadata": {},
   "outputs": [
    {
     "name": "stdout",
     "output_type": "stream",
     "text": [
      "Кол-во кредитов на \"операции с автомобилем\", имевших задолжности: 364 шт. - 9.39 %\n",
      "Кол-во кредитов на \"операции с недвижимостью\", имевших задолжности: 712 шт. - 7.33 %\n",
      "Кол-во кредитов на \"получение образования\", имевших задолжности: 331 шт. - 9.25 %\n",
      "Кол-во кредитов на \"проведение свадьбы\", имевших задолжности: 156 шт. - 7.47 %\n"
     ]
    }
   ],
   "source": [
    "function_purpose_category()"
   ]
  },
  {
   "cell_type": "markdown",
   "id": "70c02649",
   "metadata": {},
   "source": [
    "##### Вывод 4: Исходя из полученных результатов, можно сделать следующий вывод - кредиты на автомобиль это самая проблемная категория. Далее идет получение образования. При выдачи кредитов на данные нужды, нужно более тщательнее проводить проверки кредиторов."
   ]
  },
  {
   "cell_type": "markdown",
   "id": "15b058ea",
   "metadata": {},
   "source": []
  },
  {
   "cell_type": "markdown",
   "id": "663b77e0",
   "metadata": {},
   "source": [
    "## Общий вывод: По результатам исследования были получены результаты, которые дают информацию , о том, как можно повысить безопасность выдачи кредитов."
   ]
  },
  {
   "cell_type": "markdown",
   "id": "58630a79",
   "metadata": {},
   "source": [
    " <div class=\"alert alert-info\">\n",
    "    <h2> Комментарий студента</h2>\n",
    "    Общий вывод.\n",
    "С точки зрения влияния кол-ва детей в семье на вероятность задолженности по кредиту, выделяются две категории с одним и двумя детьми. Процент проблемных заемщиков с одним и двумя детьми составляет соответственно - 9,29% и 9,72%. Самые надежные категории, это семьи с тремя детьми и бездетные, процент должников ~7,50%.\n",
    "Чуть больше 10% — это количество кредитов, имевших задолженности по выплатам у людей, находящихся в статусе \"не в браке\". Это число вполне поддается объяснению, вероятнее всего, это люди молодого возраста, которые менее ответственны, чем люди, находящиеся в браке. Семейные люди - самая большая категория среди представленных, имеющая процент по задолженностям 7,59%, самая надежная. Так же низкий процент среди категорий \"вдова\", \"в разводе\", но эти категории малочисленны и поэтому не делаем особый упор на эти данные.\n",
    "Влияние уровня дохода кредитора не выявило закономерности в результатах исследования. В виду того, что категории \"A, D, E\" (380 человек, три категории вместе взятые) достаточно малочисленны по сравнению с категорией \"С\" (1183 человека), можно лишь выделить проблемную категорию с уровнем дохода - категория \"С\" - 8,54%.\n",
    "Исследование по целям кредита выявило следующую закономерность, люди берущие кредит на машину или обучение , чаще имеют проблемы с выплатой в срок - 9,39% и 9,25% соответственно. А кредиты на недвижимость и свадьбу имеют лучший процент невозврата в срок - 7,33% и 7,47% соответственно.\n",
    "    </div>"
   ]
  }
 ],
 "metadata": {
  "ExecuteTimeLog": [
   {
    "duration": 861,
    "start_time": "2022-02-17T16:16:16.514Z"
   },
   {
    "duration": 102,
    "start_time": "2022-02-17T16:16:27.236Z"
   },
   {
    "duration": 62,
    "start_time": "2022-02-17T16:16:34.624Z"
   },
   {
    "duration": 85,
    "start_time": "2022-02-17T16:19:12.956Z"
   },
   {
    "duration": 71,
    "start_time": "2022-02-17T16:19:21.965Z"
   },
   {
    "duration": 83,
    "start_time": "2022-02-17T16:20:59.019Z"
   },
   {
    "duration": 18,
    "start_time": "2022-02-17T16:23:35.378Z"
   },
   {
    "duration": 6,
    "start_time": "2022-02-17T16:27:49.446Z"
   },
   {
    "duration": 412,
    "start_time": "2022-02-17T16:28:01.126Z"
   },
   {
    "duration": 328,
    "start_time": "2022-02-17T16:28:18.129Z"
   },
   {
    "duration": 7,
    "start_time": "2022-02-17T16:28:24.614Z"
   },
   {
    "duration": 6,
    "start_time": "2022-02-17T16:28:31.376Z"
   },
   {
    "duration": 8,
    "start_time": "2022-02-17T16:28:38.960Z"
   },
   {
    "duration": 363,
    "start_time": "2022-02-17T16:28:49.344Z"
   },
   {
    "duration": 317,
    "start_time": "2022-02-17T16:28:52.291Z"
   },
   {
    "duration": 10,
    "start_time": "2022-02-17T16:29:01.303Z"
   },
   {
    "duration": 12,
    "start_time": "2022-02-17T16:29:48.866Z"
   },
   {
    "duration": 5,
    "start_time": "2022-02-17T16:35:26.434Z"
   },
   {
    "duration": 102,
    "start_time": "2022-02-17T16:37:32.596Z"
   },
   {
    "duration": 114,
    "start_time": "2022-02-17T16:39:03.386Z"
   },
   {
    "duration": 36,
    "start_time": "2022-02-17T16:40:02.871Z"
   },
   {
    "duration": 21,
    "start_time": "2022-02-17T16:40:40.708Z"
   },
   {
    "duration": 19,
    "start_time": "2022-02-17T16:40:47.341Z"
   },
   {
    "duration": 22,
    "start_time": "2022-02-17T16:41:20.522Z"
   },
   {
    "duration": 9,
    "start_time": "2022-02-17T16:46:35.705Z"
   },
   {
    "duration": 7,
    "start_time": "2022-02-17T16:47:35.252Z"
   },
   {
    "duration": 356,
    "start_time": "2022-02-17T16:47:58.187Z"
   },
   {
    "duration": 5,
    "start_time": "2022-02-17T16:48:15.075Z"
   },
   {
    "duration": 5,
    "start_time": "2022-02-17T16:48:18.668Z"
   },
   {
    "duration": 7,
    "start_time": "2022-02-17T16:48:21.105Z"
   },
   {
    "duration": 392,
    "start_time": "2022-02-17T16:48:37.163Z"
   },
   {
    "duration": 329,
    "start_time": "2022-02-17T16:48:44.593Z"
   },
   {
    "duration": 349,
    "start_time": "2022-02-17T16:49:16.787Z"
   },
   {
    "duration": 310,
    "start_time": "2022-02-17T16:49:25.829Z"
   },
   {
    "duration": 9,
    "start_time": "2022-02-17T16:49:33.337Z"
   },
   {
    "duration": 9,
    "start_time": "2022-02-17T16:49:42.446Z"
   },
   {
    "duration": 9,
    "start_time": "2022-02-17T16:50:59.587Z"
   },
   {
    "duration": 24,
    "start_time": "2022-02-17T16:53:44.152Z"
   },
   {
    "duration": 22,
    "start_time": "2022-02-17T16:54:01.108Z"
   },
   {
    "duration": 103,
    "start_time": "2022-02-17T16:58:01.147Z"
   },
   {
    "duration": 8,
    "start_time": "2022-02-17T16:59:46.990Z"
   },
   {
    "duration": 37,
    "start_time": "2022-02-17T17:01:59.724Z"
   },
   {
    "duration": 35,
    "start_time": "2022-02-17T17:04:13.367Z"
   },
   {
    "duration": 9,
    "start_time": "2022-02-17T17:04:14.860Z"
   },
   {
    "duration": 8,
    "start_time": "2022-02-17T17:04:16.687Z"
   },
   {
    "duration": 7,
    "start_time": "2022-02-17T17:04:32.611Z"
   },
   {
    "duration": 8,
    "start_time": "2022-02-17T17:04:34.389Z"
   },
   {
    "duration": 9,
    "start_time": "2022-02-17T17:10:27.514Z"
   },
   {
    "duration": 23,
    "start_time": "2022-02-17T17:12:57.290Z"
   },
   {
    "duration": 6,
    "start_time": "2022-02-17T17:13:53.449Z"
   },
   {
    "duration": 8,
    "start_time": "2022-02-17T17:14:05.698Z"
   },
   {
    "duration": 11,
    "start_time": "2022-02-17T17:16:40.467Z"
   },
   {
    "duration": 10,
    "start_time": "2022-02-17T17:17:05.624Z"
   },
   {
    "duration": 9,
    "start_time": "2022-02-17T17:17:32.276Z"
   },
   {
    "duration": 11,
    "start_time": "2022-02-17T17:17:55.830Z"
   },
   {
    "duration": 13,
    "start_time": "2022-02-17T17:21:07.251Z"
   },
   {
    "duration": 12,
    "start_time": "2022-02-17T17:21:30.144Z"
   },
   {
    "duration": 7,
    "start_time": "2022-02-17T17:23:04.203Z"
   },
   {
    "duration": 8,
    "start_time": "2022-02-17T17:23:33.789Z"
   },
   {
    "duration": 7,
    "start_time": "2022-02-17T17:23:35.665Z"
   },
   {
    "duration": 7,
    "start_time": "2022-02-17T17:23:43.871Z"
   },
   {
    "duration": 6,
    "start_time": "2022-02-17T17:24:10.838Z"
   },
   {
    "duration": 5,
    "start_time": "2022-02-17T17:29:04.556Z"
   },
   {
    "duration": 7,
    "start_time": "2022-02-17T17:29:14.092Z"
   },
   {
    "duration": 7,
    "start_time": "2022-02-17T17:30:01.247Z"
   },
   {
    "duration": 7,
    "start_time": "2022-02-17T17:30:15.473Z"
   },
   {
    "duration": 7,
    "start_time": "2022-02-17T17:31:26.683Z"
   },
   {
    "duration": 7,
    "start_time": "2022-02-17T17:31:40.941Z"
   },
   {
    "duration": 7,
    "start_time": "2022-02-17T17:31:50.326Z"
   },
   {
    "duration": 61,
    "start_time": "2022-02-17T17:33:59.827Z"
   },
   {
    "duration": 15,
    "start_time": "2022-02-17T17:35:04.004Z"
   },
   {
    "duration": 14,
    "start_time": "2022-02-17T17:37:41.250Z"
   },
   {
    "duration": 7867,
    "start_time": "2022-02-17T17:38:22.829Z"
   },
   {
    "duration": 7592,
    "start_time": "2022-02-17T17:39:00.950Z"
   },
   {
    "duration": 13,
    "start_time": "2022-02-17T17:39:59.874Z"
   },
   {
    "duration": 7,
    "start_time": "2022-02-17T17:40:17.631Z"
   },
   {
    "duration": 8,
    "start_time": "2022-02-17T17:40:44.287Z"
   },
   {
    "duration": 7,
    "start_time": "2022-02-17T17:41:35.527Z"
   },
   {
    "duration": 19,
    "start_time": "2022-02-17T17:43:43.739Z"
   },
   {
    "duration": 14,
    "start_time": "2022-02-17T17:44:02.874Z"
   },
   {
    "duration": 15,
    "start_time": "2022-02-17T17:44:21.260Z"
   },
   {
    "duration": 110,
    "start_time": "2022-02-17T17:45:18.384Z"
   },
   {
    "duration": 18,
    "start_time": "2022-02-17T17:45:22.657Z"
   },
   {
    "duration": 16,
    "start_time": "2022-02-17T17:45:34.779Z"
   },
   {
    "duration": 21,
    "start_time": "2022-02-17T17:45:44.610Z"
   },
   {
    "duration": 17,
    "start_time": "2022-02-17T17:46:00.532Z"
   },
   {
    "duration": 22,
    "start_time": "2022-02-17T17:57:10.239Z"
   },
   {
    "duration": 8,
    "start_time": "2022-02-17T17:58:29.050Z"
   },
   {
    "duration": 52,
    "start_time": "2022-02-17T17:59:29.818Z"
   },
   {
    "duration": 36,
    "start_time": "2022-02-17T17:59:53.309Z"
   },
   {
    "duration": 32,
    "start_time": "2022-02-17T18:03:39.331Z"
   },
   {
    "duration": 21,
    "start_time": "2022-02-17T18:04:12.897Z"
   },
   {
    "duration": 8,
    "start_time": "2022-02-17T18:04:42.513Z"
   },
   {
    "duration": 8,
    "start_time": "2022-02-17T18:04:58.425Z"
   },
   {
    "duration": 97,
    "start_time": "2022-02-17T18:05:11.824Z"
   },
   {
    "duration": 34,
    "start_time": "2022-02-17T18:05:23.683Z"
   },
   {
    "duration": 32,
    "start_time": "2022-02-17T18:05:32.008Z"
   },
   {
    "duration": 120,
    "start_time": "2022-02-17T18:06:14.856Z"
   },
   {
    "duration": 8,
    "start_time": "2022-02-17T18:06:30.052Z"
   },
   {
    "duration": 20,
    "start_time": "2022-02-17T18:30:08.658Z"
   },
   {
    "duration": 19,
    "start_time": "2022-02-17T18:31:00.759Z"
   },
   {
    "duration": 7,
    "start_time": "2022-02-17T18:41:26.324Z"
   },
   {
    "duration": 9,
    "start_time": "2022-02-17T18:41:53.704Z"
   },
   {
    "duration": 335,
    "start_time": "2022-02-17T18:42:06.038Z"
   },
   {
    "duration": 12,
    "start_time": "2022-02-17T18:42:10.883Z"
   },
   {
    "duration": 9,
    "start_time": "2022-02-17T18:42:21.217Z"
   },
   {
    "duration": 113,
    "start_time": "2022-02-17T18:43:26.249Z"
   },
   {
    "duration": 6,
    "start_time": "2022-02-17T18:43:32.496Z"
   },
   {
    "duration": 8,
    "start_time": "2022-02-17T18:43:46.148Z"
   },
   {
    "duration": 8,
    "start_time": "2022-02-17T18:44:08.533Z"
   },
   {
    "duration": 11,
    "start_time": "2022-02-17T18:44:24.911Z"
   },
   {
    "duration": 4,
    "start_time": "2022-02-17T18:45:16.985Z"
   },
   {
    "duration": 6,
    "start_time": "2022-02-17T18:45:52.566Z"
   },
   {
    "duration": 9,
    "start_time": "2022-02-17T18:48:36.249Z"
   },
   {
    "duration": 8,
    "start_time": "2022-02-17T18:48:47.533Z"
   },
   {
    "duration": 8,
    "start_time": "2022-02-17T18:52:07.895Z"
   },
   {
    "duration": 13,
    "start_time": "2022-02-17T18:52:49.764Z"
   },
   {
    "duration": 9,
    "start_time": "2022-02-17T18:53:21.491Z"
   },
   {
    "duration": 6,
    "start_time": "2022-02-17T18:54:30.071Z"
   },
   {
    "duration": 36,
    "start_time": "2022-02-17T18:55:17.854Z"
   },
   {
    "duration": 5,
    "start_time": "2022-02-17T20:23:25.573Z"
   },
   {
    "duration": 38,
    "start_time": "2022-02-17T20:23:33.773Z"
   },
   {
    "duration": 17,
    "start_time": "2022-02-17T20:23:50.792Z"
   },
   {
    "duration": 9,
    "start_time": "2022-02-17T20:26:50.820Z"
   },
   {
    "duration": 14,
    "start_time": "2022-02-17T20:27:08.158Z"
   },
   {
    "duration": 8,
    "start_time": "2022-02-17T20:38:49.883Z"
   },
   {
    "duration": 338,
    "start_time": "2022-02-17T20:38:53.740Z"
   },
   {
    "duration": 301,
    "start_time": "2022-02-17T20:39:10.577Z"
   },
   {
    "duration": 887,
    "start_time": "2022-02-17T20:39:30.458Z"
   },
   {
    "duration": 16,
    "start_time": "2022-02-17T20:39:31.348Z"
   },
   {
    "duration": 14,
    "start_time": "2022-02-17T20:39:31.367Z"
   },
   {
    "duration": 10,
    "start_time": "2022-02-17T20:39:31.384Z"
   },
   {
    "duration": 6,
    "start_time": "2022-02-17T20:39:31.427Z"
   },
   {
    "duration": 19,
    "start_time": "2022-02-17T20:39:31.436Z"
   },
   {
    "duration": 10,
    "start_time": "2022-02-17T20:39:31.457Z"
   },
   {
    "duration": 55,
    "start_time": "2022-02-17T20:39:31.472Z"
   },
   {
    "duration": 8,
    "start_time": "2022-02-17T20:39:31.530Z"
   },
   {
    "duration": 35,
    "start_time": "2022-02-17T20:39:31.541Z"
   },
   {
    "duration": 12,
    "start_time": "2022-02-17T20:39:31.579Z"
   },
   {
    "duration": 37,
    "start_time": "2022-02-17T20:39:31.594Z"
   },
   {
    "duration": 13,
    "start_time": "2022-02-17T20:39:31.634Z"
   },
   {
    "duration": 22,
    "start_time": "2022-02-17T20:39:31.650Z"
   },
   {
    "duration": 53,
    "start_time": "2022-02-17T20:39:31.674Z"
   },
   {
    "duration": 10,
    "start_time": "2022-02-17T20:39:31.730Z"
   },
   {
    "duration": 7,
    "start_time": "2022-02-17T20:39:31.743Z"
   },
   {
    "duration": 9,
    "start_time": "2022-02-17T20:39:31.752Z"
   },
   {
    "duration": 13,
    "start_time": "2022-02-17T20:39:31.763Z"
   },
   {
    "duration": 77,
    "start_time": "2022-02-17T20:39:31.778Z"
   },
   {
    "duration": 19,
    "start_time": "2022-02-17T20:39:31.857Z"
   },
   {
    "duration": 8,
    "start_time": "2022-02-17T20:39:31.879Z"
   },
   {
    "duration": 37,
    "start_time": "2022-02-17T20:39:31.892Z"
   },
   {
    "duration": 23,
    "start_time": "2022-02-17T20:39:31.933Z"
   },
   {
    "duration": 20,
    "start_time": "2022-02-17T20:39:31.960Z"
   },
   {
    "duration": 64,
    "start_time": "2022-02-17T20:39:31.984Z"
   },
   {
    "duration": 10,
    "start_time": "2022-02-17T20:39:32.051Z"
   },
   {
    "duration": 81,
    "start_time": "2022-02-17T20:39:32.064Z"
   },
   {
    "duration": 29,
    "start_time": "2022-02-17T20:39:32.148Z"
   },
   {
    "duration": 6,
    "start_time": "2022-02-17T20:39:32.179Z"
   },
   {
    "duration": 52,
    "start_time": "2022-02-17T20:39:32.188Z"
   },
   {
    "duration": 9,
    "start_time": "2022-02-17T20:39:32.243Z"
   },
   {
    "duration": 18,
    "start_time": "2022-02-17T20:39:32.255Z"
   },
   {
    "duration": 13,
    "start_time": "2022-02-17T20:39:32.276Z"
   },
   {
    "duration": 36,
    "start_time": "2022-02-17T20:39:32.291Z"
   },
   {
    "duration": 19,
    "start_time": "2022-02-17T20:39:32.331Z"
   },
   {
    "duration": 7,
    "start_time": "2022-02-17T20:39:32.353Z"
   },
   {
    "duration": 28,
    "start_time": "2022-02-17T20:39:32.363Z"
   },
   {
    "duration": 32,
    "start_time": "2022-02-17T20:39:32.394Z"
   },
   {
    "duration": 10,
    "start_time": "2022-02-17T20:39:32.429Z"
   },
   {
    "duration": 21,
    "start_time": "2022-02-17T20:39:32.442Z"
   },
   {
    "duration": 12,
    "start_time": "2022-02-17T20:41:12.503Z"
   },
   {
    "duration": 11,
    "start_time": "2022-02-17T20:41:41.140Z"
   },
   {
    "duration": 13,
    "start_time": "2022-02-17T20:42:13.812Z"
   },
   {
    "duration": 14,
    "start_time": "2022-02-17T20:43:38.131Z"
   },
   {
    "duration": 11,
    "start_time": "2022-02-17T20:45:13.450Z"
   },
   {
    "duration": 12,
    "start_time": "2022-02-17T20:45:34.672Z"
   },
   {
    "duration": 9,
    "start_time": "2022-02-17T20:46:30.529Z"
   },
   {
    "duration": 14,
    "start_time": "2022-02-17T20:47:09.075Z"
   },
   {
    "duration": 8,
    "start_time": "2022-02-17T20:47:39.894Z"
   },
   {
    "duration": 25,
    "start_time": "2022-02-17T20:52:07.575Z"
   },
   {
    "duration": 13,
    "start_time": "2022-02-17T20:53:20.324Z"
   },
   {
    "duration": 5154,
    "start_time": "2022-02-17T20:53:20.922Z"
   },
   {
    "duration": 11,
    "start_time": "2022-02-17T20:54:42.230Z"
   },
   {
    "duration": 5525,
    "start_time": "2022-02-17T20:54:43.943Z"
   },
   {
    "duration": 929,
    "start_time": "2022-02-17T20:55:25.930Z"
   },
   {
    "duration": 16,
    "start_time": "2022-02-17T20:55:26.862Z"
   },
   {
    "duration": 9,
    "start_time": "2022-02-17T20:55:26.881Z"
   },
   {
    "duration": 38,
    "start_time": "2022-02-17T20:55:26.893Z"
   },
   {
    "duration": 6,
    "start_time": "2022-02-17T20:55:26.934Z"
   },
   {
    "duration": 10,
    "start_time": "2022-02-17T20:55:26.943Z"
   },
   {
    "duration": 9,
    "start_time": "2022-02-17T20:55:26.955Z"
   },
   {
    "duration": 62,
    "start_time": "2022-02-17T20:55:26.967Z"
   },
   {
    "duration": 8,
    "start_time": "2022-02-17T20:55:27.034Z"
   },
   {
    "duration": 37,
    "start_time": "2022-02-17T20:55:27.045Z"
   },
   {
    "duration": 44,
    "start_time": "2022-02-17T20:55:27.085Z"
   },
   {
    "duration": 8,
    "start_time": "2022-02-17T20:55:27.132Z"
   },
   {
    "duration": 9,
    "start_time": "2022-02-17T20:55:27.143Z"
   },
   {
    "duration": 27,
    "start_time": "2022-02-17T20:55:27.155Z"
   },
   {
    "duration": 45,
    "start_time": "2022-02-17T20:55:27.184Z"
   },
   {
    "duration": 10,
    "start_time": "2022-02-17T20:55:27.232Z"
   },
   {
    "duration": 8,
    "start_time": "2022-02-17T20:55:27.244Z"
   },
   {
    "duration": 7,
    "start_time": "2022-02-17T20:55:27.255Z"
   },
   {
    "duration": 7,
    "start_time": "2022-02-17T20:55:27.265Z"
   },
   {
    "duration": 77,
    "start_time": "2022-02-17T20:55:27.275Z"
   },
   {
    "duration": 18,
    "start_time": "2022-02-17T20:55:27.355Z"
   },
   {
    "duration": 8,
    "start_time": "2022-02-17T20:55:27.376Z"
   },
   {
    "duration": 40,
    "start_time": "2022-02-17T20:55:27.387Z"
   },
   {
    "duration": 24,
    "start_time": "2022-02-17T20:55:27.430Z"
   },
   {
    "duration": 20,
    "start_time": "2022-02-17T20:55:27.456Z"
   },
   {
    "duration": 66,
    "start_time": "2022-02-17T20:55:27.478Z"
   },
   {
    "duration": 8,
    "start_time": "2022-02-17T20:55:27.550Z"
   },
   {
    "duration": 76,
    "start_time": "2022-02-17T20:55:27.561Z"
   },
   {
    "duration": 21,
    "start_time": "2022-02-17T20:55:27.639Z"
   },
   {
    "duration": 5,
    "start_time": "2022-02-17T20:55:27.663Z"
   },
   {
    "duration": 24,
    "start_time": "2022-02-17T20:55:27.671Z"
   },
   {
    "duration": 7,
    "start_time": "2022-02-17T20:55:27.726Z"
   },
   {
    "duration": 6,
    "start_time": "2022-02-17T20:55:27.736Z"
   },
   {
    "duration": 7,
    "start_time": "2022-02-17T20:55:27.744Z"
   },
   {
    "duration": 10,
    "start_time": "2022-02-17T20:55:27.753Z"
   },
   {
    "duration": 9,
    "start_time": "2022-02-17T20:55:27.765Z"
   },
   {
    "duration": 53,
    "start_time": "2022-02-17T20:55:27.776Z"
   },
   {
    "duration": 22,
    "start_time": "2022-02-17T20:55:27.832Z"
   },
   {
    "duration": 10,
    "start_time": "2022-02-17T20:55:27.857Z"
   },
   {
    "duration": 11,
    "start_time": "2022-02-17T20:55:27.870Z"
   },
   {
    "duration": 44,
    "start_time": "2022-02-17T20:55:27.884Z"
   },
   {
    "duration": 7,
    "start_time": "2022-02-17T20:55:27.932Z"
   },
   {
    "duration": 7,
    "start_time": "2022-02-17T20:55:27.941Z"
   },
   {
    "duration": 8,
    "start_time": "2022-02-17T20:55:27.950Z"
   },
   {
    "duration": 69,
    "start_time": "2022-02-17T20:55:27.960Z"
   },
   {
    "duration": 12,
    "start_time": "2022-02-17T20:55:28.031Z"
   },
   {
    "duration": 5564,
    "start_time": "2022-02-17T20:55:28.046Z"
   },
   {
    "duration": 32,
    "start_time": "2022-02-17T20:56:18.853Z"
   },
   {
    "duration": 12,
    "start_time": "2022-02-17T20:56:19.705Z"
   },
   {
    "duration": 5477,
    "start_time": "2022-02-17T20:56:20.617Z"
   },
   {
    "duration": 7,
    "start_time": "2022-02-17T21:00:24.156Z"
   },
   {
    "duration": 6,
    "start_time": "2022-02-17T21:00:40.849Z"
   },
   {
    "duration": 6,
    "start_time": "2022-02-17T21:00:56.836Z"
   },
   {
    "duration": 6,
    "start_time": "2022-02-17T21:01:34.891Z"
   },
   {
    "duration": 908,
    "start_time": "2022-02-17T21:01:51.940Z"
   },
   {
    "duration": 18,
    "start_time": "2022-02-17T21:01:52.851Z"
   },
   {
    "duration": 10,
    "start_time": "2022-02-17T21:01:52.872Z"
   },
   {
    "duration": 40,
    "start_time": "2022-02-17T21:01:52.885Z"
   },
   {
    "duration": 7,
    "start_time": "2022-02-17T21:01:52.928Z"
   },
   {
    "duration": 21,
    "start_time": "2022-02-17T21:01:52.938Z"
   },
   {
    "duration": 10,
    "start_time": "2022-02-17T21:01:52.962Z"
   },
   {
    "duration": 66,
    "start_time": "2022-02-17T21:01:52.975Z"
   },
   {
    "duration": 9,
    "start_time": "2022-02-17T21:01:53.046Z"
   },
   {
    "duration": 72,
    "start_time": "2022-02-17T21:01:53.059Z"
   },
   {
    "duration": 7,
    "start_time": "2022-02-17T21:01:53.134Z"
   },
   {
    "duration": 9,
    "start_time": "2022-02-17T21:01:53.143Z"
   },
   {
    "duration": 9,
    "start_time": "2022-02-17T21:01:53.155Z"
   },
   {
    "duration": 67,
    "start_time": "2022-02-17T21:01:53.167Z"
   },
   {
    "duration": 12,
    "start_time": "2022-02-17T21:01:53.238Z"
   },
   {
    "duration": 11,
    "start_time": "2022-02-17T21:01:53.252Z"
   },
   {
    "duration": 8,
    "start_time": "2022-02-17T21:01:53.265Z"
   },
   {
    "duration": 6,
    "start_time": "2022-02-17T21:01:53.275Z"
   },
   {
    "duration": 49,
    "start_time": "2022-02-17T21:01:53.283Z"
   },
   {
    "duration": 44,
    "start_time": "2022-02-17T21:01:53.336Z"
   },
   {
    "duration": 53,
    "start_time": "2022-02-17T21:01:53.383Z"
   },
   {
    "duration": 8,
    "start_time": "2022-02-17T21:01:53.439Z"
   },
   {
    "duration": 7,
    "start_time": "2022-02-17T21:01:53.450Z"
   },
   {
    "duration": 70,
    "start_time": "2022-02-17T21:01:53.460Z"
   },
   {
    "duration": 26,
    "start_time": "2022-02-17T21:01:53.533Z"
   },
   {
    "duration": 25,
    "start_time": "2022-02-17T21:01:53.562Z"
   },
   {
    "duration": 36,
    "start_time": "2022-02-17T21:01:53.596Z"
   },
   {
    "duration": 59,
    "start_time": "2022-02-17T21:01:53.635Z"
   },
   {
    "duration": 42,
    "start_time": "2022-02-17T21:01:53.696Z"
   },
   {
    "duration": 6,
    "start_time": "2022-02-17T21:01:53.740Z"
   },
   {
    "duration": 23,
    "start_time": "2022-02-17T21:01:53.749Z"
   },
   {
    "duration": 8,
    "start_time": "2022-02-17T21:01:53.774Z"
   },
   {
    "duration": 46,
    "start_time": "2022-02-17T21:01:53.784Z"
   },
   {
    "duration": 6,
    "start_time": "2022-02-17T21:01:53.834Z"
   },
   {
    "duration": 14,
    "start_time": "2022-02-17T21:01:53.843Z"
   },
   {
    "duration": 9,
    "start_time": "2022-02-17T21:01:53.860Z"
   },
   {
    "duration": 6,
    "start_time": "2022-02-17T21:01:53.871Z"
   },
   {
    "duration": 59,
    "start_time": "2022-02-17T21:01:53.879Z"
   },
   {
    "duration": 15,
    "start_time": "2022-02-17T21:01:53.941Z"
   },
   {
    "duration": 11,
    "start_time": "2022-02-17T21:01:53.960Z"
   },
   {
    "duration": 11,
    "start_time": "2022-02-17T21:01:53.974Z"
   },
   {
    "duration": 10,
    "start_time": "2022-02-17T21:01:54.027Z"
   },
   {
    "duration": 15,
    "start_time": "2022-02-17T21:01:54.040Z"
   },
   {
    "duration": 16,
    "start_time": "2022-02-17T21:01:54.058Z"
   },
   {
    "duration": 26,
    "start_time": "2022-02-17T21:01:54.076Z"
   },
   {
    "duration": 17,
    "start_time": "2022-02-17T21:01:54.126Z"
   },
   {
    "duration": 6364,
    "start_time": "2022-02-17T21:01:54.146Z"
   },
   {
    "duration": 5783,
    "start_time": "2022-02-17T21:03:51.199Z"
   },
   {
    "duration": 12,
    "start_time": "2022-02-17T21:08:53.383Z"
   },
   {
    "duration": 5581,
    "start_time": "2022-02-17T21:08:54.721Z"
   },
   {
    "duration": 13,
    "start_time": "2022-02-17T21:09:07.566Z"
   },
   {
    "duration": 5172,
    "start_time": "2022-02-17T21:09:08.039Z"
   },
   {
    "duration": 9,
    "start_time": "2022-02-17T21:12:07.962Z"
   },
   {
    "duration": 5278,
    "start_time": "2022-02-17T21:12:09.012Z"
   },
   {
    "duration": 325,
    "start_time": "2022-02-17T21:14:37.485Z"
   },
   {
    "duration": 5,
    "start_time": "2022-02-17T21:14:46.387Z"
   },
   {
    "duration": 317,
    "start_time": "2022-02-17T21:14:57.407Z"
   },
   {
    "duration": 7,
    "start_time": "2022-02-17T21:15:07.837Z"
   },
   {
    "duration": 13,
    "start_time": "2022-02-17T21:16:42.920Z"
   },
   {
    "duration": 6,
    "start_time": "2022-02-17T21:16:43.581Z"
   },
   {
    "duration": 5605,
    "start_time": "2022-02-17T21:16:45.373Z"
   },
   {
    "duration": 4,
    "start_time": "2022-02-17T21:17:55.350Z"
   },
   {
    "duration": 4,
    "start_time": "2022-02-17T21:18:23.332Z"
   },
   {
    "duration": 5036,
    "start_time": "2022-02-17T21:19:31.479Z"
   },
   {
    "duration": 13,
    "start_time": "2022-02-17T21:21:03.674Z"
   },
   {
    "duration": 5627,
    "start_time": "2022-02-17T21:21:08.975Z"
   },
   {
    "duration": 12,
    "start_time": "2022-02-17T21:22:59.092Z"
   },
   {
    "duration": 5829,
    "start_time": "2022-02-17T21:23:00.987Z"
   },
   {
    "duration": 7,
    "start_time": "2022-02-18T05:49:22.682Z"
   },
   {
    "duration": 2599,
    "start_time": "2022-02-18T05:49:22.754Z"
   },
   {
    "duration": 3,
    "start_time": "2022-02-18T05:50:18.045Z"
   },
   {
    "duration": 10,
    "start_time": "2022-02-18T05:50:36.711Z"
   },
   {
    "duration": 4,
    "start_time": "2022-02-18T05:50:54.064Z"
   },
   {
    "duration": 8,
    "start_time": "2022-02-18T05:51:16.227Z"
   },
   {
    "duration": 3,
    "start_time": "2022-02-18T05:51:58.978Z"
   },
   {
    "duration": 6,
    "start_time": "2022-02-18T05:52:05.209Z"
   },
   {
    "duration": 6,
    "start_time": "2022-02-18T05:52:20.492Z"
   },
   {
    "duration": 3,
    "start_time": "2022-02-18T05:53:07.145Z"
   },
   {
    "duration": 4,
    "start_time": "2022-02-18T05:53:23.450Z"
   },
   {
    "duration": 4,
    "start_time": "2022-02-18T05:53:43.302Z"
   },
   {
    "duration": 4,
    "start_time": "2022-02-18T05:54:06.665Z"
   },
   {
    "duration": 3,
    "start_time": "2022-02-18T05:54:18.210Z"
   },
   {
    "duration": 5,
    "start_time": "2022-02-18T05:55:43.333Z"
   },
   {
    "duration": 143,
    "start_time": "2022-02-18T06:00:43.228Z"
   },
   {
    "duration": 4,
    "start_time": "2022-02-18T06:01:07.141Z"
   },
   {
    "duration": 7,
    "start_time": "2022-02-18T06:02:11.319Z"
   },
   {
    "duration": 2498,
    "start_time": "2022-02-18T06:02:12.108Z"
   },
   {
    "duration": 2490,
    "start_time": "2022-02-18T06:03:17.378Z"
   },
   {
    "duration": 2470,
    "start_time": "2022-02-18T06:03:27.484Z"
   },
   {
    "duration": 174,
    "start_time": "2022-02-18T06:05:15.378Z"
   },
   {
    "duration": 150,
    "start_time": "2022-02-18T06:05:18.751Z"
   },
   {
    "duration": 174,
    "start_time": "2022-02-18T06:05:28.453Z"
   },
   {
    "duration": 139,
    "start_time": "2022-02-18T06:05:30.569Z"
   },
   {
    "duration": 6,
    "start_time": "2022-02-18T06:05:36.289Z"
   },
   {
    "duration": 45,
    "start_time": "2022-02-18T06:07:22.284Z"
   },
   {
    "duration": 169,
    "start_time": "2022-02-18T06:07:26.677Z"
   },
   {
    "duration": 4,
    "start_time": "2022-02-18T06:07:37.359Z"
   },
   {
    "duration": 143,
    "start_time": "2022-02-18T06:08:12.383Z"
   },
   {
    "duration": 4,
    "start_time": "2022-02-18T06:08:19.699Z"
   },
   {
    "duration": 8,
    "start_time": "2022-02-18T06:08:45.676Z"
   },
   {
    "duration": 4191,
    "start_time": "2022-02-18T06:08:46.157Z"
   },
   {
    "duration": 142,
    "start_time": "2022-02-18T06:09:46.995Z"
   },
   {
    "duration": 139,
    "start_time": "2022-02-18T06:09:53.172Z"
   },
   {
    "duration": 166,
    "start_time": "2022-02-18T06:09:55.660Z"
   },
   {
    "duration": 147,
    "start_time": "2022-02-18T06:10:00.646Z"
   },
   {
    "duration": 155,
    "start_time": "2022-02-18T06:10:08.989Z"
   },
   {
    "duration": 135,
    "start_time": "2022-02-18T06:10:13.935Z"
   },
   {
    "duration": 6,
    "start_time": "2022-02-18T06:10:20.252Z"
   },
   {
    "duration": 142,
    "start_time": "2022-02-18T06:10:34.248Z"
   },
   {
    "duration": 6,
    "start_time": "2022-02-18T06:10:40.065Z"
   },
   {
    "duration": 273,
    "start_time": "2022-02-18T06:16:26.503Z"
   },
   {
    "duration": 144,
    "start_time": "2022-02-18T06:16:44.508Z"
   },
   {
    "duration": 170,
    "start_time": "2022-02-18T06:17:03.160Z"
   },
   {
    "duration": 160,
    "start_time": "2022-02-18T06:17:33.370Z"
   },
   {
    "duration": 363,
    "start_time": "2022-02-18T11:28:32.868Z"
   },
   {
    "duration": 756,
    "start_time": "2022-02-18T11:28:42.558Z"
   },
   {
    "duration": 10,
    "start_time": "2022-02-18T11:28:43.316Z"
   },
   {
    "duration": 6,
    "start_time": "2022-02-18T11:28:43.328Z"
   },
   {
    "duration": 7,
    "start_time": "2022-02-18T11:28:43.336Z"
   },
   {
    "duration": 5,
    "start_time": "2022-02-18T11:28:43.344Z"
   },
   {
    "duration": 8,
    "start_time": "2022-02-18T11:28:43.350Z"
   },
   {
    "duration": 15,
    "start_time": "2022-02-18T11:28:43.360Z"
   },
   {
    "duration": 20,
    "start_time": "2022-02-18T11:28:43.378Z"
   },
   {
    "duration": 12,
    "start_time": "2022-02-18T11:28:43.400Z"
   },
   {
    "duration": 38,
    "start_time": "2022-02-18T11:28:43.414Z"
   },
   {
    "duration": 5,
    "start_time": "2022-02-18T11:28:43.454Z"
   },
   {
    "duration": 15,
    "start_time": "2022-02-18T11:28:43.460Z"
   },
   {
    "duration": 13,
    "start_time": "2022-02-18T11:28:43.477Z"
   },
   {
    "duration": 20,
    "start_time": "2022-02-18T11:28:43.491Z"
   },
   {
    "duration": 10,
    "start_time": "2022-02-18T11:28:43.513Z"
   },
   {
    "duration": 25,
    "start_time": "2022-02-18T11:28:43.525Z"
   },
   {
    "duration": 5,
    "start_time": "2022-02-18T11:28:43.552Z"
   },
   {
    "duration": 9,
    "start_time": "2022-02-18T11:28:43.559Z"
   },
   {
    "duration": 12,
    "start_time": "2022-02-18T11:28:43.569Z"
   },
   {
    "duration": 36,
    "start_time": "2022-02-18T11:28:43.583Z"
   },
   {
    "duration": 12,
    "start_time": "2022-02-18T11:28:43.621Z"
   },
   {
    "duration": 16,
    "start_time": "2022-02-18T11:28:43.634Z"
   },
   {
    "duration": 5,
    "start_time": "2022-02-18T11:28:43.653Z"
   },
   {
    "duration": 20,
    "start_time": "2022-02-18T11:28:43.661Z"
   },
   {
    "duration": 14,
    "start_time": "2022-02-18T11:28:43.683Z"
   },
   {
    "duration": 56,
    "start_time": "2022-02-18T11:28:43.698Z"
   },
   {
    "duration": 6,
    "start_time": "2022-02-18T11:28:43.756Z"
   },
   {
    "duration": 39,
    "start_time": "2022-02-18T11:28:43.764Z"
   },
   {
    "duration": 13,
    "start_time": "2022-02-18T11:28:43.805Z"
   },
   {
    "duration": 5,
    "start_time": "2022-02-18T11:28:43.819Z"
   },
   {
    "duration": 31,
    "start_time": "2022-02-18T11:28:43.826Z"
   },
   {
    "duration": 4,
    "start_time": "2022-02-18T11:28:43.859Z"
   },
   {
    "duration": 4,
    "start_time": "2022-02-18T11:28:43.865Z"
   },
   {
    "duration": 4,
    "start_time": "2022-02-18T11:28:43.870Z"
   },
   {
    "duration": 9,
    "start_time": "2022-02-18T11:28:43.876Z"
   },
   {
    "duration": 7,
    "start_time": "2022-02-18T11:28:43.886Z"
   },
   {
    "duration": 4,
    "start_time": "2022-02-18T11:28:43.895Z"
   },
   {
    "duration": 50,
    "start_time": "2022-02-18T11:28:43.901Z"
   },
   {
    "duration": 8,
    "start_time": "2022-02-18T11:28:43.953Z"
   },
   {
    "duration": 8,
    "start_time": "2022-02-18T11:28:43.962Z"
   },
   {
    "duration": 67,
    "start_time": "2022-02-18T11:28:43.972Z"
   },
   {
    "duration": 11,
    "start_time": "2022-02-18T11:28:44.041Z"
   },
   {
    "duration": 6,
    "start_time": "2022-02-18T11:28:44.053Z"
   },
   {
    "duration": 7,
    "start_time": "2022-02-18T11:28:44.061Z"
   },
   {
    "duration": 452,
    "start_time": "2022-02-18T11:28:44.070Z"
   },
   {
    "duration": -1925,
    "start_time": "2022-02-18T11:28:46.449Z"
   },
   {
    "duration": -1944,
    "start_time": "2022-02-18T11:28:46.469Z"
   },
   {
    "duration": -1948,
    "start_time": "2022-02-18T11:28:46.474Z"
   },
   {
    "duration": -1952,
    "start_time": "2022-02-18T11:28:46.479Z"
   },
   {
    "duration": -1957,
    "start_time": "2022-02-18T11:28:46.485Z"
   },
   {
    "duration": -1961,
    "start_time": "2022-02-18T11:28:46.491Z"
   },
   {
    "duration": -1964,
    "start_time": "2022-02-18T11:28:46.495Z"
   },
   {
    "duration": 332,
    "start_time": "2022-02-18T11:29:09.450Z"
   },
   {
    "duration": 16,
    "start_time": "2022-02-18T11:30:31.548Z"
   },
   {
    "duration": 21,
    "start_time": "2022-02-18T11:30:35.264Z"
   },
   {
    "duration": 11,
    "start_time": "2022-02-18T11:30:35.715Z"
   },
   {
    "duration": 9227,
    "start_time": "2022-02-18T11:30:36.458Z"
   },
   {
    "duration": 5,
    "start_time": "2022-02-18T11:32:17.421Z"
   },
   {
    "duration": 365,
    "start_time": "2022-02-18T11:33:06.517Z"
   },
   {
    "duration": 320,
    "start_time": "2022-02-18T11:33:09.995Z"
   },
   {
    "duration": 5,
    "start_time": "2022-02-18T11:33:26.845Z"
   },
   {
    "duration": 317,
    "start_time": "2022-02-18T11:33:50.731Z"
   },
   {
    "duration": 8,
    "start_time": "2022-02-18T11:37:16.276Z"
   },
   {
    "duration": 5824,
    "start_time": "2022-02-18T11:37:17.366Z"
   },
   {
    "duration": 10,
    "start_time": "2022-02-18T11:40:11.727Z"
   },
   {
    "duration": 24430,
    "start_time": "2022-02-18T11:40:12.463Z"
   },
   {
    "duration": 341,
    "start_time": "2022-02-18T11:41:23.066Z"
   },
   {
    "duration": 4,
    "start_time": "2022-02-18T11:41:29.293Z"
   },
   {
    "duration": 3,
    "start_time": "2022-02-18T11:41:38.606Z"
   },
   {
    "duration": 4,
    "start_time": "2022-02-18T11:41:42.006Z"
   },
   {
    "duration": -2014,
    "start_time": "2022-02-18T11:42:01.484Z"
   },
   {
    "duration": 3,
    "start_time": "2022-02-18T11:42:02.220Z"
   },
   {
    "duration": 3,
    "start_time": "2022-02-18T11:42:05.328Z"
   },
   {
    "duration": 2732,
    "start_time": "2022-02-18T16:55:14.626Z"
   },
   {
    "duration": 21,
    "start_time": "2022-02-18T16:55:17.362Z"
   },
   {
    "duration": 11,
    "start_time": "2022-02-18T16:55:17.387Z"
   },
   {
    "duration": 9,
    "start_time": "2022-02-18T16:55:17.401Z"
   },
   {
    "duration": 7,
    "start_time": "2022-02-18T16:55:17.412Z"
   },
   {
    "duration": 12,
    "start_time": "2022-02-18T16:55:17.462Z"
   },
   {
    "duration": 16,
    "start_time": "2022-02-18T16:55:17.477Z"
   },
   {
    "duration": 22,
    "start_time": "2022-02-18T16:55:17.497Z"
   },
   {
    "duration": 44,
    "start_time": "2022-02-18T16:55:17.522Z"
   },
   {
    "duration": 41,
    "start_time": "2022-02-18T16:55:17.570Z"
   },
   {
    "duration": 11,
    "start_time": "2022-02-18T16:55:17.613Z"
   },
   {
    "duration": 40,
    "start_time": "2022-02-18T16:55:17.627Z"
   },
   {
    "duration": 12,
    "start_time": "2022-02-18T16:55:17.670Z"
   },
   {
    "duration": 25,
    "start_time": "2022-02-18T16:55:17.685Z"
   },
   {
    "duration": 53,
    "start_time": "2022-02-18T16:55:17.713Z"
   },
   {
    "duration": 9,
    "start_time": "2022-02-18T16:55:17.769Z"
   },
   {
    "duration": 7,
    "start_time": "2022-02-18T16:55:17.781Z"
   },
   {
    "duration": 7,
    "start_time": "2022-02-18T16:55:17.791Z"
   },
   {
    "duration": 10,
    "start_time": "2022-02-18T16:55:17.801Z"
   },
   {
    "duration": 82,
    "start_time": "2022-02-18T16:55:17.814Z"
   },
   {
    "duration": 20,
    "start_time": "2022-02-18T16:55:17.900Z"
   },
   {
    "duration": 38,
    "start_time": "2022-02-18T16:55:17.923Z"
   },
   {
    "duration": 6,
    "start_time": "2022-02-18T16:55:17.967Z"
   },
   {
    "duration": 22,
    "start_time": "2022-02-18T16:55:17.976Z"
   },
   {
    "duration": 59,
    "start_time": "2022-02-18T16:55:18.001Z"
   },
   {
    "duration": 34,
    "start_time": "2022-02-18T16:55:18.064Z"
   },
   {
    "duration": 10,
    "start_time": "2022-02-18T16:55:18.101Z"
   },
   {
    "duration": 94,
    "start_time": "2022-02-18T16:55:18.113Z"
   },
   {
    "duration": 30,
    "start_time": "2022-02-18T16:55:18.210Z"
   },
   {
    "duration": 20,
    "start_time": "2022-02-18T16:55:18.242Z"
   },
   {
    "duration": 24,
    "start_time": "2022-02-18T16:55:18.264Z"
   },
   {
    "duration": 8,
    "start_time": "2022-02-18T16:55:18.291Z"
   },
   {
    "duration": 7,
    "start_time": "2022-02-18T16:55:18.301Z"
   },
   {
    "duration": 5,
    "start_time": "2022-02-18T16:55:18.310Z"
   },
   {
    "duration": 9,
    "start_time": "2022-02-18T16:55:18.361Z"
   },
   {
    "duration": 9,
    "start_time": "2022-02-18T16:55:18.373Z"
   },
   {
    "duration": 5,
    "start_time": "2022-02-18T16:55:18.384Z"
   },
   {
    "duration": 17,
    "start_time": "2022-02-18T16:55:18.391Z"
   },
   {
    "duration": 56,
    "start_time": "2022-02-18T16:55:18.411Z"
   },
   {
    "duration": 12,
    "start_time": "2022-02-18T16:55:18.470Z"
   },
   {
    "duration": 10,
    "start_time": "2022-02-18T16:55:18.485Z"
   },
   {
    "duration": 9,
    "start_time": "2022-02-18T16:55:18.498Z"
   },
   {
    "duration": 57,
    "start_time": "2022-02-18T16:55:18.510Z"
   },
   {
    "duration": 10,
    "start_time": "2022-02-18T16:55:18.569Z"
   },
   {
    "duration": 1411,
    "start_time": "2022-02-18T16:55:18.582Z"
   },
   {
    "duration": -2506,
    "start_time": "2022-02-18T16:55:22.503Z"
   },
   {
    "duration": -2512,
    "start_time": "2022-02-18T16:55:22.510Z"
   },
   {
    "duration": -2512,
    "start_time": "2022-02-18T16:55:22.512Z"
   },
   {
    "duration": -2515,
    "start_time": "2022-02-18T16:55:22.516Z"
   },
   {
    "duration": -2516,
    "start_time": "2022-02-18T16:55:22.518Z"
   },
   {
    "duration": -2517,
    "start_time": "2022-02-18T16:55:22.521Z"
   },
   {
    "duration": 299,
    "start_time": "2022-02-18T16:58:10.341Z"
   },
   {
    "duration": 541,
    "start_time": "2022-02-18T16:59:50.829Z"
   },
   {
    "duration": 4,
    "start_time": "2022-02-18T17:00:33.609Z"
   },
   {
    "duration": 9,
    "start_time": "2022-02-18T17:00:50.020Z"
   },
   {
    "duration": 341,
    "start_time": "2022-02-18T17:02:24.896Z"
   },
   {
    "duration": 356,
    "start_time": "2022-02-18T17:03:04.751Z"
   },
   {
    "duration": 32,
    "start_time": "2022-02-18T17:03:48.066Z"
   },
   {
    "duration": 29,
    "start_time": "2022-02-18T17:04:42.872Z"
   },
   {
    "duration": 31,
    "start_time": "2022-02-18T17:04:51.656Z"
   },
   {
    "duration": 3,
    "start_time": "2022-02-18T17:05:14.714Z"
   },
   {
    "duration": 35,
    "start_time": "2022-02-18T17:05:21.247Z"
   },
   {
    "duration": 31,
    "start_time": "2022-02-18T17:07:25.005Z"
   },
   {
    "duration": 25,
    "start_time": "2022-02-18T17:07:36.081Z"
   },
   {
    "duration": 29,
    "start_time": "2022-02-18T17:08:56.342Z"
   },
   {
    "duration": 27,
    "start_time": "2022-02-18T17:15:24.385Z"
   },
   {
    "duration": 32,
    "start_time": "2022-02-18T17:15:40.693Z"
   },
   {
    "duration": 1864,
    "start_time": "2022-02-18T17:24:59.655Z"
   },
   {
    "duration": 1544,
    "start_time": "2022-02-18T17:27:03.494Z"
   },
   {
    "duration": 1792,
    "start_time": "2022-02-18T17:27:45.011Z"
   },
   {
    "duration": 136,
    "start_time": "2022-02-18T17:29:42.607Z"
   },
   {
    "duration": 473,
    "start_time": "2022-02-18T17:30:34.799Z"
   },
   {
    "duration": 440,
    "start_time": "2022-02-18T17:30:46.559Z"
   },
   {
    "duration": 113,
    "start_time": "2022-02-18T17:31:00.526Z"
   },
   {
    "duration": 105,
    "start_time": "2022-02-18T17:31:08.001Z"
   },
   {
    "duration": 495,
    "start_time": "2022-02-18T17:31:21.227Z"
   },
   {
    "duration": 422,
    "start_time": "2022-02-18T17:31:38.390Z"
   },
   {
    "duration": 117,
    "start_time": "2022-02-18T17:32:16.881Z"
   },
   {
    "duration": 119,
    "start_time": "2022-02-18T17:32:27.054Z"
   },
   {
    "duration": 123,
    "start_time": "2022-02-18T17:32:56.299Z"
   },
   {
    "duration": 34,
    "start_time": "2022-02-18T17:33:04.764Z"
   },
   {
    "duration": 26,
    "start_time": "2022-02-18T17:33:22.660Z"
   },
   {
    "duration": 836,
    "start_time": "2022-02-18T17:33:52.908Z"
   },
   {
    "duration": 20,
    "start_time": "2022-02-18T17:33:53.747Z"
   },
   {
    "duration": 9,
    "start_time": "2022-02-18T17:33:53.770Z"
   },
   {
    "duration": 8,
    "start_time": "2022-02-18T17:33:53.782Z"
   },
   {
    "duration": 6,
    "start_time": "2022-02-18T17:33:53.792Z"
   },
   {
    "duration": 10,
    "start_time": "2022-02-18T17:33:53.801Z"
   },
   {
    "duration": 49,
    "start_time": "2022-02-18T17:33:53.814Z"
   },
   {
    "duration": 22,
    "start_time": "2022-02-18T17:33:53.867Z"
   },
   {
    "duration": 8,
    "start_time": "2022-02-18T17:33:53.892Z"
   },
   {
    "duration": 81,
    "start_time": "2022-02-18T17:33:53.902Z"
   },
   {
    "duration": 8,
    "start_time": "2022-02-18T17:33:53.985Z"
   },
   {
    "duration": 8,
    "start_time": "2022-02-18T17:33:53.996Z"
   },
   {
    "duration": 9,
    "start_time": "2022-02-18T17:33:54.006Z"
   },
   {
    "duration": 59,
    "start_time": "2022-02-18T17:33:54.017Z"
   },
   {
    "duration": 10,
    "start_time": "2022-02-18T17:33:54.078Z"
   },
   {
    "duration": 7,
    "start_time": "2022-02-18T17:33:54.090Z"
   },
   {
    "duration": 5,
    "start_time": "2022-02-18T17:33:54.100Z"
   },
   {
    "duration": 6,
    "start_time": "2022-02-18T17:33:54.108Z"
   },
   {
    "duration": 50,
    "start_time": "2022-02-18T17:33:54.116Z"
   },
   {
    "duration": 46,
    "start_time": "2022-02-18T17:33:54.169Z"
   },
   {
    "duration": 17,
    "start_time": "2022-02-18T17:33:54.217Z"
   },
   {
    "duration": 8,
    "start_time": "2022-02-18T17:33:54.261Z"
   },
   {
    "duration": 6,
    "start_time": "2022-02-18T17:33:54.274Z"
   },
   {
    "duration": 28,
    "start_time": "2022-02-18T17:33:54.284Z"
   },
   {
    "duration": 52,
    "start_time": "2022-02-18T17:33:54.315Z"
   },
   {
    "duration": 23,
    "start_time": "2022-02-18T17:33:54.369Z"
   },
   {
    "duration": 8,
    "start_time": "2022-02-18T17:33:54.394Z"
   },
   {
    "duration": 81,
    "start_time": "2022-02-18T17:33:54.404Z"
   },
   {
    "duration": 21,
    "start_time": "2022-02-18T17:33:54.487Z"
   },
   {
    "duration": 8,
    "start_time": "2022-02-18T17:33:54.511Z"
   },
   {
    "duration": 48,
    "start_time": "2022-02-18T17:33:54.522Z"
   },
   {
    "duration": 6,
    "start_time": "2022-02-18T17:33:54.573Z"
   },
   {
    "duration": 7,
    "start_time": "2022-02-18T17:33:54.581Z"
   },
   {
    "duration": 9,
    "start_time": "2022-02-18T17:33:54.591Z"
   },
   {
    "duration": 9,
    "start_time": "2022-02-18T17:33:54.604Z"
   },
   {
    "duration": 9,
    "start_time": "2022-02-18T17:33:54.662Z"
   },
   {
    "duration": 4,
    "start_time": "2022-02-18T17:33:54.674Z"
   },
   {
    "duration": 20,
    "start_time": "2022-02-18T17:33:54.681Z"
   },
   {
    "duration": 13,
    "start_time": "2022-02-18T17:33:54.704Z"
   },
   {
    "duration": 56,
    "start_time": "2022-02-18T17:33:54.719Z"
   },
   {
    "duration": 10,
    "start_time": "2022-02-18T17:33:54.778Z"
   },
   {
    "duration": 8,
    "start_time": "2022-02-18T17:33:54.791Z"
   },
   {
    "duration": 7,
    "start_time": "2022-02-18T17:33:54.801Z"
   },
   {
    "duration": 7,
    "start_time": "2022-02-18T17:33:54.862Z"
   },
   {
    "duration": 26,
    "start_time": "2022-02-18T17:33:54.871Z"
   },
   {
    "duration": 29,
    "start_time": "2022-02-18T17:33:54.900Z"
   },
   {
    "duration": 161,
    "start_time": "2022-02-18T17:33:54.931Z"
   },
   {
    "duration": 24,
    "start_time": "2022-02-18T17:33:55.095Z"
   },
   {
    "duration": 23,
    "start_time": "2022-02-18T17:36:02.256Z"
   },
   {
    "duration": 32,
    "start_time": "2022-02-18T17:36:14.513Z"
   },
   {
    "duration": 33,
    "start_time": "2022-02-18T17:36:44.683Z"
   },
   {
    "duration": 33,
    "start_time": "2022-02-18T17:37:25.927Z"
   },
   {
    "duration": 26,
    "start_time": "2022-02-18T17:37:31.529Z"
   },
   {
    "duration": 32,
    "start_time": "2022-02-18T17:37:33.303Z"
   },
   {
    "duration": 107,
    "start_time": "2022-02-18T17:37:35.394Z"
   },
   {
    "duration": 19,
    "start_time": "2022-02-18T17:37:35.883Z"
   },
   {
    "duration": 36,
    "start_time": "2022-02-18T17:38:52.465Z"
   },
   {
    "duration": 908,
    "start_time": "2022-02-18T17:39:16.971Z"
   },
   {
    "duration": 17,
    "start_time": "2022-02-18T17:39:17.881Z"
   },
   {
    "duration": 9,
    "start_time": "2022-02-18T17:39:17.901Z"
   },
   {
    "duration": 10,
    "start_time": "2022-02-18T17:39:17.913Z"
   },
   {
    "duration": 39,
    "start_time": "2022-02-18T17:39:17.925Z"
   },
   {
    "duration": 8,
    "start_time": "2022-02-18T17:39:17.967Z"
   },
   {
    "duration": 12,
    "start_time": "2022-02-18T17:39:17.978Z"
   },
   {
    "duration": 19,
    "start_time": "2022-02-18T17:39:17.994Z"
   },
   {
    "duration": 46,
    "start_time": "2022-02-18T17:39:18.016Z"
   },
   {
    "duration": 36,
    "start_time": "2022-02-18T17:39:18.065Z"
   },
   {
    "duration": 8,
    "start_time": "2022-02-18T17:39:18.104Z"
   },
   {
    "duration": 50,
    "start_time": "2022-02-18T17:39:18.115Z"
   },
   {
    "duration": 10,
    "start_time": "2022-02-18T17:39:18.168Z"
   },
   {
    "duration": 22,
    "start_time": "2022-02-18T17:39:18.181Z"
   },
   {
    "duration": 12,
    "start_time": "2022-02-18T17:39:18.206Z"
   },
   {
    "duration": 8,
    "start_time": "2022-02-18T17:39:18.262Z"
   },
   {
    "duration": 6,
    "start_time": "2022-02-18T17:39:18.272Z"
   },
   {
    "duration": 6,
    "start_time": "2022-02-18T17:39:18.281Z"
   },
   {
    "duration": 7,
    "start_time": "2022-02-18T17:39:18.289Z"
   },
   {
    "duration": 78,
    "start_time": "2022-02-18T17:39:18.299Z"
   },
   {
    "duration": 16,
    "start_time": "2022-02-18T17:39:18.380Z"
   },
   {
    "duration": 6,
    "start_time": "2022-02-18T17:39:18.398Z"
   },
   {
    "duration": 5,
    "start_time": "2022-02-18T17:39:18.410Z"
   },
   {
    "duration": 57,
    "start_time": "2022-02-18T17:39:18.418Z"
   },
   {
    "duration": 19,
    "start_time": "2022-02-18T17:39:18.478Z"
   },
   {
    "duration": 23,
    "start_time": "2022-02-18T17:39:18.499Z"
   },
   {
    "duration": 36,
    "start_time": "2022-02-18T17:39:18.525Z"
   },
   {
    "duration": 54,
    "start_time": "2022-02-18T17:39:18.564Z"
   },
   {
    "duration": 46,
    "start_time": "2022-02-18T17:39:18.620Z"
   },
   {
    "duration": 6,
    "start_time": "2022-02-18T17:39:18.668Z"
   },
   {
    "duration": 23,
    "start_time": "2022-02-18T17:39:18.676Z"
   },
   {
    "duration": 8,
    "start_time": "2022-02-18T17:39:18.701Z"
   },
   {
    "duration": 6,
    "start_time": "2022-02-18T17:39:18.711Z"
   },
   {
    "duration": 46,
    "start_time": "2022-02-18T17:39:18.719Z"
   },
   {
    "duration": 12,
    "start_time": "2022-02-18T17:39:18.767Z"
   },
   {
    "duration": 10,
    "start_time": "2022-02-18T17:39:18.782Z"
   },
   {
    "duration": 4,
    "start_time": "2022-02-18T17:39:18.795Z"
   },
   {
    "duration": 59,
    "start_time": "2022-02-18T17:39:18.802Z"
   },
   {
    "duration": 10,
    "start_time": "2022-02-18T17:39:18.864Z"
   },
   {
    "duration": 12,
    "start_time": "2022-02-18T17:39:18.876Z"
   },
   {
    "duration": 10,
    "start_time": "2022-02-18T17:39:18.891Z"
   },
   {
    "duration": 12,
    "start_time": "2022-02-18T17:39:18.903Z"
   },
   {
    "duration": 9,
    "start_time": "2022-02-18T17:39:18.961Z"
   },
   {
    "duration": 6,
    "start_time": "2022-02-18T17:39:18.973Z"
   },
   {
    "duration": 33,
    "start_time": "2022-02-18T17:39:18.982Z"
   },
   {
    "duration": 67,
    "start_time": "2022-02-18T17:39:19.018Z"
   },
   {
    "duration": 167,
    "start_time": "2022-02-18T17:39:19.088Z"
   },
   {
    "duration": 25,
    "start_time": "2022-02-18T17:39:19.257Z"
   },
   {
    "duration": 33,
    "start_time": "2022-02-18T17:45:49.878Z"
   },
   {
    "duration": 35,
    "start_time": "2022-02-18T17:46:29.977Z"
   },
   {
    "duration": 857,
    "start_time": "2022-02-18T17:48:37.266Z"
   },
   {
    "duration": 15,
    "start_time": "2022-02-18T17:48:38.126Z"
   },
   {
    "duration": 9,
    "start_time": "2022-02-18T17:48:38.163Z"
   },
   {
    "duration": 8,
    "start_time": "2022-02-18T17:48:38.175Z"
   },
   {
    "duration": 9,
    "start_time": "2022-02-18T17:48:38.186Z"
   },
   {
    "duration": 9,
    "start_time": "2022-02-18T17:48:38.197Z"
   },
   {
    "duration": 54,
    "start_time": "2022-02-18T17:48:38.208Z"
   },
   {
    "duration": 22,
    "start_time": "2022-02-18T17:48:38.266Z"
   },
   {
    "duration": 7,
    "start_time": "2022-02-18T17:48:38.292Z"
   },
   {
    "duration": 67,
    "start_time": "2022-02-18T17:48:38.301Z"
   },
   {
    "duration": 6,
    "start_time": "2022-02-18T17:48:38.371Z"
   },
   {
    "duration": 8,
    "start_time": "2022-02-18T17:48:38.379Z"
   },
   {
    "duration": 8,
    "start_time": "2022-02-18T17:48:38.390Z"
   },
   {
    "duration": 63,
    "start_time": "2022-02-18T17:48:38.400Z"
   },
   {
    "duration": 13,
    "start_time": "2022-02-18T17:48:38.466Z"
   },
   {
    "duration": 17,
    "start_time": "2022-02-18T17:48:38.481Z"
   },
   {
    "duration": 9,
    "start_time": "2022-02-18T17:48:38.501Z"
   },
   {
    "duration": 7,
    "start_time": "2022-02-18T17:48:38.513Z"
   },
   {
    "duration": 41,
    "start_time": "2022-02-18T17:48:38.523Z"
   },
   {
    "duration": 42,
    "start_time": "2022-02-18T17:48:38.566Z"
   },
   {
    "duration": 16,
    "start_time": "2022-02-18T17:48:38.610Z"
   },
   {
    "duration": 32,
    "start_time": "2022-02-18T17:48:38.629Z"
   },
   {
    "duration": 6,
    "start_time": "2022-02-18T17:48:38.664Z"
   },
   {
    "duration": 25,
    "start_time": "2022-02-18T17:48:38.672Z"
   },
   {
    "duration": 19,
    "start_time": "2022-02-18T17:48:38.700Z"
   },
   {
    "duration": 54,
    "start_time": "2022-02-18T17:48:38.725Z"
   },
   {
    "duration": 8,
    "start_time": "2022-02-18T17:48:38.783Z"
   },
   {
    "duration": 80,
    "start_time": "2022-02-18T17:48:38.794Z"
   },
   {
    "duration": 21,
    "start_time": "2022-02-18T17:48:38.876Z"
   },
   {
    "duration": 6,
    "start_time": "2022-02-18T17:48:38.900Z"
   },
   {
    "duration": 55,
    "start_time": "2022-02-18T17:48:38.909Z"
   },
   {
    "duration": 9,
    "start_time": "2022-02-18T17:48:38.967Z"
   },
   {
    "duration": 7,
    "start_time": "2022-02-18T17:48:38.979Z"
   },
   {
    "duration": 5,
    "start_time": "2022-02-18T17:48:38.989Z"
   },
   {
    "duration": 9,
    "start_time": "2022-02-18T17:48:38.997Z"
   },
   {
    "duration": 59,
    "start_time": "2022-02-18T17:48:39.009Z"
   },
   {
    "duration": 5,
    "start_time": "2022-02-18T17:48:39.070Z"
   },
   {
    "duration": 18,
    "start_time": "2022-02-18T17:48:39.077Z"
   },
   {
    "duration": 12,
    "start_time": "2022-02-18T17:48:39.097Z"
   },
   {
    "duration": 60,
    "start_time": "2022-02-18T17:48:39.111Z"
   },
   {
    "duration": 8,
    "start_time": "2022-02-18T17:48:39.174Z"
   },
   {
    "duration": 6,
    "start_time": "2022-02-18T17:48:39.185Z"
   },
   {
    "duration": 6,
    "start_time": "2022-02-18T17:48:39.194Z"
   },
   {
    "duration": 8,
    "start_time": "2022-02-18T17:48:39.203Z"
   },
   {
    "duration": 70,
    "start_time": "2022-02-18T17:48:39.214Z"
   },
   {
    "duration": 34,
    "start_time": "2022-02-18T17:48:39.286Z"
   },
   {
    "duration": 63,
    "start_time": "2022-02-18T17:48:39.323Z"
   },
   {
    "duration": 133,
    "start_time": "2022-02-18T17:48:39.388Z"
   },
   {
    "duration": 20,
    "start_time": "2022-02-18T17:48:39.524Z"
   },
   {
    "duration": 31,
    "start_time": "2022-02-18T17:49:34.266Z"
   },
   {
    "duration": 1771,
    "start_time": "2022-02-18T17:52:29.728Z"
   },
   {
    "duration": -2482,
    "start_time": "2022-02-18T17:52:33.984Z"
   },
   {
    "duration": 122,
    "start_time": "2022-02-18T17:52:58.908Z"
   },
   {
    "duration": 24,
    "start_time": "2022-02-18T17:52:59.945Z"
   },
   {
    "duration": 120,
    "start_time": "2022-02-18T17:53:33.307Z"
   },
   {
    "duration": 21,
    "start_time": "2022-02-18T17:53:33.859Z"
   },
   {
    "duration": 116,
    "start_time": "2022-02-18T17:53:41.208Z"
   },
   {
    "duration": 22,
    "start_time": "2022-02-18T17:53:41.584Z"
   },
   {
    "duration": 124,
    "start_time": "2022-02-18T17:53:49.073Z"
   },
   {
    "duration": 21,
    "start_time": "2022-02-18T17:53:49.646Z"
   },
   {
    "duration": 121,
    "start_time": "2022-02-18T17:54:01.608Z"
   },
   {
    "duration": 22,
    "start_time": "2022-02-18T17:54:03.195Z"
   },
   {
    "duration": 33,
    "start_time": "2022-02-18T17:54:25.981Z"
   },
   {
    "duration": 33,
    "start_time": "2022-02-18T17:55:25.616Z"
   },
   {
    "duration": 35,
    "start_time": "2022-02-18T17:55:26.808Z"
   },
   {
    "duration": 343,
    "start_time": "2022-02-18T17:58:25.810Z"
   },
   {
    "duration": 26,
    "start_time": "2022-02-18T17:58:37.369Z"
   },
   {
    "duration": 40,
    "start_time": "2022-02-18T17:59:16.785Z"
   },
   {
    "duration": 23,
    "start_time": "2022-02-18T17:59:52.461Z"
   },
   {
    "duration": 27,
    "start_time": "2022-02-18T18:00:30.489Z"
   },
   {
    "duration": 243,
    "start_time": "2022-02-18T18:01:05.232Z"
   },
   {
    "duration": 23,
    "start_time": "2022-02-18T18:01:21.911Z"
   },
   {
    "duration": 126,
    "start_time": "2022-02-18T18:07:32.770Z"
   },
   {
    "duration": 1583,
    "start_time": "2022-02-18T18:07:45.595Z"
   },
   {
    "duration": 1564,
    "start_time": "2022-02-18T18:08:09.612Z"
   },
   {
    "duration": 1886,
    "start_time": "2022-02-18T18:09:32.260Z"
   },
   {
    "duration": 1516,
    "start_time": "2022-02-18T18:10:41.759Z"
   },
   {
    "duration": 30,
    "start_time": "2022-02-18T18:12:56.930Z"
   },
   {
    "duration": 29,
    "start_time": "2022-02-18T18:13:33.082Z"
   },
   {
    "duration": 856,
    "start_time": "2022-02-18T18:13:41.979Z"
   },
   {
    "duration": 27,
    "start_time": "2022-02-18T18:13:42.838Z"
   },
   {
    "duration": 9,
    "start_time": "2022-02-18T18:13:42.868Z"
   },
   {
    "duration": 15,
    "start_time": "2022-02-18T18:13:42.881Z"
   },
   {
    "duration": 7,
    "start_time": "2022-02-18T18:13:42.899Z"
   },
   {
    "duration": 9,
    "start_time": "2022-02-18T18:13:42.908Z"
   },
   {
    "duration": 47,
    "start_time": "2022-02-18T18:13:42.920Z"
   },
   {
    "duration": 24,
    "start_time": "2022-02-18T18:13:42.971Z"
   },
   {
    "duration": 7,
    "start_time": "2022-02-18T18:13:42.998Z"
   },
   {
    "duration": 74,
    "start_time": "2022-02-18T18:13:43.007Z"
   },
   {
    "duration": 9,
    "start_time": "2022-02-18T18:13:43.084Z"
   },
   {
    "duration": 9,
    "start_time": "2022-02-18T18:13:43.095Z"
   },
   {
    "duration": 11,
    "start_time": "2022-02-18T18:13:43.106Z"
   },
   {
    "duration": 58,
    "start_time": "2022-02-18T18:13:43.119Z"
   },
   {
    "duration": 10,
    "start_time": "2022-02-18T18:13:43.180Z"
   },
   {
    "duration": 7,
    "start_time": "2022-02-18T18:13:43.193Z"
   },
   {
    "duration": 6,
    "start_time": "2022-02-18T18:13:43.203Z"
   },
   {
    "duration": 50,
    "start_time": "2022-02-18T18:13:43.212Z"
   },
   {
    "duration": 7,
    "start_time": "2022-02-18T18:13:43.264Z"
   },
   {
    "duration": 45,
    "start_time": "2022-02-18T18:13:43.274Z"
   },
   {
    "duration": 43,
    "start_time": "2022-02-18T18:13:43.322Z"
   },
   {
    "duration": 7,
    "start_time": "2022-02-18T18:13:43.367Z"
   },
   {
    "duration": 5,
    "start_time": "2022-02-18T18:13:43.381Z"
   },
   {
    "duration": 21,
    "start_time": "2022-02-18T18:13:43.390Z"
   },
   {
    "duration": 53,
    "start_time": "2022-02-18T18:13:43.413Z"
   },
   {
    "duration": 23,
    "start_time": "2022-02-18T18:13:43.468Z"
   },
   {
    "duration": 8,
    "start_time": "2022-02-18T18:13:43.494Z"
   },
   {
    "duration": 88,
    "start_time": "2022-02-18T18:13:43.505Z"
   },
   {
    "duration": 23,
    "start_time": "2022-02-18T18:13:43.595Z"
   },
   {
    "duration": 5,
    "start_time": "2022-02-18T18:13:43.621Z"
   },
   {
    "duration": 47,
    "start_time": "2022-02-18T18:13:43.628Z"
   },
   {
    "duration": 7,
    "start_time": "2022-02-18T18:13:43.678Z"
   },
   {
    "duration": 8,
    "start_time": "2022-02-18T18:13:43.687Z"
   },
   {
    "duration": 10,
    "start_time": "2022-02-18T18:13:43.697Z"
   },
   {
    "duration": 14,
    "start_time": "2022-02-18T18:13:43.709Z"
   },
   {
    "duration": 10,
    "start_time": "2022-02-18T18:13:43.762Z"
   },
   {
    "duration": 8,
    "start_time": "2022-02-18T18:13:43.774Z"
   },
   {
    "duration": 19,
    "start_time": "2022-02-18T18:13:43.784Z"
   },
   {
    "duration": 12,
    "start_time": "2022-02-18T18:13:43.805Z"
   },
   {
    "duration": 48,
    "start_time": "2022-02-18T18:13:43.820Z"
   },
   {
    "duration": 8,
    "start_time": "2022-02-18T18:13:43.871Z"
   },
   {
    "duration": 17,
    "start_time": "2022-02-18T18:13:43.882Z"
   },
   {
    "duration": 12,
    "start_time": "2022-02-18T18:13:43.901Z"
   },
   {
    "duration": 9,
    "start_time": "2022-02-18T18:13:43.915Z"
   },
   {
    "duration": 53,
    "start_time": "2022-02-18T18:13:43.926Z"
   },
   {
    "duration": 27,
    "start_time": "2022-02-18T18:13:43.982Z"
   },
   {
    "duration": 65,
    "start_time": "2022-02-18T18:13:44.012Z"
   },
   {
    "duration": 21,
    "start_time": "2022-02-18T18:13:44.080Z"
   },
   {
    "duration": 28,
    "start_time": "2022-02-18T18:14:04.099Z"
   },
   {
    "duration": 21,
    "start_time": "2022-02-18T18:14:06.052Z"
   },
   {
    "duration": 32,
    "start_time": "2022-02-18T18:14:26.927Z"
   },
   {
    "duration": 33,
    "start_time": "2022-02-18T18:14:30.669Z"
   },
   {
    "duration": 20,
    "start_time": "2022-02-18T18:14:31.629Z"
   },
   {
    "duration": 126,
    "start_time": "2022-02-18T18:14:59.817Z"
   },
   {
    "duration": 22,
    "start_time": "2022-02-18T18:15:01.193Z"
   },
   {
    "duration": 132,
    "start_time": "2022-02-18T18:15:15.555Z"
   },
   {
    "duration": 22,
    "start_time": "2022-02-18T18:15:17.007Z"
   },
   {
    "duration": 1813,
    "start_time": "2022-02-18T18:15:46.985Z"
   },
   {
    "duration": 4386,
    "start_time": "2022-02-18T18:16:12.825Z"
   },
   {
    "duration": 22,
    "start_time": "2022-02-18T18:16:24.160Z"
   },
   {
    "duration": 653,
    "start_time": "2022-02-18T18:17:23.761Z"
   },
   {
    "duration": 23,
    "start_time": "2022-02-18T18:17:30.656Z"
   },
   {
    "duration": 145,
    "start_time": "2022-02-18T18:18:21.303Z"
   },
   {
    "duration": 23,
    "start_time": "2022-02-18T18:18:22.336Z"
   },
   {
    "duration": 134,
    "start_time": "2022-02-18T18:19:56.030Z"
   },
   {
    "duration": 6,
    "start_time": "2022-02-18T18:21:24.366Z"
   },
   {
    "duration": 122,
    "start_time": "2022-02-18T18:21:44.878Z"
   },
   {
    "duration": 108,
    "start_time": "2022-02-18T18:22:09.906Z"
   },
   {
    "duration": 318,
    "start_time": "2022-02-18T18:40:05.438Z"
   },
   {
    "duration": 26,
    "start_time": "2022-02-18T18:40:53.762Z"
   },
   {
    "duration": 33,
    "start_time": "2022-02-18T18:40:57.598Z"
   },
   {
    "duration": 27,
    "start_time": "2022-02-18T18:44:27.045Z"
   },
   {
    "duration": 6,
    "start_time": "2022-02-18T18:45:18.071Z"
   },
   {
    "duration": 353,
    "start_time": "2022-02-18T18:45:21.264Z"
   },
   {
    "duration": 822,
    "start_time": "2022-02-18T18:48:47.593Z"
   },
   {
    "duration": 16,
    "start_time": "2022-02-18T18:48:48.418Z"
   },
   {
    "duration": 31,
    "start_time": "2022-02-18T18:48:48.437Z"
   },
   {
    "duration": 25,
    "start_time": "2022-02-18T18:48:48.471Z"
   },
   {
    "duration": 21,
    "start_time": "2022-02-18T18:48:48.498Z"
   },
   {
    "duration": 32,
    "start_time": "2022-02-18T18:48:48.521Z"
   },
   {
    "duration": 20,
    "start_time": "2022-02-18T18:48:48.556Z"
   },
   {
    "duration": 27,
    "start_time": "2022-02-18T18:48:48.582Z"
   },
   {
    "duration": 21,
    "start_time": "2022-02-18T18:48:48.613Z"
   },
   {
    "duration": 38,
    "start_time": "2022-02-18T18:48:48.637Z"
   },
   {
    "duration": 15,
    "start_time": "2022-02-18T18:48:48.677Z"
   },
   {
    "duration": 17,
    "start_time": "2022-02-18T18:48:48.694Z"
   },
   {
    "duration": 9,
    "start_time": "2022-02-18T18:48:48.714Z"
   },
   {
    "duration": 50,
    "start_time": "2022-02-18T18:48:48.726Z"
   },
   {
    "duration": 10,
    "start_time": "2022-02-18T18:48:48.779Z"
   },
   {
    "duration": 10,
    "start_time": "2022-02-18T18:48:48.791Z"
   },
   {
    "duration": 7,
    "start_time": "2022-02-18T18:48:48.804Z"
   },
   {
    "duration": 8,
    "start_time": "2022-02-18T18:48:48.813Z"
   },
   {
    "duration": 8,
    "start_time": "2022-02-18T18:48:48.860Z"
   },
   {
    "duration": 43,
    "start_time": "2022-02-18T18:48:48.871Z"
   },
   {
    "duration": 45,
    "start_time": "2022-02-18T18:48:48.917Z"
   },
   {
    "duration": 9,
    "start_time": "2022-02-18T18:48:48.967Z"
   },
   {
    "duration": 13,
    "start_time": "2022-02-18T18:48:48.983Z"
   },
   {
    "duration": 22,
    "start_time": "2022-02-18T18:48:49.001Z"
   },
   {
    "duration": 21,
    "start_time": "2022-02-18T18:48:49.062Z"
   },
   {
    "duration": 31,
    "start_time": "2022-02-18T18:48:49.085Z"
   },
   {
    "duration": 8,
    "start_time": "2022-02-18T18:48:49.119Z"
   },
   {
    "duration": 79,
    "start_time": "2022-02-18T18:48:49.129Z"
   },
   {
    "duration": 24,
    "start_time": "2022-02-18T18:48:49.210Z"
   },
   {
    "duration": 27,
    "start_time": "2022-02-18T18:48:49.237Z"
   },
   {
    "duration": 23,
    "start_time": "2022-02-18T18:48:49.266Z"
   },
   {
    "duration": 20,
    "start_time": "2022-02-18T18:48:49.291Z"
   },
   {
    "duration": 15,
    "start_time": "2022-02-18T18:48:49.313Z"
   },
   {
    "duration": 10,
    "start_time": "2022-02-18T18:48:49.330Z"
   },
   {
    "duration": 26,
    "start_time": "2022-02-18T18:48:49.342Z"
   },
   {
    "duration": 8,
    "start_time": "2022-02-18T18:48:49.371Z"
   },
   {
    "duration": 4,
    "start_time": "2022-02-18T18:48:49.382Z"
   },
   {
    "duration": 17,
    "start_time": "2022-02-18T18:48:49.388Z"
   },
   {
    "duration": 10,
    "start_time": "2022-02-18T18:48:49.407Z"
   },
   {
    "duration": 13,
    "start_time": "2022-02-18T18:48:49.462Z"
   },
   {
    "duration": 9,
    "start_time": "2022-02-18T18:48:49.478Z"
   },
   {
    "duration": 6,
    "start_time": "2022-02-18T18:48:49.490Z"
   },
   {
    "duration": 7,
    "start_time": "2022-02-18T18:48:49.499Z"
   },
   {
    "duration": 54,
    "start_time": "2022-02-18T18:48:49.508Z"
   },
   {
    "duration": 29,
    "start_time": "2022-02-18T18:48:49.565Z"
   },
   {
    "duration": 24,
    "start_time": "2022-02-18T18:48:49.597Z"
   },
   {
    "duration": 62,
    "start_time": "2022-02-18T18:48:49.623Z"
   },
   {
    "duration": 7,
    "start_time": "2022-02-18T18:49:01.135Z"
   },
   {
    "duration": 585,
    "start_time": "2022-02-18T18:49:03.398Z"
   },
   {
    "duration": 33,
    "start_time": "2022-02-18T18:49:25.333Z"
   },
   {
    "duration": 33,
    "start_time": "2022-02-18T18:50:14.060Z"
   },
   {
    "duration": 4,
    "start_time": "2022-02-18T18:52:35.751Z"
   },
   {
    "duration": 7,
    "start_time": "2022-02-18T18:56:59.539Z"
   },
   {
    "duration": 86,
    "start_time": "2022-02-18T18:57:07.603Z"
   },
   {
    "duration": 16,
    "start_time": "2022-02-18T18:57:09.686Z"
   },
   {
    "duration": 11,
    "start_time": "2022-02-18T18:57:10.994Z"
   },
   {
    "duration": 11,
    "start_time": "2022-02-18T18:57:12.539Z"
   },
   {
    "duration": 7,
    "start_time": "2022-02-18T18:57:13.734Z"
   },
   {
    "duration": 10,
    "start_time": "2022-02-18T18:57:15.152Z"
   },
   {
    "duration": 9,
    "start_time": "2022-02-18T18:57:16.680Z"
   },
   {
    "duration": 24,
    "start_time": "2022-02-18T18:57:17.830Z"
   },
   {
    "duration": 9,
    "start_time": "2022-02-18T18:57:20.549Z"
   },
   {
    "duration": 42,
    "start_time": "2022-02-18T18:57:22.153Z"
   },
   {
    "duration": 6,
    "start_time": "2022-02-18T18:57:24.073Z"
   },
   {
    "duration": 10,
    "start_time": "2022-02-18T18:57:25.752Z"
   },
   {
    "duration": 10,
    "start_time": "2022-02-18T18:57:27.330Z"
   },
   {
    "duration": 24,
    "start_time": "2022-02-18T18:57:28.711Z"
   },
   {
    "duration": 9,
    "start_time": "2022-02-18T18:57:29.323Z"
   },
   {
    "duration": 8,
    "start_time": "2022-02-18T18:57:30.630Z"
   },
   {
    "duration": 7,
    "start_time": "2022-02-18T18:57:31.633Z"
   },
   {
    "duration": 5,
    "start_time": "2022-02-18T18:57:32.970Z"
   },
   {
    "duration": 6,
    "start_time": "2022-02-18T18:57:33.561Z"
   },
   {
    "duration": 37,
    "start_time": "2022-02-18T18:57:35.121Z"
   },
   {
    "duration": 18,
    "start_time": "2022-02-18T18:57:36.160Z"
   },
   {
    "duration": 8,
    "start_time": "2022-02-18T18:57:38.744Z"
   },
   {
    "duration": 7,
    "start_time": "2022-02-18T18:57:39.964Z"
   },
   {
    "duration": 20,
    "start_time": "2022-02-18T18:57:44.198Z"
   },
   {
    "duration": 20,
    "start_time": "2022-02-18T18:57:45.440Z"
   },
   {
    "duration": 23,
    "start_time": "2022-02-18T18:57:49.712Z"
   },
   {
    "duration": 8,
    "start_time": "2022-02-18T18:57:50.860Z"
   },
   {
    "duration": 54,
    "start_time": "2022-02-18T18:57:52.229Z"
   },
   {
    "duration": 22,
    "start_time": "2022-02-18T18:57:58.777Z"
   },
   {
    "duration": 6,
    "start_time": "2022-02-18T18:58:00.053Z"
   },
   {
    "duration": 26,
    "start_time": "2022-02-18T18:58:01.147Z"
   },
   {
    "duration": 9,
    "start_time": "2022-02-18T18:58:02.395Z"
   },
   {
    "duration": 7,
    "start_time": "2022-02-18T18:58:04.197Z"
   },
   {
    "duration": 5,
    "start_time": "2022-02-18T18:58:05.313Z"
   },
   {
    "duration": 10,
    "start_time": "2022-02-18T18:58:06.988Z"
   },
   {
    "duration": 11,
    "start_time": "2022-02-18T18:58:11.957Z"
   },
   {
    "duration": 5,
    "start_time": "2022-02-18T18:58:13.614Z"
   },
   {
    "duration": 19,
    "start_time": "2022-02-18T18:58:14.469Z"
   },
   {
    "duration": 8,
    "start_time": "2022-02-18T19:00:35.571Z"
   },
   {
    "duration": 113,
    "start_time": "2022-02-18T19:00:57.871Z"
   },
   {
    "duration": 125,
    "start_time": "2022-02-18T19:01:12.437Z"
   },
   {
    "duration": 7,
    "start_time": "2022-02-18T19:04:29.524Z"
   },
   {
    "duration": 8,
    "start_time": "2022-02-18T19:04:40.319Z"
   },
   {
    "duration": 16,
    "start_time": "2022-02-18T19:04:50.730Z"
   },
   {
    "duration": 15,
    "start_time": "2022-02-18T19:05:05.010Z"
   },
   {
    "duration": 14,
    "start_time": "2022-02-18T19:05:11.806Z"
   },
   {
    "duration": 16,
    "start_time": "2022-02-18T19:05:20.734Z"
   },
   {
    "duration": 16,
    "start_time": "2022-02-18T19:05:32.459Z"
   },
   {
    "duration": 7,
    "start_time": "2022-02-18T19:06:07.641Z"
   },
   {
    "duration": 7,
    "start_time": "2022-02-18T19:06:08.261Z"
   },
   {
    "duration": 18,
    "start_time": "2022-02-18T19:06:08.709Z"
   },
   {
    "duration": 15,
    "start_time": "2022-02-18T19:06:09.335Z"
   },
   {
    "duration": 13,
    "start_time": "2022-02-18T19:06:09.929Z"
   },
   {
    "duration": 7,
    "start_time": "2022-02-18T19:06:58.680Z"
   },
   {
    "duration": 44,
    "start_time": "2022-02-18T19:07:09.982Z"
   },
   {
    "duration": 8992,
    "start_time": "2022-02-18T19:12:47.221Z"
   },
   {
    "duration": 318,
    "start_time": "2022-02-18T19:13:00.769Z"
   },
   {
    "duration": 8344,
    "start_time": "2022-02-18T19:13:12.901Z"
   },
   {
    "duration": -2463,
    "start_time": "2022-02-18T19:13:23.711Z"
   },
   {
    "duration": 901,
    "start_time": "2022-02-18T19:17:13.248Z"
   },
   {
    "duration": 16,
    "start_time": "2022-02-18T19:17:14.152Z"
   },
   {
    "duration": 10,
    "start_time": "2022-02-18T19:17:14.172Z"
   },
   {
    "duration": 11,
    "start_time": "2022-02-18T19:17:14.186Z"
   },
   {
    "duration": 8,
    "start_time": "2022-02-18T19:17:14.199Z"
   },
   {
    "duration": 58,
    "start_time": "2022-02-18T19:17:14.210Z"
   },
   {
    "duration": 11,
    "start_time": "2022-02-18T19:17:14.271Z"
   },
   {
    "duration": 32,
    "start_time": "2022-02-18T19:17:14.288Z"
   },
   {
    "duration": 11,
    "start_time": "2022-02-18T19:17:14.360Z"
   },
   {
    "duration": 49,
    "start_time": "2022-02-18T19:17:14.374Z"
   },
   {
    "duration": 6,
    "start_time": "2022-02-18T19:17:14.425Z"
   },
   {
    "duration": 7,
    "start_time": "2022-02-18T19:17:14.462Z"
   },
   {
    "duration": 8,
    "start_time": "2022-02-18T19:17:14.471Z"
   },
   {
    "duration": 21,
    "start_time": "2022-02-18T19:17:14.482Z"
   },
   {
    "duration": 57,
    "start_time": "2022-02-18T19:17:14.505Z"
   },
   {
    "duration": 8,
    "start_time": "2022-02-18T19:17:14.565Z"
   },
   {
    "duration": 17,
    "start_time": "2022-02-18T19:17:14.576Z"
   },
   {
    "duration": 9,
    "start_time": "2022-02-18T19:17:14.595Z"
   },
   {
    "duration": 9,
    "start_time": "2022-02-18T19:17:14.606Z"
   },
   {
    "duration": 75,
    "start_time": "2022-02-18T19:17:14.617Z"
   },
   {
    "duration": 16,
    "start_time": "2022-02-18T19:17:14.695Z"
   },
   {
    "duration": 9,
    "start_time": "2022-02-18T19:17:14.715Z"
   },
   {
    "duration": 6,
    "start_time": "2022-02-18T19:17:14.762Z"
   },
   {
    "duration": 27,
    "start_time": "2022-02-18T19:17:14.772Z"
   },
   {
    "duration": 22,
    "start_time": "2022-02-18T19:17:14.802Z"
   },
   {
    "duration": 50,
    "start_time": "2022-02-18T19:17:14.827Z"
   },
   {
    "duration": 9,
    "start_time": "2022-02-18T19:17:14.880Z"
   },
   {
    "duration": 81,
    "start_time": "2022-02-18T19:17:14.891Z"
   },
   {
    "duration": 22,
    "start_time": "2022-02-18T19:17:14.974Z"
   },
   {
    "duration": 10,
    "start_time": "2022-02-18T19:17:14.999Z"
   },
   {
    "duration": 49,
    "start_time": "2022-02-18T19:17:15.011Z"
   },
   {
    "duration": 8,
    "start_time": "2022-02-18T19:17:15.063Z"
   },
   {
    "duration": 6,
    "start_time": "2022-02-18T19:17:15.074Z"
   },
   {
    "duration": 10,
    "start_time": "2022-02-18T19:17:15.082Z"
   },
   {
    "duration": 19,
    "start_time": "2022-02-18T19:17:15.095Z"
   },
   {
    "duration": 13,
    "start_time": "2022-02-18T19:17:15.117Z"
   },
   {
    "duration": 5,
    "start_time": "2022-02-18T19:17:15.162Z"
   },
   {
    "duration": 20,
    "start_time": "2022-02-18T19:17:15.169Z"
   },
   {
    "duration": 11,
    "start_time": "2022-02-18T19:17:15.192Z"
   },
   {
    "duration": 11,
    "start_time": "2022-02-18T19:17:15.206Z"
   },
   {
    "duration": 10,
    "start_time": "2022-02-18T19:17:15.263Z"
   },
   {
    "duration": 7,
    "start_time": "2022-02-18T19:17:15.275Z"
   },
   {
    "duration": 8,
    "start_time": "2022-02-18T19:17:15.284Z"
   },
   {
    "duration": 450,
    "start_time": "2022-02-18T19:17:15.294Z"
   },
   {
    "duration": -2502,
    "start_time": "2022-02-18T19:17:18.249Z"
   },
   {
    "duration": -2504,
    "start_time": "2022-02-18T19:17:18.252Z"
   },
   {
    "duration": -2506,
    "start_time": "2022-02-18T19:17:18.255Z"
   },
   {
    "duration": -2507,
    "start_time": "2022-02-18T19:17:18.258Z"
   },
   {
    "duration": -2509,
    "start_time": "2022-02-18T19:17:18.261Z"
   },
   {
    "duration": -2511,
    "start_time": "2022-02-18T19:17:18.264Z"
   },
   {
    "duration": -2514,
    "start_time": "2022-02-18T19:17:18.268Z"
   },
   {
    "duration": -2515,
    "start_time": "2022-02-18T19:17:18.271Z"
   },
   {
    "duration": -2517,
    "start_time": "2022-02-18T19:17:18.274Z"
   },
   {
    "duration": -2519,
    "start_time": "2022-02-18T19:17:18.277Z"
   },
   {
    "duration": -2520,
    "start_time": "2022-02-18T19:17:18.280Z"
   },
   {
    "duration": -2527,
    "start_time": "2022-02-18T19:17:18.288Z"
   },
   {
    "duration": -2528,
    "start_time": "2022-02-18T19:17:18.291Z"
   },
   {
    "duration": -2530,
    "start_time": "2022-02-18T19:17:18.294Z"
   },
   {
    "duration": -2532,
    "start_time": "2022-02-18T19:17:18.297Z"
   },
   {
    "duration": -2533,
    "start_time": "2022-02-18T19:17:18.300Z"
   },
   {
    "duration": 892,
    "start_time": "2022-02-18T19:17:56.102Z"
   },
   {
    "duration": 18,
    "start_time": "2022-02-18T19:17:56.997Z"
   },
   {
    "duration": 10,
    "start_time": "2022-02-18T19:17:57.019Z"
   },
   {
    "duration": 10,
    "start_time": "2022-02-18T19:17:57.061Z"
   },
   {
    "duration": 6,
    "start_time": "2022-02-18T19:17:57.073Z"
   },
   {
    "duration": 12,
    "start_time": "2022-02-18T19:17:57.082Z"
   },
   {
    "duration": 11,
    "start_time": "2022-02-18T19:17:57.098Z"
   },
   {
    "duration": 64,
    "start_time": "2022-02-18T19:17:57.112Z"
   },
   {
    "duration": 10,
    "start_time": "2022-02-18T19:17:57.179Z"
   },
   {
    "duration": 68,
    "start_time": "2022-02-18T19:17:57.192Z"
   },
   {
    "duration": 6,
    "start_time": "2022-02-18T19:17:57.263Z"
   },
   {
    "duration": 10,
    "start_time": "2022-02-18T19:17:57.272Z"
   },
   {
    "duration": 8,
    "start_time": "2022-02-18T19:17:57.285Z"
   },
   {
    "duration": 21,
    "start_time": "2022-02-18T19:17:57.296Z"
   },
   {
    "duration": 57,
    "start_time": "2022-02-18T19:17:57.319Z"
   },
   {
    "duration": 10,
    "start_time": "2022-02-18T19:17:57.379Z"
   },
   {
    "duration": 12,
    "start_time": "2022-02-18T19:17:57.392Z"
   },
   {
    "duration": 10,
    "start_time": "2022-02-18T19:17:57.406Z"
   },
   {
    "duration": 9,
    "start_time": "2022-02-18T19:17:57.419Z"
   },
   {
    "duration": 87,
    "start_time": "2022-02-18T19:17:57.430Z"
   },
   {
    "duration": 19,
    "start_time": "2022-02-18T19:17:57.520Z"
   },
   {
    "duration": 25,
    "start_time": "2022-02-18T19:17:57.541Z"
   },
   {
    "duration": 6,
    "start_time": "2022-02-18T19:17:57.573Z"
   },
   {
    "duration": 32,
    "start_time": "2022-02-18T19:17:57.584Z"
   },
   {
    "duration": 53,
    "start_time": "2022-02-18T19:17:57.621Z"
   },
   {
    "duration": 22,
    "start_time": "2022-02-18T19:17:57.677Z"
   },
   {
    "duration": 7,
    "start_time": "2022-02-18T19:17:57.702Z"
   },
   {
    "duration": 111,
    "start_time": "2022-02-18T19:17:57.711Z"
   },
   {
    "duration": 36,
    "start_time": "2022-02-18T19:17:57.826Z"
   },
   {
    "duration": 6,
    "start_time": "2022-02-18T19:17:57.865Z"
   },
   {
    "duration": 29,
    "start_time": "2022-02-18T19:17:57.873Z"
   },
   {
    "duration": 11,
    "start_time": "2022-02-18T19:17:57.905Z"
   },
   {
    "duration": 11,
    "start_time": "2022-02-18T19:17:57.919Z"
   },
   {
    "duration": 33,
    "start_time": "2022-02-18T19:17:57.932Z"
   },
   {
    "duration": 20,
    "start_time": "2022-02-18T19:17:57.967Z"
   },
   {
    "duration": 13,
    "start_time": "2022-02-18T19:17:57.989Z"
   },
   {
    "duration": 10,
    "start_time": "2022-02-18T19:17:58.004Z"
   },
   {
    "duration": 25,
    "start_time": "2022-02-18T19:17:58.016Z"
   },
   {
    "duration": 27,
    "start_time": "2022-02-18T19:17:58.044Z"
   },
   {
    "duration": 20,
    "start_time": "2022-02-18T19:17:58.074Z"
   },
   {
    "duration": 37,
    "start_time": "2022-02-18T19:17:58.096Z"
   },
   {
    "duration": 17,
    "start_time": "2022-02-18T19:17:58.136Z"
   },
   {
    "duration": 19,
    "start_time": "2022-02-18T19:17:58.155Z"
   },
   {
    "duration": 517,
    "start_time": "2022-02-18T19:17:58.176Z"
   },
   {
    "duration": -2465,
    "start_time": "2022-02-18T19:18:01.160Z"
   },
   {
    "duration": -2467,
    "start_time": "2022-02-18T19:18:01.164Z"
   },
   {
    "duration": -2469,
    "start_time": "2022-02-18T19:18:01.167Z"
   },
   {
    "duration": -2470,
    "start_time": "2022-02-18T19:18:01.170Z"
   },
   {
    "duration": -2471,
    "start_time": "2022-02-18T19:18:01.173Z"
   },
   {
    "duration": -2473,
    "start_time": "2022-02-18T19:18:01.176Z"
   },
   {
    "duration": -2474,
    "start_time": "2022-02-18T19:18:01.179Z"
   },
   {
    "duration": -2475,
    "start_time": "2022-02-18T19:18:01.182Z"
   },
   {
    "duration": -2477,
    "start_time": "2022-02-18T19:18:01.185Z"
   },
   {
    "duration": -2477,
    "start_time": "2022-02-18T19:18:01.187Z"
   },
   {
    "duration": -2480,
    "start_time": "2022-02-18T19:18:01.191Z"
   },
   {
    "duration": -2487,
    "start_time": "2022-02-18T19:18:01.199Z"
   },
   {
    "duration": -2488,
    "start_time": "2022-02-18T19:18:01.203Z"
   },
   {
    "duration": -2487,
    "start_time": "2022-02-18T19:18:01.205Z"
   },
   {
    "duration": -2489,
    "start_time": "2022-02-18T19:18:01.209Z"
   },
   {
    "duration": -2490,
    "start_time": "2022-02-18T19:18:01.212Z"
   },
   {
    "duration": 330,
    "start_time": "2022-02-18T19:18:09.695Z"
   },
   {
    "duration": 8,
    "start_time": "2022-02-18T19:18:20.619Z"
   },
   {
    "duration": 43,
    "start_time": "2022-02-18T19:18:20.990Z"
   },
   {
    "duration": 342,
    "start_time": "2022-02-18T19:18:25.850Z"
   },
   {
    "duration": 331,
    "start_time": "2022-02-18T19:18:26.456Z"
   },
   {
    "duration": 8,
    "start_time": "2022-02-18T19:18:30.472Z"
   },
   {
    "duration": 16,
    "start_time": "2022-02-18T19:18:30.872Z"
   },
   {
    "duration": 15,
    "start_time": "2022-02-18T19:18:31.619Z"
   },
   {
    "duration": 13,
    "start_time": "2022-02-18T19:18:35.501Z"
   },
   {
    "duration": 13,
    "start_time": "2022-02-18T19:18:35.832Z"
   },
   {
    "duration": 15,
    "start_time": "2022-02-18T19:18:36.228Z"
   },
   {
    "duration": 7,
    "start_time": "2022-02-18T19:18:36.861Z"
   },
   {
    "duration": 41,
    "start_time": "2022-02-18T19:18:37.366Z"
   },
   {
    "duration": 8951,
    "start_time": "2022-02-18T19:18:39.547Z"
   },
   {
    "duration": -2461,
    "start_time": "2022-02-18T19:18:50.961Z"
   },
   {
    "duration": 346,
    "start_time": "2022-02-18T19:19:11.467Z"
   },
   {
    "duration": 109,
    "start_time": "2022-02-18T19:19:33.688Z"
   },
   {
    "duration": 7,
    "start_time": "2022-02-18T19:21:55.452Z"
   },
   {
    "duration": 4,
    "start_time": "2022-02-18T19:22:04.096Z"
   },
   {
    "duration": 31,
    "start_time": "2022-02-18T19:22:09.301Z"
   },
   {
    "duration": 25,
    "start_time": "2022-02-18T19:22:13.433Z"
   },
   {
    "duration": 30,
    "start_time": "2022-02-18T19:22:15.101Z"
   },
   {
    "duration": 10,
    "start_time": "2022-02-18T19:22:17.301Z"
   },
   {
    "duration": 119,
    "start_time": "2022-02-18T19:22:18.882Z"
   },
   {
    "duration": 6,
    "start_time": "2022-02-18T19:22:26.044Z"
   },
   {
    "duration": 11,
    "start_time": "2022-02-18T19:22:26.785Z"
   },
   {
    "duration": 17,
    "start_time": "2022-02-18T19:22:27.621Z"
   },
   {
    "duration": 15,
    "start_time": "2022-02-18T19:22:28.317Z"
   },
   {
    "duration": 18,
    "start_time": "2022-02-18T19:22:28.905Z"
   },
   {
    "duration": 14,
    "start_time": "2022-02-18T19:22:29.346Z"
   },
   {
    "duration": 14,
    "start_time": "2022-02-18T19:22:29.996Z"
   },
   {
    "duration": 7,
    "start_time": "2022-02-18T19:22:31.005Z"
   },
   {
    "duration": 41,
    "start_time": "2022-02-18T19:22:31.948Z"
   },
   {
    "duration": 9,
    "start_time": "2022-02-18T19:22:38.154Z"
   },
   {
    "duration": 56,
    "start_time": "2022-02-18T19:22:39.639Z"
   },
   {
    "duration": 10,
    "start_time": "2022-02-18T19:29:49.099Z"
   },
   {
    "duration": 51,
    "start_time": "2022-02-18T19:30:00.234Z"
   },
   {
    "duration": 43,
    "start_time": "2022-02-18T19:39:37.600Z"
   },
   {
    "duration": 17,
    "start_time": "2022-02-18T19:39:45.354Z"
   },
   {
    "duration": 8,
    "start_time": "2022-02-18T19:40:08.268Z"
   },
   {
    "duration": 10,
    "start_time": "2022-02-18T19:40:24.314Z"
   },
   {
    "duration": 71,
    "start_time": "2022-02-18T19:41:08.513Z"
   },
   {
    "duration": 16,
    "start_time": "2022-02-18T19:41:12.618Z"
   },
   {
    "duration": 9,
    "start_time": "2022-02-18T19:41:20.041Z"
   },
   {
    "duration": 11,
    "start_time": "2022-02-18T19:41:27.191Z"
   },
   {
    "duration": 7,
    "start_time": "2022-02-18T19:41:30.630Z"
   },
   {
    "duration": 9,
    "start_time": "2022-02-18T19:41:41.175Z"
   },
   {
    "duration": 9,
    "start_time": "2022-02-18T19:41:43.646Z"
   },
   {
    "duration": 25,
    "start_time": "2022-02-18T19:41:45.088Z"
   },
   {
    "duration": 8,
    "start_time": "2022-02-18T19:41:50.933Z"
   },
   {
    "duration": 37,
    "start_time": "2022-02-18T19:41:51.942Z"
   },
   {
    "duration": 6,
    "start_time": "2022-02-18T19:41:53.949Z"
   },
   {
    "duration": 9,
    "start_time": "2022-02-18T19:41:55.344Z"
   },
   {
    "duration": 10,
    "start_time": "2022-02-18T19:41:59.493Z"
   },
   {
    "duration": 22,
    "start_time": "2022-02-18T19:42:04.079Z"
   },
   {
    "duration": 10,
    "start_time": "2022-02-18T19:42:05.042Z"
   },
   {
    "duration": 8,
    "start_time": "2022-02-18T19:42:12.497Z"
   },
   {
    "duration": 7,
    "start_time": "2022-02-18T19:42:20.325Z"
   },
   {
    "duration": 5,
    "start_time": "2022-02-18T19:42:22.841Z"
   },
   {
    "duration": 8,
    "start_time": "2022-02-18T19:42:24.937Z"
   },
   {
    "duration": 38,
    "start_time": "2022-02-18T19:42:56.355Z"
   },
   {
    "duration": 17,
    "start_time": "2022-02-18T19:43:00.699Z"
   },
   {
    "duration": 7,
    "start_time": "2022-02-18T19:43:06.849Z"
   },
   {
    "duration": 7,
    "start_time": "2022-02-18T19:43:10.020Z"
   },
   {
    "duration": 25,
    "start_time": "2022-02-18T19:43:18.894Z"
   },
   {
    "duration": 20,
    "start_time": "2022-02-18T19:43:20.135Z"
   },
   {
    "duration": 23,
    "start_time": "2022-02-18T19:43:23.575Z"
   },
   {
    "duration": 9,
    "start_time": "2022-02-18T19:43:26.489Z"
   },
   {
    "duration": 51,
    "start_time": "2022-02-18T19:43:26.892Z"
   },
   {
    "duration": 22,
    "start_time": "2022-02-18T19:43:29.387Z"
   },
   {
    "duration": 6,
    "start_time": "2022-02-18T19:43:33.177Z"
   },
   {
    "duration": 21,
    "start_time": "2022-02-18T19:43:34.590Z"
   },
   {
    "duration": 9,
    "start_time": "2022-02-18T19:43:37.759Z"
   },
   {
    "duration": 7,
    "start_time": "2022-02-18T19:43:46.058Z"
   },
   {
    "duration": 5,
    "start_time": "2022-02-18T19:43:46.950Z"
   },
   {
    "duration": 8,
    "start_time": "2022-02-18T19:43:48.023Z"
   },
   {
    "duration": 8,
    "start_time": "2022-02-18T19:43:49.051Z"
   },
   {
    "duration": 5,
    "start_time": "2022-02-18T19:43:51.789Z"
   },
   {
    "duration": 17,
    "start_time": "2022-02-18T19:44:03.519Z"
   },
   {
    "duration": 11,
    "start_time": "2022-02-18T19:44:26.083Z"
   },
   {
    "duration": 11,
    "start_time": "2022-02-18T19:44:26.630Z"
   },
   {
    "duration": 8837,
    "start_time": "2022-02-18T19:46:30.689Z"
   },
   {
    "duration": -2451,
    "start_time": "2022-02-18T19:46:41.981Z"
   },
   {
    "duration": 43,
    "start_time": "2022-02-18T19:47:53.036Z"
   },
   {
    "duration": 17,
    "start_time": "2022-02-18T19:48:36.609Z"
   },
   {
    "duration": 8,
    "start_time": "2022-02-18T19:48:43.282Z"
   },
   {
    "duration": 6,
    "start_time": "2022-02-18T19:48:49.685Z"
   },
   {
    "duration": 20,
    "start_time": "2022-02-18T19:48:51.464Z"
   },
   {
    "duration": 19,
    "start_time": "2022-02-18T19:48:52.302Z"
   },
   {
    "duration": 23,
    "start_time": "2022-02-18T19:48:56.243Z"
   },
   {
    "duration": 10,
    "start_time": "2022-02-18T19:48:58.013Z"
   },
   {
    "duration": 45,
    "start_time": "2022-02-18T19:49:00.269Z"
   },
   {
    "duration": 21,
    "start_time": "2022-02-18T19:49:02.234Z"
   },
   {
    "duration": 6,
    "start_time": "2022-02-18T19:49:03.303Z"
   },
   {
    "duration": 22,
    "start_time": "2022-02-18T19:49:04.754Z"
   },
   {
    "duration": 7,
    "start_time": "2022-02-18T19:49:05.943Z"
   },
   {
    "duration": 7,
    "start_time": "2022-02-18T19:49:07.875Z"
   },
   {
    "duration": 5,
    "start_time": "2022-02-18T19:49:09.053Z"
   },
   {
    "duration": 7,
    "start_time": "2022-02-18T19:49:15.065Z"
   },
   {
    "duration": 11,
    "start_time": "2022-02-18T19:49:15.746Z"
   },
   {
    "duration": 4,
    "start_time": "2022-02-18T19:49:17.328Z"
   },
   {
    "duration": 15,
    "start_time": "2022-02-18T19:49:18.222Z"
   },
   {
    "duration": 11,
    "start_time": "2022-02-18T19:49:35.877Z"
   },
   {
    "duration": 11,
    "start_time": "2022-02-18T19:49:48.167Z"
   },
   {
    "duration": 11,
    "start_time": "2022-02-18T19:49:51.970Z"
   },
   {
    "duration": 11,
    "start_time": "2022-02-18T19:51:08.146Z"
   },
   {
    "duration": 8,
    "start_time": "2022-02-18T19:52:00.050Z"
   },
   {
    "duration": 8,
    "start_time": "2022-02-18T19:52:06.198Z"
   },
   {
    "duration": 4,
    "start_time": "2022-02-18T19:52:06.702Z"
   },
   {
    "duration": 29,
    "start_time": "2022-02-18T19:52:08.102Z"
   },
   {
    "duration": 26,
    "start_time": "2022-02-18T19:52:11.990Z"
   },
   {
    "duration": 895,
    "start_time": "2022-02-18T19:52:33.874Z"
   },
   {
    "duration": 18,
    "start_time": "2022-02-18T19:52:34.772Z"
   },
   {
    "duration": 10,
    "start_time": "2022-02-18T19:52:34.794Z"
   },
   {
    "duration": 9,
    "start_time": "2022-02-18T19:52:34.808Z"
   },
   {
    "duration": 47,
    "start_time": "2022-02-18T19:52:34.820Z"
   },
   {
    "duration": 11,
    "start_time": "2022-02-18T19:52:34.870Z"
   },
   {
    "duration": 8,
    "start_time": "2022-02-18T19:52:34.884Z"
   },
   {
    "duration": 22,
    "start_time": "2022-02-18T19:52:34.896Z"
   },
   {
    "duration": 8,
    "start_time": "2022-02-18T19:52:34.963Z"
   },
   {
    "duration": 40,
    "start_time": "2022-02-18T19:52:34.973Z"
   },
   {
    "duration": 9,
    "start_time": "2022-02-18T19:52:35.015Z"
   },
   {
    "duration": 37,
    "start_time": "2022-02-18T19:52:35.026Z"
   },
   {
    "duration": 13,
    "start_time": "2022-02-18T19:52:35.065Z"
   },
   {
    "duration": 23,
    "start_time": "2022-02-18T19:52:35.081Z"
   },
   {
    "duration": 10,
    "start_time": "2022-02-18T19:52:35.107Z"
   },
   {
    "duration": 47,
    "start_time": "2022-02-18T19:52:35.119Z"
   },
   {
    "duration": 7,
    "start_time": "2022-02-18T19:52:35.168Z"
   },
   {
    "duration": 5,
    "start_time": "2022-02-18T19:52:35.177Z"
   },
   {
    "duration": 9,
    "start_time": "2022-02-18T19:52:35.184Z"
   },
   {
    "duration": 83,
    "start_time": "2022-02-18T19:52:35.195Z"
   },
   {
    "duration": 18,
    "start_time": "2022-02-18T19:52:35.281Z"
   },
   {
    "duration": 7,
    "start_time": "2022-02-18T19:52:35.302Z"
   },
   {
    "duration": 7,
    "start_time": "2022-02-18T19:52:35.315Z"
   },
   {
    "duration": 55,
    "start_time": "2022-02-18T19:52:35.325Z"
   },
   {
    "duration": 21,
    "start_time": "2022-02-18T19:52:35.382Z"
   },
   {
    "duration": 25,
    "start_time": "2022-02-18T19:52:35.405Z"
   },
   {
    "duration": 9,
    "start_time": "2022-02-18T19:52:35.463Z"
   },
   {
    "duration": 58,
    "start_time": "2022-02-18T19:52:35.475Z"
   },
   {
    "duration": 45,
    "start_time": "2022-02-18T19:52:35.536Z"
   },
   {
    "duration": 5,
    "start_time": "2022-02-18T19:52:35.584Z"
   },
   {
    "duration": 26,
    "start_time": "2022-02-18T19:52:35.591Z"
   },
   {
    "duration": 10,
    "start_time": "2022-02-18T19:52:35.619Z"
   },
   {
    "duration": 35,
    "start_time": "2022-02-18T19:52:35.631Z"
   },
   {
    "duration": 15,
    "start_time": "2022-02-18T19:52:35.669Z"
   },
   {
    "duration": 19,
    "start_time": "2022-02-18T19:52:35.687Z"
   },
   {
    "duration": 10,
    "start_time": "2022-02-18T19:52:35.709Z"
   },
   {
    "duration": 5,
    "start_time": "2022-02-18T19:52:35.722Z"
   },
   {
    "duration": 45,
    "start_time": "2022-02-18T19:52:35.730Z"
   },
   {
    "duration": 11,
    "start_time": "2022-02-18T19:52:35.778Z"
   },
   {
    "duration": 11,
    "start_time": "2022-02-18T19:52:35.791Z"
   },
   {
    "duration": 10,
    "start_time": "2022-02-18T19:52:35.804Z"
   },
   {
    "duration": 50,
    "start_time": "2022-02-18T19:52:35.817Z"
   },
   {
    "duration": 8,
    "start_time": "2022-02-18T19:52:35.870Z"
   },
   {
    "duration": 7,
    "start_time": "2022-02-18T19:52:35.881Z"
   },
   {
    "duration": 12,
    "start_time": "2022-02-18T19:52:35.891Z"
   },
   {
    "duration": 66,
    "start_time": "2022-02-18T19:52:35.906Z"
   },
   {
    "duration": 24,
    "start_time": "2022-02-18T19:52:35.975Z"
   },
   {
    "duration": 28,
    "start_time": "2022-02-18T19:52:36.001Z"
   },
   {
    "duration": 32,
    "start_time": "2022-02-18T19:52:36.031Z"
   },
   {
    "duration": 127,
    "start_time": "2022-02-18T19:52:36.066Z"
   },
   {
    "duration": 8,
    "start_time": "2022-02-18T19:52:36.196Z"
   },
   {
    "duration": 8,
    "start_time": "2022-02-18T19:52:36.207Z"
   },
   {
    "duration": 55,
    "start_time": "2022-02-18T19:52:36.218Z"
   },
   {
    "duration": 15,
    "start_time": "2022-02-18T19:52:36.275Z"
   },
   {
    "duration": 11,
    "start_time": "2022-02-18T19:52:36.293Z"
   },
   {
    "duration": 12,
    "start_time": "2022-02-18T19:52:36.307Z"
   },
   {
    "duration": 13,
    "start_time": "2022-02-18T19:52:36.361Z"
   },
   {
    "duration": 7,
    "start_time": "2022-02-18T19:52:36.376Z"
   },
   {
    "duration": 42,
    "start_time": "2022-02-18T19:52:36.385Z"
   },
   {
    "duration": 37,
    "start_time": "2022-02-18T19:52:36.429Z"
   },
   {
    "duration": 61,
    "start_time": "2022-02-18T19:52:36.469Z"
   },
   {
    "duration": 33,
    "start_time": "2022-02-18T19:52:36.532Z"
   },
   {
    "duration": 50,
    "start_time": "2022-02-18T19:52:36.568Z"
   },
   {
    "duration": 8796,
    "start_time": "2022-02-18T19:52:36.620Z"
   },
   {
    "duration": 18,
    "start_time": "2022-02-18T19:53:02.242Z"
   },
   {
    "duration": 666,
    "start_time": "2022-02-28T12:59:49.686Z"
   },
   {
    "duration": 9,
    "start_time": "2022-02-28T12:59:50.354Z"
   },
   {
    "duration": 6,
    "start_time": "2022-02-28T12:59:50.365Z"
   },
   {
    "duration": 5,
    "start_time": "2022-02-28T12:59:50.372Z"
   },
   {
    "duration": 7,
    "start_time": "2022-02-28T12:59:50.379Z"
   },
   {
    "duration": 21,
    "start_time": "2022-02-28T12:59:50.387Z"
   },
   {
    "duration": 5,
    "start_time": "2022-02-28T12:59:50.409Z"
   },
   {
    "duration": 13,
    "start_time": "2022-02-28T12:59:50.416Z"
   },
   {
    "duration": 6,
    "start_time": "2022-02-28T12:59:50.430Z"
   },
   {
    "duration": 20,
    "start_time": "2022-02-28T12:59:50.437Z"
   },
   {
    "duration": 3,
    "start_time": "2022-02-28T12:59:50.459Z"
   },
   {
    "duration": 43,
    "start_time": "2022-02-28T12:59:50.463Z"
   },
   {
    "duration": 5,
    "start_time": "2022-02-28T12:59:50.508Z"
   },
   {
    "duration": 13,
    "start_time": "2022-02-28T12:59:50.515Z"
   },
   {
    "duration": 11,
    "start_time": "2022-02-28T12:59:50.529Z"
   },
   {
    "duration": 6,
    "start_time": "2022-02-28T12:59:50.542Z"
   },
   {
    "duration": 5,
    "start_time": "2022-02-28T12:59:50.550Z"
   },
   {
    "duration": 4,
    "start_time": "2022-02-28T12:59:50.556Z"
   },
   {
    "duration": 14,
    "start_time": "2022-02-28T12:59:50.562Z"
   },
   {
    "duration": 59,
    "start_time": "2022-02-28T12:59:50.578Z"
   },
   {
    "duration": 14,
    "start_time": "2022-02-28T12:59:50.639Z"
   },
   {
    "duration": 5,
    "start_time": "2022-02-28T12:59:50.655Z"
   },
   {
    "duration": 4,
    "start_time": "2022-02-28T12:59:50.666Z"
   },
   {
    "duration": 47,
    "start_time": "2022-02-28T12:59:50.673Z"
   },
   {
    "duration": 19,
    "start_time": "2022-02-28T12:59:50.722Z"
   },
   {
    "duration": 25,
    "start_time": "2022-02-28T12:59:50.742Z"
   },
   {
    "duration": 13,
    "start_time": "2022-02-28T12:59:50.768Z"
   },
   {
    "duration": 36,
    "start_time": "2022-02-28T12:59:50.782Z"
   },
   {
    "duration": 14,
    "start_time": "2022-02-28T12:59:50.819Z"
   },
   {
    "duration": 6,
    "start_time": "2022-02-28T12:59:50.835Z"
   },
   {
    "duration": 22,
    "start_time": "2022-02-28T12:59:50.842Z"
   },
   {
    "duration": 10,
    "start_time": "2022-02-28T12:59:50.866Z"
   },
   {
    "duration": 9,
    "start_time": "2022-02-28T12:59:50.878Z"
   },
   {
    "duration": 3,
    "start_time": "2022-02-28T12:59:50.889Z"
   },
   {
    "duration": 5,
    "start_time": "2022-02-28T12:59:50.905Z"
   },
   {
    "duration": 12,
    "start_time": "2022-02-28T12:59:50.912Z"
   },
   {
    "duration": 7,
    "start_time": "2022-02-28T12:59:50.925Z"
   },
   {
    "duration": 23,
    "start_time": "2022-02-28T12:59:50.933Z"
   },
   {
    "duration": 7,
    "start_time": "2022-02-28T12:59:50.958Z"
   },
   {
    "duration": 6,
    "start_time": "2022-02-28T12:59:50.967Z"
   },
   {
    "duration": 9,
    "start_time": "2022-02-28T12:59:50.974Z"
   },
   {
    "duration": 24,
    "start_time": "2022-02-28T12:59:50.985Z"
   },
   {
    "duration": 6,
    "start_time": "2022-02-28T12:59:51.010Z"
   },
   {
    "duration": 4,
    "start_time": "2022-02-28T12:59:51.018Z"
   },
   {
    "duration": 7,
    "start_time": "2022-02-28T12:59:51.024Z"
   },
   {
    "duration": 18,
    "start_time": "2022-02-28T12:59:51.032Z"
   },
   {
    "duration": 15,
    "start_time": "2022-02-28T12:59:51.052Z"
   },
   {
    "duration": 42,
    "start_time": "2022-02-28T12:59:51.068Z"
   },
   {
    "duration": 5,
    "start_time": "2022-02-28T12:59:51.111Z"
   },
   {
    "duration": 89,
    "start_time": "2022-02-28T12:59:51.117Z"
   },
   {
    "duration": 5,
    "start_time": "2022-02-28T12:59:51.208Z"
   },
   {
    "duration": 6,
    "start_time": "2022-02-28T12:59:51.215Z"
   },
   {
    "duration": 17,
    "start_time": "2022-02-28T12:59:51.222Z"
   },
   {
    "duration": 9,
    "start_time": "2022-02-28T12:59:51.240Z"
   },
   {
    "duration": 8,
    "start_time": "2022-02-28T12:59:51.251Z"
   },
   {
    "duration": 7,
    "start_time": "2022-02-28T12:59:51.261Z"
   },
   {
    "duration": 43,
    "start_time": "2022-02-28T12:59:51.270Z"
   },
   {
    "duration": 4,
    "start_time": "2022-02-28T12:59:51.315Z"
   },
   {
    "duration": 30,
    "start_time": "2022-02-28T12:59:51.321Z"
   },
   {
    "duration": 5,
    "start_time": "2022-02-28T12:59:51.352Z"
   },
   {
    "duration": 60,
    "start_time": "2022-02-28T12:59:51.359Z"
   },
   {
    "duration": 5,
    "start_time": "2022-02-28T12:59:51.421Z"
   },
   {
    "duration": 33,
    "start_time": "2022-02-28T12:59:51.428Z"
   },
   {
    "duration": 18,
    "start_time": "2022-02-28T13:02:47.490Z"
   },
   {
    "duration": 10,
    "start_time": "2022-02-28T13:04:38.634Z"
   },
   {
    "duration": 11,
    "start_time": "2022-02-28T13:04:43.353Z"
   },
   {
    "duration": 11,
    "start_time": "2022-02-28T13:04:48.534Z"
   },
   {
    "duration": 8,
    "start_time": "2022-02-28T13:07:03.511Z"
   },
   {
    "duration": 324,
    "start_time": "2022-02-28T16:29:51.251Z"
   },
   {
    "duration": 735,
    "start_time": "2022-02-28T16:30:04.764Z"
   },
   {
    "duration": 13,
    "start_time": "2022-02-28T16:30:05.501Z"
   },
   {
    "duration": 13,
    "start_time": "2022-02-28T16:30:05.516Z"
   },
   {
    "duration": 9,
    "start_time": "2022-02-28T16:30:05.532Z"
   },
   {
    "duration": 9,
    "start_time": "2022-02-28T16:30:05.543Z"
   },
   {
    "duration": 11,
    "start_time": "2022-02-28T16:30:05.554Z"
   },
   {
    "duration": 35,
    "start_time": "2022-02-28T16:30:05.567Z"
   },
   {
    "duration": 17,
    "start_time": "2022-02-28T16:30:05.604Z"
   },
   {
    "duration": 15,
    "start_time": "2022-02-28T16:30:05.623Z"
   },
   {
    "duration": 25,
    "start_time": "2022-02-28T16:30:05.641Z"
   },
   {
    "duration": 33,
    "start_time": "2022-02-28T16:30:05.668Z"
   },
   {
    "duration": 8,
    "start_time": "2022-02-28T16:30:05.703Z"
   },
   {
    "duration": 16,
    "start_time": "2022-02-28T16:30:05.714Z"
   },
   {
    "duration": 22,
    "start_time": "2022-02-28T16:30:05.733Z"
   },
   {
    "duration": 11,
    "start_time": "2022-02-28T16:30:05.758Z"
   },
   {
    "duration": 14,
    "start_time": "2022-02-28T16:30:05.771Z"
   },
   {
    "duration": 7,
    "start_time": "2022-02-28T16:30:05.802Z"
   },
   {
    "duration": 24,
    "start_time": "2022-02-28T16:30:05.811Z"
   },
   {
    "duration": 16,
    "start_time": "2022-02-28T16:30:05.837Z"
   },
   {
    "duration": 33,
    "start_time": "2022-02-28T16:30:05.855Z"
   },
   {
    "duration": 14,
    "start_time": "2022-02-28T16:30:05.891Z"
   },
   {
    "duration": 7,
    "start_time": "2022-02-28T16:30:05.908Z"
   },
   {
    "duration": 14,
    "start_time": "2022-02-28T16:30:05.921Z"
   },
   {
    "duration": 18,
    "start_time": "2022-02-28T16:30:05.939Z"
   },
   {
    "duration": 45,
    "start_time": "2022-02-28T16:30:05.959Z"
   },
   {
    "duration": 27,
    "start_time": "2022-02-28T16:30:06.006Z"
   },
   {
    "duration": 6,
    "start_time": "2022-02-28T16:30:06.035Z"
   },
   {
    "duration": 42,
    "start_time": "2022-02-28T16:30:06.042Z"
   },
   {
    "duration": 25,
    "start_time": "2022-02-28T16:30:06.085Z"
   },
   {
    "duration": 7,
    "start_time": "2022-02-28T16:30:06.112Z"
   },
   {
    "duration": 19,
    "start_time": "2022-02-28T16:30:06.121Z"
   },
   {
    "duration": 13,
    "start_time": "2022-02-28T16:30:06.142Z"
   },
   {
    "duration": 23,
    "start_time": "2022-02-28T16:30:06.157Z"
   },
   {
    "duration": 5,
    "start_time": "2022-02-28T16:30:06.201Z"
   },
   {
    "duration": 14,
    "start_time": "2022-02-28T16:30:06.208Z"
   },
   {
    "duration": 10,
    "start_time": "2022-02-28T16:30:06.224Z"
   },
   {
    "duration": 13,
    "start_time": "2022-02-28T16:30:06.236Z"
   },
   {
    "duration": 8,
    "start_time": "2022-02-28T16:30:06.251Z"
   },
   {
    "duration": 17,
    "start_time": "2022-02-28T16:30:06.261Z"
   },
   {
    "duration": 24,
    "start_time": "2022-02-28T16:30:06.281Z"
   },
   {
    "duration": 13,
    "start_time": "2022-02-28T16:30:06.306Z"
   },
   {
    "duration": 13,
    "start_time": "2022-02-28T16:30:06.321Z"
   },
   {
    "duration": 13,
    "start_time": "2022-02-28T16:30:06.336Z"
   },
   {
    "duration": 7,
    "start_time": "2022-02-28T16:30:06.351Z"
   },
   {
    "duration": 8,
    "start_time": "2022-02-28T16:30:06.360Z"
   },
   {
    "duration": 7,
    "start_time": "2022-02-28T16:30:06.370Z"
   },
   {
    "duration": 21,
    "start_time": "2022-02-28T16:30:06.402Z"
   },
   {
    "duration": 19,
    "start_time": "2022-02-28T16:30:06.424Z"
   },
   {
    "duration": 22,
    "start_time": "2022-02-28T16:30:06.445Z"
   },
   {
    "duration": 36,
    "start_time": "2022-02-28T16:30:06.468Z"
   },
   {
    "duration": 95,
    "start_time": "2022-02-28T16:30:06.506Z"
   },
   {
    "duration": 13,
    "start_time": "2022-02-28T16:30:06.603Z"
   },
   {
    "duration": 14,
    "start_time": "2022-02-28T16:30:06.618Z"
   },
   {
    "duration": 14,
    "start_time": "2022-02-28T16:30:06.634Z"
   },
   {
    "duration": 4,
    "start_time": "2022-02-28T16:30:06.650Z"
   },
   {
    "duration": 45,
    "start_time": "2022-02-28T16:30:06.656Z"
   },
   {
    "duration": 25,
    "start_time": "2022-02-28T16:30:06.704Z"
   },
   {
    "duration": 11,
    "start_time": "2022-02-28T16:30:06.731Z"
   },
   {
    "duration": 11,
    "start_time": "2022-02-28T16:30:06.744Z"
   },
   {
    "duration": 10,
    "start_time": "2022-02-28T16:30:06.757Z"
   },
   {
    "duration": 36,
    "start_time": "2022-02-28T16:30:06.769Z"
   },
   {
    "duration": 5,
    "start_time": "2022-02-28T16:30:06.807Z"
   },
   {
    "duration": 42,
    "start_time": "2022-02-28T16:30:06.813Z"
   },
   {
    "duration": 6,
    "start_time": "2022-02-28T16:30:06.857Z"
   },
   {
    "duration": 58,
    "start_time": "2022-02-28T16:30:06.865Z"
   },
   {
    "duration": 8,
    "start_time": "2022-02-28T16:30:06.925Z"
   },
   {
    "duration": 48,
    "start_time": "2022-02-28T16:30:06.934Z"
   },
   {
    "duration": 23,
    "start_time": "2022-02-28T16:31:08.954Z"
   },
   {
    "duration": 15,
    "start_time": "2022-02-28T16:31:33.715Z"
   },
   {
    "duration": 27,
    "start_time": "2022-02-28T16:31:49.692Z"
   },
   {
    "duration": 24,
    "start_time": "2022-02-28T16:35:12.625Z"
   },
   {
    "duration": 23,
    "start_time": "2022-02-28T16:35:40.235Z"
   },
   {
    "duration": 25,
    "start_time": "2022-02-28T16:36:56.731Z"
   },
   {
    "duration": 42,
    "start_time": "2022-02-28T16:41:20.209Z"
   },
   {
    "duration": 250,
    "start_time": "2022-02-28T16:42:42.694Z"
   },
   {
    "duration": 42,
    "start_time": "2022-02-28T16:42:51.763Z"
   },
   {
    "duration": 167,
    "start_time": "2022-02-28T16:43:04.103Z"
   },
   {
    "duration": 24,
    "start_time": "2022-02-28T16:43:09.822Z"
   },
   {
    "duration": 45,
    "start_time": "2022-02-28T16:43:10.912Z"
   },
   {
    "duration": 23,
    "start_time": "2022-02-28T16:47:26.824Z"
   },
   {
    "duration": 57,
    "start_time": "2022-02-28T16:47:27.803Z"
   },
   {
    "duration": 182,
    "start_time": "2022-02-28T16:47:54.815Z"
   },
   {
    "duration": 24,
    "start_time": "2022-02-28T16:48:04.452Z"
   },
   {
    "duration": 22,
    "start_time": "2022-02-28T16:48:16.333Z"
   },
   {
    "duration": 4501,
    "start_time": "2022-02-28T16:48:35.932Z"
   },
   {
    "duration": 4291,
    "start_time": "2022-02-28T16:48:44.683Z"
   },
   {
    "duration": 4231,
    "start_time": "2022-02-28T16:49:17.790Z"
   },
   {
    "duration": 4318,
    "start_time": "2022-02-28T16:49:36.362Z"
   },
   {
    "duration": 20,
    "start_time": "2022-02-28T16:50:52.315Z"
   },
   {
    "duration": 169,
    "start_time": "2022-02-28T16:52:00.152Z"
   },
   {
    "duration": 4,
    "start_time": "2022-02-28T16:52:44.902Z"
   },
   {
    "duration": 7,
    "start_time": "2022-02-28T16:52:55.520Z"
   },
   {
    "duration": 22,
    "start_time": "2022-02-28T16:53:23.410Z"
   },
   {
    "duration": 8,
    "start_time": "2022-02-28T16:54:13.333Z"
   },
   {
    "duration": 29,
    "start_time": "2022-02-28T16:54:59.402Z"
   },
   {
    "duration": 21,
    "start_time": "2022-02-28T16:56:28.761Z"
   },
   {
    "duration": 21,
    "start_time": "2022-02-28T16:56:36.762Z"
   },
   {
    "duration": 23,
    "start_time": "2022-02-28T16:57:23.302Z"
   },
   {
    "duration": 51,
    "start_time": "2022-02-28T16:58:25.753Z"
   },
   {
    "duration": 71,
    "start_time": "2022-02-28T17:00:20.263Z"
   },
   {
    "duration": 71,
    "start_time": "2022-02-28T17:21:28.044Z"
   },
   {
    "duration": 20,
    "start_time": "2022-02-28T17:21:45.124Z"
   },
   {
    "duration": 75,
    "start_time": "2022-02-28T17:21:46.764Z"
   },
   {
    "duration": 61,
    "start_time": "2022-02-28T17:24:29.524Z"
   },
   {
    "duration": 5,
    "start_time": "2022-02-28T17:41:49.392Z"
   },
   {
    "duration": 255,
    "start_time": "2022-02-28T17:42:06.480Z"
   },
   {
    "duration": 6,
    "start_time": "2022-02-28T17:42:22.721Z"
   },
   {
    "duration": 14,
    "start_time": "2022-02-28T17:42:44.961Z"
   },
   {
    "duration": 14,
    "start_time": "2022-02-28T17:43:01.481Z"
   },
   {
    "duration": 255,
    "start_time": "2022-02-28T17:43:52.809Z"
   },
   {
    "duration": 29,
    "start_time": "2022-02-28T17:44:20.289Z"
   },
   {
    "duration": 29,
    "start_time": "2022-02-28T17:45:19.720Z"
   },
   {
    "duration": 913,
    "start_time": "2022-03-01T19:26:56.145Z"
   },
   {
    "duration": 14,
    "start_time": "2022-03-01T19:26:57.061Z"
   },
   {
    "duration": 9,
    "start_time": "2022-03-01T19:26:57.078Z"
   },
   {
    "duration": 8,
    "start_time": "2022-03-01T19:26:57.090Z"
   },
   {
    "duration": 5,
    "start_time": "2022-03-01T19:26:57.101Z"
   },
   {
    "duration": 10,
    "start_time": "2022-03-01T19:26:57.110Z"
   },
   {
    "duration": 60,
    "start_time": "2022-03-01T19:26:57.122Z"
   },
   {
    "duration": 22,
    "start_time": "2022-03-01T19:26:57.186Z"
   },
   {
    "duration": 9,
    "start_time": "2022-03-01T19:26:57.212Z"
   },
   {
    "duration": 72,
    "start_time": "2022-03-01T19:26:57.224Z"
   },
   {
    "duration": 6,
    "start_time": "2022-03-01T19:26:57.298Z"
   },
   {
    "duration": 9,
    "start_time": "2022-03-01T19:26:57.307Z"
   },
   {
    "duration": 8,
    "start_time": "2022-03-01T19:26:57.318Z"
   },
   {
    "duration": 60,
    "start_time": "2022-03-01T19:26:57.328Z"
   },
   {
    "duration": 9,
    "start_time": "2022-03-01T19:26:57.391Z"
   },
   {
    "duration": 7,
    "start_time": "2022-03-01T19:26:57.403Z"
   },
   {
    "duration": 8,
    "start_time": "2022-03-01T19:26:57.413Z"
   },
   {
    "duration": 6,
    "start_time": "2022-03-01T19:26:57.423Z"
   },
   {
    "duration": 7,
    "start_time": "2022-03-01T19:26:57.473Z"
   },
   {
    "duration": 39,
    "start_time": "2022-03-01T19:26:57.483Z"
   },
   {
    "duration": 49,
    "start_time": "2022-03-01T19:26:57.526Z"
   },
   {
    "duration": 9,
    "start_time": "2022-03-01T19:26:57.578Z"
   },
   {
    "duration": 6,
    "start_time": "2022-03-01T19:26:57.595Z"
   },
   {
    "duration": 21,
    "start_time": "2022-03-01T19:26:57.606Z"
   },
   {
    "duration": 56,
    "start_time": "2022-03-01T19:26:57.630Z"
   },
   {
    "duration": 26,
    "start_time": "2022-03-01T19:26:57.689Z"
   },
   {
    "duration": 8,
    "start_time": "2022-03-01T19:26:57.718Z"
   },
   {
    "duration": 90,
    "start_time": "2022-03-01T19:26:57.729Z"
   },
   {
    "duration": 21,
    "start_time": "2022-03-01T19:26:57.821Z"
   },
   {
    "duration": 6,
    "start_time": "2022-03-01T19:26:57.844Z"
   },
   {
    "duration": 20,
    "start_time": "2022-03-01T19:26:57.873Z"
   },
   {
    "duration": 6,
    "start_time": "2022-03-01T19:26:57.896Z"
   },
   {
    "duration": 28,
    "start_time": "2022-03-01T19:26:57.905Z"
   },
   {
    "duration": 151,
    "start_time": "2022-03-01T19:26:57.936Z"
   },
   {
    "duration": 32,
    "start_time": "2022-03-01T19:26:58.090Z"
   },
   {
    "duration": 8,
    "start_time": "2022-03-01T19:26:58.125Z"
   },
   {
    "duration": 6,
    "start_time": "2022-03-01T19:26:58.136Z"
   },
   {
    "duration": 10,
    "start_time": "2022-03-01T19:26:58.174Z"
   },
   {
    "duration": 12,
    "start_time": "2022-03-01T19:26:58.187Z"
   },
   {
    "duration": 6,
    "start_time": "2022-03-01T19:26:58.202Z"
   },
   {
    "duration": 26,
    "start_time": "2022-03-01T19:26:58.210Z"
   },
   {
    "duration": 43,
    "start_time": "2022-03-01T19:26:58.238Z"
   },
   {
    "duration": 9,
    "start_time": "2022-03-01T19:26:58.283Z"
   },
   {
    "duration": 11,
    "start_time": "2022-03-01T19:26:58.294Z"
   },
   {
    "duration": 11,
    "start_time": "2022-03-01T19:26:58.307Z"
   },
   {
    "duration": 58,
    "start_time": "2022-03-01T19:26:58.320Z"
   },
   {
    "duration": 9,
    "start_time": "2022-03-01T19:26:58.380Z"
   },
   {
    "duration": 5,
    "start_time": "2022-03-01T19:26:58.392Z"
   },
   {
    "duration": 29,
    "start_time": "2022-03-01T19:26:58.400Z"
   },
   {
    "duration": 61,
    "start_time": "2022-03-01T19:26:58.432Z"
   },
   {
    "duration": 27,
    "start_time": "2022-03-01T19:26:58.495Z"
   },
   {
    "duration": 12,
    "start_time": "2022-03-01T19:26:58.524Z"
   },
   {
    "duration": 149,
    "start_time": "2022-03-01T19:26:58.538Z"
   },
   {
    "duration": 17,
    "start_time": "2022-03-01T19:26:58.689Z"
   },
   {
    "duration": 18,
    "start_time": "2022-03-01T19:26:58.708Z"
   },
   {
    "duration": 47,
    "start_time": "2022-03-01T19:26:58.729Z"
   },
   {
    "duration": 8,
    "start_time": "2022-03-01T19:26:58.779Z"
   },
   {
    "duration": 12,
    "start_time": "2022-03-01T19:26:58.790Z"
   },
   {
    "duration": 16,
    "start_time": "2022-03-01T19:26:58.804Z"
   },
   {
    "duration": 57,
    "start_time": "2022-03-01T19:26:58.822Z"
   },
   {
    "duration": 15,
    "start_time": "2022-03-01T19:26:58.881Z"
   },
   {
    "duration": 12,
    "start_time": "2022-03-01T19:26:58.898Z"
   },
   {
    "duration": 12,
    "start_time": "2022-03-01T19:26:58.914Z"
   },
   {
    "duration": 47,
    "start_time": "2022-03-01T19:26:58.929Z"
   },
   {
    "duration": 52,
    "start_time": "2022-03-01T19:26:58.978Z"
   },
   {
    "duration": 9,
    "start_time": "2022-03-01T19:26:59.032Z"
   },
   {
    "duration": 79,
    "start_time": "2022-03-01T19:26:59.043Z"
   },
   {
    "duration": 9,
    "start_time": "2022-03-01T19:26:59.130Z"
   },
   {
    "duration": 72,
    "start_time": "2022-03-01T19:26:59.141Z"
   },
   {
    "duration": 28,
    "start_time": "2022-03-01T19:28:24.751Z"
   },
   {
    "duration": 28,
    "start_time": "2022-03-01T19:28:31.457Z"
   },
   {
    "duration": 95,
    "start_time": "2022-03-01T19:28:32.137Z"
   },
   {
    "duration": 71,
    "start_time": "2022-03-01T19:28:54.209Z"
   },
   {
    "duration": 15,
    "start_time": "2022-03-01T19:28:56.480Z"
   },
   {
    "duration": 13,
    "start_time": "2022-03-01T19:28:57.964Z"
   },
   {
    "duration": 9,
    "start_time": "2022-03-01T19:28:58.633Z"
   },
   {
    "duration": 6,
    "start_time": "2022-03-01T19:28:59.703Z"
   },
   {
    "duration": 9,
    "start_time": "2022-03-01T19:29:00.678Z"
   },
   {
    "duration": 8,
    "start_time": "2022-03-01T19:29:01.706Z"
   },
   {
    "duration": 21,
    "start_time": "2022-03-01T19:29:02.788Z"
   },
   {
    "duration": 8,
    "start_time": "2022-03-01T19:29:05.310Z"
   },
   {
    "duration": 38,
    "start_time": "2022-03-01T19:29:06.099Z"
   },
   {
    "duration": 7,
    "start_time": "2022-03-01T19:29:07.224Z"
   },
   {
    "duration": 9,
    "start_time": "2022-03-01T19:29:08.975Z"
   },
   {
    "duration": 10,
    "start_time": "2022-03-01T19:29:11.147Z"
   },
   {
    "duration": 21,
    "start_time": "2022-03-01T19:29:12.506Z"
   },
   {
    "duration": 10,
    "start_time": "2022-03-01T19:29:13.113Z"
   },
   {
    "duration": 9,
    "start_time": "2022-03-01T19:29:14.859Z"
   },
   {
    "duration": 7,
    "start_time": "2022-03-01T19:29:16.661Z"
   },
   {
    "duration": 5,
    "start_time": "2022-03-01T19:29:19.291Z"
   },
   {
    "duration": 7,
    "start_time": "2022-03-01T19:29:19.853Z"
   },
   {
    "duration": 38,
    "start_time": "2022-03-01T19:29:21.190Z"
   },
   {
    "duration": 17,
    "start_time": "2022-03-01T19:29:22.499Z"
   },
   {
    "duration": 8,
    "start_time": "2022-03-01T19:29:23.776Z"
   },
   {
    "duration": 6,
    "start_time": "2022-03-01T19:29:24.753Z"
   },
   {
    "duration": 21,
    "start_time": "2022-03-01T19:29:26.702Z"
   },
   {
    "duration": 20,
    "start_time": "2022-03-01T19:29:27.647Z"
   },
   {
    "duration": 24,
    "start_time": "2022-03-01T19:29:29.913Z"
   },
   {
    "duration": 7,
    "start_time": "2022-03-01T19:29:30.957Z"
   },
   {
    "duration": 51,
    "start_time": "2022-03-01T19:29:32.504Z"
   },
   {
    "duration": 21,
    "start_time": "2022-03-01T19:29:35.599Z"
   },
   {
    "duration": 5,
    "start_time": "2022-03-01T19:29:37.274Z"
   },
   {
    "duration": 21,
    "start_time": "2022-03-01T19:29:38.391Z"
   },
   {
    "duration": 7,
    "start_time": "2022-03-01T19:29:39.535Z"
   },
   {
    "duration": 28,
    "start_time": "2022-03-01T19:29:40.993Z"
   },
   {
    "duration": 79,
    "start_time": "2022-03-01T19:29:42.745Z"
   },
   {
    "duration": 73,
    "start_time": "2022-03-01T19:29:49.437Z"
   },
   {
    "duration": 86,
    "start_time": "2022-03-01T19:31:55.039Z"
   },
   {
    "duration": 384,
    "start_time": "2022-03-01T19:40:30.876Z"
   },
   {
    "duration": 6,
    "start_time": "2022-03-01T19:41:01.670Z"
   },
   {
    "duration": 73,
    "start_time": "2022-03-01T19:41:19.214Z"
   },
   {
    "duration": 15,
    "start_time": "2022-03-01T19:41:20.526Z"
   },
   {
    "duration": 8,
    "start_time": "2022-03-01T19:41:21.594Z"
   },
   {
    "duration": 9,
    "start_time": "2022-03-01T19:41:22.143Z"
   },
   {
    "duration": 6,
    "start_time": "2022-03-01T19:41:23.120Z"
   },
   {
    "duration": 8,
    "start_time": "2022-03-01T19:41:24.059Z"
   },
   {
    "duration": 10,
    "start_time": "2022-03-01T19:41:24.715Z"
   },
   {
    "duration": 21,
    "start_time": "2022-03-01T19:41:25.241Z"
   },
   {
    "duration": 7,
    "start_time": "2022-03-01T19:41:26.724Z"
   },
   {
    "duration": 36,
    "start_time": "2022-03-01T19:41:27.371Z"
   },
   {
    "duration": 7,
    "start_time": "2022-03-01T19:41:27.928Z"
   },
   {
    "duration": 8,
    "start_time": "2022-03-01T19:41:28.829Z"
   },
   {
    "duration": 9,
    "start_time": "2022-03-01T19:41:30.318Z"
   },
   {
    "duration": 29,
    "start_time": "2022-03-01T19:41:31.061Z"
   },
   {
    "duration": 10,
    "start_time": "2022-03-01T19:41:31.444Z"
   },
   {
    "duration": 8,
    "start_time": "2022-03-01T19:41:32.161Z"
   },
   {
    "duration": 6,
    "start_time": "2022-03-01T19:41:33.194Z"
   },
   {
    "duration": 5,
    "start_time": "2022-03-01T19:41:34.266Z"
   },
   {
    "duration": 7,
    "start_time": "2022-03-01T19:41:34.598Z"
   },
   {
    "duration": 36,
    "start_time": "2022-03-01T19:41:35.129Z"
   },
   {
    "duration": 17,
    "start_time": "2022-03-01T19:41:35.542Z"
   },
   {
    "duration": 7,
    "start_time": "2022-03-01T19:41:36.380Z"
   },
   {
    "duration": 6,
    "start_time": "2022-03-01T19:41:37.669Z"
   },
   {
    "duration": 20,
    "start_time": "2022-03-01T19:41:39.249Z"
   },
   {
    "duration": 19,
    "start_time": "2022-03-01T19:41:39.889Z"
   },
   {
    "duration": 23,
    "start_time": "2022-03-01T19:41:41.680Z"
   },
   {
    "duration": 8,
    "start_time": "2022-03-01T19:41:42.326Z"
   },
   {
    "duration": 56,
    "start_time": "2022-03-01T19:41:43.268Z"
   },
   {
    "duration": 23,
    "start_time": "2022-03-01T19:41:44.807Z"
   },
   {
    "duration": 6,
    "start_time": "2022-03-01T19:41:45.621Z"
   },
   {
    "duration": 22,
    "start_time": "2022-03-01T19:41:46.495Z"
   },
   {
    "duration": 7,
    "start_time": "2022-03-01T19:41:47.203Z"
   },
   {
    "duration": 27,
    "start_time": "2022-03-01T19:41:50.978Z"
   },
   {
    "duration": 59,
    "start_time": "2022-03-01T19:41:52.153Z"
   },
   {
    "duration": 58,
    "start_time": "2022-03-01T19:42:28.290Z"
   },
   {
    "duration": 7,
    "start_time": "2022-03-01T19:42:31.470Z"
   },
   {
    "duration": 4,
    "start_time": "2022-03-01T19:42:32.358Z"
   },
   {
    "duration": 8,
    "start_time": "2022-03-01T19:42:33.450Z"
   },
   {
    "duration": 9,
    "start_time": "2022-03-01T19:42:39.288Z"
   },
   {
    "duration": 6,
    "start_time": "2022-03-01T19:42:40.291Z"
   },
   {
    "duration": 15,
    "start_time": "2022-03-01T19:42:40.915Z"
   },
   {
    "duration": 8,
    "start_time": "2022-03-01T19:42:45.219Z"
   },
   {
    "duration": 32,
    "start_time": "2022-03-01T19:42:45.230Z"
   },
   {
    "duration": 36,
    "start_time": "2022-03-01T19:42:45.264Z"
   },
   {
    "duration": 10,
    "start_time": "2022-03-01T19:42:46.270Z"
   },
   {
    "duration": 7,
    "start_time": "2022-03-01T19:42:46.893Z"
   },
   {
    "duration": 6,
    "start_time": "2022-03-01T19:42:49.328Z"
   },
   {
    "duration": 7,
    "start_time": "2022-03-01T19:42:50.907Z"
   },
   {
    "duration": 28,
    "start_time": "2022-03-01T19:43:23.156Z"
   },
   {
    "duration": 21,
    "start_time": "2022-03-01T19:43:26.451Z"
   },
   {
    "duration": 25,
    "start_time": "2022-03-01T19:43:30.454Z"
   },
   {
    "duration": 9,
    "start_time": "2022-03-01T19:43:32.683Z"
   },
   {
    "duration": 105,
    "start_time": "2022-03-01T19:43:33.686Z"
   },
   {
    "duration": 18,
    "start_time": "2022-03-01T19:43:56.242Z"
   },
   {
    "duration": 19,
    "start_time": "2022-03-01T19:43:57.301Z"
   },
   {
    "duration": 20,
    "start_time": "2022-03-01T19:44:08.168Z"
   },
   {
    "duration": 91,
    "start_time": "2022-03-01T20:05:37.867Z"
   },
   {
    "duration": 84,
    "start_time": "2022-03-01T20:05:45.705Z"
   },
   {
    "duration": 643,
    "start_time": "2022-03-02T17:22:59.665Z"
   },
   {
    "duration": 9,
    "start_time": "2022-03-02T17:23:00.310Z"
   },
   {
    "duration": 6,
    "start_time": "2022-03-02T17:23:00.321Z"
   },
   {
    "duration": 7,
    "start_time": "2022-03-02T17:23:00.328Z"
   },
   {
    "duration": 6,
    "start_time": "2022-03-02T17:23:00.336Z"
   },
   {
    "duration": 10,
    "start_time": "2022-03-02T17:23:00.343Z"
   },
   {
    "duration": 6,
    "start_time": "2022-03-02T17:23:00.354Z"
   },
   {
    "duration": 40,
    "start_time": "2022-03-02T17:23:00.362Z"
   },
   {
    "duration": 5,
    "start_time": "2022-03-02T17:23:00.404Z"
   },
   {
    "duration": 22,
    "start_time": "2022-03-02T17:23:00.411Z"
   },
   {
    "duration": 6,
    "start_time": "2022-03-02T17:23:00.434Z"
   },
   {
    "duration": 11,
    "start_time": "2022-03-02T17:23:00.441Z"
   },
   {
    "duration": 8,
    "start_time": "2022-03-02T17:23:00.453Z"
   },
   {
    "duration": 18,
    "start_time": "2022-03-02T17:23:00.462Z"
   },
   {
    "duration": 24,
    "start_time": "2022-03-02T17:23:00.482Z"
   },
   {
    "duration": 19,
    "start_time": "2022-03-02T17:23:00.507Z"
   },
   {
    "duration": 26,
    "start_time": "2022-03-02T17:23:00.527Z"
   },
   {
    "duration": 11,
    "start_time": "2022-03-02T17:23:00.554Z"
   },
   {
    "duration": 11,
    "start_time": "2022-03-02T17:23:00.567Z"
   },
   {
    "duration": 32,
    "start_time": "2022-03-02T17:23:00.580Z"
   },
   {
    "duration": 11,
    "start_time": "2022-03-02T17:23:00.615Z"
   },
   {
    "duration": 26,
    "start_time": "2022-03-02T17:23:00.628Z"
   },
   {
    "duration": 4,
    "start_time": "2022-03-02T17:23:00.659Z"
   },
   {
    "duration": 15,
    "start_time": "2022-03-02T17:23:00.666Z"
   },
   {
    "duration": 22,
    "start_time": "2022-03-02T17:23:00.683Z"
   },
   {
    "duration": 30,
    "start_time": "2022-03-02T17:23:00.707Z"
   },
   {
    "duration": 6,
    "start_time": "2022-03-02T17:23:00.739Z"
   },
   {
    "duration": 54,
    "start_time": "2022-03-02T17:23:00.747Z"
   },
   {
    "duration": 15,
    "start_time": "2022-03-02T17:23:00.803Z"
   },
   {
    "duration": 7,
    "start_time": "2022-03-02T17:23:00.820Z"
   },
   {
    "duration": 23,
    "start_time": "2022-03-02T17:23:00.829Z"
   },
   {
    "duration": 7,
    "start_time": "2022-03-02T17:23:00.854Z"
   },
   {
    "duration": 21,
    "start_time": "2022-03-02T17:23:00.863Z"
   },
   {
    "duration": 46,
    "start_time": "2022-03-02T17:23:00.886Z"
   },
   {
    "duration": 4,
    "start_time": "2022-03-02T17:23:00.934Z"
   },
   {
    "duration": 15,
    "start_time": "2022-03-02T17:23:00.940Z"
   },
   {
    "duration": 8,
    "start_time": "2022-03-02T17:23:00.957Z"
   },
   {
    "duration": 18,
    "start_time": "2022-03-02T17:23:00.966Z"
   },
   {
    "duration": 14,
    "start_time": "2022-03-02T17:23:00.986Z"
   },
   {
    "duration": 17,
    "start_time": "2022-03-02T17:23:01.001Z"
   },
   {
    "duration": 7,
    "start_time": "2022-03-02T17:23:01.020Z"
   },
   {
    "duration": 9,
    "start_time": "2022-03-02T17:23:01.029Z"
   },
   {
    "duration": 13,
    "start_time": "2022-03-02T17:23:01.040Z"
   },
   {
    "duration": 9,
    "start_time": "2022-03-02T17:23:01.055Z"
   },
   {
    "duration": 7,
    "start_time": "2022-03-02T17:23:01.065Z"
   },
   {
    "duration": 11,
    "start_time": "2022-03-02T17:23:01.074Z"
   },
   {
    "duration": 17,
    "start_time": "2022-03-02T17:23:01.086Z"
   },
   {
    "duration": 8,
    "start_time": "2022-03-02T17:23:06.042Z"
   },
   {
    "duration": 9,
    "start_time": "2022-03-02T17:23:43.337Z"
   },
   {
    "duration": 14,
    "start_time": "2022-03-02T17:23:59.265Z"
   },
   {
    "duration": 164,
    "start_time": "2022-03-03T19:20:49.569Z"
   },
   {
    "duration": 38,
    "start_time": "2022-03-03T19:26:09.652Z"
   },
   {
    "duration": 138,
    "start_time": "2022-03-03T19:27:31.732Z"
   },
   {
    "duration": 636,
    "start_time": "2022-03-03T19:27:39.008Z"
   },
   {
    "duration": 10,
    "start_time": "2022-03-03T19:27:39.646Z"
   },
   {
    "duration": 9,
    "start_time": "2022-03-03T19:27:39.658Z"
   },
   {
    "duration": 6,
    "start_time": "2022-03-03T19:27:39.668Z"
   },
   {
    "duration": 4,
    "start_time": "2022-03-03T19:27:39.675Z"
   },
   {
    "duration": 7,
    "start_time": "2022-03-03T19:27:39.680Z"
   },
   {
    "duration": 8,
    "start_time": "2022-03-03T19:27:39.688Z"
   },
   {
    "duration": 51,
    "start_time": "2022-03-03T19:27:39.698Z"
   },
   {
    "duration": 5,
    "start_time": "2022-03-03T19:27:39.751Z"
   },
   {
    "duration": 22,
    "start_time": "2022-03-03T19:27:39.758Z"
   },
   {
    "duration": 4,
    "start_time": "2022-03-03T19:27:39.781Z"
   },
   {
    "duration": 8,
    "start_time": "2022-03-03T19:27:39.786Z"
   },
   {
    "duration": 6,
    "start_time": "2022-03-03T19:27:39.795Z"
   },
   {
    "duration": 47,
    "start_time": "2022-03-03T19:27:39.803Z"
   },
   {
    "duration": 7,
    "start_time": "2022-03-03T19:27:39.852Z"
   },
   {
    "duration": 6,
    "start_time": "2022-03-03T19:27:39.861Z"
   },
   {
    "duration": 4,
    "start_time": "2022-03-03T19:27:39.868Z"
   },
   {
    "duration": 6,
    "start_time": "2022-03-03T19:27:39.874Z"
   },
   {
    "duration": 5,
    "start_time": "2022-03-03T19:27:39.882Z"
   },
   {
    "duration": 50,
    "start_time": "2022-03-03T19:27:39.889Z"
   },
   {
    "duration": 11,
    "start_time": "2022-03-03T19:27:39.940Z"
   },
   {
    "duration": 4,
    "start_time": "2022-03-03T19:27:39.953Z"
   },
   {
    "duration": 4,
    "start_time": "2022-03-03T19:27:39.961Z"
   },
   {
    "duration": 14,
    "start_time": "2022-03-03T19:27:39.967Z"
   },
   {
    "duration": 12,
    "start_time": "2022-03-03T19:27:39.982Z"
   },
   {
    "duration": 51,
    "start_time": "2022-03-03T19:27:39.996Z"
   },
   {
    "duration": 8,
    "start_time": "2022-03-03T19:27:40.049Z"
   },
   {
    "duration": 37,
    "start_time": "2022-03-03T19:27:40.058Z"
   },
   {
    "duration": 15,
    "start_time": "2022-03-03T19:27:40.096Z"
   },
   {
    "duration": 4,
    "start_time": "2022-03-03T19:27:40.112Z"
   },
   {
    "duration": 15,
    "start_time": "2022-03-03T19:27:40.138Z"
   },
   {
    "duration": 8,
    "start_time": "2022-03-03T19:27:40.155Z"
   },
   {
    "duration": 23,
    "start_time": "2022-03-03T19:27:40.165Z"
   },
   {
    "duration": 56,
    "start_time": "2022-03-03T19:27:40.190Z"
   },
   {
    "duration": 4,
    "start_time": "2022-03-03T19:27:40.248Z"
   },
   {
    "duration": 7,
    "start_time": "2022-03-03T19:27:40.254Z"
   },
   {
    "duration": 9,
    "start_time": "2022-03-03T19:27:40.263Z"
   },
   {
    "duration": 6,
    "start_time": "2022-03-03T19:27:40.273Z"
   },
   {
    "duration": 3,
    "start_time": "2022-03-03T19:27:40.281Z"
   },
   {
    "duration": 15,
    "start_time": "2022-03-03T19:27:40.285Z"
   },
   {
    "duration": 6,
    "start_time": "2022-03-03T19:27:40.301Z"
   },
   {
    "duration": 33,
    "start_time": "2022-03-03T19:27:40.309Z"
   },
   {
    "duration": 12,
    "start_time": "2022-03-03T19:27:40.343Z"
   },
   {
    "duration": 7,
    "start_time": "2022-03-03T19:27:40.356Z"
   },
   {
    "duration": 4,
    "start_time": "2022-03-03T19:27:40.364Z"
   },
   {
    "duration": 9,
    "start_time": "2022-03-03T19:27:40.370Z"
   },
   {
    "duration": 6,
    "start_time": "2022-03-03T19:27:40.381Z"
   },
   {
    "duration": 16,
    "start_time": "2022-03-03T19:27:40.389Z"
   },
   {
    "duration": 43,
    "start_time": "2022-03-03T19:27:40.407Z"
   },
   {
    "duration": 15,
    "start_time": "2022-03-03T19:27:40.452Z"
   },
   {
    "duration": 20,
    "start_time": "2022-03-03T19:27:40.468Z"
   },
   {
    "duration": 5,
    "start_time": "2022-03-03T19:27:40.489Z"
   },
   {
    "duration": 87,
    "start_time": "2022-03-03T19:27:40.496Z"
   },
   {
    "duration": 11,
    "start_time": "2022-03-03T19:27:40.584Z"
   },
   {
    "duration": 12,
    "start_time": "2022-03-03T19:27:40.597Z"
   },
   {
    "duration": 38,
    "start_time": "2022-03-03T19:27:40.610Z"
   },
   {
    "duration": 4,
    "start_time": "2022-03-03T19:27:40.649Z"
   },
   {
    "duration": 5,
    "start_time": "2022-03-03T19:27:40.655Z"
   },
   {
    "duration": 14,
    "start_time": "2022-03-03T19:27:40.661Z"
   },
   {
    "duration": 8,
    "start_time": "2022-03-03T19:27:40.676Z"
   },
   {
    "duration": 8,
    "start_time": "2022-03-03T19:27:40.685Z"
   },
   {
    "duration": 45,
    "start_time": "2022-03-03T19:27:40.694Z"
   },
   {
    "duration": 9,
    "start_time": "2022-03-03T19:27:40.741Z"
   },
   {
    "duration": 5,
    "start_time": "2022-03-03T19:27:40.751Z"
   },
   {
    "duration": 32,
    "start_time": "2022-03-03T19:27:40.758Z"
   },
   {
    "duration": 6,
    "start_time": "2022-03-03T19:27:40.791Z"
   },
   {
    "duration": 58,
    "start_time": "2022-03-03T19:27:40.799Z"
   },
   {
    "duration": 6,
    "start_time": "2022-03-03T19:27:40.861Z"
   },
   {
    "duration": 39,
    "start_time": "2022-03-03T19:27:40.868Z"
   },
   {
    "duration": 12,
    "start_time": "2022-03-03T19:28:32.385Z"
   },
   {
    "duration": 10,
    "start_time": "2022-03-03T19:28:57.873Z"
   },
   {
    "duration": 12,
    "start_time": "2022-03-03T19:29:31.182Z"
   },
   {
    "duration": 638,
    "start_time": "2022-03-03T19:29:41.203Z"
   },
   {
    "duration": 10,
    "start_time": "2022-03-03T19:29:41.843Z"
   },
   {
    "duration": 7,
    "start_time": "2022-03-03T19:29:41.855Z"
   },
   {
    "duration": 5,
    "start_time": "2022-03-03T19:29:41.864Z"
   },
   {
    "duration": 4,
    "start_time": "2022-03-03T19:29:41.871Z"
   },
   {
    "duration": 6,
    "start_time": "2022-03-03T19:29:41.876Z"
   },
   {
    "duration": 6,
    "start_time": "2022-03-03T19:29:41.883Z"
   },
   {
    "duration": 56,
    "start_time": "2022-03-03T19:29:41.890Z"
   },
   {
    "duration": 5,
    "start_time": "2022-03-03T19:29:41.950Z"
   },
   {
    "duration": 23,
    "start_time": "2022-03-03T19:29:41.958Z"
   },
   {
    "duration": 5,
    "start_time": "2022-03-03T19:29:41.984Z"
   },
   {
    "duration": 7,
    "start_time": "2022-03-03T19:29:41.991Z"
   },
   {
    "duration": 7,
    "start_time": "2022-03-03T19:29:42.037Z"
   },
   {
    "duration": 13,
    "start_time": "2022-03-03T19:29:42.046Z"
   },
   {
    "duration": 19,
    "start_time": "2022-03-03T19:29:42.061Z"
   },
   {
    "duration": 5,
    "start_time": "2022-03-03T19:29:42.082Z"
   },
   {
    "duration": 6,
    "start_time": "2022-03-03T19:29:42.089Z"
   },
   {
    "duration": 5,
    "start_time": "2022-03-03T19:29:42.097Z"
   },
   {
    "duration": 10,
    "start_time": "2022-03-03T19:29:42.104Z"
   },
   {
    "duration": 26,
    "start_time": "2022-03-03T19:29:42.138Z"
   },
   {
    "duration": 13,
    "start_time": "2022-03-03T19:29:42.165Z"
   },
   {
    "duration": 5,
    "start_time": "2022-03-03T19:29:42.180Z"
   },
   {
    "duration": 5,
    "start_time": "2022-03-03T19:29:42.186Z"
   },
   {
    "duration": 48,
    "start_time": "2022-03-03T19:29:42.193Z"
   },
   {
    "duration": 13,
    "start_time": "2022-03-03T19:29:42.242Z"
   },
   {
    "duration": 21,
    "start_time": "2022-03-03T19:29:42.257Z"
   },
   {
    "duration": 5,
    "start_time": "2022-03-03T19:29:42.283Z"
   },
   {
    "duration": 53,
    "start_time": "2022-03-03T19:29:42.290Z"
   },
   {
    "duration": 14,
    "start_time": "2022-03-03T19:29:42.345Z"
   },
   {
    "duration": 5,
    "start_time": "2022-03-03T19:29:42.361Z"
   },
   {
    "duration": 18,
    "start_time": "2022-03-03T19:29:42.368Z"
   },
   {
    "duration": 5,
    "start_time": "2022-03-03T19:29:42.387Z"
   },
   {
    "duration": 18,
    "start_time": "2022-03-03T19:29:42.394Z"
   },
   {
    "duration": 61,
    "start_time": "2022-03-03T19:29:42.413Z"
   },
   {
    "duration": 5,
    "start_time": "2022-03-03T19:29:42.475Z"
   },
   {
    "duration": 10,
    "start_time": "2022-03-03T19:29:42.481Z"
   },
   {
    "duration": 7,
    "start_time": "2022-03-03T19:29:42.492Z"
   },
   {
    "duration": 7,
    "start_time": "2022-03-03T19:29:42.501Z"
   },
   {
    "duration": 31,
    "start_time": "2022-03-03T19:29:42.510Z"
   },
   {
    "duration": 13,
    "start_time": "2022-03-03T19:29:42.543Z"
   },
   {
    "duration": 6,
    "start_time": "2022-03-03T19:29:42.558Z"
   },
   {
    "duration": 8,
    "start_time": "2022-03-03T19:29:42.566Z"
   },
   {
    "duration": 10,
    "start_time": "2022-03-03T19:29:42.575Z"
   },
   {
    "duration": 7,
    "start_time": "2022-03-03T19:29:42.586Z"
   },
   {
    "duration": 43,
    "start_time": "2022-03-03T19:29:42.595Z"
   },
   {
    "duration": 5,
    "start_time": "2022-03-03T19:29:42.640Z"
   },
   {
    "duration": 7,
    "start_time": "2022-03-03T19:29:42.647Z"
   },
   {
    "duration": 16,
    "start_time": "2022-03-03T19:29:42.655Z"
   },
   {
    "duration": 12,
    "start_time": "2022-03-03T19:29:42.673Z"
   },
   {
    "duration": 55,
    "start_time": "2022-03-03T19:29:42.687Z"
   },
   {
    "duration": 16,
    "start_time": "2022-03-03T19:29:42.744Z"
   },
   {
    "duration": 17,
    "start_time": "2022-03-03T19:29:42.762Z"
   },
   {
    "duration": 5,
    "start_time": "2022-03-03T19:29:42.781Z"
   },
   {
    "duration": 94,
    "start_time": "2022-03-03T19:29:42.788Z"
   },
   {
    "duration": 11,
    "start_time": "2022-03-03T19:29:42.884Z"
   },
   {
    "duration": 12,
    "start_time": "2022-03-03T19:29:42.896Z"
   },
   {
    "duration": 38,
    "start_time": "2022-03-03T19:29:42.910Z"
   },
   {
    "duration": 4,
    "start_time": "2022-03-03T19:29:42.949Z"
   },
   {
    "duration": 14,
    "start_time": "2022-03-03T19:29:42.954Z"
   },
   {
    "duration": 23,
    "start_time": "2022-03-03T19:29:42.969Z"
   },
   {
    "duration": 19,
    "start_time": "2022-03-03T19:29:42.994Z"
   },
   {
    "duration": 14,
    "start_time": "2022-03-03T19:29:43.014Z"
   },
   {
    "duration": 21,
    "start_time": "2022-03-03T19:29:43.030Z"
   },
   {
    "duration": 7,
    "start_time": "2022-03-03T19:29:43.053Z"
   },
   {
    "duration": 6,
    "start_time": "2022-03-03T19:29:43.062Z"
   },
   {
    "duration": 40,
    "start_time": "2022-03-03T19:29:43.070Z"
   },
   {
    "duration": 8,
    "start_time": "2022-03-03T19:29:43.112Z"
   },
   {
    "duration": 71,
    "start_time": "2022-03-03T19:29:43.122Z"
   },
   {
    "duration": 8,
    "start_time": "2022-03-03T19:29:43.195Z"
   },
   {
    "duration": 44,
    "start_time": "2022-03-03T19:29:43.205Z"
   },
   {
    "duration": 10,
    "start_time": "2022-03-03T19:30:34.640Z"
   },
   {
    "duration": 9,
    "start_time": "2022-03-03T19:31:11.790Z"
   },
   {
    "duration": 13,
    "start_time": "2022-03-03T19:31:25.801Z"
   },
   {
    "duration": 13,
    "start_time": "2022-03-03T19:32:08.504Z"
   },
   {
    "duration": 16,
    "start_time": "2022-03-03T19:33:09.401Z"
   },
   {
    "duration": 623,
    "start_time": "2022-03-03T19:33:22.444Z"
   },
   {
    "duration": 11,
    "start_time": "2022-03-03T19:33:23.070Z"
   },
   {
    "duration": 6,
    "start_time": "2022-03-03T19:33:23.083Z"
   },
   {
    "duration": 6,
    "start_time": "2022-03-03T19:33:23.091Z"
   },
   {
    "duration": 4,
    "start_time": "2022-03-03T19:33:23.098Z"
   },
   {
    "duration": 38,
    "start_time": "2022-03-03T19:33:23.103Z"
   },
   {
    "duration": 6,
    "start_time": "2022-03-03T19:33:23.142Z"
   },
   {
    "duration": 14,
    "start_time": "2022-03-03T19:33:23.150Z"
   },
   {
    "duration": 5,
    "start_time": "2022-03-03T19:33:23.167Z"
   },
   {
    "duration": 21,
    "start_time": "2022-03-03T19:33:23.174Z"
   },
   {
    "duration": 6,
    "start_time": "2022-03-03T19:33:23.197Z"
   },
   {
    "duration": 39,
    "start_time": "2022-03-03T19:33:23.204Z"
   },
   {
    "duration": 6,
    "start_time": "2022-03-03T19:33:23.244Z"
   },
   {
    "duration": 14,
    "start_time": "2022-03-03T19:33:23.251Z"
   },
   {
    "duration": 7,
    "start_time": "2022-03-03T19:33:23.267Z"
   },
   {
    "duration": 5,
    "start_time": "2022-03-03T19:33:23.276Z"
   },
   {
    "duration": 6,
    "start_time": "2022-03-03T19:33:23.282Z"
   },
   {
    "duration": 5,
    "start_time": "2022-03-03T19:33:23.290Z"
   },
   {
    "duration": 41,
    "start_time": "2022-03-03T19:33:23.297Z"
   },
   {
    "duration": 29,
    "start_time": "2022-03-03T19:33:23.340Z"
   },
   {
    "duration": 11,
    "start_time": "2022-03-03T19:33:23.371Z"
   },
   {
    "duration": 5,
    "start_time": "2022-03-03T19:33:23.383Z"
   },
   {
    "duration": 5,
    "start_time": "2022-03-03T19:33:23.389Z"
   },
   {
    "duration": 14,
    "start_time": "2022-03-03T19:33:23.395Z"
   },
   {
    "duration": 38,
    "start_time": "2022-03-03T19:33:23.410Z"
   },
   {
    "duration": 17,
    "start_time": "2022-03-03T19:33:23.450Z"
   },
   {
    "duration": 5,
    "start_time": "2022-03-03T19:33:23.471Z"
   },
   {
    "duration": 36,
    "start_time": "2022-03-03T19:33:23.478Z"
   },
   {
    "duration": 31,
    "start_time": "2022-03-03T19:33:23.515Z"
   },
   {
    "duration": 13,
    "start_time": "2022-03-03T19:33:23.548Z"
   },
   {
    "duration": 16,
    "start_time": "2022-03-03T19:33:23.563Z"
   },
   {
    "duration": 5,
    "start_time": "2022-03-03T19:33:23.580Z"
   },
   {
    "duration": 19,
    "start_time": "2022-03-03T19:33:23.586Z"
   },
   {
    "duration": 63,
    "start_time": "2022-03-03T19:33:23.606Z"
   },
   {
    "duration": 3,
    "start_time": "2022-03-03T19:33:23.671Z"
   },
   {
    "duration": 6,
    "start_time": "2022-03-03T19:33:23.676Z"
   },
   {
    "duration": 7,
    "start_time": "2022-03-03T19:33:23.684Z"
   },
   {
    "duration": 7,
    "start_time": "2022-03-03T19:33:23.692Z"
   },
   {
    "duration": 4,
    "start_time": "2022-03-03T19:33:23.700Z"
   },
   {
    "duration": 32,
    "start_time": "2022-03-03T19:33:23.706Z"
   },
   {
    "duration": 6,
    "start_time": "2022-03-03T19:33:23.740Z"
   },
   {
    "duration": 8,
    "start_time": "2022-03-03T19:33:23.747Z"
   },
   {
    "duration": 12,
    "start_time": "2022-03-03T19:33:23.757Z"
   },
   {
    "duration": 7,
    "start_time": "2022-03-03T19:33:23.770Z"
   },
   {
    "duration": 5,
    "start_time": "2022-03-03T19:33:23.778Z"
   },
   {
    "duration": 8,
    "start_time": "2022-03-03T19:33:23.784Z"
   },
   {
    "duration": 6,
    "start_time": "2022-03-03T19:33:23.794Z"
   },
   {
    "duration": 42,
    "start_time": "2022-03-03T19:33:23.802Z"
   },
   {
    "duration": 15,
    "start_time": "2022-03-03T19:33:23.846Z"
   },
   {
    "duration": 14,
    "start_time": "2022-03-03T19:33:23.863Z"
   },
   {
    "duration": 15,
    "start_time": "2022-03-03T19:33:23.879Z"
   },
   {
    "duration": 47,
    "start_time": "2022-03-03T19:33:23.895Z"
   },
   {
    "duration": 17,
    "start_time": "2022-03-03T19:33:23.943Z"
   },
   {
    "duration": 6,
    "start_time": "2022-03-03T19:33:23.961Z"
   },
   {
    "duration": 84,
    "start_time": "2022-03-03T19:33:23.968Z"
   },
   {
    "duration": 11,
    "start_time": "2022-03-03T19:33:24.053Z"
   },
   {
    "duration": 12,
    "start_time": "2022-03-03T19:33:24.065Z"
   },
   {
    "duration": 11,
    "start_time": "2022-03-03T19:33:24.078Z"
   },
   {
    "duration": 3,
    "start_time": "2022-03-03T19:33:24.091Z"
   },
   {
    "duration": 6,
    "start_time": "2022-03-03T19:33:24.096Z"
   },
   {
    "duration": 38,
    "start_time": "2022-03-03T19:33:24.104Z"
   },
   {
    "duration": 10,
    "start_time": "2022-03-03T19:33:24.143Z"
   },
   {
    "duration": 8,
    "start_time": "2022-03-03T19:33:24.155Z"
   },
   {
    "duration": 11,
    "start_time": "2022-03-03T19:33:24.164Z"
   },
   {
    "duration": 8,
    "start_time": "2022-03-03T19:33:24.176Z"
   },
   {
    "duration": 10,
    "start_time": "2022-03-03T19:33:24.186Z"
   },
   {
    "duration": 57,
    "start_time": "2022-03-03T19:33:24.198Z"
   },
   {
    "duration": 6,
    "start_time": "2022-03-03T19:33:24.257Z"
   },
   {
    "duration": 38,
    "start_time": "2022-03-03T19:33:24.265Z"
   },
   {
    "duration": 6,
    "start_time": "2022-03-03T19:33:24.305Z"
   },
   {
    "duration": 52,
    "start_time": "2022-03-03T19:33:24.313Z"
   }
  ],
  "kernelspec": {
   "display_name": "Python 3 (ipykernel)",
   "language": "python",
   "name": "python3"
  },
  "language_info": {
   "codemirror_mode": {
    "name": "ipython",
    "version": 3
   },
   "file_extension": ".py",
   "mimetype": "text/x-python",
   "name": "python",
   "nbconvert_exporter": "python",
   "pygments_lexer": "ipython3",
   "version": "3.9.5"
  },
  "toc": {
   "base_numbering": 1,
   "nav_menu": {},
   "number_sections": true,
   "sideBar": true,
   "skip_h1_title": true,
   "title_cell": "Table of Contents",
   "title_sidebar": "Contents",
   "toc_cell": false,
   "toc_position": {
    "height": "calc(100% - 180px)",
    "left": "10px",
    "top": "150px",
    "width": "165px"
   },
   "toc_section_display": true,
   "toc_window_display": true
  }
 },
 "nbformat": 4,
 "nbformat_minor": 5
}
