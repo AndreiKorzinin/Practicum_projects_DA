{
 "cells": [
  {
   "cell_type": "markdown",
   "id": "da7a8812",
   "metadata": {},
   "source": [
    "## Цели работы:\n",
    "Клиентам компании «Мегалайн» — федерального оператора сотовой связи, предлагают два тарифных плана: «Смарт» и «Ультра». Чтобы скорректировать рекламный бюджет, коммерческий департамент хочет понять, какой тариф приносит больше денег.\n",
    "    \n",
    "Необходимо сделать предварительный анализ тарифов на небольшой выборке клиентов. В вашем распоряжении данные 500 пользователей «Мегалайна»: кто они, откуда, каким тарифом пользуются, сколько звонков и сообщений каждый отправил за 2018 год. Нужно проанализировать поведение клиентов и сделать вывод — какой тариф лучше."
   ]
  },
  {
   "cell_type": "markdown",
   "id": "de9ac91a",
   "metadata": {},
   "source": [
    "### Описание тарифов:\n",
    "- #### Тариф «Смарт»\n",
    "- Ежемесячная плата: 550 рублей\n",
    "- Включено 500 минут разговора, 50 сообщений и 15 Гб интернет-трафика\n",
    "- Стоимость услуг сверх тарифного пакета:\n",
    "    - минута разговора: 3 рубля\n",
    "    - сообщение: 3 рубля\n",
    "    - 1 Гб интернет-трафика: 200 рублей\n",
    "- #### Тариф «Ультра»\n",
    "- Ежемесячная плата: 1950 рублей\n",
    "- Включено 3000 минут разговора, 1000 сообщений и 30 Гб интернет-трафика\n",
    "- Стоимость услуг сверх тарифного пакета:\n",
    "    - минута разговора: 1 рубль\n",
    "    - сообщение: 1 рубль\n",
    "    - 1 Гб интернет-трафика: 150 рублей\n",
    "    \n",
    "### Примечание:\n",
    "«Мегалайн» всегда округляет секунды до минут, а мегабайты — до гигабайт. Каждый звонок округляется отдельно: даже если он длился всего 1 секунду, будет засчитан как 1 минута.\n",
    "\n",
    "Для веб-трафика отдельные сессии не считаются. Вместо этого общая сумма за месяц округляется в бо́льшую сторону. Если абонент использует 1025 мегабайт в этом месяце, с него возьмут плату за 2 гигабайта.\n",
    "    \n",
    "### Описание данных:\n",
    "- #### Таблица users (информация о пользователях):\n",
    "    - user_id — уникальный идентификатор пользователя\n",
    "    - first_name — имя пользователя\n",
    "    - last_name — фамилия пользователя\n",
    "    - age — возраст пользователя (годы)\n",
    "    - reg_date — дата подключения тарифа (день, месяц, год)\n",
    "    - churn_date — дата прекращения пользования тарифом (если значение пропущено, то тариф ещё действовал на момент выгрузки данных)\n",
    "    - city — город проживания пользователя\n",
    "    - tariff — название тарифного плана\n",
    "- #### Таблица calls (информация о звонках):\n",
    "    - id — уникальный номер звонка\n",
    "    - call_date — дата звонка\n",
    "    - duration — длительность звонка в минутах\n",
    "    - user_id — идентификатор пользователя, сделавшего звонок\n",
    "- #### Таблица messages (информация о сообщениях):\n",
    "    - id — уникальный номер сообщения\n",
    "    - message_date — дата сообщения\n",
    "    - user_id — идентификатор пользователя, отправившего сообщение\n",
    "- #### Таблица internet (информация об интернет-сессиях):\n",
    "    - id — уникальный номер сессии\n",
    "    - mb_used — объём потраченного за сессию интернет-трафика (в мегабайтах)\n",
    "    - session_date — дата интернет-сессии\n",
    "    - user_id — идентификатор пользователя\n",
    "- #### Таблица tariffs (информация о тарифах):\n",
    "    - tariff_name — название тарифа\n",
    "    - rub_monthly_fee — ежемесячная абонентская плата в рублях\n",
    "    - minutes_included — количество минут разговора в месяц, включённых в абонентскую плату\n",
    "    - messages_included — количество сообщений в месяц, включённых в абонентскую плату\n",
    "    - mb_per_month_included — объём интернет-трафика, включённого в абонентскую плату (в мегабайтах)\n",
    "    - rub_per_minute — стоимость минуты разговора сверх тарифного пакета (например, если в тарифе 100 минут разговора в месяц, то со 101 минуты будет взиматься плата)\n",
    "    - rub_per_message — стоимость отправки сообщения сверх тарифного пакета\n",
    "    - rub_per_gb — стоимость дополнительного гигабайта интернет-трафика сверх тарифного пакета (1 гигабайт = 1024 мегабайта)"
   ]
  },
  {
   "cell_type": "markdown",
   "id": "ccdcf433",
   "metadata": {},
   "source": [
    "Загрузим необходимые библиотеки."
   ]
  },
  {
   "cell_type": "code",
   "execution_count": 259,
   "id": "126982a8",
   "metadata": {},
   "outputs": [],
   "source": [
    "import numpy as np\n",
    "import pandas as pd\n",
    "import seaborn as sns\n",
    "import matplotlib.pyplot as plt\n",
    "import os\n",
    "from scipy import stats as st"
   ]
  },
  {
   "cell_type": "markdown",
   "id": "956c1714",
   "metadata": {},
   "source": [
    "Загрузим предоставляенные данные."
   ]
  },
  {
   "cell_type": "code",
   "execution_count": 260,
   "id": "6b9e4318",
   "metadata": {},
   "outputs": [],
   "source": [
    "pth_calls = '\\\\Users\\Home\\Documents\\Yandex\\проект №4 Определение тарифа для компании\\calls.csv' # Локальный путь\n",
    "pth_users = '\\\\Users\\Home\\Documents\\Yandex\\проект №4 Определение тарифа для компании\\\\users.csv'\n",
    "pth_tariffs = '\\\\Users\\Home\\Documents\\Yandex\\проект №4 Определение тарифа для компании\\\\tariffs.csv'\n",
    "pth_messages = '\\\\Users\\Home\\Documents\\Yandex\\проект №4 Определение тарифа для компании\\messages.csv'\n",
    "pth_internet = '\\\\Users\\Home\\Documents\\Yandex\\проект №4 Определение тарифа для компании\\internet.csv'\n",
    "\n",
    "pth2_calls = '/datasets/calls.csv' # Серверный путь\n",
    "pth2_users = '/datasets/users.csv'\n",
    "pth2_tariffs = '/datasets/tariffs.csv'\n",
    "pth2_messages = '/datasets/messages.csv'\n",
    "pth2_internet = '/datasets/internet.csv'\n",
    "\n",
    "if os.path.exists(pth_calls) and os.path.exists(pth_users) and os.path.exists(pth_tariffs) and os.path.exists(pth_messages) and os.path.exists(pth_internet):\n",
    "    calls = pd.read_csv(pth_calls, sep=',')\n",
    "    users = pd.read_csv(pth_users, sep=',')\n",
    "    tariffs = pd.read_csv(pth_tariffs, sep=',')\n",
    "    messages = pd.read_csv(pth_messages, sep=',')\n",
    "    internet = pd.read_csv(pth_internet, sep=',')\n",
    "elif os.path.exists(pth2_calls) and os.path.exists(pth2_users) and os.path.exists(pth2_tariffs) and os.path.exists(pth2_messages) and os.path.exists(pth2_internet):\n",
    "    calls = pd.read_csv(pth2_calls, sep=',')\n",
    "    users = pd.read_csv(pth2_users, sep=',')\n",
    "    tariffs = pd.read_csv(pth2_tariffs, sep=',')\n",
    "    messages = pd.read_csv(pth2_messages, sep=',')\n",
    "    internet = pd.read_csv(pth2_internet, sep=',')\n",
    "\n",
    "else:\n",
    "    print('Something is wrong')"
   ]
  },
  {
   "cell_type": "markdown",
   "id": "9a30aaa2",
   "metadata": {},
   "source": [
    "## Изучим таблицу calls."
   ]
  },
  {
   "cell_type": "code",
   "execution_count": 261,
   "id": "830078f5",
   "metadata": {},
   "outputs": [
    {
     "data": {
      "text/html": [
       "<div>\n",
       "<style scoped>\n",
       "    .dataframe tbody tr th:only-of-type {\n",
       "        vertical-align: middle;\n",
       "    }\n",
       "\n",
       "    .dataframe tbody tr th {\n",
       "        vertical-align: top;\n",
       "    }\n",
       "\n",
       "    .dataframe thead th {\n",
       "        text-align: right;\n",
       "    }\n",
       "</style>\n",
       "<table border=\"1\" class=\"dataframe\">\n",
       "  <thead>\n",
       "    <tr style=\"text-align: right;\">\n",
       "      <th></th>\n",
       "      <th>id</th>\n",
       "      <th>call_date</th>\n",
       "      <th>duration</th>\n",
       "      <th>user_id</th>\n",
       "    </tr>\n",
       "  </thead>\n",
       "  <tbody>\n",
       "    <tr>\n",
       "      <th>0</th>\n",
       "      <td>1000_0</td>\n",
       "      <td>2018-07-25</td>\n",
       "      <td>0.00</td>\n",
       "      <td>1000</td>\n",
       "    </tr>\n",
       "    <tr>\n",
       "      <th>1</th>\n",
       "      <td>1000_1</td>\n",
       "      <td>2018-08-17</td>\n",
       "      <td>0.00</td>\n",
       "      <td>1000</td>\n",
       "    </tr>\n",
       "    <tr>\n",
       "      <th>2</th>\n",
       "      <td>1000_2</td>\n",
       "      <td>2018-06-11</td>\n",
       "      <td>2.85</td>\n",
       "      <td>1000</td>\n",
       "    </tr>\n",
       "    <tr>\n",
       "      <th>3</th>\n",
       "      <td>1000_3</td>\n",
       "      <td>2018-09-21</td>\n",
       "      <td>13.80</td>\n",
       "      <td>1000</td>\n",
       "    </tr>\n",
       "    <tr>\n",
       "      <th>4</th>\n",
       "      <td>1000_4</td>\n",
       "      <td>2018-12-15</td>\n",
       "      <td>5.18</td>\n",
       "      <td>1000</td>\n",
       "    </tr>\n",
       "  </tbody>\n",
       "</table>\n",
       "</div>"
      ],
      "text/plain": [
       "       id   call_date  duration  user_id\n",
       "0  1000_0  2018-07-25      0.00     1000\n",
       "1  1000_1  2018-08-17      0.00     1000\n",
       "2  1000_2  2018-06-11      2.85     1000\n",
       "3  1000_3  2018-09-21     13.80     1000\n",
       "4  1000_4  2018-12-15      5.18     1000"
      ]
     },
     "execution_count": 261,
     "metadata": {},
     "output_type": "execute_result"
    }
   ],
   "source": [
    "calls.head()"
   ]
  },
  {
   "cell_type": "code",
   "execution_count": 262,
   "id": "7e22613a",
   "metadata": {},
   "outputs": [
    {
     "name": "stdout",
     "output_type": "stream",
     "text": [
      "<class 'pandas.core.frame.DataFrame'>\n",
      "RangeIndex: 202607 entries, 0 to 202606\n",
      "Data columns (total 4 columns):\n",
      " #   Column     Non-Null Count   Dtype  \n",
      "---  ------     --------------   -----  \n",
      " 0   id         202607 non-null  object \n",
      " 1   call_date  202607 non-null  object \n",
      " 2   duration   202607 non-null  float64\n",
      " 3   user_id    202607 non-null  int64  \n",
      "dtypes: float64(1), int64(1), object(2)\n",
      "memory usage: 6.2+ MB\n"
     ]
    }
   ],
   "source": [
    "calls.info()"
   ]
  },
  {
   "cell_type": "markdown",
   "id": "efb7d259",
   "metadata": {},
   "source": [
    "Т.к. по условиям задачи, «Мегалайн» всегда округляет секунды до минут. И каждый звонок округляется отдельно: даже если он длился всего 1 секунду, будет засчитан как 1 минута. Необходимо округлить все данные в колонке \"duration\" до большего целого числа и переведем значения в тип данных - целочисленный."
   ]
  },
  {
   "cell_type": "code",
   "execution_count": 263,
   "id": "e9cc46c9",
   "metadata": {},
   "outputs": [],
   "source": [
    "#calls['duration'] = np.ceil(calls['duration'])\n",
    "#calls['duration'] = pd.to_numeric(calls['duration'], errors='coerce',downcast='integer')\n",
    "calls['duration'] = np.ceil(calls['duration']).astype('int32')"
   ]
  },
  {
   "cell_type": "code",
   "execution_count": 264,
   "id": "d907c725",
   "metadata": {},
   "outputs": [
    {
     "data": {
      "text/html": [
       "<div>\n",
       "<style scoped>\n",
       "    .dataframe tbody tr th:only-of-type {\n",
       "        vertical-align: middle;\n",
       "    }\n",
       "\n",
       "    .dataframe tbody tr th {\n",
       "        vertical-align: top;\n",
       "    }\n",
       "\n",
       "    .dataframe thead th {\n",
       "        text-align: right;\n",
       "    }\n",
       "</style>\n",
       "<table border=\"1\" class=\"dataframe\">\n",
       "  <thead>\n",
       "    <tr style=\"text-align: right;\">\n",
       "      <th></th>\n",
       "      <th>id</th>\n",
       "      <th>call_date</th>\n",
       "      <th>duration</th>\n",
       "      <th>user_id</th>\n",
       "    </tr>\n",
       "  </thead>\n",
       "  <tbody>\n",
       "    <tr>\n",
       "      <th>0</th>\n",
       "      <td>1000_0</td>\n",
       "      <td>2018-07-25</td>\n",
       "      <td>0</td>\n",
       "      <td>1000</td>\n",
       "    </tr>\n",
       "    <tr>\n",
       "      <th>1</th>\n",
       "      <td>1000_1</td>\n",
       "      <td>2018-08-17</td>\n",
       "      <td>0</td>\n",
       "      <td>1000</td>\n",
       "    </tr>\n",
       "    <tr>\n",
       "      <th>2</th>\n",
       "      <td>1000_2</td>\n",
       "      <td>2018-06-11</td>\n",
       "      <td>3</td>\n",
       "      <td>1000</td>\n",
       "    </tr>\n",
       "    <tr>\n",
       "      <th>3</th>\n",
       "      <td>1000_3</td>\n",
       "      <td>2018-09-21</td>\n",
       "      <td>14</td>\n",
       "      <td>1000</td>\n",
       "    </tr>\n",
       "    <tr>\n",
       "      <th>4</th>\n",
       "      <td>1000_4</td>\n",
       "      <td>2018-12-15</td>\n",
       "      <td>6</td>\n",
       "      <td>1000</td>\n",
       "    </tr>\n",
       "  </tbody>\n",
       "</table>\n",
       "</div>"
      ],
      "text/plain": [
       "       id   call_date  duration  user_id\n",
       "0  1000_0  2018-07-25         0     1000\n",
       "1  1000_1  2018-08-17         0     1000\n",
       "2  1000_2  2018-06-11         3     1000\n",
       "3  1000_3  2018-09-21        14     1000\n",
       "4  1000_4  2018-12-15         6     1000"
      ]
     },
     "execution_count": 264,
     "metadata": {},
     "output_type": "execute_result"
    }
   ],
   "source": [
    "calls.head()"
   ]
  },
  {
   "cell_type": "code",
   "execution_count": 265,
   "id": "c52de01a",
   "metadata": {},
   "outputs": [
    {
     "name": "stdout",
     "output_type": "stream",
     "text": [
      "<class 'pandas.core.frame.DataFrame'>\n",
      "RangeIndex: 202607 entries, 0 to 202606\n",
      "Data columns (total 4 columns):\n",
      " #   Column     Non-Null Count   Dtype \n",
      "---  ------     --------------   ----- \n",
      " 0   id         202607 non-null  object\n",
      " 1   call_date  202607 non-null  object\n",
      " 2   duration   202607 non-null  int32 \n",
      " 3   user_id    202607 non-null  int64 \n",
      "dtypes: int32(1), int64(1), object(2)\n",
      "memory usage: 5.4+ MB\n"
     ]
    }
   ],
   "source": [
    "calls.info()"
   ]
  },
  {
   "cell_type": "markdown",
   "id": "444fb0fa",
   "metadata": {},
   "source": [
    "Переведем колонку call_date в во временной формат данных."
   ]
  },
  {
   "cell_type": "code",
   "execution_count": 266,
   "id": "d8601226",
   "metadata": {},
   "outputs": [],
   "source": [
    "calls['call_date'] = pd.to_datetime(calls['call_date'], format='%Y-%m-%d')"
   ]
  },
  {
   "cell_type": "code",
   "execution_count": 267,
   "id": "a46978cf",
   "metadata": {},
   "outputs": [
    {
     "name": "stdout",
     "output_type": "stream",
     "text": [
      "<class 'pandas.core.frame.DataFrame'>\n",
      "RangeIndex: 202607 entries, 0 to 202606\n",
      "Data columns (total 4 columns):\n",
      " #   Column     Non-Null Count   Dtype         \n",
      "---  ------     --------------   -----         \n",
      " 0   id         202607 non-null  object        \n",
      " 1   call_date  202607 non-null  datetime64[ns]\n",
      " 2   duration   202607 non-null  int32         \n",
      " 3   user_id    202607 non-null  int64         \n",
      "dtypes: datetime64[ns](1), int32(1), int64(1), object(1)\n",
      "memory usage: 5.4+ MB\n"
     ]
    }
   ],
   "source": [
    "calls.info()"
   ]
  },
  {
   "cell_type": "code",
   "execution_count": 268,
   "id": "155e772b",
   "metadata": {},
   "outputs": [],
   "source": [
    "def check_dup_nan(dataframe):\n",
    "    df = dataframe\n",
    "    list_col = list(df.columns)\n",
    "    print('Количество задублированных строк в дата сете:', df.duplicated().sum(), 'шт.')\n",
    "    print('')\n",
    "    summa = 0\n",
    "    for col in list_col:\n",
    "        print('Кол-во пропусков в столбеце:  ', col, '-', df[col].isna().sum(), 'шт.')\n",
    "        summa += df[col].isna().sum()\n",
    "    print('===================================================================')\n",
    "    check_marker = df.duplicated().sum() + summa\n",
    "    if check_marker == 0:\n",
    "        print('Пропусков и дубликатов строк не обнаружено.')\n",
    "    else:\n",
    "        print('Ошибки в данных! Требуется обратить внимание.')"
   ]
  },
  {
   "cell_type": "code",
   "execution_count": 269,
   "id": "f3ca3263",
   "metadata": {},
   "outputs": [
    {
     "name": "stdout",
     "output_type": "stream",
     "text": [
      "Количество задублированных строк в дата сете: 0 шт.\n",
      "\n",
      "Кол-во пропусков в столбеце:   id - 0 шт.\n",
      "Кол-во пропусков в столбеце:   call_date - 0 шт.\n",
      "Кол-во пропусков в столбеце:   duration - 0 шт.\n",
      "Кол-во пропусков в столбеце:   user_id - 0 шт.\n",
      "===================================================================\n",
      "Пропусков и дубликатов строк не обнаружено.\n"
     ]
    }
   ],
   "source": [
    "check_dup_nan(calls)"
   ]
  },
  {
   "cell_type": "markdown",
   "id": "b9c5ea4d",
   "metadata": {},
   "source": [
    "Теперь все данные представлены в верных форматах."
   ]
  },
  {
   "cell_type": "markdown",
   "id": "8b104507",
   "metadata": {},
   "source": [
    "## Изучим таблицу users."
   ]
  },
  {
   "cell_type": "code",
   "execution_count": 270,
   "id": "701d035e",
   "metadata": {},
   "outputs": [
    {
     "data": {
      "text/html": [
       "<div>\n",
       "<style scoped>\n",
       "    .dataframe tbody tr th:only-of-type {\n",
       "        vertical-align: middle;\n",
       "    }\n",
       "\n",
       "    .dataframe tbody tr th {\n",
       "        vertical-align: top;\n",
       "    }\n",
       "\n",
       "    .dataframe thead th {\n",
       "        text-align: right;\n",
       "    }\n",
       "</style>\n",
       "<table border=\"1\" class=\"dataframe\">\n",
       "  <thead>\n",
       "    <tr style=\"text-align: right;\">\n",
       "      <th></th>\n",
       "      <th>user_id</th>\n",
       "      <th>age</th>\n",
       "      <th>churn_date</th>\n",
       "      <th>city</th>\n",
       "      <th>first_name</th>\n",
       "      <th>last_name</th>\n",
       "      <th>reg_date</th>\n",
       "      <th>tariff</th>\n",
       "    </tr>\n",
       "  </thead>\n",
       "  <tbody>\n",
       "    <tr>\n",
       "      <th>0</th>\n",
       "      <td>1000</td>\n",
       "      <td>52</td>\n",
       "      <td>NaN</td>\n",
       "      <td>Краснодар</td>\n",
       "      <td>Рафаил</td>\n",
       "      <td>Верещагин</td>\n",
       "      <td>2018-05-25</td>\n",
       "      <td>ultra</td>\n",
       "    </tr>\n",
       "    <tr>\n",
       "      <th>1</th>\n",
       "      <td>1001</td>\n",
       "      <td>41</td>\n",
       "      <td>NaN</td>\n",
       "      <td>Москва</td>\n",
       "      <td>Иван</td>\n",
       "      <td>Ежов</td>\n",
       "      <td>2018-11-01</td>\n",
       "      <td>smart</td>\n",
       "    </tr>\n",
       "    <tr>\n",
       "      <th>2</th>\n",
       "      <td>1002</td>\n",
       "      <td>59</td>\n",
       "      <td>NaN</td>\n",
       "      <td>Стерлитамак</td>\n",
       "      <td>Евгений</td>\n",
       "      <td>Абрамович</td>\n",
       "      <td>2018-06-17</td>\n",
       "      <td>smart</td>\n",
       "    </tr>\n",
       "    <tr>\n",
       "      <th>3</th>\n",
       "      <td>1003</td>\n",
       "      <td>23</td>\n",
       "      <td>NaN</td>\n",
       "      <td>Москва</td>\n",
       "      <td>Белла</td>\n",
       "      <td>Белякова</td>\n",
       "      <td>2018-08-17</td>\n",
       "      <td>ultra</td>\n",
       "    </tr>\n",
       "    <tr>\n",
       "      <th>4</th>\n",
       "      <td>1004</td>\n",
       "      <td>68</td>\n",
       "      <td>NaN</td>\n",
       "      <td>Новокузнецк</td>\n",
       "      <td>Татьяна</td>\n",
       "      <td>Авдеенко</td>\n",
       "      <td>2018-05-14</td>\n",
       "      <td>ultra</td>\n",
       "    </tr>\n",
       "  </tbody>\n",
       "</table>\n",
       "</div>"
      ],
      "text/plain": [
       "   user_id  age churn_date         city first_name  last_name    reg_date  \\\n",
       "0     1000   52        NaN    Краснодар     Рафаил  Верещагин  2018-05-25   \n",
       "1     1001   41        NaN       Москва       Иван       Ежов  2018-11-01   \n",
       "2     1002   59        NaN  Стерлитамак    Евгений  Абрамович  2018-06-17   \n",
       "3     1003   23        NaN       Москва      Белла   Белякова  2018-08-17   \n",
       "4     1004   68        NaN  Новокузнецк    Татьяна   Авдеенко  2018-05-14   \n",
       "\n",
       "  tariff  \n",
       "0  ultra  \n",
       "1  smart  \n",
       "2  smart  \n",
       "3  ultra  \n",
       "4  ultra  "
      ]
     },
     "execution_count": 270,
     "metadata": {},
     "output_type": "execute_result"
    }
   ],
   "source": [
    "users.head()"
   ]
  },
  {
   "cell_type": "code",
   "execution_count": 271,
   "id": "101f7b61",
   "metadata": {},
   "outputs": [
    {
     "name": "stdout",
     "output_type": "stream",
     "text": [
      "<class 'pandas.core.frame.DataFrame'>\n",
      "RangeIndex: 500 entries, 0 to 499\n",
      "Data columns (total 8 columns):\n",
      " #   Column      Non-Null Count  Dtype \n",
      "---  ------      --------------  ----- \n",
      " 0   user_id     500 non-null    int64 \n",
      " 1   age         500 non-null    int64 \n",
      " 2   churn_date  38 non-null     object\n",
      " 3   city        500 non-null    object\n",
      " 4   first_name  500 non-null    object\n",
      " 5   last_name   500 non-null    object\n",
      " 6   reg_date    500 non-null    object\n",
      " 7   tariff      500 non-null    object\n",
      "dtypes: int64(2), object(6)\n",
      "memory usage: 31.4+ KB\n"
     ]
    }
   ],
   "source": [
    "users.info()"
   ]
  },
  {
   "cell_type": "markdown",
   "id": "9abfe162",
   "metadata": {},
   "source": [
    "Переведем колонки \"churn_date\" и \"reg_date\" call_date в во временной формат данных."
   ]
  },
  {
   "cell_type": "code",
   "execution_count": 272,
   "id": "c769915e",
   "metadata": {},
   "outputs": [],
   "source": [
    "users['churn_date'] = pd.to_datetime(users['churn_date'], format='%Y-%m-%d')\n",
    "users['reg_date'] = pd.to_datetime(users['reg_date'], format='%Y-%m-%d')"
   ]
  },
  {
   "cell_type": "code",
   "execution_count": 273,
   "id": "5f30c2d3",
   "metadata": {},
   "outputs": [
    {
     "name": "stdout",
     "output_type": "stream",
     "text": [
      "<class 'pandas.core.frame.DataFrame'>\n",
      "RangeIndex: 500 entries, 0 to 499\n",
      "Data columns (total 8 columns):\n",
      " #   Column      Non-Null Count  Dtype         \n",
      "---  ------      --------------  -----         \n",
      " 0   user_id     500 non-null    int64         \n",
      " 1   age         500 non-null    int64         \n",
      " 2   churn_date  38 non-null     datetime64[ns]\n",
      " 3   city        500 non-null    object        \n",
      " 4   first_name  500 non-null    object        \n",
      " 5   last_name   500 non-null    object        \n",
      " 6   reg_date    500 non-null    datetime64[ns]\n",
      " 7   tariff      500 non-null    object        \n",
      "dtypes: datetime64[ns](2), int64(2), object(4)\n",
      "memory usage: 31.4+ KB\n"
     ]
    }
   ],
   "source": [
    "users.info()"
   ]
  },
  {
   "cell_type": "code",
   "execution_count": 274,
   "id": "47098564",
   "metadata": {},
   "outputs": [
    {
     "name": "stdout",
     "output_type": "stream",
     "text": [
      "Количество задублированных строк в дата сете: 0 шт.\n",
      "\n",
      "Кол-во пропусков в столбеце:   user_id - 0 шт.\n",
      "Кол-во пропусков в столбеце:   age - 0 шт.\n",
      "Кол-во пропусков в столбеце:   churn_date - 462 шт.\n",
      "Кол-во пропусков в столбеце:   city - 0 шт.\n",
      "Кол-во пропусков в столбеце:   first_name - 0 шт.\n",
      "Кол-во пропусков в столбеце:   last_name - 0 шт.\n",
      "Кол-во пропусков в столбеце:   reg_date - 0 шт.\n",
      "Кол-во пропусков в столбеце:   tariff - 0 шт.\n",
      "===================================================================\n",
      "Ошибки в данных! Требуется обратить внимание.\n"
     ]
    }
   ],
   "source": [
    "check_dup_nan(users)"
   ]
  },
  {
   "cell_type": "markdown",
   "id": "9ce76370",
   "metadata": {},
   "source": [
    "Все данные представлены в верных форматах. Пропуски в колонке \"churn_date\" (дата прекращения пользования тарифом) говорят о том, что тариф ещё действовал на момент выгрузки данных."
   ]
  },
  {
   "cell_type": "markdown",
   "id": "7d6cda5f",
   "metadata": {},
   "source": [
    "## Изучим таблицу messages."
   ]
  },
  {
   "cell_type": "code",
   "execution_count": 275,
   "id": "fd86430d",
   "metadata": {},
   "outputs": [
    {
     "data": {
      "text/html": [
       "<div>\n",
       "<style scoped>\n",
       "    .dataframe tbody tr th:only-of-type {\n",
       "        vertical-align: middle;\n",
       "    }\n",
       "\n",
       "    .dataframe tbody tr th {\n",
       "        vertical-align: top;\n",
       "    }\n",
       "\n",
       "    .dataframe thead th {\n",
       "        text-align: right;\n",
       "    }\n",
       "</style>\n",
       "<table border=\"1\" class=\"dataframe\">\n",
       "  <thead>\n",
       "    <tr style=\"text-align: right;\">\n",
       "      <th></th>\n",
       "      <th>id</th>\n",
       "      <th>message_date</th>\n",
       "      <th>user_id</th>\n",
       "    </tr>\n",
       "  </thead>\n",
       "  <tbody>\n",
       "    <tr>\n",
       "      <th>0</th>\n",
       "      <td>1000_0</td>\n",
       "      <td>2018-06-27</td>\n",
       "      <td>1000</td>\n",
       "    </tr>\n",
       "    <tr>\n",
       "      <th>1</th>\n",
       "      <td>1000_1</td>\n",
       "      <td>2018-10-08</td>\n",
       "      <td>1000</td>\n",
       "    </tr>\n",
       "    <tr>\n",
       "      <th>2</th>\n",
       "      <td>1000_2</td>\n",
       "      <td>2018-08-04</td>\n",
       "      <td>1000</td>\n",
       "    </tr>\n",
       "    <tr>\n",
       "      <th>3</th>\n",
       "      <td>1000_3</td>\n",
       "      <td>2018-06-16</td>\n",
       "      <td>1000</td>\n",
       "    </tr>\n",
       "    <tr>\n",
       "      <th>4</th>\n",
       "      <td>1000_4</td>\n",
       "      <td>2018-12-05</td>\n",
       "      <td>1000</td>\n",
       "    </tr>\n",
       "  </tbody>\n",
       "</table>\n",
       "</div>"
      ],
      "text/plain": [
       "       id message_date  user_id\n",
       "0  1000_0   2018-06-27     1000\n",
       "1  1000_1   2018-10-08     1000\n",
       "2  1000_2   2018-08-04     1000\n",
       "3  1000_3   2018-06-16     1000\n",
       "4  1000_4   2018-12-05     1000"
      ]
     },
     "execution_count": 275,
     "metadata": {},
     "output_type": "execute_result"
    }
   ],
   "source": [
    "messages.head()"
   ]
  },
  {
   "cell_type": "code",
   "execution_count": 276,
   "id": "99623896",
   "metadata": {},
   "outputs": [
    {
     "name": "stdout",
     "output_type": "stream",
     "text": [
      "<class 'pandas.core.frame.DataFrame'>\n",
      "RangeIndex: 123036 entries, 0 to 123035\n",
      "Data columns (total 3 columns):\n",
      " #   Column        Non-Null Count   Dtype \n",
      "---  ------        --------------   ----- \n",
      " 0   id            123036 non-null  object\n",
      " 1   message_date  123036 non-null  object\n",
      " 2   user_id       123036 non-null  int64 \n",
      "dtypes: int64(1), object(2)\n",
      "memory usage: 2.8+ MB\n"
     ]
    }
   ],
   "source": [
    "messages.info()"
   ]
  },
  {
   "cell_type": "markdown",
   "id": "16cb3940",
   "metadata": {},
   "source": [
    "Переведем колонку call_date в во временной формат данных."
   ]
  },
  {
   "cell_type": "code",
   "execution_count": 277,
   "id": "c5323044",
   "metadata": {},
   "outputs": [],
   "source": [
    "messages['message_date'] = pd.to_datetime(messages['message_date'], format='%Y-%m-%d')"
   ]
  },
  {
   "cell_type": "code",
   "execution_count": 278,
   "id": "0e5d7c12",
   "metadata": {},
   "outputs": [
    {
     "name": "stdout",
     "output_type": "stream",
     "text": [
      "<class 'pandas.core.frame.DataFrame'>\n",
      "RangeIndex: 123036 entries, 0 to 123035\n",
      "Data columns (total 3 columns):\n",
      " #   Column        Non-Null Count   Dtype         \n",
      "---  ------        --------------   -----         \n",
      " 0   id            123036 non-null  object        \n",
      " 1   message_date  123036 non-null  datetime64[ns]\n",
      " 2   user_id       123036 non-null  int64         \n",
      "dtypes: datetime64[ns](1), int64(1), object(1)\n",
      "memory usage: 2.8+ MB\n"
     ]
    }
   ],
   "source": [
    "messages.info()"
   ]
  },
  {
   "cell_type": "code",
   "execution_count": 279,
   "id": "01c98207",
   "metadata": {},
   "outputs": [
    {
     "name": "stdout",
     "output_type": "stream",
     "text": [
      "Количество задублированных строк в дата сете: 0 шт.\n",
      "\n",
      "Кол-во пропусков в столбеце:   id - 0 шт.\n",
      "Кол-во пропусков в столбеце:   message_date - 0 шт.\n",
      "Кол-во пропусков в столбеце:   user_id - 0 шт.\n",
      "===================================================================\n",
      "Пропусков и дубликатов строк не обнаружено.\n"
     ]
    }
   ],
   "source": [
    "check_dup_nan(messages)"
   ]
  },
  {
   "cell_type": "markdown",
   "id": "3b0585a5",
   "metadata": {},
   "source": [
    "Все данные представлены в верных форматах."
   ]
  },
  {
   "cell_type": "markdown",
   "id": "5b5229d4",
   "metadata": {},
   "source": [
    "## Изучим таблицу internet."
   ]
  },
  {
   "cell_type": "code",
   "execution_count": 280,
   "id": "70ed149d",
   "metadata": {},
   "outputs": [
    {
     "name": "stdout",
     "output_type": "stream",
     "text": [
      "<class 'pandas.core.frame.DataFrame'>\n",
      "RangeIndex: 149396 entries, 0 to 149395\n",
      "Data columns (total 5 columns):\n",
      " #   Column        Non-Null Count   Dtype  \n",
      "---  ------        --------------   -----  \n",
      " 0   Unnamed: 0    149396 non-null  int64  \n",
      " 1   id            149396 non-null  object \n",
      " 2   mb_used       149396 non-null  float64\n",
      " 3   session_date  149396 non-null  object \n",
      " 4   user_id       149396 non-null  int64  \n",
      "dtypes: float64(1), int64(2), object(2)\n",
      "memory usage: 5.7+ MB\n"
     ]
    }
   ],
   "source": [
    "internet.info()"
   ]
  },
  {
   "cell_type": "code",
   "execution_count": 281,
   "id": "96fdca5a",
   "metadata": {},
   "outputs": [
    {
     "data": {
      "text/html": [
       "<div>\n",
       "<style scoped>\n",
       "    .dataframe tbody tr th:only-of-type {\n",
       "        vertical-align: middle;\n",
       "    }\n",
       "\n",
       "    .dataframe tbody tr th {\n",
       "        vertical-align: top;\n",
       "    }\n",
       "\n",
       "    .dataframe thead th {\n",
       "        text-align: right;\n",
       "    }\n",
       "</style>\n",
       "<table border=\"1\" class=\"dataframe\">\n",
       "  <thead>\n",
       "    <tr style=\"text-align: right;\">\n",
       "      <th></th>\n",
       "      <th>Unnamed: 0</th>\n",
       "      <th>id</th>\n",
       "      <th>mb_used</th>\n",
       "      <th>session_date</th>\n",
       "      <th>user_id</th>\n",
       "    </tr>\n",
       "  </thead>\n",
       "  <tbody>\n",
       "    <tr>\n",
       "      <th>0</th>\n",
       "      <td>0</td>\n",
       "      <td>1000_0</td>\n",
       "      <td>112.95</td>\n",
       "      <td>2018-11-25</td>\n",
       "      <td>1000</td>\n",
       "    </tr>\n",
       "    <tr>\n",
       "      <th>1</th>\n",
       "      <td>1</td>\n",
       "      <td>1000_1</td>\n",
       "      <td>1052.81</td>\n",
       "      <td>2018-09-07</td>\n",
       "      <td>1000</td>\n",
       "    </tr>\n",
       "    <tr>\n",
       "      <th>2</th>\n",
       "      <td>2</td>\n",
       "      <td>1000_2</td>\n",
       "      <td>1197.26</td>\n",
       "      <td>2018-06-25</td>\n",
       "      <td>1000</td>\n",
       "    </tr>\n",
       "    <tr>\n",
       "      <th>3</th>\n",
       "      <td>3</td>\n",
       "      <td>1000_3</td>\n",
       "      <td>550.27</td>\n",
       "      <td>2018-08-22</td>\n",
       "      <td>1000</td>\n",
       "    </tr>\n",
       "    <tr>\n",
       "      <th>4</th>\n",
       "      <td>4</td>\n",
       "      <td>1000_4</td>\n",
       "      <td>302.56</td>\n",
       "      <td>2018-09-24</td>\n",
       "      <td>1000</td>\n",
       "    </tr>\n",
       "  </tbody>\n",
       "</table>\n",
       "</div>"
      ],
      "text/plain": [
       "   Unnamed: 0      id  mb_used session_date  user_id\n",
       "0           0  1000_0   112.95   2018-11-25     1000\n",
       "1           1  1000_1  1052.81   2018-09-07     1000\n",
       "2           2  1000_2  1197.26   2018-06-25     1000\n",
       "3           3  1000_3   550.27   2018-08-22     1000\n",
       "4           4  1000_4   302.56   2018-09-24     1000"
      ]
     },
     "execution_count": 281,
     "metadata": {},
     "output_type": "execute_result"
    }
   ],
   "source": [
    "internet.head()"
   ]
  },
  {
   "cell_type": "markdown",
   "id": "48bad173",
   "metadata": {},
   "source": [
    "Замечания по колонке \"Unnamed: 0\" - она дублирует индексы строк. Удалим ее за ненадобностью."
   ]
  },
  {
   "cell_type": "code",
   "execution_count": 282,
   "id": "a4209399",
   "metadata": {},
   "outputs": [
    {
     "data": {
      "text/html": [
       "<div>\n",
       "<style scoped>\n",
       "    .dataframe tbody tr th:only-of-type {\n",
       "        vertical-align: middle;\n",
       "    }\n",
       "\n",
       "    .dataframe tbody tr th {\n",
       "        vertical-align: top;\n",
       "    }\n",
       "\n",
       "    .dataframe thead th {\n",
       "        text-align: right;\n",
       "    }\n",
       "</style>\n",
       "<table border=\"1\" class=\"dataframe\">\n",
       "  <thead>\n",
       "    <tr style=\"text-align: right;\">\n",
       "      <th></th>\n",
       "      <th>id</th>\n",
       "      <th>mb_used</th>\n",
       "      <th>session_date</th>\n",
       "      <th>user_id</th>\n",
       "    </tr>\n",
       "  </thead>\n",
       "  <tbody>\n",
       "    <tr>\n",
       "      <th>0</th>\n",
       "      <td>1000_0</td>\n",
       "      <td>112.95</td>\n",
       "      <td>2018-11-25</td>\n",
       "      <td>1000</td>\n",
       "    </tr>\n",
       "    <tr>\n",
       "      <th>1</th>\n",
       "      <td>1000_1</td>\n",
       "      <td>1052.81</td>\n",
       "      <td>2018-09-07</td>\n",
       "      <td>1000</td>\n",
       "    </tr>\n",
       "    <tr>\n",
       "      <th>2</th>\n",
       "      <td>1000_2</td>\n",
       "      <td>1197.26</td>\n",
       "      <td>2018-06-25</td>\n",
       "      <td>1000</td>\n",
       "    </tr>\n",
       "    <tr>\n",
       "      <th>3</th>\n",
       "      <td>1000_3</td>\n",
       "      <td>550.27</td>\n",
       "      <td>2018-08-22</td>\n",
       "      <td>1000</td>\n",
       "    </tr>\n",
       "    <tr>\n",
       "      <th>4</th>\n",
       "      <td>1000_4</td>\n",
       "      <td>302.56</td>\n",
       "      <td>2018-09-24</td>\n",
       "      <td>1000</td>\n",
       "    </tr>\n",
       "  </tbody>\n",
       "</table>\n",
       "</div>"
      ],
      "text/plain": [
       "       id  mb_used session_date  user_id\n",
       "0  1000_0   112.95   2018-11-25     1000\n",
       "1  1000_1  1052.81   2018-09-07     1000\n",
       "2  1000_2  1197.26   2018-06-25     1000\n",
       "3  1000_3   550.27   2018-08-22     1000\n",
       "4  1000_4   302.56   2018-09-24     1000"
      ]
     },
     "execution_count": 282,
     "metadata": {},
     "output_type": "execute_result"
    }
   ],
   "source": [
    "internet = internet.drop(['Unnamed: 0'], axis=1)\n",
    "internet.head()"
   ]
  },
  {
   "cell_type": "markdown",
   "id": "7fee7022",
   "metadata": {},
   "source": [
    "Переведем колонку session_date в во временной формат данных."
   ]
  },
  {
   "cell_type": "code",
   "execution_count": 283,
   "id": "f8c16fbf",
   "metadata": {},
   "outputs": [],
   "source": [
    "internet['session_date'] = pd.to_datetime(internet['session_date'], format='%Y-%m-%d')"
   ]
  },
  {
   "cell_type": "code",
   "execution_count": 284,
   "id": "e955dead",
   "metadata": {},
   "outputs": [
    {
     "name": "stdout",
     "output_type": "stream",
     "text": [
      "<class 'pandas.core.frame.DataFrame'>\n",
      "RangeIndex: 149396 entries, 0 to 149395\n",
      "Data columns (total 4 columns):\n",
      " #   Column        Non-Null Count   Dtype         \n",
      "---  ------        --------------   -----         \n",
      " 0   id            149396 non-null  object        \n",
      " 1   mb_used       149396 non-null  float64       \n",
      " 2   session_date  149396 non-null  datetime64[ns]\n",
      " 3   user_id       149396 non-null  int64         \n",
      "dtypes: datetime64[ns](1), float64(1), int64(1), object(1)\n",
      "memory usage: 4.6+ MB\n"
     ]
    }
   ],
   "source": [
    "internet.info()"
   ]
  },
  {
   "cell_type": "markdown",
   "id": "d7dc3c2f",
   "metadata": {},
   "source": [
    "Т.к. тарификация происходит за Гб произведем замены в колонке mb_used. Заменим колонку \"mb_used\" на \"gb_used\" и разделим все значения на 1024 для перевода Мб в Гб."
   ]
  },
  {
   "cell_type": "code",
   "execution_count": 285,
   "id": "bb2d6d2d",
   "metadata": {},
   "outputs": [
    {
     "data": {
      "text/html": [
       "<div>\n",
       "<style scoped>\n",
       "    .dataframe tbody tr th:only-of-type {\n",
       "        vertical-align: middle;\n",
       "    }\n",
       "\n",
       "    .dataframe tbody tr th {\n",
       "        vertical-align: top;\n",
       "    }\n",
       "\n",
       "    .dataframe thead th {\n",
       "        text-align: right;\n",
       "    }\n",
       "</style>\n",
       "<table border=\"1\" class=\"dataframe\">\n",
       "  <thead>\n",
       "    <tr style=\"text-align: right;\">\n",
       "      <th></th>\n",
       "      <th>id</th>\n",
       "      <th>gb_used</th>\n",
       "      <th>session_date</th>\n",
       "      <th>user_id</th>\n",
       "    </tr>\n",
       "  </thead>\n",
       "  <tbody>\n",
       "    <tr>\n",
       "      <th>0</th>\n",
       "      <td>1000_0</td>\n",
       "      <td>0.110303</td>\n",
       "      <td>2018-11-25</td>\n",
       "      <td>1000</td>\n",
       "    </tr>\n",
       "    <tr>\n",
       "      <th>1</th>\n",
       "      <td>1000_1</td>\n",
       "      <td>1.028135</td>\n",
       "      <td>2018-09-07</td>\n",
       "      <td>1000</td>\n",
       "    </tr>\n",
       "    <tr>\n",
       "      <th>2</th>\n",
       "      <td>1000_2</td>\n",
       "      <td>1.169199</td>\n",
       "      <td>2018-06-25</td>\n",
       "      <td>1000</td>\n",
       "    </tr>\n",
       "    <tr>\n",
       "      <th>3</th>\n",
       "      <td>1000_3</td>\n",
       "      <td>0.537373</td>\n",
       "      <td>2018-08-22</td>\n",
       "      <td>1000</td>\n",
       "    </tr>\n",
       "    <tr>\n",
       "      <th>4</th>\n",
       "      <td>1000_4</td>\n",
       "      <td>0.295469</td>\n",
       "      <td>2018-09-24</td>\n",
       "      <td>1000</td>\n",
       "    </tr>\n",
       "  </tbody>\n",
       "</table>\n",
       "</div>"
      ],
      "text/plain": [
       "       id   gb_used session_date  user_id\n",
       "0  1000_0  0.110303   2018-11-25     1000\n",
       "1  1000_1  1.028135   2018-09-07     1000\n",
       "2  1000_2  1.169199   2018-06-25     1000\n",
       "3  1000_3  0.537373   2018-08-22     1000\n",
       "4  1000_4  0.295469   2018-09-24     1000"
      ]
     },
     "execution_count": 285,
     "metadata": {},
     "output_type": "execute_result"
    }
   ],
   "source": [
    "#переименование столбцов\n",
    "internet = internet.rename(columns = {'mb_used':'gb_used'})\n",
    "internet['gb_used'] = internet['gb_used'] / 1024\n",
    "internet.head()"
   ]
  },
  {
   "cell_type": "code",
   "execution_count": 286,
   "id": "c4803f42",
   "metadata": {},
   "outputs": [
    {
     "name": "stdout",
     "output_type": "stream",
     "text": [
      "Количество задублированных строк в дата сете: 0 шт.\n",
      "\n",
      "Кол-во пропусков в столбеце:   id - 0 шт.\n",
      "Кол-во пропусков в столбеце:   gb_used - 0 шт.\n",
      "Кол-во пропусков в столбеце:   session_date - 0 шт.\n",
      "Кол-во пропусков в столбеце:   user_id - 0 шт.\n",
      "===================================================================\n",
      "Пропусков и дубликатов строк не обнаружено.\n"
     ]
    }
   ],
   "source": [
    "check_dup_nan(internet)"
   ]
  },
  {
   "cell_type": "code",
   "execution_count": 287,
   "id": "081ff170",
   "metadata": {},
   "outputs": [],
   "source": [
    "def function(df):\n",
    "    print ('------------- Краткая информация ------------')\n",
    "    display(df.head())"
   ]
  },
  {
   "cell_type": "markdown",
   "id": "9f98a7f0",
   "metadata": {},
   "source": [
    "## Изучим таблицу tariffs."
   ]
  },
  {
   "cell_type": "code",
   "execution_count": 288,
   "id": "4ded4ba6",
   "metadata": {},
   "outputs": [
    {
     "data": {
      "text/html": [
       "<div>\n",
       "<style scoped>\n",
       "    .dataframe tbody tr th:only-of-type {\n",
       "        vertical-align: middle;\n",
       "    }\n",
       "\n",
       "    .dataframe tbody tr th {\n",
       "        vertical-align: top;\n",
       "    }\n",
       "\n",
       "    .dataframe thead th {\n",
       "        text-align: right;\n",
       "    }\n",
       "</style>\n",
       "<table border=\"1\" class=\"dataframe\">\n",
       "  <thead>\n",
       "    <tr style=\"text-align: right;\">\n",
       "      <th></th>\n",
       "      <th>messages_included</th>\n",
       "      <th>mb_per_month_included</th>\n",
       "      <th>minutes_included</th>\n",
       "      <th>rub_monthly_fee</th>\n",
       "      <th>rub_per_gb</th>\n",
       "      <th>rub_per_message</th>\n",
       "      <th>rub_per_minute</th>\n",
       "      <th>tariff_name</th>\n",
       "    </tr>\n",
       "  </thead>\n",
       "  <tbody>\n",
       "    <tr>\n",
       "      <th>0</th>\n",
       "      <td>50</td>\n",
       "      <td>15360</td>\n",
       "      <td>500</td>\n",
       "      <td>550</td>\n",
       "      <td>200</td>\n",
       "      <td>3</td>\n",
       "      <td>3</td>\n",
       "      <td>smart</td>\n",
       "    </tr>\n",
       "    <tr>\n",
       "      <th>1</th>\n",
       "      <td>1000</td>\n",
       "      <td>30720</td>\n",
       "      <td>3000</td>\n",
       "      <td>1950</td>\n",
       "      <td>150</td>\n",
       "      <td>1</td>\n",
       "      <td>1</td>\n",
       "      <td>ultra</td>\n",
       "    </tr>\n",
       "  </tbody>\n",
       "</table>\n",
       "</div>"
      ],
      "text/plain": [
       "   messages_included  mb_per_month_included  minutes_included  \\\n",
       "0                 50                  15360               500   \n",
       "1               1000                  30720              3000   \n",
       "\n",
       "   rub_monthly_fee  rub_per_gb  rub_per_message  rub_per_minute tariff_name  \n",
       "0              550         200                3               3       smart  \n",
       "1             1950         150                1               1       ultra  "
      ]
     },
     "execution_count": 288,
     "metadata": {},
     "output_type": "execute_result"
    }
   ],
   "source": [
    "tariffs"
   ]
  },
  {
   "cell_type": "code",
   "execution_count": 289,
   "id": "91db8b6e",
   "metadata": {},
   "outputs": [
    {
     "name": "stdout",
     "output_type": "stream",
     "text": [
      "<class 'pandas.core.frame.DataFrame'>\n",
      "RangeIndex: 2 entries, 0 to 1\n",
      "Data columns (total 8 columns):\n",
      " #   Column                 Non-Null Count  Dtype \n",
      "---  ------                 --------------  ----- \n",
      " 0   messages_included      2 non-null      int64 \n",
      " 1   mb_per_month_included  2 non-null      int64 \n",
      " 2   minutes_included       2 non-null      int64 \n",
      " 3   rub_monthly_fee        2 non-null      int64 \n",
      " 4   rub_per_gb             2 non-null      int64 \n",
      " 5   rub_per_message        2 non-null      int64 \n",
      " 6   rub_per_minute         2 non-null      int64 \n",
      " 7   tariff_name            2 non-null      object\n",
      "dtypes: int64(7), object(1)\n",
      "memory usage: 256.0+ bytes\n"
     ]
    }
   ],
   "source": [
    "tariffs.info()"
   ]
  },
  {
   "cell_type": "markdown",
   "id": "60c3ba9e",
   "metadata": {},
   "source": [
    "Колонку \"mb_per_month_included\" переименуем в \"gb_per_month_included\" и заменим в ней данные на Гигабайты. Для перевода используем то, что 1Гб это 1024 Мб."
   ]
  },
  {
   "cell_type": "code",
   "execution_count": 290,
   "id": "f3c7ea10",
   "metadata": {},
   "outputs": [],
   "source": [
    "#переименование столбцов\n",
    "tariffs = tariffs.rename(columns = {'mb_per_month_included':'gb_per_month_included'})\n",
    "tariffs['gb_per_month_included'] = (tariffs['gb_per_month_included'] / 1024).astype('int32')"
   ]
  },
  {
   "cell_type": "code",
   "execution_count": 291,
   "id": "2bb1bf5b",
   "metadata": {},
   "outputs": [
    {
     "data": {
      "text/html": [
       "<div>\n",
       "<style scoped>\n",
       "    .dataframe tbody tr th:only-of-type {\n",
       "        vertical-align: middle;\n",
       "    }\n",
       "\n",
       "    .dataframe tbody tr th {\n",
       "        vertical-align: top;\n",
       "    }\n",
       "\n",
       "    .dataframe thead th {\n",
       "        text-align: right;\n",
       "    }\n",
       "</style>\n",
       "<table border=\"1\" class=\"dataframe\">\n",
       "  <thead>\n",
       "    <tr style=\"text-align: right;\">\n",
       "      <th></th>\n",
       "      <th>messages_included</th>\n",
       "      <th>gb_per_month_included</th>\n",
       "      <th>minutes_included</th>\n",
       "      <th>rub_monthly_fee</th>\n",
       "      <th>rub_per_gb</th>\n",
       "      <th>rub_per_message</th>\n",
       "      <th>rub_per_minute</th>\n",
       "      <th>tariff_name</th>\n",
       "    </tr>\n",
       "  </thead>\n",
       "  <tbody>\n",
       "    <tr>\n",
       "      <th>0</th>\n",
       "      <td>50</td>\n",
       "      <td>15</td>\n",
       "      <td>500</td>\n",
       "      <td>550</td>\n",
       "      <td>200</td>\n",
       "      <td>3</td>\n",
       "      <td>3</td>\n",
       "      <td>smart</td>\n",
       "    </tr>\n",
       "    <tr>\n",
       "      <th>1</th>\n",
       "      <td>1000</td>\n",
       "      <td>30</td>\n",
       "      <td>3000</td>\n",
       "      <td>1950</td>\n",
       "      <td>150</td>\n",
       "      <td>1</td>\n",
       "      <td>1</td>\n",
       "      <td>ultra</td>\n",
       "    </tr>\n",
       "  </tbody>\n",
       "</table>\n",
       "</div>"
      ],
      "text/plain": [
       "   messages_included  gb_per_month_included  minutes_included  \\\n",
       "0                 50                     15               500   \n",
       "1               1000                     30              3000   \n",
       "\n",
       "   rub_monthly_fee  rub_per_gb  rub_per_message  rub_per_minute tariff_name  \n",
       "0              550         200                3               3       smart  \n",
       "1             1950         150                1               1       ultra  "
      ]
     },
     "execution_count": 291,
     "metadata": {},
     "output_type": "execute_result"
    }
   ],
   "source": [
    "tariffs"
   ]
  },
  {
   "cell_type": "code",
   "execution_count": 292,
   "id": "a53e0736",
   "metadata": {},
   "outputs": [
    {
     "name": "stdout",
     "output_type": "stream",
     "text": [
      "<class 'pandas.core.frame.DataFrame'>\n",
      "RangeIndex: 2 entries, 0 to 1\n",
      "Data columns (total 8 columns):\n",
      " #   Column                 Non-Null Count  Dtype \n",
      "---  ------                 --------------  ----- \n",
      " 0   messages_included      2 non-null      int64 \n",
      " 1   gb_per_month_included  2 non-null      int32 \n",
      " 2   minutes_included       2 non-null      int64 \n",
      " 3   rub_monthly_fee        2 non-null      int64 \n",
      " 4   rub_per_gb             2 non-null      int64 \n",
      " 5   rub_per_message        2 non-null      int64 \n",
      " 6   rub_per_minute         2 non-null      int64 \n",
      " 7   tariff_name            2 non-null      object\n",
      "dtypes: int32(1), int64(6), object(1)\n",
      "memory usage: 248.0+ bytes\n"
     ]
    }
   ],
   "source": [
    "tariffs.info()"
   ]
  },
  {
   "cell_type": "code",
   "execution_count": 293,
   "id": "5d65cefc",
   "metadata": {},
   "outputs": [],
   "source": [
    "#tariffs['gb_per_month_included'] = pd.to_numeric(tariffs['gb_per_month_included'], errors='coerce',downcast='integer')"
   ]
  },
  {
   "cell_type": "code",
   "execution_count": 294,
   "id": "35bce9df",
   "metadata": {},
   "outputs": [
    {
     "data": {
      "text/html": [
       "<div>\n",
       "<style scoped>\n",
       "    .dataframe tbody tr th:only-of-type {\n",
       "        vertical-align: middle;\n",
       "    }\n",
       "\n",
       "    .dataframe tbody tr th {\n",
       "        vertical-align: top;\n",
       "    }\n",
       "\n",
       "    .dataframe thead th {\n",
       "        text-align: right;\n",
       "    }\n",
       "</style>\n",
       "<table border=\"1\" class=\"dataframe\">\n",
       "  <thead>\n",
       "    <tr style=\"text-align: right;\">\n",
       "      <th></th>\n",
       "      <th>messages_included</th>\n",
       "      <th>gb_per_month_included</th>\n",
       "      <th>minutes_included</th>\n",
       "      <th>rub_monthly_fee</th>\n",
       "      <th>rub_per_gb</th>\n",
       "      <th>rub_per_message</th>\n",
       "      <th>rub_per_minute</th>\n",
       "      <th>tariff_name</th>\n",
       "    </tr>\n",
       "  </thead>\n",
       "  <tbody>\n",
       "    <tr>\n",
       "      <th>0</th>\n",
       "      <td>50</td>\n",
       "      <td>15</td>\n",
       "      <td>500</td>\n",
       "      <td>550</td>\n",
       "      <td>200</td>\n",
       "      <td>3</td>\n",
       "      <td>3</td>\n",
       "      <td>smart</td>\n",
       "    </tr>\n",
       "    <tr>\n",
       "      <th>1</th>\n",
       "      <td>1000</td>\n",
       "      <td>30</td>\n",
       "      <td>3000</td>\n",
       "      <td>1950</td>\n",
       "      <td>150</td>\n",
       "      <td>1</td>\n",
       "      <td>1</td>\n",
       "      <td>ultra</td>\n",
       "    </tr>\n",
       "  </tbody>\n",
       "</table>\n",
       "</div>"
      ],
      "text/plain": [
       "   messages_included  gb_per_month_included  minutes_included  \\\n",
       "0                 50                     15               500   \n",
       "1               1000                     30              3000   \n",
       "\n",
       "   rub_monthly_fee  rub_per_gb  rub_per_message  rub_per_minute tariff_name  \n",
       "0              550         200                3               3       smart  \n",
       "1             1950         150                1               1       ultra  "
      ]
     },
     "execution_count": 294,
     "metadata": {},
     "output_type": "execute_result"
    }
   ],
   "source": [
    "tariffs"
   ]
  },
  {
   "cell_type": "code",
   "execution_count": 295,
   "id": "7a3c64a4",
   "metadata": {},
   "outputs": [
    {
     "name": "stdout",
     "output_type": "stream",
     "text": [
      "<class 'pandas.core.frame.DataFrame'>\n",
      "RangeIndex: 2 entries, 0 to 1\n",
      "Data columns (total 8 columns):\n",
      " #   Column                 Non-Null Count  Dtype \n",
      "---  ------                 --------------  ----- \n",
      " 0   messages_included      2 non-null      int64 \n",
      " 1   gb_per_month_included  2 non-null      int32 \n",
      " 2   minutes_included       2 non-null      int64 \n",
      " 3   rub_monthly_fee        2 non-null      int64 \n",
      " 4   rub_per_gb             2 non-null      int64 \n",
      " 5   rub_per_message        2 non-null      int64 \n",
      " 6   rub_per_minute         2 non-null      int64 \n",
      " 7   tariff_name            2 non-null      object\n",
      "dtypes: int32(1), int64(6), object(1)\n",
      "memory usage: 248.0+ bytes\n"
     ]
    }
   ],
   "source": [
    "tariffs.info()"
   ]
  },
  {
   "cell_type": "code",
   "execution_count": 296,
   "id": "a84aaf24",
   "metadata": {},
   "outputs": [
    {
     "name": "stdout",
     "output_type": "stream",
     "text": [
      "Количество задублированных строк в дата сете: 0 шт.\n",
      "\n",
      "Кол-во пропусков в столбеце:   messages_included - 0 шт.\n",
      "Кол-во пропусков в столбеце:   gb_per_month_included - 0 шт.\n",
      "Кол-во пропусков в столбеце:   minutes_included - 0 шт.\n",
      "Кол-во пропусков в столбеце:   rub_monthly_fee - 0 шт.\n",
      "Кол-во пропусков в столбеце:   rub_per_gb - 0 шт.\n",
      "Кол-во пропусков в столбеце:   rub_per_message - 0 шт.\n",
      "Кол-во пропусков в столбеце:   rub_per_minute - 0 шт.\n",
      "Кол-во пропусков в столбеце:   tariff_name - 0 шт.\n",
      "===================================================================\n",
      "Пропусков и дубликатов строк не обнаружено.\n"
     ]
    }
   ],
   "source": [
    "check_dup_nan(tariffs)"
   ]
  },
  {
   "cell_type": "markdown",
   "id": "c2d38cf2",
   "metadata": {},
   "source": [
    "## Подсчет заданных характеристик для каждого пользователя"
   ]
  },
  {
   "cell_type": "markdown",
   "id": "d5a3bb7e",
   "metadata": {},
   "source": [
    "Необходимо добавить в таблицs calls, messages, internet столбец month."
   ]
  },
  {
   "cell_type": "code",
   "execution_count": 297,
   "id": "1a67ec76",
   "metadata": {},
   "outputs": [
    {
     "data": {
      "text/html": [
       "<div>\n",
       "<style scoped>\n",
       "    .dataframe tbody tr th:only-of-type {\n",
       "        vertical-align: middle;\n",
       "    }\n",
       "\n",
       "    .dataframe tbody tr th {\n",
       "        vertical-align: top;\n",
       "    }\n",
       "\n",
       "    .dataframe thead th {\n",
       "        text-align: right;\n",
       "    }\n",
       "</style>\n",
       "<table border=\"1\" class=\"dataframe\">\n",
       "  <thead>\n",
       "    <tr style=\"text-align: right;\">\n",
       "      <th></th>\n",
       "      <th>id</th>\n",
       "      <th>call_date</th>\n",
       "      <th>duration</th>\n",
       "      <th>user_id</th>\n",
       "    </tr>\n",
       "  </thead>\n",
       "  <tbody>\n",
       "    <tr>\n",
       "      <th>0</th>\n",
       "      <td>1000_0</td>\n",
       "      <td>2018-07-25</td>\n",
       "      <td>0</td>\n",
       "      <td>1000</td>\n",
       "    </tr>\n",
       "    <tr>\n",
       "      <th>1</th>\n",
       "      <td>1000_1</td>\n",
       "      <td>2018-08-17</td>\n",
       "      <td>0</td>\n",
       "      <td>1000</td>\n",
       "    </tr>\n",
       "    <tr>\n",
       "      <th>2</th>\n",
       "      <td>1000_2</td>\n",
       "      <td>2018-06-11</td>\n",
       "      <td>3</td>\n",
       "      <td>1000</td>\n",
       "    </tr>\n",
       "    <tr>\n",
       "      <th>3</th>\n",
       "      <td>1000_3</td>\n",
       "      <td>2018-09-21</td>\n",
       "      <td>14</td>\n",
       "      <td>1000</td>\n",
       "    </tr>\n",
       "    <tr>\n",
       "      <th>4</th>\n",
       "      <td>1000_4</td>\n",
       "      <td>2018-12-15</td>\n",
       "      <td>6</td>\n",
       "      <td>1000</td>\n",
       "    </tr>\n",
       "  </tbody>\n",
       "</table>\n",
       "</div>"
      ],
      "text/plain": [
       "       id  call_date  duration  user_id\n",
       "0  1000_0 2018-07-25         0     1000\n",
       "1  1000_1 2018-08-17         0     1000\n",
       "2  1000_2 2018-06-11         3     1000\n",
       "3  1000_3 2018-09-21        14     1000\n",
       "4  1000_4 2018-12-15         6     1000"
      ]
     },
     "execution_count": 297,
     "metadata": {},
     "output_type": "execute_result"
    }
   ],
   "source": [
    "calls.head()"
   ]
  },
  {
   "cell_type": "code",
   "execution_count": 298,
   "id": "3b29c1d4",
   "metadata": {},
   "outputs": [],
   "source": [
    "calls['month'] = calls['call_date'].astype('datetime64[M]')\n",
    "messages['month'] = messages['message_date'].astype('datetime64[M]')\n",
    "internet['month'] = internet['session_date'].astype('datetime64[M]')"
   ]
  },
  {
   "cell_type": "code",
   "execution_count": 299,
   "id": "00ee69c3",
   "metadata": {},
   "outputs": [
    {
     "data": {
      "text/html": [
       "<div>\n",
       "<style scoped>\n",
       "    .dataframe tbody tr th:only-of-type {\n",
       "        vertical-align: middle;\n",
       "    }\n",
       "\n",
       "    .dataframe tbody tr th {\n",
       "        vertical-align: top;\n",
       "    }\n",
       "\n",
       "    .dataframe thead th {\n",
       "        text-align: right;\n",
       "    }\n",
       "</style>\n",
       "<table border=\"1\" class=\"dataframe\">\n",
       "  <thead>\n",
       "    <tr style=\"text-align: right;\">\n",
       "      <th></th>\n",
       "      <th>id</th>\n",
       "      <th>call_date</th>\n",
       "      <th>duration</th>\n",
       "      <th>user_id</th>\n",
       "      <th>month</th>\n",
       "    </tr>\n",
       "  </thead>\n",
       "  <tbody>\n",
       "    <tr>\n",
       "      <th>0</th>\n",
       "      <td>1000_0</td>\n",
       "      <td>2018-07-25</td>\n",
       "      <td>0</td>\n",
       "      <td>1000</td>\n",
       "      <td>2018-07-01</td>\n",
       "    </tr>\n",
       "    <tr>\n",
       "      <th>1</th>\n",
       "      <td>1000_1</td>\n",
       "      <td>2018-08-17</td>\n",
       "      <td>0</td>\n",
       "      <td>1000</td>\n",
       "      <td>2018-08-01</td>\n",
       "    </tr>\n",
       "    <tr>\n",
       "      <th>2</th>\n",
       "      <td>1000_2</td>\n",
       "      <td>2018-06-11</td>\n",
       "      <td>3</td>\n",
       "      <td>1000</td>\n",
       "      <td>2018-06-01</td>\n",
       "    </tr>\n",
       "    <tr>\n",
       "      <th>3</th>\n",
       "      <td>1000_3</td>\n",
       "      <td>2018-09-21</td>\n",
       "      <td>14</td>\n",
       "      <td>1000</td>\n",
       "      <td>2018-09-01</td>\n",
       "    </tr>\n",
       "    <tr>\n",
       "      <th>4</th>\n",
       "      <td>1000_4</td>\n",
       "      <td>2018-12-15</td>\n",
       "      <td>6</td>\n",
       "      <td>1000</td>\n",
       "      <td>2018-12-01</td>\n",
       "    </tr>\n",
       "  </tbody>\n",
       "</table>\n",
       "</div>"
      ],
      "text/plain": [
       "       id  call_date  duration  user_id      month\n",
       "0  1000_0 2018-07-25         0     1000 2018-07-01\n",
       "1  1000_1 2018-08-17         0     1000 2018-08-01\n",
       "2  1000_2 2018-06-11         3     1000 2018-06-01\n",
       "3  1000_3 2018-09-21        14     1000 2018-09-01\n",
       "4  1000_4 2018-12-15         6     1000 2018-12-01"
      ]
     },
     "execution_count": 299,
     "metadata": {},
     "output_type": "execute_result"
    }
   ],
   "source": [
    "calls.head()"
   ]
  },
  {
   "cell_type": "code",
   "execution_count": 300,
   "id": "571a26ac",
   "metadata": {},
   "outputs": [
    {
     "data": {
      "text/html": [
       "<div>\n",
       "<style scoped>\n",
       "    .dataframe tbody tr th:only-of-type {\n",
       "        vertical-align: middle;\n",
       "    }\n",
       "\n",
       "    .dataframe tbody tr th {\n",
       "        vertical-align: top;\n",
       "    }\n",
       "\n",
       "    .dataframe thead th {\n",
       "        text-align: right;\n",
       "    }\n",
       "</style>\n",
       "<table border=\"1\" class=\"dataframe\">\n",
       "  <thead>\n",
       "    <tr style=\"text-align: right;\">\n",
       "      <th></th>\n",
       "      <th>id</th>\n",
       "      <th>message_date</th>\n",
       "      <th>user_id</th>\n",
       "      <th>month</th>\n",
       "    </tr>\n",
       "  </thead>\n",
       "  <tbody>\n",
       "    <tr>\n",
       "      <th>0</th>\n",
       "      <td>1000_0</td>\n",
       "      <td>2018-06-27</td>\n",
       "      <td>1000</td>\n",
       "      <td>2018-06-01</td>\n",
       "    </tr>\n",
       "    <tr>\n",
       "      <th>1</th>\n",
       "      <td>1000_1</td>\n",
       "      <td>2018-10-08</td>\n",
       "      <td>1000</td>\n",
       "      <td>2018-10-01</td>\n",
       "    </tr>\n",
       "    <tr>\n",
       "      <th>2</th>\n",
       "      <td>1000_2</td>\n",
       "      <td>2018-08-04</td>\n",
       "      <td>1000</td>\n",
       "      <td>2018-08-01</td>\n",
       "    </tr>\n",
       "    <tr>\n",
       "      <th>3</th>\n",
       "      <td>1000_3</td>\n",
       "      <td>2018-06-16</td>\n",
       "      <td>1000</td>\n",
       "      <td>2018-06-01</td>\n",
       "    </tr>\n",
       "    <tr>\n",
       "      <th>4</th>\n",
       "      <td>1000_4</td>\n",
       "      <td>2018-12-05</td>\n",
       "      <td>1000</td>\n",
       "      <td>2018-12-01</td>\n",
       "    </tr>\n",
       "  </tbody>\n",
       "</table>\n",
       "</div>"
      ],
      "text/plain": [
       "       id message_date  user_id      month\n",
       "0  1000_0   2018-06-27     1000 2018-06-01\n",
       "1  1000_1   2018-10-08     1000 2018-10-01\n",
       "2  1000_2   2018-08-04     1000 2018-08-01\n",
       "3  1000_3   2018-06-16     1000 2018-06-01\n",
       "4  1000_4   2018-12-05     1000 2018-12-01"
      ]
     },
     "execution_count": 300,
     "metadata": {},
     "output_type": "execute_result"
    }
   ],
   "source": [
    "messages.head()"
   ]
  },
  {
   "cell_type": "code",
   "execution_count": 301,
   "id": "74c44745",
   "metadata": {},
   "outputs": [
    {
     "data": {
      "text/html": [
       "<div>\n",
       "<style scoped>\n",
       "    .dataframe tbody tr th:only-of-type {\n",
       "        vertical-align: middle;\n",
       "    }\n",
       "\n",
       "    .dataframe tbody tr th {\n",
       "        vertical-align: top;\n",
       "    }\n",
       "\n",
       "    .dataframe thead th {\n",
       "        text-align: right;\n",
       "    }\n",
       "</style>\n",
       "<table border=\"1\" class=\"dataframe\">\n",
       "  <thead>\n",
       "    <tr style=\"text-align: right;\">\n",
       "      <th></th>\n",
       "      <th>id</th>\n",
       "      <th>gb_used</th>\n",
       "      <th>session_date</th>\n",
       "      <th>user_id</th>\n",
       "      <th>month</th>\n",
       "    </tr>\n",
       "  </thead>\n",
       "  <tbody>\n",
       "    <tr>\n",
       "      <th>0</th>\n",
       "      <td>1000_0</td>\n",
       "      <td>0.110303</td>\n",
       "      <td>2018-11-25</td>\n",
       "      <td>1000</td>\n",
       "      <td>2018-11-01</td>\n",
       "    </tr>\n",
       "    <tr>\n",
       "      <th>1</th>\n",
       "      <td>1000_1</td>\n",
       "      <td>1.028135</td>\n",
       "      <td>2018-09-07</td>\n",
       "      <td>1000</td>\n",
       "      <td>2018-09-01</td>\n",
       "    </tr>\n",
       "    <tr>\n",
       "      <th>2</th>\n",
       "      <td>1000_2</td>\n",
       "      <td>1.169199</td>\n",
       "      <td>2018-06-25</td>\n",
       "      <td>1000</td>\n",
       "      <td>2018-06-01</td>\n",
       "    </tr>\n",
       "    <tr>\n",
       "      <th>3</th>\n",
       "      <td>1000_3</td>\n",
       "      <td>0.537373</td>\n",
       "      <td>2018-08-22</td>\n",
       "      <td>1000</td>\n",
       "      <td>2018-08-01</td>\n",
       "    </tr>\n",
       "    <tr>\n",
       "      <th>4</th>\n",
       "      <td>1000_4</td>\n",
       "      <td>0.295469</td>\n",
       "      <td>2018-09-24</td>\n",
       "      <td>1000</td>\n",
       "      <td>2018-09-01</td>\n",
       "    </tr>\n",
       "  </tbody>\n",
       "</table>\n",
       "</div>"
      ],
      "text/plain": [
       "       id   gb_used session_date  user_id      month\n",
       "0  1000_0  0.110303   2018-11-25     1000 2018-11-01\n",
       "1  1000_1  1.028135   2018-09-07     1000 2018-09-01\n",
       "2  1000_2  1.169199   2018-06-25     1000 2018-06-01\n",
       "3  1000_3  0.537373   2018-08-22     1000 2018-08-01\n",
       "4  1000_4  0.295469   2018-09-24     1000 2018-09-01"
      ]
     },
     "execution_count": 301,
     "metadata": {},
     "output_type": "execute_result"
    }
   ],
   "source": [
    "internet.head()"
   ]
  },
  {
   "cell_type": "markdown",
   "id": "d4a78713",
   "metadata": {},
   "source": [
    "## Подсчитаем количественные характеристики общения для каждого пользователя по месяцам."
   ]
  },
  {
   "cell_type": "code",
   "execution_count": 302,
   "id": "b052a313",
   "metadata": {},
   "outputs": [],
   "source": [
    "calls_sum = calls.pivot_table(values='duration', index=['user_id', 'month'], aggfunc=['count', 'sum'])\n",
    "messages_sum = messages.pivot_table(values='id', index=['user_id', 'month'], aggfunc=['count'])\n",
    "internet_sum = internet.pivot_table(values='gb_used', index=['user_id', 'month'], aggfunc=['sum']).reset_index()\n",
    "#internet_sum.reset_index(inplace=True)\n",
    "calls_sum.reset_index(inplace=True)\n",
    "messages_sum.reset_index(inplace=True)\n"
   ]
  },
  {
   "cell_type": "code",
   "execution_count": 303,
   "id": "ecd9fd66",
   "metadata": {},
   "outputs": [
    {
     "data": {
      "text/html": [
       "<div>\n",
       "<style scoped>\n",
       "    .dataframe tbody tr th:only-of-type {\n",
       "        vertical-align: middle;\n",
       "    }\n",
       "\n",
       "    .dataframe tbody tr th {\n",
       "        vertical-align: top;\n",
       "    }\n",
       "\n",
       "    .dataframe thead tr th {\n",
       "        text-align: left;\n",
       "    }\n",
       "</style>\n",
       "<table border=\"1\" class=\"dataframe\">\n",
       "  <thead>\n",
       "    <tr>\n",
       "      <th></th>\n",
       "      <th>user_id</th>\n",
       "      <th>month</th>\n",
       "      <th>sum</th>\n",
       "    </tr>\n",
       "    <tr>\n",
       "      <th></th>\n",
       "      <th></th>\n",
       "      <th></th>\n",
       "      <th>gb_used</th>\n",
       "    </tr>\n",
       "  </thead>\n",
       "  <tbody>\n",
       "    <tr>\n",
       "      <th>0</th>\n",
       "      <td>1000</td>\n",
       "      <td>2018-05-01</td>\n",
       "      <td>2.200674</td>\n",
       "    </tr>\n",
       "    <tr>\n",
       "      <th>1</th>\n",
       "      <td>1000</td>\n",
       "      <td>2018-06-01</td>\n",
       "      <td>22.689229</td>\n",
       "    </tr>\n",
       "    <tr>\n",
       "      <th>2</th>\n",
       "      <td>1000</td>\n",
       "      <td>2018-07-01</td>\n",
       "      <td>13.675430</td>\n",
       "    </tr>\n",
       "    <tr>\n",
       "      <th>3</th>\n",
       "      <td>1000</td>\n",
       "      <td>2018-08-01</td>\n",
       "      <td>13.726494</td>\n",
       "    </tr>\n",
       "    <tr>\n",
       "      <th>4</th>\n",
       "      <td>1000</td>\n",
       "      <td>2018-09-01</td>\n",
       "      <td>14.227451</td>\n",
       "    </tr>\n",
       "  </tbody>\n",
       "</table>\n",
       "</div>"
      ],
      "text/plain": [
       "  user_id      month        sum\n",
       "                        gb_used\n",
       "0    1000 2018-05-01   2.200674\n",
       "1    1000 2018-06-01  22.689229\n",
       "2    1000 2018-07-01  13.675430\n",
       "3    1000 2018-08-01  13.726494\n",
       "4    1000 2018-09-01  14.227451"
      ]
     },
     "execution_count": 303,
     "metadata": {},
     "output_type": "execute_result"
    }
   ],
   "source": [
    "internet_sum.head()"
   ]
  },
  {
   "cell_type": "markdown",
   "id": "28048373",
   "metadata": {},
   "source": [
    "Т.к. по условиям задачи, для веб-трафика отдельные сессии не считаются. Вместо этого общая сумма за месяц округляется в бо́льшую сторону. Если абонент использует 1025 мегабайт в этом месяце, с него возьмут плату за 2 гигабайта. Необходимо округлить все данные в колонке \"sum / gb_used\" до большего целого числа и переведем значения в тип данных - целочисленный."
   ]
  },
  {
   "cell_type": "code",
   "execution_count": 304,
   "id": "97746693",
   "metadata": {},
   "outputs": [
    {
     "data": {
      "text/html": [
       "<div>\n",
       "<style scoped>\n",
       "    .dataframe tbody tr th:only-of-type {\n",
       "        vertical-align: middle;\n",
       "    }\n",
       "\n",
       "    .dataframe tbody tr th {\n",
       "        vertical-align: top;\n",
       "    }\n",
       "\n",
       "    .dataframe thead tr th {\n",
       "        text-align: left;\n",
       "    }\n",
       "</style>\n",
       "<table border=\"1\" class=\"dataframe\">\n",
       "  <thead>\n",
       "    <tr>\n",
       "      <th></th>\n",
       "      <th>user_id</th>\n",
       "      <th>month</th>\n",
       "      <th>sum</th>\n",
       "    </tr>\n",
       "    <tr>\n",
       "      <th></th>\n",
       "      <th></th>\n",
       "      <th></th>\n",
       "      <th>gb_used</th>\n",
       "    </tr>\n",
       "  </thead>\n",
       "  <tbody>\n",
       "    <tr>\n",
       "      <th>0</th>\n",
       "      <td>1000</td>\n",
       "      <td>2018-05-01</td>\n",
       "      <td>3</td>\n",
       "    </tr>\n",
       "    <tr>\n",
       "      <th>1</th>\n",
       "      <td>1000</td>\n",
       "      <td>2018-06-01</td>\n",
       "      <td>23</td>\n",
       "    </tr>\n",
       "    <tr>\n",
       "      <th>2</th>\n",
       "      <td>1000</td>\n",
       "      <td>2018-07-01</td>\n",
       "      <td>14</td>\n",
       "    </tr>\n",
       "    <tr>\n",
       "      <th>3</th>\n",
       "      <td>1000</td>\n",
       "      <td>2018-08-01</td>\n",
       "      <td>14</td>\n",
       "    </tr>\n",
       "    <tr>\n",
       "      <th>4</th>\n",
       "      <td>1000</td>\n",
       "      <td>2018-09-01</td>\n",
       "      <td>15</td>\n",
       "    </tr>\n",
       "  </tbody>\n",
       "</table>\n",
       "</div>"
      ],
      "text/plain": [
       "  user_id      month     sum\n",
       "                     gb_used\n",
       "0    1000 2018-05-01       3\n",
       "1    1000 2018-06-01      23\n",
       "2    1000 2018-07-01      14\n",
       "3    1000 2018-08-01      14\n",
       "4    1000 2018-09-01      15"
      ]
     },
     "execution_count": 304,
     "metadata": {},
     "output_type": "execute_result"
    }
   ],
   "source": [
    "internet_sum['sum', 'gb_used'] = np.ceil(internet_sum['sum', 'gb_used']).astype('int32')\n",
    "internet_sum.head()"
   ]
  },
  {
   "cell_type": "code",
   "execution_count": 305,
   "id": "6f62bc12",
   "metadata": {},
   "outputs": [
    {
     "data": {
      "text/html": [
       "<div>\n",
       "<style scoped>\n",
       "    .dataframe tbody tr th:only-of-type {\n",
       "        vertical-align: middle;\n",
       "    }\n",
       "\n",
       "    .dataframe tbody tr th {\n",
       "        vertical-align: top;\n",
       "    }\n",
       "\n",
       "    .dataframe thead tr th {\n",
       "        text-align: left;\n",
       "    }\n",
       "</style>\n",
       "<table border=\"1\" class=\"dataframe\">\n",
       "  <thead>\n",
       "    <tr>\n",
       "      <th></th>\n",
       "      <th>user_id</th>\n",
       "      <th>month</th>\n",
       "      <th>count</th>\n",
       "      <th>sum</th>\n",
       "    </tr>\n",
       "    <tr>\n",
       "      <th></th>\n",
       "      <th></th>\n",
       "      <th></th>\n",
       "      <th>duration</th>\n",
       "      <th>duration</th>\n",
       "    </tr>\n",
       "  </thead>\n",
       "  <tbody>\n",
       "    <tr>\n",
       "      <th>0</th>\n",
       "      <td>1000</td>\n",
       "      <td>2018-05-01</td>\n",
       "      <td>22</td>\n",
       "      <td>159</td>\n",
       "    </tr>\n",
       "    <tr>\n",
       "      <th>1</th>\n",
       "      <td>1000</td>\n",
       "      <td>2018-06-01</td>\n",
       "      <td>43</td>\n",
       "      <td>172</td>\n",
       "    </tr>\n",
       "    <tr>\n",
       "      <th>2</th>\n",
       "      <td>1000</td>\n",
       "      <td>2018-07-01</td>\n",
       "      <td>47</td>\n",
       "      <td>340</td>\n",
       "    </tr>\n",
       "    <tr>\n",
       "      <th>3</th>\n",
       "      <td>1000</td>\n",
       "      <td>2018-08-01</td>\n",
       "      <td>52</td>\n",
       "      <td>408</td>\n",
       "    </tr>\n",
       "    <tr>\n",
       "      <th>4</th>\n",
       "      <td>1000</td>\n",
       "      <td>2018-09-01</td>\n",
       "      <td>58</td>\n",
       "      <td>466</td>\n",
       "    </tr>\n",
       "  </tbody>\n",
       "</table>\n",
       "</div>"
      ],
      "text/plain": [
       "  user_id      month    count      sum\n",
       "                     duration duration\n",
       "0    1000 2018-05-01       22      159\n",
       "1    1000 2018-06-01       43      172\n",
       "2    1000 2018-07-01       47      340\n",
       "3    1000 2018-08-01       52      408\n",
       "4    1000 2018-09-01       58      466"
      ]
     },
     "execution_count": 305,
     "metadata": {},
     "output_type": "execute_result"
    }
   ],
   "source": [
    "calls_sum.head()"
   ]
  },
  {
   "cell_type": "code",
   "execution_count": 306,
   "id": "1f4475df",
   "metadata": {},
   "outputs": [
    {
     "data": {
      "text/html": [
       "<div>\n",
       "<style scoped>\n",
       "    .dataframe tbody tr th:only-of-type {\n",
       "        vertical-align: middle;\n",
       "    }\n",
       "\n",
       "    .dataframe tbody tr th {\n",
       "        vertical-align: top;\n",
       "    }\n",
       "\n",
       "    .dataframe thead tr th {\n",
       "        text-align: left;\n",
       "    }\n",
       "</style>\n",
       "<table border=\"1\" class=\"dataframe\">\n",
       "  <thead>\n",
       "    <tr>\n",
       "      <th></th>\n",
       "      <th>user_id</th>\n",
       "      <th>month</th>\n",
       "      <th>count</th>\n",
       "    </tr>\n",
       "    <tr>\n",
       "      <th></th>\n",
       "      <th></th>\n",
       "      <th></th>\n",
       "      <th>id</th>\n",
       "    </tr>\n",
       "  </thead>\n",
       "  <tbody>\n",
       "    <tr>\n",
       "      <th>0</th>\n",
       "      <td>1000</td>\n",
       "      <td>2018-05-01</td>\n",
       "      <td>22</td>\n",
       "    </tr>\n",
       "    <tr>\n",
       "      <th>1</th>\n",
       "      <td>1000</td>\n",
       "      <td>2018-06-01</td>\n",
       "      <td>60</td>\n",
       "    </tr>\n",
       "    <tr>\n",
       "      <th>2</th>\n",
       "      <td>1000</td>\n",
       "      <td>2018-07-01</td>\n",
       "      <td>75</td>\n",
       "    </tr>\n",
       "    <tr>\n",
       "      <th>3</th>\n",
       "      <td>1000</td>\n",
       "      <td>2018-08-01</td>\n",
       "      <td>81</td>\n",
       "    </tr>\n",
       "    <tr>\n",
       "      <th>4</th>\n",
       "      <td>1000</td>\n",
       "      <td>2018-09-01</td>\n",
       "      <td>57</td>\n",
       "    </tr>\n",
       "  </tbody>\n",
       "</table>\n",
       "</div>"
      ],
      "text/plain": [
       "  user_id      month count\n",
       "                        id\n",
       "0    1000 2018-05-01    22\n",
       "1    1000 2018-06-01    60\n",
       "2    1000 2018-07-01    75\n",
       "3    1000 2018-08-01    81\n",
       "4    1000 2018-09-01    57"
      ]
     },
     "execution_count": 306,
     "metadata": {},
     "output_type": "execute_result"
    }
   ],
   "source": [
    "messages_sum.head()"
   ]
  },
  {
   "cell_type": "markdown",
   "id": "0299d563",
   "metadata": {},
   "source": [
    "## Определим месячную выручку.\n",
    "### Посчитаем прибыль по месячно за превышение минут разговоров.\n",
    "    С каждого пользователя (вычтем бесплатный лимит из суммарного количества звонков, сообщений и интернет-трафика; остаток умножим на значение из тарифного плана; прибавим абонентскую плату, соответствующую тарифному плану)."
   ]
  },
  {
   "cell_type": "code",
   "execution_count": 307,
   "id": "6141671b",
   "metadata": {},
   "outputs": [
    {
     "data": {
      "text/html": [
       "<div>\n",
       "<style scoped>\n",
       "    .dataframe tbody tr th:only-of-type {\n",
       "        vertical-align: middle;\n",
       "    }\n",
       "\n",
       "    .dataframe tbody tr th {\n",
       "        vertical-align: top;\n",
       "    }\n",
       "\n",
       "    .dataframe thead th {\n",
       "        text-align: right;\n",
       "    }\n",
       "</style>\n",
       "<table border=\"1\" class=\"dataframe\">\n",
       "  <thead>\n",
       "    <tr style=\"text-align: right;\">\n",
       "      <th></th>\n",
       "      <th>user_id</th>\n",
       "      <th>age</th>\n",
       "      <th>churn_date</th>\n",
       "      <th>city</th>\n",
       "      <th>first_name</th>\n",
       "      <th>last_name</th>\n",
       "      <th>reg_date</th>\n",
       "      <th>tariff</th>\n",
       "    </tr>\n",
       "  </thead>\n",
       "  <tbody>\n",
       "    <tr>\n",
       "      <th>0</th>\n",
       "      <td>1000</td>\n",
       "      <td>52</td>\n",
       "      <td>NaT</td>\n",
       "      <td>Краснодар</td>\n",
       "      <td>Рафаил</td>\n",
       "      <td>Верещагин</td>\n",
       "      <td>2018-05-25</td>\n",
       "      <td>ultra</td>\n",
       "    </tr>\n",
       "    <tr>\n",
       "      <th>1</th>\n",
       "      <td>1001</td>\n",
       "      <td>41</td>\n",
       "      <td>NaT</td>\n",
       "      <td>Москва</td>\n",
       "      <td>Иван</td>\n",
       "      <td>Ежов</td>\n",
       "      <td>2018-11-01</td>\n",
       "      <td>smart</td>\n",
       "    </tr>\n",
       "    <tr>\n",
       "      <th>2</th>\n",
       "      <td>1002</td>\n",
       "      <td>59</td>\n",
       "      <td>NaT</td>\n",
       "      <td>Стерлитамак</td>\n",
       "      <td>Евгений</td>\n",
       "      <td>Абрамович</td>\n",
       "      <td>2018-06-17</td>\n",
       "      <td>smart</td>\n",
       "    </tr>\n",
       "    <tr>\n",
       "      <th>3</th>\n",
       "      <td>1003</td>\n",
       "      <td>23</td>\n",
       "      <td>NaT</td>\n",
       "      <td>Москва</td>\n",
       "      <td>Белла</td>\n",
       "      <td>Белякова</td>\n",
       "      <td>2018-08-17</td>\n",
       "      <td>ultra</td>\n",
       "    </tr>\n",
       "    <tr>\n",
       "      <th>4</th>\n",
       "      <td>1004</td>\n",
       "      <td>68</td>\n",
       "      <td>NaT</td>\n",
       "      <td>Новокузнецк</td>\n",
       "      <td>Татьяна</td>\n",
       "      <td>Авдеенко</td>\n",
       "      <td>2018-05-14</td>\n",
       "      <td>ultra</td>\n",
       "    </tr>\n",
       "  </tbody>\n",
       "</table>\n",
       "</div>"
      ],
      "text/plain": [
       "   user_id  age churn_date         city first_name  last_name   reg_date  \\\n",
       "0     1000   52        NaT    Краснодар     Рафаил  Верещагин 2018-05-25   \n",
       "1     1001   41        NaT       Москва       Иван       Ежов 2018-11-01   \n",
       "2     1002   59        NaT  Стерлитамак    Евгений  Абрамович 2018-06-17   \n",
       "3     1003   23        NaT       Москва      Белла   Белякова 2018-08-17   \n",
       "4     1004   68        NaT  Новокузнецк    Татьяна   Авдеенко 2018-05-14   \n",
       "\n",
       "  tariff  \n",
       "0  ultra  \n",
       "1  smart  \n",
       "2  smart  \n",
       "3  ultra  \n",
       "4  ultra  "
      ]
     },
     "execution_count": 307,
     "metadata": {},
     "output_type": "execute_result"
    }
   ],
   "source": [
    "users.head()"
   ]
  },
  {
   "cell_type": "code",
   "execution_count": 308,
   "id": "ca561159",
   "metadata": {},
   "outputs": [
    {
     "data": {
      "text/html": [
       "<div>\n",
       "<style scoped>\n",
       "    .dataframe tbody tr th:only-of-type {\n",
       "        vertical-align: middle;\n",
       "    }\n",
       "\n",
       "    .dataframe tbody tr th {\n",
       "        vertical-align: top;\n",
       "    }\n",
       "\n",
       "    .dataframe thead th {\n",
       "        text-align: right;\n",
       "    }\n",
       "</style>\n",
       "<table border=\"1\" class=\"dataframe\">\n",
       "  <thead>\n",
       "    <tr style=\"text-align: right;\">\n",
       "      <th></th>\n",
       "      <th>messages_included</th>\n",
       "      <th>gb_per_month_included</th>\n",
       "      <th>minutes_included</th>\n",
       "      <th>rub_monthly_fee</th>\n",
       "      <th>rub_per_gb</th>\n",
       "      <th>rub_per_message</th>\n",
       "      <th>rub_per_minute</th>\n",
       "      <th>tariff_name</th>\n",
       "    </tr>\n",
       "  </thead>\n",
       "  <tbody>\n",
       "    <tr>\n",
       "      <th>0</th>\n",
       "      <td>50</td>\n",
       "      <td>15</td>\n",
       "      <td>500</td>\n",
       "      <td>550</td>\n",
       "      <td>200</td>\n",
       "      <td>3</td>\n",
       "      <td>3</td>\n",
       "      <td>smart</td>\n",
       "    </tr>\n",
       "    <tr>\n",
       "      <th>1</th>\n",
       "      <td>1000</td>\n",
       "      <td>30</td>\n",
       "      <td>3000</td>\n",
       "      <td>1950</td>\n",
       "      <td>150</td>\n",
       "      <td>1</td>\n",
       "      <td>1</td>\n",
       "      <td>ultra</td>\n",
       "    </tr>\n",
       "  </tbody>\n",
       "</table>\n",
       "</div>"
      ],
      "text/plain": [
       "   messages_included  gb_per_month_included  minutes_included  \\\n",
       "0                 50                     15               500   \n",
       "1               1000                     30              3000   \n",
       "\n",
       "   rub_monthly_fee  rub_per_gb  rub_per_message  rub_per_minute tariff_name  \n",
       "0              550         200                3               3       smart  \n",
       "1             1950         150                1               1       ultra  "
      ]
     },
     "execution_count": 308,
     "metadata": {},
     "output_type": "execute_result"
    }
   ],
   "source": [
    "tariffs"
   ]
  },
  {
   "cell_type": "markdown",
   "id": "cf53140d",
   "metadata": {},
   "source": [
    "### Добавим колонки tariff и over_min_payment_rub - тариф и переплата за минуты сверх лимита соответственно."
   ]
  },
  {
   "cell_type": "markdown",
   "id": "e5b7a71f",
   "metadata": {},
   "source": [
    "### Для дальнейшей работы с таблицами необходимо избавится от мультииндекса. Пересоберем дата сеты."
   ]
  },
  {
   "cell_type": "markdown",
   "id": "d37c7534",
   "metadata": {},
   "source": [
    "## 1. internet"
   ]
  },
  {
   "cell_type": "code",
   "execution_count": 309,
   "id": "966e8d86",
   "metadata": {},
   "outputs": [
    {
     "data": {
      "text/html": [
       "<div>\n",
       "<style scoped>\n",
       "    .dataframe tbody tr th:only-of-type {\n",
       "        vertical-align: middle;\n",
       "    }\n",
       "\n",
       "    .dataframe tbody tr th {\n",
       "        vertical-align: top;\n",
       "    }\n",
       "\n",
       "    .dataframe thead tr th {\n",
       "        text-align: left;\n",
       "    }\n",
       "</style>\n",
       "<table border=\"1\" class=\"dataframe\">\n",
       "  <thead>\n",
       "    <tr>\n",
       "      <th></th>\n",
       "      <th>user_id</th>\n",
       "      <th>month</th>\n",
       "      <th>sum</th>\n",
       "    </tr>\n",
       "    <tr>\n",
       "      <th></th>\n",
       "      <th></th>\n",
       "      <th></th>\n",
       "      <th>gb_used</th>\n",
       "    </tr>\n",
       "  </thead>\n",
       "  <tbody>\n",
       "    <tr>\n",
       "      <th>0</th>\n",
       "      <td>1000</td>\n",
       "      <td>2018-05-01</td>\n",
       "      <td>3</td>\n",
       "    </tr>\n",
       "    <tr>\n",
       "      <th>1</th>\n",
       "      <td>1000</td>\n",
       "      <td>2018-06-01</td>\n",
       "      <td>23</td>\n",
       "    </tr>\n",
       "    <tr>\n",
       "      <th>2</th>\n",
       "      <td>1000</td>\n",
       "      <td>2018-07-01</td>\n",
       "      <td>14</td>\n",
       "    </tr>\n",
       "    <tr>\n",
       "      <th>3</th>\n",
       "      <td>1000</td>\n",
       "      <td>2018-08-01</td>\n",
       "      <td>14</td>\n",
       "    </tr>\n",
       "    <tr>\n",
       "      <th>4</th>\n",
       "      <td>1000</td>\n",
       "      <td>2018-09-01</td>\n",
       "      <td>15</td>\n",
       "    </tr>\n",
       "  </tbody>\n",
       "</table>\n",
       "</div>"
      ],
      "text/plain": [
       "  user_id      month     sum\n",
       "                     gb_used\n",
       "0    1000 2018-05-01       3\n",
       "1    1000 2018-06-01      23\n",
       "2    1000 2018-07-01      14\n",
       "3    1000 2018-08-01      14\n",
       "4    1000 2018-09-01      15"
      ]
     },
     "execution_count": 309,
     "metadata": {},
     "output_type": "execute_result"
    }
   ],
   "source": [
    "internet_sum.head()"
   ]
  },
  {
   "cell_type": "code",
   "execution_count": 310,
   "id": "af931e88",
   "metadata": {},
   "outputs": [],
   "source": [
    "#internet_sum = internet_sum.rename(columns={('sum','gb_used'):'gb_used'}, errors=\"raise\")\n",
    "#internet_sum.head()"
   ]
  },
  {
   "cell_type": "code",
   "execution_count": 311,
   "id": "7a088e66",
   "metadata": {},
   "outputs": [],
   "source": [
    "#internet_sum.columns = ['user_id', 'month', 'gb_used']\n",
    "#internet_sum"
   ]
  },
  {
   "cell_type": "code",
   "execution_count": 312,
   "id": "358e7c89",
   "metadata": {
    "scrolled": true
   },
   "outputs": [
    {
     "data": {
      "text/html": [
       "<div>\n",
       "<style scoped>\n",
       "    .dataframe tbody tr th:only-of-type {\n",
       "        vertical-align: middle;\n",
       "    }\n",
       "\n",
       "    .dataframe tbody tr th {\n",
       "        vertical-align: top;\n",
       "    }\n",
       "\n",
       "    .dataframe thead th {\n",
       "        text-align: right;\n",
       "    }\n",
       "</style>\n",
       "<table border=\"1\" class=\"dataframe\">\n",
       "  <thead>\n",
       "    <tr style=\"text-align: right;\">\n",
       "      <th></th>\n",
       "      <th>user_id</th>\n",
       "      <th>month</th>\n",
       "      <th>gb_used</th>\n",
       "    </tr>\n",
       "  </thead>\n",
       "  <tbody>\n",
       "    <tr>\n",
       "      <th>0</th>\n",
       "      <td>1000</td>\n",
       "      <td>2018-05-01</td>\n",
       "      <td>3</td>\n",
       "    </tr>\n",
       "    <tr>\n",
       "      <th>1</th>\n",
       "      <td>1000</td>\n",
       "      <td>2018-06-01</td>\n",
       "      <td>23</td>\n",
       "    </tr>\n",
       "    <tr>\n",
       "      <th>2</th>\n",
       "      <td>1000</td>\n",
       "      <td>2018-07-01</td>\n",
       "      <td>14</td>\n",
       "    </tr>\n",
       "    <tr>\n",
       "      <th>3</th>\n",
       "      <td>1000</td>\n",
       "      <td>2018-08-01</td>\n",
       "      <td>14</td>\n",
       "    </tr>\n",
       "    <tr>\n",
       "      <th>4</th>\n",
       "      <td>1000</td>\n",
       "      <td>2018-09-01</td>\n",
       "      <td>15</td>\n",
       "    </tr>\n",
       "  </tbody>\n",
       "</table>\n",
       "</div>"
      ],
      "text/plain": [
       "   user_id      month  gb_used\n",
       "0     1000 2018-05-01        3\n",
       "1     1000 2018-06-01       23\n",
       "2     1000 2018-07-01       14\n",
       "3     1000 2018-08-01       14\n",
       "4     1000 2018-09-01       15"
      ]
     },
     "execution_count": 312,
     "metadata": {},
     "output_type": "execute_result"
    }
   ],
   "source": [
    "df = internet_sum\n",
    "\n",
    "column_name_1 = 'user_id'\n",
    "column_name_2 = 'month'\n",
    "column_name_3 = ('sum', 'gb_used')\n",
    "\n",
    "# create the dictionary of lists\n",
    "d = {column_name_1:df[column_name_1], column_name_2:df[column_name_2] ,'gb_used':df[column_name_3]}\n",
    "\n",
    "internet_temp = pd.DataFrame(d)\n",
    "internet_temp.head()"
   ]
  },
  {
   "cell_type": "code",
   "execution_count": 313,
   "id": "3924a883",
   "metadata": {},
   "outputs": [
    {
     "data": {
      "text/plain": [
       "497"
      ]
     },
     "execution_count": 313,
     "metadata": {},
     "output_type": "execute_result"
    }
   ],
   "source": [
    "internet_temp['user_id'].nunique()"
   ]
  },
  {
   "cell_type": "markdown",
   "id": "9ddedde6",
   "metadata": {},
   "source": [
    "## 2. calls"
   ]
  },
  {
   "cell_type": "code",
   "execution_count": 314,
   "id": "210199cd",
   "metadata": {},
   "outputs": [
    {
     "data": {
      "text/html": [
       "<div>\n",
       "<style scoped>\n",
       "    .dataframe tbody tr th:only-of-type {\n",
       "        vertical-align: middle;\n",
       "    }\n",
       "\n",
       "    .dataframe tbody tr th {\n",
       "        vertical-align: top;\n",
       "    }\n",
       "\n",
       "    .dataframe thead tr th {\n",
       "        text-align: left;\n",
       "    }\n",
       "</style>\n",
       "<table border=\"1\" class=\"dataframe\">\n",
       "  <thead>\n",
       "    <tr>\n",
       "      <th></th>\n",
       "      <th>user_id</th>\n",
       "      <th>month</th>\n",
       "      <th>count</th>\n",
       "      <th>sum</th>\n",
       "    </tr>\n",
       "    <tr>\n",
       "      <th></th>\n",
       "      <th></th>\n",
       "      <th></th>\n",
       "      <th>duration</th>\n",
       "      <th>duration</th>\n",
       "    </tr>\n",
       "  </thead>\n",
       "  <tbody>\n",
       "    <tr>\n",
       "      <th>0</th>\n",
       "      <td>1000</td>\n",
       "      <td>2018-05-01</td>\n",
       "      <td>22</td>\n",
       "      <td>159</td>\n",
       "    </tr>\n",
       "    <tr>\n",
       "      <th>1</th>\n",
       "      <td>1000</td>\n",
       "      <td>2018-06-01</td>\n",
       "      <td>43</td>\n",
       "      <td>172</td>\n",
       "    </tr>\n",
       "    <tr>\n",
       "      <th>2</th>\n",
       "      <td>1000</td>\n",
       "      <td>2018-07-01</td>\n",
       "      <td>47</td>\n",
       "      <td>340</td>\n",
       "    </tr>\n",
       "    <tr>\n",
       "      <th>3</th>\n",
       "      <td>1000</td>\n",
       "      <td>2018-08-01</td>\n",
       "      <td>52</td>\n",
       "      <td>408</td>\n",
       "    </tr>\n",
       "    <tr>\n",
       "      <th>4</th>\n",
       "      <td>1000</td>\n",
       "      <td>2018-09-01</td>\n",
       "      <td>58</td>\n",
       "      <td>466</td>\n",
       "    </tr>\n",
       "  </tbody>\n",
       "</table>\n",
       "</div>"
      ],
      "text/plain": [
       "  user_id      month    count      sum\n",
       "                     duration duration\n",
       "0    1000 2018-05-01       22      159\n",
       "1    1000 2018-06-01       43      172\n",
       "2    1000 2018-07-01       47      340\n",
       "3    1000 2018-08-01       52      408\n",
       "4    1000 2018-09-01       58      466"
      ]
     },
     "execution_count": 314,
     "metadata": {},
     "output_type": "execute_result"
    }
   ],
   "source": [
    "calls_sum.head()"
   ]
  },
  {
   "cell_type": "code",
   "execution_count": 315,
   "id": "731bed8e",
   "metadata": {},
   "outputs": [
    {
     "data": {
      "text/html": [
       "<div>\n",
       "<style scoped>\n",
       "    .dataframe tbody tr th:only-of-type {\n",
       "        vertical-align: middle;\n",
       "    }\n",
       "\n",
       "    .dataframe tbody tr th {\n",
       "        vertical-align: top;\n",
       "    }\n",
       "\n",
       "    .dataframe thead th {\n",
       "        text-align: right;\n",
       "    }\n",
       "</style>\n",
       "<table border=\"1\" class=\"dataframe\">\n",
       "  <thead>\n",
       "    <tr style=\"text-align: right;\">\n",
       "      <th></th>\n",
       "      <th>user_id</th>\n",
       "      <th>month</th>\n",
       "      <th>number_of_calls</th>\n",
       "      <th>total_minutes</th>\n",
       "    </tr>\n",
       "  </thead>\n",
       "  <tbody>\n",
       "    <tr>\n",
       "      <th>0</th>\n",
       "      <td>1000</td>\n",
       "      <td>2018-05-01</td>\n",
       "      <td>22</td>\n",
       "      <td>159</td>\n",
       "    </tr>\n",
       "    <tr>\n",
       "      <th>1</th>\n",
       "      <td>1000</td>\n",
       "      <td>2018-06-01</td>\n",
       "      <td>43</td>\n",
       "      <td>172</td>\n",
       "    </tr>\n",
       "    <tr>\n",
       "      <th>2</th>\n",
       "      <td>1000</td>\n",
       "      <td>2018-07-01</td>\n",
       "      <td>47</td>\n",
       "      <td>340</td>\n",
       "    </tr>\n",
       "    <tr>\n",
       "      <th>3</th>\n",
       "      <td>1000</td>\n",
       "      <td>2018-08-01</td>\n",
       "      <td>52</td>\n",
       "      <td>408</td>\n",
       "    </tr>\n",
       "    <tr>\n",
       "      <th>4</th>\n",
       "      <td>1000</td>\n",
       "      <td>2018-09-01</td>\n",
       "      <td>58</td>\n",
       "      <td>466</td>\n",
       "    </tr>\n",
       "  </tbody>\n",
       "</table>\n",
       "</div>"
      ],
      "text/plain": [
       "   user_id      month  number_of_calls  total_minutes\n",
       "0     1000 2018-05-01               22            159\n",
       "1     1000 2018-06-01               43            172\n",
       "2     1000 2018-07-01               47            340\n",
       "3     1000 2018-08-01               52            408\n",
       "4     1000 2018-09-01               58            466"
      ]
     },
     "execution_count": 315,
     "metadata": {},
     "output_type": "execute_result"
    }
   ],
   "source": [
    "df = calls_sum\n",
    "\n",
    "column_name_1 = 'user_id'\n",
    "column_name_2 = 'month'\n",
    "column_name_3 = ('count', 'duration')\n",
    "column_name_4 = ('sum', 'duration')\n",
    "\n",
    "# create the dictionary of lists\n",
    "d = {column_name_1:df[column_name_1], column_name_2:df[column_name_2], \n",
    "     'number_of_calls':df[column_name_3], 'total_minutes':df[column_name_4]}\n",
    "\n",
    "calls_temp = pd.DataFrame(d)\n",
    "calls_temp.head()"
   ]
  },
  {
   "cell_type": "code",
   "execution_count": 316,
   "id": "497a0417",
   "metadata": {},
   "outputs": [
    {
     "data": {
      "text/plain": [
       "492"
      ]
     },
     "execution_count": 316,
     "metadata": {},
     "output_type": "execute_result"
    }
   ],
   "source": [
    "calls_temp['user_id'].nunique()"
   ]
  },
  {
   "cell_type": "markdown",
   "id": "098459ae",
   "metadata": {},
   "source": [
    "## 3. messages"
   ]
  },
  {
   "cell_type": "code",
   "execution_count": 317,
   "id": "acfe85a0",
   "metadata": {},
   "outputs": [
    {
     "data": {
      "text/html": [
       "<div>\n",
       "<style scoped>\n",
       "    .dataframe tbody tr th:only-of-type {\n",
       "        vertical-align: middle;\n",
       "    }\n",
       "\n",
       "    .dataframe tbody tr th {\n",
       "        vertical-align: top;\n",
       "    }\n",
       "\n",
       "    .dataframe thead tr th {\n",
       "        text-align: left;\n",
       "    }\n",
       "</style>\n",
       "<table border=\"1\" class=\"dataframe\">\n",
       "  <thead>\n",
       "    <tr>\n",
       "      <th></th>\n",
       "      <th>user_id</th>\n",
       "      <th>month</th>\n",
       "      <th>count</th>\n",
       "    </tr>\n",
       "    <tr>\n",
       "      <th></th>\n",
       "      <th></th>\n",
       "      <th></th>\n",
       "      <th>id</th>\n",
       "    </tr>\n",
       "  </thead>\n",
       "  <tbody>\n",
       "    <tr>\n",
       "      <th>0</th>\n",
       "      <td>1000</td>\n",
       "      <td>2018-05-01</td>\n",
       "      <td>22</td>\n",
       "    </tr>\n",
       "    <tr>\n",
       "      <th>1</th>\n",
       "      <td>1000</td>\n",
       "      <td>2018-06-01</td>\n",
       "      <td>60</td>\n",
       "    </tr>\n",
       "    <tr>\n",
       "      <th>2</th>\n",
       "      <td>1000</td>\n",
       "      <td>2018-07-01</td>\n",
       "      <td>75</td>\n",
       "    </tr>\n",
       "    <tr>\n",
       "      <th>3</th>\n",
       "      <td>1000</td>\n",
       "      <td>2018-08-01</td>\n",
       "      <td>81</td>\n",
       "    </tr>\n",
       "    <tr>\n",
       "      <th>4</th>\n",
       "      <td>1000</td>\n",
       "      <td>2018-09-01</td>\n",
       "      <td>57</td>\n",
       "    </tr>\n",
       "  </tbody>\n",
       "</table>\n",
       "</div>"
      ],
      "text/plain": [
       "  user_id      month count\n",
       "                        id\n",
       "0    1000 2018-05-01    22\n",
       "1    1000 2018-06-01    60\n",
       "2    1000 2018-07-01    75\n",
       "3    1000 2018-08-01    81\n",
       "4    1000 2018-09-01    57"
      ]
     },
     "execution_count": 317,
     "metadata": {},
     "output_type": "execute_result"
    }
   ],
   "source": [
    "messages_sum.head()"
   ]
  },
  {
   "cell_type": "code",
   "execution_count": 318,
   "id": "1a3e7d80",
   "metadata": {},
   "outputs": [
    {
     "data": {
      "text/html": [
       "<div>\n",
       "<style scoped>\n",
       "    .dataframe tbody tr th:only-of-type {\n",
       "        vertical-align: middle;\n",
       "    }\n",
       "\n",
       "    .dataframe tbody tr th {\n",
       "        vertical-align: top;\n",
       "    }\n",
       "\n",
       "    .dataframe thead th {\n",
       "        text-align: right;\n",
       "    }\n",
       "</style>\n",
       "<table border=\"1\" class=\"dataframe\">\n",
       "  <thead>\n",
       "    <tr style=\"text-align: right;\">\n",
       "      <th></th>\n",
       "      <th>user_id</th>\n",
       "      <th>month</th>\n",
       "      <th>number_of_sms</th>\n",
       "    </tr>\n",
       "  </thead>\n",
       "  <tbody>\n",
       "    <tr>\n",
       "      <th>0</th>\n",
       "      <td>1000</td>\n",
       "      <td>2018-05-01</td>\n",
       "      <td>22</td>\n",
       "    </tr>\n",
       "    <tr>\n",
       "      <th>1</th>\n",
       "      <td>1000</td>\n",
       "      <td>2018-06-01</td>\n",
       "      <td>60</td>\n",
       "    </tr>\n",
       "    <tr>\n",
       "      <th>2</th>\n",
       "      <td>1000</td>\n",
       "      <td>2018-07-01</td>\n",
       "      <td>75</td>\n",
       "    </tr>\n",
       "    <tr>\n",
       "      <th>3</th>\n",
       "      <td>1000</td>\n",
       "      <td>2018-08-01</td>\n",
       "      <td>81</td>\n",
       "    </tr>\n",
       "    <tr>\n",
       "      <th>4</th>\n",
       "      <td>1000</td>\n",
       "      <td>2018-09-01</td>\n",
       "      <td>57</td>\n",
       "    </tr>\n",
       "  </tbody>\n",
       "</table>\n",
       "</div>"
      ],
      "text/plain": [
       "   user_id      month  number_of_sms\n",
       "0     1000 2018-05-01             22\n",
       "1     1000 2018-06-01             60\n",
       "2     1000 2018-07-01             75\n",
       "3     1000 2018-08-01             81\n",
       "4     1000 2018-09-01             57"
      ]
     },
     "execution_count": 318,
     "metadata": {},
     "output_type": "execute_result"
    }
   ],
   "source": [
    "df = messages_sum\n",
    "\n",
    "column_name_1 = 'user_id'\n",
    "column_name_2 = 'month'\n",
    "column_name_3 = ('count', 'id')\n",
    "\n",
    "# create the dictionary of lists\n",
    "d = {column_name_1:df[column_name_1], column_name_2:df[column_name_2], \n",
    "     'number_of_sms':df[column_name_3]}\n",
    "\n",
    "messages_temp = pd.DataFrame(d)\n",
    "messages_temp.head()"
   ]
  },
  {
   "cell_type": "code",
   "execution_count": 319,
   "id": "e653ffa2",
   "metadata": {},
   "outputs": [
    {
     "name": "stdout",
     "output_type": "stream",
     "text": [
      "messages_temp: 426\n",
      "internet_temp: 497\n",
      "calls_temp: 492\n"
     ]
    }
   ],
   "source": [
    "print('messages_temp:',messages_temp['user_id'].nunique())\n",
    "print('internet_temp:',internet_temp['user_id'].nunique())\n",
    "print('calls_temp:',calls_temp['user_id'].nunique())"
   ]
  },
  {
   "cell_type": "markdown",
   "id": "a80648b3",
   "metadata": {},
   "source": [
    "# Объединим таблицы"
   ]
  },
  {
   "cell_type": "markdown",
   "id": "02e978e0",
   "metadata": {},
   "source": [
    "## df_test_1 = internet_temp.merge(messages_temp, on=['user_id', 'month'], how='outer')\n"
   ]
  },
  {
   "cell_type": "code",
   "execution_count": 320,
   "id": "0bbfbbde",
   "metadata": {
    "scrolled": true
   },
   "outputs": [
    {
     "data": {
      "text/html": [
       "<div>\n",
       "<style scoped>\n",
       "    .dataframe tbody tr th:only-of-type {\n",
       "        vertical-align: middle;\n",
       "    }\n",
       "\n",
       "    .dataframe tbody tr th {\n",
       "        vertical-align: top;\n",
       "    }\n",
       "\n",
       "    .dataframe thead th {\n",
       "        text-align: right;\n",
       "    }\n",
       "</style>\n",
       "<table border=\"1\" class=\"dataframe\">\n",
       "  <thead>\n",
       "    <tr style=\"text-align: right;\">\n",
       "      <th></th>\n",
       "      <th>user_id</th>\n",
       "      <th>month</th>\n",
       "      <th>gb_used</th>\n",
       "      <th>number_of_sms</th>\n",
       "      <th>number_of_calls</th>\n",
       "      <th>total_minutes</th>\n",
       "    </tr>\n",
       "  </thead>\n",
       "  <tbody>\n",
       "    <tr>\n",
       "      <th>0</th>\n",
       "      <td>1000</td>\n",
       "      <td>2018-05-01</td>\n",
       "      <td>3.0</td>\n",
       "      <td>22.0</td>\n",
       "      <td>22.0</td>\n",
       "      <td>159.0</td>\n",
       "    </tr>\n",
       "    <tr>\n",
       "      <th>1</th>\n",
       "      <td>1000</td>\n",
       "      <td>2018-06-01</td>\n",
       "      <td>23.0</td>\n",
       "      <td>60.0</td>\n",
       "      <td>43.0</td>\n",
       "      <td>172.0</td>\n",
       "    </tr>\n",
       "    <tr>\n",
       "      <th>2</th>\n",
       "      <td>1000</td>\n",
       "      <td>2018-07-01</td>\n",
       "      <td>14.0</td>\n",
       "      <td>75.0</td>\n",
       "      <td>47.0</td>\n",
       "      <td>340.0</td>\n",
       "    </tr>\n",
       "    <tr>\n",
       "      <th>3</th>\n",
       "      <td>1000</td>\n",
       "      <td>2018-08-01</td>\n",
       "      <td>14.0</td>\n",
       "      <td>81.0</td>\n",
       "      <td>52.0</td>\n",
       "      <td>408.0</td>\n",
       "    </tr>\n",
       "    <tr>\n",
       "      <th>4</th>\n",
       "      <td>1000</td>\n",
       "      <td>2018-09-01</td>\n",
       "      <td>15.0</td>\n",
       "      <td>57.0</td>\n",
       "      <td>58.0</td>\n",
       "      <td>466.0</td>\n",
       "    </tr>\n",
       "  </tbody>\n",
       "</table>\n",
       "</div>"
      ],
      "text/plain": [
       "   user_id      month  gb_used  number_of_sms  number_of_calls  total_minutes\n",
       "0     1000 2018-05-01      3.0           22.0             22.0          159.0\n",
       "1     1000 2018-06-01     23.0           60.0             43.0          172.0\n",
       "2     1000 2018-07-01     14.0           75.0             47.0          340.0\n",
       "3     1000 2018-08-01     14.0           81.0             52.0          408.0\n",
       "4     1000 2018-09-01     15.0           57.0             58.0          466.0"
      ]
     },
     "execution_count": 320,
     "metadata": {},
     "output_type": "execute_result"
    }
   ],
   "source": [
    "df_test_1 = internet_temp.merge(messages_temp, on=['user_id', 'month'], how='outer')\n",
    "result_table_1 = df_test_1.merge(calls_temp, on=['user_id', 'month'], how='outer')\n",
    "result_table_1.head()"
   ]
  },
  {
   "cell_type": "code",
   "execution_count": 321,
   "id": "60e8d6a4",
   "metadata": {},
   "outputs": [
    {
     "data": {
      "text/plain": [
       "498"
      ]
     },
     "execution_count": 321,
     "metadata": {},
     "output_type": "execute_result"
    }
   ],
   "source": [
    "result_table_1['user_id'].nunique()"
   ]
  },
  {
   "cell_type": "code",
   "execution_count": 322,
   "id": "1dede127",
   "metadata": {},
   "outputs": [
    {
     "data": {
      "text/html": [
       "<div>\n",
       "<style scoped>\n",
       "    .dataframe tbody tr th:only-of-type {\n",
       "        vertical-align: middle;\n",
       "    }\n",
       "\n",
       "    .dataframe tbody tr th {\n",
       "        vertical-align: top;\n",
       "    }\n",
       "\n",
       "    .dataframe thead th {\n",
       "        text-align: right;\n",
       "    }\n",
       "</style>\n",
       "<table border=\"1\" class=\"dataframe\">\n",
       "  <thead>\n",
       "    <tr style=\"text-align: right;\">\n",
       "      <th></th>\n",
       "      <th>user_id</th>\n",
       "      <th>city</th>\n",
       "      <th>tariff</th>\n",
       "    </tr>\n",
       "  </thead>\n",
       "  <tbody>\n",
       "    <tr>\n",
       "      <th>0</th>\n",
       "      <td>1000</td>\n",
       "      <td>Краснодар</td>\n",
       "      <td>ultra</td>\n",
       "    </tr>\n",
       "    <tr>\n",
       "      <th>1</th>\n",
       "      <td>1001</td>\n",
       "      <td>Москва</td>\n",
       "      <td>smart</td>\n",
       "    </tr>\n",
       "    <tr>\n",
       "      <th>2</th>\n",
       "      <td>1002</td>\n",
       "      <td>Стерлитамак</td>\n",
       "      <td>smart</td>\n",
       "    </tr>\n",
       "    <tr>\n",
       "      <th>3</th>\n",
       "      <td>1003</td>\n",
       "      <td>Москва</td>\n",
       "      <td>ultra</td>\n",
       "    </tr>\n",
       "    <tr>\n",
       "      <th>4</th>\n",
       "      <td>1004</td>\n",
       "      <td>Новокузнецк</td>\n",
       "      <td>ultra</td>\n",
       "    </tr>\n",
       "  </tbody>\n",
       "</table>\n",
       "</div>"
      ],
      "text/plain": [
       "   user_id         city tariff\n",
       "0     1000    Краснодар  ultra\n",
       "1     1001       Москва  smart\n",
       "2     1002  Стерлитамак  smart\n",
       "3     1003       Москва  ultra\n",
       "4     1004  Новокузнецк  ultra"
      ]
     },
     "execution_count": 322,
     "metadata": {},
     "output_type": "execute_result"
    }
   ],
   "source": [
    "df_test_2 = users[['user_id', 'city', 'tariff']]\n",
    "df_test_2.head()"
   ]
  },
  {
   "cell_type": "code",
   "execution_count": 323,
   "id": "a1f00cde",
   "metadata": {},
   "outputs": [
    {
     "data": {
      "text/plain": [
       "(500, 3)"
      ]
     },
     "execution_count": 323,
     "metadata": {},
     "output_type": "execute_result"
    }
   ],
   "source": [
    "df_test_2.shape"
   ]
  },
  {
   "cell_type": "code",
   "execution_count": 324,
   "id": "e7494074",
   "metadata": {},
   "outputs": [
    {
     "data": {
      "text/html": [
       "<div>\n",
       "<style scoped>\n",
       "    .dataframe tbody tr th:only-of-type {\n",
       "        vertical-align: middle;\n",
       "    }\n",
       "\n",
       "    .dataframe tbody tr th {\n",
       "        vertical-align: top;\n",
       "    }\n",
       "\n",
       "    .dataframe thead th {\n",
       "        text-align: right;\n",
       "    }\n",
       "</style>\n",
       "<table border=\"1\" class=\"dataframe\">\n",
       "  <thead>\n",
       "    <tr style=\"text-align: right;\">\n",
       "      <th></th>\n",
       "      <th>index</th>\n",
       "      <th>user_id</th>\n",
       "      <th>city</th>\n",
       "      <th>tariff</th>\n",
       "      <th>month</th>\n",
       "      <th>gb_used</th>\n",
       "      <th>number_of_sms</th>\n",
       "      <th>number_of_calls</th>\n",
       "      <th>total_minutes</th>\n",
       "    </tr>\n",
       "  </thead>\n",
       "  <tbody>\n",
       "    <tr>\n",
       "      <th>0</th>\n",
       "      <td>0</td>\n",
       "      <td>1000</td>\n",
       "      <td>Краснодар</td>\n",
       "      <td>ultra</td>\n",
       "      <td>2018-05-01</td>\n",
       "      <td>3.0</td>\n",
       "      <td>22.0</td>\n",
       "      <td>22.0</td>\n",
       "      <td>159.0</td>\n",
       "    </tr>\n",
       "    <tr>\n",
       "      <th>1</th>\n",
       "      <td>1</td>\n",
       "      <td>1000</td>\n",
       "      <td>Краснодар</td>\n",
       "      <td>ultra</td>\n",
       "      <td>2018-06-01</td>\n",
       "      <td>23.0</td>\n",
       "      <td>60.0</td>\n",
       "      <td>43.0</td>\n",
       "      <td>172.0</td>\n",
       "    </tr>\n",
       "    <tr>\n",
       "      <th>2</th>\n",
       "      <td>2</td>\n",
       "      <td>1000</td>\n",
       "      <td>Краснодар</td>\n",
       "      <td>ultra</td>\n",
       "      <td>2018-07-01</td>\n",
       "      <td>14.0</td>\n",
       "      <td>75.0</td>\n",
       "      <td>47.0</td>\n",
       "      <td>340.0</td>\n",
       "    </tr>\n",
       "    <tr>\n",
       "      <th>3</th>\n",
       "      <td>3</td>\n",
       "      <td>1000</td>\n",
       "      <td>Краснодар</td>\n",
       "      <td>ultra</td>\n",
       "      <td>2018-08-01</td>\n",
       "      <td>14.0</td>\n",
       "      <td>81.0</td>\n",
       "      <td>52.0</td>\n",
       "      <td>408.0</td>\n",
       "    </tr>\n",
       "    <tr>\n",
       "      <th>4</th>\n",
       "      <td>4</td>\n",
       "      <td>1000</td>\n",
       "      <td>Краснодар</td>\n",
       "      <td>ultra</td>\n",
       "      <td>2018-09-01</td>\n",
       "      <td>15.0</td>\n",
       "      <td>57.0</td>\n",
       "      <td>58.0</td>\n",
       "      <td>466.0</td>\n",
       "    </tr>\n",
       "  </tbody>\n",
       "</table>\n",
       "</div>"
      ],
      "text/plain": [
       "   index  user_id       city tariff      month  gb_used  number_of_sms  \\\n",
       "0      0     1000  Краснодар  ultra 2018-05-01      3.0           22.0   \n",
       "1      1     1000  Краснодар  ultra 2018-06-01     23.0           60.0   \n",
       "2      2     1000  Краснодар  ultra 2018-07-01     14.0           75.0   \n",
       "3      3     1000  Краснодар  ultra 2018-08-01     14.0           81.0   \n",
       "4      4     1000  Краснодар  ultra 2018-09-01     15.0           57.0   \n",
       "\n",
       "   number_of_calls  total_minutes  \n",
       "0             22.0          159.0  \n",
       "1             43.0          172.0  \n",
       "2             47.0          340.0  \n",
       "3             52.0          408.0  \n",
       "4             58.0          466.0  "
      ]
     },
     "execution_count": 324,
     "metadata": {},
     "output_type": "execute_result"
    }
   ],
   "source": [
    "result_table_2 = df_test_2.merge(result_table_1, on='user_id', how='left')\n",
    "#result_table_2['gb_used'] = result_table_2['gb_used'][result_table_2['gb_used'].isna() == False].astype('int32')\n",
    "result_table_2[['gb_used', 'number_of_sms', 'number_of_calls', 'total_minutes']] = result_table_2[['gb_used', 'number_of_sms', 'number_of_calls', 'total_minutes']].fillna(0)\n",
    "result_table_3 = result_table_2.reset_index()\n",
    "result_table_3.head()"
   ]
  },
  {
   "cell_type": "code",
   "execution_count": 325,
   "id": "a2230582",
   "metadata": {},
   "outputs": [
    {
     "data": {
      "text/plain": [
       "500"
      ]
     },
     "execution_count": 325,
     "metadata": {},
     "output_type": "execute_result"
    }
   ],
   "source": [
    "result_table_3['user_id'].nunique()"
   ]
  },
  {
   "cell_type": "code",
   "execution_count": 326,
   "id": "7ea350cb",
   "metadata": {},
   "outputs": [],
   "source": [
    "#def payment_def(x):\n",
    "#    if x.loc['tariff'] == 'smart':\n",
    "#        \n",
    "#        max_gb = 15\n",
    "#        max_sms = 50\n",
    "#        max_minutes = 500\n",
    "#        tariff_gb = 200\n",
    "#        tariff_sms = 3\n",
    "#        tariff_minutes = 3\n",
    "#        monthlypay = 550\n",
    "#        \n",
    "#        if x.loc['gb_used'] > max_gb:\n",
    "#            pay_gb = (x.loc['gb_used'] - max_gb) * tariff_gb\n",
    "#        else:\n",
    "#            pay_gb = 0\n",
    "#        if x.loc['number_of_sms'] > max_sms:\n",
    "#            pay_sms = (x.loc['number_of_sms'] - max_sms) * tariff_sms\n",
    "#        else:\n",
    "#            pay_sms = 0\n",
    "#        if x.loc['total_minutes'] > max_minutes:\n",
    "#            pay_min = (x.loc['total_minutes'] - max_minutes) * tariff_minutes\n",
    "#        else:\n",
    "#            pay_min = 0\n",
    "#            \n",
    "#        total_pay = pay_gb + pay_sms + pay_min + monthlypay\n",
    "#        \n",
    "#        return total_pay\n",
    "#    \n",
    "#    if x.loc['tariff'] == 'ultra':\n",
    "#        \n",
    "#        max_gb = 30\n",
    "#        max_sms = 1000\n",
    "#        max_minutes = 3000\n",
    "#        tariff_gb = 150\n",
    "#        tariff_sms = 1\n",
    "#        tariff_minutes = 1\n",
    "#        monthlypay = 1950\n",
    "#        \n",
    "#        if x.loc['gb_used'] > max_gb:\n",
    "#            pay_gb = (x.loc['gb_used'] - max_gb) * tariff_gb\n",
    "#        else:\n",
    "#            pay_gb = 0\n",
    "#        if x.loc['number_obf_sms'] > max_sms:\n",
    "#            pay_sms = (x.loc['number_of_sms'] - max_sms) * tariff_sms\n",
    "#        else:\n",
    "#            pay_sms = 0\n",
    "#        if x.loc['total_minutes'] > max_minutes:\n",
    "#            pay_min = (x.loc['total_minutes'] - max_minutes) * tariff_minutes\n",
    "#        else:\n",
    "#            pay_min = 0            \n",
    "#        total_pay = pay_gb + pay_sms + pay_min + monthlypay\n",
    "#       \n",
    "#        return total_pay"
   ]
  },
  {
   "cell_type": "code",
   "execution_count": 327,
   "id": "421bc161",
   "metadata": {},
   "outputs": [],
   "source": [
    "def super_func(df, column, new_column):\n",
    "\n",
    "    def def_extra(x):\n",
    "\n",
    "        if x.loc['tariff'] == 'smart':\n",
    "            if column == 'gb_used':\n",
    "                limit = 15\n",
    "            elif column == 'number_of_sms':\n",
    "                limit = 50\n",
    "            else:\n",
    "                limit = 500\n",
    "            \n",
    "            if x.loc[column] > limit:\n",
    "                extra = x.loc[column] - limit\n",
    "                return extra\n",
    "            return 0\n",
    "\n",
    "        if x.loc['tariff'] == 'ultra':\n",
    "            if column == 'gb_used':\n",
    "                limit = 30\n",
    "            elif column == 'number_of_sms':\n",
    "                limit = 1000\n",
    "            else:\n",
    "                limit = 3000\n",
    "            \n",
    "            if x.loc[column] > limit:\n",
    "                extra = x.loc[column] - limit\n",
    "                return extra\n",
    "            return 0\n",
    "\n",
    "    list_pay = df.apply(def_extra, axis=1)\n",
    "    result_table_3[new_column] = list_pay"
   ]
  },
  {
   "cell_type": "code",
   "execution_count": 328,
   "id": "41fdc733",
   "metadata": {},
   "outputs": [
    {
     "data": {
      "text/html": [
       "<div>\n",
       "<style scoped>\n",
       "    .dataframe tbody tr th:only-of-type {\n",
       "        vertical-align: middle;\n",
       "    }\n",
       "\n",
       "    .dataframe tbody tr th {\n",
       "        vertical-align: top;\n",
       "    }\n",
       "\n",
       "    .dataframe thead th {\n",
       "        text-align: right;\n",
       "    }\n",
       "</style>\n",
       "<table border=\"1\" class=\"dataframe\">\n",
       "  <thead>\n",
       "    <tr style=\"text-align: right;\">\n",
       "      <th></th>\n",
       "      <th>index</th>\n",
       "      <th>user_id</th>\n",
       "      <th>city</th>\n",
       "      <th>tariff</th>\n",
       "      <th>month</th>\n",
       "      <th>gb_used</th>\n",
       "      <th>number_of_sms</th>\n",
       "      <th>number_of_calls</th>\n",
       "      <th>total_minutes</th>\n",
       "      <th>extra_gb</th>\n",
       "      <th>extra_sms</th>\n",
       "      <th>extra_minutes</th>\n",
       "    </tr>\n",
       "  </thead>\n",
       "  <tbody>\n",
       "    <tr>\n",
       "      <th>0</th>\n",
       "      <td>0</td>\n",
       "      <td>1000</td>\n",
       "      <td>Краснодар</td>\n",
       "      <td>ultra</td>\n",
       "      <td>2018-05-01</td>\n",
       "      <td>3.0</td>\n",
       "      <td>22.0</td>\n",
       "      <td>22.0</td>\n",
       "      <td>159.0</td>\n",
       "      <td>0.0</td>\n",
       "      <td>0.0</td>\n",
       "      <td>0.0</td>\n",
       "    </tr>\n",
       "    <tr>\n",
       "      <th>1</th>\n",
       "      <td>1</td>\n",
       "      <td>1000</td>\n",
       "      <td>Краснодар</td>\n",
       "      <td>ultra</td>\n",
       "      <td>2018-06-01</td>\n",
       "      <td>23.0</td>\n",
       "      <td>60.0</td>\n",
       "      <td>43.0</td>\n",
       "      <td>172.0</td>\n",
       "      <td>0.0</td>\n",
       "      <td>0.0</td>\n",
       "      <td>0.0</td>\n",
       "    </tr>\n",
       "    <tr>\n",
       "      <th>2</th>\n",
       "      <td>2</td>\n",
       "      <td>1000</td>\n",
       "      <td>Краснодар</td>\n",
       "      <td>ultra</td>\n",
       "      <td>2018-07-01</td>\n",
       "      <td>14.0</td>\n",
       "      <td>75.0</td>\n",
       "      <td>47.0</td>\n",
       "      <td>340.0</td>\n",
       "      <td>0.0</td>\n",
       "      <td>0.0</td>\n",
       "      <td>0.0</td>\n",
       "    </tr>\n",
       "    <tr>\n",
       "      <th>3</th>\n",
       "      <td>3</td>\n",
       "      <td>1000</td>\n",
       "      <td>Краснодар</td>\n",
       "      <td>ultra</td>\n",
       "      <td>2018-08-01</td>\n",
       "      <td>14.0</td>\n",
       "      <td>81.0</td>\n",
       "      <td>52.0</td>\n",
       "      <td>408.0</td>\n",
       "      <td>0.0</td>\n",
       "      <td>0.0</td>\n",
       "      <td>0.0</td>\n",
       "    </tr>\n",
       "    <tr>\n",
       "      <th>4</th>\n",
       "      <td>4</td>\n",
       "      <td>1000</td>\n",
       "      <td>Краснодар</td>\n",
       "      <td>ultra</td>\n",
       "      <td>2018-09-01</td>\n",
       "      <td>15.0</td>\n",
       "      <td>57.0</td>\n",
       "      <td>58.0</td>\n",
       "      <td>466.0</td>\n",
       "      <td>0.0</td>\n",
       "      <td>0.0</td>\n",
       "      <td>0.0</td>\n",
       "    </tr>\n",
       "  </tbody>\n",
       "</table>\n",
       "</div>"
      ],
      "text/plain": [
       "   index  user_id       city tariff      month  gb_used  number_of_sms  \\\n",
       "0      0     1000  Краснодар  ultra 2018-05-01      3.0           22.0   \n",
       "1      1     1000  Краснодар  ultra 2018-06-01     23.0           60.0   \n",
       "2      2     1000  Краснодар  ultra 2018-07-01     14.0           75.0   \n",
       "3      3     1000  Краснодар  ultra 2018-08-01     14.0           81.0   \n",
       "4      4     1000  Краснодар  ultra 2018-09-01     15.0           57.0   \n",
       "\n",
       "   number_of_calls  total_minutes  extra_gb  extra_sms  extra_minutes  \n",
       "0             22.0          159.0       0.0        0.0            0.0  \n",
       "1             43.0          172.0       0.0        0.0            0.0  \n",
       "2             47.0          340.0       0.0        0.0            0.0  \n",
       "3             52.0          408.0       0.0        0.0            0.0  \n",
       "4             58.0          466.0       0.0        0.0            0.0  "
      ]
     },
     "execution_count": 328,
     "metadata": {},
     "output_type": "execute_result"
    }
   ],
   "source": [
    "super_func(result_table_3, 'gb_used', 'extra_gb')\n",
    "super_func(result_table_3, 'number_of_sms', 'extra_sms')\n",
    "super_func(result_table_3, 'total_minutes', 'extra_minutes')\n",
    "\n",
    "result_table_3.head()"
   ]
  },
  {
   "cell_type": "code",
   "execution_count": 329,
   "id": "b6b9162b",
   "metadata": {},
   "outputs": [
    {
     "data": {
      "text/plain": [
       "(3216, 12)"
      ]
     },
     "execution_count": 329,
     "metadata": {},
     "output_type": "execute_result"
    }
   ],
   "source": [
    "result_table_3.shape"
   ]
  },
  {
   "cell_type": "code",
   "execution_count": 330,
   "id": "d3afbe48",
   "metadata": {},
   "outputs": [],
   "source": [
    "def super_func_2(df, column, new_column):\n",
    "\n",
    "    def def_extra(x):\n",
    "\n",
    "        if x.loc['tariff'] == 'smart':\n",
    "            if column == 'extra_gb':\n",
    "                limit = 200\n",
    "            elif column == 'extra_sms':\n",
    "                limit = 3\n",
    "            else:\n",
    "                limit = 3\n",
    "            \n",
    "            extra = x.loc[column] * limit\n",
    "            return extra\n",
    "            \n",
    "        if x.loc['tariff'] == 'ultra':\n",
    "            if column == 'extra_gb':\n",
    "                limit = 150\n",
    "            elif column == 'extra_sms':\n",
    "                limit = 1\n",
    "            else:\n",
    "                limit = 1\n",
    "            \n",
    "            extra = x.loc[column] * limit\n",
    "            return extra\n",
    "        \n",
    "    list_pay = df.apply(def_extra, axis=1)\n",
    "    result_table_3[new_column] = list_pay"
   ]
  },
  {
   "cell_type": "code",
   "execution_count": 331,
   "id": "ac9d2789",
   "metadata": {},
   "outputs": [],
   "source": [
    "super_func_2(result_table_3, 'extra_gb', 'extra_gb_rub')\n",
    "super_func_2(result_table_3, 'extra_sms', 'extra_sms_rub')\n",
    "super_func_2(result_table_3, 'extra_minutes', 'extra_minutes_rub')\n",
    "\n",
    "result_table_3['monthly_fee_rub'] = result_table_3['tariff']\n",
    "result_table_3['monthly_fee_rub'].replace('ultra', 1950, inplace=True)\n",
    "result_table_3['monthly_fee_rub'].replace('smart', 550, inplace=True)\n",
    "result_table_3['total_rub'] = result_table_3['extra_gb_rub'] + result_table_3['extra_sms_rub'] + result_table_3['extra_minutes_rub'] + result_table_3['monthly_fee_rub']"
   ]
  },
  {
   "cell_type": "code",
   "execution_count": 332,
   "id": "15ad6f6c",
   "metadata": {},
   "outputs": [
    {
     "data": {
      "text/html": [
       "<div>\n",
       "<style scoped>\n",
       "    .dataframe tbody tr th:only-of-type {\n",
       "        vertical-align: middle;\n",
       "    }\n",
       "\n",
       "    .dataframe tbody tr th {\n",
       "        vertical-align: top;\n",
       "    }\n",
       "\n",
       "    .dataframe thead th {\n",
       "        text-align: right;\n",
       "    }\n",
       "</style>\n",
       "<table border=\"1\" class=\"dataframe\">\n",
       "  <thead>\n",
       "    <tr style=\"text-align: right;\">\n",
       "      <th></th>\n",
       "      <th>index</th>\n",
       "      <th>user_id</th>\n",
       "      <th>city</th>\n",
       "      <th>tariff</th>\n",
       "      <th>month</th>\n",
       "      <th>gb_used</th>\n",
       "      <th>number_of_sms</th>\n",
       "      <th>number_of_calls</th>\n",
       "      <th>total_minutes</th>\n",
       "      <th>extra_gb</th>\n",
       "      <th>extra_sms</th>\n",
       "      <th>extra_minutes</th>\n",
       "      <th>extra_gb_rub</th>\n",
       "      <th>extra_sms_rub</th>\n",
       "      <th>extra_minutes_rub</th>\n",
       "      <th>monthly_fee_rub</th>\n",
       "      <th>total_rub</th>\n",
       "    </tr>\n",
       "  </thead>\n",
       "  <tbody>\n",
       "    <tr>\n",
       "      <th>0</th>\n",
       "      <td>0</td>\n",
       "      <td>1000</td>\n",
       "      <td>Краснодар</td>\n",
       "      <td>ultra</td>\n",
       "      <td>2018-05-01</td>\n",
       "      <td>3.0</td>\n",
       "      <td>22.0</td>\n",
       "      <td>22.0</td>\n",
       "      <td>159.0</td>\n",
       "      <td>0.0</td>\n",
       "      <td>0.0</td>\n",
       "      <td>0.0</td>\n",
       "      <td>0.0</td>\n",
       "      <td>0.0</td>\n",
       "      <td>0.0</td>\n",
       "      <td>1950</td>\n",
       "      <td>1950.0</td>\n",
       "    </tr>\n",
       "    <tr>\n",
       "      <th>1</th>\n",
       "      <td>1</td>\n",
       "      <td>1000</td>\n",
       "      <td>Краснодар</td>\n",
       "      <td>ultra</td>\n",
       "      <td>2018-06-01</td>\n",
       "      <td>23.0</td>\n",
       "      <td>60.0</td>\n",
       "      <td>43.0</td>\n",
       "      <td>172.0</td>\n",
       "      <td>0.0</td>\n",
       "      <td>0.0</td>\n",
       "      <td>0.0</td>\n",
       "      <td>0.0</td>\n",
       "      <td>0.0</td>\n",
       "      <td>0.0</td>\n",
       "      <td>1950</td>\n",
       "      <td>1950.0</td>\n",
       "    </tr>\n",
       "    <tr>\n",
       "      <th>2</th>\n",
       "      <td>2</td>\n",
       "      <td>1000</td>\n",
       "      <td>Краснодар</td>\n",
       "      <td>ultra</td>\n",
       "      <td>2018-07-01</td>\n",
       "      <td>14.0</td>\n",
       "      <td>75.0</td>\n",
       "      <td>47.0</td>\n",
       "      <td>340.0</td>\n",
       "      <td>0.0</td>\n",
       "      <td>0.0</td>\n",
       "      <td>0.0</td>\n",
       "      <td>0.0</td>\n",
       "      <td>0.0</td>\n",
       "      <td>0.0</td>\n",
       "      <td>1950</td>\n",
       "      <td>1950.0</td>\n",
       "    </tr>\n",
       "    <tr>\n",
       "      <th>3</th>\n",
       "      <td>3</td>\n",
       "      <td>1000</td>\n",
       "      <td>Краснодар</td>\n",
       "      <td>ultra</td>\n",
       "      <td>2018-08-01</td>\n",
       "      <td>14.0</td>\n",
       "      <td>81.0</td>\n",
       "      <td>52.0</td>\n",
       "      <td>408.0</td>\n",
       "      <td>0.0</td>\n",
       "      <td>0.0</td>\n",
       "      <td>0.0</td>\n",
       "      <td>0.0</td>\n",
       "      <td>0.0</td>\n",
       "      <td>0.0</td>\n",
       "      <td>1950</td>\n",
       "      <td>1950.0</td>\n",
       "    </tr>\n",
       "    <tr>\n",
       "      <th>4</th>\n",
       "      <td>4</td>\n",
       "      <td>1000</td>\n",
       "      <td>Краснодар</td>\n",
       "      <td>ultra</td>\n",
       "      <td>2018-09-01</td>\n",
       "      <td>15.0</td>\n",
       "      <td>57.0</td>\n",
       "      <td>58.0</td>\n",
       "      <td>466.0</td>\n",
       "      <td>0.0</td>\n",
       "      <td>0.0</td>\n",
       "      <td>0.0</td>\n",
       "      <td>0.0</td>\n",
       "      <td>0.0</td>\n",
       "      <td>0.0</td>\n",
       "      <td>1950</td>\n",
       "      <td>1950.0</td>\n",
       "    </tr>\n",
       "  </tbody>\n",
       "</table>\n",
       "</div>"
      ],
      "text/plain": [
       "   index  user_id       city tariff      month  gb_used  number_of_sms  \\\n",
       "0      0     1000  Краснодар  ultra 2018-05-01      3.0           22.0   \n",
       "1      1     1000  Краснодар  ultra 2018-06-01     23.0           60.0   \n",
       "2      2     1000  Краснодар  ultra 2018-07-01     14.0           75.0   \n",
       "3      3     1000  Краснодар  ultra 2018-08-01     14.0           81.0   \n",
       "4      4     1000  Краснодар  ultra 2018-09-01     15.0           57.0   \n",
       "\n",
       "   number_of_calls  total_minutes  extra_gb  extra_sms  extra_minutes  \\\n",
       "0             22.0          159.0       0.0        0.0            0.0   \n",
       "1             43.0          172.0       0.0        0.0            0.0   \n",
       "2             47.0          340.0       0.0        0.0            0.0   \n",
       "3             52.0          408.0       0.0        0.0            0.0   \n",
       "4             58.0          466.0       0.0        0.0            0.0   \n",
       "\n",
       "   extra_gb_rub  extra_sms_rub  extra_minutes_rub  monthly_fee_rub  total_rub  \n",
       "0           0.0            0.0                0.0             1950     1950.0  \n",
       "1           0.0            0.0                0.0             1950     1950.0  \n",
       "2           0.0            0.0                0.0             1950     1950.0  \n",
       "3           0.0            0.0                0.0             1950     1950.0  \n",
       "4           0.0            0.0                0.0             1950     1950.0  "
      ]
     },
     "execution_count": 332,
     "metadata": {},
     "output_type": "execute_result"
    }
   ],
   "source": [
    "result_table_3.head()"
   ]
  },
  {
   "cell_type": "code",
   "execution_count": 333,
   "id": "1894c99b",
   "metadata": {},
   "outputs": [],
   "source": [
    "def integer_v(df):\n",
    "    list_column = list(df.columns)\n",
    "    for column in list_column:\n",
    "        if df[column].dtype == 'float64':\n",
    "            df[column] = df[column].astype('int64')"
   ]
  },
  {
   "cell_type": "code",
   "execution_count": 334,
   "id": "5169a5c0",
   "metadata": {},
   "outputs": [
    {
     "data": {
      "text/html": [
       "<div>\n",
       "<style scoped>\n",
       "    .dataframe tbody tr th:only-of-type {\n",
       "        vertical-align: middle;\n",
       "    }\n",
       "\n",
       "    .dataframe tbody tr th {\n",
       "        vertical-align: top;\n",
       "    }\n",
       "\n",
       "    .dataframe thead th {\n",
       "        text-align: right;\n",
       "    }\n",
       "</style>\n",
       "<table border=\"1\" class=\"dataframe\">\n",
       "  <thead>\n",
       "    <tr style=\"text-align: right;\">\n",
       "      <th></th>\n",
       "      <th>index</th>\n",
       "      <th>user_id</th>\n",
       "      <th>city</th>\n",
       "      <th>tariff</th>\n",
       "      <th>month</th>\n",
       "      <th>gb_used</th>\n",
       "      <th>number_of_sms</th>\n",
       "      <th>number_of_calls</th>\n",
       "      <th>total_minutes</th>\n",
       "      <th>extra_gb</th>\n",
       "      <th>extra_sms</th>\n",
       "      <th>extra_minutes</th>\n",
       "      <th>extra_gb_rub</th>\n",
       "      <th>extra_sms_rub</th>\n",
       "      <th>extra_minutes_rub</th>\n",
       "      <th>monthly_fee_rub</th>\n",
       "      <th>total_rub</th>\n",
       "    </tr>\n",
       "  </thead>\n",
       "  <tbody>\n",
       "    <tr>\n",
       "      <th>0</th>\n",
       "      <td>0</td>\n",
       "      <td>1000</td>\n",
       "      <td>Краснодар</td>\n",
       "      <td>ultra</td>\n",
       "      <td>2018-05-01</td>\n",
       "      <td>3</td>\n",
       "      <td>22</td>\n",
       "      <td>22</td>\n",
       "      <td>159</td>\n",
       "      <td>0</td>\n",
       "      <td>0</td>\n",
       "      <td>0</td>\n",
       "      <td>0</td>\n",
       "      <td>0</td>\n",
       "      <td>0</td>\n",
       "      <td>1950</td>\n",
       "      <td>1950</td>\n",
       "    </tr>\n",
       "    <tr>\n",
       "      <th>1</th>\n",
       "      <td>1</td>\n",
       "      <td>1000</td>\n",
       "      <td>Краснодар</td>\n",
       "      <td>ultra</td>\n",
       "      <td>2018-06-01</td>\n",
       "      <td>23</td>\n",
       "      <td>60</td>\n",
       "      <td>43</td>\n",
       "      <td>172</td>\n",
       "      <td>0</td>\n",
       "      <td>0</td>\n",
       "      <td>0</td>\n",
       "      <td>0</td>\n",
       "      <td>0</td>\n",
       "      <td>0</td>\n",
       "      <td>1950</td>\n",
       "      <td>1950</td>\n",
       "    </tr>\n",
       "    <tr>\n",
       "      <th>2</th>\n",
       "      <td>2</td>\n",
       "      <td>1000</td>\n",
       "      <td>Краснодар</td>\n",
       "      <td>ultra</td>\n",
       "      <td>2018-07-01</td>\n",
       "      <td>14</td>\n",
       "      <td>75</td>\n",
       "      <td>47</td>\n",
       "      <td>340</td>\n",
       "      <td>0</td>\n",
       "      <td>0</td>\n",
       "      <td>0</td>\n",
       "      <td>0</td>\n",
       "      <td>0</td>\n",
       "      <td>0</td>\n",
       "      <td>1950</td>\n",
       "      <td>1950</td>\n",
       "    </tr>\n",
       "    <tr>\n",
       "      <th>3</th>\n",
       "      <td>3</td>\n",
       "      <td>1000</td>\n",
       "      <td>Краснодар</td>\n",
       "      <td>ultra</td>\n",
       "      <td>2018-08-01</td>\n",
       "      <td>14</td>\n",
       "      <td>81</td>\n",
       "      <td>52</td>\n",
       "      <td>408</td>\n",
       "      <td>0</td>\n",
       "      <td>0</td>\n",
       "      <td>0</td>\n",
       "      <td>0</td>\n",
       "      <td>0</td>\n",
       "      <td>0</td>\n",
       "      <td>1950</td>\n",
       "      <td>1950</td>\n",
       "    </tr>\n",
       "    <tr>\n",
       "      <th>4</th>\n",
       "      <td>4</td>\n",
       "      <td>1000</td>\n",
       "      <td>Краснодар</td>\n",
       "      <td>ultra</td>\n",
       "      <td>2018-09-01</td>\n",
       "      <td>15</td>\n",
       "      <td>57</td>\n",
       "      <td>58</td>\n",
       "      <td>466</td>\n",
       "      <td>0</td>\n",
       "      <td>0</td>\n",
       "      <td>0</td>\n",
       "      <td>0</td>\n",
       "      <td>0</td>\n",
       "      <td>0</td>\n",
       "      <td>1950</td>\n",
       "      <td>1950</td>\n",
       "    </tr>\n",
       "  </tbody>\n",
       "</table>\n",
       "</div>"
      ],
      "text/plain": [
       "   index  user_id       city tariff      month  gb_used  number_of_sms  \\\n",
       "0      0     1000  Краснодар  ultra 2018-05-01        3             22   \n",
       "1      1     1000  Краснодар  ultra 2018-06-01       23             60   \n",
       "2      2     1000  Краснодар  ultra 2018-07-01       14             75   \n",
       "3      3     1000  Краснодар  ultra 2018-08-01       14             81   \n",
       "4      4     1000  Краснодар  ultra 2018-09-01       15             57   \n",
       "\n",
       "   number_of_calls  total_minutes  extra_gb  extra_sms  extra_minutes  \\\n",
       "0               22            159         0          0              0   \n",
       "1               43            172         0          0              0   \n",
       "2               47            340         0          0              0   \n",
       "3               52            408         0          0              0   \n",
       "4               58            466         0          0              0   \n",
       "\n",
       "   extra_gb_rub  extra_sms_rub  extra_minutes_rub  monthly_fee_rub  total_rub  \n",
       "0             0              0                  0             1950       1950  \n",
       "1             0              0                  0             1950       1950  \n",
       "2             0              0                  0             1950       1950  \n",
       "3             0              0                  0             1950       1950  \n",
       "4             0              0                  0             1950       1950  "
      ]
     },
     "execution_count": 334,
     "metadata": {},
     "output_type": "execute_result"
    }
   ],
   "source": [
    "integer_v(result_table_3)\n",
    "result_table = result_table_3\n",
    "result_table.head()"
   ]
  },
  {
   "cell_type": "code",
   "execution_count": 335,
   "id": "48898ccb",
   "metadata": {},
   "outputs": [
    {
     "data": {
      "text/plain": [
       "(3216, 17)"
      ]
     },
     "execution_count": 335,
     "metadata": {},
     "output_type": "execute_result"
    }
   ],
   "source": [
    "result_table.shape"
   ]
  },
  {
   "cell_type": "code",
   "execution_count": 336,
   "id": "61002d8c",
   "metadata": {},
   "outputs": [],
   "source": [
    "#def payment_def(x):\n",
    "#    if x.loc['tariff'] == 'smart':\n",
    "#        \n",
    "#        max_gb = 15\n",
    "#        max_sms = 50\n",
    "#        max_minutes = 500\n",
    "#        tariff_gb = 200\n",
    "#        tariff_sms = 3\n",
    "#        tariff_minutes = 3\n",
    "#        monthlypay = 550\n",
    "#        \n",
    "#        if x.loc['gb_used'] > max_gb:\n",
    "#            pay_gb = (x.loc['gb_used'] - max_gb) * tariff_gb\n",
    "#        else:\n",
    "#            pay_gb = 0\n",
    "#        if x.loc['number_of_sms'] > max_sms:\n",
    "#            pay_sms = (x.loc['number_of_sms'] - max_sms) * tariff_sms\n",
    "#        else:\n",
    "#            pay_sms = 0\n",
    "#        if x.loc['total_minutes'] > max_minutes:\n",
    "#            pay_min = (x.loc['total_minutes'] - max_minutes) * tariff_minutes\n",
    "#        else:\n",
    "#            pay_min = 0\n",
    "#            \n",
    "#        total_pay = pay_gb + pay_sms + pay_min + monthlypay\n",
    "#        \n",
    "#        return total_pay\n",
    "#    \n",
    "#    if x.loc['tariff'] == 'ultra':\n",
    "#        \n",
    "#        max_gb = 30\n",
    "#        max_sms = 1000\n",
    "#        max_minutes = 3000\n",
    "#        tariff_gb = 150\n",
    "#        tariff_sms = 1\n",
    "#        tariff_minutes = 1\n",
    "#        monthlypay = 1950\n",
    "#        \n",
    "#        if x.loc['gb_used'] > max_gb:\n",
    "#            pay_gb = (x.loc['gb_used'] - max_gb) * tariff_gb\n",
    "#        else:\n",
    "#            pay_gb = 0\n",
    "#        if x.loc['number_of_sms'] > max_sms:\n",
    "#            pay_sms = (x.loc['number_of_sms'] - max_sms) * tariff_sms\n",
    "#        else:\n",
    "#            pay_sms = 0\n",
    "#        if x.loc['total_minutes'] > max_minutes:\n",
    "#            pay_min = (x.loc['total_minutes'] - max_minutes) * tariff_minutes\n",
    "#        else:\n",
    "#            pay_min = 0            \n",
    "#        total_pay = pay_gb + pay_sms + pay_min + monthlypay\n",
    "#       \n",
    "#        return total_pay"
   ]
  },
  {
   "cell_type": "code",
   "execution_count": 337,
   "id": "e0d18c49",
   "metadata": {},
   "outputs": [],
   "source": [
    "#payment_temp = result_table_3.apply(payment_def, axis=1).astype('int64').reset_index()\n",
    "#payment_temp.head()"
   ]
  },
  {
   "cell_type": "code",
   "execution_count": 338,
   "id": "5e686541",
   "metadata": {},
   "outputs": [],
   "source": [
    "#result_table = result_table_2.merge(payment_temp, left_index=True, right_index=True, how='outer')\n",
    "#result_table = result_table.rename(columns={0:'payment'})\n",
    "#result_table = result_table.drop(['index'], axis=1)\n",
    "\n",
    "#result_table['gb_used'] = result_table['gb_used'].apply(lambda x: int(x))\n",
    "#result_table['number_of_sms'] = result_table['number_of_sms'].apply(lambda x: int(x))\n",
    "#result_table['number_of_calls'] = result_table['number_of_calls'].apply(lambda x: int(x))\n",
    "#result_table['total_minutes'] = result_table['total_minutes'].apply(lambda x: int(x))\n",
    "#result_table[480:485]"
   ]
  },
  {
   "cell_type": "code",
   "execution_count": 339,
   "id": "e47acf27",
   "metadata": {},
   "outputs": [
    {
     "data": {
      "text/plain": [
       "500"
      ]
     },
     "execution_count": 339,
     "metadata": {},
     "output_type": "execute_result"
    }
   ],
   "source": [
    "result_table['user_id'].nunique()"
   ]
  },
  {
   "cell_type": "code",
   "execution_count": 340,
   "id": "8574525c",
   "metadata": {},
   "outputs": [
    {
     "name": "stdout",
     "output_type": "stream",
     "text": [
      "Количество задублированных строк в дата сете: 0 шт.\n",
      "\n",
      "Кол-во пропусков в столбеце:   index - 0 шт.\n",
      "Кол-во пропусков в столбеце:   user_id - 0 шт.\n",
      "Кол-во пропусков в столбеце:   city - 0 шт.\n",
      "Кол-во пропусков в столбеце:   tariff - 0 шт.\n",
      "Кол-во пропусков в столбеце:   month - 2 шт.\n",
      "Кол-во пропусков в столбеце:   gb_used - 0 шт.\n",
      "Кол-во пропусков в столбеце:   number_of_sms - 0 шт.\n",
      "Кол-во пропусков в столбеце:   number_of_calls - 0 шт.\n",
      "Кол-во пропусков в столбеце:   total_minutes - 0 шт.\n",
      "Кол-во пропусков в столбеце:   extra_gb - 0 шт.\n",
      "Кол-во пропусков в столбеце:   extra_sms - 0 шт.\n",
      "Кол-во пропусков в столбеце:   extra_minutes - 0 шт.\n",
      "Кол-во пропусков в столбеце:   extra_gb_rub - 0 шт.\n",
      "Кол-во пропусков в столбеце:   extra_sms_rub - 0 шт.\n",
      "Кол-во пропусков в столбеце:   extra_minutes_rub - 0 шт.\n",
      "Кол-во пропусков в столбеце:   monthly_fee_rub - 0 шт.\n",
      "Кол-во пропусков в столбеце:   total_rub - 0 шт.\n",
      "===================================================================\n",
      "Ошибки в данных! Требуется обратить внимание.\n"
     ]
    }
   ],
   "source": [
    "check_dup_nan(result_table)"
   ]
  },
  {
   "cell_type": "markdown",
   "id": "38d0debe",
   "metadata": {},
   "source": [
    "## Проанализируем поведение клиентов оператора, исходя из выборки. Сколько минут разговора, сколько сообщений и какой объём интернет-трафика требуется пользователям каждого тарифа в месяц?"
   ]
  },
  {
   "cell_type": "code",
   "execution_count": 341,
   "id": "4451d0ce",
   "metadata": {},
   "outputs": [
    {
     "data": {
      "image/png": "[encoded data removed]",
      "text/plain": [
       "<Figure size 720x432 with 1 Axes>"
      ]
     },
     "metadata": {
      "needs_background": "light"
     },
     "output_type": "display_data"
    }
   ],
   "source": [
    "plt.figure(figsize=(10, 6))\n",
    "result_table['total_minutes'][result_table['tariff'] == 'smart'].plot(kind='hist', alpha=0.5, bins=15)\n",
    "result_table['total_minutes'][result_table['tariff'] == 'ultra'].plot(kind='hist', alpha=0.5, bins=15)\n",
    "plt.title('Гистограмма распределения средней длительности звонков в месяц по 2-м тарифам'+ \"\\n\")\n",
    "plt.xlabel('Минуты')\n",
    "plt.ylabel('Частотность')\n",
    "plt.legend(['smart', 'ultra'])\n",
    "\n",
    "#Лининии показывающие лимит по тарифу, голубая - для смарт, оражевая - для ультра.\n",
    "plt.vlines(500, 0, 400, color = 'b')\n",
    "#plt.vlines(3000, 0, 400, color = 'orange')\n",
    "\n",
    "\n",
    "plt.show()"
   ]
  },
  {
   "cell_type": "markdown",
   "id": "8e877b83",
   "metadata": {},
   "source": [
    "Вывод по графику:\n",
    "\n",
    "    Как видно по графику, пользователи тарифа смарт часто превышают лимит включенных минут в тарифу. А пользователи тарифа ультра не выговаривают всех предоставленных минут."
   ]
  },
  {
   "cell_type": "code",
   "execution_count": 342,
   "id": "6cee6197",
   "metadata": {},
   "outputs": [],
   "source": [
    "#result_smart = result_table[result_table['tariff'] == 'smart']\n",
    "#result_ultra = result_table[result_table['tariff'] == 'ultra']"
   ]
  },
  {
   "cell_type": "code",
   "execution_count": 343,
   "id": "83f46cfb",
   "metadata": {},
   "outputs": [],
   "source": [
    "#result_smart.head()"
   ]
  },
  {
   "cell_type": "code",
   "execution_count": 344,
   "id": "701c92df",
   "metadata": {},
   "outputs": [],
   "source": [
    "#column = 'total_minutes'\n",
    "#function = 'sum'\n",
    "\n",
    "#smart = result_smart.pivot_table(index='month', values=column, aggfunc=function).reset_index()\n",
    "#ultra = result_ultra.pivot_table(index='month', values=column, aggfunc=function).reset_index()\n",
    "\n",
    "#df = pd.DataFrame(\n",
    "#    {\n",
    "#        'month': smart['month'],'smart' : smart[column], 'ultra': ultra[column]\n",
    "#    }\n",
    "#)\n",
    "\n",
    "#df['delta'] = df['smart'] - df['ultra']\n",
    "#df"
   ]
  },
  {
   "cell_type": "code",
   "execution_count": 345,
   "id": "2102e387",
   "metadata": {},
   "outputs": [
    {
     "data": {
      "image/png": "[encoded data removed]",
      "text/plain": [
       "<Figure size 720x432 with 1 Axes>"
      ]
     },
     "metadata": {
      "needs_background": "light"
     },
     "output_type": "display_data"
    }
   ],
   "source": [
    "plt.figure(figsize=(10, 6))\n",
    "result_table['number_of_sms'][result_table['tariff'] == 'smart'].plot(kind='hist', alpha=0.5, bins=15)\n",
    "result_table['number_of_sms'][result_table['tariff'] == 'ultra'].plot(kind='hist', alpha=0.5, bins=15)\n",
    "plt.title('Гистограмма распределения среднего колличества смс в месяц по 2-м тарифам'+ \"\\n\")\n",
    "plt.xlabel('Сообщения')\n",
    "plt.ylabel('Частотность')\n",
    "plt.legend(['smart', 'ultra'])\n",
    "\n",
    "#Лининии показывающие лимит по тарифу, голубая - для смарт, оражевая - для ультра.\n",
    "plt.vlines(50, 0, 195, color = 'b')\n",
    "#plt.vlines(1000, 0, 400, color = 'orange')\n",
    "\n",
    "plt.show()"
   ]
  },
  {
   "cell_type": "markdown",
   "id": "2319a3c3",
   "metadata": {},
   "source": [
    "Вывод по графику:\n",
    "\n",
    "    Пользователи тарифа смарт так же превышают лимит сообщений."
   ]
  },
  {
   "cell_type": "code",
   "execution_count": 346,
   "id": "083cb0dc",
   "metadata": {},
   "outputs": [],
   "source": [
    "#column = 'number_of_sms'\n",
    "#function = 'sum'\n",
    "\n",
    "#smart = result_smart.pivot_table(index='month', values=column, aggfunc=function).reset_index()\n",
    "#ultra = result_ultra.pivot_table(index='month', values=column, aggfunc=function).reset_index()\n",
    "\n",
    "#df = pd.DataFrame(\n",
    "#    {\n",
    "#        'month': smart['month'],'smart' : smart[column], 'ultra': ultra[column]\n",
    "#    }\n",
    "#)\n",
    "\n",
    "#df['delta'] = df['smart'] - df['ultra']\n",
    "#df"
   ]
  },
  {
   "cell_type": "code",
   "execution_count": 347,
   "id": "706cc746",
   "metadata": {},
   "outputs": [],
   "source": [
    "#Пользователи тарифа смарт тратят больше смс в месяц. Разница отображена в столбце дельта."
   ]
  },
  {
   "cell_type": "code",
   "execution_count": 348,
   "id": "e20e9105",
   "metadata": {},
   "outputs": [
    {
     "data": {
      "image/png": "[encoded data removed]",
      "text/plain": [
       "<Figure size 720x432 with 1 Axes>"
      ]
     },
     "metadata": {
      "needs_background": "light"
     },
     "output_type": "display_data"
    }
   ],
   "source": [
    "plt.figure(figsize=(10, 6))\n",
    "result_table['gb_used'][result_table['tariff'] == 'smart'].plot(kind='hist', alpha=0.5, bins=15)\n",
    "result_table['gb_used'][result_table['tariff'] == 'ultra'].plot(kind='hist', alpha=0.5, bins=15)\n",
    "plt.title('Гистограмма распределения среднего объема интернет ттрафика в месяц по 2-м тарифам'+ \"\\n\")\n",
    "plt.xlabel('Колличество Гб')\n",
    "plt.ylabel('Частотность')\n",
    "plt.legend(['smart', 'ultra'])\n",
    "\n",
    "#Лининии показывающие лимит по тарифу, голубая - для смарт, оражевая - для ультра.\n",
    "plt.vlines(15, 0, 410, color = 'b')\n",
    "plt.vlines(30, 0, 100, color = 'orange')\n",
    "\n",
    "plt.show()"
   ]
  },
  {
   "cell_type": "markdown",
   "id": "72279004",
   "metadata": {},
   "source": [
    "Вывод по графику:\n",
    "    \n",
    "    По графику видно, что пользователи обоих тарифов превышают лимит предоставленного графика. Но по тарифу смарт превышение в разы больше."
   ]
  },
  {
   "cell_type": "code",
   "execution_count": 349,
   "id": "12fd6ef9",
   "metadata": {},
   "outputs": [],
   "source": [
    "#column = 'gb_used'\n",
    "#function = 'sum'\n",
    "\n",
    "#smart = result_smart.pivot_table(index='month', values=column, aggfunc=function).reset_index()\n",
    "#ultra = result_ultra.pivot_table(index='month', values=column, aggfunc=function).reset_index()\n",
    "\n",
    "#df = pd.DataFrame(\n",
    "#    {\n",
    "#        'month': smart['month'],'smart' : smart[column], 'ultra': ultra[column]\n",
    "#    }\n",
    "#)\n",
    "\n",
    "#df['delta'] = df['smart'] - df['ultra']\n",
    "#df"
   ]
  },
  {
   "cell_type": "code",
   "execution_count": 350,
   "id": "5f1a1cc4",
   "metadata": {},
   "outputs": [],
   "source": [
    "#Пользователи тарифа смарт тратят больше Гб в месяц. Разница отображена в столбце дельта."
   ]
  },
  {
   "cell_type": "code",
   "execution_count": 351,
   "id": "a32d10e5",
   "metadata": {},
   "outputs": [],
   "source": [
    "#column = 'total_minutes'\n",
    "#function = 'mean'\n",
    "\n",
    "#smart = result_smart.pivot_table(index='month', values=column, aggfunc=function).reset_index()\n",
    "#ultra = result_ultra.pivot_table(index='month', values=column, aggfunc=function).reset_index()\n",
    "\n",
    "#df = pd.DataFrame(\n",
    "#    {\n",
    "#        'month': smart['month'],'smart' : smart[column], 'ultra': ultra[column]\n",
    "#    }\n",
    "#)\n",
    "\n",
    "#df['delta'] = df['smart'] - df['ultra']\n",
    "\n",
    "#list_columns = ['smart', 'ultra', 'delta']\n",
    "\n",
    "#for column in list_columns:\n",
    "#    df[column] = df[column].apply(lambda x: round(x, 1))\n",
    "\n",
    "#exemple = df\n",
    "#df"
   ]
  },
  {
   "cell_type": "code",
   "execution_count": 352,
   "id": "2121b06a",
   "metadata": {},
   "outputs": [],
   "source": [
    "#По данным этой таблице видно что в среднем пользователи тарифа ультра тратят больше минут."
   ]
  },
  {
   "cell_type": "code",
   "execution_count": 353,
   "id": "ce3a9ad6",
   "metadata": {},
   "outputs": [],
   "source": [
    "#y1 = df['smart']\n",
    "#y2 = df['ultra']\n",
    "#colors = ['r','b']\n",
    "\n",
    "#fig, ax1 = plt.subplots()\n",
    "#ax1.hist([y1,y2],color=colors,alpha=0.8)\n",
    "\n",
    "#ax1.set_ylabel(\"Count\")\n",
    "#plt.tight_layout()\n",
    "#plt.rcParams[\"figure.figsize\"] = (12,8)\n",
    "#plt.legend()\n",
    "#plt.show()"
   ]
  },
  {
   "cell_type": "code",
   "execution_count": 354,
   "id": "494194e9",
   "metadata": {},
   "outputs": [],
   "source": [
    "def deviati_on(df, column, parametr):\n",
    "    #df = result_table\n",
    "    tariff = 'smart'\n",
    "    #column = 'total_minutes'\n",
    "    #parametr = 'колличества минут'\n",
    "\n",
    "    mean = df[df['tariff'] == tariff][column]\n",
    "    #Оценка Дисперсии по выборке\n",
    "    variance = np.var(mean, ddof=1)\n",
    "    #Оценка стандартного отклонения по выборке\n",
    "    standard_deviation = np.std(mean, ddof=1)\n",
    "    mean_value = df[column][df['tariff'] == tariff].mean()\n",
    "    \n",
    "    print(f'Для тарифа \"{tariff}\" оценка дисперсии по выборке {parametr} составляет:', round(variance,2))\n",
    "    print(f'Для тарифа \"{tariff}\" оценка стандартного отклонения по выборке {parametr} составляет:', round(standard_deviation,2))\n",
    "    print(f'Для тарифа \"{tariff}\" среднее значение {parametr} составляет:', round(mean_value,2))\n",
    "    tariff = 'ultra'\n",
    "\n",
    "    mean = df[df['tariff'] == tariff][column]\n",
    "    #Оценка Дисперсии по выборке\n",
    "    variance = np.var(mean, ddof=1)\n",
    "    #Оценка стандартного отклонения по выборке\n",
    "    standard_deviation = np.std(mean, ddof=1)\n",
    "    mean_value = df[column][df['tariff'] == tariff].mean()\n",
    "    \n",
    "    print('')\n",
    "    print(f'Для тарифа \"{tariff}\" оценка дисперсии по выборке {parametr} составляет:', round(variance,2))\n",
    "    print(f'Для тарифа \"{tariff}\" оценка стандартного отклонения по выборке {parametr} составляет:', round(standard_deviation,2))\n",
    "    print(f'Для тарифа \"{tariff}\" среднее значение {parametr} составляет:', round(mean_value,2))"
   ]
  },
  {
   "cell_type": "code",
   "execution_count": 355,
   "id": "17b58b6a",
   "metadata": {},
   "outputs": [
    {
     "data": {
      "text/html": [
       "<div>\n",
       "<style scoped>\n",
       "    .dataframe tbody tr th:only-of-type {\n",
       "        vertical-align: middle;\n",
       "    }\n",
       "\n",
       "    .dataframe tbody tr th {\n",
       "        vertical-align: top;\n",
       "    }\n",
       "\n",
       "    .dataframe thead th {\n",
       "        text-align: right;\n",
       "    }\n",
       "</style>\n",
       "<table border=\"1\" class=\"dataframe\">\n",
       "  <thead>\n",
       "    <tr style=\"text-align: right;\">\n",
       "      <th></th>\n",
       "      <th>index</th>\n",
       "      <th>user_id</th>\n",
       "      <th>city</th>\n",
       "      <th>tariff</th>\n",
       "      <th>month</th>\n",
       "      <th>gb_used</th>\n",
       "      <th>number_of_sms</th>\n",
       "      <th>number_of_calls</th>\n",
       "      <th>total_minutes</th>\n",
       "      <th>extra_gb</th>\n",
       "      <th>extra_sms</th>\n",
       "      <th>extra_minutes</th>\n",
       "      <th>extra_gb_rub</th>\n",
       "      <th>extra_sms_rub</th>\n",
       "      <th>extra_minutes_rub</th>\n",
       "      <th>monthly_fee_rub</th>\n",
       "      <th>total_rub</th>\n",
       "    </tr>\n",
       "  </thead>\n",
       "  <tbody>\n",
       "    <tr>\n",
       "      <th>0</th>\n",
       "      <td>0</td>\n",
       "      <td>1000</td>\n",
       "      <td>Краснодар</td>\n",
       "      <td>ultra</td>\n",
       "      <td>2018-05-01</td>\n",
       "      <td>3</td>\n",
       "      <td>22</td>\n",
       "      <td>22</td>\n",
       "      <td>159</td>\n",
       "      <td>0</td>\n",
       "      <td>0</td>\n",
       "      <td>0</td>\n",
       "      <td>0</td>\n",
       "      <td>0</td>\n",
       "      <td>0</td>\n",
       "      <td>1950</td>\n",
       "      <td>1950</td>\n",
       "    </tr>\n",
       "    <tr>\n",
       "      <th>1</th>\n",
       "      <td>1</td>\n",
       "      <td>1000</td>\n",
       "      <td>Краснодар</td>\n",
       "      <td>ultra</td>\n",
       "      <td>2018-06-01</td>\n",
       "      <td>23</td>\n",
       "      <td>60</td>\n",
       "      <td>43</td>\n",
       "      <td>172</td>\n",
       "      <td>0</td>\n",
       "      <td>0</td>\n",
       "      <td>0</td>\n",
       "      <td>0</td>\n",
       "      <td>0</td>\n",
       "      <td>0</td>\n",
       "      <td>1950</td>\n",
       "      <td>1950</td>\n",
       "    </tr>\n",
       "    <tr>\n",
       "      <th>2</th>\n",
       "      <td>2</td>\n",
       "      <td>1000</td>\n",
       "      <td>Краснодар</td>\n",
       "      <td>ultra</td>\n",
       "      <td>2018-07-01</td>\n",
       "      <td>14</td>\n",
       "      <td>75</td>\n",
       "      <td>47</td>\n",
       "      <td>340</td>\n",
       "      <td>0</td>\n",
       "      <td>0</td>\n",
       "      <td>0</td>\n",
       "      <td>0</td>\n",
       "      <td>0</td>\n",
       "      <td>0</td>\n",
       "      <td>1950</td>\n",
       "      <td>1950</td>\n",
       "    </tr>\n",
       "    <tr>\n",
       "      <th>3</th>\n",
       "      <td>3</td>\n",
       "      <td>1000</td>\n",
       "      <td>Краснодар</td>\n",
       "      <td>ultra</td>\n",
       "      <td>2018-08-01</td>\n",
       "      <td>14</td>\n",
       "      <td>81</td>\n",
       "      <td>52</td>\n",
       "      <td>408</td>\n",
       "      <td>0</td>\n",
       "      <td>0</td>\n",
       "      <td>0</td>\n",
       "      <td>0</td>\n",
       "      <td>0</td>\n",
       "      <td>0</td>\n",
       "      <td>1950</td>\n",
       "      <td>1950</td>\n",
       "    </tr>\n",
       "    <tr>\n",
       "      <th>4</th>\n",
       "      <td>4</td>\n",
       "      <td>1000</td>\n",
       "      <td>Краснодар</td>\n",
       "      <td>ultra</td>\n",
       "      <td>2018-09-01</td>\n",
       "      <td>15</td>\n",
       "      <td>57</td>\n",
       "      <td>58</td>\n",
       "      <td>466</td>\n",
       "      <td>0</td>\n",
       "      <td>0</td>\n",
       "      <td>0</td>\n",
       "      <td>0</td>\n",
       "      <td>0</td>\n",
       "      <td>0</td>\n",
       "      <td>1950</td>\n",
       "      <td>1950</td>\n",
       "    </tr>\n",
       "  </tbody>\n",
       "</table>\n",
       "</div>"
      ],
      "text/plain": [
       "   index  user_id       city tariff      month  gb_used  number_of_sms  \\\n",
       "0      0     1000  Краснодар  ultra 2018-05-01        3             22   \n",
       "1      1     1000  Краснодар  ultra 2018-06-01       23             60   \n",
       "2      2     1000  Краснодар  ultra 2018-07-01       14             75   \n",
       "3      3     1000  Краснодар  ultra 2018-08-01       14             81   \n",
       "4      4     1000  Краснодар  ultra 2018-09-01       15             57   \n",
       "\n",
       "   number_of_calls  total_minutes  extra_gb  extra_sms  extra_minutes  \\\n",
       "0               22            159         0          0              0   \n",
       "1               43            172         0          0              0   \n",
       "2               47            340         0          0              0   \n",
       "3               52            408         0          0              0   \n",
       "4               58            466         0          0              0   \n",
       "\n",
       "   extra_gb_rub  extra_sms_rub  extra_minutes_rub  monthly_fee_rub  total_rub  \n",
       "0             0              0                  0             1950       1950  \n",
       "1             0              0                  0             1950       1950  \n",
       "2             0              0                  0             1950       1950  \n",
       "3             0              0                  0             1950       1950  \n",
       "4             0              0                  0             1950       1950  "
      ]
     },
     "execution_count": 355,
     "metadata": {},
     "output_type": "execute_result"
    }
   ],
   "source": [
    "result_table.head()"
   ]
  },
  {
   "cell_type": "code",
   "execution_count": 356,
   "id": "fb89fafb",
   "metadata": {},
   "outputs": [
    {
     "name": "stdout",
     "output_type": "stream",
     "text": [
      "Для тарифа \"smart\" оценка дисперсии по выборке колличества минут составляет: 36281.39\n",
      "Для тарифа \"smart\" оценка стандартного отклонения по выборке колличества минут составляет: 190.48\n",
      "Для тарифа \"smart\" среднее значение колличества минут составляет: 417.75\n",
      "\n",
      "Для тарифа \"ultra\" оценка дисперсии по выборке колличества минут составляет: 101052.49\n",
      "Для тарифа \"ultra\" оценка стандартного отклонения по выборке колличества минут составляет: 317.89\n",
      "Для тарифа \"ultra\" среднее значение колличества минут составляет: 526.09\n"
     ]
    }
   ],
   "source": [
    "deviati_on(df=result_table, column='total_minutes', parametr='колличества минут')"
   ]
  },
  {
   "cell_type": "markdown",
   "id": "123e6d57",
   "metadata": {},
   "source": [
    "Вывод:\n",
    "    \n",
    "    Для тарифа смарт среднее значение колличества минут укладывается в значение лимита по тарифу - 500мин. Но Стандартное отклонение показывает , что превышение лимита имеет место. Эти результаты можно наблюдать на выше приведенных графиках.\n",
    "    Для тарифа ультра среднее значение колличества минут не превышает значения лимита - 3000мин. Так же не превышает лимит и суммарное значение среднего и стандартного отклонения, тем самым мы видим, что пользователи не выговаривают всех предоставленных минут. Этот результат мы получили на графике."
   ]
  },
  {
   "cell_type": "code",
   "execution_count": 357,
   "id": "bfd3ba84",
   "metadata": {},
   "outputs": [
    {
     "name": "stdout",
     "output_type": "stream",
     "text": [
      "Для тарифа \"smart\" оценка дисперсии по выборке колличества смс составляет: 796.96\n",
      "Для тарифа \"smart\" оценка стандартного отклонения по выборке колличества смс составляет: 28.23\n",
      "Для тарифа \"smart\" среднее значение колличества смс составляет: 33.37\n",
      "\n",
      "Для тарифа \"ultra\" оценка дисперсии по выборке колличества смс составляет: 2285.42\n",
      "Для тарифа \"ultra\" оценка стандартного отклонения по выборке колличества смс составляет: 47.81\n",
      "Для тарифа \"ultra\" среднее значение колличества смс составляет: 49.31\n"
     ]
    }
   ],
   "source": [
    "deviati_on(df=result_table, column='number_of_sms', parametr='колличества смс')"
   ]
  },
  {
   "cell_type": "markdown",
   "id": "77642411",
   "metadata": {},
   "source": [
    "Вывод:\n",
    "\n",
    "    Для тарифа смарт среднее значение колличества сообщений укладывается в значение лимита по тарифу - 50шт. Но Стандартное отклонение показывает , что превышение лимита имеет место. Эти результаты можно наблюдать на выше приведенных графиках.\n",
    "    Для тарифа ультра среднее значение колличества сообщений не превышает значения лимита - 1000шт. Так же не превышает лимит и суммарное значение среднего и стандартного отклонения, тем самым мы видим, что пользователи не используют всех предоставленных сообщений. Этот результат мы получили на графике."
   ]
  },
  {
   "cell_type": "code",
   "execution_count": 358,
   "id": "a552a3cb",
   "metadata": {},
   "outputs": [
    {
     "name": "stdout",
     "output_type": "stream",
     "text": [
      "Для тарифа \"smart\" оценка дисперсии по выборке колличества Гб составляет: 33.13\n",
      "Для тарифа \"smart\" оценка стандартного отклонения по выборке колличества Гб составляет: 5.76\n",
      "Для тарифа \"smart\" среднее значение колличества Гб составляет: 16.32\n",
      "\n",
      "Для тарифа \"ultra\" оценка дисперсии по выборке колличества Гб составляет: 97.38\n",
      "Для тарифа \"ultra\" оценка стандартного отклонения по выборке колличества Гб составляет: 9.87\n",
      "Для тарифа \"ultra\" среднее значение колличества Гб составляет: 19.47\n"
     ]
    }
   ],
   "source": [
    "deviati_on(df=result_table, column='gb_used', parametr='колличества Гб')"
   ]
  },
  {
   "cell_type": "markdown",
   "id": "5e109168",
   "metadata": {},
   "source": [
    "Вывод:\n",
    "\n",
    "    Для тарифа смарт среднее значение колличества интернет трафика не укладывается в значение лимита по тарифу - Гб. Пользователи тратят больше чем включено в пакет услуг. Эти результаты можно наблюдать на выше приведенных графиках.\n",
    "    Для тарифа ультра среднее значение колличества интернет трафика не превышает значения лимита - 30Гб. Превышает лимит суммарное значение среднего и стандартного отклонения, тем самым мы видим, что не все пользователи превышают лимит, а лишь какая-то чвсть. Этот результат мы получили на графике."
   ]
  },
  {
   "cell_type": "code",
   "execution_count": 359,
   "id": "dc47da1e",
   "metadata": {},
   "outputs": [],
   "source": [
    "#column = 'number_of_sms'\n",
    "#function = 'mean'\n",
    "\n",
    "#smart = result_smart.pivot_table(index='month', values=column, aggfunc=function).reset_index()\n",
    "#ultra = result_ultra.pivot_table(index='month', values=column, aggfunc=function).reset_index()\n",
    "\n",
    "#df = pd.DataFrame(\n",
    "#    {\n",
    "#        'month': smart['month'],'smart' : smart[column], 'ultra': ultra[column]\n",
    "#    }\n",
    "#)\n",
    "\n",
    "#df['delta'] = df['smart'] - df['ultra']\n",
    "\n",
    "#list_columns = ['smart', 'ultra', 'delta']\n",
    "\n",
    "#for column in list_columns:\n",
    "#    df[column] = df[column].apply(lambda x: round(x, 1))\n",
    "#df"
   ]
  },
  {
   "cell_type": "code",
   "execution_count": 360,
   "id": "dda73395",
   "metadata": {},
   "outputs": [],
   "source": [
    "#По данным этой таблице видно что в среднем пользователи тарифа удбтра тратят юольше смс."
   ]
  },
  {
   "cell_type": "code",
   "execution_count": 361,
   "id": "6d92b7ee",
   "metadata": {},
   "outputs": [],
   "source": [
    "#y1 = df['smart']\n",
    "#y2 = df['ultra']\n",
    "#colors = ['r','b']\n",
    "\n",
    "#fig, ax1 = plt.subplots()\n",
    "#ax1.hist([y1,y2],color=colors,alpha=0.8)\n",
    "\n",
    "#ax1.set_ylabel(\"Count\")\n",
    "#plt.tight_layout()\n",
    "#plt.rcParams[\"figure.figsize\"] = (12,8)\n",
    "#plt.legend()\n",
    "#plt.show()"
   ]
  },
  {
   "cell_type": "code",
   "execution_count": 362,
   "id": "7d12d26d",
   "metadata": {},
   "outputs": [],
   "source": [
    "#df = result_table\n",
    "#tariff = 'smart'\n",
    "#column = 'number_of_sms'\n",
    "\n",
    "#mean = df[df['tariff'] == tariff][column]\n",
    "#Оценка Дисперсии по выборке\n",
    "#variance = np.var(mean, ddof=1)\n",
    "#Оценка стандартного отклонения по выборке\n",
    "#standard_deviation = np.std(mean, ddof=1)\n",
    "\n",
    "#print(f'Для тарифа \"{tariff}\" оценка дисперсии по выборке составляет:', round(variance,2))\n",
    "#print(f'Для тарифа \"{tariff}\" оценка стандартного отклонения по выборке составляет:', round(standard_deviation,2))\n",
    "\n",
    "#tariff = 'ultra'\n",
    "\n",
    "#mean = df[df['tariff'] == tariff][column]\n",
    "#Оценка Дисперсии по выборке\n",
    "#variance = np.var(mean, ddof=1)\n",
    "#Оценка стандартного отклонения по выборке\n",
    "#standard_deviation = np.std(mean, ddof=1)\n",
    "\n",
    "#print('')\n",
    "#print(f'Для тарифа \"{tariff}\" оценка дисперсии по выборке составляет:', round(variance,2))\n",
    "#print(f'Для тарифа \"{tariff}\" оценка стандартного отклонения по выборке составляет:', round(standard_deviation,2))"
   ]
  },
  {
   "cell_type": "code",
   "execution_count": 363,
   "id": "75d9358f",
   "metadata": {},
   "outputs": [],
   "source": [
    "#column = 'gb_used'\n",
    "#function = 'mean'\n",
    "\n",
    "#smart = result_smart.pivot_table(index='month', values=column, aggfunc=function).reset_index()\n",
    "#ultra = result_ultra.pivot_table(index='month', values=column, aggfunc=function).reset_index()\n",
    "\n",
    "#df = pd.DataFrame(\n",
    "#    {\n",
    "#        'month': smart['month'],'smart' : smart[column], 'ultra': ultra[column]\n",
    "#    }\n",
    "#)\n",
    "\n",
    "#df['delta'] = df['smart'] - df['ultra']\n",
    "\n",
    "#list_columns = ['smart', 'ultra', 'delta']\n",
    "\n",
    "#for column in list_columns:\n",
    "#    df[column] = df[column].apply(lambda x: round(x, 1))\n",
    "#df"
   ]
  },
  {
   "cell_type": "code",
   "execution_count": 364,
   "id": "3a84ad85",
   "metadata": {},
   "outputs": [],
   "source": [
    "#По данным этой тадице видно что пользователи тарифа ультра тратят в среднем больше смс."
   ]
  },
  {
   "cell_type": "code",
   "execution_count": 365,
   "id": "9b7fcb61",
   "metadata": {},
   "outputs": [],
   "source": [
    "#y1 = df['smart']\n",
    "#y2 = df['ultra']\n",
    "#colors = ['r','b']\n",
    "\n",
    "#fig, ax1 = plt.subplots()\n",
    "#ax1.hist([y1,y2],color=colors,alpha=0.8)\n",
    "\n",
    "#ax1.set_ylabel(\"Count\")\n",
    "#plt.tight_layout()\n",
    "#plt.rcParams[\"figure.figsize\"] = (12,8)\n",
    "#plt.legend()\n",
    "#plt.show()"
   ]
  },
  {
   "cell_type": "code",
   "execution_count": 366,
   "id": "e6f089bd",
   "metadata": {},
   "outputs": [],
   "source": [
    "#df = result_table\n",
    "#tariff = 'smart'\n",
    "#column = 'gb_used'\n",
    "\n",
    "#mean = df[df['tariff'] == tariff][column]\n",
    "#Оценка Дисперсии по выборке\n",
    "#variance = np.var(mean, ddof=1)\n",
    "#Оценка стандартного отклонения по выборке\n",
    "#standard_deviation = np.std(mean, ddof=1)\n",
    "\n",
    "#print(f'Для тарифа \"{tariff}\" оценка дисперсии по выборке составляет:', round(variance,2))\n",
    "#print(f'Для тарифа \"{tariff}\" оценка стандартного отклонения по выборке составляет:', round(standard_deviation,2))\n",
    "\n",
    "#tariff = 'ultra'\n",
    "\n",
    "#mean = df[df['tariff'] == tariff][column]\n",
    "#Оценка Дисперсии по выборке\n",
    "#variance = np.var(mean, ddof=1)\n",
    "#Оценка стандартного отклонения по выборке\n",
    "#standard_deviation = np.std(mean, ddof=1)\n",
    "\n",
    "#print('')\n",
    "#print(f'Для тарифа \"{tariff}\" оценка дисперсии по выборке составляет:', round(variance,2))\n",
    "#print(f'Для тарифа \"{tariff}\" оценка стандартного отклонения по выборке составляет:', round(standard_deviation,2))"
   ]
  },
  {
   "cell_type": "code",
   "execution_count": 367,
   "id": "21d8af4c",
   "metadata": {},
   "outputs": [],
   "source": [
    "#funct = ['sum', 'mean']\n",
    "\n",
    "#table_minutes = result_table.pivot_table(index=['tariff', 'month'], values='total_minutes', aggfunc=funct).reset_index()\n",
    "#table_sms = result_table.pivot_table(index=['tariff', 'month'], values='number_of_sms', aggfunc=funct).reset_index()\n",
    "#table_gb = result_table.pivot_table(index=['tariff', 'month'], values='gb_used', aggfunc=funct).reset_index()\n",
    "\n",
    "#table_minutes.head()\n",
    "#table_gb.head()\n",
    "#table_sms.head()"
   ]
  },
  {
   "cell_type": "code",
   "execution_count": 368,
   "id": "1d317081",
   "metadata": {},
   "outputs": [],
   "source": [
    "#Кол-во смс. Построим распределение среднего кол-ва смс в месяц."
   ]
  },
  {
   "cell_type": "code",
   "execution_count": 369,
   "id": "34b1e7da",
   "metadata": {},
   "outputs": [],
   "source": [
    "#df = table_sms\n",
    "#column_name_1 = 'tariff'\n",
    "#column_name_2 = 'month'\n",
    "#column_name_3 = ('sum', 'number_of_sms')\n",
    "#column_name_4 = ('mean', 'number_of_sms')\n",
    "#d = {column_name_1:df[column_name_1], column_name_2:df[column_name_2], \n",
    "#     'sum_sms':df[column_name_3], 'mean_sms':df[column_name_4]}\n",
    "#sms_temp = pd.DataFrame(d)\n",
    "#sms_temp['mean_sms'] = sms_temp['mean_sms'].apply(lambda x: round(x, 1))\n",
    "#sms_temp.head()"
   ]
  },
  {
   "cell_type": "code",
   "execution_count": 370,
   "id": "74c12461",
   "metadata": {},
   "outputs": [],
   "source": [
    "#df = sms_temp\n",
    "#column = 'mean_sms'\n",
    "\n",
    "#y1 = df[df['tariff'] == 'ultra'][column]\n",
    "#y2 = df[df['tariff'] == 'smart'][column]\n",
    "#colors = ['r','b']\n",
    "\n",
    "#fig, ax1 = plt.subplots()\n",
    "#ax1.hist([y1,y2],color=colors,alpha=0.8)\n",
    "\n",
    "#ax1.set_ylabel(\"Count\")\n",
    "#plt.tight_layout()\n",
    "#plt.rcParams[\"figure.figsize\"] = (10,8)\n",
    "#plt.legend()\n",
    "#plt.show()"
   ]
  },
  {
   "cell_type": "markdown",
   "id": "1cc946cc",
   "metadata": {},
   "source": [
    "#Найдем дисперсию и стандартное отклонение тарифа для кол-ва минут разговоров."
   ]
  },
  {
   "cell_type": "code",
   "execution_count": 371,
   "id": "8427ec12",
   "metadata": {},
   "outputs": [],
   "source": [
    "#sms_temp.head()"
   ]
  },
  {
   "cell_type": "markdown",
   "id": "ab49f30d",
   "metadata": {},
   "source": [
    "Т.к. мы работаем с выборкой по клиентам а не с полным набором данных, то будем находить оценку дисперсии и оценку стандартного отклонения для всех последующих расчетов."
   ]
  },
  {
   "cell_type": "code",
   "execution_count": 372,
   "id": "4b236ef2",
   "metadata": {},
   "outputs": [],
   "source": [
    "#df = sms_temp\n",
    "#tariff = 'smart'\n",
    "#column = 'mean_sms'\n",
    "\n",
    "#mean = df[df['tariff'] == tariff][column]\n",
    "\n",
    "#Оценка Дисперсии по выборке\n",
    "#variance = np.var(mean, ddof=1)\n",
    "\n",
    "#Оценка стандартного отклонения по выборке\n",
    "#standard_deviation = np.std(mean, ddof=1)\n",
    "\n",
    "#print(f'Для тарифа \"{tariff}\" оценка дисперсии по выборке составляет:', round(variance,2))\n",
    "#print(f'Для тарифа \"{tariff}\" оценка стандартного отклонения по выборке составляет:', round(standard_deviation,2))"
   ]
  },
  {
   "cell_type": "code",
   "execution_count": 373,
   "id": "ceb43f6b",
   "metadata": {},
   "outputs": [],
   "source": [
    "#df = sms_temp\n",
    "#tariff = 'ultra'\n",
    "#column = 'mean_sms'\n",
    "\n",
    "#mean = df[df['tariff'] == tariff][column]\n",
    "\n",
    "#Оценка Дисперсии по выборке\n",
    "#variance = np.var(mean, ddof=1)\n",
    "\n",
    "#Оценка стандартного отклонения по выборке\n",
    "#standard_deviation = np.std(mean, ddof=1)\n",
    "\n",
    "#print(f'Для тарифа \"{tariff}\" оценка дисперсии по выборке составляет:', round(variance,2))\n",
    "#print(f'Для тарифа \"{tariff}\" оценка стандартного отклонения по выборке составляет:', round(standard_deviation,2))"
   ]
  },
  {
   "cell_type": "markdown",
   "id": "d03c5927",
   "metadata": {},
   "source": [
    "Интернет трафик. Построим распределение среднего кол-ва Гб в месяц."
   ]
  },
  {
   "cell_type": "code",
   "execution_count": 374,
   "id": "7ac3fff2",
   "metadata": {},
   "outputs": [],
   "source": [
    "#df = table_gb\n",
    "#column_name_1 = 'tariff'\n",
    "#column_name_2 = 'month'\n",
    "#column_name_3 = ('sum', 'gb_used')\n",
    "#column_name_4 = ('mean', 'gb_used')\n",
    "#d = {column_name_1:df[column_name_1], column_name_2:df[column_name_2], \n",
    "#     'sum_gb':df[column_name_3], 'mean_gb':df[column_name_4]}\n",
    "#gb_temp = pd.DataFrame(d)\n",
    "#gb_temp['mean_gb'] = gb_temp['mean_gb'].apply(lambda x: round(x, 1))\n",
    "#gb_temp.head()"
   ]
  },
  {
   "cell_type": "code",
   "execution_count": 375,
   "id": "a4fd536e",
   "metadata": {},
   "outputs": [],
   "source": [
    "#df = gb_temp\n",
    "#column = 'mean_gb'\n",
    "\n",
    "#y1 = df[df['tariff'] == 'ultra'][column]\n",
    "#y2 = df[df['tariff'] == 'smart'][column]\n",
    "#colors = ['r','b']\n",
    "\n",
    "#fig, ax1 = plt.subplots()\n",
    "#ax1.hist([y1,y2],color=colors,alpha=0.8)\n",
    "#ax1.set_xlim(-10,10)\n",
    "#ax1.set_ylabel(\"Count\")\n",
    "#plt.tight_layout()\n",
    "#plt.rcParams[\"figure.figsize\"] = (10,8)\n",
    "#plt.legend()\n",
    "#plt.show()"
   ]
  },
  {
   "cell_type": "markdown",
   "id": "1d723bb1",
   "metadata": {},
   "source": [
    "Найдем дисперсию и стандартное отклонение тарифа для кол-ва минут разговоров."
   ]
  },
  {
   "cell_type": "code",
   "execution_count": 376,
   "id": "c333fdb1",
   "metadata": {},
   "outputs": [],
   "source": [
    "#gb_temp.head()"
   ]
  },
  {
   "cell_type": "code",
   "execution_count": 377,
   "id": "ae68f2b3",
   "metadata": {},
   "outputs": [],
   "source": [
    "#df = gb_temp\n",
    "#tariff = 'smart'\n",
    "#column = 'mean_gb'\n",
    "\n",
    "#mean = df[df['tariff'] == tariff][column]\n",
    "\n",
    "#Оценка Дисперсии по выборке\n",
    "#variance = np.var(mean, ddof=1)\n",
    "\n",
    "#Оценка стандартного отклонения по выборке\n",
    "#standard_deviation = np.std(mean, ddof=1)\n",
    "\n",
    "#print(f'Для тарифа \"{tariff}\" оценка дисперсии по выборке составляет:', round(variance,2))\n",
    "#print(f'Для тарифа \"{tariff}\" оценка стандартного отклонения по выборке составляет:', round(standard_deviation,2))"
   ]
  },
  {
   "cell_type": "code",
   "execution_count": 378,
   "id": "6b20bab4",
   "metadata": {},
   "outputs": [],
   "source": [
    "#df = gb_temp\n",
    "#tariff = 'ultra'\n",
    "#column = 'mean_gb'\n",
    "\n",
    "#mean = df[df['tariff'] == tariff][column]\n",
    "\n",
    "#Оценка Дисперсии по выборке\n",
    "#variance = np.var(mean, ddof=1)\n",
    "\n",
    "#Оценка стандартного отклонения по выборке\n",
    "#standard_deviation = np.std(mean, ddof=1)\n",
    "\n",
    "#print(f'Для тарифа \"{tariff}\" оценка дисперсии по выборке составляет:', round(variance,2))\n",
    "#print(f'Для тарифа \"{tariff}\" оценка стандартного отклонения по выборке составляет:', round(standard_deviation,2))"
   ]
  },
  {
   "cell_type": "markdown",
   "id": "023b6ac3",
   "metadata": {},
   "source": [
    "Кол-во минут. Построим распределение среднего кол-ва минут в месяц."
   ]
  },
  {
   "cell_type": "code",
   "execution_count": 379,
   "id": "d2f19461",
   "metadata": {},
   "outputs": [],
   "source": [
    "#df = table_minutes\n",
    "#column_name_1 = 'tariff'\n",
    "#column_name_2 = 'month'\n",
    "#column_name_3 = ('sum', 'total_minutes')\n",
    "#column_name_4 = ('mean', 'total_minutes')\n",
    "#d = {column_name_1:df[column_name_1], column_name_2:df[column_name_2], \n",
    "#     'sum_minutes':df[column_name_3], 'mean_minutes':df[column_name_4]}\n",
    "#minutes_temp = pd.DataFrame(d)\n",
    "#minutes_temp['mean_minutes'] = minutes_temp['mean_minutes'].apply(lambda x: round(x, 1))\n",
    "#minutes_temp.head()"
   ]
  },
  {
   "cell_type": "code",
   "execution_count": 380,
   "id": "948ba16b",
   "metadata": {},
   "outputs": [],
   "source": [
    "#df = minutes_temp\n",
    "#column = 'mean_minutes'\n",
    "\n",
    "#y1 = df[df['tariff'] == 'ultra'][column]\n",
    "#y2 = df[df['tariff'] == 'smart'][column]\n",
    "#colors = ['r','b']\n",
    "\n",
    "#fig, ax1 = plt.subplots()\n",
    "#ax1.hist([y1,y2],color=colors,alpha=0.8)\n",
    "#ax1.set_xlim(-10,10)\n",
    "#ax1.set_ylabel(\"Count\")\n",
    "#plt.tight_layout()\n",
    "#plt.rcParams[\"figure.figsize\"] = (10,8)\n",
    "#plt.legend()\n",
    "#plt.show()"
   ]
  },
  {
   "cell_type": "markdown",
   "id": "efdfb7f9",
   "metadata": {},
   "source": [
    "Найдем дисперсию и стандартное отклонение тарифа для кол-ва минут разговоров."
   ]
  },
  {
   "cell_type": "code",
   "execution_count": 381,
   "id": "cc2b0207",
   "metadata": {},
   "outputs": [],
   "source": [
    "#minutes_temp.head()"
   ]
  },
  {
   "cell_type": "code",
   "execution_count": 382,
   "id": "bb2a8279",
   "metadata": {},
   "outputs": [],
   "source": [
    "#df = minutes_temp\n",
    "#tariff = 'smart'\n",
    "#column = 'mean_minutes'\n",
    "\n",
    "#mean = df[df['tariff'] == tariff][column]\n",
    "\n",
    "#Оценка Дисперсии по выборке\n",
    "#variance = np.var(mean, ddof=1)\n",
    "\n",
    "#Оценка стандартного отклонения по выборке\n",
    "#standard_deviation = np.std(mean, ddof=1)\n",
    "\n",
    "#print(f'Для тарифа \"{tariff}\" оценка дисперсии по выборке составляет:', round(variance,2))\n",
    "#print(f'Для тарифа \"{tariff}\" оценка стандартного отклонения по выборке составляет:', round(standard_deviation,2))"
   ]
  },
  {
   "cell_type": "code",
   "execution_count": 383,
   "id": "cdf73f0f",
   "metadata": {},
   "outputs": [],
   "source": [
    "#df = minutes_temp\n",
    "#tariff = 'ultra'\n",
    "#column = 'mean_minutes'\n",
    "\n",
    "#mean = df[df['tariff'] == tariff][column]\n",
    "\n",
    "#Оценка Дисперсии по выборке\n",
    "#variance = np.var(mean, ddof=1)\n",
    "\n",
    "#Оценка стандартного отклонения по выборке\n",
    "#standard_deviation = np.std(mean, ddof=1)\n",
    "\n",
    "#print(f'Для тарифа \"{tariff}\" оценка дисперсии по выборке составляет:', round(variance,2))\n",
    "#print(f'Для тарифа \"{tariff}\" оценка стандартного отклонения по выборке составляет:', round(standard_deviation,2))"
   ]
  },
  {
   "cell_type": "markdown",
   "id": "5e8736ea",
   "metadata": {},
   "source": [
    "<div class=\"alert alert-info\">\n",
    "    \n",
    "## По полученным графикам можно сделать следующие выводы:\n",
    "По этим графикам - гистограммам невозможно сделать никаких выводов.\n",
    "</div>"
   ]
  },
  {
   "cell_type": "markdown",
   "id": "b6368c5c",
   "metadata": {},
   "source": [
    "## Шаг 4. Проверьте гипотезы\n",
    "    - средняя выручка пользователей тарифов «Ультра» и «Смарт» различаются;\n",
    "    - средняя выручка пользователей из Москвы отличается от выручки пользователей из других регионов."
   ]
  },
  {
   "cell_type": "markdown",
   "id": "8b940417",
   "metadata": {},
   "source": [
    "Соберем дата сет, который будет содержать информацию по среднней выручке в зависимости от тарифа."
   ]
  },
  {
   "cell_type": "code",
   "execution_count": 384,
   "id": "ff8ed210",
   "metadata": {},
   "outputs": [],
   "source": [
    "#result_table.head()"
   ]
  },
  {
   "cell_type": "code",
   "execution_count": 385,
   "id": "466813b6",
   "metadata": {},
   "outputs": [],
   "source": [
    "#funct = ['sum', 'mean']\n",
    "\n",
    "#table_payment = result_table.pivot_table(index=['tariff', 'month'], values='payment', aggfunc=funct).reset_index()\n",
    "#table_payment.head()"
   ]
  },
  {
   "cell_type": "code",
   "execution_count": 386,
   "id": "b92ffcec",
   "metadata": {},
   "outputs": [],
   "source": [
    "#df = table_payment\n",
    "#column_name_1 = 'tariff'\n",
    "#column_name_2 = 'month'\n",
    "#column_name_3 = ('sum', 'payment')\n",
    "#column_name_4 = ('mean', 'payment')\n",
    "#d = {column_name_1:df[column_name_1], column_name_2:df[column_name_2], \n",
    "#     'sum_payment':df[column_name_3], 'mean_payment':df[column_name_4]}\n",
    "#payment_temp = pd.DataFrame(d)\n",
    "#payment_temp['mean_payment'] = payment_temp['mean_payment'].apply(lambda x: round(x, 1))\n",
    "#payment_temp.head()"
   ]
  },
  {
   "cell_type": "code",
   "execution_count": 387,
   "id": "a0f4af93",
   "metadata": {},
   "outputs": [],
   "source": [
    "#df = payment_temp\n",
    "#df = df[['tariff', 'month', 'mean_payment']]\n",
    "#order = df['month'].unique()\n",
    "#df_wide = df.pivot_table(index='month', columns='tariff', values='mean_payment')\n",
    "#df_wide = df_wide.reindex(order, axis=0)\n",
    "\n",
    "#print(df_wide)"
   ]
  },
  {
   "cell_type": "code",
   "execution_count": 388,
   "id": "c22a5637",
   "metadata": {},
   "outputs": [],
   "source": [
    "#sns.lineplot(data=df_wide)\n",
    "#plt.xlabel(\"Месяц\")\n",
    "#plt.ylabel(\"Значение средней выручки, Руб.\")\n",
    "#plt.show()"
   ]
  },
  {
   "cell_type": "markdown",
   "id": "888bccd7",
   "metadata": {},
   "source": [
    "<div class=\"alert alert-info\">\n",
    "\n",
    "## По полученным графикам можно сделать следующие выводы:\n",
    "- средняя выручка по тарифу Ультра больше чем по тарифу Смарт на протяжениии года.\n",
    "<div>"
   ]
  },
  {
   "cell_type": "markdown",
   "id": "caec4001",
   "metadata": {},
   "source": [
    "Далее приведу метод решения по теории согласно выдвинутым гипотезам и статистическим методам питона.\n",
    "\n",
    "Почему гтпотезы - двух сторонние. Потому,что нам важно выяснить - ровна ли выручка или нет. \n",
    "\n",
    "Для решения нам понадобятся две выборки с данными с выручкой по месяцам(средняя выручка за месяц, так мы добъемся того, что размеры выборок будут одинаковы и равны 12 элементам в каждой)."
   ]
  },
  {
   "cell_type": "markdown",
   "id": "8516e77a",
   "metadata": {},
   "source": [
    "В Python есть специальный метод для проверки гипотезы о равенстве среднего двух генеральных совокупностей по взятым из них выборкам: scipy.stats.ttest_ind (array1, array2, equal_var). \n",
    "\n",
    "- array1, array2 — массивы, содержащие выборки;\n",
    "\n",
    "- equal_var (от англ. equal variance — «равная дисперсия») — необязательный параметр, задающий, считать ли равными дисперсии выборок. Передаётся как equal_var = True или equal_var = False (True — считать, False — не считать).\n",
    "\n",
    "Рассмотрим три аспекта, которые надо проверить, чтобы понять, можно ли применять t-тест:\n",
    "\n",
    "1. Генеральные совокупности не должны зависеть друг от друга.\n",
    "    Если вы рассматриваете одну генеральную совокупность до и после какого-то изменения, нужно использовать другой тест.\n",
    "2. Выборочные средние должны быть нормально распределены.\n",
    "    А если выборка всего одна, то её среднее должно иметь нормальное распределение для разных выборок этого размера из определённой генеральной совокупности.\n",
    "3. Дисперсии рассматриваемых генеральных совокупностей должны быть равны.\n",
    "\n",
    "Применим выше описанный метод для дата сета df_wide в котором собраны данные средней выручки в месяц для двух тарифов. Для работы загрузим необходимые библиотеки.\n",
    "\n",
    "Что касается параметра equal_var, мне кажется его необходимо активировать, другими словами я делаю предположение о том, что разброс для разных групп будет разный. Под группой я подразумеваю - потребителей разных тарифов, те кто готов платить больше и те кто готов мирится с ограниченностью доступных \"ресурсов\" - минут, сообщений и Гб.(я рассмотрел оба расчета и с активным equal_var и нет, на конечный результат в данной задаче это не повлияло.)"
   ]
  },
  {
   "cell_type": "markdown",
   "id": "5d9dacaa",
   "metadata": {},
   "source": [
    "### Видвинем двух стороннюю нулевую гипотезу Н0:\n",
    "    - средняя выручка пользователей тарифа «Ультра» равна средней выручка пользователей тарифа «Смарт». \n",
    "### Не нулевая двух сторонняя гипотеза Н1:\n",
    "    - средние выручки пользователей тарифов «Ультра» и «Смарт» различаются."
   ]
  },
  {
   "cell_type": "code",
   "execution_count": 389,
   "id": "51f54cfd",
   "metadata": {},
   "outputs": [
    {
     "data": {
      "text/html": [
       "<div>\n",
       "<style scoped>\n",
       "    .dataframe tbody tr th:only-of-type {\n",
       "        vertical-align: middle;\n",
       "    }\n",
       "\n",
       "    .dataframe tbody tr th {\n",
       "        vertical-align: top;\n",
       "    }\n",
       "\n",
       "    .dataframe thead th {\n",
       "        text-align: right;\n",
       "    }\n",
       "</style>\n",
       "<table border=\"1\" class=\"dataframe\">\n",
       "  <thead>\n",
       "    <tr style=\"text-align: right;\">\n",
       "      <th></th>\n",
       "      <th>index</th>\n",
       "      <th>user_id</th>\n",
       "      <th>city</th>\n",
       "      <th>tariff</th>\n",
       "      <th>month</th>\n",
       "      <th>gb_used</th>\n",
       "      <th>number_of_sms</th>\n",
       "      <th>number_of_calls</th>\n",
       "      <th>total_minutes</th>\n",
       "      <th>extra_gb</th>\n",
       "      <th>extra_sms</th>\n",
       "      <th>extra_minutes</th>\n",
       "      <th>extra_gb_rub</th>\n",
       "      <th>extra_sms_rub</th>\n",
       "      <th>extra_minutes_rub</th>\n",
       "      <th>monthly_fee_rub</th>\n",
       "      <th>total_rub</th>\n",
       "    </tr>\n",
       "  </thead>\n",
       "  <tbody>\n",
       "    <tr>\n",
       "      <th>0</th>\n",
       "      <td>0</td>\n",
       "      <td>1000</td>\n",
       "      <td>Краснодар</td>\n",
       "      <td>ultra</td>\n",
       "      <td>2018-05-01</td>\n",
       "      <td>3</td>\n",
       "      <td>22</td>\n",
       "      <td>22</td>\n",
       "      <td>159</td>\n",
       "      <td>0</td>\n",
       "      <td>0</td>\n",
       "      <td>0</td>\n",
       "      <td>0</td>\n",
       "      <td>0</td>\n",
       "      <td>0</td>\n",
       "      <td>1950</td>\n",
       "      <td>1950</td>\n",
       "    </tr>\n",
       "    <tr>\n",
       "      <th>1</th>\n",
       "      <td>1</td>\n",
       "      <td>1000</td>\n",
       "      <td>Краснодар</td>\n",
       "      <td>ultra</td>\n",
       "      <td>2018-06-01</td>\n",
       "      <td>23</td>\n",
       "      <td>60</td>\n",
       "      <td>43</td>\n",
       "      <td>172</td>\n",
       "      <td>0</td>\n",
       "      <td>0</td>\n",
       "      <td>0</td>\n",
       "      <td>0</td>\n",
       "      <td>0</td>\n",
       "      <td>0</td>\n",
       "      <td>1950</td>\n",
       "      <td>1950</td>\n",
       "    </tr>\n",
       "    <tr>\n",
       "      <th>2</th>\n",
       "      <td>2</td>\n",
       "      <td>1000</td>\n",
       "      <td>Краснодар</td>\n",
       "      <td>ultra</td>\n",
       "      <td>2018-07-01</td>\n",
       "      <td>14</td>\n",
       "      <td>75</td>\n",
       "      <td>47</td>\n",
       "      <td>340</td>\n",
       "      <td>0</td>\n",
       "      <td>0</td>\n",
       "      <td>0</td>\n",
       "      <td>0</td>\n",
       "      <td>0</td>\n",
       "      <td>0</td>\n",
       "      <td>1950</td>\n",
       "      <td>1950</td>\n",
       "    </tr>\n",
       "    <tr>\n",
       "      <th>3</th>\n",
       "      <td>3</td>\n",
       "      <td>1000</td>\n",
       "      <td>Краснодар</td>\n",
       "      <td>ultra</td>\n",
       "      <td>2018-08-01</td>\n",
       "      <td>14</td>\n",
       "      <td>81</td>\n",
       "      <td>52</td>\n",
       "      <td>408</td>\n",
       "      <td>0</td>\n",
       "      <td>0</td>\n",
       "      <td>0</td>\n",
       "      <td>0</td>\n",
       "      <td>0</td>\n",
       "      <td>0</td>\n",
       "      <td>1950</td>\n",
       "      <td>1950</td>\n",
       "    </tr>\n",
       "    <tr>\n",
       "      <th>4</th>\n",
       "      <td>4</td>\n",
       "      <td>1000</td>\n",
       "      <td>Краснодар</td>\n",
       "      <td>ultra</td>\n",
       "      <td>2018-09-01</td>\n",
       "      <td>15</td>\n",
       "      <td>57</td>\n",
       "      <td>58</td>\n",
       "      <td>466</td>\n",
       "      <td>0</td>\n",
       "      <td>0</td>\n",
       "      <td>0</td>\n",
       "      <td>0</td>\n",
       "      <td>0</td>\n",
       "      <td>0</td>\n",
       "      <td>1950</td>\n",
       "      <td>1950</td>\n",
       "    </tr>\n",
       "  </tbody>\n",
       "</table>\n",
       "</div>"
      ],
      "text/plain": [
       "   index  user_id       city tariff      month  gb_used  number_of_sms  \\\n",
       "0      0     1000  Краснодар  ultra 2018-05-01        3             22   \n",
       "1      1     1000  Краснодар  ultra 2018-06-01       23             60   \n",
       "2      2     1000  Краснодар  ultra 2018-07-01       14             75   \n",
       "3      3     1000  Краснодар  ultra 2018-08-01       14             81   \n",
       "4      4     1000  Краснодар  ultra 2018-09-01       15             57   \n",
       "\n",
       "   number_of_calls  total_minutes  extra_gb  extra_sms  extra_minutes  \\\n",
       "0               22            159         0          0              0   \n",
       "1               43            172         0          0              0   \n",
       "2               47            340         0          0              0   \n",
       "3               52            408         0          0              0   \n",
       "4               58            466         0          0              0   \n",
       "\n",
       "   extra_gb_rub  extra_sms_rub  extra_minutes_rub  monthly_fee_rub  total_rub  \n",
       "0             0              0                  0             1950       1950  \n",
       "1             0              0                  0             1950       1950  \n",
       "2             0              0                  0             1950       1950  \n",
       "3             0              0                  0             1950       1950  \n",
       "4             0              0                  0             1950       1950  "
      ]
     },
     "execution_count": 389,
     "metadata": {},
     "output_type": "execute_result"
    }
   ],
   "source": [
    "result_table.head()"
   ]
  },
  {
   "cell_type": "code",
   "execution_count": 390,
   "id": "c2c396d6",
   "metadata": {},
   "outputs": [
    {
     "name": "stdout",
     "output_type": "stream",
     "text": [
      "p-значение: 1.927011394420941e-250\n",
      "Отвергаем нулевую гипотезу\n"
     ]
    }
   ],
   "source": [
    "alpha = .05 # критический уровень статистической значимости, если p-value окажется меньше него - отвегнем гипотезу\n",
    "\n",
    "array_1 = result_table['total_rub'][result_table['tariff'] == 'smart']\n",
    "array_2 = result_table['total_rub'][result_table['tariff'] == 'ultra']\n",
    "\n",
    "results = st.ttest_ind(array_1, array_2, equal_var = False)\n",
    "\n",
    "print('p-значение:', results.pvalue)\n",
    "\n",
    "if results.pvalue < alpha:\n",
    "    print(\"Отвергаем нулевую гипотезу\")\n",
    "else:\n",
    "    print(\"Не получилось отвергнуть нулевую гипотезу\") "
   ]
  },
  {
   "cell_type": "markdown",
   "id": "38efaf63",
   "metadata": {},
   "source": [
    "### Полученный результат говорит о том, что - средняя выручка пользователей тарифов «Ультра» и «Смарт» имеет статистически значимые различия.\n"
   ]
  },
  {
   "cell_type": "markdown",
   "id": "7cfcee3f",
   "metadata": {},
   "source": [
    "# Определим средняя выручка пользователей из Москвы отличается от выручки пользователей из других регионов или нет."
   ]
  },
  {
   "cell_type": "markdown",
   "id": "2c1cf6c5",
   "metadata": {},
   "source": [
    "Теперь выдвинем двухстороннюю гипотезу и проверим ее. Нулевая гипотеза Н0 будет звучать так - средняя выручка пользователей из Москвы отличается от выручки пользователей из других регионов. Гипотеза получается двух сторонняя, т.к. нам важен только факт того , что выручка отличается, а в какую сторону, не важно. Альтернативная гипотеза Н1 будет звучать так - средняя выручка пользователей из Москвы не отличается от выручки пользователей из других регионов."
   ]
  },
  {
   "cell_type": "markdown",
   "id": "77480d6e",
   "metadata": {},
   "source": [
    "### Видвинем двух стороннюю нулевую гипотезу Н0:\n",
    "    - средняя выручка пользователей из Москвы равна средней выручке пользователей из других регионов.\n",
    "### Не нулевая двух сторонняя гипотеза Н1:\n",
    "    - средняя выручка пользователей из Москвы отличается от средней выручке пользователей из других регионов."
   ]
  },
  {
   "cell_type": "code",
   "execution_count": 391,
   "id": "7bdeee3c",
   "metadata": {},
   "outputs": [],
   "source": [
    "#funct = ['sum', 'mean']\n",
    "\n",
    "#table_payment_city = result_table.pivot_table(index=['city', 'month'], values='payment', aggfunc=funct).reset_index()\n",
    "#table_payment_city.head()"
   ]
  },
  {
   "cell_type": "code",
   "execution_count": 392,
   "id": "78be85c7",
   "metadata": {},
   "outputs": [],
   "source": [
    "#df = table_payment_city\n",
    "#column_name_1 = 'city'\n",
    "#column_name_2 = 'month'\n",
    "#column_name_3 = ('sum', 'payment')\n",
    "#column_name_4 = ('mean', 'payment')\n",
    "#d = {column_name_1:df[column_name_1], column_name_2:df[column_name_2], \n",
    "#     'sum_payment':df[column_name_3], 'mean_payment':df[column_name_4]}\n",
    "#payment_temp = pd.DataFrame(d)\n",
    "#payment_temp['mean_payment'] = payment_temp['mean_payment'].apply(lambda x: round(x, 1))\n",
    "#table_moscow = payment_temp[payment_temp['city'] == 'Москва']\n",
    "#table_region = payment_temp[payment_temp['city'] != 'Москва']\n",
    "\n",
    "#table_moscow.head()\n",
    "#table_region.head()"
   ]
  },
  {
   "cell_type": "code",
   "execution_count": 393,
   "id": "5031aa03",
   "metadata": {},
   "outputs": [],
   "source": [
    "#table_moscow.head()"
   ]
  },
  {
   "cell_type": "code",
   "execution_count": 394,
   "id": "35caccac",
   "metadata": {},
   "outputs": [
    {
     "name": "stdout",
     "output_type": "stream",
     "text": [
      "p-значение: 0.5216952110000278\n",
      "Не получилось отвергнуть нулевую гипотезу\n"
     ]
    }
   ],
   "source": [
    "alpha = .05 # критический уровень статистической значимости, если p-value окажется меньше него - отвегнем гипотезу\n",
    "\n",
    "array_1 = result_table['total_rub'][result_table['city'] == 'Москва']\n",
    "array_2 = result_table['total_rub'][result_table['city'] != 'Москва']\n",
    "\n",
    "results = st.ttest_ind(array_1, array_2, equal_var = False)\n",
    "\n",
    "print('p-значение:', results.pvalue)\n",
    "\n",
    "if results.pvalue < alpha:\n",
    "    print(\"Отвергаем нулевую гипотезу\")\n",
    "else:\n",
    "    print(\"Не получилось отвергнуть нулевую гипотезу\") "
   ]
  },
  {
   "cell_type": "markdown",
   "id": "9f58b689",
   "metadata": {},
   "source": [
    "### Полученный результат говорит о том, что - средняя выручка по Москве имеет статистически значимые различия от выручки по другим регионам.\n"
   ]
  },
  {
   "cell_type": "markdown",
   "id": "a6737deb",
   "metadata": {},
   "source": [
    "<div class=\"alert alert-info\">\n",
    "\n",
    "## Общий вывод:\n",
    "В ходе данной работы были проделаны следующие шаги:\n",
    "- были определены количественные характеристики пользователей согласно их тратам по обоим тарифам;\n",
    "- посчитанная месячная выручка с каждого пользователя;\n",
    "- были выдвинуты две двухсторонние гипотезы и приведены расчеты для подтверждения или опровержения этих гипотез.\n",
    "    \n",
    "Количественный анализ трат пользователей показал, что пользователи тарифа Ультра тратят больше минут, смс и Гб. Что в свою очередь ведет к тому, что тариф Ультра является более прибыльным для компании. Это же подтверждает анализ месячной выручки. Выдвинутая гипотеза, в свою очередь так же подтверждает, что, тариф Ультра является более прибыльным по месячной выручке. Выдвинутая гипотеза о том, что месячная выручка в Москве ровна выручке в остальных регионах не подтвердилась расчетами и статистическим методом. Обе выдвинутые гипотезы были двух сторонними, что означает, что мы рассматриваем только верно ли предположение или нет, а в какую сторону если нет нам не важно в контексте данной задачи.  Уровень значимости был выбран равным 5%. Уровень значимости численно определяет, где проходит граница вероятности попасть слишком далеко от центра распределения. \n",
    "\n",
    "В качестве перспективного тарифа, можно выделить тариф ультра. По минутам и сообщениям, пользователи не приближаются к пределам. В полне возможно уменьшить пределы и тем самым заставить пользователей превышать лимиты.     \n",
    "<div>"
   ]
  }
 ],
 "metadata": {
  "ExecuteTimeLog": [
   {
    "duration": 1248,
    "start_time": "2022-04-13T18:36:12.154Z"
   },
   {
    "duration": 218,
    "start_time": "2022-04-13T18:36:18.297Z"
   },
   {
    "duration": 91,
    "start_time": "2022-04-13T18:37:25.053Z"
   },
   {
    "duration": 228,
    "start_time": "2022-04-13T18:37:28.709Z"
   },
   {
    "duration": 157,
    "start_time": "2022-04-13T18:37:30.165Z"
   },
   {
    "duration": 8,
    "start_time": "2022-04-13T18:37:32.049Z"
   },
   {
    "duration": 3,
    "start_time": "2022-04-13T18:37:42.898Z"
   },
   {
    "duration": 213,
    "start_time": "2022-04-13T18:37:46.603Z"
   },
   {
    "duration": 9,
    "start_time": "2022-04-13T18:37:56.828Z"
   },
   {
    "duration": 142,
    "start_time": "2022-04-13T18:42:19.687Z"
   },
   {
    "duration": 131,
    "start_time": "2022-04-13T18:45:09.053Z"
   },
   {
    "duration": 4,
    "start_time": "2022-04-13T19:00:09.394Z"
   },
   {
    "duration": 139,
    "start_time": "2022-04-13T19:17:10.002Z"
   },
   {
    "duration": 144,
    "start_time": "2022-04-13T19:31:53.426Z"
   },
   {
    "duration": 163,
    "start_time": "2022-04-13T19:33:15.492Z"
   },
   {
    "duration": 140,
    "start_time": "2022-04-13T19:46:33.149Z"
   },
   {
    "duration": 130,
    "start_time": "2022-04-13T20:29:50.386Z"
   },
   {
    "duration": 77,
    "start_time": "2022-04-20T20:33:46.664Z"
   },
   {
    "duration": 1805,
    "start_time": "2022-04-20T20:34:58.356Z"
   },
   {
    "duration": 613,
    "start_time": "2022-04-20T20:35:03.697Z"
   },
   {
    "duration": 519,
    "start_time": "2022-04-20T20:35:09.110Z"
   },
   {
    "duration": 1634,
    "start_time": "2022-04-20T20:35:55.658Z"
   },
   {
    "duration": 578,
    "start_time": "2022-04-20T20:35:57.295Z"
   },
   {
    "duration": 98,
    "start_time": "2022-04-20T20:35:57.875Z"
   },
   {
    "duration": 0,
    "start_time": "2022-04-20T20:35:57.980Z"
   },
   {
    "duration": 0,
    "start_time": "2022-04-20T20:35:57.982Z"
   },
   {
    "duration": 0,
    "start_time": "2022-04-20T20:35:57.984Z"
   },
   {
    "duration": 0,
    "start_time": "2022-04-20T20:35:57.985Z"
   },
   {
    "duration": 0,
    "start_time": "2022-04-20T20:35:57.987Z"
   },
   {
    "duration": 0,
    "start_time": "2022-04-20T20:35:57.988Z"
   },
   {
    "duration": 0,
    "start_time": "2022-04-20T20:35:57.989Z"
   },
   {
    "duration": 0,
    "start_time": "2022-04-20T20:35:57.990Z"
   },
   {
    "duration": 0,
    "start_time": "2022-04-20T20:35:57.992Z"
   },
   {
    "duration": 0,
    "start_time": "2022-04-20T20:35:57.993Z"
   },
   {
    "duration": 0,
    "start_time": "2022-04-20T20:35:57.994Z"
   },
   {
    "duration": 0,
    "start_time": "2022-04-20T20:35:57.995Z"
   },
   {
    "duration": 0,
    "start_time": "2022-04-20T20:35:57.997Z"
   },
   {
    "duration": 0,
    "start_time": "2022-04-20T20:35:57.999Z"
   },
   {
    "duration": 0,
    "start_time": "2022-04-20T20:35:58.000Z"
   },
   {
    "duration": 0,
    "start_time": "2022-04-20T20:35:58.002Z"
   },
   {
    "duration": 1,
    "start_time": "2022-04-20T20:35:58.004Z"
   },
   {
    "duration": 0,
    "start_time": "2022-04-20T20:35:58.007Z"
   },
   {
    "duration": 0,
    "start_time": "2022-04-20T20:35:58.009Z"
   },
   {
    "duration": 0,
    "start_time": "2022-04-20T20:35:58.011Z"
   },
   {
    "duration": 0,
    "start_time": "2022-04-20T20:35:58.013Z"
   },
   {
    "duration": 0,
    "start_time": "2022-04-20T20:35:58.015Z"
   },
   {
    "duration": 0,
    "start_time": "2022-04-20T20:35:58.017Z"
   },
   {
    "duration": 0,
    "start_time": "2022-04-20T20:35:58.019Z"
   },
   {
    "duration": 0,
    "start_time": "2022-04-20T20:35:58.022Z"
   },
   {
    "duration": 0,
    "start_time": "2022-04-20T20:35:58.024Z"
   },
   {
    "duration": 0,
    "start_time": "2022-04-20T20:35:58.025Z"
   },
   {
    "duration": 0,
    "start_time": "2022-04-20T20:35:58.082Z"
   },
   {
    "duration": 0,
    "start_time": "2022-04-20T20:35:58.084Z"
   },
   {
    "duration": 0,
    "start_time": "2022-04-20T20:35:58.086Z"
   },
   {
    "duration": 0,
    "start_time": "2022-04-20T20:35:58.089Z"
   },
   {
    "duration": 0,
    "start_time": "2022-04-20T20:35:58.091Z"
   },
   {
    "duration": 0,
    "start_time": "2022-04-20T20:35:58.093Z"
   },
   {
    "duration": 0,
    "start_time": "2022-04-20T20:35:58.095Z"
   },
   {
    "duration": 0,
    "start_time": "2022-04-20T20:35:58.097Z"
   },
   {
    "duration": 0,
    "start_time": "2022-04-20T20:35:58.099Z"
   },
   {
    "duration": 0,
    "start_time": "2022-04-20T20:35:58.102Z"
   },
   {
    "duration": 0,
    "start_time": "2022-04-20T20:35:58.104Z"
   },
   {
    "duration": 0,
    "start_time": "2022-04-20T20:35:58.105Z"
   },
   {
    "duration": 0,
    "start_time": "2022-04-20T20:35:58.108Z"
   },
   {
    "duration": 0,
    "start_time": "2022-04-20T20:35:58.110Z"
   },
   {
    "duration": 0,
    "start_time": "2022-04-20T20:35:58.111Z"
   },
   {
    "duration": 0,
    "start_time": "2022-04-20T20:35:58.114Z"
   },
   {
    "duration": 0,
    "start_time": "2022-04-20T20:35:58.116Z"
   },
   {
    "duration": 0,
    "start_time": "2022-04-20T20:35:58.118Z"
   },
   {
    "duration": 0,
    "start_time": "2022-04-20T20:35:58.185Z"
   },
   {
    "duration": 0,
    "start_time": "2022-04-20T20:35:58.187Z"
   },
   {
    "duration": 0,
    "start_time": "2022-04-20T20:35:58.189Z"
   },
   {
    "duration": 0,
    "start_time": "2022-04-20T20:35:58.191Z"
   },
   {
    "duration": 0,
    "start_time": "2022-04-20T20:35:58.193Z"
   },
   {
    "duration": 0,
    "start_time": "2022-04-20T20:35:58.195Z"
   },
   {
    "duration": 0,
    "start_time": "2022-04-20T20:35:58.197Z"
   },
   {
    "duration": 1,
    "start_time": "2022-04-20T20:35:58.199Z"
   },
   {
    "duration": 0,
    "start_time": "2022-04-20T20:35:58.202Z"
   },
   {
    "duration": 0,
    "start_time": "2022-04-20T20:35:58.204Z"
   },
   {
    "duration": 0,
    "start_time": "2022-04-20T20:35:58.206Z"
   },
   {
    "duration": 0,
    "start_time": "2022-04-20T20:35:58.208Z"
   },
   {
    "duration": 0,
    "start_time": "2022-04-20T20:35:58.210Z"
   },
   {
    "duration": 0,
    "start_time": "2022-04-20T20:35:58.213Z"
   },
   {
    "duration": 0,
    "start_time": "2022-04-20T20:35:58.215Z"
   },
   {
    "duration": 0,
    "start_time": "2022-04-20T20:35:58.217Z"
   },
   {
    "duration": 0,
    "start_time": "2022-04-20T20:35:58.219Z"
   },
   {
    "duration": 0,
    "start_time": "2022-04-20T20:35:58.282Z"
   },
   {
    "duration": 0,
    "start_time": "2022-04-20T20:35:58.284Z"
   },
   {
    "duration": 0,
    "start_time": "2022-04-20T20:35:58.287Z"
   },
   {
    "duration": 0,
    "start_time": "2022-04-20T20:35:58.289Z"
   },
   {
    "duration": 0,
    "start_time": "2022-04-20T20:35:58.291Z"
   },
   {
    "duration": 0,
    "start_time": "2022-04-20T20:35:58.294Z"
   },
   {
    "duration": 0,
    "start_time": "2022-04-20T20:35:58.296Z"
   },
   {
    "duration": 0,
    "start_time": "2022-04-20T20:35:58.298Z"
   },
   {
    "duration": 0,
    "start_time": "2022-04-20T20:35:58.301Z"
   },
   {
    "duration": 0,
    "start_time": "2022-04-20T20:35:58.303Z"
   },
   {
    "duration": 0,
    "start_time": "2022-04-20T20:35:58.305Z"
   },
   {
    "duration": 0,
    "start_time": "2022-04-20T20:35:58.308Z"
   },
   {
    "duration": 0,
    "start_time": "2022-04-20T20:35:58.310Z"
   },
   {
    "duration": 0,
    "start_time": "2022-04-20T20:35:58.313Z"
   },
   {
    "duration": 0,
    "start_time": "2022-04-20T20:35:58.315Z"
   },
   {
    "duration": 0,
    "start_time": "2022-04-20T20:35:58.317Z"
   },
   {
    "duration": 0,
    "start_time": "2022-04-20T20:35:58.383Z"
   },
   {
    "duration": 0,
    "start_time": "2022-04-20T20:35:58.385Z"
   },
   {
    "duration": 0,
    "start_time": "2022-04-20T20:35:58.387Z"
   },
   {
    "duration": 0,
    "start_time": "2022-04-20T20:35:58.390Z"
   },
   {
    "duration": 0,
    "start_time": "2022-04-20T20:35:58.392Z"
   },
   {
    "duration": 0,
    "start_time": "2022-04-20T20:35:58.394Z"
   },
   {
    "duration": 0,
    "start_time": "2022-04-20T20:35:58.396Z"
   },
   {
    "duration": 0,
    "start_time": "2022-04-20T20:35:58.398Z"
   },
   {
    "duration": 0,
    "start_time": "2022-04-20T20:35:58.401Z"
   },
   {
    "duration": 0,
    "start_time": "2022-04-20T20:35:58.403Z"
   },
   {
    "duration": 0,
    "start_time": "2022-04-20T20:35:58.405Z"
   },
   {
    "duration": 0,
    "start_time": "2022-04-20T20:35:58.407Z"
   },
   {
    "duration": 0,
    "start_time": "2022-04-20T20:35:58.409Z"
   },
   {
    "duration": 0,
    "start_time": "2022-04-20T20:35:58.412Z"
   },
   {
    "duration": 0,
    "start_time": "2022-04-20T20:35:58.413Z"
   },
   {
    "duration": 0,
    "start_time": "2022-04-20T20:35:58.415Z"
   },
   {
    "duration": 0,
    "start_time": "2022-04-20T20:35:58.418Z"
   },
   {
    "duration": 0,
    "start_time": "2022-04-20T20:35:58.419Z"
   },
   {
    "duration": 0,
    "start_time": "2022-04-20T20:35:58.421Z"
   },
   {
    "duration": 0,
    "start_time": "2022-04-20T20:35:58.483Z"
   },
   {
    "duration": 0,
    "start_time": "2022-04-20T20:35:58.485Z"
   },
   {
    "duration": 0,
    "start_time": "2022-04-20T20:35:58.487Z"
   },
   {
    "duration": 1,
    "start_time": "2022-04-20T20:35:58.489Z"
   },
   {
    "duration": 0,
    "start_time": "2022-04-20T20:35:58.492Z"
   },
   {
    "duration": 0,
    "start_time": "2022-04-20T20:35:58.494Z"
   },
   {
    "duration": 0,
    "start_time": "2022-04-20T20:35:58.496Z"
   },
   {
    "duration": 0,
    "start_time": "2022-04-20T20:35:58.498Z"
   },
   {
    "duration": 0,
    "start_time": "2022-04-20T20:35:58.500Z"
   },
   {
    "duration": 0,
    "start_time": "2022-04-20T20:35:58.502Z"
   },
   {
    "duration": 0,
    "start_time": "2022-04-20T20:35:58.504Z"
   },
   {
    "duration": 0,
    "start_time": "2022-04-20T20:35:58.507Z"
   },
   {
    "duration": 0,
    "start_time": "2022-04-20T20:35:58.509Z"
   },
   {
    "duration": 0,
    "start_time": "2022-04-20T20:35:58.513Z"
   },
   {
    "duration": 0,
    "start_time": "2022-04-20T20:35:58.515Z"
   },
   {
    "duration": 1,
    "start_time": "2022-04-20T20:35:58.516Z"
   },
   {
    "duration": 0,
    "start_time": "2022-04-20T20:35:58.519Z"
   },
   {
    "duration": 0,
    "start_time": "2022-04-20T20:35:58.582Z"
   },
   {
    "duration": 0,
    "start_time": "2022-04-20T20:35:58.584Z"
   },
   {
    "duration": 0,
    "start_time": "2022-04-20T20:35:58.587Z"
   },
   {
    "duration": 0,
    "start_time": "2022-04-20T20:35:58.589Z"
   },
   {
    "duration": 0,
    "start_time": "2022-04-20T20:35:58.591Z"
   },
   {
    "duration": 0,
    "start_time": "2022-04-20T20:35:58.593Z"
   },
   {
    "duration": 4,
    "start_time": "2022-04-20T20:41:32.684Z"
   },
   {
    "duration": 570,
    "start_time": "2022-04-20T20:41:34.140Z"
   },
   {
    "duration": 492,
    "start_time": "2022-04-20T20:41:36.794Z"
   },
   {
    "duration": 19,
    "start_time": "2022-04-20T20:41:38.637Z"
   },
   {
    "duration": 35,
    "start_time": "2022-04-20T20:41:43.185Z"
   },
   {
    "duration": 5,
    "start_time": "2022-04-20T20:41:50.447Z"
   },
   {
    "duration": 11,
    "start_time": "2022-04-20T20:42:02.724Z"
   },
   {
    "duration": 34,
    "start_time": "2022-04-20T20:42:03.530Z"
   },
   {
    "duration": 46,
    "start_time": "2022-04-20T20:42:15.374Z"
   },
   {
    "duration": 27,
    "start_time": "2022-04-20T20:42:15.797Z"
   },
   {
    "duration": 7,
    "start_time": "2022-04-20T20:42:16.886Z"
   },
   {
    "duration": 279,
    "start_time": "2022-04-20T20:42:18.412Z"
   },
   {
    "duration": 15,
    "start_time": "2022-04-20T20:43:38.339Z"
   },
   {
    "duration": 15,
    "start_time": "2022-04-20T20:43:39.282Z"
   },
   {
    "duration": 8,
    "start_time": "2022-04-20T20:43:41.118Z"
   },
   {
    "duration": 16,
    "start_time": "2022-04-20T20:43:41.594Z"
   },
   {
    "duration": 22,
    "start_time": "2022-04-20T20:43:42.689Z"
   },
   {
    "duration": 10,
    "start_time": "2022-04-20T20:43:49.379Z"
   },
   {
    "duration": 26,
    "start_time": "2022-04-20T20:43:50.132Z"
   },
   {
    "duration": 33,
    "start_time": "2022-04-20T20:43:51.362Z"
   },
   {
    "duration": 20,
    "start_time": "2022-04-20T20:43:52.580Z"
   },
   {
    "duration": 123,
    "start_time": "2022-04-20T20:43:53.264Z"
   },
   {
    "duration": 29,
    "start_time": "2022-04-20T20:43:59.076Z"
   },
   {
    "duration": 12,
    "start_time": "2022-04-20T20:43:59.453Z"
   },
   {
    "duration": 17,
    "start_time": "2022-04-20T20:44:05.930Z"
   },
   {
    "duration": 35,
    "start_time": "2022-04-20T20:44:08.035Z"
   },
   {
    "duration": 25,
    "start_time": "2022-04-20T20:44:08.571Z"
   },
   {
    "duration": 4,
    "start_time": "2022-04-20T20:47:47.690Z"
   },
   {
    "duration": 12,
    "start_time": "2022-04-20T20:47:48.753Z"
   },
   {
    "duration": 15,
    "start_time": "2022-04-20T20:47:50.990Z"
   },
   {
    "duration": 11,
    "start_time": "2022-04-20T20:48:04.853Z"
   },
   {
    "duration": 12,
    "start_time": "2022-04-20T20:48:09.746Z"
   },
   {
    "duration": 15,
    "start_time": "2022-04-20T20:48:12.424Z"
   },
   {
    "duration": 99,
    "start_time": "2022-04-20T20:48:59.344Z"
   },
   {
    "duration": 12,
    "start_time": "2022-04-20T20:49:22.221Z"
   },
   {
    "duration": 16,
    "start_time": "2022-04-20T20:49:23.065Z"
   },
   {
    "duration": 19,
    "start_time": "2022-04-20T20:49:24.168Z"
   },
   {
    "duration": 11,
    "start_time": "2022-04-20T20:49:58.344Z"
   },
   {
    "duration": 66,
    "start_time": "2022-04-20T20:49:59.004Z"
   },
   {
    "duration": 14,
    "start_time": "2022-04-20T20:50:08.650Z"
   },
   {
    "duration": 13,
    "start_time": "2022-04-20T20:51:49.042Z"
   },
   {
    "duration": 12,
    "start_time": "2022-04-20T20:51:49.708Z"
   },
   {
    "duration": 14,
    "start_time": "2022-04-20T20:51:50.703Z"
   },
   {
    "duration": 259,
    "start_time": "2022-04-20T20:52:32.193Z"
   },
   {
    "duration": 121,
    "start_time": "2022-04-20T20:53:45.379Z"
   },
   {
    "duration": 26,
    "start_time": "2022-04-20T20:54:09.825Z"
   },
   {
    "duration": 7,
    "start_time": "2022-04-20T20:54:10.328Z"
   },
   {
    "duration": 294,
    "start_time": "2022-04-20T20:54:11.058Z"
   },
   {
    "duration": 15,
    "start_time": "2022-04-20T20:54:12.980Z"
   },
   {
    "duration": 16,
    "start_time": "2022-04-20T20:54:13.170Z"
   },
   {
    "duration": 8,
    "start_time": "2022-04-20T20:54:13.518Z"
   },
   {
    "duration": 18,
    "start_time": "2022-04-20T20:54:13.712Z"
   },
   {
    "duration": 23,
    "start_time": "2022-04-20T20:54:13.885Z"
   },
   {
    "duration": 12,
    "start_time": "2022-04-20T20:54:14.769Z"
   },
   {
    "duration": 23,
    "start_time": "2022-04-20T20:54:15.342Z"
   },
   {
    "duration": 20,
    "start_time": "2022-04-20T20:54:15.715Z"
   },
   {
    "duration": 21,
    "start_time": "2022-04-20T20:54:15.914Z"
   },
   {
    "duration": 155,
    "start_time": "2022-04-20T20:54:16.095Z"
   },
   {
    "duration": 27,
    "start_time": "2022-04-20T20:54:17.439Z"
   },
   {
    "duration": 16,
    "start_time": "2022-04-20T20:54:17.637Z"
   },
   {
    "duration": 24,
    "start_time": "2022-04-20T20:54:17.996Z"
   },
   {
    "duration": 23,
    "start_time": "2022-04-20T20:54:18.496Z"
   },
   {
    "duration": 26,
    "start_time": "2022-04-20T20:54:18.670Z"
   },
   {
    "duration": 4,
    "start_time": "2022-04-20T20:54:33.818Z"
   },
   {
    "duration": 558,
    "start_time": "2022-04-20T20:54:33.824Z"
   },
   {
    "duration": 491,
    "start_time": "2022-04-20T20:54:34.385Z"
   },
   {
    "duration": 12,
    "start_time": "2022-04-20T20:54:34.879Z"
   },
   {
    "duration": 34,
    "start_time": "2022-04-20T20:54:35.119Z"
   },
   {
    "duration": 5,
    "start_time": "2022-04-20T20:54:35.410Z"
   },
   {
    "duration": 11,
    "start_time": "2022-04-20T20:54:36.017Z"
   },
   {
    "duration": 33,
    "start_time": "2022-04-20T20:54:36.158Z"
   },
   {
    "duration": 47,
    "start_time": "2022-04-20T20:54:36.681Z"
   },
   {
    "duration": 27,
    "start_time": "2022-04-20T20:54:36.830Z"
   },
   {
    "duration": 6,
    "start_time": "2022-04-20T20:54:36.984Z"
   },
   {
    "duration": 277,
    "start_time": "2022-04-20T20:54:37.376Z"
   },
   {
    "duration": 14,
    "start_time": "2022-04-20T20:54:39.934Z"
   },
   {
    "duration": 15,
    "start_time": "2022-04-20T20:54:40.180Z"
   },
   {
    "duration": 9,
    "start_time": "2022-04-20T20:54:40.572Z"
   },
   {
    "duration": 16,
    "start_time": "2022-04-20T20:54:40.729Z"
   },
   {
    "duration": 24,
    "start_time": "2022-04-20T20:54:40.866Z"
   },
   {
    "duration": 11,
    "start_time": "2022-04-20T20:54:41.388Z"
   },
   {
    "duration": 27,
    "start_time": "2022-04-20T20:54:41.895Z"
   },
   {
    "duration": 31,
    "start_time": "2022-04-20T20:54:42.218Z"
   },
   {
    "duration": 21,
    "start_time": "2022-04-20T20:54:42.377Z"
   },
   {
    "duration": 125,
    "start_time": "2022-04-20T20:54:42.562Z"
   },
   {
    "duration": 30,
    "start_time": "2022-04-20T20:54:43.738Z"
   },
   {
    "duration": 13,
    "start_time": "2022-04-20T20:54:44.160Z"
   },
   {
    "duration": 17,
    "start_time": "2022-04-20T20:54:44.571Z"
   },
   {
    "duration": 35,
    "start_time": "2022-04-20T20:54:47.754Z"
   },
   {
    "duration": 22,
    "start_time": "2022-04-20T20:54:47.914Z"
   },
   {
    "duration": 20,
    "start_time": "2022-04-20T20:54:48.359Z"
   },
   {
    "duration": 153,
    "start_time": "2022-04-20T20:54:48.502Z"
   },
   {
    "duration": 4,
    "start_time": "2022-04-20T20:54:49.270Z"
   },
   {
    "duration": 12,
    "start_time": "2022-04-20T20:54:49.603Z"
   },
   {
    "duration": 16,
    "start_time": "2022-04-20T20:54:49.762Z"
   },
   {
    "duration": 6,
    "start_time": "2022-04-20T20:54:50.237Z"
   },
   {
    "duration": 12,
    "start_time": "2022-04-20T20:54:50.414Z"
   },
   {
    "duration": 16,
    "start_time": "2022-04-20T20:54:50.605Z"
   },
   {
    "duration": 4,
    "start_time": "2022-04-20T20:54:51.074Z"
   },
   {
    "duration": 11,
    "start_time": "2022-04-20T20:54:51.431Z"
   },
   {
    "duration": 15,
    "start_time": "2022-04-20T20:54:51.662Z"
   },
   {
    "duration": 20,
    "start_time": "2022-04-20T20:54:52.377Z"
   },
   {
    "duration": 12,
    "start_time": "2022-04-20T20:54:55.426Z"
   },
   {
    "duration": 66,
    "start_time": "2022-04-20T20:54:55.597Z"
   },
   {
    "duration": 13,
    "start_time": "2022-04-20T20:54:57.332Z"
   },
   {
    "duration": 11,
    "start_time": "2022-04-20T20:54:57.935Z"
   },
   {
    "duration": 13,
    "start_time": "2022-04-20T20:54:58.680Z"
   },
   {
    "duration": 150,
    "start_time": "2022-04-20T20:55:04.213Z"
   },
   {
    "duration": 144,
    "start_time": "2022-04-20T20:55:15.864Z"
   },
   {
    "duration": 138,
    "start_time": "2022-04-20T20:56:39.231Z"
   },
   {
    "duration": 76,
    "start_time": "2022-04-20T20:56:48.556Z"
   },
   {
    "duration": 77,
    "start_time": "2022-04-20T20:56:57.787Z"
   },
   {
    "duration": 15,
    "start_time": "2022-04-20T20:57:40.590Z"
   },
   {
    "duration": 143,
    "start_time": "2022-04-20T20:58:14.888Z"
   },
   {
    "duration": 147,
    "start_time": "2022-04-20T20:58:27.381Z"
   },
   {
    "duration": 137,
    "start_time": "2022-04-20T20:58:45.691Z"
   },
   {
    "duration": 15,
    "start_time": "2022-04-20T21:01:30.047Z"
   },
   {
    "duration": 11,
    "start_time": "2022-04-20T21:01:35.771Z"
   },
   {
    "duration": 12,
    "start_time": "2022-04-20T21:01:56.469Z"
   },
   {
    "duration": 146,
    "start_time": "2022-04-20T21:02:17.279Z"
   },
   {
    "duration": 16,
    "start_time": "2022-04-20T21:02:20.374Z"
   },
   {
    "duration": 18,
    "start_time": "2022-04-20T21:02:21.887Z"
   },
   {
    "duration": 14,
    "start_time": "2022-04-20T21:02:48.735Z"
   },
   {
    "duration": 14,
    "start_time": "2022-04-20T21:02:49.912Z"
   },
   {
    "duration": 12,
    "start_time": "2022-04-20T21:03:12.635Z"
   },
   {
    "duration": 16,
    "start_time": "2022-04-20T21:03:14.333Z"
   },
   {
    "duration": 12,
    "start_time": "2022-04-20T21:03:14.963Z"
   },
   {
    "duration": 13,
    "start_time": "2022-04-20T21:03:30.947Z"
   },
   {
    "duration": 20,
    "start_time": "2022-04-20T21:03:31.509Z"
   },
   {
    "duration": 14,
    "start_time": "2022-04-20T21:03:35.300Z"
   },
   {
    "duration": 21,
    "start_time": "2022-04-20T21:03:36.789Z"
   },
   {
    "duration": 13,
    "start_time": "2022-04-20T21:09:25.535Z"
   },
   {
    "duration": 17,
    "start_time": "2022-04-20T21:09:28.334Z"
   },
   {
    "duration": 21,
    "start_time": "2022-04-20T21:11:38.345Z"
   },
   {
    "duration": 13,
    "start_time": "2022-04-20T21:11:43.745Z"
   },
   {
    "duration": 18,
    "start_time": "2022-04-20T21:11:44.604Z"
   },
   {
    "duration": 38,
    "start_time": "2022-04-20T21:11:46.126Z"
   },
   {
    "duration": 13,
    "start_time": "2022-04-20T21:11:47.154Z"
   },
   {
    "duration": 27,
    "start_time": "2022-04-20T21:11:49.155Z"
   },
   {
    "duration": 10,
    "start_time": "2022-04-20T21:11:50.054Z"
   },
   {
    "duration": 292,
    "start_time": "2022-04-20T21:11:51.478Z"
   },
   {
    "duration": 31,
    "start_time": "2022-04-20T21:12:02.342Z"
   },
   {
    "duration": 16,
    "start_time": "2022-04-20T21:12:08.725Z"
   },
   {
    "duration": 10,
    "start_time": "2022-04-20T21:18:06.801Z"
   },
   {
    "duration": 284,
    "start_time": "2022-04-20T21:18:07.743Z"
   },
   {
    "duration": 34,
    "start_time": "2022-04-20T21:18:08.970Z"
   },
   {
    "duration": 19,
    "start_time": "2022-04-20T21:18:10.301Z"
   },
   {
    "duration": 7,
    "start_time": "2022-04-20T21:18:53.609Z"
   },
   {
    "duration": 87,
    "start_time": "2022-04-20T21:24:00.515Z"
   },
   {
    "duration": 22,
    "start_time": "2022-04-20T21:24:10.622Z"
   },
   {
    "duration": 88,
    "start_time": "2022-04-20T21:24:41.891Z"
   },
   {
    "duration": 21,
    "start_time": "2022-04-20T21:24:45.993Z"
   },
   {
    "duration": 376,
    "start_time": "2022-04-20T21:24:47.698Z"
   },
   {
    "duration": 14,
    "start_time": "2022-04-20T21:24:56.681Z"
   },
   {
    "duration": 10,
    "start_time": "2022-04-20T21:24:59.370Z"
   },
   {
    "duration": 10,
    "start_time": "2022-04-20T21:25:01.155Z"
   },
   {
    "duration": 23,
    "start_time": "2022-04-20T21:25:10.025Z"
   },
   {
    "duration": 408,
    "start_time": "2022-04-20T21:25:11.132Z"
   },
   {
    "duration": 13,
    "start_time": "2022-04-20T21:25:17.653Z"
   },
   {
    "duration": 9,
    "start_time": "2022-04-20T21:25:18.211Z"
   },
   {
    "duration": 10,
    "start_time": "2022-04-20T21:25:18.932Z"
   },
   {
    "duration": 23,
    "start_time": "2022-04-20T21:25:20.151Z"
   },
   {
    "duration": 436,
    "start_time": "2022-04-20T21:25:20.838Z"
   },
   {
    "duration": 13,
    "start_time": "2022-04-20T21:25:23.144Z"
   },
   {
    "duration": 10,
    "start_time": "2022-04-20T21:25:23.458Z"
   },
   {
    "duration": 9,
    "start_time": "2022-04-20T21:25:23.961Z"
   },
   {
    "duration": 15,
    "start_time": "2022-04-20T21:25:38.236Z"
   },
   {
    "duration": 94,
    "start_time": "2022-04-20T21:35:35.016Z"
   },
   {
    "duration": 22,
    "start_time": "2022-04-20T21:35:43.719Z"
   },
   {
    "duration": 448,
    "start_time": "2022-04-20T21:35:44.611Z"
   },
   {
    "duration": 13,
    "start_time": "2022-04-20T21:35:46.097Z"
   },
   {
    "duration": 10,
    "start_time": "2022-04-20T21:35:47.695Z"
   },
   {
    "duration": 9,
    "start_time": "2022-04-20T21:35:48.229Z"
   },
   {
    "duration": 23,
    "start_time": "2022-04-20T21:35:49.281Z"
   },
   {
    "duration": 409,
    "start_time": "2022-04-20T21:35:50.024Z"
   },
   {
    "duration": 13,
    "start_time": "2022-04-20T21:35:51.353Z"
   },
   {
    "duration": 9,
    "start_time": "2022-04-20T21:35:51.964Z"
   },
   {
    "duration": 10,
    "start_time": "2022-04-20T21:35:52.614Z"
   },
   {
    "duration": 24,
    "start_time": "2022-04-20T21:35:54.306Z"
   },
   {
    "duration": 504,
    "start_time": "2022-04-20T21:35:54.963Z"
   },
   {
    "duration": 14,
    "start_time": "2022-04-20T21:35:57.659Z"
   },
   {
    "duration": 10,
    "start_time": "2022-04-20T21:35:59.499Z"
   },
   {
    "duration": 9,
    "start_time": "2022-04-20T21:36:01.071Z"
   },
   {
    "duration": 15,
    "start_time": "2022-04-20T21:40:45.585Z"
   },
   {
    "duration": 41,
    "start_time": "2022-04-20T21:40:55.092Z"
   },
   {
    "duration": 23,
    "start_time": "2022-04-20T21:41:02.750Z"
   },
   {
    "duration": 34,
    "start_time": "2022-04-20T21:41:17.473Z"
   },
   {
    "duration": 756,
    "start_time": "2022-04-20T21:41:21.499Z"
   },
   {
    "duration": 9,
    "start_time": "2022-04-20T21:41:39.874Z"
   },
   {
    "duration": 44,
    "start_time": "2022-04-20T21:48:16.532Z"
   },
   {
    "duration": 23,
    "start_time": "2022-04-20T21:48:17.183Z"
   },
   {
    "duration": 29,
    "start_time": "2022-04-20T21:48:17.732Z"
   },
   {
    "duration": 376,
    "start_time": "2022-04-20T21:48:21.165Z"
   },
   {
    "duration": 7,
    "start_time": "2022-04-20T21:50:12.296Z"
   },
   {
    "duration": 109,
    "start_time": "2022-04-20T21:50:58.059Z"
   },
   {
    "duration": 41,
    "start_time": "2022-04-20T21:51:28.474Z"
   },
   {
    "duration": 27,
    "start_time": "2022-04-20T21:51:31.875Z"
   },
   {
    "duration": 14,
    "start_time": "2022-04-20T21:51:36.068Z"
   },
   {
    "duration": 12,
    "start_time": "2022-04-20T21:51:36.871Z"
   },
   {
    "duration": 42,
    "start_time": "2022-04-20T21:52:50.729Z"
   },
   {
    "duration": 27,
    "start_time": "2022-04-20T21:52:51.152Z"
   },
   {
    "duration": 12,
    "start_time": "2022-04-20T21:52:51.667Z"
   },
   {
    "duration": 7,
    "start_time": "2022-04-20T21:52:52.488Z"
   },
   {
    "duration": 13,
    "start_time": "2022-04-20T21:54:16.782Z"
   },
   {
    "duration": 13,
    "start_time": "2022-04-20T21:54:27.185Z"
   },
   {
    "duration": 12,
    "start_time": "2022-04-20T21:54:28.644Z"
   },
   {
    "duration": 12,
    "start_time": "2022-04-20T21:54:29.826Z"
   },
   {
    "duration": 12,
    "start_time": "2022-04-20T21:54:31.027Z"
   },
   {
    "duration": 11,
    "start_time": "2022-04-20T21:54:35.504Z"
   },
   {
    "duration": 12,
    "start_time": "2022-04-20T21:54:36.628Z"
   },
   {
    "duration": 1866,
    "start_time": "2022-04-25T09:46:57.001Z"
   },
   {
    "duration": 638,
    "start_time": "2022-04-25T09:46:58.869Z"
   },
   {
    "duration": 19,
    "start_time": "2022-04-25T09:46:59.509Z"
   },
   {
    "duration": 35,
    "start_time": "2022-04-25T09:46:59.531Z"
   },
   {
    "duration": 6,
    "start_time": "2022-04-25T09:46:59.594Z"
   },
   {
    "duration": 18,
    "start_time": "2022-04-25T09:46:59.602Z"
   },
   {
    "duration": 34,
    "start_time": "2022-04-25T09:46:59.622Z"
   },
   {
    "duration": 69,
    "start_time": "2022-04-25T09:46:59.658Z"
   },
   {
    "duration": 25,
    "start_time": "2022-04-25T09:46:59.729Z"
   },
   {
    "duration": 7,
    "start_time": "2022-04-25T09:46:59.758Z"
   },
   {
    "duration": 315,
    "start_time": "2022-04-25T09:46:59.767Z"
   },
   {
    "duration": 20,
    "start_time": "2022-04-25T09:47:00.084Z"
   },
   {
    "duration": 23,
    "start_time": "2022-04-25T09:47:00.107Z"
   },
   {
    "duration": 12,
    "start_time": "2022-04-25T09:47:00.132Z"
   },
   {
    "duration": 22,
    "start_time": "2022-04-25T09:47:00.146Z"
   },
   {
    "duration": 43,
    "start_time": "2022-04-25T09:47:00.170Z"
   },
   {
    "duration": 10,
    "start_time": "2022-04-25T09:47:00.215Z"
   },
   {
    "duration": 27,
    "start_time": "2022-04-25T09:47:00.227Z"
   },
   {
    "duration": 60,
    "start_time": "2022-04-25T09:47:00.256Z"
   },
   {
    "duration": 21,
    "start_time": "2022-04-25T09:47:00.318Z"
   },
   {
    "duration": 166,
    "start_time": "2022-04-25T09:47:00.342Z"
   },
   {
    "duration": 29,
    "start_time": "2022-04-25T09:47:00.510Z"
   },
   {
    "duration": 12,
    "start_time": "2022-04-25T09:47:00.541Z"
   },
   {
    "duration": 50,
    "start_time": "2022-04-25T09:47:00.556Z"
   },
   {
    "duration": 63,
    "start_time": "2022-04-25T09:47:00.608Z"
   },
   {
    "duration": 22,
    "start_time": "2022-04-25T09:47:00.674Z"
   },
   {
    "duration": 27,
    "start_time": "2022-04-25T09:47:00.699Z"
   },
   {
    "duration": 181,
    "start_time": "2022-04-25T09:47:00.735Z"
   },
   {
    "duration": 10,
    "start_time": "2022-04-25T09:47:00.918Z"
   },
   {
    "duration": 32,
    "start_time": "2022-04-25T09:47:00.930Z"
   },
   {
    "duration": 24,
    "start_time": "2022-04-25T09:47:00.964Z"
   },
   {
    "duration": 28,
    "start_time": "2022-04-25T09:47:00.990Z"
   },
   {
    "duration": 19,
    "start_time": "2022-04-25T09:47:01.020Z"
   },
   {
    "duration": 38,
    "start_time": "2022-04-25T09:47:01.042Z"
   },
   {
    "duration": 16,
    "start_time": "2022-04-25T09:47:01.082Z"
   },
   {
    "duration": 26,
    "start_time": "2022-04-25T09:47:01.100Z"
   },
   {
    "duration": 40,
    "start_time": "2022-04-25T09:47:01.129Z"
   },
   {
    "duration": 39,
    "start_time": "2022-04-25T09:47:01.171Z"
   },
   {
    "duration": 27,
    "start_time": "2022-04-25T09:47:01.212Z"
   },
   {
    "duration": 76,
    "start_time": "2022-04-25T09:47:01.241Z"
   },
   {
    "duration": 19,
    "start_time": "2022-04-25T09:47:01.319Z"
   },
   {
    "duration": 25,
    "start_time": "2022-04-25T09:47:01.340Z"
   },
   {
    "duration": 27,
    "start_time": "2022-04-25T09:47:01.367Z"
   },
   {
    "duration": 153,
    "start_time": "2022-04-25T09:47:01.396Z"
   },
   {
    "duration": 15,
    "start_time": "2022-04-25T09:47:01.551Z"
   },
   {
    "duration": 32,
    "start_time": "2022-04-25T09:47:01.568Z"
   },
   {
    "duration": 36,
    "start_time": "2022-04-25T09:47:01.602Z"
   },
   {
    "duration": 26,
    "start_time": "2022-04-25T09:47:01.641Z"
   },
   {
    "duration": 30,
    "start_time": "2022-04-25T09:47:01.669Z"
   },
   {
    "duration": 31,
    "start_time": "2022-04-25T09:47:01.701Z"
   },
   {
    "duration": 24,
    "start_time": "2022-04-25T09:47:01.734Z"
   },
   {
    "duration": 10,
    "start_time": "2022-04-25T09:47:01.760Z"
   },
   {
    "duration": 25,
    "start_time": "2022-04-25T09:47:01.772Z"
   },
   {
    "duration": 22,
    "start_time": "2022-04-25T09:47:01.798Z"
   },
   {
    "duration": 25,
    "start_time": "2022-04-25T09:47:01.822Z"
   },
   {
    "duration": 32,
    "start_time": "2022-04-25T09:47:01.850Z"
   },
   {
    "duration": 26,
    "start_time": "2022-04-25T09:47:01.892Z"
   },
   {
    "duration": 50,
    "start_time": "2022-04-25T09:47:01.921Z"
   },
   {
    "duration": 33,
    "start_time": "2022-04-25T09:47:01.974Z"
   },
   {
    "duration": 49,
    "start_time": "2022-04-25T09:47:02.010Z"
   },
   {
    "duration": 11,
    "start_time": "2022-04-25T09:47:02.062Z"
   },
   {
    "duration": 843,
    "start_time": "2022-04-25T09:47:02.075Z"
   },
   {
    "duration": 9,
    "start_time": "2022-04-25T09:47:02.920Z"
   },
   {
    "duration": 444,
    "start_time": "2022-04-25T09:47:02.931Z"
   },
   {
    "duration": 30,
    "start_time": "2022-04-25T09:47:03.377Z"
   },
   {
    "duration": 11,
    "start_time": "2022-04-25T09:47:03.410Z"
   },
   {
    "duration": 37,
    "start_time": "2022-04-25T09:47:03.423Z"
   },
   {
    "duration": 6,
    "start_time": "2022-04-25T09:47:03.462Z"
   },
   {
    "duration": 26,
    "start_time": "2022-04-25T09:47:03.470Z"
   },
   {
    "duration": 49,
    "start_time": "2022-04-25T09:47:03.498Z"
   },
   {
    "duration": 64,
    "start_time": "2022-04-25T09:47:03.549Z"
   },
   {
    "duration": 39,
    "start_time": "2022-04-25T09:47:03.615Z"
   },
   {
    "duration": 70,
    "start_time": "2022-04-25T09:47:03.657Z"
   },
   {
    "duration": 77,
    "start_time": "2022-04-25T09:47:03.730Z"
   },
   {
    "duration": 553,
    "start_time": "2022-04-25T09:47:03.810Z"
   },
   {
    "duration": 28,
    "start_time": "2022-04-25T09:47:04.366Z"
   },
   {
    "duration": 62,
    "start_time": "2022-04-25T09:47:04.396Z"
   },
   {
    "duration": 549,
    "start_time": "2022-04-25T09:47:04.461Z"
   },
   {
    "duration": 16,
    "start_time": "2022-04-25T09:47:05.012Z"
   },
   {
    "duration": 73,
    "start_time": "2022-04-25T09:47:05.031Z"
   },
   {
    "duration": 448,
    "start_time": "2022-04-25T09:47:05.106Z"
   },
   {
    "duration": 16,
    "start_time": "2022-04-25T09:47:05.563Z"
   },
   {
    "duration": 19,
    "start_time": "2022-04-25T09:47:05.593Z"
   },
   {
    "duration": 13,
    "start_time": "2022-04-25T09:47:05.614Z"
   },
   {
    "duration": 11,
    "start_time": "2022-04-25T09:47:05.629Z"
   },
   {
    "duration": 16,
    "start_time": "2022-04-25T09:47:05.642Z"
   },
   {
    "duration": 179,
    "start_time": "2022-04-25T09:47:05.660Z"
   },
   {
    "duration": 0,
    "start_time": "2022-04-25T09:47:05.841Z"
   },
   {
    "duration": 0,
    "start_time": "2022-04-25T09:47:05.843Z"
   },
   {
    "duration": 0,
    "start_time": "2022-04-25T09:47:05.845Z"
   },
   {
    "duration": 0,
    "start_time": "2022-04-25T09:47:05.847Z"
   },
   {
    "duration": 0,
    "start_time": "2022-04-25T09:47:05.849Z"
   },
   {
    "duration": 0,
    "start_time": "2022-04-25T09:47:05.850Z"
   },
   {
    "duration": 0,
    "start_time": "2022-04-25T09:47:05.852Z"
   },
   {
    "duration": 0,
    "start_time": "2022-04-25T09:47:05.853Z"
   },
   {
    "duration": 0,
    "start_time": "2022-04-25T09:47:05.855Z"
   },
   {
    "duration": 0,
    "start_time": "2022-04-25T09:47:05.856Z"
   },
   {
    "duration": 0,
    "start_time": "2022-04-25T09:47:05.858Z"
   },
   {
    "duration": 0,
    "start_time": "2022-04-25T09:47:05.859Z"
   },
   {
    "duration": 0,
    "start_time": "2022-04-25T09:47:05.860Z"
   },
   {
    "duration": 0,
    "start_time": "2022-04-25T09:47:05.893Z"
   },
   {
    "duration": 0,
    "start_time": "2022-04-25T09:47:05.895Z"
   },
   {
    "duration": 0,
    "start_time": "2022-04-25T09:47:05.897Z"
   },
   {
    "duration": 0,
    "start_time": "2022-04-25T09:47:05.898Z"
   },
   {
    "duration": 0,
    "start_time": "2022-04-25T09:47:05.899Z"
   },
   {
    "duration": 0,
    "start_time": "2022-04-25T09:47:05.901Z"
   },
   {
    "duration": 0,
    "start_time": "2022-04-25T09:47:05.902Z"
   },
   {
    "duration": 0,
    "start_time": "2022-04-25T09:47:05.904Z"
   },
   {
    "duration": 0,
    "start_time": "2022-04-25T09:47:05.905Z"
   },
   {
    "duration": 0,
    "start_time": "2022-04-25T09:47:05.906Z"
   },
   {
    "duration": 0,
    "start_time": "2022-04-25T09:47:05.908Z"
   },
   {
    "duration": 0,
    "start_time": "2022-04-25T09:47:05.909Z"
   },
   {
    "duration": 0,
    "start_time": "2022-04-25T09:47:05.910Z"
   },
   {
    "duration": 0,
    "start_time": "2022-04-25T09:47:05.911Z"
   },
   {
    "duration": 0,
    "start_time": "2022-04-25T09:47:05.913Z"
   },
   {
    "duration": 0,
    "start_time": "2022-04-25T09:47:05.914Z"
   },
   {
    "duration": 0,
    "start_time": "2022-04-25T09:47:05.915Z"
   },
   {
    "duration": 0,
    "start_time": "2022-04-25T09:47:05.917Z"
   },
   {
    "duration": 0,
    "start_time": "2022-04-25T09:47:05.919Z"
   },
   {
    "duration": 130,
    "start_time": "2022-04-25T10:35:45.222Z"
   },
   {
    "duration": 12,
    "start_time": "2022-04-25T10:35:48.754Z"
   },
   {
    "duration": 4,
    "start_time": "2022-04-25T10:36:11.935Z"
   },
   {
    "duration": 10,
    "start_time": "2022-04-25T10:36:25.767Z"
   },
   {
    "duration": 140,
    "start_time": "2022-04-25T10:36:53.870Z"
   },
   {
    "duration": 12,
    "start_time": "2022-04-25T10:36:55.835Z"
   },
   {
    "duration": 13,
    "start_time": "2022-04-25T10:37:21.101Z"
   },
   {
    "duration": 14,
    "start_time": "2022-04-25T10:37:23.744Z"
   },
   {
    "duration": 13,
    "start_time": "2022-04-25T10:37:29.226Z"
   },
   {
    "duration": 12,
    "start_time": "2022-04-25T10:37:29.450Z"
   },
   {
    "duration": 14,
    "start_time": "2022-04-25T10:37:30.450Z"
   },
   {
    "duration": 11,
    "start_time": "2022-04-25T10:37:31.233Z"
   },
   {
    "duration": 11,
    "start_time": "2022-04-25T10:37:34.459Z"
   },
   {
    "duration": 16,
    "start_time": "2022-04-25T10:37:35.252Z"
   },
   {
    "duration": 26,
    "start_time": "2022-04-25T10:38:25.953Z"
   },
   {
    "duration": 22,
    "start_time": "2022-04-25T10:38:43.987Z"
   },
   {
    "duration": 17,
    "start_time": "2022-04-25T10:44:30.778Z"
   },
   {
    "duration": 11,
    "start_time": "2022-04-25T10:44:34.250Z"
   },
   {
    "duration": 25,
    "start_time": "2022-04-25T10:44:35.859Z"
   },
   {
    "duration": 4,
    "start_time": "2022-04-25T10:45:04.373Z"
   },
   {
    "duration": 15,
    "start_time": "2022-04-25T10:45:08.724Z"
   },
   {
    "duration": 251,
    "start_time": "2022-04-25T10:46:11.254Z"
   },
   {
    "duration": 11,
    "start_time": "2022-04-25T10:46:22.645Z"
   },
   {
    "duration": 23,
    "start_time": "2022-04-25T12:31:43.526Z"
   },
   {
    "duration": 14,
    "start_time": "2022-04-25T12:32:11.769Z"
   },
   {
    "duration": 3,
    "start_time": "2022-04-25T12:45:05.202Z"
   },
   {
    "duration": 218,
    "start_time": "2022-04-25T12:46:05.558Z"
   },
   {
    "duration": 25,
    "start_time": "2022-04-25T13:17:41.044Z"
   },
   {
    "duration": 19,
    "start_time": "2022-04-25T13:17:46.367Z"
   },
   {
    "duration": 5,
    "start_time": "2022-04-25T13:19:35.701Z"
   },
   {
    "duration": 30,
    "start_time": "2022-04-25T13:19:37.313Z"
   },
   {
    "duration": 28,
    "start_time": "2022-04-25T13:19:52.317Z"
   },
   {
    "duration": 208,
    "start_time": "2022-04-25T13:47:52.792Z"
   },
   {
    "duration": 210,
    "start_time": "2022-04-25T13:50:26.411Z"
   },
   {
    "duration": 214,
    "start_time": "2022-04-25T13:59:11.291Z"
   },
   {
    "duration": 195,
    "start_time": "2022-04-25T14:00:49.626Z"
   },
   {
    "duration": 18,
    "start_time": "2022-04-25T14:02:47.961Z"
   },
   {
    "duration": 13,
    "start_time": "2022-04-25T14:03:23.789Z"
   },
   {
    "duration": 3383,
    "start_time": "2022-04-25T14:03:29.297Z"
   },
   {
    "duration": 342,
    "start_time": "2022-04-25T14:04:30.675Z"
   }
  ],
  "kernelspec": {
   "display_name": "Python 3 (ipykernel)",
   "language": "python",
   "name": "python3"
  },
  "language_info": {
   "codemirror_mode": {
    "name": "ipython",
    "version": 3
   },
   "file_extension": ".py",
   "mimetype": "text/x-python",
   "name": "python",
   "nbconvert_exporter": "python",
   "pygments_lexer": "ipython3",
   "version": "3.9.5"
  },
  "toc": {
   "base_numbering": 1,
   "nav_menu": {},
   "number_sections": true,
   "sideBar": true,
   "skip_h1_title": true,
   "title_cell": "Table of Contents",
   "title_sidebar": "Contents",
   "toc_cell": false,
   "toc_position": {},
   "toc_section_display": true,
   "toc_window_display": false
  }
 },
 "nbformat": 4,
 "nbformat_minor": 5
}
